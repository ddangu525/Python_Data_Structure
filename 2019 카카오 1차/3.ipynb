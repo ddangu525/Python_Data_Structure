{
 "cells": [
  {
   "cell_type": "markdown",
   "metadata": {},
   "source": [
    "고고학자인 튜브는 고대 유적지에서 보물과 유적이 가득할 것으로 추정되는 비밀의 문을 발견하였습니다.  \n",
    "그런데 문을 열려고 살펴보니 특이한 형태의 자물쇠로 잠겨 있었고 문 앞에는 특이한 형태의 열쇠와 함께 자물쇠를 푸는 방법에 대해 다음과 같이 설명해 주는 종이가 발견되었습니다.  \n",
    "  \n",
    "잠겨있는 자물쇠는 격자 한 칸의 크기가 1 x 1인 N x N 크기의 정사각 격자 형태이고 특이한 모양의 열쇠는 M x M 크기인 정사각 격자 형태로 되어 있습니다.  \n",
    "  \n",
    "자물쇠에는 홈이 파여 있고 열쇠 또한 홈과 돌기 부분이 있습니다.  \n",
    "열쇠는 회전과 이동이 가능하며 열쇠의 돌기 부분을 자물쇠의 홈 부분에 딱 맞게 채우면 자물쇠가 열리게 되는 구조입니다.  \n",
    "자물쇠 영역을 벗어난 부분에 있는 열쇠의 홈과 돌기는 자물쇠를 여는 데 영향을 주지 않지만, 자물쇠 영역 내에서는 열쇠의 돌기 부분과 자물쇠의 홈 부분이 정확히 일치해야 하며 열쇠의 돌기와 자물쇠의 돌기가 만나서는 안됩니다.  \n",
    "또한 자물쇠의 모든 홈을 채워 비어있는 곳이 없어야 자물쇠를 열 수 있습니다.  \n",
    "  \n",
    "열쇠를 나타내는 2차원 배열 key와 자물쇠를 나타내는 2차원 배열 lock이 매개변수로 주어질 때,  \n",
    "열쇠로 자물쇠를 열수 있으면 true를, 열 수 없으면 false를 return 하도록 solution 함수를 완성해주세요.  \n",
    "  \n",
    "#### 제한사항  \n",
    "key는 M x M(3 ≤ M ≤ 20, M은 자연수)크기 2차원 배열입니다.   \n",
    "lock은 N x N(3 ≤ N ≤ 20, N은 자연수)크기 2차원 배열입니다.   \n",
    "M은 항상 N 이하입니다.  \n",
    "key와 lock의 원소는 0 또는 1로 이루어져 있습니다.  \n",
    "0은 홈 부분, 1은 돌기 부분을 나타냅니다.  \n",
    "  \n",
    "입출력 예  \n",
    "```\n",
    "key                                                       lock              result\n",
    "[[0, 0, 0], [1, 0, 0], [0, 1, 1]]\t[[1, 1, 1], [1, 1, 0], [1, 0, 1]]\t     true\n",
    "```\n",
    "입출력 예에 대한 설명\n",
    "<img src=\"https://grepp-programmers.s3.amazonaws.com/files/production/469703690b/79f2f473-5d13-47b9-96e0-a10e17b7d49a.jpg\" width=\"300\">\n",
    "key를 시계 방향으로 90도 회전하고, 오른쪽으로 한 칸, 아래로 한 칸 이동하면 lock의 홈 부분을 정확히 모두 채울 수 있습니다."
   ]
  },
  {
   "cell_type": "markdown",
   "metadata": {},
   "source": [
    "#### --------------------------------------------------------------------------------------------------------------------------------------------------------"
   ]
  },
  {
   "cell_type": "markdown",
   "metadata": {},
   "source": [
    "lock의 제일 왼쪽 위랑 key 제일 오른쪽 아래가 한 칸 겹칠때부터 순차적으로 돌면서 4번씩 비교.  \n",
    "일단 lock에 있는 홈을 덮을 수 있는 부분이어야 함..  \n",
    "크기가 20이라 그냥 무식하게 완탐 해보자 일단."
   ]
  },
  {
   "cell_type": "code",
   "execution_count": null,
   "metadata": {
    "collapsed": true
   },
   "outputs": [],
   "source": [
    "def solution(key, lock):\n",
    "    M = len(key)\n",
    "    N = len(lock)\n",
    "    # key의 위치...\n",
    "    for y in range(M + N - 1):\n",
    "        for x in range(M + N - 1):\n",
    "            # 자물쇠 검사.\n",
    "            for j in range(N):\n",
    "                for i in range(N):\n",
    "                    if lock[j][i] + key[][] != 1:\n",
    "                        break\n",
    "                    # 4방향 돌려서..\n",
    "                    for _ in range(4):\n",
    "    answer = True\n",
    "    return answer"
   ]
  },
  {
   "cell_type": "markdown",
   "metadata": {},
   "source": []
  }
 ],
 "metadata": {
  "kernelspec": {
   "display_name": "Python 3",
   "language": "python",
   "name": "python3"
  },
  "language_info": {
   "codemirror_mode": {
    "name": "ipython",
    "version": 3
   },
   "file_extension": ".py",
   "mimetype": "text/x-python",
   "name": "python",
   "nbconvert_exporter": "python",
   "pygments_lexer": "ipython3",
   "version": "3.6.3"
  }
 },
 "nbformat": 4,
 "nbformat_minor": 2
}
