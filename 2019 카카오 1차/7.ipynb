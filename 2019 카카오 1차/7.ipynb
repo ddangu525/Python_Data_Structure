{
 "cells": [
  {
   "cell_type": "markdown",
   "metadata": {},
   "source": [
    "로봇개발자 무지는 한 달 앞으로 다가온 카카오배 로봇경진대회에 출품할 로봇을 준비하고 있습니다.  \n",
    "준비 중인 로봇은 2 x 1 크기의 로봇으로 무지는 0과 1로 이루어진 N x N 크기의 지도에서  \n",
    "2 x 1 크기인 로봇을 움직여 (N, N) 위치까지 이동 할 수 있도록 프로그래밍을 하려고 합니다.  \n",
    "로봇이 이동하는 지도는 가장 왼쪽, 상단의 좌표를 (1, 1)로 하며 지도 내에 표시된 숫자 0은 빈칸을 1은 벽을 나타냅니다.  \n",
    "로봇은 벽이 있는 칸 또는 지도 밖으로는 이동할 수 없습니다.  \n",
    "로봇은 처음에 아래 그림과 같이 좌표 (1, 1) 위치에서 가로방향으로 놓여있는 상태로 시작하며, 앞뒤 구분없이 움직일 수 있습니다.  \n",
    "  \n",
    "<img src=\"https://grepp-programmers.s3.amazonaws.com/files/production/33f5c19ba6/052d3514-5fca-4b85-82aa-0f9eaefae0a3.jpg\" width=\"300\">\n",
    "  \n",
    "로봇이 움직일 때는 현재 놓여있는 상태를 유지하면서 이동합니다.  \n",
    "예를 들어, 위 그림에서 오른쪽으로 한 칸 이동한다면 (1, 2), (1, 3) 두 칸을 차지하게 되며,  \n",
    "아래로 이동한다면 (2, 1), (2, 2) 두 칸을 차지하게 됩니다. 로봇이 차지하는 두 칸 중 어느 한 칸이라도 (N, N) 위치에 도착하면 됩니다.  \n",
    "  \n",
    "로봇은 다음과 같이 조건에 따라 회전이 가능합니다.  \n",
    "  \n",
    "<img src=\"https://grepp-programmers.s3.amazonaws.com/files/production/edfcdf57d3/f87055df-91e5-4f47-b99a-400c54bfdf3a.jpg\" width=\"300\">\n",
    "  \n",
    "위 그림과 같이 로봇은 90도씩 회전할 수 있습니다.  \n",
    "단, 로봇이 차지하는 두 칸 중, 어느 칸이든 축이 될 수 있지만,  \n",
    "회전하는 방향(축이 되는 칸으로부터 대각선 방향에 있는 칸)에는 벽이 없어야 합니다.  \n",
    "로봇이 한 칸 이동하거나 90도 회전하는 데는 걸리는 시간은 정확히 1초 입니다.  \n",
    "  \n",
    "0과 1로 이루어진 지도인 board가 주어질 때, 로봇이 (N, N) 위치까지 이동하는데 필요한 최소 시간을 return 하도록 solution 함수를 완성해주세요.  \n",
    "   \n",
    "#### 제한사항\n",
    "board의 한 변의 길이는 5 이상 100 이하입니다.  \n",
    "board의 원소는 0 또는 1입니다.  \n",
    "로봇이 처음에 놓여 있는 칸 (1, 1), (1, 2)는 항상 0으로 주어집니다.  \n",
    "로봇이 항상 목적지에 도착할 수 있는 경우만 입력으로 주어집니다.  \n",
    "  \n",
    "#### 입출력 예 \n",
    "```\n",
    "board                  result\n",
    "[[0, 0, 0, 1, 1],        7\n",
    " [0, 0, 0, 1, 0],\n",
    " [0, 1, 0, 1, 1],\n",
    " [1, 1, 0, 0, 1],\n",
    " [0, 0, 0, 0, 0]]\n",
    "```\n",
    "입출력 예에 대한 설명  \n",
    "문제에 주어진 예시와 같습니다.  \n",
    "로봇이 오른쪽으로 한 칸 이동 후, (1, 3) 칸을 축으로 반시계 방향으로 90도 회전합니다.  \n",
    "다시, 아래쪽으로 3칸 이동하면 로봇은 (4, 3), (5, 3) 두 칸을 차지하게 됩니다.  \n",
    "이제 (5, 3)을 축으로 시계 방향으로 90도 회전 후, 오른쪽으로 한 칸 이동하면 (N, N)에 도착합니다.  \n",
    "따라서 목적지에 도달하기까지 최소 7초가 걸립니다.  "
   ]
  },
  {
   "cell_type": "code",
   "execution_count": 5,
   "metadata": {
    "collapsed": true
   },
   "outputs": [],
   "source": [
    "from collections import deque\n",
    "def solution(board):\n",
    "    n = len(board)\n",
    "    q = deque()\n",
    "    q.append((0, 0, 0))    # 0, 0이 시작위치, 가로모양\n",
    "    visit = [[[0, 0] for _ in range(n)] for _ in range(n)]   # x, y를 각각 가로 세로 모양으로 방문했는지 여부..\n",
    "    visit[0][0][0] = 1\n",
    "    t = 0\n",
    "    while q:\n",
    "        for _ in range(len(q)):\n",
    "            x, y, d = q.popleft()\n",
    "            if ((x, y, d) == (n-2, n-1, 0)) or ((x, y, d) == (n-1, n-2, 1)):\n",
    "                return t\n",
    "            # 가로모양.\n",
    "            if d == 0:\n",
    "                # 오른쪽\n",
    "                if x < n - 2 and board[y][x+2] == 0 and not visit[y][x+1][0]:\n",
    "                    q.append((x+1, y, 0))\n",
    "                    visit[y][x+1][0] = 1\n",
    "                # 왼쪽\n",
    "                if x > 0 and board[y][x-1] == 0 and not visit[y][x-1][0]:\n",
    "                    q.append((x-1, y, 0))\n",
    "                    visit[y][x-1][0] = 1\n",
    "                # 위\n",
    "                if y > 0 and board[y-1][x] == 0 and board[y-1][x+1] == 0 and not visit[y-1][x][0]:\n",
    "                    q.append((x, y-1, 0))\n",
    "                    visit[y-1][x][0] = 1\n",
    "                # 아래\n",
    "                if y < n - 1 and board[y+1][x] == 0 and board[y+1][x+1] == 0 and not visit[y+1][x][0]:\n",
    "                    q.append((x, y+1, 0))\n",
    "                    visit[y+1][x][0] = 1\n",
    "                # 오른쪽 아래로 회전\n",
    "                if y < n - 1 and board[y+1][x] == 0 and board[y+1][x+1] == 0 and not visit[y][x+1][1]:\n",
    "                    q.append((x+1, y, 1))\n",
    "                    visit[y][x+1][1] = 1\n",
    "                # 오른쪽 위로 회전\n",
    "                if y > 0 and board[y-1][x] == 0 and board[y-1][x+1] == 0 and not visit[y-1][x+1][1]:\n",
    "                    q.append((x+1, y-1, 1))\n",
    "                    visit[y-1][x+1][1] = 1\n",
    "                # 왼쪽 아래로 회전\n",
    "                if y < n - 1 and board[y+1][x] == 0 and board[y+1][x+1] == 0 and not visit[y][x][1]:\n",
    "                    q.append((x, y, 1))\n",
    "                    visit[y][x][1] = 1\n",
    "                # 왼쪽 위로 회전\n",
    "                if y > 0 and board[y-1][x] == 0 and board[y-1][x+1] == 0 and not visit[y-1][x][1]:\n",
    "                    q.append((x, y-1, 1))\n",
    "                    visit[y-1][x][1] = 1\n",
    "            \n",
    "            # 세로모양\n",
    "            else:\n",
    "                # 오른쪽\n",
    "                if x < n - 1 and board[y][x+1] == 0 and board[y+1][x+1] == 0 and not visit[y][x+1][1]:\n",
    "                    q.append((x+1, y, 1))\n",
    "                    visit[y][x+1][1] = 1\n",
    "                # 왼쪽\n",
    "                if x > 0 and board[y][x-1] == 0 and board[y+1][x-1] == 0 and not visit[y][x-1][1]:\n",
    "                    q.append((x-1, y, 1))\n",
    "                    visit[y][x-1][1] = 1\n",
    "                # 위\n",
    "                if y > 0 and board[y-1][x] == 0 and not visit[y-1][x][1]:\n",
    "                    q.append((x, y-1, 1))\n",
    "                    visit[y-1][x][1] = 1\n",
    "                # 아래\n",
    "                if y < n - 2 and board[y+2][x] == 0 and not visit[y+1][x][1]:\n",
    "                    q.append((x, y+1, 1))\n",
    "                    visit[y+1][x][1] = 1\n",
    "                # 위 오른쪽으로 회전\n",
    "                if x < n - 1 and board[y][x+1] == 0 and board[y+1][x+1] == 0 and not visit[y][x][0]:\n",
    "                    q.append((x, y, 0))\n",
    "                    visit[y][x][0] = 1\n",
    "                # 위 왼쪽으로 회전\n",
    "                if x > 0 and board[y][x-1] == 0 and board[y+1][x-1] == 0 and not visit[y][x-1][0]:\n",
    "                    q.append((x-1, y, 0))\n",
    "                    visit[y][x-1][0] = 1\n",
    "                # 아래 오른쪽으로 회전\n",
    "                if x < n - 1 and board[y][x+1] == 0 and board[y+1][x+1] == 0 and not visit[y+1][x][0]:\n",
    "                    q.append((x, y+1, 0))\n",
    "                    visit[y+1][x][0] = 1\n",
    "                # 아래 왼쪽으로 회전\n",
    "                if x > 0 and board[y][x-1] == 0 and board[y+1][x-1] == 0 and not visit[y+1][x-1][0]:\n",
    "                    q.append((x-1, y+1, 0))\n",
    "                    visit[y+1][x-1][0] = 1\n",
    "        t += 1"
   ]
  },
  {
   "cell_type": "code",
   "execution_count": 6,
   "metadata": {},
   "outputs": [
    {
     "data": {
      "text/plain": [
       "7"
      ]
     },
     "execution_count": 6,
     "metadata": {},
     "output_type": "execute_result"
    }
   ],
   "source": [
    "solution([[0, 0, 0, 1, 1],[0, 0, 0, 1, 0],[0, 1, 0, 1, 1],[1, 1, 0, 0, 1],[0, 0, 0, 0, 0]])"
   ]
  },
  {
   "cell_type": "markdown",
   "metadata": {},
   "source": [
    "다행......"
   ]
  },
  {
   "cell_type": "code",
   "execution_count": null,
   "metadata": {
    "collapsed": true
   },
   "outputs": [],
   "source": []
  }
 ],
 "metadata": {
  "kernelspec": {
   "display_name": "Python 3",
   "language": "python",
   "name": "python3"
  },
  "language_info": {
   "codemirror_mode": {
    "name": "ipython",
    "version": 3
   },
   "file_extension": ".py",
   "mimetype": "text/x-python",
   "name": "python",
   "nbconvert_exporter": "python",
   "pygments_lexer": "ipython3",
   "version": "3.6.3"
  }
 },
 "nbformat": 4,
 "nbformat_minor": 2
}
