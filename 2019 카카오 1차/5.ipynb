{
 "cells": [
  {
   "cell_type": "markdown",
   "metadata": {},
   "source": [
    "빙하가 깨지면서 스노우타운에 떠내려 온 죠르디는 인생 2막을 위해 주택 건축사업에 뛰어들기로 결심하였습니다.  \n",
    "죠르디는 기둥과 보를 이용하여 벽면 구조물을 자동으로 세우는 로봇을 개발할 계획인데,  \n",
    "그에 앞서 로봇의 동작을 시뮬레이션 할 수 있는 프로그램을 만들고 있습니다.  \n",
    "프로그램은 2차원 가상 벽면에 기둥과 보를 이용한 구조물을 설치할 수 있는데,  \n",
    "기둥과 보는 길이가 1인 선분으로 표현되며 다음과 같은 규칙을 가지고 있습니다.  \n",
    "  \n",
    "1. 기둥은 바닥 위에 있거나 보의 한쪽 끝 부분 위에 있거나, 또는 다른 기둥 위에 있어야 합니다.  \n",
    "2. 보는 한쪽 끝 부분이 기둥 위에 있거나, 또는 양쪽 끝 부분이 다른 보와 동시에 연결되어 있어야 합니다.   \n",
    "  \n",
    "단, 바닥은 벽면의 맨 아래 지면을 말합니다.  \n",
    "  \n",
    "2차원 벽면은 n x n 크기 정사각 격자 형태이며, 각 격자는 1 x 1 크기입니다. 맨 처음 벽면은 비어있는 상태입니다.  \n",
    "기둥과 보는 격자선의 교차점에 걸치지 않고, 격자 칸의 각 변에 정확히 일치하도록 설치할 수 있습니다.  \n",
    "다음은 기둥과 보를 설치해 구조물을 만든 예시입니다.  \n",
    "  \n",
    "<img src=\"https://grepp-programmers.s3.amazonaws.com/files/production/c453630fa0/834b86e5-6fd0-4d3c-8023-7f853ea4301f.jpg\" width=\"300\">\n",
    "  \n",
    "예를 들어, 위 그림은 다음 순서에 따라 구조물을 만들었습니다.  \n",
    "  \n",
    "(1, 0)에서 위쪽으로 기둥을 하나 설치 후, (1, 1)에서 오른쪽으로 보를 하나 만듭니다.  \n",
    "(2, 1)에서 위쪽으로 기둥을 하나 설치 후, (2, 2)에서 오른쪽으로 보를 하나 만듭니다.  \n",
    "(5, 0)에서 위쪽으로 기둥을 하나 설치 후, (5, 1)에서 위쪽으로 기둥을 하나 더 설치합니다.  \n",
    "(4, 2)에서 오른쪽으로 보를 설치 후, (3, 2)에서 오른쪽으로 보를 설치합니다.  \n",
    "만약 (4, 2)에서 오른쪽으로 보를 먼저 설치하지 않고, (3, 2)에서 오른쪽으로 보를 설치하려 한다면 2번 규칙에 맞지 않으므로 설치가 되지 않습니다.  \n",
    "기둥과 보를 삭제하는 기능도 있는데 기둥과 보를 삭제한 후에 남은 기둥과 보들 또한 위 규칙을 만족해야 합니다.  \n",
    "만약, 작업을 수행한 결과가 조건을 만족하지 않는다면 해당 작업은 무시됩니다.  \n",
    "  \n",
    "벽면의 크기 n, 기둥과 보를 설치하거나 삭제하는 작업이 순서대로 담긴 2차원 배열 build_frame이 매개변수로 주어질 때,  \n",
    "모든 명령어를 수행한 후 구조물의 상태를 return 하도록 solution 함수를 완성해주세요.  \n",
    "  \n",
    "#### 제한사항\n",
    "n은 5 이상 100 이하인 자연수입니다.  \n",
    "build_frame의 세로(행) 길이는 1 이상 1,000 이하입니다.  \n",
    "build_frame의 가로(열) 길이는 4입니다.  \n",
    "build_frame의 원소는 [x, y, a, b]형태입니다.  \n",
    "x, y는 기둥, 보를 설치 또는 삭제할 교차점의 좌표이며, [가로 좌표, 세로 좌표] 형태입니다.  \n",
    "a는 설치 또는 삭제할 구조물의 종류를 나타내며, 0은 기둥, 1은 보를 나타냅니다.  \n",
    "b는 구조물을 설치할 지, 혹은 삭제할 지를 나타내며 0은 삭제, 1은 설치를 나타냅니다.  \n",
    "벽면을 벗어나게 기둥, 보를 설치하는 경우는 없습니다.  \n",
    "바닥에 보를 설치 하는 경우는 없습니다.  \n",
    "구조물은 교차점 좌표를 기준으로 보는 오른쪽, 기둥은 위쪽 방향으로 설치 또는 삭제합니다.  \n",
    "구조물이 겹치도록 설치하는 경우와, 없는 구조물을 삭제하는 경우는 입력으로 주어지지 않습니다.  \n",
    "최종 구조물의 상태는 아래 규칙에 맞춰 return 해주세요.  \n",
    "return 하는 배열은 가로(열) 길이가 3인 2차원 배열로, 각 구조물의 좌표를 담고있어야 합니다.  \n",
    "return 하는 배열의 원소는 [x, y, a] 형식입니다.  \n",
    "x, y는 기둥, 보의 교차점 좌표이며, [가로 좌표, 세로 좌표] 형태입니다.  \n",
    "기둥, 보는 교차점 좌표를 기준으로 오른쪽, 또는 위쪽 방향으로 설치되어 있음을 나타냅니다.  \n",
    "a는 구조물의 종류를 나타내며, 0은 기둥, 1은 보를 나타냅니다.  \n",
    "return 하는 배열은 x좌표 기준으로 오름차순 정렬하며, x좌표가 같을 경우 y좌표 기준으로 오름차순 정렬해주세요.  \n",
    "x, y좌표가 모두 같은 경우 기둥이 보보다 앞에 오면 됩니다.  \n",
    "  \n",
    "#### 입출력 예\n",
    "```\n",
    "n        build_frame               result\n",
    "5       [[1,0,0,1],               [[1,0,0],\n",
    "         [1,1,1,1],                [1,1,1],\n",
    "         [2,1,0,1],                [2,1,0],\n",
    "         [2,2,1,1],                [2,2,1],\n",
    "         [5,0,0,1],                [3,2,1],\n",
    "         [5,1,0,1],                [4,2,1],\n",
    "         [4,2,1,1],                [5,0,0],\n",
    "         [3,2,1,1]]                [5,1,0]]\n",
    "         \n",
    "5        [[0,0,0,1],              [[0,0,0],\n",
    "          [2,0,0,1],               [0,1,1],\n",
    "          [4,0,0,1],               [1,1,1],\n",
    "          [0,1,1,1],               [2,1,1],\n",
    "          [1,1,1,1],               [3,1,1],\n",
    "          [2,1,1,1],               [4,0,0]]\n",
    "          [3,1,1,1],\n",
    "          [2,0,0,0],\n",
    "          [1,1,1,0],\n",
    "          [2,2,0,1]]\t\n",
    "```\n",
    "입출력 예에 대한 설명  \n",
    "입출력 예 #1  \n",
    "  \n",
    "문제의 예시와 같습니다.  \n",
    "  \n",
    "입출력 예 #2  \n",
    "  \n",
    "여덟 번째 작업을 수행 후 아래와 같은 구조물 만들어집니다.  \n",
    "  \n",
    "<img src=\"https://grepp-programmers.s3.amazonaws.com/files/production/e62b852aba/ff82828f-5d2c-43af-b734-2752a776a234.jpg\" width=\"300\">\n",
    "  \n",
    "아홉 번째 작업의 경우, (1, 1)에서 오른쪽에 있는 보를 삭제하면 (2, 1)에서 오른쪽에 있는 보는 조건을 만족하지 않으므로 무시됩니다.  \n",
    "  \n",
    "열 번째 작업의 경우, (2, 2)에서 위쪽 방향으로 기둥을 세울 경우 조건을 만족하지 않으므로 무시됩니다.  "
   ]
  },
  {
   "cell_type": "code",
   "execution_count": 49,
   "metadata": {
    "collapsed": true
   },
   "outputs": [],
   "source": [
    "dx = -1, 0, 1, -1, 0, 1, -1, 0, 1\n",
    "dy = -1, -1, -1, 0, 0, 0, 1, 1, 1\n",
    "\n",
    "# 한쪽 끝 부분이 기둥 위에 있거나, 양쪽 끝 부분이 다른 보와 동시에 연결되면 가능\n",
    "def check_beam(board, x, y):\n",
    "    return board[x][y-1][0] or board[x+1][y-1][0] or (board[x-1][y][1] and board[x+1][y][1])\n",
    "\n",
    "# 바닥이거나, 보의 한쪽 끝 위거나 다른 기둥 위면 가능\n",
    "def check_col(board, x, y):\n",
    "    return y == 0 or board[x][y-1][0] or board[x][y][1] or board[x-1][y][1]\n",
    "\n",
    "def solution(n, build_frame):\n",
    "    board = [[[0, 0] for _ in range(n+2)] for _ in range(n+2)]   # 해당 좌표에 기둥과 보의 존재 유무를 저장.\n",
    "    for x, y, a, b in build_frame:\n",
    "        # 보 \n",
    "        if a:\n",
    "            # 설치\n",
    "            if b:\n",
    "                if check_beam(board, x, y):\n",
    "                    board[x][y][1] = 1\n",
    "            # 삭제\n",
    "            else:\n",
    "                # 삭제해보고 안되면 되돌리기.\n",
    "                board[x][y][1] = 0\n",
    "                # 조건 위배되면 안됨... 인접한 보, 기둥 검사.\n",
    "                for d in range(9):\n",
    "                    nx, ny = x + dx[d], y + dy[d]\n",
    "                    if nx >= 0 and ny >= 0:\n",
    "                        if board[nx][ny][0] == 1:\n",
    "                            if not check_col(board, nx, ny):\n",
    "                                board[x][y][1] = 1\n",
    "                                break\n",
    "                        if board[nx][ny][1] == 1:\n",
    "                            if not check_beam(board, nx, ny):\n",
    "                                board[x][y][1] = 1\n",
    "                                break\n",
    "            \n",
    "        # 기둥\n",
    "        else:\n",
    "            # 설치\n",
    "            if b:\n",
    "                if check_col(board, x, y):\n",
    "                    board[x][y][0] = 1\n",
    "            # 삭제\n",
    "            else:\n",
    "                # 삭제해보고 안되면 되돌리기.\n",
    "                board[x][y][0] = 0\n",
    "                # 조건 위배되면 안됨... 인접한 보, 기둥 검사.\n",
    "                for d in range(9):\n",
    "                    nx, ny = x + dx[d], y + dy[d]\n",
    "                    if nx >= 0 and ny >= 0:\n",
    "                        if board[nx][ny][0] == 1:\n",
    "                            if not check_col(board, nx, ny):\n",
    "                                board[x][y][0] = 1\n",
    "                                break\n",
    "                        if board[nx][ny][1] == 1:\n",
    "                            if not check_beam(board, nx, ny):\n",
    "                                board[x][y][0] = 1\n",
    "                                break\n",
    "    answer = []\n",
    "    for x in range(n+2):\n",
    "        for y in range(n+2):\n",
    "            if board[x][y][0]:\n",
    "                answer.append([x, y, 0])\n",
    "            if board[x][y][1]:\n",
    "                answer.append([x, y, 1])\n",
    "    answer.sort()\n",
    "    for j in range(n+2):\n",
    "        print(board[j])\n",
    "    return answer"
   ]
  },
  {
   "cell_type": "code",
   "execution_count": 50,
   "metadata": {
    "scrolled": true
   },
   "outputs": [
    {
     "name": "stdout",
     "output_type": "stream",
     "text": [
      "[[0, 0], [0, 0], [0, 0], [0, 0], [0, 0], [0, 0], [0, 0]]\n",
      "[[1, 0], [0, 1], [0, 0], [0, 0], [0, 0], [0, 0], [0, 0]]\n",
      "[[0, 0], [1, 0], [0, 1], [0, 0], [0, 0], [0, 0], [0, 0]]\n",
      "[[0, 0], [0, 0], [0, 1], [0, 0], [0, 0], [0, 0], [0, 0]]\n",
      "[[0, 0], [0, 0], [0, 1], [0, 0], [0, 0], [0, 0], [0, 0]]\n",
      "[[1, 0], [1, 0], [0, 0], [0, 0], [0, 0], [0, 0], [0, 0]]\n",
      "[[0, 0], [0, 0], [0, 0], [0, 0], [0, 0], [0, 0], [0, 0]]\n"
     ]
    },
    {
     "data": {
      "text/plain": [
       "[[1, 0, 0],\n",
       " [1, 1, 1],\n",
       " [2, 1, 0],\n",
       " [2, 2, 1],\n",
       " [3, 2, 1],\n",
       " [4, 2, 1],\n",
       " [5, 0, 0],\n",
       " [5, 1, 0]]"
      ]
     },
     "execution_count": 50,
     "metadata": {},
     "output_type": "execute_result"
    }
   ],
   "source": [
    "solution(5, [[1,0,0,1],[1,1,1,1],[2,1,0,1],[2,2,1,1],[5,0,0,1],[5,1,0,1],[4,2,1,1],[3,2,1,1]])"
   ]
  },
  {
   "cell_type": "code",
   "execution_count": 51,
   "metadata": {},
   "outputs": [
    {
     "name": "stdout",
     "output_type": "stream",
     "text": [
      "[[1, 0], [0, 1], [0, 0], [0, 0], [0, 0], [0, 0], [0, 0]]\n",
      "[[0, 0], [0, 1], [0, 0], [0, 0], [0, 0], [0, 0], [0, 0]]\n",
      "[[0, 0], [0, 1], [0, 0], [0, 0], [0, 0], [0, 0], [0, 0]]\n",
      "[[0, 0], [0, 1], [0, 0], [0, 0], [0, 0], [0, 0], [0, 0]]\n",
      "[[1, 0], [0, 0], [0, 0], [0, 0], [0, 0], [0, 0], [0, 0]]\n",
      "[[0, 0], [0, 0], [0, 0], [0, 0], [0, 0], [0, 0], [0, 0]]\n",
      "[[0, 0], [0, 0], [0, 0], [0, 0], [0, 0], [0, 0], [0, 0]]\n"
     ]
    },
    {
     "data": {
      "text/plain": [
       "[[0, 0, 0], [0, 1, 1], [1, 1, 1], [2, 1, 1], [3, 1, 1], [4, 0, 0]]"
      ]
     },
     "execution_count": 51,
     "metadata": {},
     "output_type": "execute_result"
    }
   ],
   "source": [
    "solution(5, [[0,0,0,1],[2,0,0,1],[4,0,0,1],[0,1,1,1],[1,1,1,1],[2,1,1,1],[3,1,1,1],[2,0,0,0],[1,1,1,0],[2,2,0,1]])"
   ]
  },
  {
   "cell_type": "markdown",
   "metadata": {},
   "source": [
    "기둥은 바닥 위에 있거나 보의 한쪽 끝 부분 위에 있거나, 또는 다른 기둥 위에 있어야 합니다.  \n",
    "보는 한쪽 끝 부분이 기둥 위에 있거나, 또는 양쪽 끝 부분이 다른 보와 동시에 연결되어 있어야 합니다.  "
   ]
  },
  {
   "cell_type": "code",
   "execution_count": 2,
   "metadata": {},
   "outputs": [
    {
     "data": {
      "text/plain": [
       "True"
      ]
     },
     "execution_count": 2,
     "metadata": {},
     "output_type": "execute_result"
    }
   ],
   "source": [
    "a = [1, 2, 3, 4]\n",
    "any(a)"
   ]
  },
  {
   "cell_type": "code",
   "execution_count": 3,
   "metadata": {},
   "outputs": [
    {
     "data": {
      "text/plain": [
       "False"
      ]
     },
     "execution_count": 3,
     "metadata": {},
     "output_type": "execute_result"
    }
   ],
   "source": [
    "a = [1,4, 5, 6, 0]\n",
    "all(a)"
   ]
  },
  {
   "cell_type": "code",
   "execution_count": 7,
   "metadata": {},
   "outputs": [
    {
     "data": {
      "text/plain": [
       "[0, 0, 0, 0, 0, 0, 0, 0, 0, 0, 0, 0, 0, 0, 0, 0, 0, 0]"
      ]
     },
     "execution_count": 7,
     "metadata": {},
     "output_type": "execute_result"
    }
   ],
   "source": [
    "[0, 0]* 9"
   ]
  },
  {
   "cell_type": "code",
   "execution_count": null,
   "metadata": {
    "collapsed": true
   },
   "outputs": [],
   "source": [
    "dx = -1, 0, 1, -1, 0, 1, -1, 0, 1\n",
    "dy = -1, -1, -1, 0, 0, 0, 1, 1, 1\n",
    "\n",
    "# 한쪽 끝 부분이 기둥 위에 있거나, 양쪽 끝 부분이 다른 보와 동시에 연결되면 가능\n",
    "def check_beam(board, x, y):\n",
    "    return board[x][y-1][0] or board[x+1][y-1][0] or (board[x-1][y][1] and board[x+1][y][1])\n",
    "\n",
    "# 바닥이거나, 보의 한쪽 끝 위거나 다른 기둥 위면 가능\n",
    "def check_col(board, x, y):\n",
    "    return y == 0 or board[x][y-1][0] or board[x][y][1] or board[x-1][y][1]\n",
    "\n",
    "def solution(n, build_frame):\n",
    "    board = [[[0, 0] for _ in range(n+2)] for _ in range(n+2)]   # 해당 좌표에 기둥과 보의 존재 유무를 저장.\n",
    "    for x, y, a, b in build_frame:\n",
    "        # 보 \n",
    "        if a:\n",
    "            # 설치\n",
    "            if b:\n",
    "                if check_beam(board, x, y):\n",
    "                    board[x][y][1] = 1\n",
    "            # 삭제\n",
    "            else:\n",
    "                # 삭제해보고 안되면 되돌리기.\n",
    "                board[x][y][1] = 0\n",
    "                # 조건 위배되면 안됨... 인접한 보, 기둥 검사.\n",
    "                for d in range(9):\n",
    "                    nx, ny = x + dx[d], y + dy[d]\n",
    "                    if nx >= 0 and ny >= 0:\n",
    "                        if board[nx][ny][0] == 1:\n",
    "                            if not check_col(board, nx, ny):\n",
    "                                board[x][y][1] = 1\n",
    "                                break\n",
    "                        if board[nx][ny][1] == 1:\n",
    "                            if not check_beam(board, nx, ny):\n",
    "                                board[x][y][1] = 1\n",
    "                                break\n",
    "            \n",
    "        # 기둥\n",
    "        else:\n",
    "            # 설치\n",
    "            if b:\n",
    "                if check_col(board, x, y):\n",
    "                    board[x][y][0] = 1\n",
    "            # 삭제\n",
    "            else:\n",
    "                # 삭제해보고 안되면 되돌리기.\n",
    "                board[x][y][0] = 0\n",
    "                # 조건 위배되면 안됨... 인접한 보, 기둥 검사.\n",
    "                for d in range(9):\n",
    "                    nx, ny = x + dx[d], y + dy[d]\n",
    "                    if nx >= 0 and ny >= 0:\n",
    "                        if board[nx][ny][0] == 1:\n",
    "                            if not check_col(board, nx, ny):\n",
    "                                board[x][y][0] = 1\n",
    "                                break\n",
    "                        if board[nx][ny][1] == 1:\n",
    "                            if not check_beam(board, nx, ny):\n",
    "                                board[x][y][0] = 1\n",
    "                                break\n",
    "    answer = []\n",
    "    for x in range(n+2):\n",
    "        for y in range(n+2):\n",
    "            if board[x][y][0]:\n",
    "                answer.append([x, y, 0])\n",
    "            if board[x][y][1]:\n",
    "                answer.append([x, y, 1])\n",
    "    answer.sort()\n",
    "    return answer"
   ]
  },
  {
   "cell_type": "markdown",
   "metadata": {},
   "source": [
    "풀었다.. 진짜 집중력 노답이네.."
   ]
  },
  {
   "cell_type": "code",
   "execution_count": null,
   "metadata": {
    "collapsed": true
   },
   "outputs": [],
   "source": []
  }
 ],
 "metadata": {
  "kernelspec": {
   "display_name": "Python 3",
   "language": "python",
   "name": "python3"
  },
  "language_info": {
   "codemirror_mode": {
    "name": "ipython",
    "version": 3
   },
   "file_extension": ".py",
   "mimetype": "text/x-python",
   "name": "python",
   "nbconvert_exporter": "python",
   "pygments_lexer": "ipython3",
   "version": "3.6.3"
  }
 },
 "nbformat": 4,
 "nbformat_minor": 2
}
