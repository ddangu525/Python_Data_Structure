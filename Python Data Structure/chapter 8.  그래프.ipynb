{
 "cells": [
  {
   "cell_type": "markdown",
   "metadata": {},
   "source": [
    "그래프는 인터넷, 도로, 운송, 전력, 상하수도망, 신경망, 화학성분 결합, 단백질 네트워크, 금융 네트워크, 소셜네트워크 분석 등의 광범위한 분야에서 활용된다.   \n",
    "먼저 용어에 대해 이해하고, DFS, BFS라는 그래프 기본 연산, 연경성분을 찾는 방법과 위상정렬에 대해 공부한다.  \n",
    "또 이중 연결성분과 강 연결성분에 대해 알아본다.   \n",
    "마지막으로 주어진 가중치 그래프에서 최소신장트리(Minimum Spanning Tree)를 찾기 위한 알고리즘들과 최단경로를 찾는 알고리즘을 알아본다.   "
   ]
  },
  {
   "cell_type": "markdown",
   "metadata": {},
   "source": [
    "## 1. 그래프\n",
    "### 1.1 그래프 용어\n",
    "그래프는 **정점(Vertex)**과 **간선(Edge)**의 집합으로 하나의 간선은 두 개의 정점을 연결한다.  \n",
    "그래프는 G = (V, E)로 표현하는데, V는 정점의 집합이고, E는 간선의 집합이다.  \n",
    "간선에 방향이 있는 그래프를 **방향 그래프(Directed Graph)**라 하고, 간선에 방향이 없는 그래프를 **무방향 그래프(Undirected Graph)**라 한다.  "
   ]
  },
  {
   "cell_type": "markdown",
   "metadata": {},
   "source": [
    "정점 a와 b를 연결하는 간선을 (a, b)로 표현하고, 간선의 방향이 있는 경우에는 방향이 없는 간선과 구별하기 위해 <a, b>로 표현.  \n",
    "- **차수(Degree)**: 정점 a에 인접한(간선으로 연결된) 정점의 수\n",
    "    - 방향 그래프에서는 차수를 **진입 차수(In-degree)**와 **진출 차수(Out-degree)**로 구분.  \n",
    "- **경로(Path)**: 시작 정점 u부터 도착점 v까지의 정점들을 나열하여 표현한다.  \n",
    "    - **단순 경로(Simple Path)**: 경로 상의 정점들이 모두 다른 경로\n",
    "    - 일반적인 경로는 한 정점을 중복 방문할 수 있다.\n",
    "- **싸이클(Cycle)**: 시작 정점과 도착점이 동일한 단순 경로\n",
    "- **연결성분(Connected Component)**: 어떤 그래프의 어떤 정점들이 서로 연결되어 있지 않은 경우, 정점들이 서로 연결되어 있는 부분\n",
    "- **가중치(Weighted) 그래프**: 간선에 가중치가 부여된 그래프\n",
    "    - 가중치는 실제 두 정점 사이의 거리가 될 수도 잇고, 간선을 지나는 데 소요되는 시간이 될 수도 있다.\n",
    "    - 경우에 따라 음수 가중치도 존재\n",
    "- **부분그래프(Subgraph)**: 주어진 그래프의 정점과 간선의 일부분(부분 집합)으로 이루어진 그래프.\n",
    "    - 원래 그래프에 없는 정점이나 간선을 포함하지 않는다.\n",
    "    - 싸이클이 없는 그래프를 **트리(Tree)**라고 한다.\n",
    "        - **신장트리(Spanning Tree)**: 그래프의 모든 정점들을 싸이클 없이 연결하는 부분그래프"
   ]
  },
  {
   "cell_type": "markdown",
   "metadata": {},
   "source": [
    "### 1.2 그래프 자료구조"
   ]
  },
  {
   "cell_type": "markdown",
   "metadata": {},
   "source": [
    "그래프를 자료구조로서 저장하기 위하여 **인접행렬(Adjacency Matrix)**과 **인접리스트(Adjacency List)**가 주로 사용된다.  \n",
    "1. 인접행렬\n",
    "    - N개의 정점을 가진 그랲의 인접행렬은 (2차원 N x N) 리스트에 저장할 수 있다.  \n",
    "    - 인접행렬을 저장할 리스트가 a라면, 정점들을 0, 1, 2, ..., N - 1로 하여, 정점 i와 j 사이에 간선이 없으면 a[i][j] = 0으로,  \n",
    "    - 간선이 있으면 a[i][j] = 1로 표현한다.  \n",
    "    - 가중치 그래프인 경우에는 1 대신 가중치를 저장한다. \n",
    "2. 인접리스트\n",
    "    - 각 정점마다 1개의 단순연결리스트를 이용하여 인접한 각 정점을 노드에 저장한다.\n",
    "    - 파이썬에서는 그냥 리스트..\n",
    "    - `adj = [[1, 2], [0, 2, 3], [0, 1, 3], [1, 2]]` 이런식으로 저장\n",
    "    - 이런 구현은 사실상 인접행렬과 인접리스트를 동시에 반영한 것.\n",
    "        - 간선 (1, 3)은 adj[1][2]로 행렬과 같이 접근,\n",
    "        - adj[1]은 정점 1에 인접한 정점의 리스트로서 마치 단순연결리스트와 같이 순차적으로 접근 가능.\n",
    "3. **희소그래프(Sparse Graph)**: 실세계 그래프..\n",
    "    - 간선 수가 최대 간선 수인 N(N - 1) / 2 보다 훨씬 작음..\n",
    "    - 이 경우를 인접리스트를 사용해야 효율적으로 저장.\n",
    "    - 반대로 간선의 수가 최대 간선 수에 근접한 그래프는 **조밀 그래프(Dense Graph)**라 한다.  "
   ]
  },
  {
   "cell_type": "markdown",
   "metadata": {},
   "source": [
    "## 2. 그래프 탐색\n",
    "### 2. 1 깊이우선탐색(Depth First Search)\n",
    "1. 임의의 정점에서 시작하여 이웃하는 하나의 정점을 방문\n",
    "2. 방금 방문한 정점의 이웃 정점을 방문\n",
    "    - 이웃하는 정점들을 모두 방문한 경우에는 이전 정점으로 돌아가서 탐색을 수행.\n",
    "3. 모든 정점을 방문할때까지 반복.\n",
    "4. 스택 자료구조 이용하여 구현. (혹은 재귀)"
   ]
  },
  {
   "cell_type": "code",
   "execution_count": 5,
   "metadata": {},
   "outputs": [
    {
     "name": "stdout",
     "output_type": "stream",
     "text": [
      "DFS 방문순서\n",
      "0  2  3  9  8  1  4  5  7  6  "
     ]
    }
   ],
   "source": [
    "# 두 연결요소로 구성된 그래프.\n",
    "adj_list = [[2, 1], [3, 0], [3, 0], [9, 8, 2, 1], \n",
    "           [5], [7, 6, 4], [7, 5], [6, 5], [3], [3]]\n",
    "N = len(adj_list)\n",
    "visited = [False] * N    # 방문 체크!\n",
    "\n",
    "def dfs(v):\n",
    "    visited[v] = True\n",
    "    print(v, ' ', end='')    # 정점 v 방문\n",
    "    for w in adj_list[v]:\n",
    "        if not visited[w]:\n",
    "            dfs(w)          # 정점 v에 인접한 정점으로 dfs() 재귀호출\n",
    "\n",
    "print('DFS 방문순서')\n",
    "for i in range(N):\n",
    "    if not visited[i]:\n",
    "        dfs(i)"
   ]
  },
  {
   "cell_type": "markdown",
   "metadata": {},
   "source": [
    "그래프가 하나의 연결성분으로 되어있을 때  DFS를 수행하며 만들어지는 트리를 깊이우선 신장트리(Depth First Spanning Tree)라고 한다.  "
   ]
  },
  {
   "cell_type": "markdown",
   "metadata": {},
   "source": [
    "#### 수행시간\n",
    "DFS의 수행시간은 탐색이 각 정점을 한 번씩 방문하며, 각 간선을 1번씩만 사용하여 탐색하기 때문에 O(N+M)이다.  \n",
    "N은 그래프 정점의 수이고, M은 간선의 수이다. "
   ]
  },
  {
   "cell_type": "markdown",
   "metadata": {},
   "source": [
    "### 2.2 너비우선탐색\n",
    "1. 임의의 정점 s에서 시작하여 s의 이웃하는 모든 정점들을 방문\n",
    "2. 방문한 정점들의 이웃 정점들을 방문.  \n",
    "3. 이진트리에서 레벨순회와 유사. \n",
    "4. 큐 자료구조 이용하여 구현."
   ]
  },
  {
   "cell_type": "code",
   "execution_count": 7,
   "metadata": {},
   "outputs": [
    {
     "name": "stdout",
     "output_type": "stream",
     "text": [
      "BFS 방문 순서:\n",
      "0  2  1  3  9  8  4  5  7  6  "
     ]
    }
   ],
   "source": [
    "adj_list = [[2, 1], [3, 0], [3, 0], [9, 8, 2, 1], \n",
    "           [5], [7, 6, 4], [7, 5], [6, 5], [3], [3]]\n",
    "N = len(adj_list)\n",
    "visited = [False] * N    # 방문 체크!\n",
    "\n",
    "def bfs(i):\n",
    "    from collections import deque\n",
    "    queue = deque()\n",
    "    queue.append(i)\n",
    "    visited[i] = True\n",
    "    while queue:\n",
    "        v = queue.popleft()\n",
    "        print(v, ' ', end='')\n",
    "        for w in adj_list[v]:\n",
    "            if not visited[w]:\n",
    "                visited[w] = True\n",
    "                queue.append(w)\n",
    "                \n",
    "print(\"BFS 방문 순서:\")\n",
    "for i in range(N):\n",
    "    if not visited[i]:\n",
    "        bfs(i)"
   ]
  },
  {
   "cell_type": "markdown",
   "metadata": {},
   "source": [
    "그래프가 하나의 연결성분으로 되어있을 때 BFS를 수행하며 만들어지는 트리를 너비우선 신장트리(Breadth First Sapnning Tree)라고 한다."
   ]
  },
  {
   "cell_type": "markdown",
   "metadata": {},
   "source": [
    "#### 수행시간\n",
    "역시 O(N + M)"
   ]
  },
  {
   "cell_type": "markdown",
   "metadata": {},
   "source": [
    "#### DFS와 BFS로 수행 가능한 그래프 응용\n",
    "\n",
    "|응용|DFS|BFS|\n",
    "|---|---|---|\n",
    "|신장트리, 연결성분, 경로, 싸이클|O|O|\n",
    "|최소 간선을 사용하는 경로|X|O|\n",
    "|위상정렬, 이중연결성분, 강연결성분|O|X|"
   ]
  },
  {
   "cell_type": "markdown",
   "metadata": {},
   "source": [
    "## 3. 기본적인 그래프 알고리즘\n",
    "### 3.1 연결성분 찾기\n",
    "주어진 무방향 그래프에서 DFS나 BFS를 수행하여 연결성분을 찾을 수 있다. "
   ]
  },
  {
   "cell_type": "code",
   "execution_count": 8,
   "metadata": {},
   "outputs": [
    {
     "name": "stdout",
     "output_type": "stream",
     "text": [
      "연결성분 리스트:\n",
      "[[0, 3, 6, 1, 10, 8, 12, 11, 2, 7], [4, 13, 9], [5, 14]]\n"
     ]
    }
   ],
   "source": [
    "adj_list = [[3], [6, 10], [7, 11], [0, 6, 8], [13], [14],\n",
    "           [1, 3, 8, 10, 11], [2, 11], [3, 6, 10, 12],\n",
    "           [13], [1, 6, 8], [2, 6, 7], [8], [4, 9], [5]]\n",
    "N = len(adj_list)\n",
    "\n",
    "CCList = []\n",
    "visited = [False] * N\n",
    "\n",
    "def dfs(v):\n",
    "    visited[v] = True\n",
    "    cc.append(v)\n",
    "    for w in adj_list[v]:\n",
    "        if not visited[w]:\n",
    "            dfs(w)\n",
    "            \n",
    "for i in range(N):\n",
    "    if not visited[i]:\n",
    "        cc = []\n",
    "        dfs(i)\n",
    "        CCList.append(cc)\n",
    "    \n",
    "print('연결성분 리스트:')\n",
    "print(CCList)"
   ]
  },
  {
   "cell_type": "markdown",
   "metadata": {},
   "source": [
    "#### 수행시간\n",
    "각 정점 1번씩, 각 간선도 1번씩만 방문. O(N+M)"
   ]
  },
  {
   "cell_type": "markdown",
   "metadata": {},
   "source": [
    "### 3.2 위상정렬(Topological Sort)\n",
    "- 싸이클이 없는 방향 그래프(Directed Acyclic Graph, DAG)에서 정점들을 선형순서(일렬)로 나열하는 것\n",
    "- 위상정렬 결과는 그래프의 각 간선 <u, v>에 대해 u가 v보다 반드시 앞어 나열되어야 한다.  \n",
    "- 주어진 그래프에 따라 여러 개의 위상정렬이 존재할 수 있다.  \n",
    "- 일반적으로 작업(Task)들 사이에 의존관계가 존재할 때 수행 가능한 작업 순서를 도식화하는 데 위상정렬을 사용한다.  \n",
    "- 위상정렬은 2가지 방법으로 수행할 수 있다.\n",
    "    1. 순방향 방법: 그래프에서 진입 차수가 0인 정점 v로부터 시작하여 v를 출력하고 v를 그래프에서 제거하는 과정을 반복\n",
    "        - 쉽게 이해되는 방법\n",
    "        - 각 정점의 진입 차수를 알기 위해서 인접리스트를 각 정점으로 진입하는 정점들의 인접리스트로 바꾸어야 하는 단점이 있다.  \n",
    "    2. 역방향 방법: 진출 차수가 0인 정점 v를 출력하고 v를 그래프에서 제거하는 과정을 반복하여 얻는 결과를 역순으로.\n",
    "        - 약간 변형된 DFS를 수행하여 출력리스트를 작성한 후 역순으로 만들어 위상정렬 결과를 얻는다. \n",
    "        - 핵심 아이디어: \n",
    "            1. DFS를 수행하며 각 정점 v의 인접한 모든 정점들의 방문이 끝나자마자 v를 리스트에 추가한다. \n",
    "                - v가 추가되기 전에 v에 인접한 모든 정점들이 이미 리스트에 추가되어 있음을 뜻한다.\n",
    "                - 따라서 리스트를 완성하고 역순으로 만들면 위상정렬 결과를 얻을 수 있는 것.\n",
    "            2. 리스트가 완성되면 리스트를 역순으로 만든다.   "
   ]
  },
  {
   "cell_type": "code",
   "execution_count": 10,
   "metadata": {},
   "outputs": [
    {
     "name": "stdout",
     "output_type": "stream",
     "text": [
      "위상정렬:\n",
      "[2, 0, 1, 4, 5, 3, 6, 7, 8]\n"
     ]
    }
   ],
   "source": [
    "adj_list = [[1], [3, 4], [0, 1],\n",
    "           [6], [5], [7], [7], [8], []]\n",
    "N = len(adj_list)\n",
    "visited = [False] * N\n",
    "s = []  # 위상정렬 결과 리스트 초기화\n",
    "\n",
    "def dfs(v):\n",
    "    visited[v] = True\n",
    "    for w in adj_list[v]:\n",
    "        if not visited[w]:\n",
    "            dfs(w)\n",
    "    s.append(v)    # 정점 v의 모든 인접한 정점들을 방문한 후에 정점 v 추가\n",
    "    \n",
    "for i in range(N):\n",
    "    if not visited[i]:\n",
    "        dfs(i)\n",
    "        \n",
    "s.reverse()\n",
    "print('위상정렬:')\n",
    "print(s)"
   ]
  },
  {
   "cell_type": "markdown",
   "metadata": {},
   "source": [
    "#### 수행시간\n",
    "깊이우선탐색 수행시간과 동일한 O(N + M)   \n",
    "리스트를 역순으로 만드는 시간은 O(N)이므로 전체 수행시간은 동일.  "
   ]
  },
  {
   "cell_type": "markdown",
   "metadata": {},
   "source": [
    "#### **이중연결성분(Biconnected Component)**\n",
    "- 무방향그래프의 연결성분에서 임의의 두 정점들 사이에 적어도 2개의 단순경로가 존재하는 연결성분.  \n",
    "- 어느 정점 하나가 삭제되더라도 연결성분 내에서 정점들 사이의 연결이 유지된다. \n",
    "- 통신 네트워크 보안, 전력 공급 네트워크 등에서 네트워크의 견고성(Robustness)을 분석하는 주된 방법.\n",
    "- 일반 연결성분의 정점들 중 하나의 정점을 삭제했을 때, 2개 이상의 연결성분들로 분리된다면 삭제된 정점을 단절 정점(Articulation Point/Cut Point)라 한다. \n",
    "- 한 간선을 제거했을 때 두 개 이상의 연결성분들로 분리된다면 삭제된 간선을 다리 간선(Bridge)라고 한다.  "
   ]
  },
  {
   "cell_type": "markdown",
   "metadata": {},
   "source": [
    "#### 강연결성분(Strongly Connected Component)\n",
    "- 방향 그래프에서 연결성분 내의 임의의 두 정점 u, v에 대해 정점 u에서 v로 가는 경로가 존재하고 동시에 v에서 u로 돌아오는 경로가 존재하는 연결성분.\n",
    "- 강연결성분을 찾는 알고리즘 수행시간은 깊이우선탐색의 수행시간과 동일한 O(N+M)"
   ]
  },
  {
   "cell_type": "markdown",
   "metadata": {},
   "source": [
    "## 4. 최소신장트리(Minimum Spanning Tree, MST)\n",
    "- **하나의 연결성분**으로 이루어진 **무방향 가중치 그래프**에서 간선의 가중치의 합이 최소인 신장트리.  \n",
    "    1. Kruskal, Prim, Sollin 알고리즘이 있다. 모두 Greedy."
   ]
  },
  {
   "cell_type": "markdown",
   "metadata": {},
   "source": [
    "### 4.1 Kruskal 알고리즘\n",
    "1. 간선들을 가중치가 감소하지 않는 순서로 정렬\n",
    "2. 가중치가 가장 작은 간선이 싸이클을 만들지 않으면 트리 간선으로 선택\n",
    "3. 이 과정을 반복하여 N-1개의 간선이 선택되면 알고리즘 종료"
   ]
  },
  {
   "cell_type": "markdown",
   "metadata": {},
   "source": [
    "남아있는 (정렬된) 간선들 중에서 항상 '욕심 내어' 가중치가 가장 작은 간선을 가져옴.  "
   ]
  },
  {
   "cell_type": "markdown",
   "metadata": {},
   "source": [
    "```\n",
    "1) 가중치가 감소하지 않는 순서로 간선 리스트 L을 만든다.\n",
    "2) while 트리의 간선 수 < (N - 1):\n",
    "3)     L에서 가장 작은 가중치를 가진 간선 e를 가져오고, e를 L에서 제거한다.\n",
    "4)     if 간선 e가 T에 추가하여 싸이클을 만들지 않으면:\n",
    "5)         간선 e를 T에 추가.\n",
    "```"
   ]
  },
  {
   "cell_type": "code",
   "execution_count": 3,
   "metadata": {},
   "outputs": [
    {
     "name": "stdout",
     "output_type": "stream",
     "text": [
      "최소신장트리: [(4, 6), (2, 5), (1, 6), (3, 5), (5, 6), (0, 1)]\n",
      "최소신장트리 가중치: 25\n"
     ]
    }
   ],
   "source": [
    "from collections import deque\n",
    "weights = [(0, 1, 9), (0, 2, 10), (1, 3, 10), (1, 4, 5),\n",
    "          (1, 6, 3), (2, 3, 9), (2, 4, 7), (2, 5, 2),\n",
    "          (3, 5, 4), (3, 6, 8), (4, 6, 1), (5, 6, 6)]\n",
    "\n",
    "# weights.sort(key=lambda t: t[2])   # 가중치로 간선 정렬\n",
    "weights = deque(sorted(weights, key=lambda t: t[2]))\n",
    "mst = []\n",
    "N = 7\n",
    "p = []   # 상호 배타적 집합\n",
    "\n",
    "for i in range(N):\n",
    "    p.append(i)       # 각 정점 자신이 집합의 대표(루트)\n",
    "    \n",
    "def find(u):\n",
    "    if u != p[u]:\n",
    "        p[u] = find(p[u])  # 최상단 루트노드 까지 타고 올라감. 연산의 효율을 위해 경로압축.. 나중에 수행되는 find 연산을 빠르게 수행.\n",
    "    return p[u]\n",
    "\n",
    "def union(u, v):\n",
    "    root1 = find(u)\n",
    "    root2 = find(v)\n",
    "    p[root2] = root1   # 임의로 root2가 root1의 부모가 됨\n",
    "    \n",
    "tree_edges = 0\n",
    "mst_cost = 0\n",
    "while True:\n",
    "    if tree_edges == N - 1:\n",
    "        break\n",
    "    u, v, wt = weights.popleft()\n",
    "    if find(u) != find(v):\n",
    "        union(u, v)\n",
    "        mst.append((u, v))\n",
    "        mst_cost += wt\n",
    "        tree_edges += 1\n",
    "\n",
    "print('최소신장트리: ', end='')\n",
    "print(mst)\n",
    "print('최소신장트리 가중치:', mst_cost)"
   ]
  },
  {
   "cell_type": "markdown",
   "metadata": {},
   "source": [
    "추가하려는 간선이 싸이클을 만드는지의 여부는 집합과 관련된 연산인 union(합집합) 연산과 주어진 원소에 대해 어느 집합에 속해 있는지를 찾는 find 연산을 사용.  \n",
    "특히 어느 두 집합도 중복된 원소를 갖지 않는 경우, 이러한 집합들을 **상호 배타적 집합(Disjoint Set)**이라고 한다."
   ]
  },
  {
   "cell_type": "markdown",
   "metadata": {},
   "source": [
    "- **상호 배타적 집합**들은 1차원 리스트로 표현 가능\n",
    "    - 모든 집합들의 원소를 0, 1, 2, ..., N-1로 놓으면 이를 리스트의 인덱스로 활용할 수 있기 때문.\n",
    "    - 각 집합은 루트가 대표하고, 루트의 리스트 원소에는 루트 자신이 저장, 루트가 아닌 노드의 원소에는 부모노드가 저장된다.\n",
    "- union 연산\n",
    "    - 2개의 집합을 하나의 집합으로 만드는 연산. \n",
    "- find 연산\n",
    "    - 인자로 주어지는 x가 속한 집합의 대표 노드, 즉, 루트를 찾는 연산.\n",
    "    - 재귀적으로 `u = p[u]`인 루트가 나올때까지 타고 올라감.. 나중의 연산을 빠르게 하기 위해 **경로압축**을 해준다."
   ]
  },
  {
   "cell_type": "markdown",
   "metadata": {},
   "source": [
    "#### 경로압축(Path Compression)\n",
    "find 연산을 수행하면서 루트까지 올라가는 경로 상의 각 노드의 부모노드를 루트로 갱신하는 것.  \n",
    "당장에는 영향이 없으나 나중에 수행하는 find의 수행시간을 단축시켜준다.  "
   ]
  },
  {
   "cell_type": "markdown",
   "metadata": {},
   "source": [
    "다시 Kruskal 알고리즘 수행방법.\n",
    "1. 남아있는 간선들 중 가장 작은 가중치를 가진 간선 (u, v)를 가져온다.\n",
    "2. find(u), find(v)를 수행하여 \n",
    "    - u와 v가 다른 집합에 속하면 간선 (u, v)가 싸이클을 만들지 않으므로 (u, v)를 트리에 추가.\n",
    "    - 같은 집합에 속하면 간선 (u, v)를 버리고 다음 간선을 가져옴..\n",
    "3. N개 노드에 대해 N-1개의 간선이 선택되면 완료."
   ]
  },
  {
   "cell_type": "markdown",
   "metadata": {},
   "source": [
    "#### 수행시간\n",
    "Kruskal 알고리즘의 수행시간은 간선을 정렬(또는 우선순위큐 삽입, 삭제)하는데 소요되는 시간인 $O(MlogM) = O(MlogN)$과,  \n",
    "트리에 간선을 추가 하려할 때 find와 union을 수행하는 시간인 $O((M+N)logN)$의 합, 즉 $O(MlogN)$이다."
   ]
  },
  {
   "cell_type": "markdown",
   "metadata": {},
   "source": [
    "### 4.2 Prim 알고리즘\n",
    "1. 임의의 시작 정점에서 가장 가까운 정점을 추가하여 간선이 하나의 트리를 만든다.\n",
    "2. 만들어진 트리에 인접한 가장 가까운 정점을 하나씩 추가한다."
   ]
  },
  {
   "cell_type": "markdown",
   "metadata": {},
   "source": [
    "초기에 트리 T는 임의의 정점 s만을 가지며, T에 속하지 않은 각 정점과 T에 있는 정점(들)에 인접한 간선들 중에서 가장 작은 가중치를 가진 간선의 끝점을 찾기 위해 1차원 리스트 D를 사용한다."
   ]
  },
  {
   "cell_type": "markdown",
   "metadata": {},
   "source": [
    "```\n",
    "1) 리트스 D를 무한대로 초기화한다. 단, 임의의 시작 정점 s의 D[s] = 0으로 초기화.\n",
    "2) while T의 정점 수 < N:\n",
    "3)     T에 속하지 않은 각 정점 i에 대해 D[i]가 최소인 정점 min-vertex를 찾아 T에 추가.\n",
    "4)     for T에 속하지 않은 각 정점 w에 대해서: \n",
    "5)         if 간선 (min_vertex, w)의 가중치 < D[w]:\n",
    "6)             D[w] = 간선 (min_vertex, w)의 가중치\n",
    "```"
   ]
  },
  {
   "cell_type": "code",
   "execution_count": 11,
   "metadata": {},
   "outputs": [
    {
     "name": "stdout",
     "output_type": "stream",
     "text": [
      "최소신장트리: (1, 0) (2, 5) (3, 5) (4, 6) (5, 6) (6, 1) \n",
      "최소신장트리 가중치:  25\n"
     ]
    }
   ],
   "source": [
    "import sys\n",
    "N = 7\n",
    "s = 0\n",
    "\n",
    "# 입력 그래프의 인접리스트\n",
    "g = [None] * N\n",
    "g[0] = [(1, 9), (2, 10)]\n",
    "g[1] = [(0, 9), (3, 10), (4, 5), (6, 3)]\n",
    "g[2] = [(0, 10), (3, 9), (4, 7), (5, 2)]\n",
    "g[3] = [(1, 10), (2, 9), (5, 4), (6, 8)]\n",
    "g[4] = [(1, 5), (2, 7), (6, 1)]\n",
    "g[5] = [(2, 2), (3, 4), (6, 6)]\n",
    "g[6] = [(1, 3), (3, 8), (4, 1), (5, 6)]\n",
    "\n",
    "visited = [False] * N\n",
    "D = [sys.maxsize] * N\n",
    "D[s] = 0\n",
    "previous = [None] * N     # 트리 간선 추출을 위해\n",
    "previous[s] = s\n",
    "\n",
    "for k in range(N):\n",
    "    m = -1                           # min_vertex \n",
    "    min_value = sys.maxsize\n",
    "    for j in range(N):\n",
    "        if not visited[j] and D[j] < min_value:\n",
    "            min_value = D[j]\n",
    "            m = j\n",
    "    visited[m] = True\n",
    "    \n",
    "    for w, wt in g[m]:\n",
    "        if not visited[w]:\n",
    "            if wt < D[w]:\n",
    "                D[w] = wt\n",
    "                previous[w] = m\n",
    "                \n",
    "print('최소신장트리: ', end='')\n",
    "mst_cost = 0\n",
    "for i in range(1, N):\n",
    "    print(f'({i}, {previous[i]})', end=' ')\n",
    "    mst_cost += D[i]\n",
    "print('\\n최소신장트리 가중치: ', mst_cost)"
   ]
  },
  {
   "cell_type": "markdown",
   "metadata": {},
   "source": [
    "- previous 리스트: 최소신장트리의 간선을 저장.  \n",
    "    - previous[i] = j라면 간선 (i, j)가 트리의 간선.  \n",
    "- visited, D, previous 선언 및 초기화\n",
    "- N개의 정점을 트리에 추가\n",
    "- 트리에서 가장 가까운 정점 m, 즉 min_vertext를 찾고, min_vertext에 인접하면서 트리에 속하지 않은 정점의 D원소를 갱신"
   ]
  },
  {
   "cell_type": "markdown",
   "metadata": {},
   "source": [
    "#### 수행시간\n",
    "N번의 반복을 통해 min_vertex를 찾고 min_vertex에 인접하면서 트리에 속하지 않은 각 정점에 해당하는 D의 원소 값을 갱신..  \n",
    "min_vertex를 1차원 리스트 D에서 탐색하는 과정에서 O(N)소요,  \n",
    "min_vertex에 인접한 정점들을 검사하여 D의 해당 원소를 갱신하므로 O(N)소요. 총 $O(N^2)$.  \n",
    "  \n",
    "min_vertex 검색에 Heap을 이용하면 각 간선에 대한 D의 원소를 갱신하며 힙 연산을 수행해야 하므로 총 $O(MlogN)$ 소요.  \n",
    "입력그래프가 희소 그래프라면, 예를 들어 M = O(N)이라면, 수행시간이 O(MlogN) = O(NlogN)이 되어 이진힙을 사용하는 것이 매우 효율적."
   ]
  },
  {
   "cell_type": "markdown",
   "metadata": {},
   "source": [
    "**프림 알고리즘 추가내용**  \n",
    "각 간선에 대한 정보를 우선순위 큐에 담아 처리하는 방식으로 구현할 수 있다."
   ]
  },
  {
   "cell_type": "markdown",
   "metadata": {},
   "source": [
    "### 4.3 Sollin 알고리즘(Boruvka 알고리즘)\n",
    "- 각 정점을 독립적인 트리로 간주하고, 각 트리에 연결된 간선들 중 가장 작은 가중치를 가진 간선을 선택\n",
    "- 선택된 간선은 2개의 트리를 하나의 트리로 만든다. \n",
    "- 같은 방법으로 1개의 트리가 남을 때까지 각 트리에서 최소 가중치 간선을 선택하여 연결한다.  \n",
    "- Sollin 알고리즘은 병렬 알고리즘(Parallel Algorithm)으로 구현이 쉽다."
   ]
  },
  {
   "cell_type": "markdown",
   "metadata": {},
   "source": [
    "```\n",
    "1) 각 정점은 독립적인 트리이다.\n",
    "2) repeat\n",
    "3)   각 트리에 닿아 있는 간선들 중에서 가장 작은 가중치를 가진 간선을 선택하여 트리를 합친다.\n",
    "4) until (1개의 트리만 남을 때까지)\n",
    "```"
   ]
  },
  {
   "cell_type": "code",
   "execution_count": 1,
   "metadata": {},
   "outputs": [
    {
     "name": "stdout",
     "output_type": "stream",
     "text": [
      "Edge 0-3 with weight 5 included in MST\n",
      "Edge 0-1 with weight 10 included in MST\n",
      "Edge 2-3 with weight 4 included in MST\n",
      "Weight of MST is 19\n"
     ]
    }
   ],
   "source": [
    "# Boruvka's algorithm to find Minimum Spanning \n",
    "# Tree of a given connected, undirected and weighted graph \n",
    "\n",
    "from collections import defaultdict \n",
    "\n",
    "#Class to represent a graph \n",
    "class Graph: \n",
    "\n",
    "\tdef __init__(self,vertices): \n",
    "\t\tself.V= vertices #No. of vertices \n",
    "\t\tself.graph = [] # default dictionary to store graph \n",
    "\t\t\n",
    "\n",
    "\t# function to add an edge to graph \n",
    "\tdef addEdge(self,u,v,w): \n",
    "\t\tself.graph.append([u,v,w]) \n",
    "\n",
    "\t# A utility function to find set of an element i \n",
    "\t# (uses path compression technique) \n",
    "\tdef find(self, parent, i): \n",
    "\t\tif parent[i] == i: \n",
    "\t\t\treturn i \n",
    "\t\treturn self.find(parent, parent[i]) \n",
    "\n",
    "\t# A function that does union of two sets of x and y \n",
    "\t# (uses union by rank) \n",
    "\tdef union(self, parent, rank, x, y): \n",
    "\t\txroot = self.find(parent, x) \n",
    "\t\tyroot = self.find(parent, y) \n",
    "\n",
    "\t\t# Attach smaller rank tree under root of high rank tree \n",
    "\t\t# (Union by Rank) \n",
    "\t\tif rank[xroot] < rank[yroot]: \n",
    "\t\t\tparent[xroot] = yroot \n",
    "\t\telif rank[xroot] > rank[yroot]: \n",
    "\t\t\tparent[yroot] = xroot \n",
    "\t\t#If ranks are same, then make one as root and increment \n",
    "\t\t# its rank by one \n",
    "\t\telse : \n",
    "\t\t\tparent[yroot] = xroot \n",
    "\t\t\trank[xroot] += 1\n",
    "\n",
    "\t# The main function to construct MST using Kruskal's algorithm \n",
    "\tdef boruvkaMST(self): \n",
    "\t\tparent = []; rank = []; \n",
    "\n",
    "\t\t# An array to store index of the cheapest edge of \n",
    "\t\t# subset. It store [u,v,w] for each component \n",
    "\t\tcheapest =[] \n",
    "\n",
    "\t\t# Initially there are V different trees. \n",
    "\t\t# Finally there will be one tree that will be MST \n",
    "\t\tnumTrees = self.V \n",
    "\t\tMSTweight = 0\n",
    "\n",
    "\t\t# Create V subsets with single elements \n",
    "\t\tfor node in range(self.V): \n",
    "\t\t\tparent.append(node) \n",
    "\t\t\trank.append(0) \n",
    "\t\t\tcheapest =[-1] * self.V \n",
    "\t\n",
    "\t\t# Keep combining components (or sets) until all \n",
    "\t\t# compnentes are not combined into single MST \n",
    "\n",
    "\t\twhile numTrees > 1: \n",
    "\n",
    "\t\t\t# Traverse through all edges and update \n",
    "\t\t\t# cheapest of every component \n",
    "\t\t\tfor i in range(len(self.graph)): \n",
    "\n",
    "\t\t\t\t# Find components (or sets) of two corners \n",
    "\t\t\t\t# of current edge \n",
    "\t\t\t\tu,v,w = self.graph[i] \n",
    "\t\t\t\tset1 = self.find(parent, u) \n",
    "\t\t\t\tset2 = self.find(parent ,v) \n",
    "\n",
    "\t\t\t\t# If two corners of current edge belong to \n",
    "\t\t\t\t# same set, ignore current edge. Else check if \n",
    "\t\t\t\t# current edge is closer to previous \n",
    "\t\t\t\t# cheapest edges of set1 and set2 \n",
    "\t\t\t\tif set1 != set2:\t \n",
    "\t\t\t\t\t\n",
    "\t\t\t\t\tif cheapest[set1] == -1 or cheapest[set1][2] > w : \n",
    "\t\t\t\t\t\tcheapest[set1] = [u,v,w] \n",
    "\n",
    "\t\t\t\t\tif cheapest[set2] == -1 or cheapest[set2][2] > w : \n",
    "\t\t\t\t\t\tcheapest[set2] = [u,v,w] \n",
    "\n",
    "\t\t\t# Consider the above picked cheapest edges and add them \n",
    "\t\t\t# to MST \n",
    "\t\t\tfor node in range(self.V): \n",
    "\n",
    "\t\t\t\t#Check if cheapest for current set exists \n",
    "\t\t\t\tif cheapest[node] != -1: \n",
    "\t\t\t\t\tu,v,w = cheapest[node] \n",
    "\t\t\t\t\tset1 = self.find(parent, u) \n",
    "\t\t\t\t\tset2 = self.find(parent ,v) \n",
    "\n",
    "\t\t\t\t\tif set1 != set2 : \n",
    "\t\t\t\t\t\tMSTweight += w \n",
    "\t\t\t\t\t\tself.union(parent, rank, set1, set2) \n",
    "\t\t\t\t\t\tprint (\"Edge %d-%d with weight %d included in MST\" % (u,v,w)) \n",
    "\t\t\t\t\t\tnumTrees = numTrees - 1\n",
    "\t\t\t#reset cheapest array \n",
    "\t\t\tcheapest =[-1] * self.V \n",
    "\n",
    "\t\tprint (\"Weight of MST is %d\" % MSTweight) \n",
    "\n",
    "g = Graph(4) \n",
    "g.addEdge(0, 1, 10) \n",
    "g.addEdge(0, 2, 6) \n",
    "g.addEdge(0, 3, 5) \n",
    "g.addEdge(1, 3, 15) \n",
    "g.addEdge(2, 3, 4) \n",
    "\n",
    "g.boruvkaMST() \n",
    "\n",
    "#This code is contributed by Neelam Yadav \n"
   ]
  },
  {
   "cell_type": "markdown",
   "metadata": {},
   "source": [
    "#### 수행시간\n",
    "repeat-루프가 예제와 같이 각 쌍의 트리가 서로 연결된 간선을 선택하는 경우 최대 logN번 수행.  \n",
    "루프 내에서는 각 트리가 자신에 닿아 있는 모든 간선들을 검사하여 최소 가중치를 가진 간선을 선택하므로 O(M) 소요.  \n",
    "총 O(MlogN)"
   ]
  },
  {
   "cell_type": "markdown",
   "metadata": {},
   "source": [
    "## 5. 최단경로 알고리즘"
   ]
  },
  {
   "cell_type": "markdown",
   "metadata": {},
   "source": [
    "주어진 가중치 그래프에서 출발점으로부터 도착점까지의 최단경로를 찾는 문제."
   ]
  },
  {
   "cell_type": "markdown",
   "metadata": {},
   "source": [
    "1. Dijkstra 최단경로 알고리즘: 시작점에서 나머지 N-1개의 정점까지의 최단경로\n",
    "2. Floyd-Warshall 알고리즘: 모든 쌍의 정점에 대해 최단경로들을 찾음."
   ]
  },
  {
   "cell_type": "markdown",
   "metadata": {},
   "source": [
    "### 5.1 Dijkstra 알고리즘"
   ]
  },
  {
   "cell_type": "markdown",
   "metadata": {},
   "source": [
    "가장 대표적인 최단경로 알고리즘. Prim MST 알고리즘과 매우 유사하나 두 가지 다른 점이 있다.\n",
    "1. Dijkstra 알고리즘은 출발점이 주어지지만, Prim 알고리즘에서는 임의의 정점에서 시작해도 무방.\n",
    "2. Prim 알고리즘에서는 D[i]에 간선 (i, v)의 가중치가 저장되지만, Dijkstra 알고리즘에서는 D[i]에 출발점으로부터 정점 i까지의 거리(경로의 길이)가 저장."
   ]
  },
  {
   "cell_type": "markdown",
   "metadata": {},
   "source": [
    "다익스트라 알고리즘은 입력 그래프의 가중치가 모두 양수인 경우만 가능.  \n",
    "```\n",
    "1) D를 무한대로 초기화. 단 D[s] = 0으로 초기화\n",
    "2) for k in range(N):\n",
    "3)   방문 안된 각 정점 i에 대해 D[i]가 최소인 정점 min_vertex를 찾고, 방문\n",
    "4)   for min_vertex에 인접한 각 정점 w에 대해서:\n",
    "5)     if w가 방문 안된 정점이면:\n",
    "6)       if D[min_vertext] + 간선(min_vertext, w)의 가중치 < D[w]:\n",
    "7)         D[w] = D[min_vertex] + 간선 (min_vertex, w)의 가중치   # 간선완화\n",
    "8)         previous[w] = min_vertex\n",
    "```"
   ]
  },
  {
   "cell_type": "markdown",
   "metadata": {},
   "source": [
    "**간선완화(Edge Relaxation)**은 min_vertex가 선택된 후 s로부터 min_vertex를 경유하여 정점 w까지의 거리가 현재의 D[w]보다 더 짧으면 D[w]를 짧아진 거리로 갱신하는 것.  "
   ]
  },
  {
   "cell_type": "markdown",
   "metadata": {},
   "source": [
    "핵심 아이디어: min_vertex를 찾아서 방문하고, min_vertex의 방문 안된 인접한 정점들에 대한 간선완화를 수행. 한번 방문된 정점의 D원소 값은 변하지 않는다."
   ]
  },
  {
   "cell_type": "code",
   "execution_count": 6,
   "metadata": {},
   "outputs": [
    {
     "name": "stdout",
     "output_type": "stream",
     "text": [
      "정점 0(으)로부터 최단거리:\n",
      "[0, 0] = 0\n",
      "[0, 1] = 1\n",
      "[0, 2] = 5\n",
      "[0, 3] = 2\n",
      "[0, 4] = 2\n",
      "[0, 5] = 6\n",
      "[0, 6] = 4\n",
      "[0, 7] = 5\n",
      "\n",
      "정점 0(으)로부터의 최단 경로\n",
      "0\n",
      "1 <- 0\n",
      "2 <- 1 <- 0\n",
      "3 <- 0\n",
      "4 <- 1 <- 0\n",
      "5 <- 2 <- 1 <- 0\n",
      "6 <- 4 <- 1 <- 0\n",
      "7 <- 6 <- 4 <- 1 <- 0\n"
     ]
    }
   ],
   "source": [
    "import sys\n",
    "\n",
    "N = 8\n",
    "s = 0\n",
    "g = [None] * N\n",
    "g[0] = [(1, 1), (3, 2)]\n",
    "g[1] = [(0, 1), (2, 4), (3, 3), (4, 1), (5, 6)]\n",
    "g[2] = [(1, 4), (5, 1), (6, 1), (7, 2)]\n",
    "g[3] = [(0, 2), (1, 3), (4, 5)]\n",
    "g[4] = [(1, 1), (3, 5), (6, 2)]\n",
    "g[5] = [(1, 6), (2, 1), (7, 9)]\n",
    "g[6] = [(2, 1), (4, 2), (7, 1)]\n",
    "g[7] = [(2, 2), (5, 9), (6, 1)]\n",
    "\n",
    "visited = [False] * N\n",
    "D = [sys.maxsize] * N\n",
    "D[s] = 0\n",
    "previous = [None] * N\n",
    "previous[s] = s\n",
    "\n",
    "for k in range(N):\n",
    "    m = -1\n",
    "    min_value = sys.maxsize\n",
    "    for j in range(N):\n",
    "        if not visited[j] and D[j] < min_value:\n",
    "            min_value = D[j]\n",
    "            m = j\n",
    "    visited[m] = True\n",
    "    for w, wt in g[m]:\n",
    "        if not visited[w]:\n",
    "            if D[m] + wt < D[w]:\n",
    "                D[w] = D[m] + wt\n",
    "                previous[w] = m\n",
    "\n",
    "print(f'정점 {s}(으)로부터 최단거리:')\n",
    "for i in range(N):\n",
    "    if D[i] == sys.maxsize:\n",
    "        print(f'{s}와(과) {i} 사이에 경로 없음.')\n",
    "    else:\n",
    "        print(f'[{s}, {i}] = {D[i]}')\n",
    "        \n",
    "print(f'\\n정점 {s}(으)로부터의 최단 경로')\n",
    "for i in range(N):\n",
    "    back = i\n",
    "    print(back, end='')\n",
    "    while back != s:\n",
    "        print(' <-', previous[back], end='')\n",
    "        back = previous[back]\n",
    "    print()"
   ]
  },
  {
   "cell_type": "markdown",
   "metadata": {},
   "source": [
    "#### 수행시간\n",
    "N번의 반복을 거쳐 min_vertex를 찾고 min_vertex에 인접하면서 방문 안된 정점들에 대한 간선완화를 시도.  \n",
    "D에서 min_vertex를 탐색하는데 O(N)시간소요, min_vertex에 인접한 정점들을 검사하여 D의 원소들을 갱신하므로 추가로 O(N)  \n",
    "총 수행시간은 $O(N^2)$.  Prim알고리즘과 전체적으로 동일하므로 수행시간도 동일.  \n",
    "얘도 마찬가지로 우선순위 큐로 구현하면 $O(MlogN)$이 된다."
   ]
  },
  {
   "cell_type": "markdown",
   "metadata": {},
   "source": [
    "#### 음수가중치\n",
    "다익스트라 최단경로 알고리즘은 입력 그래프에 음수 가중치가 있다면 최단경로 찾기에 실패할 수 있다.  \n",
    "Dijkstra 알고리즘이 D의 원소 값의 증가하는 순서로 min_vertex를 선택하고, 한번 방문된 정점의 D원소를 갱신하지 않기 때문.."
   ]
  },
  {
   "cell_type": "markdown",
   "metadata": {},
   "source": [
    "### 5.2 Floyd-Warshall 알고리즘\n",
    "- 모든 정점 쌍 사이의 최단경로를 찾는 알고리즘.(모든 쌍 최단경로(All Pairs Shortest Paths) 알고리즘)\n",
    "- 출발점을 0에서 N-1까지 바꿔가며 Dijkstra 알고리즘을 각각 수행하면 $O(N^3)$\n",
    "- Floyd-Warshall 알고리즘도 $O(N^3)$이지만, 알고리즘이 더 간단하고 음수 가중치를 가진 그래프에서도 최단경로를 찾을 수 있다."
   ]
  },
  {
   "cell_type": "markdown",
   "metadata": {},
   "source": [
    "**핵심 아이디어**  \n",
    "- 입력 그래프의 정점들에 0, 1, 2, ..., N-1로 ID를 부여하고, 정점 ID를 증가시키며 간선완화를 수행.  \n",
    "     1. 정점 0을 경유하는 경로에 존재하는 정점들에 대해 간선완화를 수행한다. \n",
    "     2. 갱신된 결과를 바탕으로 정점 1을 경유하는 경로에 존재하는 정점들에 대해 간선완화 수행 ..\n",
    "     3. 정점 N-1을 경유하는 경로에 존재하는 정점들에 대해 간선완화를 수행할때까지 반복.."
   ]
  },
  {
   "cell_type": "markdown",
   "metadata": {},
   "source": [
    "Floyd-Warshall 알고리즘\n",
    "```\n",
    "1) D = 입력 그래프의 인접행렬\n",
    "2) for k in range(N):\n",
    "3)   for i in range(N):\n",
    "4)     for j in range(N):\n",
    "5)       if D[i][j] > D[i][k] + D[k][j]:\n",
    "6)         D[i][j] = D[i][k] + D[k][j]\n",
    "```"
   ]
  },
  {
   "cell_type": "markdown",
   "metadata": {},
   "source": [
    "1. 그래프의 인접행렬을 모든 쌍 최단거리를 저장할 리스트 D에 복사.  \n",
    "2. 경유하는 정점 ID를 0부터 N-1까지 하면서 모든 쌍 i, j에 대하여 간선완화를 수행."
   ]
  },
  {
   "cell_type": "code",
   "execution_count": 5,
   "metadata": {},
   "outputs": [
    {
     "name": "stdout",
     "output_type": "stream",
     "text": [
      "  0  1  2  3  4\n",
      "  0  0  1  2  3\n",
      " -1 -1  0  1  2\n",
      " -2 -1  0  0  2\n",
      " -3 -3 -2 -1  0\n"
     ]
    }
   ],
   "source": [
    "import sys\n",
    "N = 5\n",
    "INF = sys.maxsize\n",
    "\n",
    "D = [[0, 4, 2, 5, INF],\n",
    "    [INF, 0, 1, INF, 4],\n",
    "    [1, 3, 0, 1, 2],\n",
    "    [-2, INF, INF, 0, 2],\n",
    "    [INF, -3, 3, 1, 0]]\n",
    "\n",
    "for k in range(N):\n",
    "    for i in range(N):\n",
    "        for j in range(N):\n",
    "            D[i][j] = min(D[i][j], D[i][k] + D[k][j])   # 간선완화\n",
    "            \n",
    "for i in range(N):\n",
    "    for j in range(N):\n",
    "        print(f'{D[i][j]:3d}', end='')\n",
    "    print()"
   ]
  },
  {
   "cell_type": "markdown",
   "metadata": {},
   "source": [
    "#### 수행시간\n",
    "리스트 복사에 $O(N^2)$, 이후 3중루프 $O(N^3)$으로 총 $O(N^3)$  \n",
    "Floyd-Warshall의 최단경로 알고리즘은 **동적계획(Dynamic Programming) 알고리즘**이다.  \n",
    "작은 부분문제(Subproblem)들의 해를 먼저 계산하고 그 해들을 바탕으로 그 다음으로 큰 부분문제들을 해결하면서 전체 문제 해 계산.  \n",
    "반면 Dijkstra 알고리즘은 **그리디**알고리즘. 지역적인 입력에 대해 그리디하게 선택하며 이를 축적하여 해를 얻음."
   ]
  },
  {
   "cell_type": "markdown",
   "metadata": {},
   "source": [
    "#### 요약\n",
    "- 그래프를 자료구조로서 저장하기 위해 인접행렬과 인접리스트가 주로 사용\n",
    "- 그래프는 깊이우선탐색(DFS)과 너비우선탐색(BFS)으로 그래프의 모든 정점들을 방문하며, DFS는 스택, BFS는 큐를 사용\n",
    "- 무방향 그래프에서 연결성분 찾기는 DFS 또는 BFS를 기반하여 수행\n",
    "- 위상정렬 알고리즘은 DFS를 수행하며 정점 v의 인접한 모든 정점들의 방문이 끝나자마자 v를 리스트에 추가. 리스트의 역순이 위상정렬\n",
    "- Kruskal 알고리즘\n",
    "    1. 간선들을 가중치로 정렬\n",
    "    2. 가장 가중치가 작은 간선이 트리에 싸이클을 만들지 않으면 트리 간선으로 선택, 만들면 버리는 일을 반복하여 N-1개의 간선을 선택\n",
    "- Prim 알고리즘\n",
    "    1. 트리에 인접한 가장 가까운 정점을 하나씩 추가하여 최소신장트리를 만든다\n",
    "- Solin 알고리즘\n",
    "    1. 각 트리에서 트리에 연결된 간선들 중에서 가장 작은 가중치를 가진 간선을 선택\n",
    "    2. 선택된 간선은 2개의 트리를 하나의 트리로 합친다.\n",
    "    3. 반복하여 하나의 트리가 남을 때까지 각 트리에서 최소 가중치 간선을 선택하여 연결\n",
    "- Dijkstra 알고리즘\n",
    "    1. 출발점으로부터 방문 안된 정점들 중에서 가장 가까운 거리의 정점을 방문\n",
    "    2. 방문한 정점을 기준으로 간선완화를 수행하여 최단경로를 계산\n",
    "- Floyd-Warshall 알고리즘\n",
    "    1. 모든 정점 쌍 사이의 최단경로를 찾는 알고리즘\n",
    "    2. 입력 그래프의 정점들을 0, 1, 2, ..., N-1로 ID를 부여하고, 정점 ID를 증가시키며 간선완화 수행."
   ]
  },
  {
   "cell_type": "markdown",
   "metadata": {},
   "source": [
    "추가 구현.. 이중연결요소, 강한연결요소, 벨만포드"
   ]
  },
  {
   "cell_type": "markdown",
   "metadata": {},
   "source": [
    "**이중 연결 요소(Biconnected Component; BCC)**"
   ]
  },
  {
   "cell_type": "markdown",
   "metadata": {},
   "source": [
    "- 어떤 BCC 안에 속한 정점 한 개를 지워도(정점에 인접한 간선들도) 다른 남아 있는 정점들이 모두 연결되어 있는 것.. 가능한 각 컴포넌트의 크기가 커야함.  \n",
    "- 한 노드가 여러 개의 BCC에 동시에 속할 수도 있다.\n",
    "- SCC와 유사.\n",
    "    - SCC는 방향그래프에서 나오는 개념, BCC는 무향그래프에서..\n",
    "- 단절점(Articulation Point): 사라질 경우 그래프의 컴포넌트 수가 늘어나는 정점."
   ]
  },
  {
   "cell_type": "code",
   "execution_count": 12,
   "metadata": {},
   "outputs": [
    {
     "name": "stdout",
     "output_type": "stream",
     "text": [
      "(4, 2) (3, 4) (3, 1) (2, 3) (1, 2) \n",
      "(8, 9) \n",
      "(8, 5) (7, 8) (5, 7) \n",
      "(6, 0)(5, 6)(1, 5)(0, 1)\n",
      "(10, 11)\n",
      "Above are  5 biconnected components in graph\n"
     ]
    }
   ],
   "source": [
    "# Python program to find biconnected components in a given \n",
    "# undirected graph \n",
    "# Complexity : O(V + E) \n",
    "\n",
    "\n",
    "from collections import defaultdict \n",
    "\n",
    "# This class represents an directed graph \n",
    "# using adjacency list representation \n",
    "class Graph: \n",
    "\n",
    "\tdef __init__(self, vertices): \n",
    "\t\t# No. of vertices \n",
    "\t\tself.V = vertices \n",
    "\t\t\n",
    "\t\t# default dictionary to store graph \n",
    "\t\tself.graph = defaultdict(list) \n",
    "\t\t\n",
    "\t\t# time is used to find discovery times \n",
    "\t\tself.Time = 0\n",
    "\t\t\n",
    "\t\t# Count is number of biconnected components \n",
    "\t\tself.count = 0\n",
    "\n",
    "\t# function to add an edge to graph \n",
    "\tdef addEdge(self, u, v): \n",
    "\t\tself.graph[u].append(v) \n",
    "\t\tself.graph[v].append(u) \n",
    "\n",
    "\t'''A recursive function that finds and prints strongly connected \n",
    "\tcomponents using DFS traversal \n",
    "\tu --> The vertex to be visited next \n",
    "\tdisc[] --> Stores discovery times of visited vertices \n",
    "\tlow[] -- >> earliest visited vertex (the vertex with minimum \n",
    "\t\t\tdiscovery time) that can be reached from subtree \n",
    "\t\t\trooted with current vertex \n",
    "\tst -- >> To store visited edges'''\n",
    "\tdef BCCUtil(self, u, parent, low, disc, st): \n",
    "\n",
    "\t\t# Count of children in current node \n",
    "\t\tchildren = 0\n",
    "\n",
    "\t\t# Initialize discovery time and low value \n",
    "\t\tdisc[u] = self.Time \n",
    "\t\tlow[u] = self.Time \n",
    "\t\tself.Time += 1\n",
    "\n",
    "\n",
    "\t\t# Recur for all the vertices adjacent to this vertex \n",
    "\t\tfor v in self.graph[u]: \n",
    "\t\t\t# If v is not visited yet, then make it a child of u \n",
    "\t\t\t# in DFS tree and recur for it \n",
    "\t\t\tif disc[v] == -1 : \n",
    "\t\t\t\tparent[v] = u \n",
    "\t\t\t\tchildren += 1\n",
    "\t\t\t\tst.append((u, v)) # store the edge in stack \n",
    "\t\t\t\tself.BCCUtil(v, parent, low, disc, st) \n",
    "\n",
    "\t\t\t\t# Check if the subtree rooted with v has a connection to \n",
    "\t\t\t\t# one of the ancestors of u \n",
    "\t\t\t\t# Case 1 -- per Strongly Connected Components Article \n",
    "\t\t\t\tlow[u] = min(low[u], low[v]) \n",
    "\n",
    "\t\t\t\t# If u is an articulation point, pop \n",
    "\t\t\t\t# all edges from stack till (u, v) \n",
    "\t\t\t\tif parent[u] == -1 and children > 1 or parent[u] != -1 and low[v] >= disc[u]: \n",
    "\t\t\t\t\tself.count += 1 # increment count \n",
    "\t\t\t\t\tw = -1\n",
    "\t\t\t\t\twhile w != (u, v): \n",
    "\t\t\t\t\t\tw = st.pop() \n",
    "\t\t\t\t\t\tprint(w, end=' ') \n",
    "\t\t\t\t\tprint(\"\") \n",
    "\t\t\t\n",
    "\t\t\telif v != parent[u] and low[u] > disc[v]: \n",
    "\t\t\t\t'''Update low value of 'u' only of 'v' is still in stack \n",
    "\t\t\t\t(i.e. it's a back edge, not cross edge). \n",
    "\t\t\t\tCase 2 \n",
    "\t\t\t\t-- per Strongly Connected Components Article'''\n",
    "\n",
    "\t\t\t\tlow[u] = min(low [u], disc[v]) \n",
    "\t\n",
    "\t\t\t\tst.append((u, v)) \n",
    "\n",
    "\n",
    "\t# The function to do DFS traversal. \n",
    "\t# It uses recursive BCCUtil() \n",
    "\tdef BCC(self): \n",
    "\t\t\n",
    "\t\t# Initialize disc and low, and parent arrays \n",
    "\t\tdisc = [-1] * (self.V) \n",
    "\t\tlow = [-1] * (self.V) \n",
    "\t\tparent = [-1] * (self.V) \n",
    "\t\tst = [] \n",
    "\n",
    "\t\t# Call the recursive helper function to \n",
    "\t\t# find articulation points \n",
    "\t\t# in DFS tree rooted with vertex 'i' \n",
    "\t\tfor i in range(self.V): \n",
    "\t\t\tif disc[i] == -1: \n",
    "\t\t\t\tself.BCCUtil(i, parent, low, disc, st) \n",
    "\n",
    "\t\t\t# If stack is not empty, pop all edges from stack \n",
    "\t\t\tif st: \n",
    "\t\t\t\tself.count = self.count + 1\n",
    "\n",
    "\t\t\t\twhile st: \n",
    "\t\t\t\t\tw = st.pop() \n",
    "\t\t\t\t\tprint(w, end='') \n",
    "\t\t\t\tprint(\"\") \n",
    "\n",
    "# Create a graph given in the above diagram \n",
    "\n",
    "g = Graph(12) \n",
    "g.addEdge(0, 1) \n",
    "g.addEdge(1, 2) \n",
    "g.addEdge(1, 3) \n",
    "g.addEdge(2, 3) \n",
    "g.addEdge(2, 4) \n",
    "g.addEdge(3, 4) \n",
    "g.addEdge(1, 5) \n",
    "g.addEdge(0, 6) \n",
    "g.addEdge(5, 6) \n",
    "g.addEdge(5, 7) \n",
    "g.addEdge(5, 8) \n",
    "g.addEdge(7, 8) \n",
    "g.addEdge(8, 9) \n",
    "g.addEdge(10, 11) \n",
    "\n",
    "g.BCC(); \n",
    "print(\"Above are % d biconnected components in graph\" %(g.count)); \n",
    "\n",
    "# This code is contributed by Neelam Yadav \n"
   ]
  },
  {
   "cell_type": "markdown",
   "metadata": {},
   "source": [
    "#### Kosaraju 알고리즘\n",
    "- 하나의 연결성분으로 된 방향 그래프에서 DFS를 사용하여 강연결성분을 찾는 알고리즘"
   ]
  },
  {
   "cell_type": "markdown",
   "metadata": {},
   "source": [
    "https://wondy1128.tistory.com/130 내용."
   ]
  },
  {
   "cell_type": "markdown",
   "metadata": {},
   "source": [
    "SCC (Strongly Connected Component)"
   ]
  },
  {
   "cell_type": "markdown",
   "metadata": {},
   "source": [
    "준비할 자료구조"
   ]
  },
  {
   "cell_type": "markdown",
   "metadata": {},
   "source": [
    "1. 주어진 방향그래프\n",
    "2. 주어진 방향 그래프와 역방향을 가지는 역방향 그래프를 만든다.\n",
    "3. 정점을 담을 스택을 만든다.\n",
    "    - 위상정렬을 이용하고, 방향그래프와 역방향그래프가 동일한 SCC를 구성하는 것을 이용."
   ]
  },
  {
   "cell_type": "markdown",
   "metadata": {},
   "source": [
    "1) 방향그래프에 임의의 정점부터 DFS를 수행. DFS가 끝나는 순서대로 스택에 삽입.\n",
    "    - DFS를 수행한 후 아직 방문하지 않은 정점이 있는 경우, 해당 정점부터 다시 DFS수행\n",
    "    - 모든 정점을 방문하여 DFS를 완료하여 스택에 모든 정점을 담는다.\n",
    "2) 스택의 top에서부터 pop을 하여 순서대로 역방향 그래프에서부터 DFS를 수행\n",
    "    - 이때 탐색되는 모든 정점을 SCC로 묶는다.\n",
    "    - 스택이 empty가 될 때까지 반복.\n",
    "    - 만약 스택의 top에 위치한 정점이 이미 방문했다면 pop만 한다."
   ]
  },
  {
   "cell_type": "code",
   "execution_count": 10,
   "metadata": {},
   "outputs": [
    {
     "name": "stdout",
     "output_type": "stream",
     "text": [
      "Following are strongly connected components in given graph\n",
      "0 1 2 \n",
      "3 \n",
      "4 \n"
     ]
    }
   ],
   "source": [
    "# Python implementation of Kosaraju's algorithm to print all SCCs \n",
    "\n",
    "from collections import defaultdict \n",
    "\n",
    "#This class represents a directed graph using adjacency list representation \n",
    "class Graph: \n",
    "\n",
    "\tdef __init__(self,vertices): \n",
    "\t\tself.V= vertices #No. of vertices \n",
    "\t\tself.graph = defaultdict(list) # default dictionary to store graph \n",
    "\n",
    "\t# function to add an edge to graph \n",
    "\tdef addEdge(self,u,v): \n",
    "\t\tself.graph[u].append(v) \n",
    "\n",
    "\t# A function used by DFS \n",
    "\tdef DFSUtil(self,v,visited): \n",
    "\t\t# Mark the current node as visited and print it \n",
    "\t\tvisited[v]= True\n",
    "\t\tprint(v, end=' ') \n",
    "\t\t#Recur for all the vertices adjacent to this vertex \n",
    "\t\tfor i in self.graph[v]: \n",
    "\t\t\tif visited[i]==False: \n",
    "\t\t\t\tself.DFSUtil(i,visited) \n",
    "\n",
    "\n",
    "\tdef fillOrder(self,v,visited, stack): \n",
    "\t\t# Mark the current node as visited \n",
    "\t\tvisited[v]= True\n",
    "\t\t#Recur for all the vertices adjacent to this vertex \n",
    "\t\tfor i in self.graph[v]: \n",
    "\t\t\tif visited[i]==False: \n",
    "\t\t\t\tself.fillOrder(i, visited, stack) \n",
    "\t\tstack = stack.append(v) \n",
    "\t\n",
    "\n",
    "\t# Function that returns reverse (or transpose) of this graph \n",
    "\tdef getTranspose(self): \n",
    "\t\tg = Graph(self.V) \n",
    "\n",
    "\t\t# Recur for all the vertices adjacent to this vertex \n",
    "\t\tfor i in self.graph: \n",
    "\t\t\tfor j in self.graph[i]: \n",
    "\t\t\t\tg.addEdge(j,i) \n",
    "\t\treturn g \n",
    "\n",
    "\n",
    "\n",
    "\t# The main function that finds and prints all strongly \n",
    "\t# connected components \n",
    "\tdef printSCCs(self): \n",
    "\t\t\n",
    "\t\tstack = [] \n",
    "\t\t# Mark all the vertices as not visited (For first DFS) \n",
    "\t\tvisited =[False]*(self.V) \n",
    "\t\t# Fill vertices in stack according to their finishing \n",
    "\t\t# times \n",
    "\t\tfor i in range(self.V): \n",
    "\t\t\tif visited[i]==False: \n",
    "\t\t\t\tself.fillOrder(i, visited, stack) \n",
    "\n",
    "\t\t# Create a reversed graph \n",
    "\t\tgr = self.getTranspose() \n",
    "\t\t\n",
    "\t\t# Mark all the vertices as not visited (For second DFS) \n",
    "\t\tvisited =[False]*(self.V) \n",
    "\n",
    "\t\t# Now process all vertices in order defined by Stack \n",
    "\t\twhile stack: \n",
    "\t\t\ti = stack.pop() \n",
    "\t\t\tif visited[i]==False: \n",
    "\t\t\t\tgr.DFSUtil(i, visited) \n",
    "\t\t\t\tprint(\"\") \n",
    "\n",
    "# Create a graph given in the above diagram \n",
    "g = Graph(5) \n",
    "g.addEdge(1, 0) \n",
    "g.addEdge(0, 2) \n",
    "g.addEdge(2, 1) \n",
    "g.addEdge(0, 3) \n",
    "g.addEdge(3, 4) \n",
    "\n",
    "\n",
    "print(\"Following are strongly connected components in given graph\") \n",
    "g.printSCCs() \n",
    "#This code is contributed by Neelam Yadav \n"
   ]
  },
  {
   "cell_type": "markdown",
   "metadata": {},
   "source": [
    "#### Bellman-Ford 알고리즘\n",
    "- 음수 가중치를 가진 그래프에서도 정확한 해를 찾는 최단경로 알고리즘."
   ]
  },
  {
   "cell_type": "markdown",
   "metadata": {},
   "source": [
    "- concept\n",
    "    - 최단경로 문제의 optimal substructure를 확장하면 최단경로를 다음과 같이 분해할 수 있다.\n",
    "    - 시작노드 s에서 v에 이르는 최단경로는 s에서 u까지의 최단경로에 u에서 v사이의 가중치(거리)를 더한 값.\n",
    "    - $D(s, v) = D(s, u) + w(u, v)$\n",
    "    - s, u 사이의 최단경로를 구할 때 그래프 내 모든 엣지에 대해 edge relaxation을 수행.\n",
    "    - 모든 엣지에 대한 relaxation을 |V| - 1회 수행."
   ]
  },
  {
   "cell_type": "markdown",
   "metadata": {},
   "source": [
    "- 음수 가중치가 사이클을 이루고 있어 사이클을 돌수록 값이 작아지는 경우에는 작동하지 않음.. 최단경로를 구하는 의미가 없다."
   ]
  },
  {
   "cell_type": "markdown",
   "metadata": {},
   "source": [
    "**Pseudo code**\n",
    "<img src=\"https://i.imgur.com/Co6NVQ8.png\" width=\"300\">"
   ]
  },
  {
   "cell_type": "code",
   "execution_count": 14,
   "metadata": {},
   "outputs": [
    {
     "name": "stdout",
     "output_type": "stream",
     "text": [
      "Vertex   Distance from Source\n",
      "0 \t\t 0\n",
      "1 \t\t -1\n",
      "2 \t\t 2\n",
      "3 \t\t -2\n",
      "4 \t\t 1\n"
     ]
    }
   ],
   "source": [
    "# Python program for Bellman-Ford's single source \n",
    "# shortest path algorithm. \n",
    "\n",
    "from collections import defaultdict \n",
    "\n",
    "#Class to represent a graph \n",
    "class Graph: \n",
    "\n",
    "\tdef __init__(self,vertices): \n",
    "\t\tself.V= vertices #No. of vertices \n",
    "\t\tself.graph = [] # default dictionary to store graph \n",
    "\n",
    "\t# function to add an edge to graph \n",
    "\tdef addEdge(self,u,v,w): \n",
    "\t\tself.graph.append([u, v, w]) \n",
    "\t\t\n",
    "\t# utility function used to print the solution \n",
    "\tdef printArr(self, dist): \n",
    "\t\tprint(\"Vertex   Distance from Source\") \n",
    "\t\tfor i in range(self.V): \n",
    "\t\t\tprint(\"%d \\t\\t %d\" % (i, dist[i])) \n",
    "\t\n",
    "\t# The main function that finds shortest distances from src to \n",
    "\t# all other vertices using Bellman-Ford algorithm. The function \n",
    "\t# also detects negative weight cycle \n",
    "\tdef BellmanFord(self, src): \n",
    "\n",
    "\t\t# Step 1: Initialize distances from src to all other vertices \n",
    "\t\t# as INFINITE \n",
    "\t\tdist = [float(\"Inf\")] * self.V \n",
    "\t\tdist[src] = 0\n",
    "\n",
    "\n",
    "\t\t# Step 2: Relax all edges |V| - 1 times. A simple shortest \n",
    "\t\t# path from src to any other vertex can have at-most |V| - 1 \n",
    "\t\t# edges \n",
    "\t\tfor i in range(self.V - 1): \n",
    "\t\t\t# Update dist value and parent index of the adjacent vertices of \n",
    "\t\t\t# the picked vertex. Consider only those vertices which are still in \n",
    "\t\t\t# queue \n",
    "\t\t\tfor u, v, w in self.graph: \n",
    "\t\t\t\tif dist[u] != float(\"Inf\") and dist[u] + w < dist[v]: \n",
    "\t\t\t\t\t\tdist[v] = dist[u] + w \n",
    "\n",
    "\t\t# Step 3: check for negative-weight cycles. The above step \n",
    "\t\t# guarantees shortest distances if graph doesn't contain \n",
    "\t\t# negative weight cycle. If we get a shorter path, then there \n",
    "\t\t# is a cycle. \n",
    "\n",
    "\t\tfor u, v, w in self.graph: \n",
    "\t\t\t\tif dist[u] != float(\"Inf\") and dist[u] + w < dist[v]: \n",
    "\t\t\t\t\t\tprint(\"Graph contains negative weight cycle\")\n",
    "\t\t\t\t\t\treturn\n",
    "\t\t\t\t\t\t\n",
    "\t\t# print all distance \n",
    "\t\tself.printArr(dist) \n",
    "\n",
    "g = Graph(5) \n",
    "g.addEdge(0, 1, -1) \n",
    "g.addEdge(0, 2, 4) \n",
    "g.addEdge(1, 2, 3) \n",
    "g.addEdge(1, 3, 2) \n",
    "g.addEdge(1, 4, 2) \n",
    "g.addEdge(3, 2, 5) \n",
    "g.addEdge(3, 1, 1) \n",
    "g.addEdge(4, 3, -3) \n",
    "\n",
    "#Print the solution \n",
    "g.BellmanFord(0) \n",
    "\n",
    "#This code is contributed by Neelam Yadav \n"
   ]
  },
  {
   "cell_type": "markdown",
   "metadata": {},
   "source": [
    "---"
   ]
  },
  {
   "cell_type": "markdown",
   "metadata": {},
   "source": [
    "**참고** ratsgo 블로그..  \n",
    "- 그래프 기본: https://ratsgo.github.io/data%20structure&algorithm/2017/11/18/graph/\n",
    "- 연결요소: https://ratsgo.github.io/data%20structure&algorithm/2017/11/24/CC/\n",
    "- 강연결요소: https://ratsgo.github.io/data%20structure&algorithm/2017/11/23/SCC/\n",
    "- 최소신장트리: https://ratsgo.github.io/data%20structure&algorithm/2017/11/28/MST/\n",
    "- 최단경로 알고리즘: https://ratsgo.github.io/data%20structure&algorithm/2017/11/25/shortestpath/\n",
    "- 다익스트라 알고리즘: https://ratsgo.github.io/data%20structure&algorithm/2017/11/26/dijkstra/\n",
    "- 벨만-포드 알고리즘: https://ratsgo.github.io/data%20structure&algorithm/2017/11/27/bellmanford/"
   ]
  },
  {
   "cell_type": "markdown",
   "metadata": {},
   "source": [
    "https://www.geeksforgeeks.org/graph-data-structure-and-algorithms/"
   ]
  }
 ],
 "metadata": {
  "kernelspec": {
   "display_name": "Python 3",
   "language": "python",
   "name": "python3"
  },
  "language_info": {
   "codemirror_mode": {
    "name": "ipython",
    "version": 3
   },
   "file_extension": ".py",
   "mimetype": "text/x-python",
   "name": "python",
   "nbconvert_exporter": "python",
   "pygments_lexer": "ipython3",
   "version": "3.7.3"
  }
 },
 "nbformat": 4,
 "nbformat_minor": 2
}
