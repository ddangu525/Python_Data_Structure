{
 "cells": [
  {
   "cell_type": "markdown",
   "metadata": {},
   "source": [
    "파이썬 리스트나 연결리스트는 데이터를 일렬로 저장하기 때문에 탐색 연산이 순차적으로 수행되어야 한다는 단점이 있다.  \n",
    "파이썬 리스트는 미리 정렬해 놓으면 이진탐색으로 효율적인 탐색이 가능하지만, 삽입이나 삭제 후에도 정렬 상태를 유지해야 하므로  \n",
    "삽입이나 삭제에 O(N)이 소요..  \n",
    "이 문제점을 보완한 계층적(Hierarchical)자료구조인 트리(Tree)자료구조가 있다.  \n",
    "**정의**: 트리는 empty이거나, empty가 아니면 루트 R과 트리의 집합으로 구성되는데, 각 트리의 루트는 R의 자식노드이다. 단, 트리의 집합은 공집합일 수도 있다.  \n",
    "\n",
    "- 용어:\n",
    "    - 루트: 트리 최상위에 있는 노드\n",
    "    - 자식노드: 노드 하위에 연결된 노드\n",
    "    - 차수(Degree): 자식노드 수\n",
    "    - 부모노드: 노드의 상위에 연결된 노드\n",
    "    - 이파리(Leaf): 자식이 없는 노드\n",
    "    - 형제(Sibling)노드: 동일한 부모를 가지는 노드\n",
    "    - 조상(Ancestor)노드: 루트까지의 경로상에 있는 모든 노드들의 집합\n",
    "    - 후손(Descendant)노드: 노드 아래로 매달린 모든 노드들의 집합\n",
    "    - 서브트리(Subtree): 노드 자신과 후손노드로 구성된 트리\n",
    "    - 레벨(Level): 루트가 레벨 1에 있고, 아래 층으로 내려가며 레벨이 1씩 증가한다. 레벨은 깊이(Depth)와 같다.\n",
    "    - 높이(Height): 트리의 최대 레벨\n",
    "    - 키(Key): 탐색에 사용되는 노드에 저장된 정보\n",
    "    \n",
    "일반적으로 트리를 메모리에 저장하려면 각 노드에 키와 자식 수만큼의 레퍼런스를 저장해야 함..  \n",
    "트리 노드의 최대 차수가 k라면 k개의 레퍼런스 필드를 선언해야 한다.   \n",
    "최대 차수 k인 트리에 N개 노드가 있다면 None 레퍼런스 수는 Nk - (N - 1) = N(k - 1) + 1.   \n",
    "k가 클수록 메모리 낭비가 심해지고 탐색에도 비효율적이다.  \n",
    "  \n",
    "**왼쪽자식-오른쪽형제(Left Child-Right Sibling; LCRS)표현**은 이러한 단점을 보완해줌..  \n",
    "노드의 왼쪽 자식과 왼쪽 자식의 오른쪽 형제노드를 가리키는 2개의 레퍼런스만을 사용하여 표현한다.  \n",
    "LCRS Tree는 노드의 차수가 일정하지 않은 일반적인 트리를 구현하는데 매우 효율적이다.  \n"
   ]
  },
  {
   "cell_type": "markdown",
   "metadata": {},
   "source": [
    "### 이진트리(Binary Tree)\n",
    "이진트리는 각 노드의 자식 수가 2 이하인 트리로 컴퓨터 분야에서 가장 널리 활용되는 기본적인 자료구조이다.  \n",
    "데이터의 구조적인 관계를 잘 반영하고, 효율적인 삽입과 탐색을 가능하게 하며, 이진트리의 서브트리를 다른 이진트리의 서브트리와 교환하는 것이 쉽기 때문이다.  \n",
    "  \n",
    "1. **포화 이진트리(Full Binary Tree)**\n",
    "    - 이파리의 깊이가 같고 각 내부노드가 2개의 자식노드를 가지는 트리\n",
    "    - 포화이진트리는 완전이진트리이기도 하다.\n",
    "2. **완전 이진트리(Complete Binary Tree)**\n",
    "    - 마지막 레벨을 제외한 각 레벨이 노드들로 꽉 차있고, 마지막 레벨에는 노드들이 왼쪽부터 빠짐없이 채워진 트리.\n",
    "    \n",
    "#### 이진트리의 속성들\n",
    "- 레벨 k에 있는 최대 노드 수는 $2^{k-1}$이다. 단 k = 1, 2, 3...\n",
    "- 높이가 h인 포화이진트리에 있는 노드 수는 $2^h-1$이다.\n",
    "- N개의 노드를 가진 완전이진트리의 높이는 $\\lceil log_2(N + 1)\\rceil$이다."
   ]
  },
  {
   "cell_type": "markdown",
   "metadata": {},
   "source": [
    "리스트에 인덱스 1의 위치부터 트리의 레벨 1부터 차례로 내려가며 각 레벨에서 좌에서 우로 트리의 노드들을 저장하면, 트리의 N개 노드가 있을 때,  \n",
    "- a[i]의 부모는 a[i//2]에 있다. 단 i > 1\n",
    "- a[i]의 왼쪽 자식은 a[2i]에 있다. 단 2i <= N\n",
    "- a[i]의 오른쪽 자식은 a[2i + 1]에 있다. 단 2i + 1 <= N"
   ]
  },
  {
   "cell_type": "markdown",
   "metadata": {},
   "source": [
    "완전이진트리를 저장하기 위해 리스트를 사용하는 경우, 자식노드들을 참조할 레퍼런스를 저장할 메모리 공간이 필요 없기 때문에 매우 효율적이다. 하지만 편향(Skewed)이진트리를 리스트레 저장하는 경우, 트리의 높이가 커질 수록 메모리 낭비가 매우 심각해진다.  "
   ]
  },
  {
   "cell_type": "code",
   "execution_count": 6,
   "metadata": {
    "collapsed": true
   },
   "outputs": [],
   "source": [
    "class Node:\n",
    "    def __init__(self, item, left=None, right=None):\n",
    "        self.item = item\n",
    "        self.left = left\n",
    "        self.right = right\n",
    "\n",
    "class BinaryTree:\n",
    "    def __init__(self):\n",
    "        self.root = None\n",
    "        \n",
    "    def preorder(self, n):  #전위 순회    노드, 왼쪽, 오른쪽\n",
    "        if n != None:\n",
    "            print(str(n.item), ' ', end='')\n",
    "            if n.left:\n",
    "                self.preorder(n.left)\n",
    "            if n.right:\n",
    "                self.preorder(n.right)\n",
    "                \n",
    "    def inorder(self, n):   # 중위순회, 왼쪽, 노드, 오른쪽\n",
    "        if n != None:\n",
    "            if n.left:\n",
    "                self.inorder(n.left)\n",
    "            print(str(n.item), ' ', end='')\n",
    "            if n.right:\n",
    "                self.inorder(n.right)\n",
    "    \n",
    "    def postorder(self, n):  # 후위순회, 왼쪽, 오른쪽, 노드\n",
    "        if n != None:\n",
    "            if n.left:\n",
    "                self.postorder(n.left)\n",
    "            if n.right:\n",
    "                self.postorder(n.right)\n",
    "            print(str(n.item), ' ', end='')\n",
    "            \n",
    "    def levelorder(self, root):  # 레벨순회 레벨별로.. 너비우선처럼.\n",
    "        from collections import deque\n",
    "        q = deque()\n",
    "        q.append(root)\n",
    "        while q:\n",
    "            t = q.popleft()\n",
    "            print(str(t.item), ' ', end='')\n",
    "            if t.left != None:\n",
    "                q.append(t.left)\n",
    "            if t.right != None:\n",
    "                q.append(t.right)\n",
    "                \n",
    "    def height(self, root):  # 트리 높이 계산\n",
    "        if root == None:\n",
    "            return 0\n",
    "        return max(self.height(root.left), self.height(root.right)) + 1"
   ]
  },
  {
   "cell_type": "code",
   "execution_count": 7,
   "metadata": {},
   "outputs": [
    {
     "name": "stdout",
     "output_type": "stream",
     "text": [
      "트리 높이 =  4\n",
      "전위순회:\t100  200  400  800  300  600  700  \n",
      "중위순회:\t800  400  200  100  600  300  700  \n",
      "후위순회:\t800  400  200  600  700  300  100  \n",
      "레벨순회:\t100  200  300  400  600  700  800  "
     ]
    }
   ],
   "source": [
    "if __name__ == '__main__':\n",
    "    t = BinaryTree()\n",
    "    n1 = Node(100)\n",
    "    n2 = Node(200)\n",
    "    n3 = Node(300)\n",
    "    n4 = Node(400)\n",
    "    n5 = Node(500)\n",
    "    n6 = Node(600)\n",
    "    n7 = Node(700)\n",
    "    n8 = Node(800)\n",
    "    n1.left = n2\n",
    "    n1.right = n3\n",
    "    n2.left = n4\n",
    "    n2.right\n",
    "    n3.left = n6\n",
    "    n3.right = n7\n",
    "    n4.left = n8\n",
    "    t.root = n1\n",
    "    \n",
    "    print('트리 높이 = ', t.height(t.root))\n",
    "    print('전위순회:\\t', end='')\n",
    "    t.preorder(t.root)\n",
    "    print('\\n중위순회:\\t', end='')\n",
    "    t.inorder(t.root)\n",
    "    print('\\n후위순회:\\t', end='')\n",
    "    t.postorder(t.root)\n",
    "    print('\\n레벨순회:\\t', end='')\n",
    "    t.levelorder(t.root)"
   ]
  },
  {
   "cell_type": "markdown",
   "metadata": {},
   "source": [
    "#### 스레드 이진트리\n",
    "앞서 살펴본 이진트리 기본 연산들은 레벨순회를 제외하고 모두 스택 자료구조를 사용.  \n",
    "함수의 재귀호출은 시스템 스택을 사용하므로 스택 자료구조를 사용한 것으로 간주..  \n",
    "스택에 사용되는 메모리 공간의 크기는 트리 높이에 비례한다.  \n",
    "스택 없이 이진트리의 연산을 구현하는 방법은 두 가지.  \n",
    "1. Node에 부모노드를 가리키는 레퍼런스 필드를 추가로 선언하여 순회에 사용\n",
    "2. 노드의 None 레퍼런스들을 활용하는 것.\n",
    "    - None레퍼런스 공간에 다음에 방문할 노드의 레퍼런스를 저장하는 것.\n",
    "    - 이렇게 만든 이진트리를 스레드 이진트리(Threaded Binary Tree)라고 한다.\n",
    "    - 각 노드의 오른쪽 None레퍼런스를 다음 방문할 노드를 참조하게 하고, 각 노드의 왼쪽 None 레퍼런스를 직전 방문한 노드를 참조하게 함.\n",
    "    \n",
    "N개 노드가 있는 이즌트리에는 N + 1개의 None 레퍼런스 필드가 있는데, 각 노드마다 2개의 레퍼런스필드가 잇으므로 총 2N개.  \n",
    "이 중 부모-자식을 연결하는 레퍼런스는 N-1개가 있기 때문.(루트제외)  \n",
    "이 N+1개의 None레퍼런스를 활용하여 이전에 방문한 노드와 다음에 방문할 노드를 가리키도록 만들어 순회 연산이 스택 없이도 수행될 수 있다.  \n",
    "빠르고 메모리 공간도 적게 차지한다는 장점이 있지만 데이터 삽입과 삭제가 잦은 경우 그 구현이 복잡하여 좋은 성능을 보여주지 못한다.  \n",
    "또한 Node 객체에 2개의 Boolean 필드를 사용하여 레퍼런스가 스레드(다음 방문할 노드를 가리키는)로 사용되는 것인지 아니면 left나 right가 트리의 부모 자식 사이의 레퍼런스인지를 각각 True와 False로 표시해 주어야 한다.\n"
   ]
  },
  {
   "cell_type": "markdown",
   "metadata": {},
   "source": [
    "### 이진힙(Binary Heap)\n",
    "이진힙으 우선순위큐(Priority Queue)를 구현하는 가장 기본적인 자료구조.  \n",
    "우선순위큐란 가장 높은 우선순위를 가진 항목에 접근하거나 해당 항목을 삭제하는 연산과 임의의 우선순위를 가진 항목을 삽입하는 연산을 지원하는 자료구조.  \n",
    "일반적으로 새롭게 삽입되는 항목이 임의의 우선순위를 가질 때 정렬된 상태를 유지할 필요 없고, O(1)시간에 가장 높은 우선순위를 가진 항목에 접근할 수 있으며, 가장 높은 우선순위를 가진 항목을 삭제하는 연산을 지원하는 효율적인 이진힙 구조가 필요.  \n",
    "**정의**: 이진힙은 **완전이진트리**로서 부모의 우선순위가 자식의 우선순위보다 높은 자료구조이다.  \n",
    "각 노드에 대해 부모의 우선순위가 자식의 우선순위보다 높은 것을 **힙속성(Heap Property)**라 함.  \n",
    "  \n",
    "완전이진트리는 1차원 리스트로 구현하여 인덱스 1위치부터 레벨순회 순서에 따라 차례로 저장.  \n",
    "  \n",
    "- **최소힙(Minimum Heap)**: 키값이 작을수록 높은 우선순위\n",
    "- **최대힙(Maximum Heap)**: 키값이 클수록 높은 우선순위\n",
    "\n",
    "  \n",
    "최소힙의 루트는 항상 가장 작은 키가 저장. 루트는 a[1]에 저장되어 있으므로, O(1)시간에 가장 작은 키를 가진 노드에 접근 가능.  \n",
    "- 최소값 삭제: 루트의 키를 삭제. \n",
    "    - 이를 위해 힙의 가장 마지막 노드, 즉 리스트의 가장 마지막 항목을 루트로 옮기고, 힙 크기를 1 감소시킴\n",
    "    - 루트로부터 자식들 중 작은 값을 가진 자식과 키를 비교하여 힙속성이 만족될 때까지 키를 교환하며 이파리 방향으로 진행한다.  \n",
    "    - 루트로부터 아래로 진행되므로 일반적으로 downheap이라 부름.\n",
    "- 삽입(insert): 새로운 키를 힙에 추가\n",
    "    - 힙의 마지막 노드(데이터를 가진 리스트의 마지막항목) 뒤에 새로운 항목을 추가\n",
    "    - 루트 방향으로 올라가면서 부모노드의 키와 비교하여 힙속성이 만족될 때까지 노드를 교환\n",
    "    - upheap"
   ]
  },
  {
   "cell_type": "code",
   "execution_count": 10,
   "metadata": {
    "collapsed": true
   },
   "outputs": [],
   "source": [
    "class BHeap:\n",
    "    def __init__(self, a):\n",
    "        self.a = a\n",
    "        self.N = len(a) - 1\n",
    "        \n",
    "    def create_heap(self): # 초기 힙 만들기\n",
    "        for i in range(self.N//2, 0, -1):\n",
    "            self.downheap(i)\n",
    "            \n",
    "    def insert(self, key_value):\n",
    "        self.N += 1\n",
    "        self.a.append(key_value)\n",
    "        self.upheap(self.N)\n",
    "        \n",
    "    def delete_min(self):\n",
    "        if self.N == 0:\n",
    "            print('힙이 비어 있음')\n",
    "            return None\n",
    "        minimum = self.a[1]\n",
    "        self.a[1], self.a[-1] = self.a[-1], self.a[1]\n",
    "        del self.a[-1]\n",
    "        self.N -= 1\n",
    "        self.downheap(1)\n",
    "        return minimum\n",
    "    \n",
    "    def downheap(self, i): # 힙 내려가며 힙속성 회복\n",
    "        while 2*i <= self.N:\n",
    "            k = 2 * i\n",
    "            if k < self.N and self.a[k][0] > self.a[k+1][0]:    # 왼쪽 자식 vs. 오른쪽 자식 선택\n",
    "                k += 1\n",
    "            if self.a[i][0] < self.a[k][0]:    # 힙속성 만족하면 끝내기\n",
    "                break\n",
    "            self.a[i], self.a[k] = self.a[k], self.a[i]\n",
    "            i = k\n",
    "    \n",
    "    def upheap(self, j):\n",
    "        while j > 1 and self.a[j//2][0] > self.a[j][0]:\n",
    "            self.a[j], self.a[j//2] = self.a[j//2], self.a[j]\n",
    "            j //= 2\n",
    "            \n",
    "    def print_heap(self):\n",
    "        for i in range(1, self.N + 1):\n",
    "            print('[%2d' % self.a[i][0], self.a[i][1], ']', end='')\n",
    "        print('\\n힙 크기 = ', self.N)"
   ]
  },
  {
   "cell_type": "code",
   "execution_count": 11,
   "metadata": {},
   "outputs": [
    {
     "name": "stdout",
     "output_type": "stream",
     "text": [
      "힙 만들기 전: \n",
      "[90 watermelon ][80 pear ][70 melon ][50 lime ][60 mango ][20 cherry ][30 grape ][35 orange ][10 apricot ][15 banana ][45 lemon ][40 kiwi ]\n",
      "힙 크기 =  12\n",
      "최소힙:\n",
      "[10 apricot ][15 banana ][20 cherry ][35 orange ][45 lemon ][40 kiwi ][30 grape ][80 pear ][50 lime ][60 mango ][90 watermelon ][70 melon ]\n",
      "힙 크기 =  12\n",
      "최솟값 삭제 후\n",
      "[10, 'apricot']\n",
      "[15 banana ][35 orange ][20 cherry ][50 lime ][45 lemon ][40 kiwi ][30 grape ][80 pear ][70 melon ][60 mango ][90 watermelon ]\n",
      "힙 크기 =  11\n",
      "5 삽입 후\n",
      "[ 5 apple ][35 orange ][15 banana ][50 lime ][45 lemon ][20 cherry ][30 grape ][80 pear ][70 melon ][60 mango ][90 watermelon ][40 kiwi ]\n",
      "힙 크기 =  12\n"
     ]
    }
   ],
   "source": [
    "if __name__ == '__main__':\n",
    "    a = [None]\n",
    "    a.append([90, 'watermelon'])\n",
    "    a.append([80, 'pear'])\n",
    "    a.append([70, 'melon'])\n",
    "    a.append([50, 'lime'])\n",
    "    a.append([60, 'mango'])\n",
    "    a.append([20, 'cherry'])\n",
    "    a.append([30, 'grape'])\n",
    "    a.append([35, 'orange'])\n",
    "    a.append([10, 'apricot'])\n",
    "    a.append([15, 'banana'])\n",
    "    a.append([45, 'lemon'])\n",
    "    a.append([40, 'kiwi'])\n",
    "    \n",
    "    b = BHeap(a)\n",
    "    print('힙 만들기 전: ')\n",
    "    b.print_heap()\n",
    "    b.create_heap()\n",
    "    print('최소힙:')\n",
    "    b.print_heap()\n",
    "    print('최솟값 삭제 후')\n",
    "    print(b.delete_min())\n",
    "    b.print_heap()\n",
    "    b.insert([5, 'apple'])\n",
    "    print('5 삽입 후')\n",
    "    b.print_heap()"
   ]
  },
  {
   "cell_type": "markdown",
   "metadata": {},
   "source": [
    "#### 파이썬 heapq\n",
    "파이썬은 우선순위큐를 위한 heapq를 라이브러리로 제공.\n",
    "- heapq.heappush(heap, item) # insert()와 동일\n",
    "- heapq.heappop(heap) # delete_min()과 동일\n",
    "- heapq.heappushpop(heap, item) # item을 삽입한 후 delete_min()\n",
    "- heapq.heapify(x)  # create_hap()\n",
    "- heapq.heapreplace(heap, item)  # delete_min()먼저 수행 후 item 삽입\n",
    "\n",
    "다른 메소드들은 항목 수가 많아지면 매우 비효율적이서 사용하지 말 것을 권고함...  "
   ]
  },
  {
   "cell_type": "markdown",
   "metadata": {},
   "source": [
    "#### 응용\n",
    "업무 관련 이벤트 처리, 컴퓨터 운영체제 프로세스처리, 네트워크 라우터에서 패킷 처리 등에 적합.  \n",
    "허프만 코딩, 힙정렬, Prim 최소 신장트리 알고리즘과 Dijkstra 최단 경로 알고리즘에도 활용"
   ]
  }
 ],
 "metadata": {
  "kernelspec": {
   "display_name": "Python 3",
   "language": "python",
   "name": "python3"
  },
  "language_info": {
   "codemirror_mode": {
    "name": "ipython",
    "version": 3
   },
   "file_extension": ".py",
   "mimetype": "text/x-python",
   "name": "python",
   "nbconvert_exporter": "python",
   "pygments_lexer": "ipython3",
   "version": "3.6.3"
  }
 },
 "nbformat": 4,
 "nbformat_minor": 2
}
