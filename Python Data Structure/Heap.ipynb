{
 "cells": [
  {
   "cell_type": "markdown",
   "metadata": {},
   "source": [
    "### 힙(Heap)\n",
    "힙 자료구조는 힙 속성을 만족하는 **완전이진트리**를 말한다.  \n",
    "**완전이진트리**: 마지막 깊이를 제외하면 포화이진트리이고 마지막 깊이에서는 제일 오른쪽 노드까지 빈 노드가 없어야한다.  \n",
    "#### 힙속성\n",
    "1. 최대힙: 모든 노드는 자식노드보다 값이 크다.  \n",
    "2. 최소힙: 모든 노드는 자식노드보다 값이 작다.   \n",
    "  \n",
    "완전이진트리 구조를 배열로 나타내면 index 0번에 Root Node가 오게되고,  \n",
    "Index k인 노드의 LeftChild의 index는 2 x K + 1가 되고,  \n",
    "RightChild의 index는 2 X K + 2가 된다.  \n",
    "또 Parent 노드의 Index는 (K - 1) // 2가 된다.  \n",
    "Heap 자료구조는 임의의 값을 삽입하는 연산, Root(최대값 또는 최소값)을 삭제하는 연산이 있다.  "
   ]
  },
  {
   "cell_type": "code",
   "execution_count": 6,
   "metadata": {},
   "outputs": [
    {
     "name": "stdout",
     "output_type": "stream",
     "text": [
      "[10, 2, 0, -20, 0, 0, 0, 0, 0, 0]\n",
      "10 \n",
      "2 \n",
      "0 \n",
      "-20 \n",
      "[-20, 0, 2, 10, 0, 0, 0, 0, 0, 0]\n"
     ]
    }
   ],
   "source": [
    "# 최대힙 구현\n",
    "class Heap(object):\n",
    "\n",
    "    HEAP_SIZE = 10\n",
    "\n",
    "    def __init__(self):\n",
    "        self.heap = [0]*Heap.HEAP_SIZE\n",
    "        self.currentPosition = -1\n",
    "\n",
    "    def insert(self, item):\n",
    "\n",
    "        if self.isFull():\n",
    "            print(\"Heap is full..\")\n",
    "            return \n",
    "\n",
    "        self.currentPosition = self.currentPosition + 1\n",
    "        self.heap[self.currentPosition] = item\n",
    "        self.fixUp(self.currentPosition)\n",
    "\n",
    "    def fixUp(self, index):\n",
    "\n",
    "        parentIndex = int((index-1)/2)\n",
    "\n",
    "        while parentIndex >= 0 and self.heap[parentIndex] < self.heap[index]:\n",
    "            temp = self.heap[index]\n",
    "            self.heap[index] = self.heap[parentIndex]\n",
    "            self.heap[parentIndex] = temp\n",
    "            parentIndex = int((index-1)/2)\n",
    "\n",
    "    def heapsort(self):\n",
    "\n",
    "        for i in range(0,self.currentPosition+1):\n",
    "            temp = self.heap[0]\n",
    "            print(\"%d \" % temp)\n",
    "            self.heap[0] = self.heap[self.currentPosition-i]\n",
    "            self.heap[self.currentPosition-i] = temp\n",
    "            self.fixDown(0,self.currentPosition-i-1)\n",
    "\n",
    "    def fixDown(self, index, upto):\n",
    "\n",
    "        while index <= upto:\n",
    "\n",
    "            leftChild = 2*index+1\n",
    "            rightChild = 2*index+2\n",
    "\n",
    "            if leftChild < upto:\n",
    "                childToSwap = None\n",
    "\n",
    "                if rightChild > upto:\n",
    "                    childToSwap = leftChild\n",
    "                else:\n",
    "                    if self.heap[leftChild] > self.heap[rightChild]:\n",
    "                        childToSwap = leftChild\n",
    "                    else:\n",
    "                        childToSwap = rightChild\n",
    "\n",
    "                if self.heap[index] < self.heap[childToSwap]:\n",
    "                    temp = self.heap[index]\n",
    "                    self.heap[index] = self.heap[childToSwap]\n",
    "                    self.heap[childToSwap] = temp\n",
    "                else:\n",
    "                    break\n",
    "\n",
    "                index = childToSwap\n",
    "            else:\n",
    "                break;\n",
    "                \n",
    "    def isFull(self):\n",
    "        if self.currentPosition == Heap.HEAP_SIZE:\n",
    "            return True\n",
    "        else:\n",
    "            return False\n",
    "\n",
    "if __name__ == \"__main__\":\n",
    "\n",
    "    heap = Heap()\n",
    "    heap.insert(10)\n",
    "    heap.insert(-20)\n",
    "    heap.insert(0)\n",
    "    heap.insert(2)\n",
    "    print(heap.heap)\n",
    "    heap.heapsort()\n",
    "    print(heap.heap)"
   ]
  },
  {
   "cell_type": "code",
   "execution_count": null,
   "metadata": {
    "collapsed": true
   },
   "outputs": [],
   "source": []
  }
 ],
 "metadata": {
  "kernelspec": {
   "display_name": "Python 3",
   "language": "python",
   "name": "python3"
  },
  "language_info": {
   "codemirror_mode": {
    "name": "ipython",
    "version": 3
   },
   "file_extension": ".py",
   "mimetype": "text/x-python",
   "name": "python",
   "nbconvert_exporter": "python",
   "pygments_lexer": "ipython3",
   "version": "3.6.3"
  }
 },
 "nbformat": 4,
 "nbformat_minor": 2
}
