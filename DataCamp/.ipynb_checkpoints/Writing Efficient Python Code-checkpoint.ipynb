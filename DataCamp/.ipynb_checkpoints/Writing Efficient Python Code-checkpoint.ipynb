{
 "cells": [
  {
   "cell_type": "markdown",
   "metadata": {},
   "source": [
    "## Efficient Code란?  \n",
    "### 1. Minimal Runtime\n",
    "### 2. Small Memory Foorprint"
   ]
  },
  {
   "cell_type": "markdown",
   "metadata": {},
   "source": [
    "### 코드 시간측정.  \n",
    "#### 1. IPython에서 %timeit magic method 이용."
   ]
  },
  {
   "cell_type": "code",
   "execution_count": 1,
   "metadata": {},
   "outputs": [
    {
     "name": "stdout",
     "output_type": "stream",
     "text": [
      "31 µs ± 1.02 µs per loop (mean ± std. dev. of 7 runs, 10000 loops each)\n"
     ]
    }
   ],
   "source": [
    "import numpy as np\n",
    "%timeit rand_nums = np.random.rand(1000)"
   ]
  },
  {
   "cell_type": "markdown",
   "metadata": {},
   "source": [
    "#### Specifying number of runs/loops  \n",
    "Setting the number of runs(-r) and/or loops(-n)  \n",
    "%timeit 뒤에 -r, -n플래그 뒤에 각각 runs, loops수를 정할 수 있다"
   ]
  },
  {
   "cell_type": "code",
   "execution_count": 2,
   "metadata": {},
   "outputs": [
    {
     "name": "stdout",
     "output_type": "stream",
     "text": [
      "153 µs ± 57.2 µs per loop (mean ± std. dev. of 2 runs, 10 loops each)\n"
     ]
    }
   ],
   "source": [
    "# Set number of runs to 2 (-r2)\n",
    "# Set number of loops to 10 (-n10)\n",
    "\n",
    "%timeit -r2 -n10 rand_nums = np.random.rand(1000)"
   ]
  },
  {
   "cell_type": "code",
   "execution_count": 3,
   "metadata": {},
   "outputs": [
    {
     "name": "stdout",
     "output_type": "stream",
     "text": [
      "2.33 µs ± 389 ns per loop (mean ± std. dev. of 7 runs, 100000 loops each)\n"
     ]
    }
   ],
   "source": [
    "# Single line of code\n",
    "\n",
    "%timeit nums = [x for x in range(10)]"
   ]
  },
  {
   "cell_type": "code",
   "execution_count": 22,
   "metadata": {
    "scrolled": true
   },
   "outputs": [
    {
     "ename": "SyntaxError",
     "evalue": "invalid syntax (<ipython-input-22-202214983d9c>, line 2)",
     "output_type": "error",
     "traceback": [
      "\u001b[1;36m  File \u001b[1;32m\"<ipython-input-22-202214983d9c>\"\u001b[1;36m, line \u001b[1;32m2\u001b[0m\n\u001b[1;33m    %%timeit\u001b[0m\n\u001b[1;37m    ^\u001b[0m\n\u001b[1;31mSyntaxError\u001b[0m\u001b[1;31m:\u001b[0m invalid syntax\n"
     ]
    }
   ],
   "source": [
    "# Multiple lines of code. 흠 왜 안되지?? 이상하네..\n",
    "%%timeit\n",
    "\n",
    "nums = []\n",
    "for x in range(10):\n",
    "    nums.append(x)"
   ]
  },
  {
   "cell_type": "code",
   "execution_count": 19,
   "metadata": {},
   "outputs": [
    {
     "data": {
      "application/json": {
       "cell": {
        "!": "OSMagics",
        "HTML": "Other",
        "SVG": "Other",
        "bash": "Other",
        "capture": "ExecutionMagics",
        "cmd": "Other",
        "debug": "ExecutionMagics",
        "file": "Other",
        "html": "DisplayMagics",
        "javascript": "DisplayMagics",
        "js": "DisplayMagics",
        "latex": "DisplayMagics",
        "markdown": "DisplayMagics",
        "perl": "Other",
        "prun": "ExecutionMagics",
        "pypy": "Other",
        "python": "Other",
        "python2": "Other",
        "python3": "Other",
        "ruby": "Other",
        "script": "ScriptMagics",
        "sh": "Other",
        "svg": "DisplayMagics",
        "sx": "OSMagics",
        "system": "OSMagics",
        "time": "ExecutionMagics",
        "timeit": "ExecutionMagics",
        "writefile": "OSMagics"
       },
       "line": {
        "alias": "OSMagics",
        "alias_magic": "BasicMagics",
        "autocall": "AutoMagics",
        "automagic": "AutoMagics",
        "autosave": "KernelMagics",
        "bookmark": "OSMagics",
        "cd": "OSMagics",
        "clear": "KernelMagics",
        "cls": "KernelMagics",
        "colors": "BasicMagics",
        "config": "ConfigMagics",
        "connect_info": "KernelMagics",
        "copy": "Other",
        "ddir": "Other",
        "debug": "ExecutionMagics",
        "dhist": "OSMagics",
        "dirs": "OSMagics",
        "doctest_mode": "BasicMagics",
        "echo": "Other",
        "ed": "Other",
        "edit": "KernelMagics",
        "env": "OSMagics",
        "gui": "BasicMagics",
        "hist": "Other",
        "history": "HistoryMagics",
        "killbgscripts": "ScriptMagics",
        "ldir": "Other",
        "less": "KernelMagics",
        "load": "CodeMagics",
        "load_ext": "ExtensionMagics",
        "loadpy": "CodeMagics",
        "logoff": "LoggingMagics",
        "logon": "LoggingMagics",
        "logstart": "LoggingMagics",
        "logstate": "LoggingMagics",
        "logstop": "LoggingMagics",
        "ls": "Other",
        "lsmagic": "BasicMagics",
        "macro": "ExecutionMagics",
        "magic": "BasicMagics",
        "matplotlib": "PylabMagics",
        "mkdir": "Other",
        "more": "KernelMagics",
        "notebook": "BasicMagics",
        "page": "BasicMagics",
        "pastebin": "CodeMagics",
        "pdb": "ExecutionMagics",
        "pdef": "NamespaceMagics",
        "pdoc": "NamespaceMagics",
        "pfile": "NamespaceMagics",
        "pinfo": "NamespaceMagics",
        "pinfo2": "NamespaceMagics",
        "pip": "BasicMagics",
        "popd": "OSMagics",
        "pprint": "BasicMagics",
        "precision": "BasicMagics",
        "profile": "BasicMagics",
        "prun": "ExecutionMagics",
        "psearch": "NamespaceMagics",
        "psource": "NamespaceMagics",
        "pushd": "OSMagics",
        "pwd": "OSMagics",
        "pycat": "OSMagics",
        "pylab": "PylabMagics",
        "qtconsole": "KernelMagics",
        "quickref": "BasicMagics",
        "recall": "HistoryMagics",
        "rehashx": "OSMagics",
        "reload_ext": "ExtensionMagics",
        "ren": "Other",
        "rep": "Other",
        "rerun": "HistoryMagics",
        "reset": "NamespaceMagics",
        "reset_selective": "NamespaceMagics",
        "rmdir": "Other",
        "run": "ExecutionMagics",
        "save": "CodeMagics",
        "sc": "OSMagics",
        "set_env": "OSMagics",
        "store": "StoreMagics",
        "sx": "OSMagics",
        "system": "OSMagics",
        "tb": "ExecutionMagics",
        "time": "ExecutionMagics",
        "timeit": "ExecutionMagics",
        "unalias": "OSMagics",
        "unload_ext": "ExtensionMagics",
        "who": "NamespaceMagics",
        "who_ls": "NamespaceMagics",
        "whos": "NamespaceMagics",
        "xdel": "NamespaceMagics",
        "xmode": "BasicMagics"
       }
      },
      "text/plain": [
       "Available line magics:\n",
       "%alias  %alias_magic  %autocall  %automagic  %autosave  %bookmark  %cd  %clear  %cls  %colors  %config  %connect_info  %copy  %ddir  %debug  %dhist  %dirs  %doctest_mode  %echo  %ed  %edit  %env  %gui  %hist  %history  %killbgscripts  %ldir  %less  %load  %load_ext  %loadpy  %logoff  %logon  %logstart  %logstate  %logstop  %ls  %lsmagic  %macro  %magic  %matplotlib  %mkdir  %more  %notebook  %page  %pastebin  %pdb  %pdef  %pdoc  %pfile  %pinfo  %pinfo2  %popd  %pprint  %precision  %profile  %prun  %psearch  %psource  %pushd  %pwd  %pycat  %pylab  %qtconsole  %quickref  %recall  %rehashx  %reload_ext  %ren  %rep  %rerun  %reset  %reset_selective  %rmdir  %run  %save  %sc  %set_env  %store  %sx  %system  %tb  %time  %timeit  %unalias  %unload_ext  %who  %who_ls  %whos  %xdel  %xmode\n",
       "\n",
       "Available cell magics:\n",
       "%%!  %%HTML  %%SVG  %%bash  %%capture  %%cmd  %%debug  %%file  %%html  %%javascript  %%js  %%latex  %%markdown  %%perl  %%prun  %%pypy  %%python  %%python2  %%python3  %%ruby  %%script  %%sh  %%svg  %%sx  %%system  %%time  %%timeit  %%writefile\n",
       "\n",
       "Automagic is ON, % prefix IS NOT needed for line magics."
      ]
     },
     "execution_count": 19,
     "metadata": {},
     "output_type": "execute_result"
    }
   ],
   "source": [
    "%lsmagic"
   ]
  },
  {
   "cell_type": "markdown",
   "metadata": {},
   "source": [
    "#### Saving the output to a variable (-o)"
   ]
  },
  {
   "cell_type": "code",
   "execution_count": 8,
   "metadata": {},
   "outputs": [
    {
     "name": "stdout",
     "output_type": "stream",
     "text": [
      "25.4 µs ± 1.2 µs per loop (mean ± std. dev. of 7 runs, 10000 loops each)\n",
      "<class 'IPython.core.magics.execution.TimeitResult'>\n",
      "25.4 µs ± 1.2 µs per loop (mean ± std. dev. of 7 runs, 10000 loops each)\n"
     ]
    }
   ],
   "source": [
    "times = %timeit -o rand_nums = np.random.rand(1000)\n",
    "print(type(times))\n",
    "print(times)"
   ]
  },
  {
   "cell_type": "code",
   "execution_count": 9,
   "metadata": {},
   "outputs": [
    {
     "name": "stdout",
     "output_type": "stream",
     "text": [
      "[2.4560123246573085e-05, 2.322666264329314e-05, 2.5502331400679167e-05, 2.6057495224813466e-05, 2.524963897416228e-05, 2.624142082526646e-05, 2.728175000282249e-05]\n",
      "2.322666264329314e-05\n",
      "2.728175000282249e-05\n"
     ]
    }
   ],
   "source": [
    "print(times.timings)\n",
    "print(times.best)\n",
    "print(times.worst)"
   ]
  },
  {
   "cell_type": "markdown",
   "metadata": {},
   "source": [
    "### Comparing times\n",
    "list(), dict(), tuple()과 같은 formal name으로 생성하거나,  \n",
    "[], {}, ()과 같은 literal syntax로 자료구조를 생성할 수 있다. 생성되는 시간을 비교해보자."
   ]
  },
  {
   "cell_type": "code",
   "execution_count": 11,
   "metadata": {},
   "outputs": [
    {
     "name": "stdout",
     "output_type": "stream",
     "text": [
      "1.37 µs ± 358 ns per loop (mean ± std. dev. of 7 runs, 100000 loops each)\n",
      "106 ns ± 6.56 ns per loop (mean ± std. dev. of 7 runs, 10000000 loops each)\n",
      "l_time better than f_time by 1262.865737977675 ns\n"
     ]
    }
   ],
   "source": [
    "f_time = %timeit -o formal_dict = dict()\n",
    "l_time = %timeit -o literal_dict = {}\n",
    "\n",
    "diff = (f_time.average - l_time.average) * (10**9)\n",
    "print('l_time better than f_time by {} ns'.format(diff))"
   ]
  },
  {
   "cell_type": "markdown",
   "metadata": {},
   "source": [
    "literal syntax로 생성하는 것이 훨씬 빠르다!! **3배이상!!!**"
   ]
  },
  {
   "cell_type": "code",
   "execution_count": 12,
   "metadata": {},
   "outputs": [
    {
     "name": "stdout",
     "output_type": "stream",
     "text": [
      "5.02 µs ± 566 ns per loop (mean ± std. dev. of 7 runs, 100000 loops each)\n"
     ]
    }
   ],
   "source": [
    "%timeit nums_list_comp = [num for num in range(51)]"
   ]
  },
  {
   "cell_type": "code",
   "execution_count": 13,
   "metadata": {},
   "outputs": [
    {
     "name": "stdout",
     "output_type": "stream",
     "text": [
      "1.7 µs ± 285 ns per loop (mean ± std. dev. of 7 runs, 100000 loops each)\n"
     ]
    }
   ],
   "source": [
    "%timeit nums_unpack = [*range(51)]"
   ]
  },
  {
   "cell_type": "markdown",
   "metadata": {},
   "source": [
    "**unpack해서 리스트 만드는게 훨씬 빠르다!!**"
   ]
  },
  {
   "cell_type": "code",
   "execution_count": 24,
   "metadata": {},
   "outputs": [
    {
     "data": {
      "text/plain": [
       "'3.6.3 |Anaconda custom (64-bit)| (default, Nov  8 2017, 15:10:56) [MSC v.1900 64 bit (AMD64)]'"
      ]
     },
     "execution_count": 24,
     "metadata": {},
     "output_type": "execute_result"
    }
   ],
   "source": [
    "import sys\n",
    "sys.version"
   ]
  },
  {
   "cell_type": "markdown",
   "metadata": {},
   "source": [
    "### Code profiling for runtime\n",
    "- Detailed stats on frequency and duration of function calls.  \n",
    "- Line-by-line analyses  \n",
    "- Package used: line_profiler.  (pip install line_profiler)"
   ]
  },
  {
   "cell_type": "markdown",
   "metadata": {},
   "source": [
    "http://free-lunch.github.io/python-profiler/ 블로그도 참고.  \n",
    "`내 코드가 어느 부분이 느린지, 확인을 하고 튜닝을 하는 것이다. 이때 어느 부분이 성능상 느린지 확인할 때 사용하는 것이 프로파일링이다.`"
   ]
  },
  {
   "cell_type": "markdown",
   "metadata": {},
   "source": [
    "#### cProfile\n",
    "일단 python에 기본 내장되어 있는 cProfile을 사용해보자. 사용밥은 간단하다.  "
   ]
  },
  {
   "cell_type": "code",
   "execution_count": 25,
   "metadata": {},
   "outputs": [
    {
     "name": "stdout",
     "output_type": "stream",
     "text": [
      "0\n",
      "1\n",
      "2\n",
      "3\n",
      "4\n",
      "         136 function calls in 0.001 seconds\n",
      "\n",
      "   Ordered by: standard name\n",
      "\n",
      "   ncalls  tottime  percall  cumtime  percall filename:lineno(function)\n",
      "        1    0.000    0.000    0.001    0.001 <ipython-input-25-30e731937997>:3(test)\n",
      "        1    0.000    0.000    0.001    0.001 <string>:1(<module>)\n",
      "       11    0.000    0.000    0.001    0.000 iostream.py:180(schedule)\n",
      "       10    0.000    0.000    0.000    0.000 iostream.py:284(_is_master_process)\n",
      "       10    0.000    0.000    0.000    0.000 iostream.py:297(_schedule_flush)\n",
      "       10    0.000    0.000    0.001    0.000 iostream.py:342(write)\n",
      "       11    0.000    0.000    0.000    0.000 iostream.py:87(_event_pipe)\n",
      "       11    0.000    0.000    0.000    0.000 threading.py:1062(_wait_for_tstate_lock)\n",
      "       11    0.000    0.000    0.000    0.000 threading.py:1104(is_alive)\n",
      "       11    0.000    0.000    0.000    0.000 threading.py:506(is_set)\n",
      "        1    0.000    0.000    0.001    0.001 {built-in method builtins.exec}\n",
      "       10    0.000    0.000    0.000    0.000 {built-in method builtins.isinstance}\n",
      "        5    0.000    0.000    0.001    0.000 {built-in method builtins.print}\n",
      "       10    0.000    0.000    0.000    0.000 {built-in method nt.getpid}\n",
      "       11    0.000    0.000    0.000    0.000 {built-in method nt.urandom}\n",
      "       11    0.000    0.000    0.000    0.000 {method 'acquire' of '_thread.lock' objects}\n",
      "        1    0.000    0.000    0.000    0.000 {method 'disable' of '_lsprof.Profiler' objects}\n",
      "\n",
      "\n"
     ]
    }
   ],
   "source": [
    "import cProfile\n",
    "\n",
    "def test():\n",
    "    for i in range(5):\n",
    "        print(i)\n",
    "\n",
    "cProfile.run('test()')"
   ]
  },
  {
   "cell_type": "markdown",
   "metadata": {},
   "source": [
    "위 코드와 같이 run에 체크를 원하는 함수를 스트링으로 넣으면 된다.    \n",
    "이마저 귀찮다 한다면 작성한 코드를 console로 실행하면 된다.  \n",
    "python -m cProfile test.py  \n",
    "  \n",
    "- ncalls : 실행횟수\n",
    "- tottime : sub function의 실행시간이 제외한 전체 실행시간\n",
    "- percall : sub function을 제외한 1회 실행시간\n",
    "- cumtime : sub function을 포함한 전체 실행시간\n",
    "- percall : sub function을 포함한 1회 실행시간"
   ]
  },
  {
   "cell_type": "markdown",
   "metadata": {},
   "source": [
    "function 단위보다 라인단위로 보고 싶을 때 line_profile 사용!"
   ]
  },
  {
   "cell_type": "markdown",
   "metadata": {
    "collapsed": true
   },
   "source": [
    "---"
   ]
  },
  {
   "cell_type": "code",
   "execution_count": 2,
   "metadata": {},
   "outputs": [
    {
     "name": "stdout",
     "output_type": "stream",
     "text": [
      "{'Batman': (74.015599999999992, 209.43889999999999), 'Superman': (75.196699999999993, 222.66661999999997), 'Wonder Woman': (72.0471, 163.14187999999999)}\n"
     ]
    }
   ],
   "source": [
    "import numpy as np\n",
    "\n",
    "heroes = ['Batman', 'Superman', 'Wonder Woman']\n",
    "\n",
    "hts = np.array([188.0, 191.0, 183.0])\n",
    "wts = np.array([95.0, 101.0, 74.0])\n",
    "\n",
    "def convert_units(heroes, heights, weights):\n",
    "    \n",
    "    new_hts = [ht * 0.39370 for ht in heights]\n",
    "    new_wts = [wt * 2.20462 for wt in weights]\n",
    "    \n",
    "    hero_data = {}\n",
    "    \n",
    "    for i, hero in enumerate(heroes):\n",
    "        hero_data[hero] = (new_hts[i], new_wts[i])\n",
    "        \n",
    "    return hero_data\n",
    "\n",
    "print(convert_units(heroes, hts, wts))"
   ]
  },
  {
   "cell_type": "markdown",
   "metadata": {},
   "source": [
    "%timeit은 전체 수행시간만 보여주지만 **각 라인의 수행시간을 보기 위해서 line_profiler을 사용**한다."
   ]
  },
  {
   "cell_type": "markdown",
   "metadata": {},
   "source": [
    "Using line_profiler package.  \n",
    "    \n",
    "    %load_ext line_profiler\n",
    "    \n",
    "Magic command for line-by-line times\n",
    "\n",
    "    %lprun -f convert_units convert_units(heroes, hts, wts)"
   ]
  },
  {
   "cell_type": "code",
   "execution_count": 3,
   "metadata": {
    "collapsed": true
   },
   "outputs": [],
   "source": [
    "# 1. load하기.\n",
    "%load_ext line_profiler"
   ]
  },
  {
   "cell_type": "code",
   "execution_count": 6,
   "metadata": {},
   "outputs": [],
   "source": [
    "# 2. 매직 커맨드 이용.  (-f는 function을 검사한다는 뜻?)\n",
    "%lprun -f convert_units convert_units(heroes, hts, wts)"
   ]
  },
  {
   "cell_type": "markdown",
   "metadata": {},
   "source": [
    "Line #: 줄 번호  \n",
    "Hits: 실행된 횟수  \n",
    "Time: 수행시간.   \n",
    "Per Hit: Hit당 수행시간. (micro seconds!)  \n",
    "% Time: 전체 수행시간에서 차지하는 비율  \n",
    "Line Contents: 각 줄의 내용을 표시.  "
   ]
  },
  {
   "cell_type": "markdown",
   "metadata": {},
   "source": [
    " `10   1   43.0   43.0   43.9    new_hts = [ht * 0.39370 for ht in heights]`  \n",
    " 얘가 제일 시간 많이 잡아먹는다. 어떻게 하면 더 효율적으로 짤까?"
   ]
  },
  {
   "cell_type": "markdown",
   "metadata": {},
   "source": [
    "**numpy array는 Broad cast가 가능**하다! 함수를 다시 써보자"
   ]
  },
  {
   "cell_type": "code",
   "execution_count": 7,
   "metadata": {
    "collapsed": true
   },
   "outputs": [],
   "source": [
    "def convert_units_broadcast(heroes, heights, weights):\n",
    "\n",
    "    # Array broadcasting instead of list comprehension\n",
    "    new_hts = heights * 0.39370\n",
    "    new_wts = weights * 2.20462\n",
    "\n",
    "    hero_data = {}\n",
    "\n",
    "    for i,hero in enumerate(heroes):\n",
    "        hero_data[hero] = (new_hts[i], new_wts[i])\n",
    "\n",
    "    return hero_data"
   ]
  },
  {
   "cell_type": "code",
   "execution_count": 18,
   "metadata": {
    "collapsed": true
   },
   "outputs": [],
   "source": [
    "%lprun -f convert_units_broadcast convert_units_broadcast(heroes, hts, wts)"
   ]
  },
  {
   "cell_type": "markdown",
   "metadata": {},
   "source": [
    "`4   1   32.0   32.0   37.6    new_hts = heights * 0.39370` 조금 줄긴 한다"
   ]
  },
  {
   "cell_type": "markdown",
   "metadata": {},
   "source": [
    "나중에는 for loop 최적화도 배울것.."
   ]
  },
  {
   "cell_type": "markdown",
   "metadata": {},
   "source": [
    "하지만 line_profile은 항상 global하게 깔린 python을 바라보도록 되어있기 때문에 가상환경에서 사용할 수 없다.  \n",
    "pprofile을 이용하면 된다. "
   ]
  },
  {
   "cell_type": "markdown",
   "metadata": {},
   "source": [
    "## 코드 메모리 사용 Profile"
   ]
  },
  {
   "cell_type": "markdown",
   "metadata": {},
   "source": [
    "#### 1. sys 이용\n",
    "빠르고 쉽고.. dirty."
   ]
  },
  {
   "cell_type": "code",
   "execution_count": 19,
   "metadata": {},
   "outputs": [
    {
     "name": "stdout",
     "output_type": "stream",
     "text": [
      "9112\n",
      "4096\n"
     ]
    }
   ],
   "source": [
    "import sys\n",
    "nums_list = [*range(1000)]\n",
    "print(sys.getsizeof(nums_list))\n",
    "\n",
    "nums_np = np.array(range(1000))\n",
    "print(sys.getsizeof(nums_np))"
   ]
  },
  {
   "cell_type": "markdown",
   "metadata": {},
   "source": [
    "#### 2. memory_profiler package 사용.\n",
    "- Line-by-line analyses\n",
    "- Detailed stats on memory consumption"
   ]
  },
  {
   "cell_type": "code",
   "execution_count": 20,
   "metadata": {},
   "outputs": [
    {
     "name": "stdout",
     "output_type": "stream",
     "text": [
      "ERROR: Could not find file <ipython-input-2-278162497ff1>\n",
      "NOTE: %mprun can only be used on functions defined in physical files, and not in the IPython environment.\n",
      "\n"
     ]
    }
   ],
   "source": [
    "# 1. 불러오기\n",
    "%load_ext memory_profiler\n",
    "\n",
    "# 2. 사용.\n",
    "%mprun -f convert_units convert_units(heroes, hts, wts)"
   ]
  },
  {
   "cell_type": "markdown",
   "metadata": {},
   "source": [
    "**단점**  \n",
    "1. Functions must be imported when using memory_profiler\n",
    "2. IPython Session에서 안됨..\n",
    "  \n",
    "검사할 함수를 독립된 파이썬 파일로 저장한 후 불러와서 사용해야함.  \n",
    "위 함수를 hero_funcs.py에 저장했다면\n",
    "from hero_funcs import convert_units 이렇게 import해서 사용해야함..  "
   ]
  },
  {
   "cell_type": "code",
   "execution_count": 22,
   "metadata": {},
   "outputs": [
    {
     "name": "stdout",
     "output_type": "stream",
     "text": [
      "\n"
     ]
    }
   ],
   "source": [
    "from hero_funcs import convert_units\n",
    "\n",
    "%mprun -f convert_units convert_units(heroes, hts, wts)"
   ]
  },
  {
   "cell_type": "markdown",
   "metadata": {},
   "source": [
    "    Filename: C:\\Users\\상우\\Desktop\\Python\\백준\\Study\\DataCamp\\hero_funcs.py\n",
    "\n",
    "    Line #    Mem usage    Increment   Line Contents\n",
    "    ================================================\n",
    "         1     42.1 MiB     42.1 MiB   def convert_units(heroes, heights, weights):\n",
    "         2                                 \n",
    "         3     42.1 MiB      0.0 MiB       new_hts = [ht * 0.39370 for ht in heights]\n",
    "         4     42.1 MiB      0.0 MiB       new_wts = [wt * 2.20462 for wt in weights]\n",
    "         5                                 \n",
    "         6     42.1 MiB      0.0 MiB       hero_data = {}\n",
    "         7                                 \n",
    "         8     42.1 MiB      0.0 MiB       for i, hero in enumerate(heroes):\n",
    "         9     42.1 MiB      0.0 MiB           hero_data[hero] = (new_hts[i], new_wts[i])\n",
    "        10                                     \n",
    "        11     42.1 MiB      0.0 MiB       return hero_data\n"
   ]
  },
  {
   "cell_type": "markdown",
   "metadata": {},
   "source": [
    "Line #: 줄 번호  \n",
    "Mem usage: 현재 줄이 실행 된 후 메모리 사용량  \n",
    "Increment: 전 줄에 비해 증가한 양.    \n",
    "Line Contents: 소스코드..  "
   ]
  },
  {
   "cell_type": "markdown",
   "metadata": {},
   "source": [
    "1. memory 단위는 MiB. Mebibyte != Megabyte 하지만 비슷.\n",
    "    - https://ko.wikipedia.org/wiki/%EB%A9%94%EB%B9%84%EB%B0%94%EC%9D%B4%ED%8A%B8\n",
    "2. Data used in this example is a random sample of 35,000 heroes. (Not original 480 superheroes dataset.\n",
    "    - Small data로 하면 너무 작아서 랜덤 샘플링 해서 사용함.\n",
    "3. Inspects memory by querying the operating system\n",
    "    - Python Interpreter가 실제로 사용하는 메모리 양과 다를 수 있다. \n",
    "    - 따라서 플랫폼, run마다 다를 수 있다. 그래도 의미하는 바는 달라지지 않음."
   ]
  },
  {
   "cell_type": "markdown",
   "metadata": {},
   "source": [
    "memory면에서도 list comprehension보다 numpy의 index를 사용하는 것이 더 좋다.!  "
   ]
  },
  {
   "cell_type": "markdown",
   "metadata": {},
   "source": [
    "## Efficiently combining, counting, and iterating\n"
   ]
  },
  {
   "cell_type": "markdown",
   "metadata": {},
   "source": [
    "두 배열을 하나로 묶어 저장하고 싶을 때. zip을 사용하자!"
   ]
  },
  {
   "cell_type": "code",
   "execution_count": 23,
   "metadata": {},
   "outputs": [
    {
     "name": "stdout",
     "output_type": "stream",
     "text": [
      "[('Bulbassaur', 45), ('Charmander', 39), ('Squirtle', 44)]\n",
      "<class 'zip'>\n",
      "[('Bulbassaur', 45), ('Charmander', 39), ('Squirtle', 44)]\n"
     ]
    }
   ],
   "source": [
    "names = ['Bulbassaur', 'Charmander', 'Squirtle']\n",
    "hps = [45, 39, 44]\n",
    "\n",
    "# 기본적 방법\n",
    "combined = []\n",
    "\n",
    "for i, pokemon in enumerate(names):\n",
    "    combined.append((pokemon, hps[i]))\n",
    "    \n",
    "print(combined)\n",
    "\n",
    "# zip을 이용한 방법\n",
    "combined_zip = zip(names, hps)\n",
    "print(type(combined_zip))\n",
    "\n",
    "combined_zip_list = [*combined_zip]\n",
    "print(combined_zip_list)"
   ]
  },
  {
   "cell_type": "markdown",
   "metadata": {},
   "source": [
    "#### collections module\n",
    "- Specialized container datatypes\n",
    "    - Alternatives to general purpose dict, list, set, and tuple\n",
    "- Notable:\n",
    "    - namedtuple: tuple subclasses with named fields\n",
    "    - deque: list-like container with fast appends and pops\n",
    "    - Counter: dict for counting hashable objects\n",
    "    - OrderedDict: dict that retains order of entries\n",
    "    - defaultdict: dict that calls a factory function to supply missing values"
   ]
  },
  {
   "cell_type": "markdown",
   "metadata": {},
   "source": [
    "어떤 리스트의 원소들의 수를 세서 dictionar의 저장하는 경우, Counter를 사용하는 것이 훨씬 빠르다."
   ]
  },
  {
   "cell_type": "markdown",
   "metadata": {},
   "source": [
    "#### itertools module\n",
    "- Functional tools for creating and using iteratos\n",
    "- Notable:\n",
    "    - Infinite iterators: count, cycle, repeat\n",
    "    - Finite iterators: accumulate, chain, zip_longest, etc.\n",
    "    - **Combination generators**: product, permutations, combinations"
   ]
  },
  {
   "cell_type": "code",
   "execution_count": 25,
   "metadata": {},
   "outputs": [
    {
     "name": "stdout",
     "output_type": "stream",
     "text": [
      "[('Bug', 'Fire'), ('Bug', 'Ghost'), ('Bug', 'Grass'), ('Bug', 'Water'), ('Fire', 'Ghost'), ('Fire', 'Grass'), ('Fire', 'Water'), ('Ghost', 'Grass'), ('Ghost', 'Water'), ('Grass', 'Water')]\n"
     ]
    }
   ],
   "source": [
    "# Combinations with loop\n",
    "poke_types = ['Bug', 'Fire', 'Ghost', 'Grass', 'Water']\n",
    "combos = []\n",
    "\n",
    "for x in poke_types:\n",
    "    for y in poke_types:\n",
    "        if x == y:\n",
    "            continue\n",
    "        if ((x, y) not in combos) & ((y, x) not in combos):\n",
    "            combos.append((x, y))\n",
    "print(combos)"
   ]
  },
  {
   "cell_type": "markdown",
   "metadata": {},
   "source": [
    "두 논리값을 비교하는 거니까 and가 아니라 &로도 가능.. "
   ]
  },
  {
   "cell_type": "code",
   "execution_count": 26,
   "metadata": {},
   "outputs": [
    {
     "name": "stdout",
     "output_type": "stream",
     "text": [
      "[('Bug', 'Fire'), ('Bug', 'Ghost'), ('Bug', 'Grass'), ('Bug', 'Water'), ('Fire', 'Ghost'), ('Fire', 'Grass'), ('Fire', 'Water'), ('Ghost', 'Grass'), ('Ghost', 'Water'), ('Grass', 'Water')]\n"
     ]
    }
   ],
   "source": [
    "# itertools.combinations()\n",
    "from itertools import combinations\n",
    "combos_obj = combinations(poke_types, 2)\n",
    "combos = [*combos_obj]\n",
    "print(combos)"
   ]
  },
  {
   "cell_type": "markdown",
   "metadata": {},
   "source": [
    "itertools 쓰는 게 훨씬 빠르다."
   ]
  },
  {
   "cell_type": "markdown",
   "metadata": {},
   "source": [
    "if you provide zip() with objects of differing lengths, it will only combine until the smallest lengthed object is exhausted.  \n",
    "zip에 길이가 안맞는 애들을 넣으면 짧은애에 맞춰짐.  "
   ]
  },
  {
   "cell_type": "markdown",
   "metadata": {},
   "source": [
    "### Set theory\n",
    "- Branch of Mathematics applied to collections of objects\n",
    "- Python built-in set datatype.\n",
    "    - intersection(): all elements that are in both sets\n",
    "    - difference(): all elements in one set but not the other\n",
    "    - symmetric_difference(): all elements in exactly one set\n",
    "    - union(): all elements that are in either set\n",
    "    - Fast membership testing.\n",
    "        - Check if a value exists in a sequence or not using the 'in' operator"
   ]
  },
  {
   "cell_type": "code",
   "execution_count": 27,
   "metadata": {},
   "outputs": [
    {
     "name": "stdout",
     "output_type": "stream",
     "text": [
      "['Squirtle']\n"
     ]
    }
   ],
   "source": [
    "# 비효율적 코드\n",
    "list_a = ['Bulbasaur', 'Charmander', 'Squirtle']\n",
    "list_b = ['Caterpie', 'Pidgey', 'Squirtle']\n",
    "\n",
    "in_common = []\n",
    "\n",
    "for pokemon_a in list_a:\n",
    "    for pokemon_b in list_b:\n",
    "        if pokemon_a == pokemon_b:\n",
    "            in_common.append(pokemon_a)\n",
    "            \n",
    "print(in_common)"
   ]
  },
  {
   "cell_type": "code",
   "execution_count": 28,
   "metadata": {},
   "outputs": [
    {
     "name": "stdout",
     "output_type": "stream",
     "text": [
      "{'Squirtle'}\n"
     ]
    }
   ],
   "source": [
    "# Set을 이용하여 빠르게 풀기.\n",
    "set_a = set(list_a)\n",
    "set_b = set(list_b)\n",
    "\n",
    "print(set_a.intersection(set_b))"
   ]
  },
  {
   "cell_type": "markdown",
   "metadata": {},
   "source": [
    "훨씬 빠르다.. 특히 검색!! hash이용"
   ]
  },
  {
   "cell_type": "markdown",
   "metadata": {},
   "source": [
    "### Eliminating loops\n",
    "- Looping patterns:\n",
    "    - for loop: iterate over sequence piece-by-piece\n",
    "    - while loop: repeat loop as long as condition is met\n",
    "    - \"nested\" loops: use one loop inside another loop\n",
    "    - Costly!!\n",
    "    \n",
    "거의 모든 loop는 piece-by-piece로 evaluated되기 때문에 자주 비효율적이게 된다.  \n",
    "#### Benefits of eliminating loops\n",
    "- Fewer lines of code\n",
    "- Better code readability\n",
    "    - \"Flat is better than nested\"\n",
    "- Efficienc gains."
   ]
  },
  {
   "cell_type": "code",
   "execution_count": 30,
   "metadata": {},
   "outputs": [],
   "source": [
    "poke_stats = [\n",
    "    [90, 92, 75, 60],\n",
    "    [25, 20, 15, 90],\n",
    "    [65, 130, 60, 75]\n",
    "]\n",
    "\n",
    "# For loop approach\n",
    "totals = []\n",
    "for row in poke_stats:\n",
    "    totals.append(sum(row))\n",
    "    \n",
    "# List Comprehension\n",
    "totals_comp = [sum(row) for row in poke_stats]\n",
    "\n",
    "# Built-in map() function\n",
    "totals_map = [*map(sum, poke_stats)]"
   ]
  },
  {
   "cell_type": "markdown",
   "metadata": {},
   "source": [
    "List Comprehension이나 map이용하는게 빠르다.  \n",
    "또 Numpy array가 갖고있는 method를 이용하면 훨씬 좋음.  "
   ]
  },
  {
   "cell_type": "code",
   "execution_count": 32,
   "metadata": {
    "collapsed": true
   },
   "outputs": [],
   "source": [
    "import numpy as np\n",
    "a = np.array([[1,2,3,4,5],\n",
    "              [3,4,5,6,7]])"
   ]
  },
  {
   "cell_type": "code",
   "execution_count": 33,
   "metadata": {},
   "outputs": [
    {
     "name": "stdout",
     "output_type": "stream",
     "text": [
      "[ 4  6  8 10 12]\n",
      "[15 25]\n"
     ]
    }
   ],
   "source": [
    "print(a.sum(axis=0))    # column별로..\n",
    "print(a.sum(axis=1))    # row별로.."
   ]
  },
  {
   "cell_type": "markdown",
   "metadata": {},
   "source": [
    "### Writing better loops\n",
    "- Understand what is being done with each loop iterations  \n",
    "- Move one-time calculations outside (above) the loop\n",
    "- Use holistic conversions outside (below) the loop\n",
    "- Anything that is done once should be outside the loop"
   ]
  },
  {
   "cell_type": "code",
   "execution_count": 35,
   "metadata": {},
   "outputs": [
    {
     "name": "stdout",
     "output_type": "stream",
     "text": [
      "Absol's attack: 130 > average: 69.0!\n",
      "Aron's attack: 70 > average: 69.0!\n"
     ]
    }
   ],
   "source": [
    "names = ['Absol', 'Aron', 'Jynx', 'Natu', 'Onix']\n",
    "attacks = np.array([130, 70, 50, 50, 45])\n",
    "for pokemon, attack in zip(names, attacks):\n",
    "    total_attack_avg = attacks.mean()    # 얘는 한번만 하면 된다.\n",
    "    if attack > total_attack_avg:\n",
    "        print(f\"{pokemon}'s attack: {attack} > average: {total_attack_avg}!\")"
   ]
  },
  {
   "cell_type": "markdown",
   "metadata": {},
   "source": [
    "#### Using holistic conversion outside the loop"
   ]
  },
  {
   "cell_type": "code",
   "execution_count": 36,
   "metadata": {},
   "outputs": [
    {
     "name": "stdout",
     "output_type": "stream",
     "text": [
      "[['Pikachu', False, 1], ['Squirtle', False, 1], ['Articuno', True, 1]]\n"
     ]
    }
   ],
   "source": [
    "names = ['Pikachu', 'Squirtle', 'Articuno']\n",
    "legend_status = [False, False, True]\n",
    "generations = [1, 1, 1]\n",
    "poke_data = []\n",
    "for poke_tuple in zip(names, legend_status, generations):\n",
    "    poke_list = list(poke_tuple)\n",
    "    poke_data.append(poke_list)\n",
    "print(poke_data)"
   ]
  },
  {
   "cell_type": "markdown",
   "metadata": {},
   "source": [
    "루프 안에서 변환하는 것은 안좋다."
   ]
  },
  {
   "cell_type": "code",
   "execution_count": 37,
   "metadata": {},
   "outputs": [
    {
     "name": "stdout",
     "output_type": "stream",
     "text": [
      "[['Pikachu', False, 1], ['Squirtle', False, 1], ['Articuno', True, 1]]\n"
     ]
    }
   ],
   "source": [
    "names = ['Pikachu', 'Squirtle', 'Articuno']\n",
    "legend_status = [False, False, True]\n",
    "generations = [1, 1, 1]\n",
    "poke_data_tuples = []\n",
    "for poke_tuple in zip(names, legend_status, generations):\n",
    "    poke_data_tuples.append(poke_tuple)\n",
    "\n",
    "poke_data = [*map(list, poke_data_tuples)]\n",
    "print(poke_data)"
   ]
  },
  {
   "cell_type": "markdown",
   "metadata": {},
   "source": [
    "이 방식이 더 빠름!!"
   ]
  },
  {
   "cell_type": "markdown",
   "metadata": {},
   "source": [
    "### Intro to pandas DataFrame iteration\n",
    "- Library used for data analysis\n",
    "- Main data structure is the DataFrame\n",
    "    - Tabular data with labeled rows and columns\n",
    "    - Built on top of the NumPy array structure"
   ]
  },
  {
   "cell_type": "markdown",
   "metadata": {},
   "source": [
    "얘도 마찬가지로 for문으로 도는거 말고 자체 메소드를 이용."
   ]
  },
  {
   "cell_type": "code",
   "execution_count": 38,
   "metadata": {
    "collapsed": true
   },
   "outputs": [],
   "source": [
    "import pandas as pd"
   ]
  },
  {
   "cell_type": "markdown",
   "metadata": {},
   "source": [
    "#### 1. df.iterrows() Method\n",
    "각 row번호와 그 row의 정보 순서대로 접근가능.  \n",
    ".iloc[]으로 loop돌지 말고 얘로 돌면 된다."
   ]
  },
  {
   "cell_type": "markdown",
   "metadata": {},
   "source": [
    "#### 2. Another iterator method: .itertuples()\n"
   ]
  },
  {
   "cell_type": "markdown",
   "metadata": {},
   "source": [
    ".iterrows()는 pandas series type. []로 접근해야함.  \n",
    ".itertuples()는 namedtuple type. 얘는 attribute look up으로 접근 가능.  (namedtuple.attributename 이런식으로)  \n",
    "  \n",
    "얘가 훨씬 빠르다!!!!\n"
   ]
  },
  {
   "cell_type": "markdown",
   "metadata": {},
   "source": [
    "#### pandas alternative to looping\n",
    "루프를 피하면 더 효율적!"
   ]
  },
  {
   "cell_type": "markdown",
   "metadata": {},
   "source": [
    "#### 1. .apply() method\n",
    "- Takes a function and applies it to a DataFrame\n",
    "    - Must specify an axis to apply(0 for columns, 1 for rows)\n",
    "- Can be used with anonymous functions(lambda functions)"
   ]
  },
  {
   "cell_type": "markdown",
   "metadata": {},
   "source": [
    "루프 안쓰는게 훨씬훨씬 빠르다!!!!!"
   ]
  },
  {
   "cell_type": "markdown",
   "metadata": {},
   "source": [
    "#### Optimal pandas iterating\n",
    "#### Pandas internals\n",
    "- Eliminating loops applies to using pandas as well\n",
    "- pandas is built on Numpy.  \n",
    "  \n",
    "pandas도 broadcasing(vectorizing) 쓰면 매우매우매우 좋다."
   ]
  }
 ],
 "metadata": {
  "kernelspec": {
   "display_name": "Python 3",
   "language": "python",
   "name": "python3"
  },
  "language_info": {
   "codemirror_mode": {
    "name": "ipython",
    "version": 3
   },
   "file_extension": ".py",
   "mimetype": "text/x-python",
   "name": "python",
   "nbconvert_exporter": "python",
   "pygments_lexer": "ipython3",
   "version": "3.6.3"
  }
 },
 "nbformat": 4,
 "nbformat_minor": 2
}
