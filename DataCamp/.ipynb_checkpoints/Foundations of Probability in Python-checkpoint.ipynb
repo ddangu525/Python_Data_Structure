{
 "cells": [
  {
   "cell_type": "markdown",
   "metadata": {},
   "source": [
    "### Flipping a coin in Python"
   ]
  },
  {
   "cell_type": "code",
   "execution_count": 1,
   "metadata": {},
   "outputs": [
    {
     "data": {
      "text/plain": [
       "array([0])"
      ]
     },
     "execution_count": 1,
     "metadata": {},
     "output_type": "execute_result"
    }
   ],
   "source": [
    "from scipy.stats import bernoulli\n",
    "bernoulli.rvs(p=0.5, size=1)"
   ]
  },
  {
   "cell_type": "code",
   "execution_count": 2,
   "metadata": {
    "scrolled": true
   },
   "outputs": [
    {
     "data": {
      "text/plain": [
       "8"
      ]
     },
     "execution_count": 2,
     "metadata": {},
     "output_type": "execute_result"
    }
   ],
   "source": [
    "# 10번 던졌을 때 앞면이 몇 번 나올까???\n",
    "sum(bernoulli.rvs(p=0.5, size=10))"
   ]
  },
  {
   "cell_type": "code",
   "execution_count": 3,
   "metadata": {},
   "outputs": [
    {
     "data": {
      "text/plain": [
       "array([6])"
      ]
     },
     "execution_count": 3,
     "metadata": {},
     "output_type": "execute_result"
    }
   ],
   "source": [
    "from scipy.stats import binom\n",
    "# binomial distribution 이용해서 한번에.\n",
    "binom.rvs(n=10, p=0.5, size=1)"
   ]
  },
  {
   "cell_type": "code",
   "execution_count": 4,
   "metadata": {},
   "outputs": [
    {
     "data": {
      "text/plain": [
       "array([2, 2, 3, 2, 1, 6, 4, 3, 2, 5])"
      ]
     },
     "execution_count": 4,
     "metadata": {},
     "output_type": "execute_result"
    }
   ],
   "source": [
    "# biased coin\n",
    "binom.rvs(n=10, p=0.3, size=10)"
   ]
  },
  {
   "cell_type": "markdown",
   "metadata": {},
   "source": [
    "#### Random generator seed\n",
    "1. rvs function에서 random_state parameter을 이용하거나, \n",
    "2. numpy.random.seed()함수를 이용한다. \n",
    "    - 예) np.random.seed(42)"
   ]
  },
  {
   "cell_type": "code",
   "execution_count": 5,
   "metadata": {},
   "outputs": [
    {
     "data": {
      "text/plain": [
       "array([2, 5, 4, 3, 2, 2, 1, 5, 3, 4])"
      ]
     },
     "execution_count": 5,
     "metadata": {},
     "output_type": "execute_result"
    }
   ],
   "source": [
    "import numpy as np\n",
    "np.random.seed(42)\n",
    "binom.rvs(n=10, p=0.3, size = 10)"
   ]
  },
  {
   "cell_type": "markdown",
   "metadata": {},
   "source": [
    "## Probability mass and distribution functions"
   ]
  },
  {
   "cell_type": "markdown",
   "metadata": {},
   "source": [
    "### **PMF** and **PDF**"
   ]
  },
  {
   "cell_type": "markdown",
   "metadata": {},
   "source": [
    "### 1. PMF\n",
    "Random Variable이 특정한 값을 가질 확률"
   ]
  },
  {
   "cell_type": "code",
   "execution_count": 6,
   "metadata": {},
   "outputs": [
    {
     "data": {
      "text/plain": [
       "0.043945312499999993"
      ]
     },
     "execution_count": 6,
     "metadata": {},
     "output_type": "execute_result"
    }
   ],
   "source": [
    "# binom.pmf(k, n, p)\n",
    "# Probability of 2 heads after 10 throws with a fair coin\n",
    "binom.pmf(k=2, n=10, p=0.5)"
   ]
  },
  {
   "cell_type": "code",
   "execution_count": 7,
   "metadata": {},
   "outputs": [
    {
     "data": {
      "text/plain": [
       "0.24609375000000025"
      ]
     },
     "execution_count": 7,
     "metadata": {},
     "output_type": "execute_result"
    }
   ],
   "source": [
    "# Probability of 5 heads after 10 throws with a fair coin\n",
    "binom.pmf(k=5, n=10, p=0.5)"
   ]
  },
  {
   "cell_type": "code",
   "execution_count": 8,
   "metadata": {},
   "outputs": [
    {
     "data": {
      "text/plain": [
       "1.3026227131445298e-05"
      ]
     },
     "execution_count": 8,
     "metadata": {},
     "output_type": "execute_result"
    }
   ],
   "source": [
    "# Probability of 50 heads after 100 throws with p=0.3\n",
    "binom.pmf(k=50, n=100, p=0.3)"
   ]
  },
  {
   "cell_type": "code",
   "execution_count": 9,
   "metadata": {},
   "outputs": [
    {
     "data": {
      "text/plain": [
       "0.0467796823527298"
      ]
     },
     "execution_count": 9,
     "metadata": {},
     "output_type": "execute_result"
    }
   ],
   "source": [
    "# Probability of 65 heads after 100 throws with p=0.7\n",
    "binom.pmf(k=65, n=100, p=0.7)"
   ]
  },
  {
   "cell_type": "code",
   "execution_count": 33,
   "metadata": {},
   "outputs": [
    {
     "name": "stdout",
     "output_type": "stream",
     "text": [
      "[ 0.25  0.5   0.25]\n"
     ]
    }
   ],
   "source": [
    "# 배열을 넣어도 된다.\n",
    "# Probability of getting 0, 1, or 2 from the distribution\n",
    "probabilities = binom.pmf([0, 1, 2], n=2, p=.5)\n",
    "print(probabilities)"
   ]
  },
  {
   "cell_type": "markdown",
   "metadata": {},
   "source": [
    "### 2. CDF\n",
    "Random Variable이 특정한 값 이하의 값을 가질 확률"
   ]
  },
  {
   "cell_type": "code",
   "execution_count": 10,
   "metadata": {},
   "outputs": [
    {
     "data": {
      "text/plain": [
       "0.5"
      ]
     },
     "execution_count": 10,
     "metadata": {},
     "output_type": "execute_result"
    }
   ],
   "source": [
    "# binom.cdf(k, n, p)\n",
    "binom.cdf(k=1, n=3, p=0.5)"
   ]
  },
  {
   "cell_type": "code",
   "execution_count": 11,
   "metadata": {},
   "outputs": [
    {
     "data": {
      "text/plain": [
       "0.62304687499999989"
      ]
     },
     "execution_count": 11,
     "metadata": {},
     "output_type": "execute_result"
    }
   ],
   "source": [
    "# Probability of 5 heads or less after 10 throws with a fair coin\n",
    "binom.cdf(k=5, n=10, p=0.5)"
   ]
  },
  {
   "cell_type": "code",
   "execution_count": 12,
   "metadata": {},
   "outputs": [
    {
     "data": {
      "text/plain": [
       "0.99999096531380427"
      ]
     },
     "execution_count": 12,
     "metadata": {},
     "output_type": "execute_result"
    }
   ],
   "source": [
    "# Probability of 50 heads or less after 100 throws with p=0.3\n",
    "binom.cdf(k=50, n=100, p=0.3)"
   ]
  },
  {
   "cell_type": "code",
   "execution_count": 13,
   "metadata": {},
   "outputs": [
    {
     "data": {
      "text/plain": [
       "0.98750159283356176"
      ]
     },
     "execution_count": 13,
     "metadata": {},
     "output_type": "execute_result"
    }
   ],
   "source": [
    "# Probability of More than 59 heads after 100 throws with p=0.7\n",
    "1 - binom.cdf(k=59, n=100, p=0.7)"
   ]
  },
  {
   "cell_type": "code",
   "execution_count": 16,
   "metadata": {},
   "outputs": [
    {
     "data": {
      "text/plain": [
       "0.98750159283356176"
      ]
     },
     "execution_count": 16,
     "metadata": {},
     "output_type": "execute_result"
    }
   ],
   "source": [
    "# 혹은 binom.sf(k, n, p)로 complement 계산 가능.\n",
    "# sf: srvival function. tail부분 계산해줌..\n",
    "binom.sf(k=59, n=100, p=0.7)"
   ]
  },
  {
   "cell_type": "markdown",
   "metadata": {},
   "source": [
    "### Expected value, mean, and variance"
   ]
  },
  {
   "cell_type": "markdown",
   "metadata": {},
   "source": [
    "scipy.stats.describe() for get the Arithmetic mean and other stats."
   ]
  },
  {
   "cell_type": "code",
   "execution_count": 17,
   "metadata": {},
   "outputs": [
    {
     "data": {
      "text/plain": [
       "DescribeResult(nobs=2, minmax=(0, 1), mean=0.5, variance=0.5, skewness=0.0, kurtosis=-2.0)"
      ]
     },
     "execution_count": 17,
     "metadata": {},
     "output_type": "execute_result"
    }
   ],
   "source": [
    "from scipy.stats import describe\n",
    "describe([0, 1])"
   ]
  },
  {
   "cell_type": "code",
   "execution_count": 18,
   "metadata": {},
   "outputs": [
    {
     "data": {
      "text/plain": [
       "0.5"
      ]
     },
     "execution_count": 18,
     "metadata": {},
     "output_type": "execute_result"
    }
   ],
   "source": [
    "describe([0, 1]).mean"
   ]
  },
  {
   "cell_type": "markdown",
   "metadata": {},
   "source": [
    "시행 수가 많아질수록 Sample mean은 Expected Value에 수렴한다. **Law of Large Numbers**"
   ]
  },
  {
   "cell_type": "markdown",
   "metadata": {},
   "source": [
    "### Variance: a measure of dispersion"
   ]
  },
  {
   "cell_type": "code",
   "execution_count": 19,
   "metadata": {},
   "outputs": [
    {
     "data": {
      "text/plain": [
       "0.5"
      ]
     },
     "execution_count": 19,
     "metadata": {},
     "output_type": "execute_result"
    }
   ],
   "source": [
    "describe([0, 1]).variance"
   ]
  },
  {
   "cell_type": "markdown",
   "metadata": {},
   "source": [
    "For X ~ Binomial(n, p)  \n",
    "E(X) = n x p  \n",
    "Var(X) = n x p x (1 - p)  "
   ]
  },
  {
   "cell_type": "markdown",
   "metadata": {},
   "source": [
    "binom.stats() method to get the expected value and variance"
   ]
  },
  {
   "cell_type": "code",
   "execution_count": 20,
   "metadata": {},
   "outputs": [
    {
     "data": {
      "text/plain": [
       "(array(5.0), array(2.5))"
      ]
     },
     "execution_count": 20,
     "metadata": {},
     "output_type": "execute_result"
    }
   ],
   "source": [
    "binom.stats(n=10, p=0.5)"
   ]
  },
  {
   "cell_type": "code",
   "execution_count": 21,
   "metadata": {},
   "outputs": [
    {
     "data": {
      "text/plain": [
       "(array(0.3), array(0.21))"
      ]
     },
     "execution_count": 21,
     "metadata": {},
     "output_type": "execute_result"
    }
   ],
   "source": [
    "# expected value and variance for one biased coin flip, with 30% probability of success\n",
    "binom.stats(n=1, p=.3)"
   ]
  },
  {
   "cell_type": "markdown",
   "metadata": {},
   "source": [
    "### Calculating probabilities of two events"
   ]
  },
  {
   "cell_type": "code",
   "execution_count": 22,
   "metadata": {
    "collapsed": true
   },
   "outputs": [],
   "source": [
    "# Generate a sample that represents 1000 throws of two fair coin flips\n",
    "sample = binom.rvs(n=2, p=0.5, size=1000, random_state=1)"
   ]
  },
  {
   "cell_type": "code",
   "execution_count": 23,
   "metadata": {
    "collapsed": true
   },
   "outputs": [
    {
     "data": {
      "text/plain": [
       "array([1, 1, 0, 1, 0, 0, 0, 1, 1, 1, 1, 1, 0, 2, 0, 1, 1, 1, 0, 0, 2, 2, 1,\n",
       "       1, 2, 2, 0, 0, 0, 2, 0, 1, 2, 1, 1, 1, 1, 2, 0, 2, 2, 1, 1, 2, 0, 1,\n",
       "       2, 1, 1, 0, 0, 1, 0, 1, 1, 0, 1, 0, 1, 1, 0, 1, 1, 1, 0, 1, 1, 1, 2,\n",
       "       1, 2, 0, 0, 2, 1, 0, 2, 1, 2, 1, 2, 1, 2, 1, 1, 2, 1, 2, 1, 1, 0, 2,\n",
       "       1, 1, 1, 0, 2, 1, 0, 1, 1, 1, 2, 1, 2, 1, 0, 2, 1, 2, 0, 0, 2, 1, 0,\n",
       "       2, 2, 2, 1, 0, 0, 0, 0, 0, 2, 1, 1, 2, 0, 1, 1, 2, 1, 0, 2, 0, 2, 1,\n",
       "       2, 1, 1, 0, 0, 0, 0, 0, 0, 1, 1, 0, 0, 2, 1, 0, 1, 1, 0, 1, 2, 2, 0,\n",
       "       1, 1, 2, 0, 0, 0, 1, 1, 1, 1, 2, 1, 1, 1, 1, 1, 1, 0, 1, 1, 0, 2, 0,\n",
       "       1, 2, 0, 1, 1, 2, 1, 0, 1, 2, 2, 2, 0, 0, 1, 2, 2, 1, 2, 1, 1, 1, 1,\n",
       "       1, 2, 2, 1, 2, 0, 0, 0, 1, 0, 2, 2, 0, 0, 1, 0, 2, 1, 2, 1, 2, 2, 2,\n",
       "       1, 1, 2, 1, 1, 1, 0, 1, 1, 2, 1, 2, 1, 0, 2, 1, 0, 1, 1, 2, 0, 2, 1,\n",
       "       2, 1, 2, 1, 1, 1, 1, 2, 2, 2, 1, 2, 1, 1, 1, 1, 1, 1, 1, 1, 1, 2, 1,\n",
       "       0, 1, 1, 2, 2, 2, 1, 1, 1, 2, 1, 2, 1, 1, 1, 2, 1, 1, 1, 0, 1, 0, 2,\n",
       "       0, 2, 2, 1, 1, 0, 1, 1, 0, 1, 1, 2, 2, 1, 0, 0, 1, 1, 0, 0, 2, 1, 1,\n",
       "       0, 0, 1, 1, 0, 1, 1, 1, 0, 2, 0, 1, 2, 0, 1, 2, 2, 1, 2, 2, 2, 2, 0,\n",
       "       1, 1, 1, 2, 0, 2, 1, 1, 1, 1, 1, 2, 1, 2, 2, 1, 0, 2, 1, 2, 1, 2, 1,\n",
       "       1, 0, 1, 0, 0, 1, 0, 1, 2, 1, 1, 0, 1, 1, 2, 0, 0, 1, 2, 1, 0, 1, 0,\n",
       "       2, 1, 0, 1, 2, 1, 1, 1, 1, 2, 2, 0, 1, 1, 2, 0, 1, 0, 1, 0, 1, 2, 1,\n",
       "       2, 1, 2, 1, 2, 1, 0, 0, 0, 0, 1, 0, 0, 2, 1, 1, 1, 1, 1, 1, 2, 1, 2,\n",
       "       0, 2, 0, 1, 0, 1, 0, 2, 2, 2, 2, 0, 0, 0, 1, 2, 2, 1, 1, 2, 1, 0, 0,\n",
       "       0, 2, 0, 1, 2, 1, 2, 1, 1, 1, 2, 1, 1, 1, 2, 0, 1, 2, 0, 1, 1, 2, 1,\n",
       "       1, 1, 1, 1, 0, 1, 1, 1, 2, 1, 0, 1, 2, 2, 2, 2, 0, 0, 0, 1, 0, 1, 1,\n",
       "       2, 0, 1, 0, 1, 1, 0, 0, 1, 1, 1, 0, 1, 2, 2, 1, 2, 2, 1, 0, 0, 0, 1,\n",
       "       1, 2, 0, 2, 2, 2, 1, 1, 1, 0, 1, 1, 1, 1, 1, 0, 0, 2, 1, 2, 0, 1, 1,\n",
       "       2, 1, 0, 1, 1, 1, 2, 0, 0, 1, 2, 0, 1, 1, 1, 2, 1, 0, 1, 2, 2, 1, 1,\n",
       "       1, 1, 1, 1, 1, 2, 0, 1, 1, 2, 1, 2, 1, 0, 2, 1, 1, 1, 0, 0, 0, 0, 1,\n",
       "       0, 0, 1, 2, 0, 0, 0, 2, 1, 1, 1, 2, 1, 2, 1, 1, 0, 2, 0, 0, 1, 1, 0,\n",
       "       1, 0, 1, 2, 0, 1, 1, 1, 1, 1, 1, 2, 1, 2, 0, 2, 0, 1, 1, 0, 2, 1, 1,\n",
       "       1, 0, 0, 0, 1, 1, 1, 0, 2, 0, 2, 0, 1, 0, 2, 0, 1, 1, 0, 1, 0, 2, 1,\n",
       "       0, 2, 0, 2, 1, 1, 2, 1, 2, 1, 0, 2, 2, 1, 1, 1, 2, 1, 2, 2, 1, 1, 1,\n",
       "       0, 2, 2, 0, 0, 0, 1, 2, 1, 1, 0, 1, 1, 1, 1, 1, 2, 1, 1, 1, 0, 1, 1,\n",
       "       1, 2, 1, 2, 1, 1, 0, 1, 2, 1, 2, 1, 1, 2, 0, 1, 2, 1, 0, 2, 1, 1, 1,\n",
       "       2, 1, 2, 0, 2, 0, 1, 2, 0, 2, 2, 1, 1, 2, 1, 0, 2, 2, 1, 2, 1, 1, 1,\n",
       "       1, 0, 2, 1, 0, 0, 0, 1, 1, 2, 1, 2, 1, 2, 1, 1, 0, 1, 0, 1, 0, 1, 2,\n",
       "       1, 2, 1, 1, 2, 1, 1, 2, 1, 1, 1, 1, 1, 2, 1, 1, 1, 2, 2, 0, 1, 2, 1,\n",
       "       2, 1, 1, 1, 0, 0, 1, 2, 1, 2, 0, 1, 0, 1, 1, 1, 1, 1, 0, 1, 1, 1, 0,\n",
       "       1, 1, 1, 1, 0, 0, 1, 2, 0, 1, 1, 1, 0, 1, 1, 2, 2, 1, 1, 0, 1, 1, 2,\n",
       "       1, 1, 0, 1, 2, 2, 1, 0, 1, 1, 1, 1, 1, 2, 2, 1, 2, 0, 2, 0, 0, 1, 0,\n",
       "       1, 0, 1, 0, 1, 1, 1, 0, 1, 1, 2, 1, 1, 0, 1, 1, 0, 1, 1, 1, 2, 1, 2,\n",
       "       1, 2, 1, 0, 2, 0, 2, 1, 1, 2, 0, 1, 0, 1, 0, 1, 2, 2, 1, 1, 2, 1, 1,\n",
       "       0, 1, 0, 1, 1, 1, 2, 1, 1, 1, 0, 1, 0, 1, 1, 2, 0, 1, 1, 2, 0, 0, 1,\n",
       "       2, 0, 2, 1, 0, 0, 1, 1, 1, 0, 0, 0, 0, 1, 1, 1, 1, 2, 2, 1, 2, 0, 0,\n",
       "       1, 1, 2, 1, 1, 2, 1, 2, 1, 1, 1, 1, 0, 1, 0, 0, 2, 0, 1, 1, 1, 0, 2,\n",
       "       2, 2, 1, 1, 1, 1, 2, 1, 1, 1, 2])"
      ]
     },
     "execution_count": 23,
     "metadata": {},
     "output_type": "execute_result"
    }
   ],
   "source": [
    "sample"
   ]
  },
  {
   "cell_type": "code",
   "execution_count": 31,
   "metadata": {},
   "outputs": [
    {
     "data": {
      "text/plain": [
       "RepeatedResults(values=array([ 0.,  1.,  2.]), counts=array([249, 497, 254], dtype=int64))"
      ]
     },
     "execution_count": 31,
     "metadata": {},
     "output_type": "execute_result"
    }
   ],
   "source": [
    "from scipy.stats import find_repeats\n",
    "find_repeats(sample)"
   ]
  },
  {
   "cell_type": "code",
   "execution_count": 32,
   "metadata": {},
   "outputs": [
    {
     "data": {
      "text/plain": [
       "254"
      ]
     },
     "execution_count": 32,
     "metadata": {},
     "output_type": "execute_result"
    }
   ],
   "source": [
    "find_repeats(sample).counts[2]"
   ]
  },
  {
   "cell_type": "markdown",
   "metadata": {},
   "source": [
    "#### Measuring a biased sample"
   ]
  },
  {
   "cell_type": "markdown",
   "metadata": {},
   "source": [
    "Using `biased_sample` data generated, calculate the relative frequency of each outcomes"
   ]
  },
  {
   "cell_type": "code",
   "execution_count": 27,
   "metadata": {},
   "outputs": [
    {
     "data": {
      "text/plain": [
       "array([ 0.039,  0.317,  0.644])"
      ]
     },
     "execution_count": 27,
     "metadata": {},
     "output_type": "execute_result"
    }
   ],
   "source": [
    "from scipy.stats import relfreq\n",
    "biased_sample = binom.rvs(n=2, p=0.8, size=1000, random_state=1)\n",
    "relfreq(biased_sample, numbins=3).frequency"
   ]
  },
  {
   "cell_type": "markdown",
   "metadata": {},
   "source": [
    "각각 TT, HT, HH의 확률. numbins = 3 for the three possible outcomes  "
   ]
  },
  {
   "cell_type": "markdown",
   "metadata": {},
   "source": [
    "## Conditional probabilities"
   ]
  },
  {
   "cell_type": "markdown",
   "metadata": {},
   "source": [
    "#### Contingency table\n",
    "모든 경우의 수를 다 적어놓은 표. "
   ]
  },
  {
   "cell_type": "markdown",
   "metadata": {},
   "source": [
    "The following table shows the numbers of red and black cards in a deck that are Aces and non-Aces:  \n",
    "  \n",
    "            Red   Black  Total\n",
    "    Ace       2     2       4\n",
    "    Non Ace  24    24      48\n",
    "    Total    26    26      52"
   ]
  },
  {
   "cell_type": "markdown",
   "metadata": {},
   "source": [
    "## Total probability law"
   ]
  },
  {
   "cell_type": "markdown",
   "metadata": {},
   "source": [
    "#### Formula 1 engines\n",
    "Suppose that two manufacturers, A and B, supply the engines for Formula 1 racing cars, with the following characteristics:  \n",
    "  \n",
    "- 99% of the engines from factory A last more than 5,000 km.\n",
    "- Factory B manufactures engines that last more than 5,000 km with 95% probability.\n",
    "- 70% of the engines are from manufacturer A, and the rest are produced by manufacturer B.\n",
    "  \n",
    "What is the chance that an engine will last more than 5,000 km?"
   ]
  },
  {
   "cell_type": "markdown",
   "metadata": {},
   "source": [
    "#### Calculate the following probabilities: P_A, P_B, P_last5000_g_A, and P_last5000_g_B"
   ]
  },
  {
   "cell_type": "code",
   "execution_count": null,
   "metadata": {
    "collapsed": true
   },
   "outputs": [],
   "source": [
    "# Needed probabilities\n",
    "P_A = .7\n",
    "P_last5000_g_A = .99\n",
    "P_B = .3\n",
    "P_last5000_g_B = .95\n",
    "\n",
    "# Total probability calculation\n",
    "P_last_5000 = P_A * P_last5000_g_A + P_B * P_last5000_g_B\n",
    "\n",
    "print(P_last_5000)"
   ]
  },
  {
   "cell_type": "markdown",
   "metadata": {},
   "source": [
    "## Bayes' rule"
   ]
  },
  {
   "cell_type": "markdown",
   "metadata": {},
   "source": [
    "#### Factories and parts example\n",
    "A certain electronic part is manufactured by three different vendors, V1, V2, and V3.  \n",
    "Half of the parts are produced by V1, and V2 and V3 each produce 25%.  \n",
    "The probability of a part being damaged given that it was produced by V1 is 1%, while it's 2% for V2 and 3% for V3.  \n",
    "- Given that the part is damaged, what is the probability that it was manufactured by V1?"
   ]
  },
  {
   "cell_type": "code",
   "execution_count": 34,
   "metadata": {},
   "outputs": [
    {
     "name": "stdout",
     "output_type": "stream",
     "text": [
      "0.2857142857142857\n"
     ]
    }
   ],
   "source": [
    "P_V1 = 0.5\n",
    "P_V2 = 0.25\n",
    "P_V3 = 0.25\n",
    "\n",
    "P_D_g_V1 = 0.01\n",
    "P_D_g_V2 = 0.02\n",
    "P_D_g_V3 = 0.03\n",
    "\n",
    "P_Damaged = P_V1 * P_D_g_V1 + P_V2 * P_D_g_V2 + P_V3 * P_D_g_V3\n",
    "\n",
    "P_V1_g_D = (P_V1 * P_D_g_V1) / P_Damaged # P(V1|D) calculation\n",
    "print(P_V1_g_D)"
   ]
  },
  {
   "cell_type": "markdown",
   "metadata": {},
   "source": [
    "## Normal distributions"
   ]
  },
  {
   "cell_type": "code",
   "execution_count": 35,
   "metadata": {
    "collapsed": true
   },
   "outputs": [],
   "source": [
    "# Import norm, matplotlib.pyplot, and seaborn\n",
    "from scipy.stats import norm\n",
    "import matplotlib.pyplot as plt\n",
    "import seaborn as sns"
   ]
  },
  {
   "cell_type": "code",
   "execution_count": 36,
   "metadata": {
    "collapsed": true
   },
   "outputs": [],
   "source": [
    "# Create the sample using norm.rvs()\n",
    "sample = norm.rvs(loc = 0, scale = 1, size = 10000, random_state = 13)"
   ]
  },
  {
   "cell_type": "code",
   "execution_count": 37,
   "metadata": {},
   "outputs": [
    {
     "data": {
      "image/png": "[encoded data removed]",
      "text/plain": [
       "<matplotlib.figure.Figure at 0x2406039ba20>"
      ]
     },
     "metadata": {},
     "output_type": "display_data"
    }
   ],
   "source": [
    "# Plot the sample\n",
    "sns.distplot(sample)\n",
    "plt.show()"
   ]
  },
  {
   "cell_type": "code",
   "execution_count": 38,
   "metadata": {},
   "outputs": [
    {
     "data": {
      "text/plain": [
       "0.24197072451914337"
      ]
     },
     "execution_count": 38,
     "metadata": {},
     "output_type": "execute_result"
    }
   ],
   "source": [
    "# Calculate the probability density with pdf\n",
    "norm.pdf(-1, loc=0, scale=1)   # loc: mean, scale: standard deviation"
   ]
  },
  {
   "cell_type": "code",
   "execution_count": 39,
   "metadata": {},
   "outputs": [
    {
     "data": {
      "text/plain": [
       "0.15865525393145707"
      ]
     },
     "execution_count": 39,
     "metadata": {},
     "output_type": "execute_result"
    }
   ],
   "source": [
    "# Calculate CDF\n",
    "norm.cdf(-1)    # loc, scale default 값은 표준정규분포."
   ]
  },
  {
   "cell_type": "markdown",
   "metadata": {},
   "source": [
    "### The Percent point function (PPF)"
   ]
  },
  {
   "cell_type": "code",
   "execution_count": 40,
   "metadata": {},
   "outputs": [
    {
     "data": {
      "text/plain": [
       "-0.84162123357291418"
      ]
     },
     "execution_count": 40,
     "metadata": {},
     "output_type": "execute_result"
    }
   ],
   "source": [
    "norm.ppf(0.2)    # 표준 정규분포에서 cdf가 0.2인 곳의 값."
   ]
  },
  {
   "cell_type": "code",
   "execution_count": 41,
   "metadata": {},
   "outputs": [
    {
     "data": {
      "text/plain": [
       "0.0"
      ]
     },
     "execution_count": 41,
     "metadata": {},
     "output_type": "execute_result"
    }
   ],
   "source": [
    "norm.ppf(0.5)"
   ]
  },
  {
   "cell_type": "markdown",
   "metadata": {},
   "source": [
    "ppf와 cdf는 역함수 관계."
   ]
  },
  {
   "cell_type": "markdown",
   "metadata": {},
   "source": [
    "#### Adults' heights example\n",
    "The heights of adults aged between 18 and 35 years are normally distributed. For males,  \n",
    "the mean height is 70 inches with a standard deviation of 4.  \n",
    "Adult females have a mean height of 65 inches with a standard deviation of 3.5.  \n",
    "You can see how the heights are distributed in this plot:  \n",
    "  \n",
    "<img src=\"https://assets.datacamp.com/production/repositories/3819/datasets/f87c00739d12771e61e77a2cc97449c98f106afd/male-females.png\" width=\"300\">  \n",
    "Adults heights distribution for male and female  \n",
    "   \n",
    "Using the previous information, complete the following exercises.  \n",
    "  \n",
    "For your convenience, norm has been imported from the library scipy.stats.  "
   ]
  },
  {
   "cell_type": "code",
   "execution_count": 42,
   "metadata": {},
   "outputs": [
    {
     "name": "stdout",
     "output_type": "stream",
     "text": [
      "(61.519397408765862, 68.480602591234131)\n"
     ]
    }
   ],
   "source": [
    "# 1. Print the range of female heights one standard deviation from the mean.\n",
    "\n",
    "# Values one standard deviation from mean height for females\n",
    "interval = norm.interval(0.68, loc=65, scale=3.5)\n",
    "print(interval)"
   ]
  },
  {
   "cell_type": "code",
   "execution_count": 43,
   "metadata": {},
   "outputs": [
    {
     "name": "stdout",
     "output_type": "stream",
     "text": [
      "79.3053914962\n"
     ]
    }
   ],
   "source": [
    "# 2. Print the value where the tallest males fall with 0.01 probability.\n",
    "\n",
    "# Value where the tallest males fall with 0.01 probability\n",
    "tallest = norm.ppf(0.99, loc=70, scale=4)\n",
    "print(tallest)"
   ]
  },
  {
   "cell_type": "code",
   "execution_count": 44,
   "metadata": {},
   "outputs": [
    {
     "name": "stdout",
     "output_type": "stream",
     "text": [
      "0.226627352377 0.0111354894796\n"
     ]
    }
   ],
   "source": [
    "# 3. Print the probability of being taller than 73 inches for a male and for a female.\n",
    "\n",
    "# Probability of being taller than 73 inches for males and females\n",
    "P_taller_male = norm.sf(73, loc=70, scale=4)\n",
    "P_taller_female = norm.sf(73, loc=65, scale=3.5)\n",
    "print(P_taller_male, P_taller_female)"
   ]
  },
  {
   "cell_type": "code",
   "execution_count": 45,
   "metadata": {},
   "outputs": [
    {
     "name": "stdout",
     "output_type": "stream",
     "text": [
      "0.012224472655 0.126548954474\n"
     ]
    }
   ],
   "source": [
    "# 4. Print the probability of being shorter than 61 inches for a male and for a female.\n",
    "\n",
    "# Probability of being shorter than 61 inches for males and females\n",
    "P_shorter_male = norm.cdf(61, loc=70, scale=4)\n",
    "P_shorter_female = norm.cdf(61, loc=65, scale=3.5)\n",
    "print(P_shorter_male, P_shorter_female)"
   ]
  },
  {
   "cell_type": "markdown",
   "metadata": {},
   "source": [
    "## Poisson distributions"
   ]
  },
  {
   "cell_type": "markdown",
   "metadata": {},
   "source": [
    "어떤 시간간격 동안 사건이 발생할 확률이 고정돼있을 때.  \n",
    "예를 들어 콜센터에 1분당 전화가 2.2회 온다고 할 때 3번의 전화가 올 확률은?  ..."
   ]
  },
  {
   "cell_type": "code",
   "execution_count": 46,
   "metadata": {
    "collapsed": true
   },
   "outputs": [],
   "source": [
    "from scipy.stats import poisson"
   ]
  },
  {
   "cell_type": "code",
   "execution_count": 47,
   "metadata": {},
   "outputs": [
    {
     "data": {
      "text/plain": [
       "0.19663867170702193"
      ]
     },
     "execution_count": 47,
     "metadata": {},
     "output_type": "execute_result"
    }
   ],
   "source": [
    "poisson.pmf(k=3, mu=2.2)"
   ]
  },
  {
   "cell_type": "code",
   "execution_count": 48,
   "metadata": {
    "collapsed": true
   },
   "outputs": [],
   "source": [
    "# Create the sample using poisson.rvs()\n",
    "sample = poisson.rvs(mu=2.2, size=10000, random_state=13)"
   ]
  },
  {
   "cell_type": "code",
   "execution_count": 49,
   "metadata": {},
   "outputs": [
    {
     "data": {
      "text/plain": [
       "array([5, 4, 1, ..., 3, 1, 2])"
      ]
     },
     "execution_count": 49,
     "metadata": {},
     "output_type": "execute_result"
    }
   ],
   "source": [
    "sample"
   ]
  },
  {
   "cell_type": "code",
   "execution_count": 50,
   "metadata": {},
   "outputs": [
    {
     "data": {
      "image/png": "[encoded data removed]",
      "text/plain": [
       "<matplotlib.figure.Figure at 0x240632cf278>"
      ]
     },
     "metadata": {},
     "output_type": "display_data"
    }
   ],
   "source": [
    "sns.distplot(sample, kde=False)\n",
    "plt.show()"
   ]
  },
  {
   "cell_type": "code",
   "execution_count": 51,
   "metadata": {},
   "outputs": [
    {
     "data": {
      "image/png": "[encoded data removed]",
      "text/plain": [
       "<matplotlib.figure.Figure at 0x24063009400>"
      ]
     },
     "metadata": {},
     "output_type": "display_data"
    }
   ],
   "source": [
    "sns.distplot(sample, kde=True)\n",
    "plt.show()"
   ]
  },
  {
   "cell_type": "markdown",
   "metadata": {},
   "source": [
    "#### Highway accidents example\n",
    "On a certain turn on a very busy highway, there are 2 accidents per day.  \n",
    "Let's assume the number of accidents per day can be modeled as a Poisson random variable and is distributed as in the following plot:  \n",
    "<img src=\"https://assets.datacamp.com/production/repositories/3819/datasets/1a4cb33d15fdc97987a153fbaae96485107ae00b/accidents.png\" width=\"400\">  \n",
    "  \n",
    "For your convenience, the poisson object has already been imported from the scipy.stats library.  \n",
    "Aiming to improve road safety, the transportation agency of the regional government has assigned you the following tasks.  "
   ]
  },
  {
   "cell_type": "markdown",
   "metadata": {},
   "source": [
    "#### 1. Determine and print the probability of there being 5 accidents on any day."
   ]
  },
  {
   "cell_type": "code",
   "execution_count": 52,
   "metadata": {},
   "outputs": [
    {
     "name": "stdout",
     "output_type": "stream",
     "text": [
      "0.0360894088631\n"
     ]
    }
   ],
   "source": [
    "# Import the poisson object\n",
    "from scipy.stats import poisson\n",
    "\n",
    "# Probability of 5 accidents any day\n",
    "P_five_accidents = poisson.pmf(k=5, mu=2)\n",
    "\n",
    "# Print the result\n",
    "print(P_five_accidents)"
   ]
  },
  {
   "cell_type": "markdown",
   "metadata": {},
   "source": [
    "#### 2. Determine and print the probability of having more than 3 and less than 6 accidents on any day."
   ]
  },
  {
   "cell_type": "code",
   "execution_count": 53,
   "metadata": {},
   "outputs": [
    {
     "name": "stdout",
     "output_type": "stream",
     "text": [
      "0.126312931021\n"
     ]
    }
   ],
   "source": [
    "# Import the poisson object\n",
    "from scipy.stats import poisson\n",
    "\n",
    "# Probability of more than 3 and less than 6 accidents any day\n",
    "P_less_than_6 = poisson.cdf(k=5, mu=2)\n",
    "P_less_than_3 = poisson.cdf(k=3, mu=2)\n",
    "\n",
    "# Print the result\n",
    "print(P_less_than_6 - P_less_than_3)"
   ]
  },
  {
   "cell_type": "markdown",
   "metadata": {},
   "source": [
    "#### 3. Determine and print the probability of having more than 3 accidents on any day."
   ]
  },
  {
   "cell_type": "code",
   "execution_count": 54,
   "metadata": {},
   "outputs": [
    {
     "name": "stdout",
     "output_type": "stream",
     "text": [
      "0.142876539501\n"
     ]
    }
   ],
   "source": [
    "# Import the poisson object\n",
    "from scipy.stats import poisson\n",
    "\n",
    "# Probability of more than 3 accidents any day\n",
    "P_more_than_3 = poisson.sf(k=3, mu=2)\n",
    "\n",
    "# Print the result\n",
    "print(P_more_than_3)"
   ]
  },
  {
   "cell_type": "markdown",
   "metadata": {},
   "source": [
    "#### 4. Determine and print the number of accidents that is likely to happen with 0.75 probability."
   ]
  },
  {
   "cell_type": "code",
   "execution_count": 55,
   "metadata": {},
   "outputs": [
    {
     "name": "stdout",
     "output_type": "stream",
     "text": [
      "3.0\n"
     ]
    }
   ],
   "source": [
    "# Import the poisson object\n",
    "from scipy.stats import poisson\n",
    "\n",
    "# Number of accidents with 0.75 probability\n",
    "accidents = poisson.ppf(q=0.75, mu=2)\n",
    "\n",
    "# Print the result\n",
    "print(accidents)"
   ]
  },
  {
   "cell_type": "markdown",
   "metadata": {},
   "source": [
    "### Generating and plotting Poisson distributions\n",
    "In the previous exercise, you calculated some probabilities. Now let's plot that distribution.   \n",
    "  \n",
    "Recall that on a certain highway turn, there are 2 accidents per day on average.  \n",
    "Assuming the number of accidents per day can be modeled as a Poisson random variable, let's plot the distribution.  "
   ]
  },
  {
   "cell_type": "code",
   "execution_count": 56,
   "metadata": {},
   "outputs": [
    {
     "data": {
      "image/png": "[encoded data removed]",
      "text/plain": [
       "<matplotlib.figure.Figure at 0x24063446be0>"
      ]
     },
     "metadata": {},
     "output_type": "display_data"
    }
   ],
   "source": [
    "# Import poisson, matplotlib.pyplot, and seaborn\n",
    "from scipy.stats import poisson\n",
    "import matplotlib.pyplot as plt \n",
    "import seaborn as sns\n",
    "\n",
    "# Create the sample\n",
    "sample = poisson.rvs(mu=2, size=10000, random_state=13)\n",
    "\n",
    "# Plot the sample\n",
    "sns.distplot(sample, kde=False)\n",
    "plt.show()"
   ]
  },
  {
   "cell_type": "markdown",
   "metadata": {},
   "source": [
    "## Geometric distributions\n",
    "With a geometric distribution we model a series of failed outcomes until we obtain a successful one.  \n",
    "성공률이 p일 때, k번 시도만에 성공할 확률!"
   ]
  },
  {
   "cell_type": "code",
   "execution_count": 57,
   "metadata": {
    "collapsed": true
   },
   "outputs": [],
   "source": [
    "from scipy.stats import geom"
   ]
  },
  {
   "cell_type": "code",
   "execution_count": 59,
   "metadata": {},
   "outputs": [
    {
     "data": {
      "text/plain": [
       "0.012471080216374412"
      ]
     },
     "execution_count": 59,
     "metadata": {},
     "output_type": "execute_result"
    }
   ],
   "source": [
    "geom.pmf(k=30, p=0.0333)"
   ]
  },
  {
   "cell_type": "code",
   "execution_count": 61,
   "metadata": {},
   "outputs": [
    {
     "data": {
      "text/plain": [
       "0.75990000000000002"
      ]
     },
     "execution_count": 61,
     "metadata": {},
     "output_type": "execute_result"
    }
   ],
   "source": [
    "geom.cdf(k=4, p=0.3)"
   ]
  },
  {
   "cell_type": "code",
   "execution_count": 62,
   "metadata": {},
   "outputs": [
    {
     "data": {
      "image/png": "[encoded data removed]",
      "text/plain": [
       "<matplotlib.figure.Figure at 0x240634d59e8>"
      ]
     },
     "metadata": {},
     "output_type": "display_data"
    }
   ],
   "source": [
    "import numpy as np\n",
    "sample = geom.rvs(p=0.3, size=10000, random_state=13)\n",
    "sns.distplot(sample, bins = np.linspace(0, 20, 21), kde=False)\n",
    "plt.show()"
   ]
  },
  {
   "cell_type": "markdown",
   "metadata": {},
   "source": [
    "## From sample mean to population mean"
   ]
  },
  {
   "cell_type": "code",
   "execution_count": 64,
   "metadata": {},
   "outputs": [
    {
     "name": "stdout",
     "output_type": "stream",
     "text": [
      "[0 1 1 1 0 0 0 1 1 1 0 1 1 0 0 0 0 1 0 0 1 0 0 0 0 1 0 1 1 0 1 0 0 1 1 1 0\n",
      " 0 1 0 0 0 0 1 0 1 0 1 1 0 1 1 1 1 1 1 0 0 0 0 0 0 1 0 0 1 0 1 0 1 1 0 0 1\n",
      " 1 1 1 0 0 0 1 1 0 0 0 0 1 1 1 0 0 1 1 1 1 0 1 0 0 0]\n"
     ]
    }
   ],
   "source": [
    "from scipy.stats import binom\n",
    "from scipy.stats import describe\n",
    "\n",
    "samples = binom.rvs(n=1, p=0.5, size=250, random_state=42)\n",
    "\n",
    "print(samples[0:100])"
   ]
  },
  {
   "cell_type": "code",
   "execution_count": 65,
   "metadata": {},
   "outputs": [
    {
     "name": "stdout",
     "output_type": "stream",
     "text": [
      "0.6\n"
     ]
    }
   ],
   "source": [
    "# Calculate the sample mean\n",
    "print(describe(samples[0:10]).mean)"
   ]
  },
  {
   "cell_type": "code",
   "execution_count": 66,
   "metadata": {
    "collapsed": true
   },
   "outputs": [],
   "source": [
    "import matplotlib.pyplot as plt\n",
    "\n",
    "# Define our variables\n",
    "coin_flips, p, sample_size, averages = 1, 0.5, 1000, []\n",
    "\n",
    "# Generate the sample\n",
    "samples = binom.rvs(n=coin_flips, p=p, size=sample_size, random_state=42)"
   ]
  },
  {
   "cell_type": "code",
   "execution_count": 67,
   "metadata": {},
   "outputs": [
    {
     "name": "stdout",
     "output_type": "stream",
     "text": [
      "[0.5, 0.66666666666666663, 0.75, 0.59999999999999998, 0.5, 0.42857142857142855, 0.5, 0.55555555555555558, 0.59999999999999998, 0.54545454545454541]\n"
     ]
    }
   ],
   "source": [
    "# Calculate the sample mean\n",
    "for i in range(2, sample_size+1):\n",
    "    averages.append(describe(sample[0:i]).mean)\n",
    "    \n",
    "# Print the first values of averages \n",
    "print(averages[0:10])"
   ]
  },
  {
   "cell_type": "code",
   "execution_count": 68,
   "metadata": {},
   "outputs": [
    {
     "data": {
      "image/png": "[encoded data removed]",
      "text/plain": [
       "<matplotlib.figure.Figure at 0x24063450390>"
      ]
     },
     "metadata": {},
     "output_type": "display_data"
    }
   ],
   "source": [
    "# Add population mean line and sample mean plot\n",
    "plt.axhline(binom.mean(n=coin_flips, p=p), color='red')\n",
    "plt.plot(averages, '-')\n",
    "\n",
    "# Add legend\n",
    "plt.legend((\"Population mean\", \"Sample mean\"), loc='upper right')\n",
    "plt.show()"
   ]
  },
  {
   "cell_type": "markdown",
   "metadata": {},
   "source": [
    "## Adding random variables"
   ]
  },
  {
   "cell_type": "markdown",
   "metadata": {},
   "source": [
    "중심 극한 정리가 가장 중요!  "
   ]
  },
  {
   "cell_type": "markdown",
   "metadata": {},
   "source": [
    "### The Central Limit Theorem(CLT)\n",
    "> The sum of random variables tends to a normal distribution as the number of them grows to infinity.  \n",
    "  \n",
    "Conditions:  \n",
    "- The variables must have the same distribution.\n",
    "- The variables must be independent."
   ]
  },
  {
   "cell_type": "markdown",
   "metadata": {},
   "source": [
    "### Poisson population plot"
   ]
  },
  {
   "cell_type": "code",
   "execution_count": 69,
   "metadata": {
    "collapsed": true
   },
   "outputs": [],
   "source": [
    "# Add the imports\n",
    "from scipy.stats import poisson, describe\n",
    "import matplotlib.pyplot as plt\n",
    "import numpy as np"
   ]
  },
  {
   "cell_type": "code",
   "execution_count": 70,
   "metadata": {},
   "outputs": [
    {
     "data": {
      "image/png": "[encoded data removed]",
      "text/plain": [
       "<matplotlib.figure.Figure at 0x240636f2be0>"
      ]
     },
     "metadata": {},
     "output_type": "display_data"
    }
   ],
   "source": [
    "# Generate the population\n",
    "population = poisson.rvs(mu=2, size=1000, random_state=20)\n",
    "\n",
    "# Draw the histogram with labels\n",
    "plt.hist(population, bins=range(9), width=0.8)\n",
    "plt.show()"
   ]
  },
  {
   "cell_type": "markdown",
   "metadata": {},
   "source": [
    "### Poisson Sample means plot"
   ]
  },
  {
   "cell_type": "code",
   "execution_count": 71,
   "metadata": {},
   "outputs": [
    {
     "data": {
      "image/png": "[encoded data removed]",
      "text/plain": [
       "<matplotlib.figure.Figure at 0x240636f66a0>"
      ]
     },
     "metadata": {},
     "output_type": "display_data"
    }
   ],
   "source": [
    "# Generate 350 sample means, selecting from population values\n",
    "np.random.seed(42)\n",
    "\n",
    "# Defind list of sample means\n",
    "sample_means = []\n",
    "for _ in range(350):\n",
    "    # Select 10 from population\n",
    "    sample = np.random.choice(population, 10)\n",
    "    # Calculate sample mean of sample\n",
    "    sample_means.append(describe(sample).mean)\n",
    "    \n",
    "# Draw histogram with labels\n",
    "plt.xlabel(\"Sample mean values\")\n",
    "plt.ylabel(\"Frequency\")\n",
    "plt.title(\"Sample means histogram\")\n",
    "plt.hist(sample_means)\n",
    "plt.show()"
   ]
  }
 ],
 "metadata": {
  "kernelspec": {
   "display_name": "Python 3",
   "language": "python",
   "name": "python3"
  },
  "language_info": {
   "codemirror_mode": {
    "name": "ipython",
    "version": 3
   },
   "file_extension": ".py",
   "mimetype": "text/x-python",
   "name": "python",
   "nbconvert_exporter": "python",
   "pygments_lexer": "ipython3",
   "version": "3.6.3"
  }
 },
 "nbformat": 4,
 "nbformat_minor": 2
}
