{
 "cells": [
  {
   "cell_type": "markdown",
   "metadata": {},
   "source": [
    "**퍼셉트론**: 1957년 프랑크 로젠블라트가 고안한 알고리즘. 신경망의 기원."
   ]
  },
  {
   "cell_type": "markdown",
   "metadata": {},
   "source": [
    "### 1. 퍼셉트론이란?"
   ]
  },
  {
   "cell_type": "markdown",
   "metadata": {},
   "source": [
    "다수의 신호를 입력으로 받아 하나의 신호를 출력. 여기서 신호란 `흐름`이 있는 것.   \n",
    "퍼셉트론 신호는 `흐른다(1) / 안흐른다(0)`의 두 가지 값을 가짐.  \n",
    "<img src=\"http://mblogthumb1.phinf.naver.net/MjAxNzA4MDhfMTAx/MDAxNTAyMjAzNjYxNzc5.sK4JqoJM1DLAWyR5fSFPWQaPLPa6HzjT_8fxxupwplgg.3sX5XGhfkEaJ9ZEkAUkeltjSlK4K2Yds-q_WxKf_xpQg.PNG.infoefficien/image.png?type=w800\">입력이 두 개인 퍼셉트론."
   ]
  },
  {
   "cell_type": "markdown",
   "metadata": {},
   "source": [
    "$x_1$과 $x_2$는 입력신호, y는 출력신호, $w_1$과 $w_2$는 가중치를 뜻함.(weight)  \n",
    "그림에서 각 원을 `뉴런` 혹은 `노드`라고 부른다.  \n",
    "입력 신호가 뉴런에 보내질 때는 각각 고유한 가중치가 곱해진다.  \n",
    "**뉴런에서 보내온 신호의 총합이 정해진 한계를 넘어설 때만 1을 출력** (뉴런이 활성화한다)  \n",
    "그 한계를 **임계값**이라 하며 $\\theta$로 나타냄.  "
   ]
  },
  {
   "cell_type": "markdown",
   "metadata": {},
   "source": [
    "$y=\n",
    "\\begin{cases}\n",
    "0, & \\mbox{if }\\mbox{($w_1x_1 + w_2x_2) \\le \\theta$} \\\\\n",
    "1, & \\mbox{if }\\mbox{($w_1x_1 + w_2x_2) > \\theta$}\n",
    "\\end{cases}\n",
    "$"
   ]
  },
  {
   "cell_type": "markdown",
   "metadata": {},
   "source": [
    "퍼셉트론은 복수의 입력 신호 각각에 고유한 가중치를 부여.  \n",
    "가중치는 각 신호가 결과에 주는 영향력을 주절하는 요소로 작용한다.  \n",
    "가중치가 클수록 해당 신호가 그만큼 더 중요함을 뜻한다.  "
   ]
  },
  {
   "cell_type": "markdown",
   "metadata": {},
   "source": [
    "### 2. 단순 논리 회로\n",
    "#### 2.1 AND 게이트"
   ]
  },
  {
   "cell_type": "markdown",
   "metadata": {},
   "source": [
    "입력이 모두 1일 때만 1을 출력, 그 외에는 0"
   ]
  },
  {
   "cell_type": "markdown",
   "metadata": {},
   "source": [
    "- 이를 퍼셉트론으로 표현하려면 AND 게이트의 진리표대로 작동하도록 $w_1, w_2, \\theta$의 값을 정해주면 된다. \n",
    "    - 무수히 많음. (0.5, 0.5, 0.7), (0.5, 0.5, 0.8) 등..."
   ]
  },
  {
   "cell_type": "markdown",
   "metadata": {},
   "source": [
    "#### 2.2 NAND 게이트와 OR 게이트"
   ]
  },
  {
   "cell_type": "markdown",
   "metadata": {},
   "source": [
    "NAND는 Not AND, AND 게이트와 반대동작. $w_1, w_2, \\theta$ 부호만 반대로 해주면 NAND게이트가 된다."
   ]
  },
  {
   "cell_type": "markdown",
   "metadata": {},
   "source": [
    "- OR 게이트는 입력 신호 중 하나 이상이 1이면 출력이 1이 되는 논리 회로.  \n",
    "    - $w_1, w_2$를 임의의 양수, $ \\theta $를 0으로 잡으면 됨.. "
   ]
  },
  {
   "cell_type": "markdown",
   "metadata": {},
   "source": [
    "### 3 퍼셉트론 구현하기"
   ]
  },
  {
   "cell_type": "markdown",
   "metadata": {},
   "source": [
    "#### 3.1 간단한 구현"
   ]
  },
  {
   "cell_type": "code",
   "execution_count": 1,
   "metadata": {},
   "outputs": [
    {
     "name": "stdout",
     "output_type": "stream",
     "text": [
      "0\n",
      "0\n",
      "0\n",
      "1\n"
     ]
    }
   ],
   "source": [
    "def AND(x1, x2):\n",
    "    w1, w2, theta = .5, .5, .7\n",
    "    tmp = x1*w1 + x2*w2\n",
    "    if tmp <= theta:\n",
    "        return 0\n",
    "    return 1\n",
    "print(AND(0, 0))\n",
    "print(AND(0, 1))\n",
    "print(AND(1, 0))\n",
    "print(AND(1, 1))        "
   ]
  },
  {
   "cell_type": "markdown",
   "metadata": {},
   "source": [
    "#### 3.2 가중치와 편향 도입\n",
    "앞으로 편의를 위해 $\\theta$를 -b로 치환하면 식이 다음과 같이 바뀐다."
   ]
  },
  {
   "cell_type": "markdown",
   "metadata": {},
   "source": [
    "$y=\n",
    "\\begin{cases}\n",
    "0, & \\mbox{if }\\mbox{($b + w_1x_1 + w_2x_2) \\le 0$} \\\\\n",
    "1, & \\mbox{if }\\mbox{($b + w_1x_1 + w_2x_2) > 0$}\n",
    "\\end{cases}\n",
    "$"
   ]
  },
  {
   "cell_type": "markdown",
   "metadata": {},
   "source": [
    "- 기호만 달라졌을 뿐 완전히 같은 식. 여기서 b를 **편향(bias)**라고 한다.  \n",
    "- 편향이라는 관점에서 해석\n",
    "    - 퍼셉트론은 입력신호에 가중치를 곱한 값과 편향을 합하여, 그 값이 0을 넘으면 1을 출력, 아니면 0을 출력"
   ]
  },
  {
   "cell_type": "code",
   "execution_count": 2,
   "metadata": {},
   "outputs": [
    {
     "name": "stdout",
     "output_type": "stream",
     "text": [
      "[ 0.   0.5]\n",
      "0.5\n",
      "-0.2\n"
     ]
    }
   ],
   "source": [
    "import numpy as np\n",
    "x = np.array([0, 1])      # 입력값\n",
    "w = np.array([0.5, 0.5])  # 가중치\n",
    "b = -0.7                  # 편향\n",
    "print(w*x)\n",
    "print(np.sum(w*x))\n",
    "print(np.sum(w*x)+b)"
   ]
  },
  {
   "cell_type": "markdown",
   "metadata": {},
   "source": [
    "#### 3.3 가중치와 편향 구현"
   ]
  },
  {
   "cell_type": "code",
   "execution_count": 3,
   "metadata": {
    "collapsed": true
   },
   "outputs": [],
   "source": [
    "def AND(x1, x2):\n",
    "    x = np.array([x1, x2])\n",
    "    w = np.array([0.5, 0.5])\n",
    "    b = -0.7\n",
    "    tmp = np.sum(w*x) + b\n",
    "    if tmp <= 0:\n",
    "        return 0\n",
    "    return 1"
   ]
  },
  {
   "cell_type": "markdown",
   "metadata": {},
   "source": [
    "1. $w_1, w_2$는 각 입력 신호가 결과에 주는 영향력(중요도)를 조절하는 매개변수\n",
    "2. 편향은 뉴런이 얼마나 쉽게 활성화(1을 출력)되느냐를 조정하는 매개변수."
   ]
  },
  {
   "cell_type": "code",
   "execution_count": 4,
   "metadata": {
    "collapsed": true
   },
   "outputs": [],
   "source": [
    "def NAND(x1, x2):\n",
    "    x = np.array([x1, x2])\n",
    "    w = np.array([-0.5, -0.5])\n",
    "    b = 0.7\n",
    "    tmp = np.sum(w*x) + b\n",
    "    if tmp <= 0:\n",
    "        return 0\n",
    "    return 1"
   ]
  },
  {
   "cell_type": "code",
   "execution_count": 5,
   "metadata": {
    "collapsed": true
   },
   "outputs": [],
   "source": [
    "def OR(x1, x2):\n",
    "    x = np.array([x1, x2])\n",
    "    w = np.array([0.5, 0.5])\n",
    "    b = -0.2\n",
    "    if np.sum(w*x) + b <= 0:\n",
    "        return 0\n",
    "    return 1"
   ]
  },
  {
   "cell_type": "markdown",
   "metadata": {},
   "source": [
    "AND, NAND, OR는 모두 같은 구조의 퍼셉트론이고, 차이는 가중치 매개변수의 값뿐.  "
   ]
  },
  {
   "cell_type": "markdown",
   "metadata": {},
   "source": [
    "### 4. 퍼셉트론의 한계\n",
    "XOR 게이트??"
   ]
  },
  {
   "cell_type": "markdown",
   "metadata": {},
   "source": [
    "#### 4.1 XOR게이트\n",
    "배타적 논리합. x1, x2 한쪽만 1이어야 1 출력(서로 다른값일때만)    \n",
    "지금까지 본 퍼셉트론으로는 이 XOR 게이트를 구현할 수 없다!  \n",
    "<img src=\"https://wikidocs.net/images/page/24958/xorgraphandxorgate.PNG\">  \n"
   ]
  },
  {
   "cell_type": "markdown",
   "metadata": {},
   "source": [
    "직선 하나로는 색칠한 노드와 색칠하지 않은 노드를 구분할 수 없다..."
   ]
  },
  {
   "cell_type": "markdown",
   "metadata": {},
   "source": [
    "#### 4.2 선형과 비선형\n",
    "직선이라는 제약을 없앤다면 나눌 수 있다!\n",
    "<img src=\"https://poddeeplearning.readthedocs.io/ko/latest/%EB%B0%91%EB%B0%94%EB%8B%A5%EB%B6%80%ED%84%B0%20%EC%8B%9C%EC%9E%91%ED%95%98%EB%8A%94%20%EB%94%A5%EB%9F%AC%EB%8B%9D/2_perceptron_pulpan92_image/image4.png\">"
   ]
  },
  {
   "cell_type": "markdown",
   "metadata": {},
   "source": [
    "### 5. 다층 퍼셉트론\n",
    "퍼셉트론 하나만으로는 XOR 게이트를 표현할 수 없다.  \n",
    "층을 쌓아 **다층 퍼셉트론(Multi-layer Perceptron)**을 만들어서 XOR 게이트를 표현할 수 있다."
   ]
  },
  {
   "cell_type": "markdown",
   "metadata": {},
   "source": [
    "#### 5.1 기존 게이트 조합\n",
    "XOR 게이트를 만드는 방법은 다양하다. AND, NAND, OR 게이트를 조합해서 만들 수 있다.\n",
    "<img src=\"https://poddeeplearning.readthedocs.io/ko/latest/%EB%B0%91%EB%B0%94%EB%8B%A5%EB%B6%80%ED%84%B0%20%EC%8B%9C%EC%9E%91%ED%95%98%EB%8A%94%20%EB%94%A5%EB%9F%AC%EB%8B%9D/2_perceptron_pulpan92_image/image5.png\">"
   ]
  },
  {
   "cell_type": "markdown",
   "metadata": {},
   "source": [
    "좌변이 직선인 게 AND 게이트, 앞부분에 작은 o 기호는 출력을 반전한다는 뜻. (NAND게이트), 그리고 좌변이 곡선인 게 OR게이트"
   ]
  },
  {
   "cell_type": "markdown",
   "metadata": {},
   "source": [
    "- $x_1, x_2$가 입력신호, y가 출력 신호.  \n",
    "- $x_1, x_2$는 NAND, OR 게이트의 입력이 되고, NAND와 OR의 출력이 AND 게이트의 입력으로 이어진다.\n",
    "<img src=\"https://t1.daumcdn.net/cfile/tistory/990BA8455B98A2152E\">"
   ]
  },
  {
   "cell_type": "markdown",
   "metadata": {},
   "source": [
    "#### 5.2 XOR 게이트 구현하기"
   ]
  },
  {
   "cell_type": "code",
   "execution_count": 6,
   "metadata": {},
   "outputs": [
    {
     "name": "stdout",
     "output_type": "stream",
     "text": [
      "0\n",
      "1\n",
      "1\n",
      "0\n"
     ]
    }
   ],
   "source": [
    "def XOR(x1, x2):\n",
    "    s1 = NAND(x1, x2)\n",
    "    s2 = OR(x1, x2)\n",
    "    y = AND(s1, s2)\n",
    "    return y\n",
    "print(XOR(0, 0))\n",
    "print(XOR(0, 1))\n",
    "print(XOR(1, 0))\n",
    "print(XOR(1, 1))"
   ]
  },
  {
   "cell_type": "markdown",
   "metadata": {},
   "source": [
    "XOR구조를 나타내면 다음과 같다.\n",
    "<img src=\"https://encrypted-tbn0.gstatic.com/images?q=tbn:ANd9GcR_65HSdh0oC0BMBGm-22TlHevtz14M4Lt-JztjxGxXEng9Fh0a\">\n",
    "다층 구조의 네트워크가 된다.  \n",
    "AND, OR가 단층 퍼셉트론인 데 반해, XOR는 2층 퍼셉트론.  \n",
    "단층 퍼셉트론으로는 표현하지 못한 것을 층을 하나 늘려 구현할 수 있었다.  \n",
    "퍼셉트론은 층을 쌓아(깊게 하여) 더 다양한 것을 표현할 수 있다."
   ]
  },
  {
   "cell_type": "markdown",
   "metadata": {},
   "source": [
    "### 6. NAND에서 컴퓨터까지"
   ]
  },
  {
   "cell_type": "markdown",
   "metadata": {},
   "source": [
    "다층 퍼셉트론은 지금까지 보아온 회로보다 복잡한 회로를 만들 수 있다.  \n",
    "덧셈을 처리하는 가산기, 2진수를 10진수로 변환하는 인코더, 특정 조건 충족시 1을 출력하는 회로(패리티 검사 회로) 등.. 컴퓨터까지!!  \n",
    "NAND게이트의 조합만으로 컴퓨터가 수행하는 일을 재현할 수 있다.  \n",
    "이론상 2층 퍼셉트론이면 컴퓨터를 만들 수 있다!  \n",
    "2층 퍼셉트론, 정확히는 비선형인 시그모이드 함수를 활성화 함수로 이용하면 임의의 함수를 표현할 수 있다고 증명됨."
   ]
  },
  {
   "cell_type": "markdown",
   "metadata": {},
   "source": [
    "### 7. 정리\n",
    "퍼셉트론은 신경망의 기초!\n",
    "1. 퍼셉트론은 입출력을 갖춘 알고리즘이다. 입력을 주면 정해진 규칙에 따른 값을 출력한다.\n",
    "2. 퍼셉트론에서는 '가중치'와 '편향'을 매개변수로 설정한다.\n",
    "3. 퍼셉트론으로 AND, OR게이트 등의 논리 회로를 표현할 수 있다.\n",
    "4. XOR게이트는 단층 퍼셉트론으로는 표현할 수 없다.(비선형)\n",
    "5. 2층 퍼셉트론을 이용하면 XOR게이트를 표현할 수 있다.\n",
    "6. 단층 퍼셉트론은 직선형 영역만 표현할 수 있고, 다층 퍼셉트론은 비선형 영역도 표현할 수 있다.\n",
    "7. 다층 퍼셉트론은 (이론상) 컴퓨터를 표현할 수 있다."
   ]
  }
 ],
 "metadata": {
  "kernelspec": {
   "display_name": "Python 3",
   "language": "python",
   "name": "python3"
  },
  "language_info": {
   "codemirror_mode": {
    "name": "ipython",
    "version": 3
   },
   "file_extension": ".py",
   "mimetype": "text/x-python",
   "name": "python",
   "nbconvert_exporter": "python",
   "pygments_lexer": "ipython3",
   "version": "3.6.3"
  }
 },
 "nbformat": 4,
 "nbformat_minor": 2
}
