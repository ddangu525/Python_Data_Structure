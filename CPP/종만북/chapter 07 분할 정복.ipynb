{
 "cells": [
  {
   "cell_type": "markdown",
   "metadata": {},
   "source": [
    "## 종만북 chapter 7. 분할 정복"
   ]
  },
  {
   "cell_type": "markdown",
   "metadata": {},
   "source": [
    "분할 정복(Divide & Conquer): 가장 유명한 알고리즘 디자인 패러다임  \n",
    "1. 주어진 문제를 둘 이상의 부분 문제로 나눈 뒤 각 문제에 대한 답을 재귀 호출을 이용해 계산\n",
    "2. 각 부분 문제의 답으로부터 전체 문제의 답을 계산해 낸다.\n",
    "3. 일반적인 재귀 호출과 달리 문제를 한 조각과 나머지 전체로 나누는 대신 거의 같은 크기의 부분 문제로 나눈다.\n",
    "4. 대개 세 가지의 구성 요소를 갖고 있다.\n",
    "    1. 문제를 더 작은 문제로 분할하는 과정(Divide)\n",
    "    2. 각 문제에 대해 구한 답을 원래 문제에 대한 답으로 병합하는 과정(Merge)\n",
    "    3. 더이상 답을 분할하지 않고 곧장 풀 수 있는 매우 작은 문제(Base case)"
   ]
  },
  {
   "cell_type": "markdown",
   "metadata": {},
   "source": [
    "- 분할 정복을 적용하기 위해 필요한 문제의 특성\n",
    "    1. 문제를 둘 이상의 부분 문제로 나누는 자연스러운 방법이 있어야 한다.\n",
    "    2. 부분 문제의 답을 조합해 원래 문제의 답을 계산하는 효율적인 방법이 있어야 한다.\n",
    "- 분할 정복의 장점\n",
    "    - 같은 작업을 더 빠르게 처리해 준다."
   ]
  },
  {
   "cell_type": "markdown",
   "metadata": {},
   "source": [
    "#### 수열의 빠른 합과 행렬의 빠른 제곱"
   ]
  },
  {
   "cell_type": "markdown",
   "metadata": {},
   "source": [
    "1 + 2 + ... + n의 합을 재귀 호출을 이용해서 계산했었다.  \n",
    "분할 정복을 이용한 fastSum() 함수를 만들어 보자.  \n",
    "1부터 n까지의 합을 n개의 조각으로 나누고, 이를 반으로 잘라 ${n \\over 2}$개의 조각들로 만들어진 부분 문제 두 개를 만든다.(n 짝수 가정)"
   ]
  },
  {
   "cell_type": "markdown",
   "metadata": {},
   "source": [
    "$fastSum() = 1 + 2 + \\cdots + n = \\left(1 + 2 + \\cdots + {n \\over 2} \\right) + \\left( \\left( {n \\over 2} + 1 \\right) + \\cdots + n \\right)$"
   ]
  },
  {
   "cell_type": "markdown",
   "metadata": {},
   "source": [
    "첫 번째 부분 문제는 $fastSum({n \\over 2})$로 나타낼 수 있지만, 두 번째 부분 문제는 아니다."
   ]
  },
  {
   "cell_type": "markdown",
   "metadata": {},
   "source": [
    "두 번째 부분 문제를 fastSum(x)를 포함하는 형태로 바꿔 써야 한다."
   ]
  },
  {
   "cell_type": "markdown",
   "metadata": {},
   "source": [
    "$ \\left( \\left( {n \\over 2} + 1 \\right) + \\cdots + n \\right) = \\left({n \\over 2} + 1 \\right) + \\left( {n \\over 2} + 2 \\right) + \\cdots + \\left( {n \\over 2} + {n \\over 2} \\right) $"
   ]
  },
  {
   "cell_type": "markdown",
   "metadata": {},
   "source": [
    "$={n \\over 2} \\times {n \\over 2} + \\left(1 + 2 + 3 + \\cdots + {n \\over 2} \\right)$"
   ]
  },
  {
   "cell_type": "markdown",
   "metadata": {},
   "source": [
    "$={n \\over 2} \\times {n \\over 2} + fastSum \\left({n \\over 2} \\right)$"
   ]
  },
  {
   "cell_type": "markdown",
   "metadata": {},
   "source": [
    "공통된 항 ${n \\over 2}$을 빼내면 $fastSum \\left({n \\over 2} \\right)$가 나타나고 다음과 같이 쓸 수 있다."
   ]
  },
  {
   "cell_type": "markdown",
   "metadata": {},
   "source": [
    "$fastSum(n) = 2 \\times fastSum \\left({n \\over 2} \\right) + {n^2 \\over 4}$  (n이 짝수일 때)"
   ]
  },
  {
   "cell_type": "markdown",
   "metadata": {},
   "source": [
    "홀수 입력이 주어질 때는 짝수인 n - 1까지의 합을 재귀 호출로 계산하고 n을 더해 답을 구한다. "
   ]
  },
  {
   "cell_type": "markdown",
   "metadata": {},
   "source": [
    "```c++\n",
    "// 필수 조건: n은 자연수\n",
    "// 1 + 2 + ... + n을 반환한다.\n",
    "int fastSum(int n) {\n",
    "    // 기저 사례\n",
    "    if (n == 1) return 1;\n",
    "    if (n % 2 == 1) return fastSum(n-1) + n;\n",
    "    return 2 * fastSum(n/2) + (n/2) * (n/2);\n",
    "}\n",
    "```"
   ]
  },
  {
   "cell_type": "code",
   "execution_count": 13,
   "metadata": {},
   "outputs": [
    {
     "data": {
      "text/plain": [
       "5050"
      ]
     },
     "execution_count": 13,
     "metadata": {},
     "output_type": "execute_result"
    }
   ],
   "source": [
    "def fastSum(n):\n",
    "    if n == 1:\n",
    "        return 1\n",
    "    if n % 2:\n",
    "        return fastSum(n-1) + n\n",
    "    return 2 * fastSum(n//2) + (n//2) * (n//2)\n",
    "\n",
    "fastSum(100)"
   ]
  },
  {
   "cell_type": "markdown",
   "metadata": {},
   "source": [
    "#### 시간 복잡도 분석\n",
    "fastSum(), recursiveSum 모두 함수 내부에 반복문이 없기 때문에 수행 시간은 순전히 함수가 호출되는 횟수에 비례.  \n",
    "recursiveSum의 경우 n번. 반면 fastSum은 호출될 때마다 최소한 두 번에 한 번 꼴로 n이 절반으로 줄어들기 때문에 훨씬 적다.  \n",
    "fastSum의 총 호출 횟수는 n의 이진수 표현의 자릿수 + 첫 자리를 제외하고 나타나는 1의 개수.  \n",
    "두 값 모두 상한은 log n. 알고리즘의 실행 시간은 $O(\\log n)$"
   ]
  },
  {
   "cell_type": "markdown",
   "metadata": {},
   "source": [
    "#### 행렬의 거듭제곱\n",
    "$n \\times n$크기의 행렬 A가 주어질 때, A의 거듭제곱(power) $A^m$은 A를 연속해서 m번 곱한 것.  \n",
    "m이 매우 클 때는 오래 걸리는 작업. 행렬 곱셈에는 $O(N^3)$의 시간..  \n",
    "아까와 같이 $A^m = A^{m \\ / \\ 2} \\times A^{m \\ / \\ 2}$와 같이 절반으로 나눌 수 있다."
   ]
  },
  {
   "cell_type": "markdown",
   "metadata": {},
   "source": [
    "```cpp\n",
    "// 정방행렬을 표현하는 SquareMatrix클래스가 있다고 가정.\n",
    "class SquareMatrix;\n",
    "// n*n 크기의 항등행렬(identity matrix)을 반환하는 함수\n",
    "SquareMatrix identity(int n);\n",
    "// A^m을 반환.\n",
    "SquareMatrix pow(const SquareMatrix& A, int m) {\n",
    "    // 기저 사례: A^0 = 1\n",
    "    if (m == 0) return identity(A.size());\n",
    "    if (m % 2 > 0) return pow(A, m-1) * A;\n",
    "    SquareMatrix half = pow(A, m / 2);\n",
    "    // A^m = (A^(m/2)) * (A^(m/2))\n",
    "    return half * half\n",
    "}\n",
    "```"
   ]
  },
  {
   "cell_type": "markdown",
   "metadata": {},
   "source": [
    "#### 나누어 떨어지지 않을 때 분할과 시간 복잡도\n",
    "m이 홀수일 때, $A^m = A \\dot A^{m-1}$로 나누지 않고, 좀더 절반에 가깝게 나누는 게 좋지 않을까?  \n",
    "실제로 문제의 크기가 매번 절반에 가깝게 줄어들면 기저 사례에 도달하기까지 거릴는 분할의 횟수가 줄어들기 때문에 대부분의 분할 정복 알고리즘은 가능한 한 절반에 가깝게 문제를 나누고자 한다.  \n",
    "하지만 이 문제에서는 그런 방식이 더 느리다.  \n",
    "$A^m$을 찾기 위해 계산해야 할 부분 문제의 수가 늘어나기 때문. 중복 계산이 오히려 많아진다.  \n",
    "이런 속성을 부분 문제가 중복된다.(Overlapping Subproblems)라고 부르며 동적 계획법이 고안한 계기가 된다."
   ]
  },
  {
   "cell_type": "markdown",
   "metadata": {},
   "source": [
    "#### 병합 정렬, 퀵 정렬\n",
    "모두 분할 정복 패러다임을 사용한 알고리즘이다. 둘 다 평균적으로 $O(n \\log n)$\n",
    "- 병합 정렬\n",
    "    - 주어진 수열을 가운데에서 쪼개 비슷한 크기의 수열 두 개로 만든 뒤 이들을 재귀 호출을 이요해 각각 정렬하고, 정렬된 배열을 하나로 합침으로써 정렬된 전체 수열을 얻는다.  \n",
    "- 퀵 정렬\n",
    "    - 병합 과정이 필요 없도록 한쪽의 배열에 포함된 수가 다른 쪽 배열의 수보다 항상 작도록 배열을 분할.\n",
    "    - 파티션(Partition)이라고 부르는 단계를 도입.\n",
    "        - 임의의 기준 수(pivot)를 지정하여 기준보다 작거나 같은 숫자를 왼쪽, 더 큰 숫자를 오른쪽으로 보내는 과정."
   ]
  },
  {
   "cell_type": "markdown",
   "metadata": {},
   "source": [
    "#### 예제: 카라츠바(Karatsuba)의 빠른 곱셈 알고리즘\n",
    "매우 큰 두 개의 정수를 곱하는 알고리즘.  "
   ]
  },
  {
   "cell_type": "markdown",
   "metadata": {},
   "source": [
    "```cpp\n",
    "// num[]의 자릿수 올림 처리\n",
    "void normalize(vector<int>& num) {\n",
    "    num.push_back(0);\n",
    "    // 자릿수 올림 처리.\n",
    "    for (int i = 0; i < num.size(); i++) {\n",
    "        if (num[i] < 0) {\n",
    "            int borrow = (abs(num[i]) + 9) / 10;\n",
    "            num[i + 1] -= borrow;\n",
    "            num[i] += borrow * 10;\n",
    "        }\n",
    "        else {\n",
    "            num[i+1] += num[i] / 10;\n",
    "            num[i] %= 10;\n",
    "        }\n",
    "    }\n",
    "    while(num.size() > 1 && num.back() == 0) num.pop_back();\n",
    "}\n",
    "// 두 긴 자연수의 곱을 반환.\n",
    "// 각 배열에는 각 수의 자릿수가 1의 자리에서부터 시작해 저장되어 있다.\n",
    "// 예: multiply([3, 2, 1], [6, 5, 4]) = 123 * 456 = 56088 = [8, 8, 0, 6, 5]\n",
    "vector<int> multiply(const vector<int>& a, const vector<int>& b) {\n",
    "    vector<int> c(a.size() + b.size() + 1, 0);\n",
    "    for (int i = 0; i < a.size(); i++)\n",
    "        for (int j = 0; j < b.size(); j++)\n",
    "            c[i+j] += a[i] * b[j];\n",
    "    normalize(c);\n",
    "    return c;\n",
    "}\n",
    "```"
   ]
  },
  {
   "cell_type": "markdown",
   "metadata": {},
   "source": [
    "1. 매우 큰 숫자들은 배열을 이용해야 저장할 수 있다.  \n",
    "2. 곱할 수의 각 자릿수를 맨 아래 자리부터 저장.\n",
    "    - 입출력땐 불편하지만, A[i]에 주어진 자릿수의 크기를 $10^i$로 쉽게 구할 수 있다.\n",
    "    - A[i]와 B[j]를 곱한 결과를 C[i+j]에 저장하는 등 훨씬 직관적인 코드 작성 가능.\n",
    "3. 자릿수 올림을 처리하는 normalize()에서 자릿수가 음수인 경우도 처리. (카라츠바 알고리즘 구현에 필요)"
   ]
  },
  {
   "cell_type": "markdown",
   "metadata": {},
   "source": [
    "위 알고리즘의 시간 복잡도는 두 정수의 길이 모두 n이라 할 때 $O(n^2)$.  \n",
    "이보다 빠른 첫 번째 알고리즘이 카라츠바 알고리즘..  "
   ]
  },
  {
   "cell_type": "markdown",
   "metadata": {},
   "source": [
    "#### 카라츠바 빠른 곱셈 알고리즘\n",
    "1. 두 수를 각각 절반으로 쪼갠다.\n",
    "    - a, b가 각각 256자리 수라면 $a_1, b_1$은 첫 128자리, $a_0, b_0$은 그 다음 128자리를 저장.  \n",
    "    - $a = a_1 \\times 10^{128} + a_0$\n",
    "    - $b = b_1 \\times 10^{128} + b_0$\n",
    "2. 이때 $a \\times b$를 네 개의 조각을 이용해 표현할 수 있다.\n",
    "    - $a \\times b = (a_1 \\times 10^{128} + a_0) \\times (b_1 \\times 10^{128} + b_0) = a_1 \\times b_1 \\times 10^{256} + (a_1 \\times b_0 + a_0 \\times b_1) \\times 10^{128} + a_0 \\times b_0$\n",
    "3. 큰 정수 두 개를 한 번 곱하는 대신, 절반 크기로 나눈 작은 조각을 네 번 곱한다.\n",
    "    - 10의 거듭제곱과 곱한느 것은 그냥 뒤에 0을 붙이는 시프트 연산으로 구현하면 되어 곱셈으로 치지 않는다.\n",
    "    - 각각을 재귀 호출하여 분할 정복한다.\n",
    "4. 길이 n인 두 정수를 곱하는 데 드는 시간은 덧셈과 시프트 연산에 걸리는 시간 O(n), ${n \\over 2}$길이 조각들의 곱셈 네 번으로 나눌 수 있다.\n",
    "    - 이 방법의 전체 수행 시간은 $O(n^2)$\n",
    "    - 하지만 카라츠바는 $a \\times b$를 표현했을 때 네 번 대신 세 번의 곱셈으로만 계산할 수 있다는 것을 발견.\n",
    "        - $a \\times b = a_1 \\times b_1 \\times 10^{256} + (a_1 \\times b_0 + a_0 \\times b_1) \\times 10^{128} + a_0 \\times b_0$"
   ]
  },
  {
   "cell_type": "markdown",
   "metadata": {},
   "source": [
    "조각들의 곱을 $z_2, z_1, z_0$이라 하자.\n",
    "1. $z_0와 z_2$를 각각 한번의 곱셈으로 구한다.\n",
    "2. $(a_0 + a_1) \\times (b_0 + b_1) = a_0 \\times b_0 + a_1 \\times b_0 + a_0 \\times b_1 + a_1 \\times b_1$ 식을 이용.\n",
    "3. 위 식의 결과에서 $z_0$과 $z_2$를 빼서 $z_1$을 구할 수 있다.\n",
    "```cpp\n",
    "z2 = a1 * b1;\n",
    "z0 = a0 * b0;\n",
    "z1 = (a0 + a1) * (b0 + b1) - z0 - z2;\n",
    "```\n",
    "4. 곱셈을 세 번밖에 쓰지 않는다! 결과를 다시 적절히 조합해 원래 두 수의 답을 구해낼 수 있다."
   ]
  },
  {
   "cell_type": "markdown",
   "metadata": {},
   "source": [
    "```cpp\n",
    "// a += b * (10^k);를 구현\n",
    "void addTo(vector<int>& a, const vector<int>& b, int k);\n",
    "// a -= b;를 구현. a >= b를 가정.\n",
    "void sumFrom(vector<int>& a, const vector<int>& b);\n",
    "// 두 긴 정수의 곱을 반환\n",
    "vector<int> karatsuba(const vector<int>& a, const vector<int>& b) {\n",
    "    int an = a.size(), bn = b.size();\n",
    "    // a가 b보다 짧을 경우 둘을 바꾼다.\n",
    "    if (an < bn) return karatsuba(b, a);\n",
    "    // 기저 사례: a나 b가 비어 있는 경우\n",
    "    if (an == 0 || bn == 0) return vector<int>();\n",
    "    // 기저 사례: a가 비교적 짧은 경우 O(n^2) 곱셈으로 변경.\n",
    "    if (an <= 50) return multiply(a, b);\n",
    "    int half = an / 2;\n",
    "    // a와 b를 밑에서 half자리와 나머지로 분리.\n",
    "    vector<int> a0(a.begin(), a.begin() + half);\n",
    "    vector<int> a1(a.begin() + half, a.end());\n",
    "    vector<int> b0(b.begin(), b.begin() + min<int>(b.size(), half));\n",
    "    vector<int> b1(b.begin() + min<int>(b.size(), half), b.end());\n",
    "    // z2 = a1 * b1\n",
    "    vector<int> z2 = karatsuba(a1, b1);\n",
    "    // z0 = a0 * b0\n",
    "    vector<int> z0 = karatsuba(a0, b0);\n",
    "    // a0 = a0 + a1; b0 = b0 + b1\n",
    "    addTo(a0, a1, 0); addTo(b0, b1, 0);\n",
    "    // z1 = (a0 * b0) - z0 - z2;\n",
    "    vector<int> z1 = karatsuba(a0, b0);\n",
    "    subFrom(z1, z0);\n",
    "    subFrom(z1, z2);\n",
    "    vector<int> ret;\n",
    "    addTo(ret, z0, 0);\n",
    "    addTo(ret, z1, half);\n",
    "    addTo(ret, z2, half + half);\n",
    "    return ret;\n",
    "}\n",
    "```"
   ]
  },
  {
   "cell_type": "markdown",
   "metadata": {},
   "source": [
    "#### 시간 복잡도 분석\n",
    "두 개의 입력을 절반씩으로 쪼갠 뒤, 세 번 재귀 호출.  \n",
    "자릿수 n이 2의 거듭제곱 $2^k$라고 했을 때 재귀 호출의 깊이는 k가 된다.  \n",
    "한 번 쪼갤 때마다 해야 할 곱셈의 수가 세 배씩 늘어나기 때문에 마지막 단계는 $3^k$개의 부분 문제, 마지막 단계에서는 곱셈 한 번이면 충분.  \n",
    "따라서 곱셈의 수는 $O(3^k)$. $n=2^k$라 가정했으니 $k = \\log n$이고, 곱셈의 수를 n에 대해 표현하면,  \n",
    "$O(3^k) = (3^{\\log n}) = O(n^{\\log 3}). lg3 \\approx 1.585$"
   ]
  },
  {
   "cell_type": "markdown",
   "metadata": {},
   "source": [
    "n이 10만이면 곱셈 수는 100배 차이.."
   ]
  },
  {
   "cell_type": "markdown",
   "metadata": {},
   "source": [
    "병합 단계에 드는 시간"
   ]
  },
  {
   "cell_type": "markdown",
   "metadata": {},
   "source": [
    "단계가 내려갈 때마다 숫자 길이는 절반, 부분 문제의 개수는 세 배.  \n",
    "i번째 단계에서 필요한 연산 수는 $ \\left( {3 \\over 2} \\right)^i \\times n$. 전체는 $n^{\\log 3}$과 같은 속도로 증가.  \n",
    "최종 시간 복잡도는 $O(n^{\\log 3})$. 입력된 숫자가 짧을 경우. $O(n^2)$ 알고리즘이 낫다.  "
   ]
  },
  {
   "cell_type": "markdown",
   "metadata": {},
   "source": [
    "#### 문제: 쿼드 트리 뒤집기(QUADTREE)\n",
    "<img src=\"http://algospot.com/media/judge-attachments/0cafdb9ffa8ace4fb8315949d25d2fb3/quadtree.png\">"
   ]
  },
  {
   "cell_type": "markdown",
   "metadata": {},
   "source": [
    "대량의 좌표 데이터를 메모리 안에 압축해 저장하기 위해 사용하는 여러 기법 중 쿼드 트리(quad tree)란 것이 있습니다.  \n",
    "주어진 공간을 항상 4개로 분할해 재귀적으로 표현하기 때문에 쿼드 트리라는 이름이 붙었는데,  \n",
    "이의 유명한 사용처 중 하나는 검은 색과 흰 색밖에 없는 흑백 그림을 압축해 표현하는 것입니다.  \n",
    "쿼드 트리는 $2^N \\times 2^N$ 크기의 흑백 그림을 다음과 같은 과정을 거쳐 문자열로 압축합니다.  \n",
    "  \n",
    "이 그림의 모든 픽셀이 검은 색일 경우 이 그림의 쿼드 트리 압축 결과는 그림의 크기에 관계없이 b가 됩니다.  \n",
    "이 그림의 모든 픽셀이 흰 색일 경우 이 그림의 쿼드 트리 압축 결과는 그림의 크기에 관계없이 w가 됩니다.  \n",
    "모든 픽셀이 같은 색이 아니라면, 쿼드 트리는 이 그림을 가로 세로로 각각 2등분해 4개의 조각으로 쪼갠 뒤 각각을 쿼드 트리 압축합니다.  \n",
    "이때 전체 그림의 압축 결과는 x(왼쪽 위 부분의 압축 결과)(오른쪽 위 부분의 압축 결과)(왼쪽 아래 부분의 압축 결과)(오른쪽 아래 부분의 압축 결과)가 됩니다.  \n",
    "예를 들어 그림 (a)의 왼쪽 위 4분면은 xwwwb로 압축됩니다.  \n",
    "그림 (a)와 그림 (b)는 16×16 크기의 예제 그림을 쿼드 트리가 어떻게 분할해 압축하는지를 보여줍니다.  \n",
    "이때 전체 그림의 압축 결과는 xxwww bxwxw bbbww xxxww bbbww wwbb가 됩니다.  \n",
    "  \n",
    "쿼드 트리로 압축된 흑백 그림이 주어졌을 때, 이 그림을 상하로 뒤집은 그림 을 쿼드 트리 압축해서 출력하는 프로그램을 작성하세요.  \n",
    "  \n",
    "#### 입력\n",
    "첫 줄에 테스트 케이스의 개수 C (C≤50)가 주어집니다. 그 후 C줄에 하나씩 쿼드 트리로 압축한 그림이 주어집니다.  \n",
    "모든 문자열의 길이는 1,000 이하이며, 원본 그림의 크기는 $2^{20} × 2^{20}$ 을 넘지 않습니다.  \n",
    "  \n",
    "#### 출력\n",
    "각 테스트 케이스당 한 줄에 주어진 그림을 상하로 뒤집은 결과를 쿼드 트리 압축해서 출력합니다.  \n",
    "  \n",
    "예제 입력\n",
    "```\n",
    "4\n",
    "w\n",
    "xbwwb\n",
    "xbwxwbbwb\n",
    "xxwwwbxwxwbbbwwxxxwwbbbwwwwbb\n",
    "```\n",
    "예제 출력\n",
    "```\n",
    "w\n",
    "xwbbw\n",
    "xxbwwbbbw\n",
    "xxwbxwwxbbwwbwbxwbwwxwwwxbbwb\n",
    "```"
   ]
  },
  {
   "cell_type": "markdown",
   "metadata": {},
   "source": [
    "#### 풀이\n",
    "가장 naive 하게는 주어진 그림의 쿼드 트리 압축을 풀어서 실제 이미지를 얻고 상하 반전한 뒤 다시 쿼드 트리 압축하는 것.  \n",
    "하지만 입력 범위를 보니...  \n",
    "- 큰 입력에 대해서도 동작하는 효율적인 알고리즘을 처음부터 새로 만들기\n",
    "- 작은 입력에 대해서만 동작하는 단순한 알고리즘으로부터 시작해서 최적화해 나가기\n",
    "\n",
    "둘 중 어느 접근이 맞는지는 시행착오와 경험이 필요..  \n",
    "하지만 확실히 쉬운 것은 단순한 알고리즘에서 최적화해 나가는 것.  \n",
    "일단 어떻게 풀어야 할지 알아보자."
   ]
  },
  {
   "cell_type": "markdown",
   "metadata": {},
   "source": [
    "**쿼드 트리 압축 풀기**\n",
    "쿼드 트리가 재귀적으로 정의되어 있기 때문에 쿼드 트리를 압축하거나 해제하는 과정은 재귀 호출로 구현하는 것이 가장 자연스럽다.  "
   ]
  },
  {
   "cell_type": "markdown",
   "metadata": {},
   "source": [
    "문자열 s의 압축을 해제해서 N x N 크기의 배열에 저장하는 함수 decompress()를 구현한다고 할 때,  \n",
    "기저 사례는 s의 첫 글자가 w나 b인 경우이고, 이때는 배열 전체에 해당색을 칠하고 곧장 종료한다.  \n",
    "만약 첫 글자가 x라면 decompress()는 s의 나머지 부분을 넷으로 쪼개 재귀 호출한다.  \n",
    "이때 각 부분이 배열의 어느 부분에 저장되어야 하는지 지정하는 위치 오프셋 또한 전달해야함.  \n",
    "다음과 같은 형의 decompress()를 작성하면 된다.  \n",
    "```cpp\n",
    "char decompressed[MAX_SIZE][MAX_SIZE];\n",
    "// s를 압축 해제해서 decompressed[y..y + size - 1][x..x + size - 1]구간에 쓴다.\n",
    "void decompress(const string&s, int y , int x, int size);\n",
    "```"
   ]
  },
  {
   "cell_type": "markdown",
   "metadata": {},
   "source": [
    "**압축 문자열 분할하기**"
   ]
  },
  {
   "cell_type": "markdown",
   "metadata": {},
   "source": [
    "이렇게 생각하고 구현을 시작하면 s의 나머지 부분을 넷으로 쪼개기가 까다롭다..  \n",
    "각 부분의 길이가 일정하지 않기 때문.  \n",
    "이를 해결하기 위해 생각할 수 있는 첫 번째 방법은 주어진 위치에서 시작하는 압축 결과의 길이를 반환하는 함수 getChunkLength()를 만드는 것.  \n",
    "s[0]이 x라고 하면, 왼쪽 위 조각을 나타내는 부분은 항상 s[1]에서부터 시작. 이때 getChunkLength(s, 1)이 해당 부분 압축의 길이를 반환하도록.  \n",
    "getChunkLength(s, 1)이 5를 반환하면 다음 조각은 s[6]부터 시작한다는 것을 알 수 있고, 이와 같이 s의 나머지 부분을 분할할 수 있다.  \n",
    "getChunkLength() 함수를 재귀 호출로 작성하는 것은 어렵지 않지만, 비슷한 일을 하는 두 개의 함수를 각각 작성한다는 점이 별로..  \n",
    "이런 때 유용한 패턴은 s를 미리 쪼개는 것이 아니라 decompress()함수에서 '필요한 만큼 가져다 쓰도록' 하는 것.  \n",
    "decompress()함수에 s를 통째로 전달하는 것이 아니라, s의 한 글자를 가리키는 포인터를 전달.  \n",
    "함수 내에서는 한 글자를 검사할 때마다 이 포인터를 앞으로 한 칸씩 옮긴다.  \n",
    "STL 문자열에서 지원하는 반복자(iterator)를 재귀 호출에 전달.  \n",
    "반복자가 참조형으로 전달되기 때문에 재귀 호출 내부에서 반복자를 옮기면 밖에도 그 변화가 전달.  \n",
    "따라서 decompress() 함수가 종료하고 나면 반복자는 항상 다음 부분의 시작 위치를 가리키게 된다.  \n",
    "```cpp\n",
    "char decompressed[MAX_SIZE][MAX_SIZE];\n",
    "void decompress(string::iterator& it, int y, int x, int size) {\n",
    "    // 한 글자를 검사할 때마다 반복자를 한 칸 앞으로 옮긴다.\n",
    "    char head = *(it++);\n",
    "    // 기저 사례: 첫 글자가 b 또는 w인 경우\n",
    "    if (head == 'b' || head == ' w') {\n",
    "        for (int dy = 0; dy < size; ++dy)\n",
    "            for (int dx = 0; dx < size; ++dx)\n",
    "                decompressed[y + dy][x + dx] = head;\n",
    "    }\n",
    "    else {\n",
    "        // 네 부분을 각각 순서대로 압축 해제한다.\n",
    "        int half = size / 2;\n",
    "        decompress(it, y, x, half);\n",
    "        decompress(it, y, x+half, half);\n",
    "        decompress(it, y+half, x, half);\n",
    "        decompress(it, y+half, x+half, half);\n",
    "    }\n",
    "}\n",
    "```"
   ]
  },
  {
   "cell_type": "markdown",
   "metadata": {},
   "source": [
    "**압축 다 풀지 않고 뒤집기**"
   ]
  },
  {
   "cell_type": "markdown",
   "metadata": {},
   "source": [
    "하지만 압축을 풀기에는 이 문제에서 다루는 그림들의 크기가 너무 크다.  \n",
    "$2^{20} \\times 2^{20}$ 크기의 그림 맨 왼쪽 위에 검은 픽셀이 하나 있고 나머지는 전부 흰 픽셀이라고 하면,  \n",
    "쿼드 트리는 이런 그림을 아주 짧게 압축할 수 있지만 압축을 해제한 결과는 1TB..  \n",
    "압축을 해제한 결과를 메모리에 다 저장하는 대신 결과 이미지를 뒤집은 결과를 곧장 생성하는 코드를 작성하자.  \n",
    "decompress()의 기저 사례를 생각해보면, 전체가 검은 색이나 흰 색인 그림은 뒤집어도 다를 게 없다.  \n",
    "전체가 한 가지 색이 아닌 경우 재귀 호출을 이용해 네 부분을 각각 상하로 뒤집은 결과를 얻은 뒤, 이들을 병합해 답을 얻어야 한다.  \n",
    "뒤집힌 그림의 압축 결과는 이미 존재한다고 가정하면, 어떻게 병합해야 할까?  \n",
    "원본 그림을 4등분하고 재귀 호출을 이용해 네 부분을 각각 상하로 뒤집은 압축 결과를 얻고, 위 두 조각과 아래 두 조각을 바꾸면 처음에 원하던 전체가 뒤집힌 그림이 된다.  "
   ]
  },
  {
   "cell_type": "markdown",
   "metadata": {},
   "source": [
    "```c++\n",
    "string reverse(string::iterator& it) {\n",
    "    char head = *it;\n",
    "    ++it;\n",
    "    if (head == 'b' || head == 'w')\n",
    "        return string(1, head);\n",
    "    string upperLeft = reverse(it);\n",
    "    string upperRight = reverse(it);\n",
    "    string lowerLeft = reverse(it);\n",
    "    string lowerRight = reverse(it);\n",
    "    // 각각 위와 아래 조각들의 위치를 바꾼다.\n",
    "    return string(\"x\") + lowerLeft + lowerRight + upperLeft + upperRight;\n",
    "}\n",
    "```"
   ]
  },
  {
   "cell_type": "markdown",
   "metadata": {},
   "source": [
    "**시간 복잡도 분석**\n",
    "reverse()함수는 한 번 호출될 때마다 주어진 문자열의 한 글자씩을 사용..  \n",
    "따라서 함수가 호출되는 횟수는 문자열의 길이에 비례. O(N)  \n",
    "문자열을 합치는 데 O(N)이 든다 해도 충분..  "
   ]
  },
  {
   "cell_type": "markdown",
   "metadata": {},
   "source": [
    "### 문제: 울타리 잘라내기(FENCE)"
   ]
  },
  {
   "cell_type": "markdown",
   "metadata": {},
   "source": [
    "너비가 같은 N개의 나무 판자를 붙여 세운 울타리가 있습니다.  \n",
    "시간이 지남에 따라 판자들이 부러지거나 망가져 높이가 다 달라진 관계로 울타리를 통째로 교체하기로 했습니다.  \n",
    "이 때 버리는 울타리의 일부를 직사각형으로 잘라내 재활용하고 싶습니다.  \n",
    "그림 (b)는 (a)의 울타리에서 잘라낼 수 있는 많은 직사각형 중 가장 넓은 직사각형을 보여줍니다.  \n",
    "울타리를 구성하는 각 판자의 높이가 주어질 때, 잘라낼 수 있는 직사각형의 최대 크기를 계산하는 프로그램을 작성하세요.  \n",
    "단 (c)처럼 직사각형을 비스듬히 잘라낼 수는 없습니다.  \n",
    "  \n",
    "판자의 너비는 모두 1이라고 가정합니다.  \n",
    "<img src=\"http://algospot.com/media/judge-attachments/506874700c7251881727ee4e70a1d502/fence.png\">\n",
    "  \n",
    "#### 입력\n",
    "첫 줄에 테스트 케이스의 개수 C (C≤50)가 주어집니다. 각 테스트 케이스의 첫 줄에는 판자의 수 N (1≤N≤20000)이 주어집니다.  \n",
    "그 다음 줄에는 N개의 정수로 왼쪽부터 각 판자의 높이가 순서대로 주어집니다. 높이는 모두 10,000 이하의 음이 아닌 정수입니다.  \n",
    "  \n",
    "#### 출력\n",
    "각 테스트 케이스당 정수 하나를 한 줄에 출력합니다. 이 정수는 주어진 울타리에서 잘라낼 수 있는 최대 직사각형의 크기를 나타내야 합니다.  \n",
    "  \n",
    "예제 입력  \n",
    "```\n",
    "3\n",
    "7\n",
    "7 1 5 9 6 7 3\n",
    "7\n",
    "1 4 4 4 4 1 1\n",
    "4\n",
    "1 8 2 2\n",
    "```\n",
    "예제 출력  \n",
    "```\n",
    "20\n",
    "16\n",
    "8\n",
    "```"
   ]
  },
  {
   "cell_type": "markdown",
   "metadata": {},
   "source": [
    "**무식하게 풀 수 있을까?**\n",
    "각 판자 높이의 배열 h[]가 주어졌을 때 l번 판자부터 r번 판자까지 잘라내서 사각형을 만든다고 하자.  \n",
    "이 때 사각형의 넓이는 다음과 같다.  \n",
    "$ (r - l + 1) \\times \\overset{r} {\\underset{i=l}{min}}\\ h[i] $"
   ]
  },
  {
   "cell_type": "markdown",
   "metadata": {},
   "source": [
    "가장 간단한 방법은 2중 for문으로 가능한 모든 l과 r을 순회하며 위 값을 계산하는 것.  \n",
    "```cpp\n",
    "// 판자의 높이를 담은 배열 h[]가 주어질 때 사각형의 최대 너비를 반환하는 O(n^2) 알고리즘\n",
    "int bruteForce(const vector<int>& h) {\n",
    "    int ret = 0;\n",
    "    int N = h.size();\n",
    "    // 가능한 모든 left, right 조합을 순회한다.\n",
    "    for (int left = 0; left < N; ++left) {\n",
    "        int minHeight = h[left];\n",
    "        for (int right = left; right < N; ++right) {\n",
    "            minHeight = min(minHeight, h[right]);\n",
    "            ret = max(ret, (right - left + 1) * minHeight);\n",
    "        }\n",
    "    }\n",
    "    return ret;\n",
    "}\n",
    "```"
   ]
  },
  {
   "cell_type": "markdown",
   "metadata": {},
   "source": [
    "#### 분할 정복 알고리즘의 설계\n",
    "분할 정복 알고리즘을 설계하기 위해서 문제를 어떻게 분할할지를 가장 먼저 결정해야 함.  \n",
    "n개의 판자를 절반으로 나눠 두 개의 부분 문제를 만들자..  \n",
    "그러면 우리가 찾는 최대 직사각형은 다음 세 가지 중 하나에 속한다.\n",
    "1. 가장 큰 직사각형을 왼쪽 부분 문제에서만 잘라낼 수 있다.\n",
    "2. 가장 큰 직사각형을 오른쪽 부분 문제에서만 잘라낼 수 있다.\n",
    "3. 가장 큰 직사각형은 왼쪽 부분 문제와 오른쪽 부분 문제에 걸쳐 있다.  \n",
    "첫 번째와 두 번째 경우는 반으로 나눈 부분 문제를 재귀 호출하여 해결할 수 있다.  \n",
    "우리는 가장 큰 사각형의 넓이를 찾고 있기 때문에 이 중 더 큰 것을 항상 택하면 된다.  \n",
    "세 번째 경우의 답을 빠르게 구할 수만 있으면 분할 정복 알고리즘이 완성됨.  "
   ]
  },
  {
   "cell_type": "markdown",
   "metadata": {},
   "source": [
    "**양쪽 부분 문제에 걸친 경우의 답**  \n",
    "양쪽 부분 문제에 모두 걸치는 직사각형 중 가장 큰 것을 찾으려면?  \n",
    "이 직사각형은 반드시 부분 문제 경계에 있는 두 판자를 포함한다!  \n",
    "이 두 판자로 이루어진 직사각형에서 시작해 사각형을 가로로 한 칸씩 확대해 나간다고 하자.  \n",
    "왼쪽으로 확대할 수도 있고, 오른쪽으로 확대할 수도 있다.  \n",
    "이 두 경우 중 항상 사각형의 높이를 최대화하는 방향으로 확장해야 한다.  \n",
    "```cpp\n",
    "// 각 판자의 높이를 저장하는 배열\n",
    "vector<int> h;\n",
    "// h[left..right] 구간에서 찾아낼 수 잇는 가장 큰 사각형의 넓이를 반환한다.\n",
    "int solve(int left, int right) {\n",
    "    // 기저 사례: 판자가 하나밖에 없는 경우\n",
    "    if (left == right) return h[left];\n",
    "    // [left, mid], [mid + 1, right]의 두 구간으로 문제를 분할한다.\n",
    "    int mid = (left + right) / 2;\n",
    "    // 분할한 문제를 각개격파\n",
    "    int ret = max(solve(left, mid), solve(mid + 1, right));\n",
    "    // 부분 문제 3: 두 부분에 모두 걸치는 사각형 중 가장 큰 것을 찾는다.\n",
    "    int lo = mid, hi = mid + 1;\n",
    "    int height = min(h[lo], h[hi]);\n",
    "    // [mid, mid + 1]만 포함하는 너비 2인 사각형을 고려한다.\n",
    "    ret = max(ret, height * 2);\n",
    "    // 사각형이 입력 전체를 덮을 때까지 확장해 나간다.\n",
    "    while (left < lo || hi < right) {\n",
    "        // 항상 높이가 더 높은 쪽으로 확장한다.\n",
    "        if (hi < right && (lo == left || h [lo - 1] < h[hi + 1])) {\n",
    "            ++hi;\n",
    "            height = min(height, h[hi]);\n",
    "        }\n",
    "        else {\n",
    "            --lo;\n",
    "            height = min(height, h[lo]);\n",
    "        }\n",
    "        // 확장한 후 사각형의 넓이\n",
    "        ret = max(ret, height * (hi - lo + 1));\n",
    "    }\n",
    "    return ret;\n",
    "}\n",
    "```"
   ]
  },
  {
   "cell_type": "markdown",
   "metadata": {},
   "source": [
    "#### 정당성 증명\n",
    "양쪽 부분 문제에 걸쳐 있는 직사각형을 찾을 때, 각 단계마다 더 높은 판자를 택하는 것이 항상 옳음을 보여야 한다.  \n",
    "귀류법을 이용해 증명.  \n",
    "어떤 사각형 R이 우리가 이 과정을 통해 찾은 최대 직사각형보다 더 크다고 가정하자.  \n",
    "너비가 2인 사각형에서 시작해서 한 칸씩 사각형의 너비를 늘려가므로, 우리가 고려한 사각형들 중 R과 너비가 같은 사각형이 반드시 하나 존재.  \n",
    "이 사각형을 R'라 하자. 너비가 같으므로 R이 더 넓기 위해서는 높이가 반드시 R'보다 높아야 한다.  \n",
    "R과 R'은 둘 다 부분 문제 경계에 있는 두 개의 판자를 포함하므로 항상 겹치는 부분이 있다.  \n",
    "이때 R'의 높이를 결정하는 가장 낲은 판자 A가 있을 때, 위 알고리즘은 현재 사각형의 양쪽 끝에 있는 두 판자 중 항상 더 높은 것을 선택하므로, A보다 낮거나 높이가 같은 판자를 만나야만 A를 선택하게 된다.  \n",
    "그런데 R'을 만드는 과정에서 만나는 반대쪽 판자들은 모두 R에 속해 있으므로 A보다 높다. 따라서 A를 선택하는 경우가 있을 수 없음.  \n",
    "R이 R'보다 높다는 우리 가정이 모순.  \n",
    "따라서 위 알고리즘에서 고려하는 사각형 중 반드시 최대 사각형이 있다."
   ]
  },
  {
   "cell_type": "markdown",
   "metadata": {},
   "source": [
    "**시간 복잡도 분석**  \n",
    "주어진 n 크기의 배열을 $ {n \\over 2} $ 크기의 배열 두 개로 나눈 뒤 이들을 각각 해결.  \n",
    "재귀 호출 외에 함수 내에서 하는 일은 두 부분에 걸쳐 있는 사각형을 찾는 작업밖에 없으므로, 이 작업의 시간 복잡도가 전체 시간복잡도를 결정.  \n",
    "이 과정은 너비가 2인 사각형에서 시작해서 너비가 n인 사각형까지를 하나하나 검사하므로 시간 복잡도는 O(n)이 된다.  \n",
    "따라서 전체 시간복잡도는 $O(n \\log n)$"
   ]
  },
  {
   "cell_type": "markdown",
   "metadata": {},
   "source": [
    "#### 선형 시간 알고리즘\n",
    "15장에서 다루는 스위핑 기법이나 19장에서 다루는 스택을 결합한 선형 시간 알고리즘이 있다.  \n",
    "또한 25장에서 다루는 상호 배타적 집합을 사용한 풀이는 $O(n \\log n)$.  \n",
    "처음에 판자들이 하나도 없다고 가정하고, 모든 판자들을 높이의 오름차순으로 하나하나 문제에 추가해 가면서 서로 연결된 판자들의 집합을 유지하는 방법.  "
   ]
  },
  {
   "cell_type": "markdown",
   "metadata": {},
   "source": [
    "### 문제: 팬미팅(FANMEETING)"
   ]
  },
  {
   "cell_type": "markdown",
   "metadata": {},
   "source": [
    "가장 멤버가 많은 아이돌 그룹으로 기네스 북에 올라 있는 혼성 팝 그룹 하이퍼시니어가 데뷔 10주년 기념 팬 미팅을 개최했습니다.  \n",
    "팬 미팅의 한 순서로, 멤버들과 참가한 팬들이 포옹을 하는 행사를 갖기로 했습니다. 하이퍼시니어의 멤버들은 우선 무대에 일렬로 섭니다.  \n",
    "팬 미팅에 참가한 M명의 팬들은 줄을 서서 맨 오른쪽 멤버에서부터 시작해 한 명씩 왼쪽으로 움직이며 멤버들과 하나씩 포옹을 합니다.  \n",
    "모든 팬들은 동시에 한 명씩 움직입니다. 아래 그림은 행사 과정의 일부를 보여줍니다.  \n",
    "a~d는 네 명의 하이퍼시니어 멤버들이고, 0~5는 여섯 명의 팬들입니다.  \n",
    "<img src=\"http://algospot.com/media/judge-attachments/bcbb33d48baf27a4347cf09608aece35/Screenshot%20from%202013-01-14%2022%3A31%3A18.png\">\n",
    "  \n",
    "하지만 하이퍼시니어의 남성 멤버들이 남성 팬과 포옹하기가 민망하다고 여겨서, 남성 팬과는 포옹 대신 악수를 하기로 했습니다.  \n",
    "줄을 선 멤버들과 팬들의 성별이 각각 주어질 때 팬 미팅이 진행되는 과정에서 하이퍼시니어의 모든 멤버가 동시에 포옹을 하는 일이 몇 번이나 있는지 계산하는 프로그램을 작성하세요.  \n",
    "  \n",
    "#### 입력\n",
    "첫 줄에 테스트 케이스의 개수 C (C≤20)가 주어집니다.  \n",
    "각 테스트 케이스는 멤버들의 성별과 팬들의 성별을 각각 나타내는 두 줄의 문자열로 구성되어 있습니다.  \n",
    "각 문자열은 왼쪽부터 오른쪽 순서대로 각 사람들의 성별을 나타냅니다.  \n",
    "  \n",
    "M은 해당하는 사람이 남자, F는 해당하는 사람이 여자임을 나타냅니다.  \n",
    "멤버의 수와 팬의 수는 모두 1 이상 200,000 이하의 정수이며, 멤버의 수는 항상 팬의 수 이하입니다.  \n",
    "  \n",
    "#### 출력\n",
    "각 테스트 케이스마다 한 줄에 모든 멤버들이 포옹을 하는 일이 몇 번이나 있는지 출력합니다.  \n",
    "  \n",
    "예제 입력\n",
    "```\n",
    "4\n",
    "FFFMMM\n",
    "MMMFFF\n",
    "FFFFF\n",
    "FFFFFFFFFF\n",
    "FFFFM\n",
    "FFFFFMMMMF\n",
    "MFMFMFFFMMMFMF\n",
    "MMFFFFFMFFFMFFFFFFMFFFMFFFFMFMMFFFFFFF\n",
    "```\n",
    "예제 출력\n",
    "```\n",
    "1\n",
    "6\n",
    "2\n",
    "2\n",
    "```"
   ]
  },
  {
   "cell_type": "markdown",
   "metadata": {},
   "source": [
    "#### 풀이\n",
    "가장 단순한 방법은 문제에 나와 잇는 과정대로 시뮬레이션.  \n",
    "팬의 수를 N, 멤버 수를 M이라 할 때 대략 $O(NM - M^2)$. 시간 부족.  "
   ]
  },
  {
   "cell_type": "markdown",
   "metadata": {},
   "source": [
    "#### 곱셉으로의 변형\n",
    "놀랍게도 이 문제는 두 큰 수의 곱셈으로 문제를 바꾸면 쉽게 풀린다.  \n",
    "우선 길이 N인 정수와 길이 M인 정수를 곱하는 과정을 보자.  \n",
    "길이 3인 정수 A와 길이 6인 정수 B의 곱 C를 구하는 과정..\n",
    "```\n",
    "                                                                A_2         A_1         A_0\n",
    "                 X          B_5         B_4         B_3         B_2         B_1         B_0\n",
    "------------------------------------------------------------------------------------------------\n",
    "                                                             A_2 * B_0   A_1 * B_0   A_0 * B_0\n",
    "                                                 A_2 * B_1   A_1 * B_1   A_0 * B_1  \n",
    "                                     A_2 * B_2   A_1 * B_2   A_0 * B_2  \n",
    "                         A_2 * B_3   A_1 * B_3   A_0 * B_3  \n",
    "             A_2 * B_4   A_1 * B_4   A_0 * B_4  \n",
    " A_2 * B_5   A_1 * B_5   A_0 * B_5\n",
    "------------------------------------------------------------------------------------------------\n",
    "    C_7         C_6         C_5         C_4         C_3         C_2         C_1         C_0\n",
    "```"
   ]
  },
  {
   "cell_type": "markdown",
   "metadata": {},
   "source": [
    "$ C_i = A_0 \\cdot B_i + A_1 \\cdot B_{i-1} + A_2 \\cdot B_{i-2}$"
   ]
  },
  {
   "cell_type": "markdown",
   "metadata": {},
   "source": [
    "A의 원소들을 B의 연속된 원소들과 각각 곱한 후 그들의 합을 얻은 것.  \n",
    "서로 순서가 바뀌어 있긴 하지만 A의 원소들의 앞뒤를 뒤집은 다음 곱셈을 하면,  \n",
    "$ C_i = A_2 \\cdot B_i + A_1 \\cdot B_{i-1} + A_0 \\cdot B_{i-2}$과 같은 형태가 됨.  \n",
    "이제 A의 숫자들을 왼쪽으로 한 칸씩 움직이면서 B의 해당하는 숫자와 곱한 결과를 얻을 수 있다.  \n",
    "문제에서 일렬로 선 사람들의 성별을 긴 정수로 표시하자. 남성은 1, 여성은 0으로 표시.  \n",
    "그러면 남성과 남성이 만났을 때 두 자릿수의 곱은 1, 나머지 경우는 항상 0이 됨.  \n",
    "따라서 자리 올림을 생략했을 때 $C_i$가 0이라면 해당 위치에서 남성 팬과 남성 멤버가 만나는 일이 없고, 따라서 모든 멤버가 포옹을 하는 것.  "
   ]
  },
  {
   "cell_type": "markdown",
   "metadata": {},
   "source": [
    "#### 카라츠바 알고리즘을 이용한 구현\n",
    "수행시간은 두 수의 곱셈에 좌우되므로 $O(n^{lg3})$이 된다."
   ]
  },
  {
   "cell_type": "markdown",
   "metadata": {},
   "source": [
    "```cpp\n",
    "int hugs(const string& members, const string& fans) {\n",
    "    int N = members.size(), M = fans.size();\n",
    "    vector<int> A(N), B(M);\n",
    "    for (int i = 0; i < N; ++i) A[i] = (members[i] == 'M');\n",
    "    for (int i = 0; i < M; ++i) B[M-i-1] = (fans[i] == 'M');\n",
    "    // karatsuba 알고리즘에서 자리 올림은 생략.\n",
    "    vector<int> C = karatsuba(A, B);\n",
    "    int allHugs = 0;\n",
    "    for (int i = N-1; i < M; ++i)\n",
    "        if (C[i] == 0)\n",
    "            ++allHugs;\n",
    "    return allHugs;\n",
    "}\n",
    "```"
   ]
  }
 ],
 "metadata": {
  "kernelspec": {
   "display_name": "Python 3",
   "language": "python",
   "name": "python3"
  },
  "language_info": {
   "codemirror_mode": {
    "name": "ipython",
    "version": 3
   },
   "file_extension": ".py",
   "mimetype": "text/x-python",
   "name": "python",
   "nbconvert_exporter": "python",
   "pygments_lexer": "ipython3",
   "version": "3.7.3"
  }
 },
 "nbformat": 4,
 "nbformat_minor": 2
}
