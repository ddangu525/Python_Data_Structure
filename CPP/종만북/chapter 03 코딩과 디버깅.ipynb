{
 "cells": [
  {
   "cell_type": "markdown",
   "metadata": {},
   "source": [
    "## 종만북 chapter 3. 코딩과 디버깅"
   ]
  },
  {
   "cell_type": "markdown",
   "metadata": {},
   "source": [
    "### 좋은 코드를 짜기 위한 원칙\n",
    "1. 간결한 코드 작성\n",
    "    - 전역 변수를 많이 사용하면 프로그램의 흐름을 파악하기 어렵다.\n",
    "    - 대회에서 매크로를 이용하는 '흑마법'\n",
    "    ```c++\n",
    "    #define FOR(i, n) for(int i = 0; i < (n); ++i)\n",
    "    bool hasDuplicate(const vector<int>& array) {\n",
    "        FOR(i, array.size())\n",
    "            FOR(j, i)\n",
    "                if (array[i] == array[j]) return true;\n",
    "        return false;\n",
    "    }\n",
    "    ```\n",
    "    - `for (int j = 0; j < i; ++i)`와 같은 실수를 막을 순 있다..    "
   ]
  },
  {
   "cell_type": "markdown",
   "metadata": {},
   "source": [
    "2. 코드 재사용\n",
    "    - 코드 모듈화(같은 코드가 반복되면 함수나 클래스로 분리해 재사용)\n",
    "    \n",
    "3. STL \n",
    "    - 일반 대회에서.. 직접 구현하는 것보다 훨씬 빠르고 검증되었다..\n",
    "    \n",
    "4. 항상 같은 형태로 프로그램 작성\n",
    "    - 자신에게 가장 익숙하고 보기 편한 형태로\n",
    "    \n",
    "5. 일관적이고 명료한 명명법 사용\n",
    "    - 적어도 변수명, 함수명 명명법 차이, 이름만 봐도 내용 파악이 가능하도록.\n",
    "    \n",
    "6. 모든 자료를 정규화해서 저장하기\n",
    "    - 만약 유리수를 입력받는다면 항상 기약분수로 표현.\n",
    "        - 같은 자료가 두 개 이상의 표현을 가지면 버그를 만들기 쉽다.\n",
    "    - 문자열 표현이 달라지고 해시 값이 달라지는 등의 문제.\n",
    "    \n",
    "7. 코드와 데이터 분리\n",
    "    - 코드의 논리와 상관 없는 데이터는 가능한 분리시키자."
   ]
  },
  {
   "cell_type": "markdown",
   "metadata": {},
   "source": [
    "### 자주 하는 실수"
   ]
  },
  {
   "cell_type": "markdown",
   "metadata": {},
   "source": [
    "#### 산술 오버플로\n",
    "변수의 표현 범위를 벗어나는 값 사용."
   ]
  },
  {
   "cell_type": "markdown",
   "metadata": {},
   "source": [
    "#### 배열 범위 밖 원소에 접근\n",
    "런타임 오류 발생.. 배열 크기 정할 때 계산 신중히!!"
   ]
  },
  {
   "cell_type": "markdown",
   "metadata": {},
   "source": [
    "#### 일관되지 않은 범위 표현 방식 사용\n",
    "컴퓨터에서 사용하는 인덱싱과 자연어 표현에 주의.."
   ]
  },
  {
   "cell_type": "markdown",
   "metadata": {},
   "source": [
    "#### Off-by-one 오류\n",
    "계산의 큰 줄기는 맞지만 하나가 모자라거나 많아서 틀리는 코드의 오류들..  \n",
    "1. 100미터 담장에 10미터 간격으로 울타리 기둥을 세울 때 정답은 10개가 아니라 11개..  \n",
    "2. 정수 배열 A[]가 주어질 때 A[i]부터 A[j]까지의 평균은 합을 j-i가 아니라 j-i+1로 나눠야 함.\n",
    "- 최소 입력이 주어졌을 때 이 코드가 어떻게 동작할지를 되새겨 보면 오류 방지에 좋다!"
   ]
  },
  {
   "cell_type": "markdown",
   "metadata": {},
   "source": [
    "#### 컴파일러가 잡지 못하는 상수 오타\n",
    "1. 데이터 값에 오타를 낸 경우...\n",
    "2. 출력 형식 오류..\n",
    "3. 자료형 타입 지정 확실히..."
   ]
  },
  {
   "cell_type": "markdown",
   "metadata": {},
   "source": [
    "#### 스택 오버플로\n",
    "1. 재귀 깊이가 너무 깊을 때.\n",
    "2. 너무 큰 메모리의 지역 변수를 선언했을 때..(배열, 클래스...)\n",
    "    - 힙에 메모리를 할당하거나 전역변수 사용"
   ]
  },
  {
   "cell_type": "markdown",
   "metadata": {},
   "source": [
    "#### 다차원 배열 인덱스 순서 바꿔쓰기..\n",
    "패턴을 통일하여 실수하지 말자.."
   ]
  },
  {
   "cell_type": "markdown",
   "metadata": {},
   "source": [
    "#### 잘못된 비교 함수 작성\n",
    "1. 연산자 성질에 주의...\n",
    "    - a < a는 항상 거짓. 비반사성(irreflexivity)\n",
    "    - a < b가 참이면 b < a는 거짓. 비대칭성(asymmetry)\n",
    "    - a < b가 참이고 b < c가 참이면 a < c. 전이성(transitivity)\n",
    "    - a < b와 b < a가 모두 거짓이면 a와 b는 같은 값으로 간주. a와 b가 같고 b와 c가 같다면 a와 c도 같아야 한다. \n",
    "        - 상등 관계의 전이성(transitivity of equivalence)"
   ]
  },
  {
   "cell_type": "markdown",
   "metadata": {},
   "source": [
    "#### 최소, 최대 예외 잘못 다루기\n",
    "가장 작은 입력과 가장 큰 입력에 대해 제대로 동작할지를 검사해보면 오류를 잡을 수 있는 경우가 꽤 있다."
   ]
  },
  {
   "cell_type": "markdown",
   "metadata": {},
   "source": [
    "#### 연산자 우선순위\n",
    "시프트 연산자나 비트 단위 연산자들의 우선순위가 헷갈린다!  \n",
    "```c++\n",
    "if (b & 1 == 0)   // 비트단위 AND 연산자인 &의 우선순위는 비교 연산자인 == 보다도 낮기 때문에\n",
    "\n",
    "if (b & (1 == 0)) // 이와 같이 해석된다.\n",
    "```\n",
    "괄호를 잘 쓰자!"
   ]
  },
  {
   "cell_type": "markdown",
   "metadata": {},
   "source": [
    "#### 너무 느린 입출력 방식 선택\n",
    "입출력이 많다면 cout, cin이 느림..."
   ]
  },
  {
   "cell_type": "markdown",
   "metadata": {},
   "source": [
    "#### 변수 초기화 문제\n",
    "여러 테스트 케이스가 주어질 때 이전 입력에서 사용한 전역 변수 값을 초기화하지 않고 그대로 사용하는 경우..  \n",
    "초기화에 신경쓰자."
   ]
  },
  {
   "cell_type": "markdown",
   "metadata": {},
   "source": [
    "### 변수 범위의이해"
   ]
  },
  {
   "cell_type": "markdown",
   "metadata": {},
   "source": [
    "#### 산술 오버플로\n",
    "자료형에 따라 범위 제한.. 사칙연산, 중간과정에 범위가 벗어나지 않는지 확인."
   ]
  },
  {
   "cell_type": "markdown",
   "metadata": {},
   "source": [
    "#### 자료형 프로모션\n",
    "이항 연산자의 피연산자의 자료형이 다르거나 자료형의 범위가 너무 작은 경우 컴파일러들은 이들을 같은 자료형으로 변환하여 게산. (프로모션)  \n",
    "c++의 경우 규칙  \n",
    "1. 한쪽은 정수형이고 한쪽은 실수형: 정수형 => 실수형\n",
    "2. 양쪽 다 정수형이거나 양쪽 다 실수형: 보다 넓은 범위를 갖는 자료형으로 변환\n",
    "3. 양쪽 다 int형보다 작은 정수형: 양쪽 다 int형으로 변환\n",
    "4. 부호 없는 정수형과 부호 있는 정수형이 섞여 있을 경우: **부호 없는 정수형으로 변환**\n",
    "  \n",
    "부호 있는 정수와 부호 없는 정수형이 섞였을 때 주의.."
   ]
  },
  {
   "cell_type": "markdown",
   "metadata": {},
   "source": [
    "### 실수 자료형 이해\n",
    "컴퓨터가 사용하는 실수 표현 방식에 이해 필요... 정확하게 표현할 수 없다..  \n",
    "부동 소수점 표기법, 무한대, 비정규 수, Nan등 특수 값 존재    \n",
    "**실수를 비교해야 할 경우 오차 한도를 정하여 비교**  \n",
    "가능하다면 실수 연산을 아예 하지 않는 것이 가장 좋다.  \n",
    "- 세 정수 a, b, c가 있고 a / b x c를 해야하는데 결과가 항상 정수임을 알고 있다면, (a x c) / b 형태로 하면 실수연산 안할 수 있다."
   ]
  }
 ],
 "metadata": {
  "kernelspec": {
   "display_name": "Python 3",
   "language": "python",
   "name": "python3"
  },
  "language_info": {
   "codemirror_mode": {
    "name": "ipython",
    "version": 3
   },
   "file_extension": ".py",
   "mimetype": "text/x-python",
   "name": "python",
   "nbconvert_exporter": "python",
   "pygments_lexer": "ipython3",
   "version": "3.7.4"
  }
 },
 "nbformat": 4,
 "nbformat_minor": 2
}
