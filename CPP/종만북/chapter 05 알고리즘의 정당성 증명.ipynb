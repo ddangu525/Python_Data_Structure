{
 "cells": [
  {
   "cell_type": "markdown",
   "metadata": {},
   "source": [
    "## 종만북 chapter 5. 알고리즘의 정당성 증명"
   ]
  },
  {
   "cell_type": "markdown",
   "metadata": {},
   "source": [
    "## 수학적 귀납법과 반복문 불변식"
   ]
  },
  {
   "cell_type": "markdown",
   "metadata": {},
   "source": [
    "### 수학적 귀납법(Mathematical Induction)\n",
    "- 반복적인 구조를 갖는 명제들을 증명하는 데 유용.\n",
    "    1. 단계 나누기: 증명하고 싶은 사실을 여러 단계로 나눈다.\n",
    "    2. 첫 단계 증명: 첫 단계에서 증명하고 싶은 내용이 성립함을 보임.\n",
    "    3. 귀납 증명: 한 단계에서 증명하고 싶은 내용이 성립한다면, 다음 단계에서도 성립함을 보인다.\n",
    "      \n",
    "**사다리게임 선택지 1:1대응됨을 증명**\n",
    "1. 단계 나누기\n",
    "    - 텅 빈 N개의 세로줄에서부터 시작해서 원하는 사다리가 될 때까지 하나씩 가로 줄을 그어 간다고 하자.\n",
    "    - 가로 줄을 하나 긋는 것이 한 단계\n",
    "2. 첫 단계 증명\n",
    "    - 텅 빈 N개의 세로줄에서는 항상 맨 위 선택지와 맨 아래 선택지가 1:1 대응이 된다.\n",
    "3. 귀납 증명\n",
    "    - 가로줄을 그어 두 개의 세로줄을 연결했다고 하자. \n",
    "    - 두 세로줄의 결과는 뒤바뀌지만 1:1 대응은 변하지 않으므로 다음 단계에서도 1:1 속성이 유지."
   ]
  },
  {
   "cell_type": "markdown",
   "metadata": {},
   "source": [
    "### 반복문 불변식(Loop Invariant)\n",
    "- 귀납법을 이용해 알고리즘의 정당성을 증명할 때 사용.\n",
    "- 반복문의 내용이 한 번 실행될 때마다 중간 결과가 우리가 원하는 답으로 가는 길 위에 잘 있는지를 명시하는 조건.\n",
    "- 불변식을 이용한 증명과정\n",
    "    1. 반복문 진입시에 불변식이 성립함을 보인다.\n",
    "    2. 반복문 내용이 불변식을 깨뜨리지 않음을 보인다. (시작할 때 성립했다면 끝날 때도 성립해야함.)\n",
    "    3. 반복문 종료시에 불변식이 성립하면 항상 우리가 정답을 구했음을 보인다.\n",
    "    \n",
    "**이진 탐색과 반복문 불변식**\n",
    "```c++\n",
    "// 필수조건: A는 오름차순으로 정렬\n",
    "// 결과: A[i - 1] < x <= A[i]인 i를 반환\n",
    "// 이때 A[-1] = 음의 무한대, A[n] = 양의 무한대로 가정\n",
    "int binsearch(const vector<int>& A, int x) {\n",
    "    int n = A.size();\n",
    "    int lo = -1, hi = n;\n",
    "    // 반복문 불변식 1: lo < hi\n",
    "    // 반복문 불변식 2: A[lo] <= A[hi]\n",
    "    // (*) 불변식은 여기서 성립해야 한다.\n",
    "    while (lo + 1 < hi) {\n",
    "        int mid = (lo + hi) / 2;\n",
    "        if (A[mid] < x)\n",
    "            lo = mid;\n",
    "        else\n",
    "            hi = mid;\n",
    "        // (**) 불변식은 여기서도 성립해야 한다.\n",
    "    }\n",
    "    return hi;\n",
    "}\n",
    "```"
   ]
  },
  {
   "cell_type": "markdown",
   "metadata": {},
   "source": [
    "## 귀류법 "
   ]
  },
  {
   "cell_type": "markdown",
   "metadata": {},
   "source": [
    "증명하고자 하는 바와 반대되는 상황을 가정하고 논리를 전개해서 결론이 잘못됐음을 찾아내는 증명 기법.  \n",
    "알고리즘에서 대개 어떤 선택이 항상 최선임을 증명하고자 할 때 많이 이용됨.  "
   ]
  },
  {
   "cell_type": "markdown",
   "metadata": {},
   "source": [
    "**책장 쌓기**  \n",
    "상자 형태로 된 책장을 여러 개 쌓아올리려 한다.  \n",
    "각 책장마다 버틸 수 있는 최대 무게 $M_i$와 자신의 무게 $W_i$가 주어진다고 하면, 책장을 가장 높이 쌓으면 몇 층?  \n",
    "above(i)가 i번 책장 위에 쌓인 모든 책장의 집합이라고 할 때, 다음이 성립해야 한다.  \n",
    "$\\sum_{j \\in above(i)} W_i \\le M_i$"
   ]
  },
  {
   "cell_type": "markdown",
   "metadata": {},
   "source": [
    "즉, 책장 위에 올라간 다른 책장들의 무게의 합이 견딜 수 있는 최대 무게를 초과하면 안 된다.  \n",
    "풀이 순서.\n",
    "1. 책장을 쌓는 순서를 결정\n",
    "    - 가장 높이 책장을 쌓았을 때, 책장들이 항상 어떤 순서를 가진다는 것을 보일 수 있다고 하자. \n",
    "    - **견딜 수 있는 최대 무게와 자신의 무게의 합 $M_i + W_i$가 큰 것부터 아래에 놓아야 한다.**\n",
    "2. 증명\n",
    "    - 증명하려는 사실의 반대를 가정\n",
    "        - 최적해가 $M_i + W_i$가 더 큰 책장 A가 작은 책장 B 위에 올라간 형태라고 가정.\n",
    "    - B는 윗칸으로 올라가면 견뎌야 할 무게가 줄기 때문에 반드시 위에 올릴 수 있다.\n",
    "    - $M_A + W_A > M_B + W_B$였는데 $M_A$만 좌변에 남겨보면\n",
    "    - $M_A > M_B + W_B - W_A$\n",
    "    - A 위에 올라가 있는 상자들의 무게의 합을 X라고 하면 $M_B \\ge W_A + X$\n",
    "    - 따라서 $M_A > M_B + W_B - W_A \\ge (W_A + X) + W_B - W_A$\n",
    "    - 결과적으로 $M_A > X + W_B$\n",
    "    - 즉 A는 B와 나머지 모든 상자들을 지탱할 수 있다.\n",
    "    - 따라서 우리가 원하는 순서대로 쌓았을 때 가장 높은 탑을 얻지 못하는 경우는 존재하지 않는다.        "
   ]
  },
  {
   "cell_type": "markdown",
   "metadata": {},
   "source": [
    "### 다른 기술들"
   ]
  },
  {
   "cell_type": "markdown",
   "metadata": {},
   "source": [
    "#### 비둘기집의 원리(Pigeonhole Principle)\n",
    "10마리의 비둘기가 9개의 비둘기집에 모두 들어갔다면, 2마리 이상이 들어간 비둘기집이 반드시 하나는 있다.  \n",
    "여러 곳에서 유용하게 사용됨.."
   ]
  },
  {
   "cell_type": "markdown",
   "metadata": {},
   "source": [
    "#### 동전 뒤집기\n",
    "100개의 동전이 바닥에 깔려 있는데 F개는 앞면, 100-F개는 뒷면이다.  \n",
    "한번에 X개의 동전을 뒤집는 수행을 반복하여 동전들을 모두 앞면으로 향하게 하고 싶다.  \n",
    "뒤집는 횟수를 최소화 하고싶을 때 답의 상한은?  "
   ]
  },
  {
   "cell_type": "markdown",
   "metadata": {},
   "source": [
    "**답은 100.**  \n",
    "동전을 한 번 뒤집을 때마다 보이는 앞면의 개수를 적는다고 하자.  \n",
    "어떤 답에서 동전을 101번 뒤집었다면 F까지 합쳐 102개의 숫자를 적게 되는데, 앞면의 개수는 0부터 100까지 101가지의 값만..  \n",
    "비둘기집 원리에 따라 반드시 중복이 발생하므로 최선의 답이 아니다.  "
   ]
  },
  {
   "cell_type": "markdown",
   "metadata": {},
   "source": [
    "100개 동전 중 앞면이 57개이고, 한 번에 2 개의 동전만 뒤집을 수 있다면 답은??  \n",
    "99개가 앞면을 볼 때까지 계속 뒷면의 동전들을 뒤집고(21회), 어떻게 해도 불가능?? 남아있는 뒷면을 짝수로 만들 수 없다..  \n",
    "앞면이 항상 홀수라는 불변식을 증명하면 된다...."
   ]
  },
  {
   "cell_type": "markdown",
   "metadata": {},
   "source": [
    "#### 순환 소수 찾기"
   ]
  },
  {
   "cell_type": "markdown",
   "metadata": {},
   "source": [
    "분수 ${a \\over b}$가 주어질 때 실수 연산을 쓰지 않고 분수를 소수 형태로 출력하려 한다."
   ]
  },
  {
   "cell_type": "markdown",
   "metadata": {},
   "source": [
    "```c++\n",
    "// 분수 a / b의 소수 표현을 출력한다.\n",
    "// a >= 0, b > 0이라고 가정\n",
    "void printDecimal(int a, int b) {\n",
    "    int iter = 0;\n",
    "    while (a > 0) {\n",
    "        // 첫 번째와 두 번째 사이에 소수점을 찍는다.\n",
    "        if (iter++ == 1) cout << '.';\n",
    "        cout << a / b;\n",
    "        a = (a % b) * 10;\n",
    "    }\n",
    "}\n",
    "```"
   ]
  },
  {
   "cell_type": "code",
   "execution_count": 5,
   "metadata": {},
   "outputs": [],
   "source": [
    "def printDecimal(a, b):\n",
    "    it = 0\n",
    "    while a > 0:\n",
    "        if it == 1:\n",
    "            print('.', end='')\n",
    "        print(a // b, end='')\n",
    "        it += 1\n",
    "        a = (a % b) * 10"
   ]
  },
  {
   "cell_type": "code",
   "execution_count": null,
   "metadata": {},
   "outputs": [],
   "source": [
    "printDecimal(1, 3)"
   ]
  },
  {
   "cell_type": "markdown",
   "metadata": {},
   "source": [
    "```\n",
    "0.333333 .....\n",
    "```"
   ]
  },
  {
   "cell_type": "markdown",
   "metadata": {},
   "source": [
    "무한 소수를 인식해서 별도로 처리하려면??  \n",
    "비둘기집 원리로 해결할 수 있다!"
   ]
  },
  {
   "cell_type": "markdown",
   "metadata": {},
   "source": [
    "a = (a % b) * 10의 결과는 언제나 [0, b-1]의 범위.  \n",
    "while문이 b + 1번 반복될 때까지 함수가 종료하지 않았다고 하자.  \n",
    "a % b의 결과는 b가지의 결과만 가질 수 있으니 결과가 중복되는 경우가 반드시 있다.  \n",
    "그러면 같은 결과가 첫 번째로 등장했을 때부터 두 번째 등장할 때까지가 무한히 순환되는 순환소수임을 알 수 있다."
   ]
  },
  {
   "cell_type": "markdown",
   "metadata": {},
   "source": [
    "```c++\n",
    "void printDecimal(int a, int b) {\n",
    "    int iter = 0;\n",
    "    while (a > 0 && iter < b) {\n",
    "        // 첫 번째와 두 번째 사이에 소수점을 찍는다.\n",
    "        if (iter++ == 1) cout << '.';\n",
    "        cout << a / b;\n",
    "        a = (a % b) * 10;\n",
    "    }\n",
    "}\n",
    "```"
   ]
  },
  {
   "cell_type": "code",
   "execution_count": 8,
   "metadata": {},
   "outputs": [],
   "source": [
    "def printDecimal(a, b):\n",
    "    it = 0\n",
    "    while a > 0 and it < b:\n",
    "        if it == 1:\n",
    "            print('.', end='')\n",
    "        print(a // b, end='')\n",
    "        it += 1\n",
    "        a = (a % b) * 10"
   ]
  },
  {
   "cell_type": "code",
   "execution_count": 12,
   "metadata": {
    "scrolled": true
   },
   "outputs": [
    {
     "name": "stdout",
     "output_type": "stream",
     "text": [
      "0.03030303030303030303030303030303"
     ]
    }
   ],
   "source": [
    "printDecimal(1, 33)"
   ]
  },
  {
   "cell_type": "code",
   "execution_count": 29,
   "metadata": {},
   "outputs": [],
   "source": [
    "def printDecimal(a, b):\n",
    "    it = 0\n",
    "    r = []\n",
    "    while a > 0 and it < b:\n",
    "        if it == 1:\n",
    "            print('.', end='')\n",
    "        print(a // b, end='')\n",
    "        it += 1\n",
    "        a = (a % b) * 10\n",
    "        if a in r:\n",
    "            print(a // b, end='')\n",
    "            return\n",
    "        else:\n",
    "            r.append(a)"
   ]
  },
  {
   "cell_type": "code",
   "execution_count": 34,
   "metadata": {
    "scrolled": true
   },
   "outputs": [
    {
     "name": "stdout",
     "output_type": "stream",
     "text": [
      "0.0322580645161290"
     ]
    }
   ],
   "source": [
    "printDecimal(1, 31)"
   ]
  },
  {
   "cell_type": "code",
   "execution_count": 31,
   "metadata": {},
   "outputs": [
    {
     "data": {
      "text/plain": [
       "0.030303030303030304"
      ]
     },
     "execution_count": 31,
     "metadata": {},
     "output_type": "execute_result"
    }
   ],
   "source": [
    "1/33"
   ]
  },
  {
   "cell_type": "markdown",
   "metadata": {},
   "source": [
    "#### 구성적 증명(Constructive Proof)\n",
    "우리가 원하는 어떤 답이 존재한다는 사실을 증명하기 위해서 사용됨.  \n",
    "실제 예를 들거나 답을 만드는 방법을 실제로 제시하는 증명.  \n",
    "- 하늘을 나는 교통 수단을 만들 수 있다는 주장을 증명한다면\n",
    "    1. 비구성적 증명: 양력의 법칙에서부터 공기 밀도, 재료들의 강도와 탄성들을 열거해 가며 어떤 가정 하에서 하늘이 날 수 있음을 증명.\n",
    "    2. 구성적 증명: 비행기를 만들어서 보여주거나, 만드는 법이 적힌 설명서를 건넴. 사실상 알고리즘인 경우가 많다."
   ]
  },
  {
   "cell_type": "markdown",
   "metadata": {},
   "source": [
    "#### 안정적 결혼 문제(Stable Marriage Problem)\n",
    "n명의 남성과 여성이 단체 미팅.  \n",
    "모든 사람은 자신이 워한느 상대방의 우선순위를 맘 속에 정함.  \n",
    "남자 1호와 여자 1호, 남자 2호와 여자 2호가 짝이 되었는데, 남자 1호와 여자 2호는 자신들의 짝보다 서로를 더 선호하는 일이 없도록 짝지을 수 있을까?  \n",
    "답의 존재성을 보이는 대신 **답을 만드는 알고리즘을 제시함으로써 답이 존재함을 보이자.**  \n",
    "1. 처음에는 여자들이 모두 자신이 가장 선호하는 남성의 앞에 가서 프로포즈.  \n",
    "    - 남성이 그중 제일 마음에 드는 여성을 고르면 나머지는 제자리로..\n",
    "2. 퇴짜를 맞은 여성들은 (상대의 짝 유무에 관계없이) 다음으로 마음에 드는 남성에게 다가가 프로포즈.\n",
    "    - 남성은 현재 자기 짝보다 더 맘에 드는 여성이 다가왔다면, 새 여성에게 넘어감\n",
    "3. 더 프로포즈할 여성이 없을 때까지 2번 수행을 반복\n",
    "\n",
    "  \n",
    "이 알고리즘이 우리가 원하는 답을 구할 수 있음을 보이려면 이 알고리즘이 **항상 종료**한다는 것, **모든 사람이 짝을 찾는다**는 것, 그리고 결과적으로 이뤄지는 **짝을이 모두 '안정적'**임을 증명해야 한다.  \n",
    "1. 종료 증명\n",
    "    - 각 여성은 퇴짜 맞을 때마다 지금까지 프로포즈했던 남성들보다 우선순위가 낮은 남성에게 프로포즈한다.\n",
    "    - 각 여성이 최대 n명의 남성들에게 순서대로 프로포즈한 이후엔 더이상 프로포즈할 남성이 없다.\n",
    "    - 따라서 이 과정은 언젠가 반드시 종료한다.\n",
    "2. 모든 사람들이 짝을 찾는지 증명\n",
    "    - 프로포즈 받은 남성은 한 명을 반드시 선택\n",
    "    - 우선순위가 높은 여성이 뒤에 프로포즈해야만 짝을 바꿈.\n",
    "    - 따라서 한번이라도 프로포즈를 받은 남성은 항상 짝이 있다.\n",
    "    - 귀류법을 적용하여 남녀 한 사람씩 짝을 찾지 못하고 남았다고 가정.\n",
    "        - 여성은 우선순위에 따라 모두에게 한 번씩 프로포즈하기 때문에, 이 남성도 한 번은 프로포즈를 받았을 것.\n",
    "        - 그렇다면 이 남성은 짝이 존재해야만 하므로 짝을 찾지 못하는 사람은 있을 수 없다.\n",
    "3. 짝의 안정성 증명\n",
    "    - 귀류법으로 증명.\n",
    "    - 결과로 짝을 지었는데 짝이 아닌 두 남녀가 서로 자신의 짝보다 상대방을 더 선호한다고 가정하자.\n",
    "    - 여성은 지금 자신의 짝 이전에 그 남성에게 반드시 프로포즈했어야 한다.\n",
    "    - 그런데 이 남성이 이 여성과 짝지어지지 않았다는 말은 더 맘에 드는 여성에게 프로포즈를 받아서 수락했다는 뜻.\n",
    "    - 남성은 더 맘에 드는 여성이 나타났을 때만 짝을 바꾸므로 프로포즈 받았던 여성보다 맘에 들지 않는 여성과 짝이 되는 일은 없다.\n",
    "    - 따라서 가정한 상황은 존재할 수 없다."
   ]
  }
 ],
 "metadata": {
  "kernelspec": {
   "display_name": "Python 3",
   "language": "python",
   "name": "python3"
  },
  "language_info": {
   "codemirror_mode": {
    "name": "ipython",
    "version": 3
   },
   "file_extension": ".py",
   "mimetype": "text/x-python",
   "name": "python",
   "nbconvert_exporter": "python",
   "pygments_lexer": "ipython3",
   "version": "3.7.3"
  }
 },
 "nbformat": 4,
 "nbformat_minor": 2
}
