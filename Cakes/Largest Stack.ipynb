{
 "cells": [
  {
   "cell_type": "markdown",
   "metadata": {},
   "source": [
    "## You want to be able to access the largest element in a stack."
   ]
  },
  {
   "cell_type": "markdown",
   "metadata": {},
   "source": [
    "You've already implemented this Stack class:"
   ]
  },
  {
   "cell_type": "code",
   "execution_count": 1,
   "metadata": {},
   "outputs": [],
   "source": [
    "class Stack(object):\n",
    "\n",
    "    def __init__(self):\n",
    "        \"\"\"Initialize an empty stack\"\"\"\n",
    "        self.items = []\n",
    "\n",
    "    def push(self, item):\n",
    "        \"\"\"Push a new item onto the stack\"\"\"\n",
    "        self.items.append(item)\n",
    "\n",
    "    def pop(self):\n",
    "        \"\"\"Remove and return the last item\"\"\"\n",
    "        # If the stack is empty, return None\n",
    "        # (it would also be reasonable to throw an exception)\n",
    "        if not self.items:\n",
    "            return None\n",
    "\n",
    "        return self.items.pop()\n",
    "\n",
    "    def peek(self):\n",
    "        \"\"\"Return the last item without removing it\"\"\"\n",
    "        if not self.items:\n",
    "            return None\n",
    "        return self.items[-1]"
   ]
  },
  {
   "cell_type": "markdown",
   "metadata": {},
   "source": [
    "Use your Stack class to implement a new class MaxStack with a method get_max() that returns the largest element in the stack.  \n",
    "get_max() should not remove the item.  \n",
    "  \n",
    "Your stacks will contain only integers.  "
   ]
  },
  {
   "cell_type": "markdown",
   "metadata": {},
   "source": [
    "### Breakdown\n",
    "A just-in-time approach is to have get_max() simply walk through the stack   \n",
    "(popping all the elements off and then pushing them back on) to find the max element.  \n",
    "This takes O(n) time for each call to get_max(). But we can do better."
   ]
  },
  {
   "cell_type": "markdown",
   "metadata": {},
   "source": [
    "To get O(1) time for get_max(), we could store the max integer as a member variable (call it max). But how would we keep it up to date?"
   ]
  },
  {
   "cell_type": "markdown",
   "metadata": {},
   "source": [
    "For every push(), we can check to see if the item being pushed is larger than the current max, assigning it as our new max if so.  \n",
    "But what happens when we pop() the current max? We could re-compute the current max by walking through our stack in O(n)time.  \n",
    "So our worst-case runtime for pop() would be O(n). We can do better.  "
   ]
  },
  {
   "cell_type": "markdown",
   "metadata": {},
   "source": [
    "What if when we find a new current max (new_max), instead of overwriting the old one (old_max) we held onto it,  \n",
    "so that once new_max was popped off our stack we would know that our max was back to old_max? "
   ]
  },
  {
   "cell_type": "markdown",
   "metadata": {},
   "source": [
    "What data structure should we store our set of maxes in?  \n",
    "We want something where the last item we put in is the first item we get out (\"last in, first out\").  "
   ]
  },
  {
   "cell_type": "markdown",
   "metadata": {},
   "source": [
    "We can store our maxes in another stack!"
   ]
  },
  {
   "cell_type": "markdown",
   "metadata": {},
   "source": [
    "### Solution\n",
    "We define two new stacks within our MaxStack class—stack holds all of our integers, and maxes_stack holds our \"maxima.\"  \n",
    "We use maxes_stack to keep our max up to date in constant time as we push() and pop():  \n",
    "  \n",
    "1. Whenever we push() a new item, we check to see if it's greater than or equal to the current max, which is at the top of maxes_stack.  \n",
    "If it is, we also push() it onto maxes_stack.  \n",
    "2. Whenever we pop(), we also pop() from the top of maxes_stack if the item equals the top item in maxes_stack.  "
   ]
  },
  {
   "cell_type": "code",
   "execution_count": 2,
   "metadata": {},
   "outputs": [],
   "source": [
    "class MaxStack(object):\n",
    "\n",
    "    def __init__(self):\n",
    "        self.stack = Stack()\n",
    "        self.maxes_stack = Stack()\n",
    "\n",
    "    def push(self, item):\n",
    "        \"\"\"Add a new item onto the top of our stack.\"\"\"\n",
    "        self.stack.push(item)\n",
    "\n",
    "        # If the item is greater than or equal to the last item in maxes_stack,\n",
    "        # it's the new max! So we'll add it to maxes_stack.\n",
    "        if self.maxes_stack.peek() is None or item >= self.maxes_stack.peek():\n",
    "            self.maxes_stack.push(item)\n",
    "\n",
    "    def pop(self):\n",
    "        \"\"\"Remove and return the top item from our stack.\"\"\"\n",
    "        item = self.stack.pop()\n",
    "\n",
    "        # If it equals the top item in maxes_stack, they must have been pushed\n",
    "        # in together. So we'll pop it out of maxes_stack too.\n",
    "        if item == self.maxes_stack.peek():\n",
    "            self.maxes_stack.pop()\n",
    "\n",
    "        return item\n",
    "\n",
    "    def get_max(self):\n",
    "        \"\"\"The last item in maxes_stack is the max item in our stack.\"\"\"\n",
    "        return self.maxes_stack.peek()"
   ]
  },
  {
   "cell_type": "markdown",
   "metadata": {},
   "source": [
    "### Complexity\n",
    "O(1) time for push(), pop(), and get_max(). O(m) additional space, where mm is the number of operations performed on the stack.  \n",
    "  \n",
    "#### Bonus\n",
    "Our solution requires O(m) additional space for the second stack. But do we really need it?  \n",
    "  \n",
    "Can you come up with a solution that requires O(1) additional space? (It's tricky!)  \n",
    "    \n",
    "#### What We Learned\n",
    "Notice how in the solution we're spending time on push() and pop() so we can save time on get_max().  \n",
    "That's because we chose to optimize for the time cost of calls to get_max().  \n",
    "  \n",
    "But we could've chosen to optimize for something else.  \n",
    "For example, if we expected we'd be running push() and pop() frequently and running get_max() rarely, we could have optimized for faster push() and pop() methods.  \n",
    "  \n",
    "Sometimes the first step in algorithm design is deciding what we're optimizing for.  \n",
    "Start by considering the expected characteristics of the input.  "
   ]
  }
 ],
 "metadata": {
  "kernelspec": {
   "display_name": "Python 3",
   "language": "python",
   "name": "python3"
  },
  "language_info": {
   "codemirror_mode": {
    "name": "ipython",
    "version": 3
   },
   "file_extension": ".py",
   "mimetype": "text/x-python",
   "name": "python",
   "nbconvert_exporter": "python",
   "pygments_lexer": "ipython3",
   "version": "3.7.3"
  }
 },
 "nbformat": 4,
 "nbformat_minor": 2
}
