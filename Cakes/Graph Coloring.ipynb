{
 "cells": [
  {
   "cell_type": "markdown",
   "metadata": {},
   "source": [
    "#### Interview Cake Graph Coloring 내용정리"
   ]
  },
  {
   "cell_type": "markdown",
   "metadata": {},
   "source": [
    "Given an undirected graph with maximum degree D, find a graph coloring using at most D+1 colors."
   ]
  },
  {
   "cell_type": "markdown",
   "metadata": {},
   "source": [
    "For example,  \n",
    "<img src=\"https://www.interviewcake.com/images/svgs/graph_coloring__frucht_graph_uncolored.svg?bust=203\">"
   ]
  },
  {
   "cell_type": "markdown",
   "metadata": {},
   "source": [
    "This graph's maximum degree (D) is 3, so we have 4 colors (D+1). Here's one possible coloring:"
   ]
  },
  {
   "cell_type": "markdown",
   "metadata": {},
   "source": [
    "<img src=\"https://www.interviewcake.com/images/svgs/graph_coloring__frucht_graph_colored.svg?bust=203\">"
   ]
  },
  {
   "cell_type": "markdown",
   "metadata": {},
   "source": [
    "Graphs are represented by a list of N node objects, each with a label, a set of neighbors, and a color:"
   ]
  },
  {
   "cell_type": "code",
   "execution_count": 1,
   "metadata": {},
   "outputs": [],
   "source": [
    "class GraphNode:\n",
    "\n",
    "    def __init__(self, label):\n",
    "        self.label = label\n",
    "        self.neighbors = set()\n",
    "        self.color = None\n",
    "\n",
    "\n",
    "a = GraphNode('a')\n",
    "b = GraphNode('b')\n",
    "c = GraphNode('c')\n",
    "\n",
    "a.neighbors.add(b)\n",
    "b.neighbors.add(a)\n",
    "b.neighbors.add(c)\n",
    "c.neighbors.add(b)\n",
    "\n",
    "graph = [a, b, c]"
   ]
  },
  {
   "cell_type": "markdown",
   "metadata": {},
   "source": [
    "### Breakdown\n",
    "Let's take a step back. Is it always possible to find a legal coloring with D+1 colors?  \n",
    "Let's think about it. Each node has at most D neighbors, and we have D+1 colors.  \n",
    "So, if we look at any node, there's always at least one color that's not taken by its neighbors.  \n",
    "So yes. D+1 is always enough colors for a legal coloring.  \n",
    "    \n",
    "Okay, so there is always a legal coloring. Now, how can we find it?  "
   ]
  },
  {
   "cell_type": "markdown",
   "metadata": {},
   "source": [
    "**A brute force approach** would be to try every possible combination of colors until we find a legal coloring.  \n",
    "Our steps would be:\n",
    "1. For each possible graph coloring,\n",
    "2. If the coloring is legal, then return it\n",
    "3. Otherwise, move on to the next coloring  \n",
    "  \n",
    "For example, looking back at our sample graph:"
   ]
  },
  {
   "cell_type": "markdown",
   "metadata": {},
   "source": [
    "<img src=\"https://www.interviewcake.com/images/svgs/graph_coloring__frucht_graph_uncolored.svg?bust=203\">"
   ]
  },
  {
   "cell_type": "markdown",
   "metadata": {},
   "source": [
    "D is 3, so we can use 4 colors. The combinations of 4 colors for all 12 nodes are:"
   ]
  },
  {
   "cell_type": "markdown",
   "metadata": {},
   "source": [
    "```\n",
    "red, red, red, red, red, red, red, red, red, red, red, red\n",
    "red, red, red, red, red, red, red, red, red, red, red, yellow\n",
    "red, red, red, red, red, red, red, red, red, red, red, green\n",
    "red, red, red, red, red, red, red, red, red, red, red, blue\n",
    "red, red, red, red, red, red, red, red, red, red, yellow, red\n",
    "...\n",
    "blue, blue, blue, blue, blue, blue, blue, blue, blue, blue, blue, green\n",
    "blue, blue, blue, blue, blue, blue, blue, blue, blue, blue, blue, blue\n",
    "```"
   ]
  },
  {
   "cell_type": "markdown",
   "metadata": {},
   "source": [
    "And we'd keep trying combinations until we reach one that legally colors the graph.  \n",
    "  \n",
    "This would work. But what's the complexity?  \n",
    "\n",
    "Here we'd try $4^{12}$ combinations (every combination of 4 colors for 12 nodes).  \n",
    "In general, we'll have to check $O(D^N)$ colorings.  \n",
    "And that's not all—each time we try a coloring, we have to check all M edges to see if the vertices at both ends have different colors.  \n",
    "So, our runtime is $O(M*D^N)$. That's exponential time since N is in an exponent.\n",
    "  \n",
    "Since this algorithm is so inefficient, it's probably not what the interviewer is looking for.  \n",
    "With practice, it gets easier to quickly judge if an approach will be inefficient.  \n",
    "Still, sometimes it's a good idea in an interview to briefly explain inefficient ideas and why you think they're inefficient.  \n",
    "It shows rigorous thinking.  \n",
    "  \n",
    "How can we color the graph more efficiently?"
   ]
  },
  {
   "cell_type": "markdown",
   "metadata": {},
   "source": [
    "Well, we're wasting a lot of time trying color combinations that don't work.  \n",
    "If the first 2 nodes are neighbors, we shouldn't try any combinations where the first 2 colors are the same."
   ]
  },
  {
   "cell_type": "markdown",
   "metadata": {},
   "source": [
    "Instead of assigning all the colors at once, what if we colored the nodes one by one?"
   ]
  },
  {
   "cell_type": "markdown",
   "metadata": {},
   "source": [
    "We could assign a color to the first node, then find a legal color for the second node, then for the third node, and keep going node by node."
   ]
  },
  {
   "cell_type": "code",
   "execution_count": 4,
   "metadata": {},
   "outputs": [],
   "source": [
    "def color_graph(graph, colors):\n",
    "    for node in graph:\n",
    "        # Get the node's neighbors' colors, as a set so we\n",
    "        # can check if a color is illegal in constant time\n",
    "        illegal_colors = set([neighbor.color for neighbor in node.neighbors if neighbor.color])\n",
    "        legal_colors = [color for color in colors if color not in illegal_colors]\n",
    "\n",
    "        # Assign the first legal color\n",
    "        node.color = legal_colors[0]"
   ]
  },
  {
   "cell_type": "markdown",
   "metadata": {},
   "source": [
    "> Is it possible we'll back ourselves into a corner somehow and run out of colors for some nodes?  \n",
    "Let's think back to our earlier argument about whether a coloring always exists:  \n",
    "\"Each node has at most D neighbors, and we have D+1 colors.  \n",
    "So, if we look at any node, there's always at least one color that's not taken by its neighbors.\"    \n",
    "That reasoning works here, too! So no—we'll never back ourselves into a corner."
   ]
  },
  {
   "cell_type": "markdown",
   "metadata": {},
   "source": [
    "Ok, what's our runtime?"
   ]
  },
  {
   "cell_type": "markdown",
   "metadata": {},
   "source": [
    "We're iterating through each node in the graph, so the loop body executes N times. In each iteration of the loop:  \n",
    "  \n",
    "We look at the current node's neighbors to figure out what colors are already taken.  \n",
    "That's O(D), since any given node can have up to D neighbors.  \n",
    "Then, we look at all the colors (there are O(D) of them) to see which ones are available.  \n",
    "Finally, we pick the first color that's free and assign it to the node (O(1)).  \n",
    "So our runtime is N*(D+D+1), which is O(N*D).  \n",
    "  \n",
    "Can we tighten our analysis a bit here? Take a look at step 1, where we collect the neighbors' colors:  \n",
    "  \n",
    "We said looking at each node's neighbors was O(D) since each node can have at most D neighbors . . .  \n",
    "but each node might have way fewer neighbors than that.  \n",
    "  \n",
    "Can we say anything about the total number of neighbors we'll look at across all of the loop iterations?  \n",
    "How many neighbors are there in the entire graph?  \n",
    "  \n",
    "Each edge creates two neighbors: one for each node on either end.  \n",
    "So when our code looks at every neighbor for every node, it looks at 2*M neighbors in all.  \n",
    "With O(M) neighbors, collecting all the colors over the entire for loop takes O(M) time.  \n",
    "  \n",
    "Using this tighter analysis, we've taken our runtime from N*(D+D+1) down to N*(D+1)+M. That's O((N*D)+M) time.  \n",
    "  \n",
    "Of course, that complexity doesn't look any faster, at least not asymptotically.  \n",
    "But in the underlying expression, we've gotten rid of one of the two N*D factors.  \n",
    "  \n",
    "Can we get rid of the other one to bring our complexity down to linear time?  "
   ]
  },
  {
   "cell_type": "markdown",
   "metadata": {},
   "source": [
    "The remaining N*D factor comes from step 2: looking at every color for every node to populate legal_colors.  \n",
    "  \n",
    "Do we have to look at every color for every node?"
   ]
  },
  {
   "cell_type": "markdown",
   "metadata": {},
   "source": [
    "When we're coloring a node, we just need one color that hasn't been taken by any of the node's neighbors.  \n",
    "We can stop looking at colors as soon as we find one:"
   ]
  },
  {
   "cell_type": "code",
   "execution_count": 11,
   "metadata": {},
   "outputs": [],
   "source": [
    "def color_graph(graph, colors):\n",
    "    for node in graph:\n",
    "        # Get the node's neighbors' colors, as a set so we\n",
    "        # can check if a color is illegal in constant time\n",
    "        illegal_colors = set([neighbor.color for neighbor in node.neighbors if neighbor.color])\n",
    "\n",
    "        # Assign the first legal color\n",
    "        for color in colors:  \n",
    "            if color not in illegal_colors:\n",
    "                node.color = color\n",
    "                break"
   ]
  },
  {
   "cell_type": "markdown",
   "metadata": {},
   "source": [
    "Okay, now what's the time cost of assigning the first legal color to every node (the whole last block)?  \n",
    "  \n",
    "We'll try at most len(illegal_colors) + 1 colors in total.  \n",
    "That's how many we'd need if we happen to test all the colors in illegal_colors first, before finally testing the one legal color last.  \n",
    "  \n",
    ">Remember the \"+1\" we get from testing the one legal color last! It's going to be important in a second.  \n",
    "  \n",
    "How many colors are in illegal_colors? It's at most the number of neighbors, if each neighbor has a different color.  \n",
    "  \n",
    "Let's use that trick of looking at all of the loop iterations together.  \n",
    "In total, over the course of the entire loop, how many neighbors are there?  \n",
    "  \n",
    "Well, each of our M edges adds two neighbors to the graph:  \n",
    "one for each node on either end. So that's 2\\*M neighbors in total. Which means 2\\*M illegal colors in total.  \n",
    "  \n",
    "But remember: we said we'd try as many as len(illegal_colors) + 1 colors per node.  \n",
    "We still have to factor in that \"+1\"! Across all N of our nodes, that's an additional N colors.  \n",
    "So we try 2\\*M+N colors in total across all of our nodes.  \n",
    "  \n",
    "That's O(M+N) time for assigning the first legal color to every node.  \n",
    "Add that to the O(M) for finding all the illegal colors, and we get O(M+N) time in total for our graph coloring function.  \n",
    "  \n",
    "**Is this the fastest runtime we can get?**    \n",
    "We'll have to look at every node O(N) and every edge O(M) at least once, so yeah, we can't get any better than O(N+M).  \n",
    "  \n",
    "How about our space cost?  \n",
    "  \n",
    "The only data structure we allocate with non-constant space is the set of illegal colors. What's the most space that ever takes up?  \n",
    "  \n",
    "In the worst case, the neighbors of the node with the maximum degree will all have different colors, so our space cost is O(D).  \n",
    "  \n",
    "Before we're done, what about edge cases?  "
   ]
  },
  {
   "cell_type": "markdown",
   "metadata": {},
   "source": [
    "For graph problems in general, edge cases are:\n",
    "- nodes with no edges\n",
    "- cycles\n",
    "- loops\n",
    "  \n",
    "What if there are nodes with no edges? Will our function still color every node?"
   ]
  },
  {
   "cell_type": "markdown",
   "metadata": {},
   "source": [
    "Yup, no problem. Isolated nodes tend to cause problems when we're traversing a graph  \n",
    "(starting from one node and \"walking along\" edges to other nodes, like we do in a depth-first or breadth-first search).  \n",
    "We're not doing that here—instead, we're iterating over a list of all the nodes.  \n",
    "  \n",
    "What if the graph has a cycle?  Will our function still work?"
   ]
  },
  {
   "cell_type": "markdown",
   "metadata": {},
   "source": [
    "Yes, it will. Cycles also tend to cause problems with graph traversal, because we can end up in infinite loops  \n",
    "(going around and around the cycle).  \n",
    "But we're not actually traversing our graph here.  \n",
    "  \n",
    "What if the graph has a loop? "
   ]
  },
  {
   "cell_type": "markdown",
   "metadata": {},
   "source": [
    "That's a problem. A node with a loop is adjacent to itself, so it can't have the same color as . . . itself.  \n",
    "So it's impossible to \"legally color\" a node with a loop. So we should throw an error.  \n",
    "  \n",
    "How can we detect loops?  "
   ]
  },
  {
   "cell_type": "markdown",
   "metadata": {},
   "source": [
    "We know a node has a loop if the node is in its own set of neighbors."
   ]
  },
  {
   "cell_type": "markdown",
   "metadata": {},
   "source": [
    "### Solution\n",
    "We go through the nodes in one pass, assigning each node the first legal color we find.  \n",
    "  \n",
    "How can we be sure we'll always have at least one legal color for every node?  \n",
    "In a graph with maximum degree D, each node has at most DD neighbors.  \n",
    "That means there are at most D colors taken by a node's neighbors.  \n",
    "And we have D+1 colors, so there's always at least one color left to use.  \n",
    "  \n",
    "When we color each node, we're careful to stop iterating over colors as soon as we find a legal color."
   ]
  },
  {
   "cell_type": "code",
   "execution_count": 8,
   "metadata": {},
   "outputs": [],
   "source": [
    "def color_graph(graph, colors):\n",
    "    for node in graph:\n",
    "        if node in node.neighbors:\n",
    "            raise Exception('Legal coloring impossible for node with loop: %s' % node.label)\n",
    "\n",
    "        # Get the node's neighbors' colors, as a set so we\n",
    "        # can check if a color is illegal in constant time\n",
    "        illegal_colors = set([neighbor.color for neighbor in node.neighbors if neighbor.color])\n",
    "\n",
    "        # Assign the first legal color\n",
    "        for color in colors:\n",
    "            if color not in illegal_colors:\n",
    "                node.color = color\n",
    "                break"
   ]
  },
  {
   "cell_type": "code",
   "execution_count": 9,
   "metadata": {},
   "outputs": [
    {
     "name": "stdout",
     "output_type": "stream",
     "text": [
      "None\n",
      "None\n",
      "None\n"
     ]
    }
   ],
   "source": [
    "for node in graph:\n",
    "    print(node.color)"
   ]
  },
  {
   "cell_type": "code",
   "execution_count": 12,
   "metadata": {},
   "outputs": [],
   "source": [
    "colors = ['red', 'blue', 'green']"
   ]
  },
  {
   "cell_type": "code",
   "execution_count": 13,
   "metadata": {},
   "outputs": [
    {
     "name": "stdout",
     "output_type": "stream",
     "text": [
      "red\n",
      "blue\n",
      "red\n"
     ]
    }
   ],
   "source": [
    "color_graph(graph, colors)\n",
    "for node in graph:\n",
    "    print(node.color)"
   ]
  },
  {
   "cell_type": "markdown",
   "metadata": {},
   "source": [
    "#### Complexity\n",
    "O(N+M) time where N is the number of nodes and M is the number of edges.  \n",
    "  \n",
    "The runtime might not look linear because we have outer and inner loops.  \n",
    "The trick is to look at each step and think of things in terms of the total number of edges (M) wherever we can:  \n",
    "  \n",
    "We check if each node appears in its own set of neighbors.  \n",
    "Checking if something is in a set is O(1), so doing it for all N nodes is O(N).  \n",
    "When we get the illegal colors for each node, we iterate through that node's neighbors.  \n",
    "So in total, we cross each of the graphs M edges twice: once for the node on either end of each edge. O(M) time.  \n",
    "When we assign a color to each node, we're careful to stop checking colors as soon as we find one that works.  \n",
    "In the worst case, we'll have to check one more color than the total number of neighbors.  \n",
    "Again, each edge in the graph adds two neighbors—one for the node on either end—so there are 2∗M neighbors.  \n",
    "So, in total, we'll have to try O(N+M) colors.  \n",
    "Putting all the steps together, our complexity is O(N+M).  \n",
    "  \n",
    "What about space complexity? The only thing we're storing is the illegal_colors set.  \n",
    "In the worst case, all the neighbors of a node with the maximum degree (D) have different colors, so our set takes up O(D) space.  \n",
    "  \n",
    "#### Bonus\n",
    "Our solution runs in O(N+M) time but takes O(D) space. Can we get down to O(1) space?  \n",
    "Our solution finds a legal coloring, but there are usually many legal colorings.  \n",
    "What if we wanted to optimize a coloring to use as few colors as possible?  \n",
    "The lowest number of colors we can use to legally color a graph is called the chromatic number.  \n",
    "  \n",
    "There's no known polynomial time solution for finding a graph’s chromatic number.  \n",
    "It might be impossible, or maybe we just haven’t figured out a solution yet.  \n",
    "  \n",
    "We can't even determine in polynomial time if a graph can be colored using a given k colors. Even if k is as low as 3.  \n",
    "  \n",
    "We care about polynomial time solutions (n raised to a constant power, like $O(n^2)$)  \n",
    "because for large ns, polynomial time algorithms are more practical to actually use than higher runtimes like exponential time  \n",
    "(a constant raised to the power of n, like $O(2^n)$).  \n",
    "Computer scientists usually call algorithms with polynomial time solutions feasible, and problems with worse runtimes intractable.  \n",
    "  \n",
    "The problem of determining if a graph can be colored with k colors is in the class of problems called NP (nondeterministic polynomial time).  \n",
    "This means that in polynomial time, we can verify a solution is correct but we can’t come up with a solution.  \n",
    "In this case, if we have a graph that's already colored with k colors we verify the coloring uses k colors and is legal,  \n",
    "but we can't take a graph and a number k and determine if the graph can be colored with k colors.  \n",
    "  \n",
    "If you can find a solution or prove a solution doesn't exist, you'll win a $1,000,000 Millennium Problem Prize.  \n",
    "  \n",
    "For coloring a graph using as few colors as possible, we don’t have a feasible solution.  \n",
    "For real-world problems, we'd often need to check so many possibilities that we’ll never be able to use brute-force no matter how advanced our computers become.  \n",
    "  \n",
    "One way to reliably reduce the number of colors we use is to use the greedy algorithm but carefully order the nodes.  \n",
    "For example, we can prioritize nodes based on their degree, the number of colored neighbors they have, or the number of uniquely colored neighbors they have.  \n",
    "  \n",
    "**What We Learned**\n",
    "We used a greedy approach to build up a correct solution in one pass through the nodes.  \n",
    "  \n",
    "This brought us close to the optimal runtime, but we also had to take that last step of iterating over the colors only until we find a legal color.  \n",
    "Sometimes stopping a loop like that is just a premature optimization that doesn't bring down the final runtime, but here it actually made our runtime linear!"
   ]
  }
 ],
 "metadata": {
  "kernelspec": {
   "display_name": "Python 3",
   "language": "python",
   "name": "python3"
  },
  "language_info": {
   "codemirror_mode": {
    "name": "ipython",
    "version": 3
   },
   "file_extension": ".py",
   "mimetype": "text/x-python",
   "name": "python",
   "nbconvert_exporter": "python",
   "pygments_lexer": "ipython3",
   "version": "3.7.3"
  }
 },
 "nbformat": 4,
 "nbformat_minor": 2
}
