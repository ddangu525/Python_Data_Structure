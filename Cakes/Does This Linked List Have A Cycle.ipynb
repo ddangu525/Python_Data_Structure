{
 "cells": [
  {
   "cell_type": "markdown",
   "metadata": {},
   "source": [
    "### You have a singly-linked list ↴ and want to check if it contains a cycle."
   ]
  },
  {
   "cell_type": "markdown",
   "metadata": {},
   "source": [
    "A singly-linked list is built with nodes, where each node has:  \n",
    "  \n",
    "- node.next—the next node in the list.\n",
    "- node.value—the data held in the node. For example, if our linked list stores people in line at the movies, node.value might be the person's name.  \n",
    "  \n",
    "For example:  "
   ]
  },
  {
   "cell_type": "code",
   "execution_count": 1,
   "metadata": {},
   "outputs": [],
   "source": [
    "class LinkedListNode(object):\n",
    "\n",
    "    def __init__(self, value):\n",
    "        self.value = value\n",
    "        self.next  = None"
   ]
  },
  {
   "cell_type": "markdown",
   "metadata": {},
   "source": [
    "A cycle occurs when a node’s next points back to a previous node in the list.  \n",
    "The linked list is no longer linear with a beginning and end—instead, it cycles through a loop of nodes.  \n",
    "  \n",
    "Write a function contains_cycle() that takes the first node in a singly-linked list and returns a boolean indicating whether the list contains a cycle.  "
   ]
  },
  {
   "cell_type": "markdown",
   "metadata": {},
   "source": [
    "### Breakdown\n",
    "Because a cycle could result from the last node linking to the first node, we might need to look at every node before we even see the start of our cycle again.  \n",
    "So it seems like we can’t do better than O(n) runtime.  \n",
    "  \n",
    "How can we track the nodes we’ve already seen?  "
   ]
  },
  {
   "cell_type": "markdown",
   "metadata": {},
   "source": [
    "**Using a set**, we could store all the nodes we’ve seen so far. The algorithm is simple:  \n",
    "  \n",
    "1. If the current node is already in our set, we have a cycle. Return True.\n",
    "2. If the current node is None we've hit the end of the list. Return False.\n",
    "3. Else throw the current node in our set and keep going.\n",
    "What are the time and space costs of this approach? Can we do better?  "
   ]
  },
  {
   "cell_type": "markdown",
   "metadata": {},
   "source": [
    "Our runtime is O(n), the best we can do. But our space cost is also O(n).  \n",
    "Can we get our space cost down to O(1) by storing a constant number of nodes?  "
   ]
  },
  {
   "cell_type": "markdown",
   "metadata": {},
   "source": [
    "Think about a looping list and a linear list. What happens when you traverse one versus the other?"
   ]
  },
  {
   "cell_type": "markdown",
   "metadata": {},
   "source": [
    "A linear list has an end—a node that doesn’t have a next node. But a looped list will run forever.  \n",
    "We know we don’t have a loop if we ever reach an end node, but how can we tell if we’ve run into a loop?  "
   ]
  },
  {
   "cell_type": "markdown",
   "metadata": {},
   "source": [
    "We can’t just run our function for a really long time, because we’d never really know with certainty if we were in a loop or just a really long list.  \n",
    "  \n",
    "Imagine that you're running on a long, mountainous running trail that happens to be a loop.  \n",
    "What are some ways you can tell you're running in a loop?  "
   ]
  },
  {
   "cell_type": "markdown",
   "metadata": {},
   "source": [
    "One way is to look for landmarks. You could remember one specific point, and if you pass that point again, you know you’re running in a loop.  \n",
    "Can we use that principle here?"
   ]
  },
  {
   "cell_type": "markdown",
   "metadata": {},
   "source": [
    "Well, our cycle can occur after a non-cyclical \"head\" section in the beginning of our linked list.  \n",
    "So we'd need to make sure we chose a \"landmark\" node that is in the cyclical \"tail\" and not in the non-cyclical \"head.\"  \n",
    "That seems impossible unless we already know whether or not there's a cycle...  \n",
    "  \n",
    "Think back to the running trail. Besides landmarks, what are some other ways you could tell you’re running in a loop?  \n",
    "What if you had another runner? (Remember, it’s a singly-linked list, so no running backwards!)  "
   ]
  },
  {
   "cell_type": "markdown",
   "metadata": {},
   "source": [
    "A tempting approach could be to have the other runner stop and act as a \"landmark,\" and see if you pass her again.  \n",
    "But we still have the problem of making sure our \"landmark\" is in the loop and not in the non-looping beginning of the trail.  \n",
    "  \n",
    "What if our \"landmark\" runner moves continuously but slowly?  "
   ]
  },
  {
   "cell_type": "markdown",
   "metadata": {},
   "source": [
    "If we sprint quickly down the trail and the landmark runner jogs slowly, we will eventually \"lap\" (catch up to) the landmark runner!  \n",
    "  \n",
    "But what if there isn't a loop?  "
   ]
  },
  {
   "cell_type": "markdown",
   "metadata": {},
   "source": [
    "Then we (the faster runner) will simply hit the end of the trail (or linked list).  \n",
    "  \n",
    "So let's make two variables, slow_runner and fast_runner.  \n",
    "We’ll start both on the first node, and every time slow_runner advances one node, we’ll have fast_runner advance two nodes.  \n",
    "  \n",
    "If fast_runner catches up with slow_runner, we know we have a loop.  \n",
    "If not, eventually fast_runner will hit the end of the linked list and we'll know we don't have a loop.  \n",
    "  \n",
    "This is a complete solution! Can you code it up?  \n",
    "  \n",
    "Make sure the function eventually terminates in all cases!  "
   ]
  },
  {
   "cell_type": "markdown",
   "metadata": {},
   "source": [
    "### Solution\n",
    "We keep two pointers to nodes (we'll call these “runners”), both starting at the first node.  \n",
    "Every time slow_runner moves one node ahead, fast_runner moves two nodes ahead.  \n",
    "  \n",
    "If the linked list has a cycle, fast_runner will \"lap\" (catch up with) slow_runner, and they will momentarily equal each other.  \n",
    "  \n",
    "If the list does not have a cycle, fast_runner will reach the end.  "
   ]
  },
  {
   "cell_type": "code",
   "execution_count": 2,
   "metadata": {},
   "outputs": [],
   "source": [
    "def contains_cycle(first_node):\n",
    "    # Start both runners at the beginning\n",
    "    slow_runner = first_node\n",
    "    fast_runner = first_node\n",
    "\n",
    "    # Until we hit the end of the list\n",
    "    while fast_runner is not None and fast_runner.next is not None:\n",
    "        slow_runner = slow_runner.next\n",
    "        fast_runner = fast_runner.next.next\n",
    "\n",
    "        # Case: fast_runner is about to \"lap\" slow_runner\n",
    "        if fast_runner is slow_runner:\n",
    "            return True\n",
    "\n",
    "    # Case: fast_runner hit the end of the list\n",
    "    return False"
   ]
  },
  {
   "cell_type": "markdown",
   "metadata": {},
   "source": [
    "### Complexity\n",
    "O(n) time and O(1) space.  \n",
    "  \n",
    "The runtime analysis is a little tricky.  \n",
    "The worst case is when we do have a cycle, so we don't return until fast_runner equals slow_runner. But how long will that take?  \n",
    "  \n",
    "First, we notice that when both runners are circling around the cycle fast_runner can never skip over slow_runner. Why is this true?  \n",
    "  \n",
    "Suppose fast_runner had just skipped over slow_runner. fast_runner would only be 1 node ahead of slow_runner, since their speeds differ by only 1.  \n",
    "So we would have something like this:"
   ]
  },
  {
   "cell_type": "markdown",
   "metadata": {},
   "source": [
    ">   [ ] -> [s] -> [f]"
   ]
  },
  {
   "cell_type": "markdown",
   "metadata": {},
   "source": [
    "What would the step right before this \"skipping step\" look like?  \n",
    "fast_runner would be 2 nodes back, and slow_runner would be 1 node back. But wait, that means they would be at the same node!  \n",
    "So fast_runner didn't skip over slow_runner! (This is a proof by contradiction.)  \n",
    "  \n",
    "Since fast_runner can't skip over slow_runner, at most slow_runner will run around the cycle once and fast_runner will run around twice.  This gives us a runtime of O(n).  \n",
    "  \n",
    "For space, we store two variables no matter how long the linked list is, which gives us a space cost of O(1)."
   ]
  },
  {
   "cell_type": "markdown",
   "metadata": {},
   "source": [
    "### Bonus\n",
    "1. How would you detect the first node in the cycle? Define the first node of the cycle as the one closest to the head of the list.\n",
    "2. Would the program always work if the fast runner moves three steps every time the slow runner moves one step?\n",
    "3. What if instead of a simple linked list, you had a structure where each node could have several \"next\" nodes? This data structure is called a \"directed graph.\" How would you test if your directed graph had a cycle?"
   ]
  },
  {
   "cell_type": "markdown",
   "metadata": {},
   "source": [
    "### What We Learned\n",
    "Some people have trouble coming up with the \"two runners\" approach. That's expected—it's somewhat of a blind insight.  \n",
    "Even great candidates might need a few hints to get all the way there. And that's fine.  \n",
    "  \n",
    "Remember that the coding interview is a dialogue, and sometimes your interviewer expects she'll have to offer some hints along the way.  \n",
    "  \n",
    "One of the most impressive things you can do as a candidate is listen to a hint, fully understand it, and take it to its next logical step.   \n",
    "Interview Cake gives you lots of opportunities to practice this. Don't be shy about showing lots of hints on our exercises—that's what they're there for!"
   ]
  },
  {
   "cell_type": "markdown",
   "metadata": {},
   "source": [
    "<hr>"
   ]
  },
  {
   "cell_type": "markdown",
   "metadata": {},
   "source": [
    "c++ implementation"
   ]
  },
  {
   "cell_type": "markdown",
   "metadata": {},
   "source": [
    "```cpp\n",
    "class LinkedListNode\n",
    "{\n",
    "public:\n",
    "    int value_;\n",
    "    LinkedListNode* next_;\n",
    "\n",
    "    LinkedListNode(int value) :\n",
    "        value_(value),\n",
    "        next_(nullptr)\n",
    "    {\n",
    "    }\n",
    "};\n",
    "\n",
    "bool containsCycle(const LinkedListNode* firstNode)\n",
    "{\n",
    "    // start both runners at the beginning\n",
    "    const LinkedListNode* slowRunner = firstNode;\n",
    "    const LinkedListNode* fastRunner = firstNode;\n",
    "\n",
    "    // until we hit the end of the list\n",
    "    while (fastRunner != nullptr && fastRunner->next_) {\n",
    "        slowRunner = slowRunner->next_;\n",
    "        fastRunner = fastRunner->next_->next_;\n",
    "\n",
    "        // case: fastRunner is about to \"lap\" slowRunner\n",
    "        if (fastRunner == slowRunner) {\n",
    "            return true;\n",
    "        }\n",
    "    }\n",
    "\n",
    "    // case: fastRunner hit the end of the list\n",
    "    return false;\n",
    "}\n",
    "```"
   ]
  }
 ],
 "metadata": {
  "kernelspec": {
   "display_name": "Python 3",
   "language": "python",
   "name": "python3"
  },
  "language_info": {
   "codemirror_mode": {
    "name": "ipython",
    "version": 3
   },
   "file_extension": ".py",
   "mimetype": "text/x-python",
   "name": "python",
   "nbconvert_exporter": "python",
   "pygments_lexer": "ipython3",
   "version": "3.7.3"
  }
 },
 "nbformat": 4,
 "nbformat_minor": 2
}
