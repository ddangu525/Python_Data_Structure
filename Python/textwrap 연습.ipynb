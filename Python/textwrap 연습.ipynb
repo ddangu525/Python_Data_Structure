{
 "cells": [
  {
   "cell_type": "markdown",
   "metadata": {},
   "source": [
    "https://gist.github.com/LeoHeo/2e54cf7d00d0497f183a8382a3ebaf74 이 깃헙"
   ]
  },
  {
   "cell_type": "markdown",
   "metadata": {},
   "source": [
    "## 문제 제기\n",
    "\n",
    "`ABCDEFGHIJKLIMNOQRSTUVWXYZ` 라는 문자열이 있다.\n",
    "이 문자열을 `n`개씩(여기서는 4개라고 가정) 잘라서 아래와 같이 만들고 싶다.\n",
    "\n",
    "```\n",
    "ABCD\n",
    "EFGH\n",
    "IJKL\n",
    "IMNO\n",
    "QRST\n",
    "UVWX\n",
    "YZ  \n",
    "```"
   ]
  },
  {
   "cell_type": "markdown",
   "metadata": {},
   "source": [
    "### 1. 일반적 방법."
   ]
  },
  {
   "cell_type": "code",
   "execution_count": 1,
   "metadata": {},
   "outputs": [
    {
     "name": "stdout",
     "output_type": "stream",
     "text": [
      "\n",
      "ABCD\n",
      "EFGH\n",
      "IJKL\n",
      "IMNO\n",
      "QRST\n",
      "UVWX\n",
      "YZ"
     ]
    }
   ],
   "source": [
    "sample = \"ABCDEFGHIJKLIMNOQRSTUVWXYZ\"\n",
    "separate_index = 4\n",
    "\n",
    "for i, char in enumerate(sample):\n",
    "    if i % separate_index == 0:\n",
    "        print(\"\\n\", end=\"\")\n",
    "    print(char, end=\"\")"
   ]
  },
  {
   "cell_type": "markdown",
   "metadata": {},
   "source": [
    "### 2. built_in textwap 이용"
   ]
  },
  {
   "cell_type": "markdown",
   "metadata": {},
   "source": [
    "https://docs.python.org/3.5/library/textwrap.html#textwrap.fill 참고"
   ]
  },
  {
   "cell_type": "code",
   "execution_count": 2,
   "metadata": {
    "scrolled": true
   },
   "outputs": [
    {
     "name": "stdout",
     "output_type": "stream",
     "text": [
      "ABCD\n",
      "EFGH\n",
      "IJKL\n",
      "IMNO\n",
      "QRST\n",
      "UVWX\n",
      "YZ\n"
     ]
    }
   ],
   "source": [
    "import textwrap\n",
    "\n",
    "sample = \"ABCDEFGHIJKLIMNOQRSTUVWXYZ\"\n",
    "separate_index = 4\n",
    "\n",
    "print(textwrap.fill(sample, separate_index))"
   ]
  },
  {
   "cell_type": "markdown",
   "metadata": {},
   "source": [
    "### 3. 다른 기능들.."
   ]
  },
  {
   "cell_type": "markdown",
   "metadata": {},
   "source": [
    "#### textwrap.shorten(text, width, **kwargs)\n",
    "First the whitespace in text is collapsed (all whitespace is replaced by single spaces).  \n",
    "If the result fits in the width, it is returned.  \n",
    "Otherwise, enough words are dropped from the end so that the remaining words plus the placeholder fit within width:  "
   ]
  },
  {
   "cell_type": "markdown",
   "metadata": {},
   "source": [
    "1. 일단 모든 공백은 space 하나로 대체되고\n",
    "2. 붙어있는 애를 하나의 뭉치로해서... 그 뭉치까지 길이가 width를 넘어가면 그 부분부터 `[...]`로 잘라버림.\n",
    "3. 최종적으로 `[...]`를 포함한 길이가 width를 넘지 않도록..\n",
    "4. `**kwargs`에 placeholder에 원하는 줄임양식을 str으로 넣을 수 있다. "
   ]
  },
  {
   "cell_type": "markdown",
   "metadata": {},
   "source": [
    "Optional keyword arguments correspond to the instance attributes of TextWrapper, documented below.  \n",
    "Note that the whitespace is collapsed before the text is passed to the TextWrapper fill() function,  \n",
    "so changing the value of tabsize, expand_tabs, drop_whitespace, and replace_whitespace will have no effect.  "
   ]
  },
  {
   "cell_type": "markdown",
   "metadata": {},
   "source": [
    "https://docs.python.org/3.5/library/textwrap.html#textwrap.TextWrapper 이 문서에 있는 `**kwargs`와 같다.."
   ]
  },
  {
   "cell_type": "code",
   "execution_count": 15,
   "metadata": {},
   "outputs": [
    {
     "data": {
      "text/plain": [
       "'12345 [...]'"
      ]
     },
     "execution_count": 15,
     "metadata": {},
     "output_type": "execute_result"
    }
   ],
   "source": [
    "textwrap.shorten('12345 67891011', 12)"
   ]
  },
  {
   "cell_type": "code",
   "execution_count": 16,
   "metadata": {},
   "outputs": [
    {
     "data": {
      "text/plain": [
       "'Hello...'"
      ]
     },
     "execution_count": 16,
     "metadata": {},
     "output_type": "execute_result"
    }
   ],
   "source": [
    "textwrap.shorten(\"Hello world\", width=10, placeholder=\"...\")"
   ]
  },
  {
   "cell_type": "markdown",
   "metadata": {},
   "source": [
    "#### textwrap.dedent(text)"
   ]
  },
  {
   "cell_type": "markdown",
   "metadata": {},
   "source": [
    "Remove any common leading whitespace from every line in text.  \n",
    "\n",
    "This can be used to make triple-quoted strings line up with the left edge of the display,  \n",
    "while still presenting them in the source code in indented form.  \n",
    "  \n",
    "Note that tabs and spaces are both treated as whitespace, but they are not equal:  \n",
    "the lines \"  hello\" and \"\\thello\" are considered to have no common leading whitespace.  "
   ]
  },
  {
   "cell_type": "markdown",
   "metadata": {},
   "source": [
    "text의 모든 줄에서 가장 앞에 있는 whitespace를 없애줌. `\"\"\"`을 이용한 string 왼쪽 정렬!!"
   ]
  },
  {
   "cell_type": "code",
   "execution_count": 27,
   "metadata": {},
   "outputs": [
    {
     "name": "stdout",
     "output_type": "stream",
     "text": [
      "'    hello\\n      world\\n    \\ttab here!\\n     space here!\\n    '\n",
      "\n",
      "'hello\\n  world\\n\\ttab here!\\n space here!\\n'\n",
      "\n",
      "    hello\n",
      "      world\n",
      "    \ttab here!\n",
      "     space here!\n",
      "    \n",
      "\n",
      "hello\n",
      "  world\n",
      "\ttab here!\n",
      " space here!\n",
      "\n"
     ]
    }
   ],
   "source": [
    "def test():\n",
    "    # end first line with \\ to avoid the empty line!\n",
    "    s = '''\\\n",
    "    hello\n",
    "      world\n",
    "    \\ttab here!\n",
    "     space here!\n",
    "    '''\n",
    "    print(repr(s))          # prints '    hello\\n      world\\n    '\n",
    "    print()\n",
    "    print(repr(textwrap.dedent(s)))  # prints 'hello\\n  world\\n'\n",
    "    print()\n",
    "    print(s)\n",
    "    print()\n",
    "    print(textwrap.dedent(s))\n",
    "test()"
   ]
  },
  {
   "cell_type": "markdown",
   "metadata": {},
   "source": [
    "### textwrap.indent(text, prefix, predicate=None)\n",
    "Add prefix to the beginning of selected lines in text.  \n",
    "  \n",
    "Lines are separated by calling text.splitlines(True).  \n",
    "  \n",
    "By default, prefix is added to all lines that do not consist solely of whitespace (including any line endings).  \n",
    "  \n",
    "For example:"
   ]
  },
  {
   "cell_type": "markdown",
   "metadata": {},
   "source": [
    "앞에 indent 추가.. "
   ]
  },
  {
   "cell_type": "code",
   "execution_count": 30,
   "metadata": {},
   "outputs": [
    {
     "name": "stdout",
     "output_type": "stream",
     "text": [
      "hello\n",
      "\n",
      " \n",
      "world\n",
      "  hello\n",
      "\n",
      " \n",
      "  world\n"
     ]
    }
   ],
   "source": [
    "s = 'hello\\n\\n \\nworld'\n",
    "print(s)\n",
    "print(textwrap.indent(s, '  '))"
   ]
  },
  {
   "cell_type": "markdown",
   "metadata": {},
   "source": [
    "The optional predicate argument can be used to control which lines are indented.  \n",
    "For example, it is easy to add prefix to even empty and whitespace-only lines:  "
   ]
  },
  {
   "cell_type": "markdown",
   "metadata": {},
   "source": [
    "optional argument를 통해 어떤 라인에 indent를 할지 정할 수 있다. 각 줄마다 string으로 받아서 처리.."
   ]
  },
  {
   "cell_type": "code",
   "execution_count": 31,
   "metadata": {},
   "outputs": [
    {
     "name": "stdout",
     "output_type": "stream",
     "text": [
      "+ hello\n",
      "+ \n",
      "+  \n",
      "+ world\n"
     ]
    }
   ],
   "source": [
    "print(textwrap.indent(s, '+ ', lambda line: True))"
   ]
  },
  {
   "cell_type": "code",
   "execution_count": 34,
   "metadata": {},
   "outputs": [
    {
     "name": "stdout",
     "output_type": "stream",
     "text": [
      "+ hello\n",
      "\n",
      " \n",
      "world\n"
     ]
    }
   ],
   "source": [
    "print(textwrap.indent(s, '+ ', lambda line: line[0]=='h'))"
   ]
  },
  {
   "cell_type": "markdown",
   "metadata": {},
   "source": [
    "wrap(), fill() and shorten() work by creating a TextWrapper instance and calling a single method on it.  \n",
    "That instance is not reused, so for applications that process many text strings using wrap() and/or fill(),  \n",
    "it may be more efficient to create your own TextWrapper object.  \n",
    "  \n",
    "Text is preferably wrapped on whitespaces and right after the hyphens in hyphenated words;  \n",
    "only then will long words be broken if necessary, unless TextWrapper.break_long_words is set to false.  "
   ]
  },
  {
   "cell_type": "markdown",
   "metadata": {},
   "source": [
    "## class textwrap.TextWrapper(**kwargs)"
   ]
  },
  {
   "cell_type": "markdown",
   "metadata": {},
   "source": [
    "The TextWrapper constructor accepts a number of optional keyword arguments.  \n",
    "Each keyword argument corresponds to an instance attribute, so for example  "
   ]
  },
  {
   "cell_type": "code",
   "execution_count": 36,
   "metadata": {},
   "outputs": [],
   "source": [
    "wrapper = textwrap.TextWrapper(initial_indent=\"* \")"
   ]
  },
  {
   "cell_type": "markdown",
   "metadata": {},
   "source": [
    "is the same as"
   ]
  },
  {
   "cell_type": "code",
   "execution_count": 37,
   "metadata": {
    "collapsed": true
   },
   "outputs": [],
   "source": [
    "wrapper = textwrap.TextWrapper()\n",
    "wrapper.initial_indent = \"* \""
   ]
  },
  {
   "cell_type": "markdown",
   "metadata": {},
   "source": [
    "You can re-use the same TextWrapper object many times,  \n",
    "and you can change any of its options through direct assignment to instance attributes between uses.  \n",
    "  \n",
    "The TextWrapper instance attributes (and keyword arguments to the constructor) are as follows:  "
   ]
  },
  {
   "cell_type": "markdown",
   "metadata": {},
   "source": [
    "### width\n",
    "(default: 70) The maximum length of wrapped lines. As long as there are no individual words in the input text longer than width, TextWrapper guarantees that no output line will be longer than width characters.\n",
    "  \n",
    "### expand_tabs\n",
    "(default: True) If true, then all tab characters in text will be expanded to spaces using the expandtabs() method of text.\n",
    "  \n",
    "### tabsize \n",
    "(default: 8) If expand_tabs is true, then all tab characters in text will be expanded to zero or more spaces, depending on the current column and the given tab size.\n",
    "\n",
    "New in version 3.3.\n",
    "    \n",
    "### replace_whitespace\n",
    "(default: True) If true, after tab expansion but before wrapping, the wrap() method will replace each whitespace character with a single space. The whitespace characters replaced are as follows: tab, newline, vertical tab, formfeed, and carriage return ('\\t\\n\\v\\f\\r').\n",
    "\n",
    "Note If expand_tabs is false and replace_whitespace is true, each tab character will be replaced by a single space, which is not the same as tab expansion.\n",
    "Note If replace_whitespace is false, newlines may appear in the middle of a line and cause strange output. For this reason, text should be split into paragraphs (using str.splitlines() or similar) which are wrapped separately.\n",
    "    \n",
    "### drop_whitespace\n",
    "(default: True) If true, whitespace at the beginning and ending of every line (after wrapping but before indenting) is dropped. Whitespace at the beginning of the paragraph, however, is not dropped if non-whitespace follows it. If whitespace being dropped takes up an entire line, the whole line is dropped.\n",
    "  \n",
    "### initial_indent\n",
    "(default: '') String that will be prepended to the first line of wrapped output. Counts towards the length of the first line. The empty string is not indented.\n",
    "  \n",
    "### subsequent_indent\n",
    "(default: '') String that will be prepended to all lines of wrapped output except the first. Counts towards the length of each line except the first.\n",
    "  \n",
    "### fix_sentence_endings\n",
    "(default: False) If true, TextWrapper attempts to detect sentence endings and ensure that sentences are always separated by exactly two spaces. This is generally desired for text in a monospaced font. However, the sentence detection algorithm is imperfect: it assumes that a sentence ending consists of a lowercase letter followed by one of '.', '!', or '?', possibly followed by one of '\"' or \"'\", followed by a space. One problem with this is algorithm is that it is unable to detect the difference between “Dr.” in\n",
    "\n",
    "[...] Dr. Frankenstein's monster [...]\n",
    "and “Spot.” in\n",
    "\n",
    "[...] See Spot. See Spot run [...]\n",
    "fix_sentence_endings is false by default.\n",
    "\n",
    "Since the sentence detection algorithm relies on string.lowercase for the definition of “lowercase letter,” and a convention of using two spaces after a period to separate sentences on the same line, it is specific to English-language texts.\n",
    "  \n",
    "### break_long_words\n",
    "(default: True) If true, then words longer than width will be broken in order to ensure that no lines are longer than width. If it is false, long words will not be broken, and some lines may be longer than width. (Long words will be put on a line by themselves, in order to minimize the amount by which width is exceeded.)\n",
    "  \n",
    "### break_on_hyphens\n",
    "(default: True) If true, wrapping will occur preferably on whitespaces and right after hyphens in compound words, as it is customary in English. If false, only whitespaces will be considered as potentially good places for line breaks, but you need to set break_long_words to false if you want truly insecable words. Default behaviour in previous versions was to always allow breaking hyphenated words.\n",
    "  \n",
    "### max_lines\n",
    "(default: None) If not None, then the output will contain at most max_lines lines, with placeholder appearing at the end of the output.\n",
    "\n",
    "New in version 3.4.  \n",
    "  \n",
    "### placeholder\n",
    "(default: ' [...]') String that will appear at the end of the output text if it has been truncated.\n",
    "\n",
    "New in version 3.4.\n",
    "\n",
    "TextWrapper also provides some public methods, analogous to the module-level convenience functions:\n",
    "  \n",
    "### wrap(text)\n",
    "Wraps the single paragraph in text (a string) so every line is at most width characters long. All wrapping options are taken from instance attributes of the TextWrapper instance. Returns a list of output lines, without final newlines. If the wrapped output has no content, the returned list is empty.\n",
    "  \n",
    "### fill(text)\n",
    "Wraps the single paragraph in text, and returns a single string containing the wrapped paragraph."
   ]
  },
  {
   "cell_type": "code",
   "execution_count": null,
   "metadata": {
    "collapsed": true
   },
   "outputs": [],
   "source": []
  }
 ],
 "metadata": {
  "kernelspec": {
   "display_name": "Python 3",
   "language": "python",
   "name": "python3"
  },
  "language_info": {
   "codemirror_mode": {
    "name": "ipython",
    "version": 3
   },
   "file_extension": ".py",
   "mimetype": "text/x-python",
   "name": "python",
   "nbconvert_exporter": "python",
   "pygments_lexer": "ipython3",
   "version": "3.6.3"
  }
 },
 "nbformat": 4,
 "nbformat_minor": 2
}
