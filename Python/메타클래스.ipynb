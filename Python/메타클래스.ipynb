{
 "cells": [
  {
   "cell_type": "markdown",
   "metadata": {},
   "source": [
    "`https://tech.ssut.me/understanding-python-metaclasses/`, `https://wikidocs.net/21056`내용정리"
   ]
  },
  {
   "cell_type": "markdown",
   "metadata": {},
   "source": [
    "## 클래스를 객체로\n",
    "대부분 언어에서 클래스는 어떻게 객체를 생성할지에 대해 정의하는 코드조각.  \n",
    "Python에서 클래스는 그 이상의 의미를 갖는다. 클래스는 객체이기도 하다는 것."
   ]
  },
  {
   "cell_type": "code",
   "execution_count": 1,
   "metadata": {},
   "outputs": [
    {
     "name": "stdout",
     "output_type": "stream",
     "text": [
      "<__main__.ObjectCreator object at 0x061191F0>\n"
     ]
    }
   ],
   "source": [
    "class ObjectCreator:\n",
    "    pass\n",
    "\n",
    "my_object = ObjectCreator()\n",
    "print(my_object)"
   ]
  },
  {
   "cell_type": "markdown",
   "metadata": {},
   "source": [
    "- class 키워드를 사용할 때 python은 객체를 만들어낸다. 메모리에 ObjectCreator이라는 이름을 가진 객체가 생성된 것.  \n",
    "- 이 객체(클래스)는 그 자체로 새로운 객체(인스턴스)를 만들 수 있으며, 이것이 왜 이 객체가 클래스인지를 나타낸다.\n",
    "- 이 클래스는 객체로서\n",
    "    1. 변수에 할당할 수 있고\n",
    "    2. 복사할 수 잇고\n",
    "    3. 새로운 속성을 추가할 수 있고\n",
    "    4. 함수의 인자로 넘길 수 있다."
   ]
  },
  {
   "cell_type": "code",
   "execution_count": 3,
   "metadata": {},
   "outputs": [
    {
     "name": "stdout",
     "output_type": "stream",
     "text": [
      "<class '__main__.ObjectCreator'>\n"
     ]
    }
   ],
   "source": [
    "# 클래스가 객체이기 때문에 출력할 수 있다.\n",
    "def echo(o):\n",
    "    print(o)\n",
    "    \n",
    "echo(ObjectCreator)    # 함수의 인자로 넘길 수 있다."
   ]
  },
  {
   "cell_type": "code",
   "execution_count": 4,
   "metadata": {},
   "outputs": [
    {
     "name": "stdout",
     "output_type": "stream",
     "text": [
      "False\n"
     ]
    }
   ],
   "source": [
    "print(hasattr(ObjectCreator, 'new_attribute'))"
   ]
  },
  {
   "cell_type": "code",
   "execution_count": 5,
   "metadata": {},
   "outputs": [
    {
     "name": "stdout",
     "output_type": "stream",
     "text": [
      "True\n"
     ]
    }
   ],
   "source": [
    "ObjectCreator.new_attribute = 'foo'   # 클래스에 새로운 속성 추가.\n",
    "print(hasattr(ObjectCreator, 'new_attribute'))"
   ]
  },
  {
   "cell_type": "code",
   "execution_count": 7,
   "metadata": {},
   "outputs": [
    {
     "name": "stdout",
     "output_type": "stream",
     "text": [
      "True\n"
     ]
    }
   ],
   "source": [
    "# 새로 생성되는 인스턴스도 추가된 새로운 속성을 갖는다.\n",
    "instance = ObjectCreator()\n",
    "print(hasattr(instance, 'new_attribute'))"
   ]
  },
  {
   "cell_type": "code",
   "execution_count": 9,
   "metadata": {},
   "outputs": [
    {
     "name": "stdout",
     "output_type": "stream",
     "text": [
      "foo\n"
     ]
    }
   ],
   "source": [
    "ObjectCreatorMirror = ObjectCreator  # 클래스를 변수에 할당할 수 있다.\n",
    "print(ObjectCreatorMirror.new_attribute)"
   ]
  },
  {
   "cell_type": "code",
   "execution_count": 10,
   "metadata": {},
   "outputs": [
    {
     "data": {
      "text/plain": [
       "__main__.ObjectCreator"
      ]
     },
     "execution_count": 10,
     "metadata": {},
     "output_type": "execute_result"
    }
   ],
   "source": [
    "ObjectCreatorMirror"
   ]
  },
  {
   "cell_type": "markdown",
   "metadata": {},
   "source": [
    "## 동적으로 클래스 생성하기"
   ]
  },
  {
   "cell_type": "markdown",
   "metadata": {},
   "source": [
    "클래스가 객체이기 때문에 객체처럼 그때그때 새로운 클래스를 만들 수 있다.  "
   ]
  },
  {
   "cell_type": "code",
   "execution_count": 11,
   "metadata": {},
   "outputs": [
    {
     "name": "stdout",
     "output_type": "stream",
     "text": [
      "<class '__main__.choose_class.<locals>.Foo'>\n"
     ]
    }
   ],
   "source": [
    "# class 키워드를 이용하여 함수에서 클래스 만들기\n",
    "def choose_class(name):\n",
    "    if name == 'foo':\n",
    "        class Foo(object):\n",
    "            pass\n",
    "        return Foo     # 인스턴스가 아닌 클래스 반환\n",
    "    else:\n",
    "        class Bar:\n",
    "            pass\n",
    "        return Bar\n",
    "    \n",
    "MyClass = choose_class('foo')\n",
    "print(MyClass)"
   ]
  },
  {
   "cell_type": "code",
   "execution_count": 12,
   "metadata": {},
   "outputs": [
    {
     "name": "stdout",
     "output_type": "stream",
     "text": [
      "<__main__.choose_class.<locals>.Foo object at 0x06119390>\n"
     ]
    }
   ],
   "source": [
    "print(MyClass())  # 이 클래스로 새로운 객체를 만들 수 있다."
   ]
  },
  {
   "cell_type": "markdown",
   "metadata": {},
   "source": [
    "이 방법은 여전히 클래스 전체를 직접 작성해야 하기 때문에 동적이라 보기 어렵다.  \n",
    "다른방법으로도 만들 수 있다!!!"
   ]
  },
  {
   "cell_type": "markdown",
   "metadata": {},
   "source": [
    "#### 클래스를 만들어내는 type의 기능!!!!"
   ]
  },
  {
   "cell_type": "code",
   "execution_count": 13,
   "metadata": {},
   "outputs": [
    {
     "name": "stdout",
     "output_type": "stream",
     "text": [
      "<class 'int'>\n"
     ]
    }
   ],
   "source": [
    "print(type(1))"
   ]
  },
  {
   "cell_type": "markdown",
   "metadata": {},
   "source": [
    "`type`의 쓰임..\n",
    "```\n",
    "type(name of the class, \n",
    "     tuple of the parent class (for inheritance, can be empty), \n",
    "     dictionary containing attributes names and values)\n",
    " ```"
   ]
  },
  {
   "cell_type": "code",
   "execution_count": 14,
   "metadata": {},
   "outputs": [],
   "source": [
    "class MyShinyClass:\n",
    "    pass"
   ]
  },
  {
   "cell_type": "markdown",
   "metadata": {},
   "source": [
    "위 클래스는 다음과 같이 직접 생성될 수 있다."
   ]
  },
  {
   "cell_type": "code",
   "execution_count": 15,
   "metadata": {},
   "outputs": [
    {
     "name": "stdout",
     "output_type": "stream",
     "text": [
      "<class '__main__.MyShinyClass'>\n"
     ]
    }
   ],
   "source": [
    "MyShinyClass = type('MyShinyClass', (), {})   # 클래스 객체 반환.\n",
    "print(MyShinyClass)"
   ]
  },
  {
   "cell_type": "markdown",
   "metadata": {},
   "source": [
    "인자로 넘긴 `MyShinyClass`가 클래스 이름으로 사용, 이를 할당한 변수는 클래스 레퍼런스를 갖고있다.  \n",
    "`type`은 클래스 속성을 정의하기 위해 `dict`를 인자로 받는다."
   ]
  },
  {
   "cell_type": "code",
   "execution_count": 16,
   "metadata": {},
   "outputs": [],
   "source": [
    "class Foo:\n",
    "    bar = True"
   ]
  },
  {
   "cell_type": "code",
   "execution_count": 17,
   "metadata": {},
   "outputs": [],
   "source": [
    "# 위 코드와 동일\n",
    "Foo = type('FOO', (), {'bar':True})"
   ]
  },
  {
   "cell_type": "code",
   "execution_count": 19,
   "metadata": {},
   "outputs": [
    {
     "name": "stdout",
     "output_type": "stream",
     "text": [
      "<class '__main__.FOO'>\n"
     ]
    }
   ],
   "source": [
    "print(Foo)"
   ]
  },
  {
   "cell_type": "code",
   "execution_count": 20,
   "metadata": {},
   "outputs": [
    {
     "name": "stdout",
     "output_type": "stream",
     "text": [
      "True\n"
     ]
    }
   ],
   "source": [
    "print(Foo.bar)"
   ]
  },
  {
   "cell_type": "code",
   "execution_count": 21,
   "metadata": {},
   "outputs": [
    {
     "name": "stdout",
     "output_type": "stream",
     "text": [
      "<__main__.FOO object at 0x012307B0>\n"
     ]
    }
   ],
   "source": [
    "f = Foo()\n",
    "print(f)"
   ]
  },
  {
   "cell_type": "code",
   "execution_count": 22,
   "metadata": {},
   "outputs": [
    {
     "name": "stdout",
     "output_type": "stream",
     "text": [
      "True\n"
     ]
    }
   ],
   "source": [
    "print(f.bar)"
   ]
  },
  {
   "cell_type": "markdown",
   "metadata": {},
   "source": [
    "상속도 받을 수 있다."
   ]
  },
  {
   "cell_type": "code",
   "execution_count": 23,
   "metadata": {},
   "outputs": [],
   "source": [
    "class FooChild(Foo):\n",
    "    pass"
   ]
  },
  {
   "cell_type": "code",
   "execution_count": 24,
   "metadata": {},
   "outputs": [
    {
     "name": "stdout",
     "output_type": "stream",
     "text": [
      "<class '__main__.FooChild'>\n"
     ]
    }
   ],
   "source": [
    "# 위와 동일..\n",
    "FooChild = type('FooChild', (Foo,), {})\n",
    "print(FooChild)"
   ]
  },
  {
   "cell_type": "code",
   "execution_count": 25,
   "metadata": {},
   "outputs": [
    {
     "name": "stdout",
     "output_type": "stream",
     "text": [
      "True\n"
     ]
    }
   ],
   "source": [
    "print(FooChild.bar) # bar is inherited from Foo"
   ]
  },
  {
   "cell_type": "markdown",
   "metadata": {},
   "source": [
    "클래스에 메소드를 추가하고 싶을 때는 적절한 모양으로 함수를 만들고 인자로 넘기면 된다."
   ]
  },
  {
   "cell_type": "code",
   "execution_count": 26,
   "metadata": {},
   "outputs": [
    {
     "data": {
      "text/plain": [
       "False"
      ]
     },
     "execution_count": 26,
     "metadata": {},
     "output_type": "execute_result"
    }
   ],
   "source": [
    "def echo_bar(self):\n",
    "    print(self.bar)\n",
    "    \n",
    "FooChild = type('FooChild', (Foo,), {'echo_bar':echo_bar})\n",
    "hasattr(Foo, 'echo_bar')"
   ]
  },
  {
   "cell_type": "code",
   "execution_count": 27,
   "metadata": {},
   "outputs": [
    {
     "data": {
      "text/plain": [
       "True"
      ]
     },
     "execution_count": 27,
     "metadata": {},
     "output_type": "execute_result"
    }
   ],
   "source": [
    "hasattr(FooChild, 'echo_bar')"
   ]
  },
  {
   "cell_type": "code",
   "execution_count": 28,
   "metadata": {},
   "outputs": [
    {
     "name": "stdout",
     "output_type": "stream",
     "text": [
      "True\n"
     ]
    }
   ],
   "source": [
    "my_foo = FooChild()\n",
    "my_foo.echo_bar()"
   ]
  },
  {
   "cell_type": "markdown",
   "metadata": {},
   "source": [
    "일반 클래스와 동일하게 새로운 메소드나 속성을 추가할 수도 있다."
   ]
  },
  {
   "cell_type": "code",
   "execution_count": 29,
   "metadata": {},
   "outputs": [
    {
     "data": {
      "text/plain": [
       "True"
      ]
     },
     "execution_count": 29,
     "metadata": {},
     "output_type": "execute_result"
    }
   ],
   "source": [
    "def echo_bar_more(self):\n",
    "    print('yet another method')\n",
    "    \n",
    "FooChild.echo_bar_more = echo_bar_more\n",
    "hasattr(FooChild, 'echo_bar_more')"
   ]
  },
  {
   "cell_type": "markdown",
   "metadata": {},
   "source": [
    "## 그래서..? metaclasses는 무엇인가\n",
    "메타클래스는 클래스를 만드는 `무언가`이다.  \n",
    "우리는 객체를 만들기 위해 클래스를 정의한다.  \n",
    "하지만 Python에서 클래스는 곧 객체다.  \n",
    "메타클래스는 이러한 객체를 만드는 `무언가`이다.  \n",
    "메타클래스는 `클래스의 클래스`이며, 다음과 같은 방법으로 묘사된다."
   ]
  },
  {
   "cell_type": "markdown",
   "metadata": {},
   "source": [
    "```python\n",
    "MyClass = MetaClass()\n",
    "MyObject = MyClass()\n",
    "```"
   ]
  },
  {
   "cell_type": "markdown",
   "metadata": {},
   "source": [
    "위에서 배운대로 `type`을 통해 정의할 수도 있다."
   ]
  },
  {
   "cell_type": "markdown",
   "metadata": {},
   "source": [
    "```python\n",
    "MyClass = type('MyClass', (), {})\n",
    "```"
   ]
  },
  {
   "cell_type": "markdown",
   "metadata": {},
   "source": [
    "여기서 `type`함수가 실제로 메타클래스!  \n",
    "`type`은 Python이 실제로 보이는 코드 뒤에서 클래스를 생성하는 메타클래스이다.  \n"
   ]
  }
 ],
 "metadata": {
  "kernelspec": {
   "display_name": "Python 3",
   "language": "python",
   "name": "python3"
  },
  "language_info": {
   "codemirror_mode": {
    "name": "ipython",
    "version": 3
   },
   "file_extension": ".py",
   "mimetype": "text/x-python",
   "name": "python",
   "nbconvert_exporter": "python",
   "pygments_lexer": "ipython3",
   "version": "3.7.4"
  }
 },
 "nbformat": 4,
 "nbformat_minor": 2
}
