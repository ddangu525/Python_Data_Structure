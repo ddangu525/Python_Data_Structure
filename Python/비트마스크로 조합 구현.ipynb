{
 "cells": [
  {
   "cell_type": "markdown",
   "metadata": {},
   "source": [
    "https://sangdo913.tistory.com/7 내용정리"
   ]
  },
  {
   "cell_type": "markdown",
   "metadata": {},
   "source": [
    "## 1. 기본 아이디어"
   ]
  },
  {
   "cell_type": "markdown",
   "metadata": {},
   "source": [
    "1. `b & -b`를 하면 최하위 1비트가 나온다!\n",
    "    - `-b`는 b의 2의 보수 표현.(모든비트 반전 + 1)\n",
    "    - 따라서 최하위 1비트를 뽑아낼 수 있다.\n",
    "2. 1번을 응용하여 `~b & -~b`를 하면 최하위 0의 위치를 1로 만들 수 있다.\n",
    "    - `~b`는 모든 비트 반전."
   ]
  },
  {
   "cell_type": "markdown",
   "metadata": {},
   "source": [
    "## 2. $_nC_k$ 구현 과정"
   ]
  },
  {
   "cell_type": "markdown",
   "metadata": {},
   "source": [
    "#### 1) 맨 하위에서 연속되어 있는 1비트들 중 상위 비트를 1칸 왼쪽으로 움직임."
   ]
  },
  {
   "cell_type": "markdown",
   "metadata": {},
   "source": [
    "- `b & -b`는 최하위 1비트를 구함.\n",
    "- 여기에 1을 빼주면 최하위 뒷부분을 모두 1로 만들게 됨.\n",
    "- 그리고 원래 값과 OR연산을 수행하면 최하위 1비트 뒤는 모두 1이 된다.\n",
    "- 다시 1을 더해주면 최하위 연속 1비트 중 상위 비트를 1칸 왼쪽으로 움직인 결과가 된다."
   ]
  },
  {
   "cell_type": "markdown",
   "metadata": {},
   "source": [
    "#### 2) 움직인 비트보다 오른쪽에 있는 1비트들을 오른쪽 끝으로 붙임."
   ]
  },
  {
   "cell_type": "markdown",
   "metadata": {},
   "source": [
    "- `(~b & -~b) - 1`의 값은 맨 하위 비트 0을 1로 바꾼 뒤 1을 뺀 값.\n",
    "    - 즉 맨 하위 0 오른쪽은 모두 1이다.\n",
    "    - 1)에서 나온 결과에 이어서 하면 움직인 상위비트 오른쪽을 모두 1로 만든 것.\n",
    "    - 이를 오른쪽으로 시프트연산(원래 있던 0의 개수 +1 만큼)한다.\n",
    "    - 나머지 1 비트들이 오른쪽 끝으로 붙어졌다!"
   ]
  },
  {
   "cell_type": "markdown",
   "metadata": {},
   "source": [
    "#### 3) 모두 탐색했으면 빠져나옴.\n",
    "조합한 결과가 n보다 작은경우만.."
   ]
  },
  {
   "cell_type": "markdown",
   "metadata": {},
   "source": [
    "### $_5C_3$이 나오는 과정"
   ]
  },
  {
   "cell_type": "markdown",
   "metadata": {},
   "source": [
    "```\n",
    "0 0 1 1 1\n",
    "0 1 0 1 1\n",
    "0 1 1 0 1\n",
    "0 1 1 1 0 \n",
    "1 0 0 1 1\n",
    "1 0 1 0 1\n",
    "1 0 1 1 0\n",
    "1 1 0 0 1\n",
    "1 1 0 1 0\n",
    "1 1 1 0 0\n",
    "```"
   ]
  },
  {
   "cell_type": "code",
   "execution_count": 2,
   "metadata": {},
   "outputs": [
    {
     "data": {
      "text/plain": [
       "8"
      ]
     },
     "execution_count": 2,
     "metadata": {},
     "output_type": "execute_result"
    }
   ],
   "source": [
    "a = 1\n",
    "a <<= 3\n",
    "a"
   ]
  },
  {
   "cell_type": "code",
   "execution_count": 3,
   "metadata": {},
   "outputs": [],
   "source": [
    "def getZeros(n):\n",
    "    num = 0\n",
    "    while (n & 1) == 0:\n",
    "        n >>= 1\n",
    "        num += 1\n",
    "    return num\n",
    "\n",
    "def show(bit, n):\n",
    "    msb = 1 << (n - 1);\n",
    "    while msb:\n",
    "        print(int(bool(msb & bit)), end=' ')\n",
    "        msb >>= 1\n",
    "    print()"
   ]
  },
  {
   "cell_type": "code",
   "execution_count": 4,
   "metadata": {},
   "outputs": [
    {
     "name": "stdout",
     "output_type": "stream",
     "text": [
      "5 3\n",
      "0 0 1 1 1 \n",
      "0 1 0 1 1 \n",
      "0 1 1 0 1 \n",
      "0 1 1 1 0 \n",
      "1 0 0 1 1 \n",
      "1 0 1 0 1 \n",
      "1 0 1 1 0 \n",
      "1 1 0 0 1 \n",
      "1 1 0 1 0 \n",
      "1 1 1 0 0 \n"
     ]
    }
   ],
   "source": [
    "n, k = map(int, input().split())\n",
    "bit = (1 << k) - 1  # 가장 최하위 비트 k개를 선택한 경우.. 베이스\n",
    "while bit < (1 << n):  # \n",
    "    show(bit, n)\n",
    "    temp = bit | ((bit & -bit) - 1)\n",
    "    bit = (temp + 1) | (((~temp & -~temp) - 1) >> (getZeros(bit) + 1))"
   ]
  },
  {
   "cell_type": "code",
   "execution_count": 18,
   "metadata": {},
   "outputs": [],
   "source": [
    "# 어떤 수보다 크거나 같은 최소의 2의 거듭제곱 값.\n",
    "def get_ge_bit(n):\n",
    "    c = 0\n",
    "    n -= 1\n",
    "    while (n != 1):\n",
    "        n >>= 1\n",
    "        c += 1\n",
    "    return 1 << (c+1)"
   ]
  },
  {
   "cell_type": "code",
   "execution_count": 20,
   "metadata": {
    "scrolled": false
   },
   "outputs": [
    {
     "data": {
      "text/plain": [
       "8"
      ]
     },
     "execution_count": 20,
     "metadata": {},
     "output_type": "execute_result"
    }
   ],
   "source": [
    "get_ge_bit(8)"
   ]
  },
  {
   "cell_type": "code",
   "execution_count": 35,
   "metadata": {},
   "outputs": [
    {
     "data": {
      "text/plain": [
       "1"
      ]
     },
     "execution_count": 35,
     "metadata": {},
     "output_type": "execute_result"
    }
   ],
   "source": [
    "1 << 0"
   ]
  },
  {
   "cell_type": "code",
   "execution_count": 36,
   "metadata": {},
   "outputs": [],
   "source": [
    "# 최하위 비트를 1부터 하여 번호를 메길 때 bit에 해당하는 합 계산.\n",
    "# 일단 얘가 뭐보다 작은진 안다.\n",
    "K = 6\n",
    "def getSum(bit):\n",
    "    j = K\n",
    "    s = 0\n",
    "    while j >= 0:\n",
    "        if (1 << j) & bit:\n",
    "            s += (j + 1)\n",
    "        j -= 1\n",
    "    return s    "
   ]
  },
  {
   "cell_type": "code",
   "execution_count": 37,
   "metadata": {
    "scrolled": true
   },
   "outputs": [
    {
     "data": {
      "text/plain": [
       "6"
      ]
     },
     "execution_count": 37,
     "metadata": {},
     "output_type": "execute_result"
    }
   ],
   "source": [
    "getSum(7)"
   ]
  },
  {
   "cell_type": "code",
   "execution_count": 41,
   "metadata": {},
   "outputs": [],
   "source": [
    "# 최상위 비트의 번호 반환. 얘도 뭐보다 작은진 않다.\n",
    "def get_msb_idx(bit):\n",
    "    j = K\n",
    "    while j >= 0:\n",
    "        if (1 << j) & bit:\n",
    "            return j + 1\n",
    "        j -= 1"
   ]
  },
  {
   "cell_type": "code",
   "execution_count": 45,
   "metadata": {},
   "outputs": [
    {
     "data": {
      "text/plain": [
       "2"
      ]
     },
     "execution_count": 45,
     "metadata": {},
     "output_type": "execute_result"
    }
   ],
   "source": [
    "get_msb_idx(3)"
   ]
  },
  {
   "cell_type": "code",
   "execution_count": 71,
   "metadata": {},
   "outputs": [
    {
     "name": "stdout",
     "output_type": "stream",
     "text": [
      "1\n",
      "1 13\n",
      "0 0 0 0 0 0 0 0 0 0 0 1 \n",
      "bit 1\n",
      "sum 1\n",
      "0 0 0 0 0 0 0 0 0 0 1 0 \n",
      "bit 2\n",
      "sum 2\n",
      "0 0 0 0 0 0 0 0 0 1 0 0 \n",
      "bit 4\n",
      "sum 3\n",
      "0 0 0 0 0 0 0 0 1 0 0 0 \n",
      "bit 8\n",
      "sum 4\n",
      "0 0 0 0 0 0 0 1 0 0 0 0 \n",
      "bit 16\n",
      "sum 5\n",
      "0 0 0 0 0 0 1 0 0 0 0 0 \n",
      "bit 32\n",
      "sum 6\n",
      "0 0 0 0 0 1 0 0 0 0 0 0 \n",
      "bit 64\n",
      "sum 7\n",
      "0 0 0 0 1 0 0 0 0 0 0 0 \n",
      "bit 128\n",
      "sum 8\n",
      "0 0 0 1 0 0 0 0 0 0 0 0 \n",
      "bit 256\n",
      "sum 9\n",
      "0 0 1 0 0 0 0 0 0 0 0 0 \n",
      "bit 512\n",
      "sum 10\n",
      "0 1 0 0 0 0 0 0 0 0 0 0 \n",
      "bit 1024\n",
      "sum 11\n",
      "1 0 0 0 0 0 0 0 0 0 0 0 \n",
      "bit 2048\n",
      "sum 12\n",
      "0 0 0 0 0 0 0 0 0 0 0 0 \n",
      "bit 4096\n",
      "sum 13\n",
      "#1 1\n"
     ]
    }
   ],
   "source": [
    "def getZeros(n):\n",
    "    num = 0\n",
    "    while (n & 1) == 0:\n",
    "        n >>= 1\n",
    "        num += 1\n",
    "    return num\n",
    "\n",
    "def getSum(bit):\n",
    "    j = 13\n",
    "    s = 0\n",
    "    while j >= 0:\n",
    "        if (1 << j) & bit:\n",
    "            s += (j + 1)\n",
    "        j -= 1\n",
    "    return s    \n",
    "\n",
    "for t in range(int(input())):\n",
    "    N, K = map(int, input().split())\n",
    "    ans = 0\n",
    "    bit = (1 << N) - 1\n",
    "    m = 1 << (K)\n",
    "    while bit < (1<<13):\n",
    "        show(bit, 12)\n",
    "        print('bit', bit)\n",
    "        print('sum', getSum(bit))\n",
    "        if getSum(bit) == K:\n",
    "            ans += 1\n",
    "        temp = bit | ((bit & -bit) - 1)\n",
    "        bit = (temp + 1) | (((~temp & -~temp) - 1) >> (getZeros(bit) + 1))\n",
    "        \n",
    "    print(f'#{t+1} {ans}')"
   ]
  },
  {
   "cell_type": "code",
   "execution_count": null,
   "metadata": {},
   "outputs": [],
   "source": [
    "from itertools import combinations\n",
    "\n",
    "T = int(input())\n",
    "\n",
    "for test_case in range(1, T + 1):\n",
    "    N, K = map(int, input().split())\n",
    "    ans = 0\n",
    "    a = combinations(range(1, 13), N)\n",
    "    while True:\n",
    "        try:\n",
    "            if sum(next(a)) == K:\n",
    "                ans += 1\n",
    "        except:\n",
    "            break\n",
    "\n",
    "    print(\"#{} {}\".format(test_case, ans))"
   ]
  },
  {
   "cell_type": "code",
   "execution_count": 85,
   "metadata": {},
   "outputs": [
    {
     "name": "stdout",
     "output_type": "stream",
     "text": [
      "1\n",
      "2 6\n",
      "#1 2\n"
     ]
    }
   ],
   "source": [
    "from itertools import combinations\n",
    "for t in range(int(input())):\n",
    "    N, K = map(int, input().split())\n",
    "    ans = sum(1 for c in combinations(range(1, 13), N) if sum(c)==K)\n",
    "    print(f'#{t+1} {ans}')"
   ]
  },
  {
   "cell_type": "code",
   "execution_count": 63,
   "metadata": {},
   "outputs": [],
   "source": [
    "def sol1(n, k):\n",
    "    from itertools import combinations\n",
    "    ans = 0\n",
    "    a = combinations(range(1, 13), n)\n",
    "    while True:\n",
    "        try:\n",
    "            if sum(next(a)) == k:\n",
    "                ans += 1\n",
    "        except:\n",
    "            break\n",
    "    return ans"
   ]
  },
  {
   "cell_type": "code",
   "execution_count": 72,
   "metadata": {},
   "outputs": [],
   "source": [
    "def getZeros(n):\n",
    "    num = 0\n",
    "    while (n & 1) == 0:\n",
    "        n >>= 1\n",
    "        num += 1\n",
    "    return num\n",
    "\n",
    "def getSum(bit):\n",
    "    j = 13\n",
    "    s = 0\n",
    "    while j >= 0:\n",
    "        if (1 << j) & bit:\n",
    "            s += (j + 1)\n",
    "        j -= 1\n",
    "    return s   \n",
    "\n",
    "def sol2(n, k):\n",
    "    ans = 0\n",
    "    bit = (1 << n) - 1\n",
    "    m = 1 << (k)\n",
    "    while bit < (1<<12):\n",
    "        if getSum(bit) == k:\n",
    "            ans += 1\n",
    "        temp = bit | ((bit & -bit) - 1)\n",
    "        bit = (temp + 1) | (((~temp & -~temp) - 1) >> (getZeros(bit) + 1))\n",
    "    return ans"
   ]
  },
  {
   "cell_type": "code",
   "execution_count": 73,
   "metadata": {},
   "outputs": [],
   "source": [
    "for n in range(1, 13):\n",
    "    for k in range(1, 100):\n",
    "        if sol1(n, k) != sol2(n, k):\n",
    "            print(n, k)"
   ]
  },
  {
   "cell_type": "code",
   "execution_count": 69,
   "metadata": {},
   "outputs": [
    {
     "data": {
      "text/plain": [
       "0"
      ]
     },
     "execution_count": 69,
     "metadata": {},
     "output_type": "execute_result"
    }
   ],
   "source": [
    "sol1(1, 13)"
   ]
  },
  {
   "cell_type": "code",
   "execution_count": 70,
   "metadata": {},
   "outputs": [
    {
     "data": {
      "text/plain": [
       "1"
      ]
     },
     "execution_count": 70,
     "metadata": {},
     "output_type": "execute_result"
    }
   ],
   "source": [
    "sol2(1, 13)"
   ]
  },
  {
   "cell_type": "markdown",
   "metadata": {},
   "source": [
    "드디어 풀었다....ㅠㅠ"
   ]
  },
  {
   "cell_type": "code",
   "execution_count": 78,
   "metadata": {},
   "outputs": [],
   "source": [
    "def s1():\n",
    "    for n in range(1, 13):\n",
    "        for k in range(1, 100):\n",
    "            sol1(n, k)"
   ]
  },
  {
   "cell_type": "code",
   "execution_count": 79,
   "metadata": {},
   "outputs": [],
   "source": [
    "def s2():\n",
    "    for n in range(1, 13):\n",
    "        for k in range(1, 100):\n",
    "            sol2(n, k)"
   ]
  },
  {
   "cell_type": "code",
   "execution_count": 80,
   "metadata": {},
   "outputs": [
    {
     "name": "stdout",
     "output_type": "stream",
     "text": [
      "93.2 ms ± 1.7 ms per loop (mean ± std. dev. of 7 runs, 10 loops each)\n"
     ]
    }
   ],
   "source": [
    "%timeit s1()"
   ]
  },
  {
   "cell_type": "code",
   "execution_count": 82,
   "metadata": {
    "scrolled": true
   },
   "outputs": [
    {
     "name": "stdout",
     "output_type": "stream",
     "text": [
      "1.3 s ± 10.4 ms per loop (mean ± std. dev. of 7 runs, 1 loop each)\n"
     ]
    }
   ],
   "source": [
    "%timeit s2()"
   ]
  },
  {
   "cell_type": "code",
   "execution_count": null,
   "metadata": {},
   "outputs": [],
   "source": [
    "# 최적화 코드\n",
    "from itertools import combinations\n",
    "for t in range(int(input())):\n",
    "    N, K = map(int, input().split())\n",
    "    ans = sum(1 for c in combinations(range(1, 13), N) if sum(c)==K)\n",
    "    print(f'#{t+1} {ans}')"
   ]
  },
  {
   "cell_type": "code",
   "execution_count": null,
   "metadata": {},
   "outputs": [],
   "source": [
    "# 비트마스크 이용 최종 코드\n",
    "def getZeros(n):\n",
    "    num = 0\n",
    "    while (n & 1) == 0:\n",
    "        n >>= 1\n",
    "        num += 1\n",
    "    return num\n",
    "\n",
    "def getSum(bit):\n",
    "    j = 13\n",
    "    s = 0\n",
    "    while j >= 0:\n",
    "        if (1 << j) & bit:\n",
    "            s += (j + 1)\n",
    "        j -= 1\n",
    "    return s\n",
    "\n",
    "for t in range(int(input())):\n",
    "    N, K = map(int, input().split())\n",
    "    ans = 0\n",
    "    bit = (1 << N) - 1\n",
    "    m = 1 << (K)\n",
    "    while bit < (1<<12):\n",
    "        if getSum(bit) == K:\n",
    "            ans += 1\n",
    "        temp = bit | ((bit & -bit) - 1)\n",
    "        bit = (temp + 1) | (((~temp & -~temp) - 1) >> (getZeros(bit) + 1))\n",
    "\n",
    "    print(f'#{t+1} {ans}')"
   ]
  }
 ],
 "metadata": {
  "kernelspec": {
   "display_name": "Python 3",
   "language": "python",
   "name": "python3"
  },
  "language_info": {
   "codemirror_mode": {
    "name": "ipython",
    "version": 3
   },
   "file_extension": ".py",
   "mimetype": "text/x-python",
   "name": "python",
   "nbconvert_exporter": "python",
   "pygments_lexer": "ipython3",
   "version": "3.7.3"
  }
 },
 "nbformat": 4,
 "nbformat_minor": 2
}
