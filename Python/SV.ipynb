{
 "cells": [
  {
   "cell_type": "markdown",
   "metadata": {},
   "source": [
    "### 1"
   ]
  },
  {
   "cell_type": "markdown",
   "metadata": {},
   "source": [
    "14 글자를 출력할 수 있는 전광판에 happy-birthday라는 문구를 지나가게 하려 합니다. 이때, 문구는 다음 규칙에 따라 화면을 지나갑니다.  \n",
    "  \n",
    "전광판은 화면에 14자 글자를 출력합니다.  \n",
    "문구는 1초에 왼쪽으로 한 칸씩 움직입니다.  \n",
    "문구 이외의 부분은 `_`로 표시됩니다.  \n",
    "처음에는 문구를 보여주지 않습니다. 즉, 처음엔 `______________`를 보여줍니다.  \n",
    "전광판은 설정한 문구를 화면에 반복해 출력합니다.  \n",
    "전광판은 문구가 다 지나가면 설정한 문구를 반복해 보여줍니다.  \n",
    "예를 들어, 처음에는 화면에 `\"______________\"`가 보입니다.   \n",
    "3초 뒤에는 화면에 `\"___________hap\"`가 보입니다.  \n",
    "14초 뒤에는 화면에 `\"happy-birthday\"`가 보입니다.  \n",
    "20초 뒤에는 화면에 `\"birthday_____\"`가 보입니다.  \n",
    "28초 뒤에는 모든 문자열이 지나간 후 `\"______________\"`가 보입니다.  \n",
    "29초 뒤에는 다시 첫 번째 문자부터 나타나며, `\"_____________h\"`가 보입니다.  \n",
    "문구를 담은 문자열 phrases와 초를 담은 second가 매개변수로 주어질 때, s초가 지난 후 화면에 보이는 문자열을 출력하도록 solution 함수를 작성해 주세요.  \n",
    "  \n",
    "#### 제한 조건\n",
    "문구를 담은 문자열 phrases와 초를 담은 second가 주어집니다.  \n",
    "  \n",
    "phrases는 happy-birthday입니다.  \n",
    "second는 1 이상 10,000 이하인 자연수입니다.  \n",
    "  \n",
    "입출력 예\n",
    "```\n",
    "phrases          second        return\n",
    "happy-birthday     3        ___________hap\n",
    "\n",
    "초기 상태 ______________에서 3초가 지나면 화면에는 세 글자가 지나가 ___________hap가 보입니다.\n",
    "```"
   ]
  },
  {
   "cell_type": "code",
   "execution_count": 12,
   "metadata": {
    "collapsed": true
   },
   "outputs": [],
   "source": [
    "from collections import deque\n",
    "def solution(phrases, second):\n",
    "    n = len(phrases)\n",
    "    a = deque([i for i in '_'*14 + phrases])\n",
    "    a.rotate(-second)\n",
    "    return ''.join(list(a)[:14])"
   ]
  },
  {
   "cell_type": "code",
   "execution_count": 13,
   "metadata": {},
   "outputs": [
    {
     "name": "stdout",
     "output_type": "stream",
     "text": [
      "______________\n",
      "_____________h\n",
      "____________ha\n",
      "___________hap\n",
      "__________happ\n",
      "_________happy\n",
      "________happy-\n",
      "_______happy-b\n",
      "______happy-bi\n",
      "_____happy-bir\n",
      "____happy-birt\n",
      "___happy-birth\n",
      "__happy-birthd\n",
      "_happy-birthda\n",
      "happy-birthday\n",
      "appy-birthday_\n",
      "ppy-birthday__\n",
      "py-birthday___\n",
      "y-birthday____\n",
      "-birthday_____\n",
      "birthday______\n",
      "irthday_______\n",
      "rthday________\n",
      "thday_________\n",
      "hday__________\n",
      "day___________\n",
      "ay____________\n",
      "y_____________\n",
      "______________\n",
      "_____________h\n",
      "____________ha\n",
      "___________hap\n",
      "__________happ\n",
      "_________happy\n",
      "________happy-\n",
      "_______happy-b\n",
      "______happy-bi\n",
      "_____happy-bir\n",
      "____happy-birt\n",
      "___happy-birth\n",
      "__happy-birthd\n",
      "_happy-birthda\n",
      "happy-birthday\n",
      "appy-birthday_\n",
      "ppy-birthday__\n",
      "py-birthday___\n",
      "y-birthday____\n",
      "-birthday_____\n",
      "birthday______\n",
      "irthday_______\n",
      "rthday________\n",
      "thday_________\n",
      "hday__________\n",
      "day___________\n",
      "ay____________\n",
      "y_____________\n",
      "______________\n",
      "_____________h\n",
      "____________ha\n",
      "___________hap\n",
      "__________happ\n",
      "_________happy\n",
      "________happy-\n",
      "_______happy-b\n",
      "______happy-bi\n",
      "_____happy-bir\n",
      "____happy-birt\n",
      "___happy-birth\n",
      "__happy-birthd\n",
      "_happy-birthda\n",
      "happy-birthday\n",
      "appy-birthday_\n",
      "ppy-birthday__\n",
      "py-birthday___\n",
      "y-birthday____\n",
      "-birthday_____\n",
      "birthday______\n",
      "irthday_______\n",
      "rthday________\n",
      "thday_________\n",
      "hday__________\n",
      "day___________\n",
      "ay____________\n",
      "y_____________\n",
      "______________\n",
      "_____________h\n",
      "____________ha\n",
      "___________hap\n",
      "__________happ\n",
      "_________happy\n",
      "________happy-\n",
      "_______happy-b\n",
      "______happy-bi\n",
      "_____happy-bir\n",
      "____happy-birt\n",
      "___happy-birth\n",
      "__happy-birthd\n",
      "_happy-birthda\n",
      "happy-birthday\n",
      "appy-birthday_\n"
     ]
    }
   ],
   "source": [
    "for i in range(100):\n",
    "    print(solution('happy-birthday', i))"
   ]
  },
  {
   "cell_type": "markdown",
   "metadata": {},
   "source": [
    "### 2"
   ]
  },
  {
   "cell_type": "markdown",
   "metadata": {},
   "source": [
    "문제 설명\n",
    "S사 직원들이 근무하는 사무실에 겨울을 맞아 온풍기를 설치하려고 합니다.  \n",
    "사무실은 N x N 크기의 격자 형태로 나타낼 수 있으며, 모든 직원의 자리는 한 칸의 격자 칸을 차지하는 것으로 나타냅니다.  \n",
    "모든 직원은 한 칸씩의 자리를 차지하므로, 격자 칸 하나에 두 명 이상의 자리가 있는 경우는 없습니다.   \n",
    "이번에 사려는 온풍기는 각 변이 x축, y축에 평행한 k x k 크기의 격자 칸을 따뜻하게 만들 수 있습니다.  \n",
    "이때, 온풍기가 따뜻하게 하는 구역이 격자 칸의 중간에 걸치는 경우는 고려하지 않습니다.   \n",
    "다음은 4 x 4 크기의 사무실의 격자 칸에 직원들의 자리가 있는 모습을 나타낸 그림입니다.  \n",
    "그림에서 0은 빈칸, 1은 직원의 자리가 있는 칸을 나타냅니다.  \n",
    "k=2인 온풍기를 그림의 색칠한 부분에 설치한다면 1명의 직원이 따뜻해질 수 있습니다.  \n",
    "<img src=\"https://grepp-programmers.s3.amazonaws.com/files/production/ed0cb9db01/5932d7dc-b588-4849-a7ea-3c75ebb00c64.png\">\n",
    "\n",
    "그러나 다음 그림처럼 온풍기를 설치한다면 3명의 직원을 따뜻하게 할 수 있습니다.  \n",
    "<img src=\"https://grepp-programmers.s3.amazonaws.com/files/production/0ded04be88/816a2941-936d-45be-9516-fc03d5b92d61.png\">\n",
    "\n",
    "위 예시에서는 온풍기를 적절히 설치했을 때, 최대 3명의 직원이 따뜻해질 수 있습니다.  \n",
    "  \n",
    "N x N 크기의 격자 모양 사무실을 나타내는 배열 office, 온풍기 한 대가 따뜻하게 만드는 구역의 한 변의 길이 k가 매개변수로 주어질 때,  \n",
    "온풍기 한 대를 적절한 위치에 설치했을 때 최대 몇 명의 직원이 따뜻해질 수 있는지 return 하도록 solution 함수를 완성해주세요.  \n",
    "  \n",
    "#### 제한사항\n",
    "office는 격자 모양의 사무실을 나타내는 N x N 크기의 2차원 배열이며, N은 1 이상 20 이하의 자연수입니다.  \n",
    "office의 원소는 0 또는 1이 들어있으며, 0은 빈칸, 1은 직원의 자리가 있는 칸을 나타냅니다.  \n",
    "k는 온풍기 한 대가 따뜻하게 하는 구역의 한 변의 길이를 나타냅니다.  \n",
    "온풍기 한 대는 k x k 넓이의 구역을 따뜻하게 할 수 있으며, k는 1 이상 N 이하의 자연수입니다.  \n",
    "  \n",
    "입출력 예\n",
    "```\n",
    "office\tk\tresult\n",
    "[[1,0,0,0],[0,0,0,1],[0,0,1,0],[0,1,1,0]]\t2\t3\n",
    "[[1,0,0],[0,0,1],[1,0,0]]\t2\t1\n",
    "입출력 예 설명\n",
    "입출력 예 #1\n",
    "문제의 예시와 같습니다.\n",
    "```\n",
    "입출력 예 #2\n",
    "```\n",
    "2 x 2 크기의 온풍기를 어떻게 설치해도 최대 1명의 직원이 따뜻해질 수 있습니다. 따라서 1을 return 합니다.\n",
    "```"
   ]
  },
  {
   "cell_type": "code",
   "execution_count": null,
   "metadata": {
    "collapsed": true
   },
   "outputs": [],
   "source": [
    "def solution(office, k):\n",
    "    n = len(office)\n",
    "    max = 0\n",
    "    for y in range(n-k+1):\n",
    "        for x in range(n-k+1):\n",
    "            c = 0\n",
    "            for j in range(y, y + k):\n",
    "                for i in range(x, x + k):\n",
    "                    c += office[j][i]\n",
    "            if c > max:\n",
    "                max = c\n",
    "    return max"
   ]
  },
  {
   "cell_type": "markdown",
   "metadata": {},
   "source": [
    "### 3"
   ]
  },
  {
   "cell_type": "markdown",
   "metadata": {},
   "source": [
    "게임에 접속한 모든 유저에게 아이템을 지급하는 출석 이벤트를 k일 동안 진행하려 합니다.  \n",
    "날짜별 추정 접속자 수가 주어질 때, k일 동안 추정 접속자 수의 합이 최대가 되도록 이벤트 기간을 정하려 합니다.  \n",
    "  \n",
    "날짜별 추정 접속자 수가 순서대로 담긴 배열 estimates와 출석 이벤트를 진행하는 기간 k가 매개변수로 주어집니다.  \n",
    "k일 동안 추정 접속자 수의 합이 최대가 되도록 이벤트 기간을 정했을 때, 그 때의 추정 접속자 수 합을 return 하도록 solution 함수를 완성해주세요.  \n",
    "  \n",
    "#### 제한 조건\n",
    "estimates는 길이가 1 이상 200,000 이하인 배열입니다.  \n",
    "estimates의 원소는 10,000 이하인 자연수입니다.  \n",
    "k는 1 이상 100,000 이하이고, estimates의 길이보다 작거나 같습니다.  \n",
    "  \n",
    "입출력 예\n",
    "```\n",
    "estimates                      k    return\n",
    "[1, 1, 9, 3, 7, 6, 5, 10]      4      28\n",
    "[1, 1, 5, 1, 1]                1      5\n",
    "예시 설명\n",
    "예시 #1\n",
    "출석 이벤트를 4일간 열려고 합니다.  \n",
    "4일간 추정 접속자 수의 합이 최대가 되는 경우는 [7, 6, 5, 10]입니다. 따라서 28을 return 하면 됩니다.  \n",
    "\n",
    "예시 #2\n",
    "출석 이벤트를 하루 열려고 합니다. 1일간 추정 접속자 수의 합이 최대가 되는 경우는 [5]입니다. 따라서 최대 5를 return 하면 됩니다.\n",
    "```"
   ]
  },
  {
   "cell_type": "code",
   "execution_count": null,
   "metadata": {
    "collapsed": true
   },
   "outputs": [],
   "source": [
    "def solution(estimates, k):\n",
    "    pSum = [0] * (len(estimates)+1)\n",
    "    pSum[1] = estimates[0]\n",
    "    for i in range(2, len(estimates)+1):\n",
    "        pSum[i] = estimates[i - 1] + pSum[i - 1]\n",
    "    # print(pSum)/\n",
    "    return max(pSum[k+i]-pSum[i] for i in range(0, len(estimates)+1-k))"
   ]
  }
 ],
 "metadata": {
  "kernelspec": {
   "display_name": "Python 3",
   "language": "python",
   "name": "python3"
  },
  "language_info": {
   "codemirror_mode": {
    "name": "ipython",
    "version": 3
   },
   "file_extension": ".py",
   "mimetype": "text/x-python",
   "name": "python",
   "nbconvert_exporter": "python",
   "pygments_lexer": "ipython3",
   "version": "3.6.3"
  }
 },
 "nbformat": 4,
 "nbformat_minor": 2
}
