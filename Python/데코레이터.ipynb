{
 "cells": [
  {
   "cell_type": "markdown",
   "metadata": {},
   "source": [
    "코딩도장 내용정리"
   ]
  },
  {
   "cell_type": "markdown",
   "metadata": {},
   "source": [
    "### 1. 데코레이터 만들기\n",
    "데코레이터는 함수를 수정하지 않은 상태에서 추가 기능을 구현할 때 사용.  "
   ]
  },
  {
   "cell_type": "code",
   "execution_count": 3,
   "metadata": {},
   "outputs": [
    {
     "name": "stdout",
     "output_type": "stream",
     "text": [
      "hello 함수 시작\n",
      "hello\n",
      "hello 함수 끝\n",
      "world 함수 시작\n",
      "world\n",
      "world 함수 끝\n"
     ]
    }
   ],
   "source": [
    "# 함수의 시간과 끝을 출력하고 싶을때 데코레이터를 사용하지 않은 방법\n",
    "def hello():\n",
    "    print('hello 함수 시작')\n",
    "    print('hello')\n",
    "    print('hello 함수 끝')\n",
    "    \n",
    "def world():\n",
    "    print('world 함수 시작')\n",
    "    print('world')\n",
    "    print('world 함수 끝')\n",
    "    \n",
    "hello()\n",
    "world()"
   ]
  },
  {
   "cell_type": "code",
   "execution_count": 5,
   "metadata": {},
   "outputs": [
    {
     "name": "stdout",
     "output_type": "stream",
     "text": [
      "hello 함수 시작\n",
      "hello\n",
      "hello 함수 끝\n",
      "world 함수 시작\n",
      "world\n",
      "world 함수 끝\n"
     ]
    }
   ],
   "source": [
    "# 함수의 시작과 끝을 출력하는 데코레이터를 사용하는 방법\n",
    "def trace(func):\n",
    "    def wrapper():\n",
    "        print(func.__name__, '함수 시작')\n",
    "        func()\n",
    "        print(func.__name__, '함수 끝')\n",
    "    return wrapper\n",
    "\n",
    "def hello():\n",
    "    print('hello')\n",
    "    \n",
    "def world():\n",
    "    print('world')\n",
    "    \n",
    "trace_hello = trace(hello)    # 데코레이터에 호출할 함수를 넣음\n",
    "trace_hello()                 # 반환된 함수 호출\n",
    "trace_world = trace(world)\n",
    "trace_world()"
   ]
  },
  {
   "cell_type": "markdown",
   "metadata": {},
   "source": [
    "1. 데코레이터 trace는 호출할 함수를 매개변수로 받고 호출할 함수를 감싸는 함수 wrapper를 만든다.  \n",
    "2. wrapper 함수에서는 함수의 시작과 끝을 알리는 문자열을 출력하도록 하고 그 사이에 매개변수로 받은 func를 호출.\n",
    "    - 매개변수로 받은 함수의 원래 이름을 출력할 때는 `__name__`속성 활용\n",
    "3. wrapper함수를 만든 후 trace함수에서 return을 사용하여 wrapper 함수 자체를 반환.\n",
    "    - 즉 함수 안에서 함수를 만들고 반환하는 클로저\n",
    "4. trace에 호출할 함수를 넣어 반환된 함수를 호출."
   ]
  },
  {
   "cell_type": "markdown",
   "metadata": {},
   "source": [
    "#### @로 데코레이터 사용하기\n",
    "호출할 함수 위에 @데코레이터 형식으로 지정\n",
    "```python\n",
    "@decorator\n",
    "def func():\n",
    "    code\n",
    "```"
   ]
  },
  {
   "cell_type": "code",
   "execution_count": 6,
   "metadata": {},
   "outputs": [
    {
     "name": "stdout",
     "output_type": "stream",
     "text": [
      "hello 함수 시작\n",
      "hello\n",
      "hello 함수 끝\n",
      "world 함수 시작\n",
      "world\n",
      "world 함수 끝\n"
     ]
    }
   ],
   "source": [
    "def trace(func):\n",
    "    def wrapper():\n",
    "        print(func.__name__, '함수 시작')\n",
    "        func()\n",
    "        print(func.__name__, '함수 끝')\n",
    "    return wrapper\n",
    "\n",
    "@trace      # @데코레이터\n",
    "def hello():\n",
    "    print('hello')\n",
    "    \n",
    "@trace\n",
    "def world():\n",
    "    print('world')\n",
    "    \n",
    "hello()\n",
    "world()"
   ]
  },
  {
   "cell_type": "markdown",
   "metadata": {},
   "source": [
    "#### 데코레이터의 그림 표현\n",
    "<img src=\"https://dojang.io/pluginfile.php/14011/mod_page/content/2/042001.png\">"
   ]
  },
  {
   "cell_type": "markdown",
   "metadata": {},
   "source": [
    "함수를 감싸는 형태로 구성되어 있어서 기존 함수를 수정하지 않으면서 추가 기능을 구현할 때 사용된다.  "
   ]
  },
  {
   "cell_type": "markdown",
   "metadata": {},
   "source": [
    "#### 여러 개의 데코레이터 지정\n",
    "```python\n",
    "@decorator1\n",
    "@decorator2\n",
    "def func():\n",
    "    code\n",
    "```\n",
    "데코레이터의 실행 순서는 위에서 아래 순.."
   ]
  },
  {
   "cell_type": "code",
   "execution_count": 8,
   "metadata": {},
   "outputs": [
    {
     "name": "stdout",
     "output_type": "stream",
     "text": [
      "decorator1\n",
      "decorator2\n",
      "hello\n"
     ]
    }
   ],
   "source": [
    "def decorator1(func):\n",
    "    def wrapper():\n",
    "        print('decorator1')\n",
    "        func()\n",
    "    return wrapper\n",
    "\n",
    "def decorator2(func):\n",
    "    def wrapper():\n",
    "        print('decorator2')\n",
    "        func()\n",
    "    return wrapper\n",
    "\n",
    "# 여러 개의 데코레이터 지정\n",
    "@decorator1\n",
    "@decorator2\n",
    "def hello():\n",
    "    print('hello')\n",
    "    \n",
    "hello()"
   ]
  },
  {
   "cell_type": "code",
   "execution_count": 10,
   "metadata": {},
   "outputs": [
    {
     "name": "stdout",
     "output_type": "stream",
     "text": [
      "decorator1\n",
      "decorator2\n",
      "hello\n"
     ]
    }
   ],
   "source": [
    "# @을 사용하지 않는다면 다음과 같다\n",
    "def hello():\n",
    "    print('hello')\n",
    "decorated_hello = decorator1(decorator2(hello))\n",
    "decorated_hello()"
   ]
  },
  {
   "cell_type": "markdown",
   "metadata": {},
   "source": [
    "### 2. 매개변수와 반환값을 처리하는 데코레이터 만들기"
   ]
  },
  {
   "cell_type": "markdown",
   "metadata": {},
   "source": [
    "매개변수와 반환값을 처리하는 데코레이터를 만들어 보자"
   ]
  },
  {
   "cell_type": "code",
   "execution_count": 11,
   "metadata": {},
   "outputs": [
    {
     "name": "stdout",
     "output_type": "stream",
     "text": [
      "add(a=10, b=20) -> 30\n",
      "30\n"
     ]
    }
   ],
   "source": [
    "def trace(func):\n",
    "    def wrapper(a, b):\n",
    "        r = func(a, b)\n",
    "        print(f'{func.__name__}(a={a}, b={b}) -> {r}')\n",
    "        return r\n",
    "    return wrapper\n",
    "\n",
    "@trace\n",
    "def add(a, b):\n",
    "    return a + b\n",
    "\n",
    "print(add(10, 20))"
   ]
  },
  {
   "cell_type": "markdown",
   "metadata": {},
   "source": [
    "1. 먼저 안쪽 wrapper 함수의 매개변수를 호출할 함수의 매개변수와 똑같이 만들어준다.\n",
    "2. wrapper 함수 안에서는 func를 호출하고 반환값을 변수에 저장한다.\n",
    "3. func의 반환값을 return으로 반환한다."
   ]
  },
  {
   "cell_type": "markdown",
   "metadata": {},
   "source": [
    "#### 가변 인수 함수 데코레이터\n",
    "매개변수(인수)가 고정되지 않은 함수 처리. wrapper 함수를 가변 인수 함수로 만들자."
   ]
  },
  {
   "cell_type": "code",
   "execution_count": 12,
   "metadata": {},
   "outputs": [
    {
     "name": "stdout",
     "output_type": "stream",
     "text": [
      "('get_max',)(args=(10, 20), kwargs={}) -> 20\n",
      "20\n",
      "('get_min',)(args=(), kwargs={'x': 10, 'y': 20, 'z': 30}) -> 10\n",
      "10\n"
     ]
    }
   ],
   "source": [
    "def trace(func):\n",
    "    def wrapper(*args, **kwargs):\n",
    "        r = func(*args, **kwargs)\n",
    "        print(f'{func.__name__,}(args={args}, kwargs={kwargs}) -> {r}')\n",
    "        return r\n",
    "    return wrapper\n",
    "\n",
    "@trace\n",
    "def get_max(*args):\n",
    "    return max(args)\n",
    "\n",
    "@trace\n",
    "def get_min(**kwargs):\n",
    "    return min(kwargs.values())\n",
    "\n",
    "print(get_max(10, 20))\n",
    "print(get_min(x=10, y=20, z=30))"
   ]
  },
  {
   "cell_type": "markdown",
   "metadata": {},
   "source": [
    "#### 메서드에 데코레이터 사용하기\n",
    "메서드에 데코레이터를 사용할 때는 self를 주의하자!  \n",
    "데코레이터를 만들 때도 wrapper함수의 첫번째 매개변수를 self로 지정해야 한다.(class method는 cls).  \n",
    "func을 호출할 때도 self와 매개변수를 그대로 넣어야 한다."
   ]
  },
  {
   "cell_type": "code",
   "execution_count": 13,
   "metadata": {},
   "outputs": [
    {
     "name": "stdout",
     "output_type": "stream",
     "text": [
      "add(a=10, b=20) -> 30\n",
      "30\n"
     ]
    }
   ],
   "source": [
    "def trace(func):\n",
    "    def wrapper(self, a, b):\n",
    "        r = func(self, a, b)\n",
    "        print(f'{func.__name__}(a={a}, b={b}) -> {r}')\n",
    "        return r\n",
    "    return wrapper\n",
    "\n",
    "class Calc:\n",
    "    @trace\n",
    "    def add(self, a, b):\n",
    "        return a + b\n",
    "    \n",
    "c = Calc()\n",
    "print(c.add(10, 20))"
   ]
  },
  {
   "cell_type": "markdown",
   "metadata": {},
   "source": [
    "### 3. 매개변수가 있는 데코레이터 만들기\n",
    "매개변수가 있는 데코레이터를 만들어보자.  \n",
    "이런 방식의 데코레이터는 값을 지정해서 동작을 바꿀 수 있다."
   ]
  },
  {
   "cell_type": "code",
   "execution_count": 14,
   "metadata": {},
   "outputs": [
    {
     "name": "stdout",
     "output_type": "stream",
     "text": [
      "add의 반환값은 3의 배수입니다.\n",
      "30\n",
      "add의 반환값은 3의 배수가 아닙니다.\n",
      "7\n"
     ]
    }
   ],
   "source": [
    "# 함수의 반환값이 특정 수의 배수인지 확인하는 데코레이터\n",
    "def is_multiple(x):                # 데코레이터가 사용할 매개변수 지정\n",
    "    def real_decorator(func):      # 호출할 함수를 매개변수로 받음.\n",
    "        def wrapper(a, b):         # 호출할 함수 매개변수와 맞춰줌.\n",
    "            r = func(a, b)\n",
    "            if r % x == 0:\n",
    "                print(f'{func.__name__}의 반환값은 {x}의 배수입니다.')\n",
    "            else:\n",
    "                print(f'{func.__name__}의 반환값은 {x}의 배수가 아닙니다.')\n",
    "            return r\n",
    "        return wrapper\n",
    "    return real_decorator\n",
    "\n",
    "@is_multiple(3)   # 매개변수가 있는 데코레이터.\n",
    "def add(a, b):\n",
    "    return a + b\n",
    "\n",
    "print(add(10, 20))\n",
    "print(add(2, 5))"
   ]
  },
  {
   "cell_type": "markdown",
   "metadata": {},
   "source": [
    "1. 매개변수가 있는 데코레이터를 만들 때는 함수를 3중으로 만들어야 한다.\n",
    "2. 먼저 가장 바깥에 있는 함수에 데코레이터가 사용할 매개변수 x를 지정.\n",
    "3. 그 안에 실제 데코레이터 역할을 하는 real_decorator 생성.\n",
    "    - 호출할 함수를 배개변수로 받는다.\n",
    "4. real_decorator 함수 안에서 wrapper 함수를 만들어준다."
   ]
  },
  {
   "cell_type": "markdown",
   "metadata": {},
   "source": [
    "#### 매개변수가 있는 데코레이터 여러 개 지정"
   ]
  },
  {
   "cell_type": "code",
   "execution_count": 15,
   "metadata": {},
   "outputs": [
    {
     "name": "stdout",
     "output_type": "stream",
     "text": [
      "add의 반환값은 7의 배수가 아닙니다.\n",
      "wrapper의 반환값은 3의 배수입니다.\n"
     ]
    },
    {
     "data": {
      "text/plain": [
       "30"
      ]
     },
     "execution_count": 15,
     "metadata": {},
     "output_type": "execute_result"
    }
   ],
   "source": [
    "@is_multiple(3)\n",
    "@is_multiple(7)\n",
    "def add(a, b):\n",
    "    return a + b\n",
    " \n",
    "add(10, 20)"
   ]
  },
  {
   "cell_type": "markdown",
   "metadata": {},
   "source": [
    "#### @을 사용하지 않았을 때 동작"
   ]
  },
  {
   "cell_type": "code",
   "execution_count": 16,
   "metadata": {},
   "outputs": [
    {
     "name": "stdout",
     "output_type": "stream",
     "text": [
      "add의 반환값은 7의 배수가 아닙니다.\n",
      "wrapper의 반환값은 3의 배수입니다.\n"
     ]
    },
    {
     "data": {
      "text/plain": [
       "30"
      ]
     },
     "execution_count": 16,
     "metadata": {},
     "output_type": "execute_result"
    }
   ],
   "source": [
    "def add(a, b):\n",
    "    return a + b\n",
    "decorated_add = is_multiple(3)(is_multiple(7)(add))\n",
    "decorated_add(10, 20)"
   ]
  },
  {
   "cell_type": "markdown",
   "metadata": {},
   "source": [
    "#### wrapper가 이름으로 나오네??\n",
    "데코레이터를 여러 개 사용하면 데코레이터에서 반환된 wrapper 함수가 다른 데코레이터로 들어가기 때문에 함수의 `__name__`을 출력하면 wrapper가 나온다.  \n",
    "원래 함수의 이름을 출력하고 싶다면 functools 모듈의 wraps 데코레이터를 사용해야 한다.  \n",
    "@functools.wraps에 func를 넣은 뒤 wrapper 함수 위에 지정해준다."
   ]
  },
  {
   "cell_type": "code",
   "execution_count": 17,
   "metadata": {},
   "outputs": [
    {
     "name": "stdout",
     "output_type": "stream",
     "text": [
      "add의 반환값은 7의 배수가 아닙니다.\n",
      "add의 반환값은 3의 배수입니다.\n"
     ]
    },
    {
     "data": {
      "text/plain": [
       "30"
      ]
     },
     "execution_count": 17,
     "metadata": {},
     "output_type": "execute_result"
    }
   ],
   "source": [
    "import functools\n",
    "\n",
    "def is_multiple(x):\n",
    "    def real_decorator(func):\n",
    "        @functools.wraps(func)   # @functools.wraps에 func를 넣은 뒤 wrapper 함수 위에 지정.\n",
    "        def wrapper(a, b):\n",
    "            r = func(a, b)\n",
    "            if r % x == 0:\n",
    "                print(f'{func.__name__}의 반환값은 {x}의 배수입니다.')\n",
    "            else:\n",
    "                print(f'{func.__name__}의 반환값은 {x}의 배수가 아닙니다.')\n",
    "            return r\n",
    "        return wrapper\n",
    "    return real_decorator\n",
    "\n",
    "@is_multiple(3)\n",
    "@is_multiple(7)\n",
    "def add(a, b):\n",
    "    return a + b\n",
    "\n",
    "add(10, 20)"
   ]
  },
  {
   "cell_type": "markdown",
   "metadata": {},
   "source": [
    "원래 함수의 정보를 유지시켜주기 때문에 디버깅을 할 때 유용.  \n",
    "데코레이터를 만들 때는 @functools.wraps를 사용하는 것이 좋다!"
   ]
  },
  {
   "cell_type": "markdown",
   "metadata": {},
   "source": [
    "### 4. 클래스로 데코레이터 만들기\n",
    "클래스로 데코레이터를 만들어 보자.  \n",
    "클래스를 활용할 때는 인스턴스를 함수처럼 호출하게 해주는 `__call__`메서드를 구현해야 한다.  "
   ]
  },
  {
   "cell_type": "code",
   "execution_count": 18,
   "metadata": {},
   "outputs": [
    {
     "name": "stdout",
     "output_type": "stream",
     "text": [
      "hello 함수 시작\n",
      "hello\n",
      "hello 함수 끝\n"
     ]
    }
   ],
   "source": [
    "# 함수의 시작과 끝을 출력하는 데코레이터\n",
    "class Trace:\n",
    "    def __init__(self, func):\n",
    "        self.func = func\n",
    "        \n",
    "    def __call__(self):\n",
    "        print(self.func.__name__, '함수 시작')\n",
    "        self.func()\n",
    "        print(self.func.__name__, '함수 끝')\n",
    "        \n",
    "@Trace\n",
    "def hello():\n",
    "    print('hello')\n",
    "    \n",
    "hello()"
   ]
  },
  {
   "cell_type": "markdown",
   "metadata": {},
   "source": [
    "1. 먼저 `__init__` 메서드를 만들고 호출할 함수를 초깃값으로 받는다.  \n",
    "2. 그리고 매개변수로 받은 함수를 속성으로 저장.(self.func = func)  \n",
    "3. 그리고 인스턴스를 호출할 수 있도록 `__call__`메서드를 만든다.  \n",
    "    - `__call__`메서드에서는 함수의 시작과 끝을 알리는 문자열을 출력\n",
    "    - 그 사이에 속성 func에 저장된 함수를 호출한다.\n",
    "4. 클로져 형태의 데코레이터와 같이 사용한다."
   ]
  },
  {
   "cell_type": "markdown",
   "metadata": {},
   "source": [
    "#### 참고\n",
    "클래스로 만든 데코레이터는 @을 지정하지 않고, 데코레이터의 반환값을 호출하는 방식으로도 사용할 수 있다."
   ]
  },
  {
   "cell_type": "code",
   "execution_count": 19,
   "metadata": {},
   "outputs": [
    {
     "name": "stdout",
     "output_type": "stream",
     "text": [
      "hello 함수 시작\n",
      "hello\n",
      "hello 함수 끝\n"
     ]
    }
   ],
   "source": [
    "def hello():\n",
    "    print('hello')\n",
    "    \n",
    "trace_hello = Trace(hello)   # 데코레이터에 호출할 함수를 넣어서 인스턴스 생성\n",
    "trace_hello()                # 인스턴스를 호출. __call__메서드가 호출됨."
   ]
  },
  {
   "cell_type": "markdown",
   "metadata": {},
   "source": [
    "클래스에 `__call__` 메서드를 정의했으므로 인스턴스를 함수처럼 괄호()를 붙여서 호출할 수 있다."
   ]
  },
  {
   "cell_type": "markdown",
   "metadata": {},
   "source": [
    "### 5. 클래스로 매개변수와 반환값을 처리하는 데코레이터 만들기"
   ]
  },
  {
   "cell_type": "code",
   "execution_count": 21,
   "metadata": {},
   "outputs": [
    {
     "name": "stdout",
     "output_type": "stream",
     "text": [
      "add(args=(10, 20), kwargs={}) -> 30\n",
      "30\n",
      "add(args=(), kwargs={'a': 10, 'b': 20}) -> 30\n",
      "30\n"
     ]
    }
   ],
   "source": [
    "class Trace:\n",
    "    def __init__(self, func):\n",
    "        self.func = func\n",
    "        \n",
    "    def __call__(self, *args, **kwargs):\n",
    "        r = self.func(*args, **kwargs)\n",
    "        print(f'{self.func.__name__}(args={args}, kwargs={kwargs}) -> {r}')\n",
    "        return r\n",
    "\n",
    "@Trace\n",
    "def add(a, b):\n",
    "    return a + b\n",
    "\n",
    "print(add(10, 20))\n",
    "print(add(a=10, b=20))"
   ]
  },
  {
   "cell_type": "markdown",
   "metadata": {},
   "source": [
    "`__call__`메서드에 매개변수를 지정하고, self.func에 매개변수를 넣어서 호출한 뒤 반환값을 반환.  \n",
    "매개변수를 `*args`, `**kwargs`로 지정했으므로 self.func에 넣을 때는 언패킹하여 넣어줌."
   ]
  },
  {
   "cell_type": "markdown",
   "metadata": {},
   "source": [
    "고정된 매개변수를 사용할 때는 `def __call__(self, a, b):`처럼 하면 된다."
   ]
  },
  {
   "cell_type": "markdown",
   "metadata": {},
   "source": [
    "#### 매개변수가 있는 데코레이터 만들기"
   ]
  },
  {
   "cell_type": "code",
   "execution_count": 23,
   "metadata": {},
   "outputs": [
    {
     "name": "stdout",
     "output_type": "stream",
     "text": [
      "add의 반환값은 3의 배수입니다.\n",
      "30\n",
      "add의 반환값은 3의 배수가 아닙니다.\n",
      "7\n"
     ]
    }
   ],
   "source": [
    "class IsMultiple:\n",
    "    def __init__(self, x):\n",
    "        self.x = x\n",
    "        \n",
    "    def __call__(self, func):\n",
    "        def wrapper(a, b):\n",
    "            r = func(a, b)\n",
    "            if r % self.x == 0:\n",
    "                print(f'{func.__name__}의 반환값은 {self.x}의 배수입니다.')\n",
    "            else:\n",
    "                print(f'{func.__name__}의 반환값은 {self.x}의 배수가 아닙니다.')\n",
    "            return r\n",
    "        return wrapper\n",
    "    \n",
    "@IsMultiple(3)\n",
    "def add(a, b):\n",
    "    return a + b\n",
    "\n",
    "print(add(10, 20))\n",
    "print(add(2, 5))"
   ]
  },
  {
   "cell_type": "markdown",
   "metadata": {},
   "source": [
    "1. `__init__`메서드에서 데코레이터가 사용할 매개변수를 초깃값으로 받음\n",
    "    - 매개변수를 `__call__`메서드에서 사용할 수 있도록 속성에 저장\n",
    "    - 이전에는 매개변수로 호출할 함수를 인자로 받았었다!!\n",
    "2. `__call__` 메서드에서 호출할 함수를 매개변수로 받음.\n",
    "3. `__call__` 메서드 안에서 wrapper함수를 만들어준다.\n",
    "    - wrapper 함수의 매개변수는 호출할 함수의 매개변수와 똑같이.(가변인수도 가능)"
   ]
  },
  {
   "cell_type": "markdown",
   "metadata": {},
   "source": [
    "#### 정리\n",
    "데코레이터는 기존 함수를 수정하지 않으면서 추가 기능을 구현할 때 사용!  \n",
    "디버깅, 함수 성능 측정, 함수 실행 전에 데이터 확인 등에 활용된다."
   ]
  },
  {
   "cell_type": "markdown",
   "metadata": {},
   "source": [
    "#### 문제 1. 데코레이터로 매개변수의 자료형 검사하기"
   ]
  },
  {
   "cell_type": "code",
   "execution_count": 24,
   "metadata": {},
   "outputs": [
    {
     "name": "stdout",
     "output_type": "stream",
     "text": [
      "30\n"
     ]
    },
    {
     "ename": "RuntimeError",
     "evalue": "자료형이 올바르지 않습니다.",
     "output_type": "error",
     "traceback": [
      "\u001b[1;31m---------------------------------------------------------------------------\u001b[0m",
      "\u001b[1;31mRuntimeError\u001b[0m                              Traceback (most recent call last)",
      "\u001b[1;32m<ipython-input-24-3642d4a4b6a7>\u001b[0m in \u001b[0;36m<module>\u001b[1;34m\u001b[0m\n\u001b[0;32m     15\u001b[0m \u001b[1;33m\u001b[0m\u001b[0m\n\u001b[0;32m     16\u001b[0m \u001b[0mprint\u001b[0m\u001b[1;33m(\u001b[0m\u001b[0madd\u001b[0m\u001b[1;33m(\u001b[0m\u001b[1;36m10\u001b[0m\u001b[1;33m,\u001b[0m \u001b[1;36m20\u001b[0m\u001b[1;33m)\u001b[0m\u001b[1;33m)\u001b[0m\u001b[1;33m\u001b[0m\u001b[1;33m\u001b[0m\u001b[0m\n\u001b[1;32m---> 17\u001b[1;33m \u001b[0mprint\u001b[0m\u001b[1;33m(\u001b[0m\u001b[0madd\u001b[0m\u001b[1;33m(\u001b[0m\u001b[1;34m'hello'\u001b[0m\u001b[1;33m,\u001b[0m \u001b[1;34m'world'\u001b[0m\u001b[1;33m)\u001b[0m\u001b[1;33m)\u001b[0m\u001b[1;33m\u001b[0m\u001b[1;33m\u001b[0m\u001b[0m\n\u001b[0m",
      "\u001b[1;32m<ipython-input-24-3642d4a4b6a7>\u001b[0m in \u001b[0;36mwrapper\u001b[1;34m(a, b)\u001b[0m\n\u001b[0;32m      6\u001b[0m                 \u001b[1;32mreturn\u001b[0m \u001b[0mr\u001b[0m\u001b[1;33m\u001b[0m\u001b[1;33m\u001b[0m\u001b[0m\n\u001b[0;32m      7\u001b[0m             \u001b[1;32melse\u001b[0m\u001b[1;33m:\u001b[0m\u001b[1;33m\u001b[0m\u001b[1;33m\u001b[0m\u001b[0m\n\u001b[1;32m----> 8\u001b[1;33m                 \u001b[1;32mraise\u001b[0m \u001b[0mRuntimeError\u001b[0m\u001b[1;33m(\u001b[0m\u001b[1;34m'자료형이 올바르지 않습니다.'\u001b[0m\u001b[1;33m)\u001b[0m\u001b[1;33m\u001b[0m\u001b[1;33m\u001b[0m\u001b[0m\n\u001b[0m\u001b[0;32m      9\u001b[0m         \u001b[1;32mreturn\u001b[0m \u001b[0mwrapper\u001b[0m\u001b[1;33m\u001b[0m\u001b[1;33m\u001b[0m\u001b[0m\n\u001b[0;32m     10\u001b[0m     \u001b[1;32mreturn\u001b[0m \u001b[0mreal_decorator\u001b[0m\u001b[1;33m\u001b[0m\u001b[1;33m\u001b[0m\u001b[0m\n",
      "\u001b[1;31mRuntimeError\u001b[0m: 자료형이 올바르지 않습니다."
     ]
    }
   ],
   "source": [
    "def type_check(type1, type2):\n",
    "    def real_decorator(func):\n",
    "        def wrapper(a, b):\n",
    "            if type(a)==type1 and type(b)==type2:\n",
    "                r = func(a, b)\n",
    "                return r\n",
    "            else:\n",
    "                raise RuntimeError('자료형이 올바르지 않습니다.')\n",
    "        return wrapper\n",
    "    return real_decorator\n",
    "\n",
    "@type_check(int, int)\n",
    "def add(a, b):\n",
    "    return a + b\n",
    "\n",
    "print(add(10, 20))\n",
    "print(add('hello', 'world'))"
   ]
  },
  {
   "cell_type": "markdown",
   "metadata": {},
   "source": [
    "매개변수를 받는 데코레이터는 함수를 삼중으로!!"
   ]
  },
  {
   "cell_type": "markdown",
   "metadata": {},
   "source": [
    "#### 문제 2. HTML 태그 데코레이터 만들기\n",
    "표준 입력으로 HTML 태그 이름 두 개가 입력. 함수의 반환값을 HTML 태그로 감싸는 데코레이터를 만들어보자.."
   ]
  },
  {
   "cell_type": "code",
   "execution_count": 26,
   "metadata": {},
   "outputs": [
    {
     "name": "stdout",
     "output_type": "stream",
     "text": [
      "b i\n",
      "<b><i>Hello, world!</i></b>\n"
     ]
    }
   ],
   "source": [
    "def html_tag(tag_name):\n",
    "    def real_decorator(func):\n",
    "        def wrapper():\n",
    "            r = f'<{tag_name}>{func()}</{tag_name}>'\n",
    "            return r\n",
    "        return wrapper\n",
    "    return real_decorator\n",
    "\n",
    "a, b = input().split()\n",
    "\n",
    "@html_tag(a)\n",
    "@html_tag(b)\n",
    "def hello():\n",
    "    return 'Hello, world!'\n",
    "\n",
    "print(hello())"
   ]
  },
  {
   "cell_type": "markdown",
   "metadata": {},
   "source": [
    "데코레이터는 이해 좀 된듯..."
   ]
  },
  {
   "cell_type": "code",
   "execution_count": null,
   "metadata": {},
   "outputs": [],
   "source": []
  }
 ],
 "metadata": {
  "kernelspec": {
   "display_name": "Python 3",
   "language": "python",
   "name": "python3"
  },
  "language_info": {
   "codemirror_mode": {
    "name": "ipython",
    "version": 3
   },
   "file_extension": ".py",
   "mimetype": "text/x-python",
   "name": "python",
   "nbconvert_exporter": "python",
   "pygments_lexer": "ipython3",
   "version": "3.7.4"
  }
 },
 "nbformat": 4,
 "nbformat_minor": 2
}
