{
 "cells": [
  {
   "cell_type": "markdown",
   "metadata": {},
   "source": [
    "## functools.partial\n",
    "하나 이상의 인수가 이미 채워진 함수의 새 버전을 만들기 위해 사용된다.    \n",
    "함수의 새 버전은 그 자체를 기술 하고 있다.  "
   ]
  },
  {
   "cell_type": "markdown",
   "metadata": {},
   "source": [
    "지수를 명시적으로 수행하는 함수를 만들 때. (내장된 pow () 함수와 비슷)"
   ]
  },
  {
   "cell_type": "code",
   "execution_count": 1,
   "metadata": {
    "collapsed": true
   },
   "outputs": [],
   "source": [
    "def power(base, exponent):\n",
    "    return base ** exponent"
   ]
  },
  {
   "cell_type": "markdown",
   "metadata": {},
   "source": [
    "정해진 지수 2와 3을 갖는 square 및 cube 함수를 원한다면 다음과 같이 할 수 있다."
   ]
  },
  {
   "cell_type": "code",
   "execution_count": 2,
   "metadata": {
    "collapsed": true
   },
   "outputs": [],
   "source": [
    "def square(base):\n",
    "    return power(base, 2)\n",
    "\n",
    "def cube(base):\n",
    "    return power(base, 3)"
   ]
  },
  {
   "cell_type": "markdown",
   "metadata": {},
   "source": [
    "이 방법도 좋지만 power() 함수의 변형을 수십~수백개 만들기 위해서는?? 반복작업을 하지 않기 위해 partials를 사용한다.  \n",
    "위 함수를 다시 작성해보면"
   ]
  },
  {
   "cell_type": "code",
   "execution_count": 5,
   "metadata": {},
   "outputs": [],
   "source": [
    "from functools import partial\n",
    "\n",
    "square = partial(power, exponent=2)\n",
    "cube = partial(power, exponent=3)\n",
    "\n",
    "def test_partials():\n",
    "    assert square(2) == 4\n",
    "    assert cube(2) == 8\n",
    "    \n",
    "test_partials()"
   ]
  },
  {
   "cell_type": "markdown",
   "metadata": {},
   "source": [
    "이 부분함수에 대한 속성은 아래와 같이 기술 할 수 있다."
   ]
  },
  {
   "cell_type": "code",
   "execution_count": 6,
   "metadata": {
    "collapsed": true
   },
   "outputs": [],
   "source": [
    "def test_partial_docs():\n",
    "    assert square.keywords == {\"exponent\": 2}\n",
    "    assert square.func == power\n",
    "\n",
    "    assert cube.keywords == {\"exponent\": 3}\n",
    "    assert cube.func == power"
   ]
  },
  {
   "cell_type": "markdown",
   "metadata": {},
   "source": [
    "출처: https://hamait.tistory.com/823 [HAMA 블로그]"
   ]
  },
  {
   "cell_type": "markdown",
   "metadata": {},
   "source": [
    "### lambda를 사용할 때 문제점\n",
    "람다는 사용될 때 비로소 코드가 생성되는 lazy evaluation이기 때문에, 다음과 같은 코드 작성시 문제가 발생한다."
   ]
  },
  {
   "cell_type": "code",
   "execution_count": 7,
   "metadata": {},
   "outputs": [
    {
     "name": "stdout",
     "output_type": "stream",
     "text": [
      "4\n",
      "4\n",
      "4\n",
      "4\n",
      "4\n"
     ]
    }
   ],
   "source": [
    "funcs = []\n",
    "for i in range(5):\n",
    "    funcs.append(lambda : print(i))\n",
    "\n",
    "for f in funcs:\n",
    "    f()"
   ]
  },
  {
   "cell_type": "markdown",
   "metadata": {},
   "source": [
    "이 문제를 partial을 이용해서 해결."
   ]
  },
  {
   "cell_type": "code",
   "execution_count": 8,
   "metadata": {},
   "outputs": [
    {
     "name": "stdout",
     "output_type": "stream",
     "text": [
      "0\n",
      "1\n",
      "2\n",
      "3\n",
      "4\n"
     ]
    }
   ],
   "source": [
    "from functools import partial\n",
    "funcs = []\n",
    "for i in range(5):\n",
    "    funcs.append(partial(print, i))\n",
    "\n",
    "for f in funcs:\n",
    "    f()"
   ]
  },
  {
   "cell_type": "code",
   "execution_count": null,
   "metadata": {
    "collapsed": true
   },
   "outputs": [],
   "source": []
  }
 ],
 "metadata": {
  "kernelspec": {
   "display_name": "Python 3",
   "language": "python",
   "name": "python3"
  },
  "language_info": {
   "codemirror_mode": {
    "name": "ipython",
    "version": 3
   },
   "file_extension": ".py",
   "mimetype": "text/x-python",
   "name": "python",
   "nbconvert_exporter": "python",
   "pygments_lexer": "ipython3",
   "version": "3.6.3"
  }
 },
 "nbformat": 4,
 "nbformat_minor": 2
}
