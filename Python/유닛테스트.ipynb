{
 "cells": [
  {
   "cell_type": "markdown",
   "metadata": {},
   "source": [
    "https://wikidocs.net/16107 내용 정리. 단위테스트(unit test)"
   ]
  },
  {
   "cell_type": "markdown",
   "metadata": {},
   "source": [
    "## 1. 테스트와 단위 테스트"
   ]
  },
  {
   "cell_type": "markdown",
   "metadata": {},
   "source": [
    "- 테스트: 소프트웨어가 요구사항에 의해 개발된 산출물이 요구사항과 부합하는지 여부를 검증하기 위한 작업\n",
    "- 단위테스트: 모듈 또는 응용 프로그램 내의 개별 코드 단위가 예상대로 작동하는지 확인하는 반복 가능한 활동"
   ]
  },
  {
   "cell_type": "markdown",
   "metadata": {},
   "source": [
    "### unittest"
   ]
  },
  {
   "cell_type": "markdown",
   "metadata": {},
   "source": [
    "- Python에 포함된 다양한 테스트를 자동화할 수 있는 기능이 포함되어 있는 표준 라이브러리\n",
    "- 주요 개념\n",
    "    - **TestCase**: unittest 프레임 워크의 테스트 조직의 기본 단위\n",
    "    - **Fixture**:\n",
    "        - 테스트함수의 전 또는 후에 실행\n",
    "        - 테스트가 실행되기 전에 테스트 환경이 예상 된 상태에 있는지 확인하는 데 사용\n",
    "        - 테스트 전에 데이터베이스 테이블을 만들거나 테스트 후에 사용한 리소스를 정리하는데 사용\n",
    "    - **assertion**:\n",
    "        - unittest가 테스트가 통과하는지 또는 실패 하는지를 결정.\n",
    "        - bool test, 객체의 적합성, 적절한 예외 발생 등 다양한 점검을 할 수 있다.\n",
    "        - assertion이 실패하면 테스트 함수가 실패\n",
    "       "
   ]
  },
  {
   "cell_type": "markdown",
   "metadata": {},
   "source": [
    "###  unittest 모듈의 사용\n",
    "- test.py에 작성\n",
    "- TestCase 작성을 위해 `unittest.TestCase`를 상속한 테스트 클래스를 작성\n",
    "- `test_`라는 이름으로 시작하는 메소드는 모두 테스트 메소드가 된다.\n",
    "- `test_run()`메소드는 단순 실행여부만 판별.\n",
    "- `unittest.main()`코드를 통해 테스트가 수행됨."
   ]
  },
  {
   "cell_type": "code",
   "execution_count": 10,
   "metadata": {},
   "outputs": [
    {
     "name": "stderr",
     "output_type": "stream",
     "text": [
      "E\n",
      "======================================================================\n",
      "ERROR: C:\\Users\\student\\AppData\\Roaming\\jupyter\\runtime\\kernel-61a6dce0-0928-4885-a3ad-affe96585c75 (unittest.loader._FailedTest)\n",
      "----------------------------------------------------------------------\n",
      "AttributeError: module '__main__' has no attribute 'C:\\Users\\student\\AppData\\Roaming\\jupyter\\runtime\\kernel-61a6dce0-0928-4885-a3ad-affe96585c75'\n",
      "\n",
      "----------------------------------------------------------------------\n",
      "Ran 1 test in 0.001s\n",
      "\n",
      "FAILED (errors=1)\n"
     ]
    },
    {
     "ename": "SystemExit",
     "evalue": "True",
     "output_type": "error",
     "traceback": [
      "An exception has occurred, use %tb to see the full traceback.\n",
      "\u001b[1;31mSystemExit\u001b[0m\u001b[1;31m:\u001b[0m True\n"
     ]
    },
    {
     "name": "stderr",
     "output_type": "stream",
     "text": [
      "c:\\users\\student\\appdata\\local\\programs\\python\\python37-32\\lib\\site-packages\\IPython\\core\\interactiveshell.py:3333: UserWarning: To exit: use 'exit', 'quit', or Ctrl-D.\n",
      "  warn(\"To exit: use 'exit', 'quit', or Ctrl-D.\", stacklevel=1)\n"
     ]
    }
   ],
   "source": [
    "import unittest\n",
    "\n",
    "\n",
    "# TestCase를 작성\n",
    "class CustomTests(unittest.TestCase): \n",
    "\n",
    "    def test_runs(self):\n",
    "        \"\"\"단순 실행여부 판별하는 테스트 메소드\"\"\"\n",
    "\n",
    "        custom_function()\n",
    "\n",
    "\n",
    "# unittest를 실행\n",
    "if __name__ == '__main__':  \n",
    "    unittest.main()"
   ]
  },
  {
   "cell_type": "markdown",
   "metadata": {},
   "source": [
    "터미널에서 python test.py로 실행.. 노트북 상에선 안된다."
   ]
  },
  {
   "cell_type": "markdown",
   "metadata": {},
   "source": [
    "custom_function()을 작성하지 않았으므로 실패."
   ]
  },
  {
   "cell_type": "code",
   "execution_count": 7,
   "metadata": {},
   "outputs": [],
   "source": [
    "def custom_function():\n",
    "    pass\n"
   ]
  },
  {
   "cell_type": "markdown",
   "metadata": {},
   "source": [
    "그냥 정의만 해놓고 다시 실행해보면, 성공.."
   ]
  },
  {
   "cell_type": "markdown",
   "metadata": {},
   "source": [
    "- 파일하나 작성 후 해당 파일을 검사하는 테스트 추가.\n",
    "- `setUp()`: Fixture. 테스트 전에 수행됨.\n",
    "- `tearDown()`: Fixture. 테스트 후에 수행\n",
    "- `setUp()`에서 파일을 생성하고, `tearDown()`에서 파일 삭제\n",
    "- `custom_function()`함수는 `file_name`을 인수로 받아 파일의 라인을 합산해서 리턴.\n",
    "- `self.assertEqual(custom_function(self.file_name), 3) 구문은 `custom_function(file_name)`을 수행하고 결과가 3이면 테스트를 통과."
   ]
  },
  {
   "cell_type": "code",
   "execution_count": null,
   "metadata": {},
   "outputs": [],
   "source": [
    "import unittest\n",
    "import os\n",
    "\n",
    "def custom_function(file_name):\n",
    "    with open(file_name, 'rt') as f:\n",
    "        return sum(1 for _ in f)\n",
    "    \n",
    "# TestCase 작성\n",
    "class CustomTests(unittest.TestCase):\n",
    "    \n",
    "    def setUp(self):\n",
    "        \"\"\"테스트 시작되기 전 파일 작성\"\"\"\n",
    "        self.file_name = 'test_file.txt'\n",
    "        with open(self.file_name, 'wt') as f:\n",
    "            f.write(\"\"\"\n",
    "            파이썬에는 정말 단위테스트 모듈이 기본으로 포함되어 있나요? 진짜?\n",
    "            멋지군요!\n",
    "            단위테스트를 잘 수행해보고 싶습니다.\n",
    "            \"\"\".strip())\n",
    "            \n",
    "    def tearDown(self):\n",
    "        \"\"\"테스트 종료 후 파일 삭제\"\"\"\n",
    "        try:\n",
    "            os.remove(self.file_name)\n",
    "        except:\n",
    "            pass\n",
    "        \n",
    "    def test_runs(self):\n",
    "        \"\"\"단순 실행여부 판별 테스트\"\"\"\n",
    "        custom_function(self.file_name)\n",
    "        \n",
    "    def test_line_count(self):\n",
    "        self.assertEqual(custom_function(self.file_name), 3)\n",
    "        \n",
    "# unittest 실행\n",
    "if __name__ == '__main__':\n",
    "    unittest.main()"
   ]
  },
  {
   "cell_type": "markdown",
   "metadata": {},
   "source": [
    "해보면 잘 됨.. 에러를 발생시켜 의도한 에러가 발생하는지 보자..  \n",
    "다음 test메소드 추가..  \n",
    "에러를 확인하는 테스트는 `assertRaises()`메소드를 사용하며 with문으로 감싸면서 내부의 코드가 에러가 발생하는 지 확인"
   ]
  },
  {
   "cell_type": "code",
   "execution_count": null,
   "metadata": {},
   "outputs": [],
   "source": [
    "class CustomTests(unittest.TestCase):\n",
    "    \n",
    "    def test_no_file(self):\n",
    "        with self.assertRaises(IOError):\n",
    "            custom_function(self.file_name)"
   ]
  },
  {
   "cell_type": "markdown",
   "metadata": {},
   "source": [
    "이 테스트는 에러가 발생해야 성공함.. 의도한 에러가 나는지 확인하는 테스트..  \n",
    "self.file_name대신 없는 파일명('abc.txt')를 넣어주면 에러 발생해서 테스트 모두 통과.."
   ]
  },
  {
   "cell_type": "markdown",
   "metadata": {},
   "source": [
    "### unittest의 assert메소드 리스트"
   ]
  },
  {
   "cell_type": "markdown",
   "metadata": {},
   "source": [
    "```\n",
    "Method                                         Checks that\n",
    "assertEqual(a, b)                                a == b\n",
    "assertNotEqual(a, b)                             a != b\n",
    "assertTrue(x)                                    bool(x) is True\n",
    "assertFalse(x)                                   bool(x) is False\n",
    "assertIs(a, b)                                   a is b\n",
    "assertIsNot(a, b)                                a is not b\n",
    "assertIsNone(x)                                  x is None\n",
    "assertIsNotNone(x)                               x is not None\n",
    "assertIn(a, b)                                   a in b\n",
    "assertNotIn(a, b)                                a not in b\n",
    "assertIsInstance(a, b)                           isinstance(a, b)\n",
    "assertNotIsInstance(a, b)                        not isinstance(a, b)\n",
    "assertRaises(exc, fun, *args, **kwds)            fun(*args, **kwds) raises exc\n",
    "assertRaisesRegex(exc, r, fun, *args, **kwds)    fun(*args, **kwds) raises exc and the message matches regex r\n",
    "assertWarns(warn, fun, *args, **kwds)            fun(*args, **kwds) raises warn\n",
    "assertWarnsRegex(warn, r, fun, *args, **kwds)    fun(*args, **kwds) raises warn and the message matches regex r\n",
    "assertLogs(logger, level)                        The with block logs on logger with minimum level\n",
    "\n",
    "등등....\n",
    "```"
   ]
  }
 ],
 "metadata": {
  "kernelspec": {
   "display_name": "Python 3",
   "language": "python",
   "name": "python3"
  },
  "language_info": {
   "codemirror_mode": {
    "name": "ipython",
    "version": 3
   },
   "file_extension": ".py",
   "mimetype": "text/x-python",
   "name": "python",
   "nbconvert_exporter": "python",
   "pygments_lexer": "ipython3",
   "version": "3.7.4"
  }
 },
 "nbformat": 4,
 "nbformat_minor": 2
}
