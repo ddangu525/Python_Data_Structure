{
 "cells": [
  {
   "cell_type": "markdown",
   "metadata": {},
   "source": [
    "## 1. 1197 최소 스패닝 트리\n",
    "#### 문제\n",
    "그래프가 주어졌을 때, 그 그래프의 최소 스패닝 트리를 구하는 프로그램을 작성하시오.  \n",
    "  \n",
    "최소 스패닝 트리는, 주어진 그래프의 모든 정점들을 연결하는 부분 그래프 중에서 그 가중치의 합이 최소인 트리를 말한다.  \n",
    "  \n",
    "#### 입력\n",
    "첫째 줄에 정점의 개수 V(1 ≤ V ≤ 10,000)와 간선의 개수 E(1 ≤ E ≤ 100,000)가 주어진다.  \n",
    "다음 E개의 줄에는 각 간선에 대한 정보를 나타내는 세 정수 A, B, C가 주어진다.  \n",
    "이는 A번 정점과 B번 정점이 가중치 C인 간선으로 연결되어 있다는 의미이다. C는 음수일 수도 있으며, 절댓값이 1,000,000을 넘지 않는다.  \n",
    "  \n",
    "최소 스패닝 트리의 가중치가 -2147483648보다 크거나 같고, 2147483647보다 작거나 같은 데이터만 입력으로 주어진다.  \n",
    "#### 출력\n",
    "첫째 줄에 최소 스패닝 트리의 가중치를 출력한다.  \n",
    "  \n",
    "#### 예제 입력 1\n",
    "```\n",
    "3 3\n",
    "1 2 1\n",
    "2 3 2\n",
    "1 3 3\n",
    "```\n",
    "#### 예제 출력 1 \n",
    "```\n",
    "3\n",
    "```"
   ]
  },
  {
   "cell_type": "markdown",
   "metadata": {},
   "source": [
    "#### ------------------------------------------------------------------------------------------------------------------------------------------------------------------------"
   ]
  },
  {
   "cell_type": "markdown",
   "metadata": {},
   "source": [
    "### 1-1 크루스칼(Kruskal) 알고리즘 이용 풀이\n",
    "**사이클을 만들지 않는 가장 가중치가 작은 edge를 추가해가기**\n",
    "1. 간선을 가중치 기준으로 정렬\n",
    "2. 작은 간선부터 보면서 사이클을 만들지 않으면 Spanning Tree에 추가."
   ]
  },
  {
   "cell_type": "code",
   "execution_count": 3,
   "metadata": {},
   "outputs": [
    {
     "name": "stdout",
     "output_type": "stream",
     "text": [
      "3 3\n",
      "1 2 1\n",
      "2 3 2\n",
      "1 3 3\n",
      "3\n"
     ]
    }
   ],
   "source": [
    "def find(u):\n",
    "    if u != p[u]:\n",
    "        p[u] = find(p[u])\n",
    "    return p[u]\n",
    "\n",
    "def union(u, v):\n",
    "    r1 = find(u)\n",
    "    r2 = find(v)\n",
    "    if r1 != r2:\n",
    "        p[r2] = r1\n",
    "\n",
    "V, E = map(int, input().split())\n",
    "edges = sorted([tuple(map(int, input().split())) for _ in range(E)], key=lambda x: x[2])\n",
    "p = [*range(V+1)]\n",
    "cost = 0\n",
    "for u, v, c in edges:\n",
    "    if find(u) != find(v):\n",
    "        union(u, v)\n",
    "        cost += c      \n",
    "print(cost) "
   ]
  },
  {
   "cell_type": "markdown",
   "metadata": {},
   "source": [
    "백준은 입력 받을때 sys.stdin.readline으로 해주기..오랜만에 해서 당황했네"
   ]
  },
  {
   "cell_type": "markdown",
   "metadata": {},
   "source": [
    "최종코드.."
   ]
  },
  {
   "cell_type": "code",
   "execution_count": null,
   "metadata": {},
   "outputs": [],
   "source": [
    "import sys\n",
    "input = sys.stdin.readline\n",
    "\n",
    "def find(u):\n",
    "    if u != p[u]:\n",
    "        p[u] = find(p[u])\n",
    "    return p[u]\n",
    "\n",
    "V, E = map(int, input().split())\n",
    "edges = sorted((tuple(map(int, input().split())) for _ in range(E)), key=lambda x: x[2])\n",
    "p = [*range(V+1)]\n",
    "cost = e = 0\n",
    "for u, v, c in edges:\n",
    "    r1, r2 = find(u), find(v)\n",
    "    if r1 != r2:\n",
    "        p[r2] = r1\n",
    "        cost += c\n",
    "        e += 1\n",
    "        if e == V - 1:\n",
    "            break\n",
    "print(cost) "
   ]
  },
  {
   "cell_type": "markdown",
   "metadata": {},
   "source": [
    "### 1-2. 프림(Prim) 알고리즘 이용 풀이\n",
    "**현재의 Spanning Tree에서 가장 가까운 정점을 추가해가기**\n",
    "1. 우선순위 큐에 시작 노드를 넣음\n",
    "2. 인접한 노드를 우선순위 큐에 넣음\n",
    "3. 가장 가까운 노드를 넣고 그 노드의 인접한 애들을 다시 우선순위 큐에 넣음. 반복."
   ]
  },
  {
   "cell_type": "code",
   "execution_count": 6,
   "metadata": {
    "scrolled": true
   },
   "outputs": [
    {
     "name": "stdout",
     "output_type": "stream",
     "text": [
      "5 6\n",
      "1 3 4\n",
      "1 5 3\n",
      "1 4 4\n",
      "4 5 1\n",
      "2 5 9\n",
      "2 3 7\n",
      "15\n"
     ]
    }
   ],
   "source": [
    "# 힙에 추가하기\n",
    "def heappush(node, cost):\n",
    "    heap.append((node, cost))\n",
    "    upheap()\n",
    "\n",
    "# 가장 가까운 노드 반환\n",
    "def heappop():\n",
    "    heap[0], heap[-1] = heap[-1], heap[0]\n",
    "    k = heap.pop()\n",
    "    downheap()\n",
    "    return k\n",
    "\n",
    "# 0번 인덱스부터 내려가면서 힙 속성 회복. \n",
    "# i번 인덱스의 자식은 2 * i + 1, 2 * i + 2\n",
    "def downheap():\n",
    "    n = len(heap)\n",
    "    # 자식이 있는동안\n",
    "    i = 0  # 루트에서 시작.\n",
    "    while 2 * i + 1 < n:\n",
    "        # swap할 인덱스\n",
    "        k = 2 * i + 1\n",
    "        # 오른쪽 자식이 있고 cost가 더 작다면 바꿔줌.\n",
    "        if k + 1 < n and heap[k][1] > heap[k + 1][1]:\n",
    "            k += 1\n",
    "        # 자식노드의 cost가 더 작다면 swap\n",
    "        if heap[i][1] > heap[k][1]:\n",
    "            heap[i], heap[k] = heap[k], heap[i]\n",
    "            i = k\n",
    "        # 아니면 힙속성 만족\n",
    "        else:\n",
    "            break\n",
    "    \n",
    "    \n",
    "# 마지막 원소부터 올라가면서 힙 속성 회복\n",
    "# j번 인덱스의 부모는 (j - 1) // 2\n",
    "def upheap():\n",
    "    i = len(heap) - 1  # 마지막 원소 인덱스\n",
    "    while (i - 1) // 2 >= 0:   # i가 0이 아닌 동안..부모를 찾아가며 비교.\n",
    "        k = (i - 1) // 2  # 부모 노드의 인덱스\n",
    "        # 추가한 노드의 가중치가 부모 노드의 가중치보다 작다면 swap\n",
    "        if heap[i][1] < heap[k][1]:\n",
    "            heap[i], heap[k] = heap[k], heap[i]\n",
    "            i = k\n",
    "        else:\n",
    "            break        \n",
    "    \n",
    "\n",
    "V, E = map(int, input().split())\n",
    "adj_lst = [[] for _ in range(V + 1)]\n",
    "for u, v, c in (map(int, input().split()) for _ in range(E)):\n",
    "    adj_lst[u].append((v, c))\n",
    "    adj_lst[v].append((u, c))\n",
    "visit = [0] * (V + 1)\n",
    "visit[1] = 1\n",
    "heap = []\n",
    "for u, cost in adj_lst[1]:\n",
    "    heappush(u, cost)\n",
    "selected = 1\n",
    "ans = 0\n",
    "while selected < V:    # V개 모두 선택되면 끝.\n",
    "    # 방문하지 않은 노드중에 최소 가중치 선택\n",
    "    nxt, cst = heappop()\n",
    "    while visit[nxt]:\n",
    "        nxt, cst = heappop()\n",
    "    ans += cst\n",
    "    selected += 1\n",
    "    visit[nxt] = 1\n",
    "    for u, cost in adj_lst[nxt]:\n",
    "        if not visit[u]:\n",
    "            heappush(u, cost)\n",
    "print(ans)"
   ]
  },
  {
   "cell_type": "markdown",
   "metadata": {},
   "source": [
    "```\n",
    "5 6\n",
    "1 3 4\n",
    "1 5 3\n",
    "1 4 4\n",
    "4 5 1\n",
    "2 5 9\n",
    "2 3 7\n",
    "```"
   ]
  },
  {
   "cell_type": "markdown",
   "metadata": {},
   "source": [
    "처음에 pop할때 visit여부를 확인하지 않아서 틀렸다.  \n",
    "이거만 고쳐주니 맞았는데 조금 비효율적인듯..?? 원래 크루스칼보다 느린가?  \n",
    "heapsize를 계속 계산해서 그런가..ㅜㅜ"
   ]
  },
  {
   "cell_type": "markdown",
   "metadata": {},
   "source": [
    "Use Prim's algorithm when you have a graph with lots of edges.  \n",
    "  \n",
    "For a graph with V vertices E edges, Kruskal's algorithm runs in O(E log V) time and Prim's algorithm can run in O(E + V log V) amortized time, if you use a Fibonacci Heap.  \n",
    "  \n",
    "Prim's algorithm is significantly faster in the limit when you've got a really dense graph with many more edges than vertices.  \n",
    "Kruskal performs better in typical situations (sparse graphs) because it uses simpler data structures.  "
   ]
  },
  {
   "cell_type": "markdown",
   "metadata": {},
   "source": [
    "## 2. 1916 최소비용 구하기\n",
    "#### 문제\n",
    "N의 도시가 있다. 그리고 한 도시에서 출발하여 다른 도시에 도착하는 M개의 버스가 있다.  \n",
    "우리는 A번째 도시에서 B번째 도시까지 가는데 드는 버스 비용을 최소화 시키려고 한다.  \n",
    "그러면 A번째 도시에서 B번째 도시까지 가는데 드는 최소비용을 출력하여라. 도시의 번호는 1부터 N까지이다.  \n",
    "  \n",
    "#### 입력\n",
    "첫째 줄에 도시의 개수 N(1 ≤ N ≤ 1,000)이 주어지고 둘째 줄에는 버스의 개수 M(1 ≤ M ≤ 100,000)이 주어진다.  \n",
    "그리고 셋째 줄부터 M+2줄까지 다음과 같은 버스의 정보가 주어진다. 먼저 처음에는 그 버스의 출발 도시의 번호가 주어진다.  \n",
    "그리고 그 다음에는 도착지의 도시 번호가 주어지고 또 그 버스 비용이 주어진다. 버스 비용은 0보다 크거나 같고, 100,000보다 작은 정수이다.   \n",
    "그리고 M+3째 줄에는 우리가 구하고자 하는 구간 출발점의 도시번호와 도착점의 도시번호가 주어진다.  \n",
    "출발점에서 도착점을 갈 수 있는 경우만 입력으로 주어진다.  \n",
    "  \n",
    "#### 출력\n",
    "첫째 줄에 출발 도시에서 도착 도시까지 가는데 드는 최소 비용을 출력한다.  \n",
    "  \n",
    "#### 예제 입력 1 \n",
    "```\n",
    "5\n",
    "8\n",
    "1 2 2\n",
    "1 3 3\n",
    "1 4 1\n",
    "1 5 10\n",
    "2 4 2\n",
    "3 4 1\n",
    "3 5 1\n",
    "4 5 3\n",
    "1 5\n",
    "```\n",
    "#### 예제 출력 1 \n",
    "```\n",
    "4\n",
    "```"
   ]
  },
  {
   "cell_type": "markdown",
   "metadata": {},
   "source": [
    "#### ------------------------------------------------------------------------------------------------------------------------------------------------------------------------"
   ]
  },
  {
   "cell_type": "markdown",
   "metadata": {},
   "source": [
    "### 2-1. 다익스트라 알고리즘 이용 풀이\n",
    "D[i]에 출발점으로부터 정점 i까지의 거리(경로의 길이)가 저장.  \n",
    "다익스트라 알고리즘은 입력 그래프의 가중치가 모두 양수인 경우만 가능.  \n",
    "```\n",
    "1. D를 무한대로 초기화. 단 D[s] = 0으로 초기화\n",
    "2. for k in range(N):\n",
    "3.   방문 안된 각 정점 i에 대해 D[i]가 최소인 정점 min_vertex를 찾고, 방문\n",
    "4.   for min_vertex에 인접한 각 정점 w에 대해서:\n",
    "5.     if w가 방문 안된 정점이면:\n",
    "6.       if D[min_vertext] + 간선(min_vertext, w)의 가중치 < D[w]:\n",
    "7.         D[w] = D[min_vertex] + 간선 (min_vertex, w)의 가중치   # 간선완화\n",
    "8.         previous[w] = min_vertex\n",
    "```"
   ]
  },
  {
   "cell_type": "markdown",
   "metadata": {},
   "source": [
    "시작정점만 0으로 초기화 해주고 인접한 정점 i에 대해 D[i]가 갱신되는 경우만 우선순위 큐에 추가해준다."
   ]
  },
  {
   "cell_type": "code",
   "execution_count": 20,
   "metadata": {
    "scrolled": true
   },
   "outputs": [
    {
     "name": "stdout",
     "output_type": "stream",
     "text": [
      "5\n",
      "8\n",
      "1 2 2\n",
      "1 3 3\n",
      "1 4 1\n",
      "1 5 10\n",
      "2 4 2\n",
      "3 4 1\n",
      "3 5 1\n",
      "4 5 3\n",
      "1 5\n",
      "1 -> 4 -> 5\n",
      "4\n"
     ]
    }
   ],
   "source": [
    "# 힙에 추가하기\n",
    "def heappush(node, cost):\n",
    "    heap.append((node, cost))\n",
    "    upheap()\n",
    "\n",
    "# 가장 가까운 노드 반환\n",
    "def heappop():\n",
    "    heap[0], heap[-1] = heap[-1], heap[0]\n",
    "    k = heap.pop()\n",
    "    downheap()\n",
    "    return k\n",
    "\n",
    "# 0번 인덱스부터 내려가면서 힙 속성 회복. \n",
    "# i번 인덱스의 자식은 2 * i + 1, 2 * i + 2\n",
    "def downheap():\n",
    "    n = len(heap)\n",
    "    # 자식이 있는동안\n",
    "    i = 0  # 루트에서 시작.\n",
    "    while 2 * i + 1 < n:\n",
    "        # swap할 인덱스\n",
    "        k = 2 * i + 1\n",
    "        # 오른쪽 자식이 있고 cost가 더 작다면 바꿔줌.\n",
    "        if k + 1 < n and heap[k][1] > heap[k + 1][1]:\n",
    "            k += 1\n",
    "        # 자식노드의 cost가 더 작다면 swap\n",
    "        if heap[i][1] > heap[k][1]:\n",
    "            heap[i], heap[k] = heap[k], heap[i]\n",
    "            i = k\n",
    "        # 아니면 힙속성 만족\n",
    "        else:\n",
    "            break\n",
    "    \n",
    "    \n",
    "# 마지막 원소부터 올라가면서 힙 속성 회복\n",
    "# j번 인덱스의 부모는 (j - 1) // 2\n",
    "def upheap():\n",
    "    i = len(heap) - 1  # 마지막 원소 인덱스\n",
    "    while (i - 1) // 2 >= 0:   # i가 0이 아닌 동안..부모를 찾아가며 비교.\n",
    "        k = (i - 1) // 2  # 부모 노드의 인덱스\n",
    "        # 추가한 노드의 가중치가 부모 노드의 가중치보다 작다면 swap\n",
    "        if heap[i][1] < heap[k][1]:\n",
    "            heap[i], heap[k] = heap[k], heap[i]\n",
    "            i = k\n",
    "        else:\n",
    "            break   \n",
    "\n",
    "N = int(input())\n",
    "M = int(input())\n",
    "adj_lst = [[] for _ in range(N + 1)]\n",
    "for u, v, c in (map(int, input().split()) for _ in range(M)):\n",
    "    adj_lst[u].append((v, c))\n",
    "start, end = map(int, input().split())\n",
    "D = [1e9] * (N + 1)\n",
    "prev = [-1] * (N + 1)\n",
    "D[start] = 0\n",
    "heap = [(start, 0)]\n",
    "visit = [0] * (N + 1)\n",
    "while heap:\n",
    "    cur, cst = heappop()\n",
    "    while heap and visit[cur]:\n",
    "        cur, cst = heappop()\n",
    "    if visit[cur]:\n",
    "        break\n",
    "    visit[cur] = 1\n",
    "    for u, c in adj_lst[cur]:\n",
    "        if cst + c < D[u]:\n",
    "            D[u] = cst + c\n",
    "            prev[u] = cur\n",
    "            heappush(u, D[u])\n",
    "t = end\n",
    "a = [t]\n",
    "while prev[t] != -1:\n",
    "    a.append(prev[t])\n",
    "    t = prev[t]\n",
    "print(' -> '.join(map(str, a[::-1])))\n",
    "print(D[end])"
   ]
  },
  {
   "cell_type": "markdown",
   "metadata": {},
   "source": [
    "유향 그래프였다.... 문제 잘 보자."
   ]
  },
  {
   "cell_type": "code",
   "execution_count": null,
   "metadata": {},
   "outputs": [],
   "source": [
    "# 라이브러리 사용 버전.\n",
    "import sys, heapq\n",
    "input = sys.stdin.readline\n",
    "N = int(input())\n",
    "M = int(input())\n",
    "adj_lst = [[] for _ in range(N + 1)]\n",
    "for u, v, c in (map(int, input().split()) for _ in range(M)):\n",
    "    adj_lst[u].append((v, c))\n",
    "start, end = map(int, input().split())\n",
    "D = [1e9] * (N + 1)\n",
    "D[start] = 0\n",
    "heap = [(0, start)]\n",
    "visit = [0] * (N + 1)\n",
    "while heap:\n",
    "    cst, cur = heapq.heappop(heap)\n",
    "    while heap and visit[cur]:\n",
    "        cst, cur = heapq.heappop(heap)\n",
    "    if visit[cur]:\n",
    "        break\n",
    "    visit[cur] = 1\n",
    "    for u, c in adj_lst[cur]:\n",
    "        if cst + c < D[u]:\n",
    "            D[u] = cst + c\n",
    "            heapq.heappush(heap, (D[u], u))\n",
    "print(D[end])"
   ]
  },
  {
   "cell_type": "markdown",
   "metadata": {},
   "source": [
    "## 3. 1753 최단경로\n",
    "#### 문제\n",
    "방향그래프가 주어지면 주어진 시작점에서 다른 모든 정점으로의 최단 경로를 구하는 프로그램을 작성하시오.  \n",
    "단, 모든 간선의 가중치는 10 이하의 자연수이다.  \n",
    "  \n",
    "#### 입력\n",
    "첫째 줄에 정점의 개수 V와 간선의 개수 E가 주어진다.(1≤V≤20,000, 1≤E≤300,000)모든 정점에는 1부터 V까지 번호가 매겨져 있다고 가정한다.   \n",
    "둘째 줄에는 시작 정점의 번호 K(1≤K≤V)가 주어진다.  \n",
    "셋째 줄부터 E개의 줄에 걸쳐 각 간선을 나타내는 세 개의 정수 (u, v, w)가 순서대로 주어진다.  \n",
    "이는 u에서 v로 가는 가중치 w인 간선이 존재한다는 뜻이다. u와 v는 서로 다르며 w는 10 이하의 자연수이다.  \n",
    "서로 다른 두 정점 사이에 여러 개의 간선이 존재할 수도 있음에 유의한다.  \n",
    "  \n",
    "#### 출력\n",
    "첫째 줄부터 V개의 줄에 걸쳐, i번째 줄에 i번 정점으로의 최단 경로의 경로값을 출력한다.  \n",
    "시작점 자신은 0으로 출력하고, 경로가 존재하지 않는 경우에는 INF를 출력하면 된다.  \n",
    "  \n",
    "#### 예제 입력 1 \n",
    "```\n",
    "5 6\n",
    "1\n",
    "5 1 1\n",
    "1 2 2\n",
    "1 3 3\n",
    "2 3 4\n",
    "2 4 5\n",
    "3 4 6\n",
    "```\n",
    "#### 예제 출력 1 \n",
    "```\n",
    "0\n",
    "2\n",
    "3\n",
    "7\n",
    "INF\n",
    "```"
   ]
  },
  {
   "cell_type": "markdown",
   "metadata": {},
   "source": [
    "#### ------------------------------------------------------------------------------------------------------------------------------------------------------------------------"
   ]
  },
  {
   "cell_type": "markdown",
   "metadata": {},
   "source": [
    "얘도 그냥 다익스트라"
   ]
  },
  {
   "cell_type": "code",
   "execution_count": 23,
   "metadata": {},
   "outputs": [
    {
     "name": "stdout",
     "output_type": "stream",
     "text": [
      "5 6\n",
      "1\n",
      "5 1 1\n",
      "1 2 2\n",
      "1 3 3\n",
      "2 3 4\n",
      "2 4 5\n",
      "3 4 6\n",
      "0\n",
      "2\n",
      "3\n",
      "7\n",
      "INF\n"
     ]
    }
   ],
   "source": [
    "import heapq\n",
    "V, E = map(int, input().split())\n",
    "K = int(input())\n",
    "adj_lst = [[] for _ in range(V + 1)]\n",
    "for u, v, w in (map(int, input().split()) for _ in range(E)):\n",
    "    adj_lst[u].append((v, w))\n",
    "D = [1e9] * (V + 1)\n",
    "D[K] = 0\n",
    "heap = [(0, K)]\n",
    "visit = [0] * (V + 1)\n",
    "while heap:\n",
    "    cst, cur = heapq.heappop(heap)\n",
    "    while heap and visit[cur]:\n",
    "        cst, cur = heapq.heappop(heap)\n",
    "    if visit[cur]:\n",
    "        break\n",
    "    visit[cur] = 1\n",
    "    for u, c in adj_lst[cur]:\n",
    "        if cst + c < D[u]:\n",
    "            D[u] = cst + c\n",
    "            heapq.heappush(heap, (D[u], u))\n",
    "print('\\n'.join(map(str, (D[i] if D[i] != 1e9 else 'INF' for i in range(1, V + 1) ))))\n",
    "# for i in range(1, V + 1):\n",
    "#     print(D[i] if D[i] != 1e9 else 'INF')"
   ]
  },
  {
   "cell_type": "markdown",
   "metadata": {},
   "source": [
    "## 4. 1922 네트워크 연결\n",
    "#### 문제\n",
    "도현이는 컴퓨터와 컴퓨터를 모두 연결하는 네트워크를 구축하려 한다.  \n",
    "하지만 아쉽게도 허브가 있지 않아 컴퓨터와 컴퓨터를 직접 연결하여야 한다.  \n",
    "그런데 모두가 자료를 공유하기 위해서는 모든 컴퓨터가 연결이 되어 있어야 한다.  \n",
    "(a와 b가 연결이 되어 있다는 말은 a에서 b로의 경로가 존재한다는 것을 의미한다.  \n",
    "a에서 b를 연결하는 선이 있고, b와 c를 연결하는 선이 있으면 a와 c는 연결이 되어 있다.)  \n",
    "  \n",
    "그런데 이왕이면 컴퓨터를 연결하는 비용을 최소로 하여야 컴퓨터를 연결하는 비용 외에 다른 곳에 돈을 더 쓸 수 있을 것이다.  \n",
    "이제 각 컴퓨터를 연결하는데 필요한 비용이 주어졌을 때 모든 컴퓨터를 연결하는데 필요한 최소비용을 출력하라.  \n",
    "모든 컴퓨터를 연결할 수 없는 경우는 없다.  \n",
    "  \n",
    "#### 입력\n",
    "첫째 줄에 컴퓨터의 수 N (1 ≤ N ≤ 1000)가 주어진다.  \n",
    "  \n",
    "둘째 줄에는 연결할 수 있는 선의 수 M (1 ≤ M ≤ 100,000)가 주어진다.  \n",
    "  \n",
    "셋째 줄부터 M+2번째 줄까지 총 M개의 줄에 각 컴퓨터를 연결하는데 드는 비용이 주어진다.  \n",
    "이 비용의 정보는 세 개의 정수로 주어지는데,  \n",
    "만약에 a b c 가 주어져 있다고 하면 a컴퓨터와 b컴퓨터를 연결하는데 비용이 c (1 ≤ c ≤ 10,000) 만큼 든다는 것을 의미한다.  \n",
    "  \n",
    "#### 출력\n",
    "모든 컴퓨터를 연결하는데 필요한 최소비용을 첫째 줄에 출력한다.  \n",
    "  \n",
    "#### 예제 입력 1 \n",
    "```\n",
    "6\n",
    "9\n",
    "1 2 5\n",
    "1 3 4\n",
    "2 3 2\n",
    "2 4 7\n",
    "3 4 6\n",
    "3 5 11\n",
    "4 5 3\n",
    "4 6 8\n",
    "5 6 8\n",
    "```\n",
    "#### 예제 출력 1 \n",
    "```\n",
    "23\n",
    "```"
   ]
  },
  {
   "cell_type": "markdown",
   "metadata": {},
   "source": [
    "#### ------------------------------------------------------------------------------------------------------------------------------------------------------------------------"
   ]
  },
  {
   "cell_type": "code",
   "execution_count": null,
   "metadata": {},
   "outputs": [],
   "source": []
  }
 ],
 "metadata": {
  "kernelspec": {
   "display_name": "Python 3",
   "language": "python",
   "name": "python3"
  },
  "language_info": {
   "codemirror_mode": {
    "name": "ipython",
    "version": 3
   },
   "file_extension": ".py",
   "mimetype": "text/x-python",
   "name": "python",
   "nbconvert_exporter": "python",
   "pygments_lexer": "ipython3",
   "version": "3.7.4"
  }
 },
 "nbformat": 4,
 "nbformat_minor": 2
}
