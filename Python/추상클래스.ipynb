{
 "cells": [
  {
   "cell_type": "markdown",
   "metadata": {},
   "source": [
    "https://wikidocs.net/16075 내용정리"
   ]
  },
  {
   "cell_type": "markdown",
   "metadata": {},
   "source": [
    "## 1. 추상클래스(abstract class)란?\n",
    "- 미구현 추상메소드를 한 개 이상 가지며, 자식클래스에서 해당 추상 메소드를 반드시 구현하도록 강제\n",
    "- 상속받은 클래스는 추상메소드를 구현하지 않아도, import할 때까지 에러는 발생하지 않으나 객체를 생성할 시 에러가 발생.\n",
    "- 반드시 `abc` 모듈을 import\n",
    "- 추상메소드는 생략하면 기본적인 클래스 기능은 동작하지만, 추상메소드를 추가한 후에는 객체를 생성하면 에러가 발생."
   ]
  },
  {
   "cell_type": "code",
   "execution_count": 1,
   "metadata": {},
   "outputs": [],
   "source": [
    "from abc import *\n",
    "class AbstractClass(metaclass=ABCMeta):\n",
    "    \n",
    "    @abstractmethod\n",
    "    def abs_method(self):\n",
    "        pass"
   ]
  },
  {
   "cell_type": "code",
   "execution_count": 2,
   "metadata": {},
   "outputs": [
    {
     "ename": "TypeError",
     "evalue": "Can't instantiate abstract class AbstractClass with abstract methods abs_method",
     "output_type": "error",
     "traceback": [
      "\u001b[1;31m---------------------------------------------------------------------------\u001b[0m",
      "\u001b[1;31mTypeError\u001b[0m                                 Traceback (most recent call last)",
      "\u001b[1;32m<ipython-input-2-7494db1a076a>\u001b[0m in \u001b[0;36m<module>\u001b[1;34m\u001b[0m\n\u001b[1;32m----> 1\u001b[1;33m \u001b[0ma\u001b[0m \u001b[1;33m=\u001b[0m \u001b[0mAbstractClass\u001b[0m\u001b[1;33m(\u001b[0m\u001b[1;33m)\u001b[0m\u001b[1;33m\u001b[0m\u001b[1;33m\u001b[0m\u001b[0m\n\u001b[0m",
      "\u001b[1;31mTypeError\u001b[0m: Can't instantiate abstract class AbstractClass with abstract methods abs_method"
     ]
    }
   ],
   "source": [
    "a = AbstractClass()"
   ]
  },
  {
   "cell_type": "markdown",
   "metadata": {},
   "source": [
    "## 2. 추상클래스 사용"
   ]
  },
  {
   "cell_type": "code",
   "execution_count": 3,
   "metadata": {},
   "outputs": [],
   "source": [
    "from abc import *\n",
    "\n",
    "class AbstractCountry(metaclass=ABCMeta):\n",
    "    name = '국가명'\n",
    "    population = '인구'\n",
    "    capital = '수도'\n",
    "    \n",
    "    def show(self):\n",
    "        print('국가 클래스의 메소드입니다.')\n",
    "        \n",
    "class Korea(AbstractCountry):\n",
    "    \n",
    "    def __init__(self, name, population, capital):\n",
    "        self.name = name\n",
    "        self.population = population\n",
    "        self.capital = capital\n",
    "        \n",
    "    def show_name(self):\n",
    "        print('국가 이름은 : ', self.name)"
   ]
  },
  {
   "cell_type": "markdown",
   "metadata": {},
   "source": [
    "- 아직 추상메소드를 작성하지 않았다.\n",
    "- 추상클래스라할지라도 기본적인 클래스 기능은 동작한다.(추상메소드를 작성하지 않았기 때문)\n",
    "- 상속한 객체도 생성 된다."
   ]
  },
  {
   "cell_type": "code",
   "execution_count": 4,
   "metadata": {},
   "outputs": [
    {
     "name": "stdout",
     "output_type": "stream",
     "text": [
      "국가 클래스의 메소드입니다.\n"
     ]
    }
   ],
   "source": [
    "a = AbstractCountry()\n",
    "a.show()"
   ]
  },
  {
   "cell_type": "code",
   "execution_count": 5,
   "metadata": {},
   "outputs": [
    {
     "name": "stdout",
     "output_type": "stream",
     "text": [
      "국가 이름은 :  대한민국\n"
     ]
    }
   ],
   "source": [
    "b = Korea(\"대한민국\", 50000000, '서울')\n",
    "b.show_name()"
   ]
  },
  {
   "cell_type": "markdown",
   "metadata": {},
   "source": [
    "- 추상메소드를 추가해보자."
   ]
  },
  {
   "cell_type": "code",
   "execution_count": 6,
   "metadata": {},
   "outputs": [],
   "source": [
    "from abc import *\n",
    "\n",
    "class AbstractCountry(metaclass=ABCMeta):\n",
    "    name = '국가명'\n",
    "    population = '인구'\n",
    "    capital = '수도'\n",
    "    \n",
    "    def show(self):\n",
    "        print('국가 클래스의 메소드입니다.')\n",
    "        \n",
    "    @abstractmethod\n",
    "    def show_capital(self):\n",
    "        print('국가의 수도는?')\n",
    "        \n",
    "class Korea(AbstractCountry):\n",
    "    \n",
    "    def __init__(self, name, population, capital):\n",
    "        self.name = name\n",
    "        self.population = population\n",
    "        self.capital = capital\n",
    "        \n",
    "    def show_name(self):\n",
    "        print('국가 이름은 : ', self.name)"
   ]
  },
  {
   "cell_type": "markdown",
   "metadata": {},
   "source": [
    "- 이제는 `Korea` 클래스 객체 생성해보면 에러 발생."
   ]
  },
  {
   "cell_type": "code",
   "execution_count": 7,
   "metadata": {},
   "outputs": [
    {
     "ename": "TypeError",
     "evalue": "Can't instantiate abstract class Korea with abstract methods show_capital",
     "output_type": "error",
     "traceback": [
      "\u001b[1;31m---------------------------------------------------------------------------\u001b[0m",
      "\u001b[1;31mTypeError\u001b[0m                                 Traceback (most recent call last)",
      "\u001b[1;32m<ipython-input-7-4e8e9070fc01>\u001b[0m in \u001b[0;36m<module>\u001b[1;34m\u001b[0m\n\u001b[1;32m----> 1\u001b[1;33m \u001b[0ma\u001b[0m \u001b[1;33m=\u001b[0m \u001b[0mKorea\u001b[0m\u001b[1;33m(\u001b[0m\u001b[1;34m\"대한민국\"\u001b[0m\u001b[1;33m,\u001b[0m \u001b[1;36m50000000\u001b[0m\u001b[1;33m,\u001b[0m \u001b[1;34m'서울'\u001b[0m\u001b[1;33m)\u001b[0m\u001b[1;33m\u001b[0m\u001b[1;33m\u001b[0m\u001b[0m\n\u001b[0m",
      "\u001b[1;31mTypeError\u001b[0m: Can't instantiate abstract class Korea with abstract methods show_capital"
     ]
    }
   ],
   "source": [
    "a = Korea(\"대한민국\", 50000000, '서울')"
   ]
  },
  {
   "cell_type": "markdown",
   "metadata": {},
   "source": [
    "`Korea` 클래스에서 상속받은 추상메소드를 구현해야한다."
   ]
  },
  {
   "cell_type": "code",
   "execution_count": 8,
   "metadata": {},
   "outputs": [],
   "source": [
    "from abc import *\n",
    "\n",
    "class AbstractCountry(metaclass=ABCMeta):\n",
    "    name = '국가명'\n",
    "    population = '인구'\n",
    "    capital = '수도'\n",
    "    \n",
    "    def show(self):\n",
    "        print('국가 클래스의 메소드입니다.')\n",
    "        \n",
    "    @abstractmethod\n",
    "    def show_capital(self):\n",
    "        print('국가의 수도는?')\n",
    "        \n",
    "class Korea(AbstractCountry):\n",
    "    \n",
    "    def __init__(self, name, population, capital):\n",
    "        self.name = name\n",
    "        self.population = population\n",
    "        self.capital = capital\n",
    "        \n",
    "    def show_name(self):\n",
    "        print('국가 이름은 : ', self.name)\n",
    "        \n",
    "    def show_capital(self):\n",
    "        super().show_capital()\n",
    "        print(self.capital)"
   ]
  },
  {
   "cell_type": "code",
   "execution_count": 9,
   "metadata": {},
   "outputs": [
    {
     "name": "stdout",
     "output_type": "stream",
     "text": [
      "국가의 수도는?\n",
      "서울\n"
     ]
    }
   ],
   "source": [
    "a = Korea(\"대한민국\", 50000000, '서울')\n",
    "a.show_capital()"
   ]
  },
  {
   "cell_type": "markdown",
   "metadata": {},
   "source": [
    "이제 추상클래스의 객체는 생성할 수 없다."
   ]
  },
  {
   "cell_type": "code",
   "execution_count": 10,
   "metadata": {},
   "outputs": [
    {
     "ename": "TypeError",
     "evalue": "Can't instantiate abstract class AbstractCountry with abstract methods show_capital",
     "output_type": "error",
     "traceback": [
      "\u001b[1;31m---------------------------------------------------------------------------\u001b[0m",
      "\u001b[1;31mTypeError\u001b[0m                                 Traceback (most recent call last)",
      "\u001b[1;32m<ipython-input-10-f464334071a7>\u001b[0m in \u001b[0;36m<module>\u001b[1;34m\u001b[0m\n\u001b[1;32m----> 1\u001b[1;33m \u001b[0ma\u001b[0m \u001b[1;33m=\u001b[0m \u001b[0mAbstractCountry\u001b[0m\u001b[1;33m(\u001b[0m\u001b[1;33m)\u001b[0m\u001b[1;33m\u001b[0m\u001b[1;33m\u001b[0m\u001b[0m\n\u001b[0m",
      "\u001b[1;31mTypeError\u001b[0m: Can't instantiate abstract class AbstractCountry with abstract methods show_capital"
     ]
    }
   ],
   "source": [
    "a = AbstractCountry()"
   ]
  }
 ],
 "metadata": {
  "kernelspec": {
   "display_name": "Python 3",
   "language": "python",
   "name": "python3"
  },
  "language_info": {
   "codemirror_mode": {
    "name": "ipython",
    "version": 3
   },
   "file_extension": ".py",
   "mimetype": "text/x-python",
   "name": "python",
   "nbconvert_exporter": "python",
   "pygments_lexer": "ipython3",
   "version": "3.7.4"
  }
 },
 "nbformat": 4,
 "nbformat_minor": 2
}
