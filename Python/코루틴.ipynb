{
 "cells": [
  {
   "cell_type": "markdown",
   "metadata": {},
   "source": [
    "코딩도장 코루틴 내용 정리"
   ]
  },
  {
   "cell_type": "markdown",
   "metadata": {},
   "source": [
    "## 1. 코루틴에 값 보내기 "
   ]
  },
  {
   "cell_type": "code",
   "execution_count": 5,
   "metadata": {},
   "outputs": [
    {
     "name": "stdout",
     "output_type": "stream",
     "text": [
      "3\n",
      "add 함수\n",
      "calc 함수\n"
     ]
    }
   ],
   "source": [
    "def add(a, b):\n",
    "    c = a + b        # add 함수가 끝나면 변수와 계산식은 사라짐\n",
    "    print(c)\n",
    "    print('add 함수')\n",
    "    \n",
    "def calc():\n",
    "    add(1, 2)          # add 함수가 끝나면 다시 calc 함수로 돌아옴\n",
    "    print('calc 함수')\n",
    "    \n",
    "calc()"
   ]
  },
  {
   "cell_type": "markdown",
   "metadata": {},
   "source": [
    "함수를 호출한 뒤 함수가 끝나면 현재 코드로 다시 돌아온다.   \n",
    "위 코드에서 calc가 메인 루틴(main routine)이면 add는 calc의 서브 루틴(sub routine)이다.  \n",
    "동작 과정을 그림으로 나타내면,  \n",
    "<img src=\"https://dojang.io/pluginfile.php/13976/mod_page/content/3/041001.png\">"
   ]
  },
  {
   "cell_type": "markdown",
   "metadata": {},
   "source": [
    "메인 루틴에서 서브 루틴을 호출하면 서브 루틴의 코드를 실행한 뒤 다시 메인 루틴으로 돌아온다.  \n",
    "특히 서브 루틴이 끝나면 서브 루틴의 내용은 모두 사라진다.  \n",
    "즉 **서브 루틴은 메인 루틴에 종속된 관계**"
   ]
  },
  {
   "cell_type": "markdown",
   "metadata": {},
   "source": [
    "#### 코루틴(Coroutine)\n",
    "코루틴은 Cooperative Routine을 의미하며, 서로 협력하는 루틴이라는 뜻.  \n",
    "즉 메인 루틴과 서브 루틴처럼 종속된 관계가 아니라 서로 대등한 관계이며, 특정 시점에 상대방의 코드를 실행함.  \n",
    "**코루틴의 동작 과정  **\n",
    "<img src=\"https://dojang.io/pluginfile.php/13976/mod_page/content/3/041002.png\">"
   ]
  },
  {
   "cell_type": "markdown",
   "metadata": {},
   "source": [
    "코루틴은 **함수가 종료되지 않은 상태에서 메인 루틴의 코드를 실행**한 뒤 다시 돌아와서 코루틴의 코드를 실행한다.  \n",
    "따라서 코루틴이 종료되지 않았으므로 코루틴의 내용도 계속 유지된다!  \n",
    "일반 함수를 호출하면 코드를 한 번만 실행할 수 있지만, 코루틴은 코드를 여러 번 실행할 수 있다.  \n",
    "함수의 코드를 실행하는 지점을 진입점(Entry Point)라고 하는데, 코루틴은 진입점이 여러 개인 함수.  "
   ]
  },
  {
   "cell_type": "markdown",
   "metadata": {},
   "source": [
    "#### 코루틴이란?\n",
    "코루틴은 **제너레이터(Generator)의 특별한 형태.  **  \n",
    "제너레이터는 yield로 값을 발생시켰지만, **코루틴은 yield로 값을 받아올 수 있다.**  \n",
    "다음과 같이 코루틴에 값을 보내면서 코드를 실행할 때는 send 메서드를 사용.  \n",
    "그리고 send 메서드가 보낸 값을 받아오려면 (yield)형식으로 yield를 괄호로 묶어준 뒤 변수에 저장한다.\n",
    "```\n",
    "코루틴객체.send(값)\n",
    "변수 = (yield)\n",
    "```"
   ]
  },
  {
   "cell_type": "code",
   "execution_count": 23,
   "metadata": {},
   "outputs": [
    {
     "name": "stdout",
     "output_type": "stream",
     "text": [
      "1\n",
      "2\n",
      "3\n"
     ]
    }
   ],
   "source": [
    "def number_coroutine():\n",
    "    while True:      # 코루틴을 계속 유지하기 위해 무한 루프 사용\n",
    "        x = yield  # 코루틴 바깥에서 값을 받아옴, yield를 괄호로 묶어야 함\n",
    "        print(x)\n",
    "        \n",
    "co = number_coroutine()\n",
    "next(co)    # 코루틴 안의 yield까지 코드 실행(최초 실행)\n",
    "\n",
    "co.send(1)\n",
    "co.send(2)\n",
    "co.send(3)"
   ]
  },
  {
   "cell_type": "markdown",
   "metadata": {},
   "source": [
    "괄호로 안해도 되자나......"
   ]
  },
  {
   "cell_type": "markdown",
   "metadata": {},
   "source": [
    "while True:로 무한히 반복하도록 만든다. 코루틴을 종료하지 않고 유지시키기 위해.  \n",
    "x = (yield)와 같이 코루틴 바깥에서 보낸 값을 받아서 x에 저장하고, print로 x값 출력.  \n",
    "코루틴 바깥에서는 co = number_coroutine()과 같이 코루틴 객체를 생성한 뒤 next(co)로 코루틴 안의 코드를 최초로 실행하여 yield까지 코드를 실행함.  \n",
    "co.__next__()를 호출해도 상관없다.  \n",
    "그 다음 co.send로 숫자 1, 2, 3을 보내면 코루틴 안에서 숫자를 받은 뒤 print로 출력한다."
   ]
  },
  {
   "cell_type": "code",
   "execution_count": 4,
   "metadata": {},
   "outputs": [
    {
     "name": "stdout",
     "output_type": "stream",
     "text": [
      "Help on built-in function send:\n",
      "\n",
      "send(...) method of builtins.generator instance\n",
      "    send(arg) -> send 'arg' into generator,\n",
      "    return next yielded value or raise StopIteration.\n",
      "\n"
     ]
    }
   ],
   "source": [
    "help(co.send)"
   ]
  },
  {
   "cell_type": "markdown",
   "metadata": {},
   "source": [
    "#### 코루틴의 동작 과정.  \n",
    "1. 먼저 next(co)로 코루틴의 코드를 최초로 실행하면, x = (yield)의 yield에서 대기하고 다시 메인 루틴으로 돌아옴..  \n",
    "<img src=\"https://dojang.io/pluginfile.php/13976/mod_page/content/3/041003.png\">"
   ]
  },
  {
   "cell_type": "markdown",
   "metadata": {},
   "source": [
    "2. 그 다음에 메인 루틴에서 co.send(1)로 1을 보내면 코루틴은 대기 상태에서 풀리고, x = (yield)의 x = 부분이 실행된 뒤 print(x)로 숫자를 출력함.  \n",
    "이 코루틴은 while True:로 반복하는 구조이므로 다시 x = (yield)의 yield에서 대기함.  그리고 메인루틴으로 돌아옴. 이러한 과정으로 send가 보낸 값을 (yield)가 받게 된다.  \n",
    "\n",
    "<img src=\"https://dojang.io/pluginfile.php/13976/mod_page/content/3/041004.png\">"
   ]
  },
  {
   "cell_type": "markdown",
   "metadata": {},
   "source": [
    "계속 같은 과정으로 send를 사용하여 값을 보내면 코루틴에서 값을 받아서 출력함.  "
   ]
  },
  {
   "cell_type": "markdown",
   "metadata": {},
   "source": [
    "#### 정리\n",
    "next함수(`__next__` 메서드)로 코루틴의 코드를 최초로 실행, send 메서드로 코루틴에 값을 보내면서 대기하고 있떤 코루틴의 코드를 다시 실행함."
   ]
  },
  {
   "cell_type": "markdown",
   "metadata": {},
   "source": [
    "**send로 코루틴의 코드를 최초로 실행하기**  \n",
    "코루틴의 코드를 최초로 실행할 때 next 함수(__next__ 메서드)를 사용했지만, 코루틴객체.send(None)과 같이 send 메서드에 None을 지정해도 코루틴의 코드를 최초로 실행할 수 있다. "
   ]
  },
  {
   "cell_type": "code",
   "execution_count": 1,
   "metadata": {},
   "outputs": [
    {
     "name": "stdout",
     "output_type": "stream",
     "text": [
      "From generator 1\n",
      "From user 2\n",
      "From generator 1\n",
      "From user 3\n",
      "From generator 1\n",
      "From user 4\n",
      "From generator 1\n",
      "From user 5\n",
      "From generator 1\n",
      "From user 6\n",
      "From generator 1\n",
      "From user 7\n",
      "From generator 1\n",
      "From user 8\n",
      "From generator 1\n",
      "From user 9\n",
      "From generator 1\n"
     ]
    }
   ],
   "source": [
    "def coroutine():\n",
    "    for i in range(1, 10):\n",
    "        print(\"From generator {}\".format((yield i)))\n",
    "c = coroutine()\n",
    "c.send(None)\n",
    "try:\n",
    "    while True:\n",
    "        print(\"From user {}\".format(c.send(1)))\n",
    "except StopIteration: pass"
   ]
  },
  {
   "cell_type": "markdown",
   "metadata": {},
   "source": [
    "## 2. 코루틴 바깥으로 값 전달하기"
   ]
  },
  {
   "cell_type": "markdown",
   "metadata": {},
   "source": [
    "(yield 변수) 형식으로 yield에 변수를 지정한 뒤 괄호로 묶어주면 값을 받아오면서 바깥으로 값을 전달한다. 그리고 yield를 사용하여 바깥으로 전달한 값은 next함수와 send 메서드의 반환값으로 나온다.  \n",
    "\n",
    "- 변수 = (yield 변수)\n",
    "- 변수 = next(코루틴객체)\n",
    "- 변수 = 코루틴객체.send(값)"
   ]
  },
  {
   "cell_type": "code",
   "execution_count": 6,
   "metadata": {},
   "outputs": [
    {
     "name": "stdout",
     "output_type": "stream",
     "text": [
      "0\n",
      "1\n",
      "3\n",
      "6\n"
     ]
    }
   ],
   "source": [
    "def sum_coroutine():\n",
    "    total = 0\n",
    "    while True:\n",
    "        x = (yield total)\n",
    "        total += x\n",
    "        \n",
    "co = sum_coroutine()\n",
    "\n",
    "print(next(co))\n",
    "\n",
    "print(co.send(1))\n",
    "print(co.send(2))\n",
    "print(co.send(3))"
   ]
  },
  {
   "cell_type": "markdown",
   "metadata": {},
   "source": [
    "바깥에서 send가 보낸 값은 x에 저장되고, 코루틴 바깥으로 보낼 값은 total이 된다.  \n",
    "즉 출력되는 값이 total이 되는 것.  "
   ]
  },
  {
   "cell_type": "markdown",
   "metadata": {},
   "source": [
    "- 제너레이터와 코루틴의 차이점\n",
    "    - 제너레이터\n",
    "        - next함수(`__next__`메서드)를 반복 호출하여 값을 얻어낸다.\n",
    "    - 코루틴\n",
    "        - next함수를 한 번만 호출할 뒤 send로 값을 주고 받는 방식\n",
    "  \n",
    "next함수만 사용하면 값을 보내지 않으면서 코루틴의 코드를 실행하는데, 이것이 바로 일반적인 제너레이터다.  "
   ]
  },
  {
   "cell_type": "markdown",
   "metadata": {},
   "source": [
    "## 3. 코루틴을 종료하고 예외 처리하기\n",
    "보통 코루틴은 실행 상태를 유지하기 위해 while True:를 사용해서 끝나지 않는 무한 루프로 동작한다.  \n",
    "만약 코루틴을 강제로 종료하고 싶다면 close 메서드를 사용한다.  \n",
    "\n",
    "- 코루틴객체.close()"
   ]
  },
  {
   "cell_type": "code",
   "execution_count": 9,
   "metadata": {},
   "outputs": [
    {
     "name": "stdout",
     "output_type": "stream",
     "text": [
      "0 1 2 3 4 5 6 7 8 9 10 11 12 13 14 15 16 17 18 19 "
     ]
    }
   ],
   "source": [
    "# 코루틴에 숫자를 20개 보낸 뒤 코루틴을 종료\n",
    "def number_coroutine():\n",
    "    while True:\n",
    "        x = (yield)\n",
    "        print(x, end=' ')\n",
    "        \n",
    "co = number_coroutine()\n",
    "next(co)\n",
    "\n",
    "for i in range(20):\n",
    "    co.send(i)\n",
    "    \n",
    "co.close()   # 코루틴 종료"
   ]
  },
  {
   "cell_type": "markdown",
   "metadata": {},
   "source": [
    "파이썬 스크립트가 끝나면 코루틴도 끝나기 때문에 별 차이가 없지만, close는 코루틴의 종료 시점을 알아야 할 때 사용하면 편리하다."
   ]
  },
  {
   "cell_type": "markdown",
   "metadata": {},
   "source": [
    "#### GeneratorExit 예외 처리하기\n",
    "코루틴 객체에서 close 메서드를 호출하면 코루틴이 종료될 때 GeneratorExit 예외가 발생  \n",
    "이 예외를 처리하면 코루틴의 종료 시점을 알 수 있다.  "
   ]
  },
  {
   "cell_type": "code",
   "execution_count": 22,
   "metadata": {},
   "outputs": [
    {
     "name": "stdout",
     "output_type": "stream",
     "text": [
      "0 1 2 3 4 5 6 7 8 9 10 11 12 13 14 15 16 17 18 19 \n",
      "\n",
      "아직 코루틴 종료 전!\n",
      "\n",
      "코루틴 종료\n"
     ]
    }
   ],
   "source": [
    "def number_coroutine():\n",
    "    try:\n",
    "        while True:\n",
    "            x = (yield)\n",
    "            print(x, end=' ')\n",
    "    except GeneratorExit:\n",
    "        print()\n",
    "        print('코루틴 종료')\n",
    "        \n",
    "co = number_coroutine()\n",
    "next(co)\n",
    "\n",
    "for i in range(20):\n",
    "    co.send(i)\n",
    "    \n",
    "print('\\n\\n아직 코루틴 종료 전!')\n",
    "co.close()"
   ]
  },
  {
   "cell_type": "markdown",
   "metadata": {},
   "source": [
    "코루틴 안에서 try except로 GeneratorExit 예외가 발생할 때 원하는 코드를 실행하게 할 수 있다.  "
   ]
  },
  {
   "cell_type": "markdown",
   "metadata": {},
   "source": [
    "#### 코루틴 안에서 예외 발생시키기\n",
    "코루틴 안에 특정 예외를 발생시킬 수 있을까??  \n",
    "코루틴 안에 예외를 발생 시킬 때는 throw메서드를 사용한다.  \n",
    "\n",
    "- 코루틴객체.throw(예외이름, 에러메시지)"
   ]
  },
  {
   "cell_type": "code",
   "execution_count": 20,
   "metadata": {},
   "outputs": [
    {
     "name": "stdout",
     "output_type": "stream",
     "text": [
      "예외로 코루틴 끝내기\n",
      "190\n"
     ]
    }
   ],
   "source": [
    "def sum_coroutine():\n",
    "    try:\n",
    "        total = 0\n",
    "        while True:\n",
    "            x = (yield)\n",
    "            total += x\n",
    "    except RuntimeError as e:\n",
    "        print(e)\n",
    "        yield total\n",
    "        \n",
    "co = sum_coroutine()\n",
    "next(co)\n",
    "\n",
    "for i in range(20):\n",
    "    co.send(i)\n",
    "    \n",
    "print(co.throw(RuntimeError, \"예외로 코루틴 끝내기\")) # 코루틴의 except에서 yield로 전달받은 값."
   ]
  },
  {
   "cell_type": "markdown",
   "metadata": {},
   "source": [
    "except에서 yield를 사용하여 바깥으로 전달한 값은 throw메서드의 반환값으로 나온다."
   ]
  },
  {
   "cell_type": "markdown",
   "metadata": {},
   "source": [
    "#### 4. 하위 코루틴의 반환값 가져오기\n",
    "제너에리터에서 yield from을 사용하면 값을 바깥으로 여러 번 전달한다.  \n",
    "yield from에 코루틴을 지정하면 해당 코루틴에서 return으로 반환한 값을 가져온다.  \n",
    "\n",
    "- 변수 = yield from 코루틴()"
   ]
  },
  {
   "cell_type": "code",
   "execution_count": 24,
   "metadata": {},
   "outputs": [
    {
     "name": "stdout",
     "output_type": "stream",
     "text": [
      "55\n",
      "5050\n"
     ]
    }
   ],
   "source": [
    "def accumulate():\n",
    "    total = 0\n",
    "    while True:\n",
    "        x = (yield)           # 바깥에서 값 받아오기\n",
    "        if x is None:         # 받아온 값이 None이면\n",
    "            return total      # 합계 total 반환\n",
    "        total += x\n",
    "        \n",
    "def sum_coroutine():\n",
    "    while True:\n",
    "        total = yield from accumulate()    # accumulate의 반환값을 가져옴\n",
    "        print(total)\n",
    "        \n",
    "co = sum_coroutine()\n",
    "next(co)\n",
    "\n",
    "for i in range(1, 11):      # 1부터 10까지 반복\n",
    "    co.send(i)              # 코루틴 accumulate에 숫자를 보냄\n",
    "co.send(None)               # 코루틴 accumulate에 None을 보내서 숫자 누적을 끝냄\n",
    "\n",
    "for i in range(1, 101):     \n",
    "    co.send(i)               # 코루틴 accumulate에 숫자를 보냄\n",
    "co.send(None)                # 코루틴 accumulate에 None을 보내서 숫자 누적을 끝냄"
   ]
  },
  {
   "cell_type": "markdown",
   "metadata": {},
   "source": [
    "#### StopIteration 예외 발생시키기\n",
    "코루틴도 제너레이터이므로 return을 사용하면 StopIteration 발생.  \n",
    "그래서 코루틴에서 `return 값`은 `raise StopIteration(값)` 처럼 사용할 수도 있다. (3.6이하)\n",
    "3.7부터는 그냥 `return 값` 을 사용"
   ]
  },
  {
   "cell_type": "markdown",
   "metadata": {},
   "source": [
    "코루틴은 함수가 종료되지 않은 상태에서 값을 주고 받을 수 잇는 함수이며 이 과정에서 현재 코드의 실행을 대기하고 상대방의 코드를 실행한다는 점이 중요하다.  \n",
    "보통 코루틴은 시간이 오래 걸리는 작업을 분할하여 처리할 때 사용하는데 주로 파일 처리, 네트워크 처리 등에 활용된다.  "
   ]
  },
  {
   "cell_type": "markdown",
   "metadata": {},
   "source": [
    "코루틴의 yield from 으로 값을 발생시키기  "
   ]
  },
  {
   "cell_type": "code",
   "execution_count": 26,
   "metadata": {},
   "outputs": [
    {
     "name": "stdout",
     "output_type": "stream",
     "text": [
      "1\n",
      "2\n",
      "print_coroutine:  3\n"
     ]
    }
   ],
   "source": [
    "def number_coroutine():\n",
    "    x = None\n",
    "    while True:\n",
    "        x = yield x    # 코루틴 바깥에서 값을 받아오면서 바깥으로 값을 전달\n",
    "        if x == 3:\n",
    "            return x\n",
    "        \n",
    "def print_coroutine():\n",
    "    while True:\n",
    "        x = yield from number_coroutine() # 하위 코루틴의 yield에 지정된 값을 다시 바깥으로 전달\n",
    "        print('print_coroutine: ', x)\n",
    "        \n",
    "co = print_coroutine()\n",
    "next(co)\n",
    "\n",
    "x = co.send(1)\n",
    "print(x)\n",
    "x = co.send(2)\n",
    "print(x)\n",
    "co.send(3)"
   ]
  },
  {
   "cell_type": "markdown",
   "metadata": {},
   "source": [
    "#### 문자열 검색 코루틴 만들기\n",
    "문자열에서 특정 단어가 있으면 True, 없으면 False가 출력되도록 코루틴 find함수 작성."
   ]
  },
  {
   "cell_type": "code",
   "execution_count": 30,
   "metadata": {},
   "outputs": [
    {
     "name": "stdout",
     "output_type": "stream",
     "text": [
      "True\n",
      "False\n",
      "True\n"
     ]
    }
   ],
   "source": [
    "def find(word):\n",
    "    result = False\n",
    "    while True:\n",
    "        line = (yield result)\n",
    "        result = word in line\n",
    "\n",
    "f = find('Python')\n",
    "next(f)\n",
    "\n",
    "print(f.send('Hello, Python!'))\n",
    "print(f.send('Hello, world!'))\n",
    "print(f.send('Python Script'))"
   ]
  },
  {
   "cell_type": "markdown",
   "metadata": {},
   "source": [
    "#### 사칙연산 코루틴 만들기"
   ]
  },
  {
   "cell_type": "code",
   "execution_count": 2,
   "metadata": {
    "scrolled": true
   },
   "outputs": [
    {
     "name": "stdout",
     "output_type": "stream",
     "text": [
      "3 * 4, 10 / 5, 20 + 39\n",
      "12\n",
      "2.0\n",
      "59\n"
     ]
    }
   ],
   "source": [
    "def calc():\n",
    "    result = None\n",
    "    while True:\n",
    "        expression = (yield result)\n",
    "        a, op, b = expression.split()\n",
    "        if op == '+':\n",
    "            result = int(a) + int(b)\n",
    "        elif op == '-':\n",
    "            result = int(a) - int(b)\n",
    "        elif op == '*':\n",
    "            result = int(a) * int(b)\n",
    "        else:\n",
    "            result = int(a) / int(b)\n",
    "        \n",
    "expressions = input().split(', ')\n",
    "\n",
    "c = calc()\n",
    "next(c)\n",
    "             \n",
    "for e in expressions:\n",
    "    print(c.send(e))\n",
    "\n",
    "c.close()"
   ]
  },
  {
   "cell_type": "markdown",
   "metadata": {},
   "source": [
    "그냥 eval 써도 되지만..."
   ]
  },
  {
   "cell_type": "markdown",
   "metadata": {},
   "source": [
    "#### 데코레이터를 이용하여 코루틴 초기화 자동화"
   ]
  },
  {
   "cell_type": "markdown",
   "metadata": {},
   "source": [
    "코루틴 객체를 생성한 뒤 next를 호출하는 방식 대신 바로 send할 수 있도록.."
   ]
  },
  {
   "cell_type": "code",
   "execution_count": 3,
   "metadata": {
    "scrolled": true
   },
   "outputs": [
    {
     "name": "stdout",
     "output_type": "stream",
     "text": [
      "1\n",
      "3\n",
      "6\n"
     ]
    }
   ],
   "source": [
    "# 코루틴 초기화 데코레이터\n",
    "def coroutine(func):\n",
    "    def init(*args, **kwargs):\n",
    "        co = func(*args, **kwargs)    # 코루틴 객체 생성\n",
    "        next(co)                      # next 호출\n",
    "        return co                     # 코루틴 객체 반환\n",
    "    return init\n",
    "\n",
    "# 코루틴 초기화 데코레이터 지정\n",
    "@coroutine\n",
    "def sum_coroutine():\n",
    "    total = 0\n",
    "    while True:\n",
    "        x = (yield total)\n",
    "        total += x\n",
    "\n",
    "# 코루틴 객체를 생성한 뒤 바로 사용\n",
    "co = sum_coroutine()\n",
    "\n",
    "print(co.send(1))\n",
    "print(co.send(2))\n",
    "print(co.send(3))"
   ]
  },
  {
   "cell_type": "markdown",
   "metadata": {},
   "source": [
    "#### 코루틴의 이점??"
   ]
  },
  {
   "cell_type": "markdown",
   "metadata": {},
   "source": [
    "보통 두 루틴이 동시에 실행되는 멀티태스킹은 하나의 변수에 값을 동시에 쓰면(write) 동기화 문제가 발생.  \n",
    "따라서 크리티컬 섹션, 세마포어, 뮤텍스 등 동기화를 위한 락(lock)이 필요하다.  \n",
    "하지만, 코루틴은 시분할 방식 멀티태스킹이라 동기화를 위한 락이 필요하지 않음."
   ]
  }
 ],
 "metadata": {
  "kernelspec": {
   "display_name": "Python 3",
   "language": "python",
   "name": "python3"
  },
  "language_info": {
   "codemirror_mode": {
    "name": "ipython",
    "version": 3
   },
   "file_extension": ".py",
   "mimetype": "text/x-python",
   "name": "python",
   "nbconvert_exporter": "python",
   "pygments_lexer": "ipython3",
   "version": "3.7.4"
  }
 },
 "nbformat": 4,
 "nbformat_minor": 2
}
