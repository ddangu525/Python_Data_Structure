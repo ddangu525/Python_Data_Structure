{
 "cells": [
  {
   "cell_type": "markdown",
   "metadata": {},
   "source": [
    "### 크롤러: 사람처럼 웹에 접속해서 데이터를 받아오는 프로그램  \n",
    "1. 웹 페이지를 요청하는 라이브러리가 필요. 자바스크립트때문에 실제 보이는것 처럼 HTML을 가져오지 못할수도.. selenium 사용!!  \n",
    "2. 요청 결과를 파이썬에서 사용할 수 있는 타입으로 변환.. bs4 사용!"
   ]
  },
  {
   "cell_type": "markdown",
   "metadata": {},
   "source": [
    "### 요청 모듈\n",
    "**requests**와 **urllib** 두 개. requests를 더 많이 사용."
   ]
  },
  {
   "cell_type": "code",
   "execution_count": 1,
   "metadata": {},
   "outputs": [
    {
     "data": {
      "text/plain": [
       "<Response [200]>"
      ]
     },
     "execution_count": 1,
     "metadata": {},
     "output_type": "execute_result"
    }
   ],
   "source": [
    "import requests as rq\n",
    "\n",
    "url = \"https://pjt3591oo.github.io\"\n",
    "\n",
    "rq.get(url)"
   ]
  },
  {
   "cell_type": "markdown",
   "metadata": {},
   "source": [
    "서버가 클라이언트의 요청을 성공적으로 처리. 웹 페이지에서는 페이지 요청이 정상적으로 완료되면 200 반환.."
   ]
  },
  {
   "cell_type": "code",
   "execution_count": 2,
   "metadata": {},
   "outputs": [
    {
     "data": {
      "text/plain": [
       "<Response [405]>"
      ]
     },
     "execution_count": 2,
     "metadata": {},
     "output_type": "execute_result"
    }
   ],
   "source": [
    "rq.post(url)"
   ]
  },
  {
   "cell_type": "markdown",
   "metadata": {},
   "source": [
    "잘못된 요청 메소드 사용??"
   ]
  },
  {
   "cell_type": "code",
   "execution_count": 3,
   "metadata": {},
   "outputs": [
    {
     "name": "stdout",
     "output_type": "stream",
     "text": [
      "<Response [200]>\n",
      "200\n"
     ]
    }
   ],
   "source": [
    "# 응답 코드 가져오기.\n",
    "res = rq.get(url)\n",
    "print(res)\n",
    "print(res.status_code)"
   ]
  },
  {
   "cell_type": "code",
   "execution_count": 4,
   "metadata": {},
   "outputs": [
    {
     "name": "stdout",
     "output_type": "stream",
     "text": [
      "<Response [404]>\n",
      "404\n"
     ]
    }
   ],
   "source": [
    "# 없는 페이지 응답 코드 확인\n",
    "url = \"https://pjt3591pp.github.io/a\"\n",
    "\n",
    "res = rq.get(url)\n",
    "\n",
    "print(res)\n",
    "print(res.status_code)"
   ]
  },
  {
   "cell_type": "code",
   "execution_count": 5,
   "metadata": {},
   "outputs": [
    {
     "name": "stdout",
     "output_type": "stream",
     "text": [
      "<Response [200]>\n",
      "{'Date': 'Sat, 16 Feb 2019 05:57:39 GMT', 'Content-Type': 'text/html;charset=UTF-8', 'Transfer-Encoding': 'chunked', 'Connection': 'close', 'Cache-Control': 'no-cache', 'Expires': 'Thu, 01 Jan 1970 00:00:00 GMT', 'Set-Cookie': 'JSESSIONID=1EA4621DE499DD564C6E7946FC54A6AC.jvm1; Path=/; HttpOnly', 'P3P': 'CP=\"ALL CURa ADMa DEVa TAIa OUR BUS IND PHY ONL UNI PUR FIN COM NAV INT DEM CNT STA POL HEA PRE LOC OTC\"', 'Access-Control-Allow-Credentials': 'true', 'Access-Control-Allow-Headers': 'accept, content-type', 'Access-Control-Allow-Methods': 'GET, POST', 'Vary': 'Accept-Encoding', 'Content-Encoding': 'gzip', 'Server': 'nxfps', 'Referrer-policy': 'unsafe-url'}\n"
     ]
    }
   ],
   "source": [
    "# header 가져오기\n",
    "url = \"https://blog.naver.com/pjt3591oo\"\n",
    "\n",
    "res = rq.get(url)\n",
    "\n",
    "print(res)\n",
    "print(res.headers)"
   ]
  },
  {
   "cell_type": "markdown",
   "metadata": {},
   "source": [
    "딕셔너리 형태. 특정값을 가져올 수 있다."
   ]
  },
  {
   "cell_type": "code",
   "execution_count": 6,
   "metadata": {},
   "outputs": [
    {
     "name": "stdout",
     "output_type": "stream",
     "text": [
      "JSESSIONID=1EA4621DE499DD564C6E7946FC54A6AC.jvm1; Path=/; HttpOnly\n"
     ]
    }
   ],
   "source": [
    "headers = res.headers\n",
    "print(headers['Set-Cookie'])"
   ]
  },
  {
   "cell_type": "markdown",
   "metadata": {},
   "source": [
    "쿠키값은 요청되는 PC, 사용자에 따라 매우 유동적으로 다르게 나타남..."
   ]
  },
  {
   "cell_type": "code",
   "execution_count": 13,
   "metadata": {},
   "outputs": [
    {
     "name": "stdout",
     "output_type": "stream",
     "text": [
      "--------------------\n",
      "Date\n",
      "\n",
      "Sat, 16 Feb 2019 05:57:39 GMT\n",
      "\n",
      "--------------------\n",
      "Content-Type\n",
      "\n",
      "text/html;charset=UTF-8\n",
      "\n",
      "--------------------\n",
      "Transfer-Encoding\n",
      "\n",
      "chunked\n",
      "\n",
      "--------------------\n",
      "Connection\n",
      "\n",
      "close\n",
      "\n",
      "--------------------\n",
      "Cache-Control\n",
      "\n",
      "no-cache\n",
      "\n",
      "--------------------\n",
      "Expires\n",
      "\n",
      "Thu, 01 Jan 1970 00:00:00 GMT\n",
      "\n",
      "--------------------\n",
      "Set-Cookie\n",
      "\n",
      "JSESSIONID=1EA4621DE499DD564C6E7946FC54A6AC.jvm1; Path=/; HttpOnly\n",
      "\n",
      "--------------------\n",
      "P3P\n",
      "\n",
      "CP=\"ALL CURa ADMa DEVa TAIa OUR BUS IND PHY ONL UNI PUR FIN COM NAV INT DEM CNT STA POL HEA PRE LOC OTC\"\n",
      "\n",
      "--------------------\n",
      "Access-Control-Allow-Credentials\n",
      "\n",
      "true\n",
      "\n",
      "--------------------\n",
      "Access-Control-Allow-Headers\n",
      "\n",
      "accept, content-type\n",
      "\n",
      "--------------------\n",
      "Access-Control-Allow-Methods\n",
      "\n",
      "GET, POST\n",
      "\n",
      "--------------------\n",
      "Vary\n",
      "\n",
      "Accept-Encoding\n",
      "\n",
      "--------------------\n",
      "Content-Encoding\n",
      "\n",
      "gzip\n",
      "\n",
      "--------------------\n",
      "Server\n",
      "\n",
      "nxfps\n",
      "\n",
      "--------------------\n",
      "Referrer-policy\n",
      "\n",
      "unsafe-url\n",
      "\n"
     ]
    }
   ],
   "source": [
    "# 헤더의 모든 요소 접근\n",
    "for header in headers:\n",
    "    print(f'{\"-\"*20}\\n{header}\\n\\n{headers[header]}\\n')\n",
    "    "
   ]
  },
  {
   "cell_type": "markdown",
   "metadata": {},
   "source": [
    "헤더에서 가장 중요한 부분은 쿠키! Set-Cookie부분. headers 속성 말고 cookies 속성으로 바로 가져올 수 있다."
   ]
  },
  {
   "cell_type": "code",
   "execution_count": 14,
   "metadata": {},
   "outputs": [
    {
     "name": "stdout",
     "output_type": "stream",
     "text": [
      "<RequestsCookieJar[<Cookie JSESSIONID=1EA4621DE499DD564C6E7946FC54A6AC.jvm1 for blog.naver.com/>]>\n"
     ]
    }
   ],
   "source": [
    "cookies = res.cookies\n",
    "print(cookies)"
   ]
  },
  {
   "cell_type": "markdown",
   "metadata": {},
   "source": [
    "리스트나 튜플, 딕셔너리로 변환해서 사용.."
   ]
  },
  {
   "cell_type": "code",
   "execution_count": 18,
   "metadata": {},
   "outputs": [
    {
     "name": "stdout",
     "output_type": "stream",
     "text": [
      "[Cookie(version=0, name='JSESSIONID', value='1EA4621DE499DD564C6E7946FC54A6AC.jvm1', port=None, port_specified=False, domain='blog.naver.com', domain_specified=False, domain_initial_dot=False, path='/', path_specified=True, secure=False, expires=None, discard=True, comment=None, comment_url=None, rest={'HttpOnly': None}, rfc2109=False)] \n",
      "\n",
      " (Cookie(version=0, name='JSESSIONID', value='1EA4621DE499DD564C6E7946FC54A6AC.jvm1', port=None, port_specified=False, domain='blog.naver.com', domain_specified=False, domain_initial_dot=False, path='/', path_specified=True, secure=False, expires=None, discard=True, comment=None, comment_url=None, rest={'HttpOnly': None}, rfc2109=False),) \n",
      "\n",
      " {'JSESSIONID': '1EA4621DE499DD564C6E7946FC54A6AC.jvm1'}\n"
     ]
    }
   ],
   "source": [
    "print(list(cookies),'\\n\\n', tuple(cookies), '\\n\\n', dict(cookies))"
   ]
  },
  {
   "cell_type": "markdown",
   "metadata": {},
   "source": [
    "cookies 속성으로 보는게 headers에서 보는것보다 자세히 나옴.."
   ]
  },
  {
   "cell_type": "markdown",
   "metadata": {},
   "source": [
    "### HTML 코드 가져오기"
   ]
  },
  {
   "cell_type": "code",
   "execution_count": 20,
   "metadata": {},
   "outputs": [
    {
     "name": "stdout",
     "output_type": "stream",
     "text": [
      "<!DOCTYPE html>\n",
      "<html lang=\"en\">\n",
      "\n",
      "  <head>\n",
      "  <meta charset=\"utf-8\">\n",
      "  <meta http-equiv=\"X-UA-Compatible\" content=\"IE=edge\">\n",
      "  <meta name=\"viewport\" content=\"width=device-width, initial-scale=1\">\n",
      "\n",
      "  <title>Home</title>\n",
      "  <meta name=\"description\" content=\"멍개의 개발 블로그입니다. 궁금하신 사항 혹은 전달하고 싶은 내용이 있으시면 메일로 문의 주세요.\">\n",
      "\n",
      "  <link rel=\"stylesheet\" href=\"/assets/main.css\">\n",
      "  <link rel=\"canonical\" href=\"/\">\n",
      "  <link rel=\"alternate\" type=\"application/rss+xml\" title=\"Home\" href=\"/feed.xml\">\n",
      "  \n",
      "  \n",
      "</head>\n",
      "\n",
      "\n",
      "  <body>\n",
      "\n",
      "    <header class=\"site-header\" role=\"banner\">\n",
      "\n",
      "  <div class=\"wrapper\">\n",
      "    \n",
      "    \n",
      "    <a class=\"site-title\" href=\"/\">Home</a>\n",
      "  \n",
      "    \n",
      "      <nav class=\"site-nav\">\n",
      "        <input type=\"checkbox\" id=\"nav-trigger\" class=\"nav-trigger\" />\n",
      "        <label for=\"nav-trigger\">\n",
      "          <span class=\"menu-icon\">\n",
      "            <svg viewBox=\"0 0 18 15\" width=\"18px\" height=\"15px\">\n",
      "              <path fill=\"#424242\" d=\"M18,1.484c0,0.82-0.665,1.484-1.484,1.484H1.484C0.665,2.969,0,2.304,0,1.484l0,0C0,0.665,0.665,0,1.484,0 h15.031C17.335,0,18,0.665,18,1.484L18,1.484z\"/>\n",
      "              <path fill=\"#424242\" d=\"M18,7.516C18,8.335,17.335,9,16.516,9H1.484C0.665,9,0,8.335,0,7.516l0,0c0-0.82,0.665-1.484,1.484-1.484 h15.031C17.335,6.031,18,6.696,18,7.516L18,7.516z\"/>\n",
      "              <path fill=\"#424242\" d=\"M18,13.516C18,14.335,17.335,15,16.516,15H1.484C0.665,15,0,14.335,0,13.516l0,0 c0-0.82,0.665-1.484,1.484-1.484h15.031C17.335,12.031,18,12.696,18,13.516L18,13.516z\"/>\n",
      "            </svg>\n",
      "          </span>\n",
      "        </label>\n",
      "\n",
      "        <div class=\"trigger\">\n",
      "          \n",
      "            \n",
      "            \n",
      "            <a class=\"page-link\" href=\"/about/\">About</a>\n",
      "            \n",
      "          \n",
      "            \n",
      "            \n",
      "            <a class=\"page-link\" href=\"/category.html\">Category</a>\n",
      "            \n",
      "          \n",
      "            \n",
      "            \n",
      "          \n",
      "            \n",
      "            \n",
      "          \n",
      "            \n",
      "            \n",
      "            <a class=\"page-link\" href=\"/play/\">Play</a>\n",
      "            \n",
      "          \n",
      "            \n",
      "            \n",
      "            <a class=\"page-link\" href=\"/search\">Search</a>\n",
      "            \n",
      "          \n",
      "            \n",
      "            \n",
      "          \n",
      "            \n",
      "            \n",
      "          \n",
      "            \n",
      "            \n",
      "          \n",
      "            \n",
      "            \n",
      "          \n",
      "            \n",
      "            \n",
      "          \n",
      "            \n",
      "            \n",
      "          \n",
      "        </div>\n",
      "      </nav>\n",
      "    \n",
      "  </div>\n",
      "</header>\n",
      "\n",
      "\n",
      "    <main class=\"page-content\" aria-label=\"Content\">\n",
      "      <div class=\"wrapper\">\n",
      "        <div class=\"home\">\n",
      "\n",
      "  <h1 class=\"page-heading\">Posts</h1>\n",
      "  \n",
      "  <meta name=\"viewport\" content=\"width=device-width, initial-scale=1\">\n",
      "\n",
      "<meta name=\"google-site-verification\" content=\"gvDodL2h5fymQPWMmUwyvwMfZp7AVufngf2P3jJlTho\" />\n",
      "<meta name=\"naver-site-verification\" content=\"4a511a171ff0cee5a8ea1f3e7cde66845b26b04c\"/>\n",
      "\n",
      "<link rel=\"stylesheet\" href=\"https://maxcdn.bootstrapcdn.com/bootstrap/3.3.7/css/bootstrap.min.css\">\n",
      "<script src=\"https://ajax.googleapis.com/ajax/libs/jquery/3.2.0/jquery.min.js\"></script>\n",
      "<script src=\"https://maxcdn.bootstrapcdn.com/bootstrap/3.3.7/js/bootstrap.min.js\"></script>\n",
      "\n",
      "<style>\n",
      "  .post-list{\n",
      "    display: none;\n",
      "  }\n",
      "  .pagination{\n",
      "    width:100%;\n",
      "    text-align: center;\n",
      "    margin-top:25px;\n",
      "    margin-bottom:50px;\n",
      "    font-size:17px;\n",
      "  }\n",
      "  li{\n",
      "    list-style: none;\n",
      "  }\n",
      "  /*c{*/\n",
      "    /*background-color: rgb(204, 204, 204);*/\n",
      "    /*border-radius: 5px;*/\n",
      "  /*}*/\n",
      "\n",
      "</style>\n",
      "\n",
      "\n",
      "  <div class=\"p\">\n",
      "      <h3 style=\"margin-top:50px\">\n",
      "          <a style=\"color:#4d5256; opacity: 0.8\" href=\"/blog/programming/2017/05/20/javascript_react_setting.html\">[programming] [react] react 작업환경 설</a>\n",
      "      </h3>\n",
      "      <h4 style=\"color:#4d5256; opacity: 0.6; margin-top:30px\">\n",
      "        react를 시작하기 전에 환경셋팅을 해보자\n",
      "      </h4>\n",
      "      <p class=\"author\">\n",
      "        <span style=\"color:#4d5256; opacity: 0.4\" class=\"date\">2017-05-20 06:29:05 +0000  &nbsp;&nbsp;|&nbsp;&nbsp;  박정태</span>\n",
      "      </p>\n",
      "      <hr style=\"margin-top:50px\">\n",
      "  </div>\n",
      "\n",
      "  <div class=\"p\">\n",
      "      <h3 style=\"margin-top:50px\">\n",
      "          <a style=\"color:#4d5256; opacity: 0.8\" href=\"/blog/programming/2017/05/09/javascript_drag_and_drop.html\">[programming] drag and drop을 이용하여 파일 업로드를 해보자</a>\n",
      "      </h3>\n",
      "      <h4 style=\"color:#4d5256; opacity: 0.6; margin-top:30px\">\n",
      "        query의 외부 라이브러리가 아닌 drag, drop 이벤트를 활용하여 기능 구현해보기\n",
      "      </h4>\n",
      "      <p class=\"author\">\n",
      "        <span style=\"color:#4d5256; opacity: 0.4\" class=\"date\">2017-05-09 23:47:05 +0000  &nbsp;&nbsp;|&nbsp;&nbsp;  박정태</span>\n",
      "      </p>\n",
      "      <hr style=\"margin-top:50px\">\n",
      "  </div>\n",
      "\n",
      "  <div class=\"p\">\n",
      "      <h3 style=\"margin-top:50px\">\n",
      "          <a style=\"color:#4d5256; opacity: 0.8\" href=\"/blog/database/2017/05/04/how_to_use_mysqldump.html\">[database] mysqldump를 이용하여 데이터 백업, 복원하기</a>\n",
      "      </h3>\n",
      "      <h4 style=\"color:#4d5256; opacity: 0.6; margin-top:30px\">\n",
      "        mysqldump를 이용하여 디비 백업과 source를 이용하여 데이터 복원을 해보자\n",
      "      </h4>\n",
      "      <p class=\"author\">\n",
      "        <span style=\"color:#4d5256; opacity: 0.4\" class=\"date\">2017-05-04 05:33:05 +0000  &nbsp;&nbsp;|&nbsp;&nbsp;  박정태</span>\n",
      "      </p>\n",
      "      <hr style=\"margin-top:50px\">\n",
      "  </div>\n",
      "\n",
      "  <div class=\"p\">\n",
      "      <h3 style=\"margin-top:50px\">\n",
      "          <a style=\"color:#4d5256; opacity: 0.8\" href=\"/blog/database/2017/05/03/abou_mysql_remote_connect.html\">[database] mysql 원격접속하는 방법</a>\n",
      "      </h3>\n",
      "      <h4 style=\"color:#4d5256; opacity: 0.6; margin-top:30px\">\n",
      "        mysql 디비설정, 유저설정을 통해 원격접속\n",
      "      </h4>\n",
      "      <p class=\"author\">\n",
      "        <span style=\"color:#4d5256; opacity: 0.4\" class=\"date\">2017-05-03 11:43:05 +0000  &nbsp;&nbsp;|&nbsp;&nbsp;  박정태</span>\n",
      "      </p>\n",
      "      <hr style=\"margin-top:50px\">\n",
      "  </div>\n",
      "\n",
      "  <div class=\"p\">\n",
      "      <h3 style=\"margin-top:50px\">\n",
      "          <a style=\"color:#4d5256; opacity: 0.8\" href=\"/blog/node.js/2017/05/01/file_convert2.html\">[node.js] 파일 리더기 만들기 - 사용 모듈 정리, pdf와 hwp 구조</a>\n",
      "      </h3>\n",
      "      <h4 style=\"color:#4d5256; opacity: 0.6; margin-top:30px\">\n",
      "        docx, hwp, pdf 파일\n",
      "      </h4>\n",
      "      <p class=\"author\">\n",
      "        <span style=\"color:#4d5256; opacity: 0.4\" class=\"date\">2017-05-01 06:02:05 +0000  &nbsp;&nbsp;|&nbsp;&nbsp;  박정태</span>\n",
      "      </p>\n",
      "      <hr style=\"margin-top:50px\">\n",
      "  </div>\n",
      "\n",
      "  <div class=\"p\">\n",
      "      <h3 style=\"margin-top:50px\">\n",
      "          <a style=\"color:#4d5256; opacity: 0.8\" href=\"/blog/node.js/2017/04/30/file_convert1.html\">[node.js] 파일 리더기 만들기 - pdf를 html로 변환, docx를 pdf로 변환</a>\n",
      "      </h3>\n",
      "      <h4 style=\"color:#4d5256; opacity: 0.6; margin-top:30px\">\n",
      "        pdf파일 html로 변경하기\n",
      "      </h4>\n",
      "      <p class=\"author\">\n",
      "        <span style=\"color:#4d5256; opacity: 0.4\" class=\"date\">2017-04-30 15:19:05 +0000  &nbsp;&nbsp;|&nbsp;&nbsp;  박정태</span>\n",
      "      </p>\n",
      "      <hr style=\"margin-top:50px\">\n",
      "  </div>\n",
      "\n",
      "  <div class=\"p\">\n",
      "      <h3 style=\"margin-top:50px\">\n",
      "          <a style=\"color:#4d5256; opacity: 0.8\" href=\"/blog/programming/2017/04/25/how_to_change_git_remote_origin.html\">[programming] git 원격 저장소 바꾸기</a>\n",
      "      </h3>\n",
      "      <h4 style=\"color:#4d5256; opacity: 0.6; margin-top:30px\">\n",
      "        remote set-url을 이용하여 원격 저장소를 바꾸자\n",
      "      </h4>\n",
      "      <p class=\"author\">\n",
      "        <span style=\"color:#4d5256; opacity: 0.4\" class=\"date\">2017-04-25 13:09:05 +0000  &nbsp;&nbsp;|&nbsp;&nbsp;  박정태</span>\n",
      "      </p>\n",
      "      <hr style=\"margin-top:50px\">\n",
      "  </div>\n",
      "\n",
      "  <div class=\"p\">\n",
      "      <h3 style=\"margin-top:50px\">\n",
      "          <a style=\"color:#4d5256; opacity: 0.8\" href=\"/blog/programming/2017/04/25/how_to_change_working_directory_on_python.html\">[programming] python working directory를 바꿔보자</a>\n",
      "      </h3>\n",
      "      <h4 style=\"color:#4d5256; opacity: 0.6; margin-top:30px\">\n",
      "        working directory설정을 하여 경로 문제를 해결하자\n",
      "      </h4>\n",
      "      <p class=\"author\">\n",
      "        <span style=\"color:#4d5256; opacity: 0.4\" class=\"date\">2017-04-25 09:19:05 +0000  &nbsp;&nbsp;|&nbsp;&nbsp;  박정태</span>\n",
      "      </p>\n",
      "      <hr style=\"margin-top:50px\">\n",
      "  </div>\n",
      "\n",
      "  <div class=\"p\">\n",
      "      <h3 style=\"margin-top:50px\">\n",
      "          <a style=\"color:#4d5256; opacity: 0.8\" href=\"/blog/server/2017/04/24/docker_commends.html\">[server] docker commends</a>\n",
      "      </h3>\n",
      "      <h4 style=\"color:#4d5256; opacity: 0.6; margin-top:30px\">\n",
      "        도커의 명령어들을 간단하게 알아보기\n",
      "      </h4>\n",
      "      <p class=\"author\">\n",
      "        <span style=\"color:#4d5256; opacity: 0.4\" class=\"date\">2017-04-24 23:19:05 +0000  &nbsp;&nbsp;|&nbsp;&nbsp;  박정태</span>\n",
      "      </p>\n",
      "      <hr style=\"margin-top:50px\">\n",
      "  </div>\n",
      "\n",
      "  <div class=\"p\">\n",
      "      <h3 style=\"margin-top:50px\">\n",
      "          <a style=\"color:#4d5256; opacity: 0.8\" href=\"/blog/programming/2017/04/24/utc_to_timestamp_change.html\">[programming] python utc를 timestamp로 바꾸는 방법</a>\n",
      "      </h3>\n",
      "      <h4 style=\"color:#4d5256; opacity: 0.6; margin-top:30px\">\n",
      "        python에서 utc를 timestamp로 바꾸는 방법\n",
      "      </h4>\n",
      "      <p class=\"author\">\n",
      "        <span style=\"color:#4d5256; opacity: 0.4\" class=\"date\">2017-04-24 13:19:05 +0000  &nbsp;&nbsp;|&nbsp;&nbsp;  박정태</span>\n",
      "      </p>\n",
      "      <hr style=\"margin-top:50px\">\n",
      "  </div>\n",
      "\n",
      "\n",
      "<!-- Pagination links -->\n",
      "\n",
      "<div class=\"pagination\">\n",
      "  <ul class=\"pager\">\n",
      "      \n",
      "        <span>Prev</span>\n",
      "      \n",
      "\n",
      "    \n",
      "      \n",
      "          <em>1</em>\n",
      "      \n",
      "    \n",
      "      \n",
      "          <a href=\"/page2/\">2</a>\n",
      "      \n",
      "    \n",
      "      \n",
      "          <a href=\"/page3/\">3</a>\n",
      "      \n",
      "    \n",
      "      \n",
      "          <a href=\"/page4/\">4</a>\n",
      "      \n",
      "    \n",
      "\n",
      "      \n",
      "        <li>\n",
      "          <a href=\"/page2/\">Next</a>\n",
      "        </li>\n",
      "      \n",
      "  </ul>\n",
      "</div>\n",
      "\n",
      "\n",
      "  <ul class=\"post-list\">\n",
      "    \n",
      "      <li>\n",
      "        \n",
      "        <span class=\"post-meta\">May 20, 2017</span>\n",
      "\n",
      "        <h2>\n",
      "          <a class=\"post-link\" href=\"/blog/programming/2017/05/20/javascript_react_setting.html\">[react] react 작업환경 설</a>\n",
      "        </h2>\n",
      "      </li>\n",
      "    \n",
      "      <li>\n",
      "        \n",
      "        <span class=\"post-meta\">May 9, 2017</span>\n",
      "\n",
      "        <h2>\n",
      "          <a class=\"post-link\" href=\"/blog/programming/2017/05/09/javascript_drag_and_drop.html\">drag and drop을 이용하여 파일 업로드를 해보자</a>\n",
      "        </h2>\n",
      "      </li>\n",
      "    \n",
      "      <li>\n",
      "        \n",
      "        <span class=\"post-meta\">May 4, 2017</span>\n",
      "\n",
      "        <h2>\n",
      "          <a class=\"post-link\" href=\"/blog/database/2017/05/04/how_to_use_mysqldump.html\">mysqldump를 이용하여 데이터 백업, 복원하기</a>\n",
      "        </h2>\n",
      "      </li>\n",
      "    \n",
      "      <li>\n",
      "        \n",
      "        <span class=\"post-meta\">May 3, 2017</span>\n",
      "\n",
      "        <h2>\n",
      "          <a class=\"post-link\" href=\"/blog/database/2017/05/03/abou_mysql_remote_connect.html\">mysql 원격접속하는 방법</a>\n",
      "        </h2>\n",
      "      </li>\n",
      "    \n",
      "      <li>\n",
      "        \n",
      "        <span class=\"post-meta\">May 1, 2017</span>\n",
      "\n",
      "        <h2>\n",
      "          <a class=\"post-link\" href=\"/blog/node.js/2017/05/01/file_convert2.html\">파일 리더기 만들기 - 사용 모듈 정리, pdf와 hwp 구조</a>\n",
      "        </h2>\n",
      "      </li>\n",
      "    \n",
      "      <li>\n",
      "        \n",
      "        <span class=\"post-meta\">Apr 30, 2017</span>\n",
      "\n",
      "        <h2>\n",
      "          <a class=\"post-link\" href=\"/blog/node.js/2017/04/30/file_convert1.html\">파일 리더기 만들기 - pdf를 html로 변환, docx를 pdf로 변환</a>\n",
      "        </h2>\n",
      "      </li>\n",
      "    \n",
      "      <li>\n",
      "        \n",
      "        <span class=\"post-meta\">Apr 25, 2017</span>\n",
      "\n",
      "        <h2>\n",
      "          <a class=\"post-link\" href=\"/blog/programming/2017/04/25/how_to_change_git_remote_origin.html\">git 원격 저장소 바꾸기</a>\n",
      "        </h2>\n",
      "      </li>\n",
      "    \n",
      "      <li>\n",
      "        \n",
      "        <span class=\"post-meta\">Apr 25, 2017</span>\n",
      "\n",
      "        <h2>\n",
      "          <a class=\"post-link\" href=\"/blog/programming/2017/04/25/how_to_change_working_directory_on_python.html\">python working directory를 바꿔보자</a>\n",
      "        </h2>\n",
      "      </li>\n",
      "    \n",
      "      <li>\n",
      "        \n",
      "        <span class=\"post-meta\">Apr 24, 2017</span>\n",
      "\n",
      "        <h2>\n",
      "          <a class=\"post-link\" href=\"/blog/server/2017/04/24/docker_commends.html\">docker commends</a>\n",
      "        </h2>\n",
      "      </li>\n",
      "    \n",
      "      <li>\n",
      "        \n",
      "        <span class=\"post-meta\">Apr 24, 2017</span>\n",
      "\n",
      "        <h2>\n",
      "          <a class=\"post-link\" href=\"/blog/programming/2017/04/24/utc_to_timestamp_change.html\">python utc를 timestamp로 바꾸는 방법</a>\n",
      "        </h2>\n",
      "      </li>\n",
      "    \n",
      "      <li>\n",
      "        \n",
      "        <span class=\"post-meta\">Apr 23, 2017</span>\n",
      "\n",
      "        <h2>\n",
      "          <a class=\"post-link\" href=\"/blog/programming/2017/04/23/how_to_install_php_on_ubuntu.html\">ubuntu에 php 개발환경 셋팅</a>\n",
      "        </h2>\n",
      "      </li>\n",
      "    \n",
      "      <li>\n",
      "        \n",
      "        <span class=\"post-meta\">Apr 22, 2017</span>\n",
      "\n",
      "        <h2>\n",
      "          <a class=\"post-link\" href=\"/blog/server/2017/04/22/how_to_use_azure.html\">azure-cli를 이용하여 azure 사용하기</a>\n",
      "        </h2>\n",
      "      </li>\n",
      "    \n",
      "      <li>\n",
      "        \n",
      "        <span class=\"post-meta\">Apr 21, 2017</span>\n",
      "\n",
      "        <h2>\n",
      "          <a class=\"post-link\" href=\"/blog/tools/2017/04/21/how_to_create_ssh_key.html\">ssh-keygen을 이용한 ssh 키 파일 생성</a>\n",
      "        </h2>\n",
      "      </li>\n",
      "    \n",
      "      <li>\n",
      "        \n",
      "        <span class=\"post-meta\">Apr 19, 2017</span>\n",
      "\n",
      "        <h2>\n",
      "          <a class=\"post-link\" href=\"/blog/programming/2017/04/19/python_generator.html\">제너레이터(generator)를 활용한 효율적인 코드작성</a>\n",
      "        </h2>\n",
      "      </li>\n",
      "    \n",
      "      <li>\n",
      "        \n",
      "        <span class=\"post-meta\">Apr 15, 2017</span>\n",
      "\n",
      "        <h2>\n",
      "          <a class=\"post-link\" href=\"/blog/node.js/2017/04/15/for_jade_template_engine.html\">Jade Template Engine을 활용한 효율적 관리</a>\n",
      "        </h2>\n",
      "      </li>\n",
      "    \n",
      "      <li>\n",
      "        \n",
      "        <span class=\"post-meta\">Apr 12, 2017</span>\n",
      "\n",
      "        <h2>\n",
      "          <a class=\"post-link\" href=\"/blog/tools/2017/04/12/vimrc_auto_setting.html\">vim 각종 설정들로 부터 귀차니즘을 벗어나자</a>\n",
      "        </h2>\n",
      "      </li>\n",
      "    \n",
      "      <li>\n",
      "        \n",
      "        <span class=\"post-meta\">Apr 9, 2017</span>\n",
      "\n",
      "        <h2>\n",
      "          <a class=\"post-link\" href=\"/blog/node.js/2017/04/09/sequelize_migrations.html\">sequelize - Migrations[번역]</a>\n",
      "        </h2>\n",
      "      </li>\n",
      "    \n",
      "      <li>\n",
      "        \n",
      "        <span class=\"post-meta\">Apr 9, 2017</span>\n",
      "\n",
      "        <h2>\n",
      "          <a class=\"post-link\" href=\"/blog/node.js/2017/04/09/sequelize_usage.html\">sequelize - Usage[번역]</a>\n",
      "        </h2>\n",
      "      </li>\n",
      "    \n",
      "      <li>\n",
      "        \n",
      "        <span class=\"post-meta\">Apr 9, 2017</span>\n",
      "\n",
      "        <h2>\n",
      "          <a class=\"post-link\" href=\"/blog/node.js/2017/04/09/sequelize_hooks.html\">sequelize - Hooks[번역]</a>\n",
      "        </h2>\n",
      "      </li>\n",
      "    \n",
      "      <li>\n",
      "        \n",
      "        <span class=\"post-meta\">Apr 9, 2017</span>\n",
      "\n",
      "        <h2>\n",
      "          <a class=\"post-link\" href=\"/blog/node.js/2017/04/09/sequelize_querying.html\">sequelize - Querying[번역]</a>\n",
      "        </h2>\n",
      "      </li>\n",
      "    \n",
      "      <li>\n",
      "        \n",
      "        <span class=\"post-meta\">Apr 9, 2017</span>\n",
      "\n",
      "        <h2>\n",
      "          <a class=\"post-link\" href=\"/blog/node.js/2017/04/09/sequelize_working_with_legacy_tables.html\">sequelize - Working With Legacy Tables[번역]</a>\n",
      "        </h2>\n",
      "      </li>\n",
      "    \n",
      "      <li>\n",
      "        \n",
      "        <span class=\"post-meta\">Apr 9, 2017</span>\n",
      "\n",
      "        <h2>\n",
      "          <a class=\"post-link\" href=\"/blog/node.js/2017/04/09/sequelize_Getting_Started_translation.html\">sequelize - Getting Started[번역]</a>\n",
      "        </h2>\n",
      "      </li>\n",
      "    \n",
      "      <li>\n",
      "        \n",
      "        <span class=\"post-meta\">Apr 9, 2017</span>\n",
      "\n",
      "        <h2>\n",
      "          <a class=\"post-link\" href=\"/blog/node.js/2017/04/09/sequelize_home.html\">sequelize - Home[번역]</a>\n",
      "        </h2>\n",
      "      </li>\n",
      "    \n",
      "      <li>\n",
      "        \n",
      "        <span class=\"post-meta\">Apr 8, 2017</span>\n",
      "\n",
      "        <h2>\n",
      "          <a class=\"post-link\" href=\"/blog/machine-learning/2017/04/08/Classification_Using_NaiveBayes.html\">Classification using Naive Bayes</a>\n",
      "        </h2>\n",
      "      </li>\n",
      "    \n",
      "      <li>\n",
      "        \n",
      "        <span class=\"post-meta\">Apr 8, 2017</span>\n",
      "\n",
      "        <h2>\n",
      "          <a class=\"post-link\" href=\"/blog/framework/2017/04/08/aiohttp_struct.html\">Structure aiohttp Of python</a>\n",
      "        </h2>\n",
      "      </li>\n",
      "    \n",
      "      <li>\n",
      "        \n",
      "        <span class=\"post-meta\">Apr 8, 2017</span>\n",
      "\n",
      "        <h2>\n",
      "          <a class=\"post-link\" href=\"/blog/framework/2017/04/08/express_struct.html\">Structure Express Of Node</a>\n",
      "        </h2>\n",
      "      </li>\n",
      "    \n",
      "      <li>\n",
      "        \n",
      "        <span class=\"post-meta\">Apr 8, 2017</span>\n",
      "\n",
      "        <h2>\n",
      "          <a class=\"post-link\" href=\"/blog/programming/2017/04/08/sync_async_and_promise.html\">Javascript Asynchronous, synchronous and Promise</a>\n",
      "        </h2>\n",
      "      </li>\n",
      "    \n",
      "      <li>\n",
      "        \n",
      "        <span class=\"post-meta\">Apr 6, 2017</span>\n",
      "\n",
      "        <h2>\n",
      "          <a class=\"post-link\" href=\"/blog/database/2017/04/06/about-database.html\">RDBMS vs NoSQL vs InMemory</a>\n",
      "        </h2>\n",
      "      </li>\n",
      "    \n",
      "      <li>\n",
      "        \n",
      "        <span class=\"post-meta\">Apr 5, 2017</span>\n",
      "\n",
      "        <h2>\n",
      "          <a class=\"post-link\" href=\"/blog/news/2017/04/05/django_111_release.html\">Django 1.11 Release</a>\n",
      "        </h2>\n",
      "      </li>\n",
      "    \n",
      "      <li>\n",
      "        \n",
      "        <span class=\"post-meta\">Apr 4, 2017</span>\n",
      "\n",
      "        <h2>\n",
      "          <a class=\"post-link\" href=\"/blog/programming/2017/04/04/javascript-arrow-function_AND_array.prototype_COMBINATE.html\">javascript arrow function과 array.prototype의 조합</a>\n",
      "        </h2>\n",
      "      </li>\n",
      "    \n",
      "      <li>\n",
      "        \n",
      "        <span class=\"post-meta\">Apr 4, 2017</span>\n",
      "\n",
      "        <h2>\n",
      "          <a class=\"post-link\" href=\"/blog/intro/2017/04/04/welcome-to-jekyll.html\">Welcome to mung</a>\n",
      "        </h2>\n",
      "      </li>\n",
      "    \n",
      "  </ul>\n",
      "\n",
      "  <p class=\"rss-subscribe\">subscribe <a href=\"/feed.xml\">via RSS</a></p>\n",
      "\n",
      "</div>\n",
      "\n",
      "      </div>\n",
      "    </main>\n",
      "\n",
      "    <footer class=\"site-footer\">\n",
      "\n",
      "  <div class=\"wrapper\">\n",
      "\n",
      "    <h2 class=\"footer-heading\">Home</h2>\n",
      "\n",
      "    <div class=\"footer-col-wrapper\">\n",
      "      <div class=\"footer-col footer-col-1\">\n",
      "        <ul class=\"contact-list\">\n",
      "          <li>\n",
      "            \n",
      "              Home\n",
      "            \n",
      "            </li>\n",
      "            \n",
      "            <li><a href=\"mailto:pjt3591oo@gmail.com\">pjt3591oo@gmail.com</a></li>\n",
      "            \n",
      "        </ul>\n",
      "      </div>\n",
      "\n",
      "      <div class=\"footer-col footer-col-2\">\n",
      "        <ul class=\"social-media-list\">\n",
      "          \n",
      "          <li>\n",
      "            <a href=\"https://github.com/jekyll\"><span class=\"icon icon--github\"><svg viewBox=\"0 0 16 16\" width=\"16px\" height=\"16px\"><path fill=\"#828282\" d=\"M7.999,0.431c-4.285,0-7.76,3.474-7.76,7.761 c0,3.428,2.223,6.337,5.307,7.363c0.388,0.071,0.53-0.168,0.53-0.374c0-0.184-0.007-0.672-0.01-1.32 c-2.159,0.469-2.614-1.04-2.614-1.04c-0.353-0.896-0.862-1.135-0.862-1.135c-0.705-0.481,0.053-0.472,0.053-0.472 c0.779,0.055,1.189,0.8,1.189,0.8c0.692,1.186,1.816,0.843,2.258,0.645c0.071-0.502,0.271-0.843,0.493-1.037 C4.86,11.425,3.049,10.76,3.049,7.786c0-0.847,0.302-1.54,0.799-2.082C3.768,5.507,3.501,4.718,3.924,3.65 c0,0,0.652-0.209,2.134,0.796C6.677,4.273,7.34,4.187,8,4.184c0.659,0.003,1.323,0.089,1.943,0.261 c1.482-1.004,2.132-0.796,2.132-0.796c0.423,1.068,0.157,1.857,0.077,2.054c0.497,0.542,0.798,1.235,0.798,2.082 c0,2.981-1.814,3.637-3.543,3.829c0.279,0.24,0.527,0.713,0.527,1.437c0,1.037-0.01,1.874-0.01,2.129 c0,0.208,0.14,0.449,0.534,0.373c3.081-1.028,5.302-3.935,5.302-7.362C15.76,3.906,12.285,0.431,7.999,0.431z\"/></svg>\n",
      "</span><span class=\"username\">jekyll</span></a>\n",
      "\n",
      "          </li>\n",
      "          \n",
      "\n",
      "          \n",
      "          <li>\n",
      "            <a href=\"https://twitter.com/jekyllrb\"><span class=\"icon icon--twitter\"><svg viewBox=\"0 0 16 16\" width=\"16px\" height=\"16px\"><path fill=\"#828282\" d=\"M15.969,3.058c-0.586,0.26-1.217,0.436-1.878,0.515c0.675-0.405,1.194-1.045,1.438-1.809c-0.632,0.375-1.332,0.647-2.076,0.793c-0.596-0.636-1.446-1.033-2.387-1.033c-1.806,0-3.27,1.464-3.27,3.27 c0,0.256,0.029,0.506,0.085,0.745C5.163,5.404,2.753,4.102,1.14,2.124C0.859,2.607,0.698,3.168,0.698,3.767 c0,1.134,0.577,2.135,1.455,2.722C1.616,6.472,1.112,6.325,0.671,6.08c0,0.014,0,0.027,0,0.041c0,1.584,1.127,2.906,2.623,3.206 C3.02,9.402,2.731,9.442,2.433,9.442c-0.211,0-0.416-0.021-0.615-0.059c0.416,1.299,1.624,2.245,3.055,2.271 c-1.119,0.877-2.529,1.4-4.061,1.4c-0.264,0-0.524-0.015-0.78-0.046c1.447,0.928,3.166,1.469,5.013,1.469 c6.015,0,9.304-4.983,9.304-9.304c0-0.142-0.003-0.283-0.009-0.423C14.976,4.29,15.531,3.714,15.969,3.058z\"/></svg>\n",
      "</span><span class=\"username\">jekyllrb</span></a>\n",
      "\n",
      "          </li>\n",
      "          \n",
      "        </ul>\n",
      "      </div>\n",
      "\n",
      "      <div class=\"footer-col footer-col-3\">\n",
      "        <p>멍개의 개발 블로그입니다. 궁금하신 사항 혹은 전달하고 싶은 내용이 있으시면 메일로 문의 주세요.\n",
      "</p>\n",
      "      </div>\n",
      "    </div>\n",
      "\n",
      "  </div>\n",
      "\n",
      "</footer>\n",
      "\n",
      "\n",
      "  </body>\n",
      "\n",
      "</html>\n",
      "\n"
     ]
    }
   ],
   "source": [
    "url = \"https://pjt3591oo.github.io/\"\n",
    "\n",
    "res = rq.get(url)\n",
    "\n",
    "print(res.text)"
   ]
  },
  {
   "cell_type": "markdown",
   "metadata": {},
   "source": [
    "text속성 이용보다 res.content로 가져오는 방법을 추천!"
   ]
  },
  {
   "cell_type": "code",
   "execution_count": 21,
   "metadata": {},
   "outputs": [
    {
     "name": "stdout",
     "output_type": "stream",
     "text": [
      "b'<!DOCTYPE html>\\n<html lang=\"en\">\\n\\n  <head>\\n  <meta charset=\"utf-8\">\\n  <meta http-equiv=\"X-UA-Compatible\" content=\"IE=edge\">\\n  <meta name=\"viewport\" content=\"width=device-width, initial-scale=1\">\\n\\n  <title>Home</title>\\n  <meta name=\"description\" content=\"\\xeb\\xa9\\x8d\\xea\\xb0\\x9c\\xec\\x9d\\x98 \\xea\\xb0\\x9c\\xeb\\xb0\\x9c \\xeb\\xb8\\x94\\xeb\\xa1\\x9c\\xea\\xb7\\xb8\\xec\\x9e\\x85\\xeb\\x8b\\x88\\xeb\\x8b\\xa4. \\xea\\xb6\\x81\\xea\\xb8\\x88\\xed\\x95\\x98\\xec\\x8b\\xa0 \\xec\\x82\\xac\\xed\\x95\\xad \\xed\\x98\\xb9\\xec\\x9d\\x80 \\xec\\xa0\\x84\\xeb\\x8b\\xac\\xed\\x95\\x98\\xea\\xb3\\xa0 \\xec\\x8b\\xb6\\xec\\x9d\\x80 \\xeb\\x82\\xb4\\xec\\x9a\\xa9\\xec\\x9d\\xb4 \\xec\\x9e\\x88\\xec\\x9c\\xbc\\xec\\x8b\\x9c\\xeb\\xa9\\xb4 \\xeb\\xa9\\x94\\xec\\x9d\\xbc\\xeb\\xa1\\x9c \\xeb\\xac\\xb8\\xec\\x9d\\x98 \\xec\\xa3\\xbc\\xec\\x84\\xb8\\xec\\x9a\\x94.\">\\n\\n  <link rel=\"stylesheet\" href=\"/assets/main.css\">\\n  <link rel=\"canonical\" href=\"/\">\\n  <link rel=\"alternate\" type=\"application/rss+xml\" title=\"Home\" href=\"/feed.xml\">\\n  \\n  \\n</head>\\n\\n\\n  <body>\\n\\n    <header class=\"site-header\" role=\"banner\">\\n\\n  <div class=\"wrapper\">\\n    \\n    \\n    <a class=\"site-title\" href=\"/\">Home</a>\\n  \\n    \\n      <nav class=\"site-nav\">\\n        <input type=\"checkbox\" id=\"nav-trigger\" class=\"nav-trigger\" />\\n        <label for=\"nav-trigger\">\\n          <span class=\"menu-icon\">\\n            <svg viewBox=\"0 0 18 15\" width=\"18px\" height=\"15px\">\\n              <path fill=\"#424242\" d=\"M18,1.484c0,0.82-0.665,1.484-1.484,1.484H1.484C0.665,2.969,0,2.304,0,1.484l0,0C0,0.665,0.665,0,1.484,0 h15.031C17.335,0,18,0.665,18,1.484L18,1.484z\"/>\\n              <path fill=\"#424242\" d=\"M18,7.516C18,8.335,17.335,9,16.516,9H1.484C0.665,9,0,8.335,0,7.516l0,0c0-0.82,0.665-1.484,1.484-1.484 h15.031C17.335,6.031,18,6.696,18,7.516L18,7.516z\"/>\\n              <path fill=\"#424242\" d=\"M18,13.516C18,14.335,17.335,15,16.516,15H1.484C0.665,15,0,14.335,0,13.516l0,0 c0-0.82,0.665-1.484,1.484-1.484h15.031C17.335,12.031,18,12.696,18,13.516L18,13.516z\"/>\\n            </svg>\\n          </span>\\n        </label>\\n\\n        <div class=\"trigger\">\\n          \\n            \\n            \\n            <a class=\"page-link\" href=\"/about/\">About</a>\\n            \\n          \\n            \\n            \\n            <a class=\"page-link\" href=\"/category.html\">Category</a>\\n            \\n          \\n            \\n            \\n          \\n            \\n            \\n          \\n            \\n            \\n            <a class=\"page-link\" href=\"/play/\">Play</a>\\n            \\n          \\n            \\n            \\n            <a class=\"page-link\" href=\"/search\">Search</a>\\n            \\n          \\n            \\n            \\n          \\n            \\n            \\n          \\n            \\n            \\n          \\n            \\n            \\n          \\n            \\n            \\n          \\n            \\n            \\n          \\n        </div>\\n      </nav>\\n    \\n  </div>\\n</header>\\n\\n\\n    <main class=\"page-content\" aria-label=\"Content\">\\n      <div class=\"wrapper\">\\n        <div class=\"home\">\\n\\n  <h1 class=\"page-heading\">Posts</h1>\\n  \\n  <meta name=\"viewport\" content=\"width=device-width, initial-scale=1\">\\n\\n<meta name=\"google-site-verification\" content=\"gvDodL2h5fymQPWMmUwyvwMfZp7AVufngf2P3jJlTho\" />\\n<meta name=\"naver-site-verification\" content=\"4a511a171ff0cee5a8ea1f3e7cde66845b26b04c\"/>\\n\\n<link rel=\"stylesheet\" href=\"https://maxcdn.bootstrapcdn.com/bootstrap/3.3.7/css/bootstrap.min.css\">\\n<script src=\"https://ajax.googleapis.com/ajax/libs/jquery/3.2.0/jquery.min.js\"></script>\\n<script src=\"https://maxcdn.bootstrapcdn.com/bootstrap/3.3.7/js/bootstrap.min.js\"></script>\\n\\n<style>\\n  .post-list{\\n    display: none;\\n  }\\n  .pagination{\\n    width:100%;\\n    text-align: center;\\n    margin-top:25px;\\n    margin-bottom:50px;\\n    font-size:17px;\\n  }\\n  li{\\n    list-style: none;\\n  }\\n  /*c{*/\\n    /*background-color: rgb(204, 204, 204);*/\\n    /*border-radius: 5px;*/\\n  /*}*/\\n\\n</style>\\n\\n\\n  <div class=\"p\">\\n      <h3 style=\"margin-top:50px\">\\n          <a style=\"color:#4d5256; opacity: 0.8\" href=\"/blog/programming/2017/05/20/javascript_react_setting.html\">[programming] [react] react \\xec\\x9e\\x91\\xec\\x97\\x85\\xed\\x99\\x98\\xea\\xb2\\xbd \\xec\\x84\\xa4</a>\\n      </h3>\\n      <h4 style=\"color:#4d5256; opacity: 0.6; margin-top:30px\">\\n        react\\xeb\\xa5\\xbc \\xec\\x8b\\x9c\\xec\\x9e\\x91\\xed\\x95\\x98\\xea\\xb8\\xb0 \\xec\\xa0\\x84\\xec\\x97\\x90 \\xed\\x99\\x98\\xea\\xb2\\xbd\\xec\\x85\\x8b\\xed\\x8c\\x85\\xec\\x9d\\x84 \\xed\\x95\\xb4\\xeb\\xb3\\xb4\\xec\\x9e\\x90\\n      </h4>\\n      <p class=\"author\">\\n        <span style=\"color:#4d5256; opacity: 0.4\" class=\"date\">2017-05-20 06:29:05 +0000  &nbsp;&nbsp;|&nbsp;&nbsp;  \\xeb\\xb0\\x95\\xec\\xa0\\x95\\xed\\x83\\x9c</span>\\n      </p>\\n      <hr style=\"margin-top:50px\">\\n  </div>\\n\\n  <div class=\"p\">\\n      <h3 style=\"margin-top:50px\">\\n          <a style=\"color:#4d5256; opacity: 0.8\" href=\"/blog/programming/2017/05/09/javascript_drag_and_drop.html\">[programming] drag and drop\\xec\\x9d\\x84 \\xec\\x9d\\xb4\\xec\\x9a\\xa9\\xed\\x95\\x98\\xec\\x97\\xac \\xed\\x8c\\x8c\\xec\\x9d\\xbc \\xec\\x97\\x85\\xeb\\xa1\\x9c\\xeb\\x93\\x9c\\xeb\\xa5\\xbc \\xed\\x95\\xb4\\xeb\\xb3\\xb4\\xec\\x9e\\x90</a>\\n      </h3>\\n      <h4 style=\"color:#4d5256; opacity: 0.6; margin-top:30px\">\\n        query\\xec\\x9d\\x98 \\xec\\x99\\xb8\\xeb\\xb6\\x80 \\xeb\\x9d\\xbc\\xec\\x9d\\xb4\\xeb\\xb8\\x8c\\xeb\\x9f\\xac\\xeb\\xa6\\xac\\xea\\xb0\\x80 \\xec\\x95\\x84\\xeb\\x8b\\x8c drag, drop \\xec\\x9d\\xb4\\xeb\\xb2\\xa4\\xed\\x8a\\xb8\\xeb\\xa5\\xbc \\xed\\x99\\x9c\\xec\\x9a\\xa9\\xed\\x95\\x98\\xec\\x97\\xac \\xea\\xb8\\xb0\\xeb\\x8a\\xa5 \\xea\\xb5\\xac\\xed\\x98\\x84\\xed\\x95\\xb4\\xeb\\xb3\\xb4\\xea\\xb8\\xb0\\n      </h4>\\n      <p class=\"author\">\\n        <span style=\"color:#4d5256; opacity: 0.4\" class=\"date\">2017-05-09 23:47:05 +0000  &nbsp;&nbsp;|&nbsp;&nbsp;  \\xeb\\xb0\\x95\\xec\\xa0\\x95\\xed\\x83\\x9c</span>\\n      </p>\\n      <hr style=\"margin-top:50px\">\\n  </div>\\n\\n  <div class=\"p\">\\n      <h3 style=\"margin-top:50px\">\\n          <a style=\"color:#4d5256; opacity: 0.8\" href=\"/blog/database/2017/05/04/how_to_use_mysqldump.html\">[database] mysqldump\\xeb\\xa5\\xbc \\xec\\x9d\\xb4\\xec\\x9a\\xa9\\xed\\x95\\x98\\xec\\x97\\xac \\xeb\\x8d\\xb0\\xec\\x9d\\xb4\\xed\\x84\\xb0 \\xeb\\xb0\\xb1\\xec\\x97\\x85, \\xeb\\xb3\\xb5\\xec\\x9b\\x90\\xed\\x95\\x98\\xea\\xb8\\xb0</a>\\n      </h3>\\n      <h4 style=\"color:#4d5256; opacity: 0.6; margin-top:30px\">\\n        mysqldump\\xeb\\xa5\\xbc \\xec\\x9d\\xb4\\xec\\x9a\\xa9\\xed\\x95\\x98\\xec\\x97\\xac \\xeb\\x94\\x94\\xeb\\xb9\\x84 \\xeb\\xb0\\xb1\\xec\\x97\\x85\\xea\\xb3\\xbc source\\xeb\\xa5\\xbc \\xec\\x9d\\xb4\\xec\\x9a\\xa9\\xed\\x95\\x98\\xec\\x97\\xac \\xeb\\x8d\\xb0\\xec\\x9d\\xb4\\xed\\x84\\xb0 \\xeb\\xb3\\xb5\\xec\\x9b\\x90\\xec\\x9d\\x84 \\xed\\x95\\xb4\\xeb\\xb3\\xb4\\xec\\x9e\\x90\\n      </h4>\\n      <p class=\"author\">\\n        <span style=\"color:#4d5256; opacity: 0.4\" class=\"date\">2017-05-04 05:33:05 +0000  &nbsp;&nbsp;|&nbsp;&nbsp;  \\xeb\\xb0\\x95\\xec\\xa0\\x95\\xed\\x83\\x9c</span>\\n      </p>\\n      <hr style=\"margin-top:50px\">\\n  </div>\\n\\n  <div class=\"p\">\\n      <h3 style=\"margin-top:50px\">\\n          <a style=\"color:#4d5256; opacity: 0.8\" href=\"/blog/database/2017/05/03/abou_mysql_remote_connect.html\">[database] mysql \\xec\\x9b\\x90\\xea\\xb2\\xa9\\xec\\xa0\\x91\\xec\\x86\\x8d\\xed\\x95\\x98\\xeb\\x8a\\x94 \\xeb\\xb0\\xa9\\xeb\\xb2\\x95</a>\\n      </h3>\\n      <h4 style=\"color:#4d5256; opacity: 0.6; margin-top:30px\">\\n        mysql \\xeb\\x94\\x94\\xeb\\xb9\\x84\\xec\\x84\\xa4\\xec\\xa0\\x95, \\xec\\x9c\\xa0\\xec\\xa0\\x80\\xec\\x84\\xa4\\xec\\xa0\\x95\\xec\\x9d\\x84 \\xed\\x86\\xb5\\xed\\x95\\xb4 \\xec\\x9b\\x90\\xea\\xb2\\xa9\\xec\\xa0\\x91\\xec\\x86\\x8d\\n      </h4>\\n      <p class=\"author\">\\n        <span style=\"color:#4d5256; opacity: 0.4\" class=\"date\">2017-05-03 11:43:05 +0000  &nbsp;&nbsp;|&nbsp;&nbsp;  \\xeb\\xb0\\x95\\xec\\xa0\\x95\\xed\\x83\\x9c</span>\\n      </p>\\n      <hr style=\"margin-top:50px\">\\n  </div>\\n\\n  <div class=\"p\">\\n      <h3 style=\"margin-top:50px\">\\n          <a style=\"color:#4d5256; opacity: 0.8\" href=\"/blog/node.js/2017/05/01/file_convert2.html\">[node.js] \\xed\\x8c\\x8c\\xec\\x9d\\xbc \\xeb\\xa6\\xac\\xeb\\x8d\\x94\\xea\\xb8\\xb0 \\xeb\\xa7\\x8c\\xeb\\x93\\xa4\\xea\\xb8\\xb0 - \\xec\\x82\\xac\\xec\\x9a\\xa9 \\xeb\\xaa\\xa8\\xeb\\x93\\x88 \\xec\\xa0\\x95\\xeb\\xa6\\xac, pdf\\xec\\x99\\x80 hwp \\xea\\xb5\\xac\\xec\\xa1\\xb0</a>\\n      </h3>\\n      <h4 style=\"color:#4d5256; opacity: 0.6; margin-top:30px\">\\n        docx, hwp, pdf \\xed\\x8c\\x8c\\xec\\x9d\\xbc\\n      </h4>\\n      <p class=\"author\">\\n        <span style=\"color:#4d5256; opacity: 0.4\" class=\"date\">2017-05-01 06:02:05 +0000  &nbsp;&nbsp;|&nbsp;&nbsp;  \\xeb\\xb0\\x95\\xec\\xa0\\x95\\xed\\x83\\x9c</span>\\n      </p>\\n      <hr style=\"margin-top:50px\">\\n  </div>\\n\\n  <div class=\"p\">\\n      <h3 style=\"margin-top:50px\">\\n          <a style=\"color:#4d5256; opacity: 0.8\" href=\"/blog/node.js/2017/04/30/file_convert1.html\">[node.js] \\xed\\x8c\\x8c\\xec\\x9d\\xbc \\xeb\\xa6\\xac\\xeb\\x8d\\x94\\xea\\xb8\\xb0 \\xeb\\xa7\\x8c\\xeb\\x93\\xa4\\xea\\xb8\\xb0 - pdf\\xeb\\xa5\\xbc html\\xeb\\xa1\\x9c \\xeb\\xb3\\x80\\xed\\x99\\x98, docx\\xeb\\xa5\\xbc pdf\\xeb\\xa1\\x9c \\xeb\\xb3\\x80\\xed\\x99\\x98</a>\\n      </h3>\\n      <h4 style=\"color:#4d5256; opacity: 0.6; margin-top:30px\">\\n        pdf\\xed\\x8c\\x8c\\xec\\x9d\\xbc html\\xeb\\xa1\\x9c \\xeb\\xb3\\x80\\xea\\xb2\\xbd\\xed\\x95\\x98\\xea\\xb8\\xb0\\n      </h4>\\n      <p class=\"author\">\\n        <span style=\"color:#4d5256; opacity: 0.4\" class=\"date\">2017-04-30 15:19:05 +0000  &nbsp;&nbsp;|&nbsp;&nbsp;  \\xeb\\xb0\\x95\\xec\\xa0\\x95\\xed\\x83\\x9c</span>\\n      </p>\\n      <hr style=\"margin-top:50px\">\\n  </div>\\n\\n  <div class=\"p\">\\n      <h3 style=\"margin-top:50px\">\\n          <a style=\"color:#4d5256; opacity: 0.8\" href=\"/blog/programming/2017/04/25/how_to_change_git_remote_origin.html\">[programming] git \\xec\\x9b\\x90\\xea\\xb2\\xa9 \\xec\\xa0\\x80\\xec\\x9e\\xa5\\xec\\x86\\x8c \\xeb\\xb0\\x94\\xea\\xbe\\xb8\\xea\\xb8\\xb0</a>\\n      </h3>\\n      <h4 style=\"color:#4d5256; opacity: 0.6; margin-top:30px\">\\n        remote set-url\\xec\\x9d\\x84 \\xec\\x9d\\xb4\\xec\\x9a\\xa9\\xed\\x95\\x98\\xec\\x97\\xac \\xec\\x9b\\x90\\xea\\xb2\\xa9 \\xec\\xa0\\x80\\xec\\x9e\\xa5\\xec\\x86\\x8c\\xeb\\xa5\\xbc \\xeb\\xb0\\x94\\xea\\xbe\\xb8\\xec\\x9e\\x90\\n      </h4>\\n      <p class=\"author\">\\n        <span style=\"color:#4d5256; opacity: 0.4\" class=\"date\">2017-04-25 13:09:05 +0000  &nbsp;&nbsp;|&nbsp;&nbsp;  \\xeb\\xb0\\x95\\xec\\xa0\\x95\\xed\\x83\\x9c</span>\\n      </p>\\n      <hr style=\"margin-top:50px\">\\n  </div>\\n\\n  <div class=\"p\">\\n      <h3 style=\"margin-top:50px\">\\n          <a style=\"color:#4d5256; opacity: 0.8\" href=\"/blog/programming/2017/04/25/how_to_change_working_directory_on_python.html\">[programming] python working directory\\xeb\\xa5\\xbc \\xeb\\xb0\\x94\\xea\\xbf\\x94\\xeb\\xb3\\xb4\\xec\\x9e\\x90</a>\\n      </h3>\\n      <h4 style=\"color:#4d5256; opacity: 0.6; margin-top:30px\">\\n        working directory\\xec\\x84\\xa4\\xec\\xa0\\x95\\xec\\x9d\\x84 \\xed\\x95\\x98\\xec\\x97\\xac \\xea\\xb2\\xbd\\xeb\\xa1\\x9c \\xeb\\xac\\xb8\\xec\\xa0\\x9c\\xeb\\xa5\\xbc \\xed\\x95\\xb4\\xea\\xb2\\xb0\\xed\\x95\\x98\\xec\\x9e\\x90\\n      </h4>\\n      <p class=\"author\">\\n        <span style=\"color:#4d5256; opacity: 0.4\" class=\"date\">2017-04-25 09:19:05 +0000  &nbsp;&nbsp;|&nbsp;&nbsp;  \\xeb\\xb0\\x95\\xec\\xa0\\x95\\xed\\x83\\x9c</span>\\n      </p>\\n      <hr style=\"margin-top:50px\">\\n  </div>\\n\\n  <div class=\"p\">\\n      <h3 style=\"margin-top:50px\">\\n          <a style=\"color:#4d5256; opacity: 0.8\" href=\"/blog/server/2017/04/24/docker_commends.html\">[server] docker commends</a>\\n      </h3>\\n      <h4 style=\"color:#4d5256; opacity: 0.6; margin-top:30px\">\\n        \\xeb\\x8f\\x84\\xec\\xbb\\xa4\\xec\\x9d\\x98 \\xeb\\xaa\\x85\\xeb\\xa0\\xb9\\xec\\x96\\xb4\\xeb\\x93\\xa4\\xec\\x9d\\x84 \\xea\\xb0\\x84\\xeb\\x8b\\xa8\\xed\\x95\\x98\\xea\\xb2\\x8c \\xec\\x95\\x8c\\xec\\x95\\x84\\xeb\\xb3\\xb4\\xea\\xb8\\xb0\\n      </h4>\\n      <p class=\"author\">\\n        <span style=\"color:#4d5256; opacity: 0.4\" class=\"date\">2017-04-24 23:19:05 +0000  &nbsp;&nbsp;|&nbsp;&nbsp;  \\xeb\\xb0\\x95\\xec\\xa0\\x95\\xed\\x83\\x9c</span>\\n      </p>\\n      <hr style=\"margin-top:50px\">\\n  </div>\\n\\n  <div class=\"p\">\\n      <h3 style=\"margin-top:50px\">\\n          <a style=\"color:#4d5256; opacity: 0.8\" href=\"/blog/programming/2017/04/24/utc_to_timestamp_change.html\">[programming] python utc\\xeb\\xa5\\xbc timestamp\\xeb\\xa1\\x9c \\xeb\\xb0\\x94\\xea\\xbe\\xb8\\xeb\\x8a\\x94 \\xeb\\xb0\\xa9\\xeb\\xb2\\x95</a>\\n      </h3>\\n      <h4 style=\"color:#4d5256; opacity: 0.6; margin-top:30px\">\\n        python\\xec\\x97\\x90\\xec\\x84\\x9c utc\\xeb\\xa5\\xbc timestamp\\xeb\\xa1\\x9c \\xeb\\xb0\\x94\\xea\\xbe\\xb8\\xeb\\x8a\\x94 \\xeb\\xb0\\xa9\\xeb\\xb2\\x95\\n      </h4>\\n      <p class=\"author\">\\n        <span style=\"color:#4d5256; opacity: 0.4\" class=\"date\">2017-04-24 13:19:05 +0000  &nbsp;&nbsp;|&nbsp;&nbsp;  \\xeb\\xb0\\x95\\xec\\xa0\\x95\\xed\\x83\\x9c</span>\\n      </p>\\n      <hr style=\"margin-top:50px\">\\n  </div>\\n\\n\\n<!-- Pagination links -->\\n\\n<div class=\"pagination\">\\n  <ul class=\"pager\">\\n      \\n        <span>Prev</span>\\n      \\n\\n    \\n      \\n          <em>1</em>\\n      \\n    \\n      \\n          <a href=\"/page2/\">2</a>\\n      \\n    \\n      \\n          <a href=\"/page3/\">3</a>\\n      \\n    \\n      \\n          <a href=\"/page4/\">4</a>\\n      \\n    \\n\\n      \\n        <li>\\n          <a href=\"/page2/\">Next</a>\\n        </li>\\n      \\n  </ul>\\n</div>\\n\\n\\n  <ul class=\"post-list\">\\n    \\n      <li>\\n        \\n        <span class=\"post-meta\">May 20, 2017</span>\\n\\n        <h2>\\n          <a class=\"post-link\" href=\"/blog/programming/2017/05/20/javascript_react_setting.html\">[react] react \\xec\\x9e\\x91\\xec\\x97\\x85\\xed\\x99\\x98\\xea\\xb2\\xbd \\xec\\x84\\xa4</a>\\n        </h2>\\n      </li>\\n    \\n      <li>\\n        \\n        <span class=\"post-meta\">May 9, 2017</span>\\n\\n        <h2>\\n          <a class=\"post-link\" href=\"/blog/programming/2017/05/09/javascript_drag_and_drop.html\">drag and drop\\xec\\x9d\\x84 \\xec\\x9d\\xb4\\xec\\x9a\\xa9\\xed\\x95\\x98\\xec\\x97\\xac \\xed\\x8c\\x8c\\xec\\x9d\\xbc \\xec\\x97\\x85\\xeb\\xa1\\x9c\\xeb\\x93\\x9c\\xeb\\xa5\\xbc \\xed\\x95\\xb4\\xeb\\xb3\\xb4\\xec\\x9e\\x90</a>\\n        </h2>\\n      </li>\\n    \\n      <li>\\n        \\n        <span class=\"post-meta\">May 4, 2017</span>\\n\\n        <h2>\\n          <a class=\"post-link\" href=\"/blog/database/2017/05/04/how_to_use_mysqldump.html\">mysqldump\\xeb\\xa5\\xbc \\xec\\x9d\\xb4\\xec\\x9a\\xa9\\xed\\x95\\x98\\xec\\x97\\xac \\xeb\\x8d\\xb0\\xec\\x9d\\xb4\\xed\\x84\\xb0 \\xeb\\xb0\\xb1\\xec\\x97\\x85, \\xeb\\xb3\\xb5\\xec\\x9b\\x90\\xed\\x95\\x98\\xea\\xb8\\xb0</a>\\n        </h2>\\n      </li>\\n    \\n      <li>\\n        \\n        <span class=\"post-meta\">May 3, 2017</span>\\n\\n        <h2>\\n          <a class=\"post-link\" href=\"/blog/database/2017/05/03/abou_mysql_remote_connect.html\">mysql \\xec\\x9b\\x90\\xea\\xb2\\xa9\\xec\\xa0\\x91\\xec\\x86\\x8d\\xed\\x95\\x98\\xeb\\x8a\\x94 \\xeb\\xb0\\xa9\\xeb\\xb2\\x95</a>\\n        </h2>\\n      </li>\\n    \\n      <li>\\n        \\n        <span class=\"post-meta\">May 1, 2017</span>\\n\\n        <h2>\\n          <a class=\"post-link\" href=\"/blog/node.js/2017/05/01/file_convert2.html\">\\xed\\x8c\\x8c\\xec\\x9d\\xbc \\xeb\\xa6\\xac\\xeb\\x8d\\x94\\xea\\xb8\\xb0 \\xeb\\xa7\\x8c\\xeb\\x93\\xa4\\xea\\xb8\\xb0 - \\xec\\x82\\xac\\xec\\x9a\\xa9 \\xeb\\xaa\\xa8\\xeb\\x93\\x88 \\xec\\xa0\\x95\\xeb\\xa6\\xac, pdf\\xec\\x99\\x80 hwp \\xea\\xb5\\xac\\xec\\xa1\\xb0</a>\\n        </h2>\\n      </li>\\n    \\n      <li>\\n        \\n        <span class=\"post-meta\">Apr 30, 2017</span>\\n\\n        <h2>\\n          <a class=\"post-link\" href=\"/blog/node.js/2017/04/30/file_convert1.html\">\\xed\\x8c\\x8c\\xec\\x9d\\xbc \\xeb\\xa6\\xac\\xeb\\x8d\\x94\\xea\\xb8\\xb0 \\xeb\\xa7\\x8c\\xeb\\x93\\xa4\\xea\\xb8\\xb0 - pdf\\xeb\\xa5\\xbc html\\xeb\\xa1\\x9c \\xeb\\xb3\\x80\\xed\\x99\\x98, docx\\xeb\\xa5\\xbc pdf\\xeb\\xa1\\x9c \\xeb\\xb3\\x80\\xed\\x99\\x98</a>\\n        </h2>\\n      </li>\\n    \\n      <li>\\n        \\n        <span class=\"post-meta\">Apr 25, 2017</span>\\n\\n        <h2>\\n          <a class=\"post-link\" href=\"/blog/programming/2017/04/25/how_to_change_git_remote_origin.html\">git \\xec\\x9b\\x90\\xea\\xb2\\xa9 \\xec\\xa0\\x80\\xec\\x9e\\xa5\\xec\\x86\\x8c \\xeb\\xb0\\x94\\xea\\xbe\\xb8\\xea\\xb8\\xb0</a>\\n        </h2>\\n      </li>\\n    \\n      <li>\\n        \\n        <span class=\"post-meta\">Apr 25, 2017</span>\\n\\n        <h2>\\n          <a class=\"post-link\" href=\"/blog/programming/2017/04/25/how_to_change_working_directory_on_python.html\">python working directory\\xeb\\xa5\\xbc \\xeb\\xb0\\x94\\xea\\xbf\\x94\\xeb\\xb3\\xb4\\xec\\x9e\\x90</a>\\n        </h2>\\n      </li>\\n    \\n      <li>\\n        \\n        <span class=\"post-meta\">Apr 24, 2017</span>\\n\\n        <h2>\\n          <a class=\"post-link\" href=\"/blog/server/2017/04/24/docker_commends.html\">docker commends</a>\\n        </h2>\\n      </li>\\n    \\n      <li>\\n        \\n        <span class=\"post-meta\">Apr 24, 2017</span>\\n\\n        <h2>\\n          <a class=\"post-link\" href=\"/blog/programming/2017/04/24/utc_to_timestamp_change.html\">python utc\\xeb\\xa5\\xbc timestamp\\xeb\\xa1\\x9c \\xeb\\xb0\\x94\\xea\\xbe\\xb8\\xeb\\x8a\\x94 \\xeb\\xb0\\xa9\\xeb\\xb2\\x95</a>\\n        </h2>\\n      </li>\\n    \\n      <li>\\n        \\n        <span class=\"post-meta\">Apr 23, 2017</span>\\n\\n        <h2>\\n          <a class=\"post-link\" href=\"/blog/programming/2017/04/23/how_to_install_php_on_ubuntu.html\">ubuntu\\xec\\x97\\x90 php \\xea\\xb0\\x9c\\xeb\\xb0\\x9c\\xed\\x99\\x98\\xea\\xb2\\xbd \\xec\\x85\\x8b\\xed\\x8c\\x85</a>\\n        </h2>\\n      </li>\\n    \\n      <li>\\n        \\n        <span class=\"post-meta\">Apr 22, 2017</span>\\n\\n        <h2>\\n          <a class=\"post-link\" href=\"/blog/server/2017/04/22/how_to_use_azure.html\">azure-cli\\xeb\\xa5\\xbc \\xec\\x9d\\xb4\\xec\\x9a\\xa9\\xed\\x95\\x98\\xec\\x97\\xac azure \\xec\\x82\\xac\\xec\\x9a\\xa9\\xed\\x95\\x98\\xea\\xb8\\xb0</a>\\n        </h2>\\n      </li>\\n    \\n      <li>\\n        \\n        <span class=\"post-meta\">Apr 21, 2017</span>\\n\\n        <h2>\\n          <a class=\"post-link\" href=\"/blog/tools/2017/04/21/how_to_create_ssh_key.html\">ssh-keygen\\xec\\x9d\\x84 \\xec\\x9d\\xb4\\xec\\x9a\\xa9\\xed\\x95\\x9c ssh \\xed\\x82\\xa4 \\xed\\x8c\\x8c\\xec\\x9d\\xbc \\xec\\x83\\x9d\\xec\\x84\\xb1</a>\\n        </h2>\\n      </li>\\n    \\n      <li>\\n        \\n        <span class=\"post-meta\">Apr 19, 2017</span>\\n\\n        <h2>\\n          <a class=\"post-link\" href=\"/blog/programming/2017/04/19/python_generator.html\">\\xec\\xa0\\x9c\\xeb\\x84\\x88\\xeb\\xa0\\x88\\xec\\x9d\\xb4\\xed\\x84\\xb0(generator)\\xeb\\xa5\\xbc \\xed\\x99\\x9c\\xec\\x9a\\xa9\\xed\\x95\\x9c \\xed\\x9a\\xa8\\xec\\x9c\\xa8\\xec\\xa0\\x81\\xec\\x9d\\xb8 \\xec\\xbd\\x94\\xeb\\x93\\x9c\\xec\\x9e\\x91\\xec\\x84\\xb1</a>\\n        </h2>\\n      </li>\\n    \\n      <li>\\n        \\n        <span class=\"post-meta\">Apr 15, 2017</span>\\n\\n        <h2>\\n          <a class=\"post-link\" href=\"/blog/node.js/2017/04/15/for_jade_template_engine.html\">Jade Template Engine\\xec\\x9d\\x84 \\xed\\x99\\x9c\\xec\\x9a\\xa9\\xed\\x95\\x9c \\xed\\x9a\\xa8\\xec\\x9c\\xa8\\xec\\xa0\\x81 \\xea\\xb4\\x80\\xeb\\xa6\\xac</a>\\n        </h2>\\n      </li>\\n    \\n      <li>\\n        \\n        <span class=\"post-meta\">Apr 12, 2017</span>\\n\\n        <h2>\\n          <a class=\"post-link\" href=\"/blog/tools/2017/04/12/vimrc_auto_setting.html\">vim \\xea\\xb0\\x81\\xec\\xa2\\x85 \\xec\\x84\\xa4\\xec\\xa0\\x95\\xeb\\x93\\xa4\\xeb\\xa1\\x9c \\xeb\\xb6\\x80\\xed\\x84\\xb0 \\xea\\xb7\\x80\\xec\\xb0\\xa8\\xeb\\x8b\\x88\\xec\\xa6\\x98\\xec\\x9d\\x84 \\xeb\\xb2\\x97\\xec\\x96\\xb4\\xeb\\x82\\x98\\xec\\x9e\\x90</a>\\n        </h2>\\n      </li>\\n    \\n      <li>\\n        \\n        <span class=\"post-meta\">Apr 9, 2017</span>\\n\\n        <h2>\\n          <a class=\"post-link\" href=\"/blog/node.js/2017/04/09/sequelize_migrations.html\">sequelize - Migrations[\\xeb\\xb2\\x88\\xec\\x97\\xad]</a>\\n        </h2>\\n      </li>\\n    \\n      <li>\\n        \\n        <span class=\"post-meta\">Apr 9, 2017</span>\\n\\n        <h2>\\n          <a class=\"post-link\" href=\"/blog/node.js/2017/04/09/sequelize_usage.html\">sequelize - Usage[\\xeb\\xb2\\x88\\xec\\x97\\xad]</a>\\n        </h2>\\n      </li>\\n    \\n      <li>\\n        \\n        <span class=\"post-meta\">Apr 9, 2017</span>\\n\\n        <h2>\\n          <a class=\"post-link\" href=\"/blog/node.js/2017/04/09/sequelize_hooks.html\">sequelize - Hooks[\\xeb\\xb2\\x88\\xec\\x97\\xad]</a>\\n        </h2>\\n      </li>\\n    \\n      <li>\\n        \\n        <span class=\"post-meta\">Apr 9, 2017</span>\\n\\n        <h2>\\n          <a class=\"post-link\" href=\"/blog/node.js/2017/04/09/sequelize_querying.html\">sequelize - Querying[\\xeb\\xb2\\x88\\xec\\x97\\xad]</a>\\n        </h2>\\n      </li>\\n    \\n      <li>\\n        \\n        <span class=\"post-meta\">Apr 9, 2017</span>\\n\\n        <h2>\\n          <a class=\"post-link\" href=\"/blog/node.js/2017/04/09/sequelize_working_with_legacy_tables.html\">sequelize - Working With Legacy Tables[\\xeb\\xb2\\x88\\xec\\x97\\xad]</a>\\n        </h2>\\n      </li>\\n    \\n      <li>\\n        \\n        <span class=\"post-meta\">Apr 9, 2017</span>\\n\\n        <h2>\\n          <a class=\"post-link\" href=\"/blog/node.js/2017/04/09/sequelize_Getting_Started_translation.html\">sequelize - Getting Started[\\xeb\\xb2\\x88\\xec\\x97\\xad]</a>\\n        </h2>\\n      </li>\\n    \\n      <li>\\n        \\n        <span class=\"post-meta\">Apr 9, 2017</span>\\n\\n        <h2>\\n          <a class=\"post-link\" href=\"/blog/node.js/2017/04/09/sequelize_home.html\">sequelize - Home[\\xeb\\xb2\\x88\\xec\\x97\\xad]</a>\\n        </h2>\\n      </li>\\n    \\n      <li>\\n        \\n        <span class=\"post-meta\">Apr 8, 2017</span>\\n\\n        <h2>\\n          <a class=\"post-link\" href=\"/blog/machine-learning/2017/04/08/Classification_Using_NaiveBayes.html\">Classification using Naive Bayes</a>\\n        </h2>\\n      </li>\\n    \\n      <li>\\n        \\n        <span class=\"post-meta\">Apr 8, 2017</span>\\n\\n        <h2>\\n          <a class=\"post-link\" href=\"/blog/framework/2017/04/08/aiohttp_struct.html\">Structure aiohttp Of python</a>\\n        </h2>\\n      </li>\\n    \\n      <li>\\n        \\n        <span class=\"post-meta\">Apr 8, 2017</span>\\n\\n        <h2>\\n          <a class=\"post-link\" href=\"/blog/framework/2017/04/08/express_struct.html\">Structure Express Of Node</a>\\n        </h2>\\n      </li>\\n    \\n      <li>\\n        \\n        <span class=\"post-meta\">Apr 8, 2017</span>\\n\\n        <h2>\\n          <a class=\"post-link\" href=\"/blog/programming/2017/04/08/sync_async_and_promise.html\">Javascript Asynchronous, synchronous and Promise</a>\\n        </h2>\\n      </li>\\n    \\n      <li>\\n        \\n        <span class=\"post-meta\">Apr 6, 2017</span>\\n\\n        <h2>\\n          <a class=\"post-link\" href=\"/blog/database/2017/04/06/about-database.html\">RDBMS vs NoSQL vs InMemory</a>\\n        </h2>\\n      </li>\\n    \\n      <li>\\n        \\n        <span class=\"post-meta\">Apr 5, 2017</span>\\n\\n        <h2>\\n          <a class=\"post-link\" href=\"/blog/news/2017/04/05/django_111_release.html\">Django 1.11 Release</a>\\n        </h2>\\n      </li>\\n    \\n      <li>\\n        \\n        <span class=\"post-meta\">Apr 4, 2017</span>\\n\\n        <h2>\\n          <a class=\"post-link\" href=\"/blog/programming/2017/04/04/javascript-arrow-function_AND_array.prototype_COMBINATE.html\">javascript arrow function\\xea\\xb3\\xbc array.prototype\\xec\\x9d\\x98 \\xec\\xa1\\xb0\\xed\\x95\\xa9</a>\\n        </h2>\\n      </li>\\n    \\n      <li>\\n        \\n        <span class=\"post-meta\">Apr 4, 2017</span>\\n\\n        <h2>\\n          <a class=\"post-link\" href=\"/blog/intro/2017/04/04/welcome-to-jekyll.html\">Welcome to mung</a>\\n        </h2>\\n      </li>\\n    \\n  </ul>\\n\\n  <p class=\"rss-subscribe\">subscribe <a href=\"/feed.xml\">via RSS</a></p>\\n\\n</div>\\n\\n      </div>\\n    </main>\\n\\n    <footer class=\"site-footer\">\\n\\n  <div class=\"wrapper\">\\n\\n    <h2 class=\"footer-heading\">Home</h2>\\n\\n    <div class=\"footer-col-wrapper\">\\n      <div class=\"footer-col footer-col-1\">\\n        <ul class=\"contact-list\">\\n          <li>\\n            \\n              Home\\n            \\n            </li>\\n            \\n            <li><a href=\"mailto:pjt3591oo@gmail.com\">pjt3591oo@gmail.com</a></li>\\n            \\n        </ul>\\n      </div>\\n\\n      <div class=\"footer-col footer-col-2\">\\n        <ul class=\"social-media-list\">\\n          \\n          <li>\\n            <a href=\"https://github.com/jekyll\"><span class=\"icon icon--github\"><svg viewBox=\"0 0 16 16\" width=\"16px\" height=\"16px\"><path fill=\"#828282\" d=\"M7.999,0.431c-4.285,0-7.76,3.474-7.76,7.761 c0,3.428,2.223,6.337,5.307,7.363c0.388,0.071,0.53-0.168,0.53-0.374c0-0.184-0.007-0.672-0.01-1.32 c-2.159,0.469-2.614-1.04-2.614-1.04c-0.353-0.896-0.862-1.135-0.862-1.135c-0.705-0.481,0.053-0.472,0.053-0.472 c0.779,0.055,1.189,0.8,1.189,0.8c0.692,1.186,1.816,0.843,2.258,0.645c0.071-0.502,0.271-0.843,0.493-1.037 C4.86,11.425,3.049,10.76,3.049,7.786c0-0.847,0.302-1.54,0.799-2.082C3.768,5.507,3.501,4.718,3.924,3.65 c0,0,0.652-0.209,2.134,0.796C6.677,4.273,7.34,4.187,8,4.184c0.659,0.003,1.323,0.089,1.943,0.261 c1.482-1.004,2.132-0.796,2.132-0.796c0.423,1.068,0.157,1.857,0.077,2.054c0.497,0.542,0.798,1.235,0.798,2.082 c0,2.981-1.814,3.637-3.543,3.829c0.279,0.24,0.527,0.713,0.527,1.437c0,1.037-0.01,1.874-0.01,2.129 c0,0.208,0.14,0.449,0.534,0.373c3.081-1.028,5.302-3.935,5.302-7.362C15.76,3.906,12.285,0.431,7.999,0.431z\"/></svg>\\n</span><span class=\"username\">jekyll</span></a>\\n\\n          </li>\\n          \\n\\n          \\n          <li>\\n            <a href=\"https://twitter.com/jekyllrb\"><span class=\"icon icon--twitter\"><svg viewBox=\"0 0 16 16\" width=\"16px\" height=\"16px\"><path fill=\"#828282\" d=\"M15.969,3.058c-0.586,0.26-1.217,0.436-1.878,0.515c0.675-0.405,1.194-1.045,1.438-1.809c-0.632,0.375-1.332,0.647-2.076,0.793c-0.596-0.636-1.446-1.033-2.387-1.033c-1.806,0-3.27,1.464-3.27,3.27 c0,0.256,0.029,0.506,0.085,0.745C5.163,5.404,2.753,4.102,1.14,2.124C0.859,2.607,0.698,3.168,0.698,3.767 c0,1.134,0.577,2.135,1.455,2.722C1.616,6.472,1.112,6.325,0.671,6.08c0,0.014,0,0.027,0,0.041c0,1.584,1.127,2.906,2.623,3.206 C3.02,9.402,2.731,9.442,2.433,9.442c-0.211,0-0.416-0.021-0.615-0.059c0.416,1.299,1.624,2.245,3.055,2.271 c-1.119,0.877-2.529,1.4-4.061,1.4c-0.264,0-0.524-0.015-0.78-0.046c1.447,0.928,3.166,1.469,5.013,1.469 c6.015,0,9.304-4.983,9.304-9.304c0-0.142-0.003-0.283-0.009-0.423C14.976,4.29,15.531,3.714,15.969,3.058z\"/></svg>\\n</span><span class=\"username\">jekyllrb</span></a>\\n\\n          </li>\\n          \\n        </ul>\\n      </div>\\n\\n      <div class=\"footer-col footer-col-3\">\\n        <p>\\xeb\\xa9\\x8d\\xea\\xb0\\x9c\\xec\\x9d\\x98 \\xea\\xb0\\x9c\\xeb\\xb0\\x9c \\xeb\\xb8\\x94\\xeb\\xa1\\x9c\\xea\\xb7\\xb8\\xec\\x9e\\x85\\xeb\\x8b\\x88\\xeb\\x8b\\xa4. \\xea\\xb6\\x81\\xea\\xb8\\x88\\xed\\x95\\x98\\xec\\x8b\\xa0 \\xec\\x82\\xac\\xed\\x95\\xad \\xed\\x98\\xb9\\xec\\x9d\\x80 \\xec\\xa0\\x84\\xeb\\x8b\\xac\\xed\\x95\\x98\\xea\\xb3\\xa0 \\xec\\x8b\\xb6\\xec\\x9d\\x80 \\xeb\\x82\\xb4\\xec\\x9a\\xa9\\xec\\x9d\\xb4 \\xec\\x9e\\x88\\xec\\x9c\\xbc\\xec\\x8b\\x9c\\xeb\\xa9\\xb4 \\xeb\\xa9\\x94\\xec\\x9d\\xbc\\xeb\\xa1\\x9c \\xeb\\xac\\xb8\\xec\\x9d\\x98 \\xec\\xa3\\xbc\\xec\\x84\\xb8\\xec\\x9a\\x94.\\n</p>\\n      </div>\\n    </div>\\n\\n  </div>\\n\\n</footer>\\n\\n\\n  </body>\\n\\n</html>\\n'\n"
     ]
    }
   ],
   "source": [
    "print(res.content)"
   ]
  },
  {
   "cell_type": "markdown",
   "metadata": {},
   "source": [
    "한글깨짐, 인코딩 문제를 해결할 수 있다. 그대로 읽는 것이 아니라 binary로 바꿔서 가져오기 때문에.."
   ]
  },
  {
   "cell_type": "markdown",
   "metadata": {},
   "source": [
    "#### UTF-8\n",
    "조합형 인코딩 방식.. 오늘날 웹에서 선호되는 방식..\n",
    "#### EUC-KR\n",
    "완성형 인코딩 방식..  "
   ]
  },
  {
   "cell_type": "code",
   "execution_count": 22,
   "metadata": {},
   "outputs": [
    {
     "data": {
      "text/plain": [
       "'utf-8'"
      ]
     },
     "execution_count": 22,
     "metadata": {},
     "output_type": "execute_result"
    }
   ],
   "source": [
    "res.encoding"
   ]
  },
  {
   "cell_type": "markdown",
   "metadata": {},
   "source": [
    "## 데이터 보내는 법.\n",
    "requests로 요청할 때 데이터를 실어 보낼 수 있다. 쿼리스트링같은 경우 URL에 직접 표현 할 수 있지만 번거롭다.  \n",
    "데이터를 딕셔너리 형태로 만들어 보내는 방식으로 쉽게 가능.. 헤더, 쿠키 데이터도 원하는 값으로 변경하여 요청 가능하다  \n",
    "특정 페이지는 헤더의 user-agent가 비었거나, 쿠키가 비어있을 경우 정상적으로 HTML을 주지 않을 수 있다.  \n",
    "이럴 때는 쿠키를 직접 만들어야 한다.  "
   ]
  },
  {
   "cell_type": "code",
   "execution_count": 23,
   "metadata": {},
   "outputs": [
    {
     "name": "stdout",
     "output_type": "stream",
     "text": [
      "https://pjt3591oo.github.io/?key1=value1&key2=value2\n"
     ]
    }
   ],
   "source": [
    "# 1. 쿼리스트링 데이터 만들어 요청. 요청할 때 필요한 데이터를 두 번째 인자부터 넣을 수 있다.\n",
    "res = rq.get(url, params={\"key1\": \"value1\", \"key2\": \"value2\"})\n",
    "print(res.url)"
   ]
  },
  {
   "cell_type": "markdown",
   "metadata": {},
   "source": [
    "## post  요청 보내기-body에 데이터 추가.\n",
    "POST 요청을 할 때 데이터가 URL에 포함되어 있지 않고 header의 body에 포함되기 때문에 반드시 추가적인 인자를 넣어 보내야 함.  \n",
    "쿼리스트링은 params를 이용했고, body 데이터에 추가할 땐 data를 이용. "
   ]
  },
  {
   "cell_type": "code",
   "execution_count": 24,
   "metadata": {},
   "outputs": [
    {
     "name": "stdout",
     "output_type": "stream",
     "text": [
      "http://www.example.com/\n"
     ]
    }
   ],
   "source": [
    "url = \"http://www.example.com\"\n",
    "res = rq.post(url, data={\"key1\": \"value1\", \"key2\": \"value2\"})\n",
    "print(res.url)"
   ]
  },
  {
   "cell_type": "markdown",
   "metadata": {},
   "source": [
    "data 키워드를 이용해서 post 요청 시 데이터를 포함하여 보낼 수 있지만, 단순히 data=dict()를 하면 정상적으로 요청이 안 될 수 있다.  \n",
    "이 때는 딕셔너리 형태를 유지한 문자열 형태로 데이터를 전달해야함.. json 사용!!"
   ]
  },
  {
   "cell_type": "code",
   "execution_count": 25,
   "metadata": {},
   "outputs": [
    {
     "name": "stdout",
     "output_type": "stream",
     "text": [
      "http://www.example.com/\n"
     ]
    }
   ],
   "source": [
    "import json\n",
    "res = rq.post(url, data=json.dumps({\"key1\": \"value1\", \"key2\": \"value2\"}))\n",
    "print(res.url)"
   ]
  },
  {
   "cell_type": "code",
   "execution_count": 26,
   "metadata": {},
   "outputs": [
    {
     "data": {
      "text/plain": [
       "'{\"1\": \"3\", \"2\": 5}'"
      ]
     },
     "execution_count": 26,
     "metadata": {},
     "output_type": "execute_result"
    }
   ],
   "source": [
    "json.dumps({'1':'3', '2': 5})"
   ]
  },
  {
   "cell_type": "markdown",
   "metadata": {},
   "source": [
    "큰따옴표 \"\"로 키와 값을 표시해야 하므로 str(dict())로 바꿔주는게 아니라 json.dumps 이용!"
   ]
  },
  {
   "cell_type": "markdown",
   "metadata": {},
   "source": [
    "## 헤더 설정\n",
    "헤더를 설정할 때는 headers를 이용"
   ]
  },
  {
   "cell_type": "code",
   "execution_count": 27,
   "metadata": {},
   "outputs": [
    {
     "name": "stdout",
     "output_type": "stream",
     "text": [
      "https://pjt3591oo.github.io/\n"
     ]
    }
   ],
   "source": [
    "url = \"https://pjt3591oo.github.io/\"\n",
    "\n",
    "res = rq.get(url, headers={\"User-Agent\": \"Mozilla/5.0 (Macintosh; Intel Mac OS X 10_12_5) AppleWebKit/537.36 (KHTML, like Gecko)Chrome/60.0.3112.113 Safari/537.36\"})\n",
    "\n",
    "print(res.url)"
   ]
  },
  {
   "cell_type": "markdown",
   "metadata": {},
   "source": [
    "## 예외처리\n",
    "try except 구문으로 처리.."
   ]
  },
  {
   "cell_type": "code",
   "execution_count": 28,
   "metadata": {},
   "outputs": [
    {
     "ename": "MissingSchema",
     "evalue": "Invalid URL 'blog.naver.com/pjt3591oo': No schema supplied. Perhaps you meant http://blog.naver.com/pjt3591oo?",
     "output_type": "error",
     "traceback": [
      "\u001b[1;31m---------------------------------------------------------------------------\u001b[0m",
      "\u001b[1;31mMissingSchema\u001b[0m                             Traceback (most recent call last)",
      "\u001b[1;32m<ipython-input-28-96cede38a8f8>\u001b[0m in \u001b[0;36m<module>\u001b[1;34m()\u001b[0m\n\u001b[0;32m      1\u001b[0m \u001b[0murl\u001b[0m \u001b[1;33m=\u001b[0m \u001b[1;34m\"blog.naver.com/pjt3591oo\"\u001b[0m\u001b[1;33m\u001b[0m\u001b[0m\n\u001b[1;32m----> 2\u001b[1;33m \u001b[0mres\u001b[0m \u001b[1;33m=\u001b[0m \u001b[0mrq\u001b[0m\u001b[1;33m.\u001b[0m\u001b[0mget\u001b[0m\u001b[1;33m(\u001b[0m\u001b[0murl\u001b[0m\u001b[1;33m)\u001b[0m\u001b[1;33m\u001b[0m\u001b[0m\n\u001b[0m",
      "\u001b[1;32mC:\\Anaconda\\lib\\site-packages\\requests\\api.py\u001b[0m in \u001b[0;36mget\u001b[1;34m(url, params, **kwargs)\u001b[0m\n\u001b[0;32m     70\u001b[0m \u001b[1;33m\u001b[0m\u001b[0m\n\u001b[0;32m     71\u001b[0m     \u001b[0mkwargs\u001b[0m\u001b[1;33m.\u001b[0m\u001b[0msetdefault\u001b[0m\u001b[1;33m(\u001b[0m\u001b[1;34m'allow_redirects'\u001b[0m\u001b[1;33m,\u001b[0m \u001b[1;32mTrue\u001b[0m\u001b[1;33m)\u001b[0m\u001b[1;33m\u001b[0m\u001b[0m\n\u001b[1;32m---> 72\u001b[1;33m     \u001b[1;32mreturn\u001b[0m \u001b[0mrequest\u001b[0m\u001b[1;33m(\u001b[0m\u001b[1;34m'get'\u001b[0m\u001b[1;33m,\u001b[0m \u001b[0murl\u001b[0m\u001b[1;33m,\u001b[0m \u001b[0mparams\u001b[0m\u001b[1;33m=\u001b[0m\u001b[0mparams\u001b[0m\u001b[1;33m,\u001b[0m \u001b[1;33m**\u001b[0m\u001b[0mkwargs\u001b[0m\u001b[1;33m)\u001b[0m\u001b[1;33m\u001b[0m\u001b[0m\n\u001b[0m\u001b[0;32m     73\u001b[0m \u001b[1;33m\u001b[0m\u001b[0m\n\u001b[0;32m     74\u001b[0m \u001b[1;33m\u001b[0m\u001b[0m\n",
      "\u001b[1;32mC:\\Anaconda\\lib\\site-packages\\requests\\api.py\u001b[0m in \u001b[0;36mrequest\u001b[1;34m(method, url, **kwargs)\u001b[0m\n\u001b[0;32m     56\u001b[0m     \u001b[1;31m# cases, and look like a memory leak in others.\u001b[0m\u001b[1;33m\u001b[0m\u001b[1;33m\u001b[0m\u001b[0m\n\u001b[0;32m     57\u001b[0m     \u001b[1;32mwith\u001b[0m \u001b[0msessions\u001b[0m\u001b[1;33m.\u001b[0m\u001b[0mSession\u001b[0m\u001b[1;33m(\u001b[0m\u001b[1;33m)\u001b[0m \u001b[1;32mas\u001b[0m \u001b[0msession\u001b[0m\u001b[1;33m:\u001b[0m\u001b[1;33m\u001b[0m\u001b[0m\n\u001b[1;32m---> 58\u001b[1;33m         \u001b[1;32mreturn\u001b[0m \u001b[0msession\u001b[0m\u001b[1;33m.\u001b[0m\u001b[0mrequest\u001b[0m\u001b[1;33m(\u001b[0m\u001b[0mmethod\u001b[0m\u001b[1;33m=\u001b[0m\u001b[0mmethod\u001b[0m\u001b[1;33m,\u001b[0m \u001b[0murl\u001b[0m\u001b[1;33m=\u001b[0m\u001b[0murl\u001b[0m\u001b[1;33m,\u001b[0m \u001b[1;33m**\u001b[0m\u001b[0mkwargs\u001b[0m\u001b[1;33m)\u001b[0m\u001b[1;33m\u001b[0m\u001b[0m\n\u001b[0m\u001b[0;32m     59\u001b[0m \u001b[1;33m\u001b[0m\u001b[0m\n\u001b[0;32m     60\u001b[0m \u001b[1;33m\u001b[0m\u001b[0m\n",
      "\u001b[1;32mC:\\Anaconda\\lib\\site-packages\\requests\\sessions.py\u001b[0m in \u001b[0;36mrequest\u001b[1;34m(self, method, url, params, data, headers, cookies, files, auth, timeout, allow_redirects, proxies, hooks, stream, verify, cert, json)\u001b[0m\n\u001b[0;32m    492\u001b[0m             \u001b[0mhooks\u001b[0m\u001b[1;33m=\u001b[0m\u001b[0mhooks\u001b[0m\u001b[1;33m,\u001b[0m\u001b[1;33m\u001b[0m\u001b[0m\n\u001b[0;32m    493\u001b[0m         )\n\u001b[1;32m--> 494\u001b[1;33m         \u001b[0mprep\u001b[0m \u001b[1;33m=\u001b[0m \u001b[0mself\u001b[0m\u001b[1;33m.\u001b[0m\u001b[0mprepare_request\u001b[0m\u001b[1;33m(\u001b[0m\u001b[0mreq\u001b[0m\u001b[1;33m)\u001b[0m\u001b[1;33m\u001b[0m\u001b[0m\n\u001b[0m\u001b[0;32m    495\u001b[0m \u001b[1;33m\u001b[0m\u001b[0m\n\u001b[0;32m    496\u001b[0m         \u001b[0mproxies\u001b[0m \u001b[1;33m=\u001b[0m \u001b[0mproxies\u001b[0m \u001b[1;32mor\u001b[0m \u001b[1;33m{\u001b[0m\u001b[1;33m}\u001b[0m\u001b[1;33m\u001b[0m\u001b[0m\n",
      "\u001b[1;32mC:\\Anaconda\\lib\\site-packages\\requests\\sessions.py\u001b[0m in \u001b[0;36mprepare_request\u001b[1;34m(self, request)\u001b[0m\n\u001b[0;32m    435\u001b[0m             \u001b[0mauth\u001b[0m\u001b[1;33m=\u001b[0m\u001b[0mmerge_setting\u001b[0m\u001b[1;33m(\u001b[0m\u001b[0mauth\u001b[0m\u001b[1;33m,\u001b[0m \u001b[0mself\u001b[0m\u001b[1;33m.\u001b[0m\u001b[0mauth\u001b[0m\u001b[1;33m)\u001b[0m\u001b[1;33m,\u001b[0m\u001b[1;33m\u001b[0m\u001b[0m\n\u001b[0;32m    436\u001b[0m             \u001b[0mcookies\u001b[0m\u001b[1;33m=\u001b[0m\u001b[0mmerged_cookies\u001b[0m\u001b[1;33m,\u001b[0m\u001b[1;33m\u001b[0m\u001b[0m\n\u001b[1;32m--> 437\u001b[1;33m             \u001b[0mhooks\u001b[0m\u001b[1;33m=\u001b[0m\u001b[0mmerge_hooks\u001b[0m\u001b[1;33m(\u001b[0m\u001b[0mrequest\u001b[0m\u001b[1;33m.\u001b[0m\u001b[0mhooks\u001b[0m\u001b[1;33m,\u001b[0m \u001b[0mself\u001b[0m\u001b[1;33m.\u001b[0m\u001b[0mhooks\u001b[0m\u001b[1;33m)\u001b[0m\u001b[1;33m,\u001b[0m\u001b[1;33m\u001b[0m\u001b[0m\n\u001b[0m\u001b[0;32m    438\u001b[0m         )\n\u001b[0;32m    439\u001b[0m         \u001b[1;32mreturn\u001b[0m \u001b[0mp\u001b[0m\u001b[1;33m\u001b[0m\u001b[0m\n",
      "\u001b[1;32mC:\\Anaconda\\lib\\site-packages\\requests\\models.py\u001b[0m in \u001b[0;36mprepare\u001b[1;34m(self, method, url, headers, files, data, params, auth, cookies, hooks, json)\u001b[0m\n\u001b[0;32m    303\u001b[0m \u001b[1;33m\u001b[0m\u001b[0m\n\u001b[0;32m    304\u001b[0m         \u001b[0mself\u001b[0m\u001b[1;33m.\u001b[0m\u001b[0mprepare_method\u001b[0m\u001b[1;33m(\u001b[0m\u001b[0mmethod\u001b[0m\u001b[1;33m)\u001b[0m\u001b[1;33m\u001b[0m\u001b[0m\n\u001b[1;32m--> 305\u001b[1;33m         \u001b[0mself\u001b[0m\u001b[1;33m.\u001b[0m\u001b[0mprepare_url\u001b[0m\u001b[1;33m(\u001b[0m\u001b[0murl\u001b[0m\u001b[1;33m,\u001b[0m \u001b[0mparams\u001b[0m\u001b[1;33m)\u001b[0m\u001b[1;33m\u001b[0m\u001b[0m\n\u001b[0m\u001b[0;32m    306\u001b[0m         \u001b[0mself\u001b[0m\u001b[1;33m.\u001b[0m\u001b[0mprepare_headers\u001b[0m\u001b[1;33m(\u001b[0m\u001b[0mheaders\u001b[0m\u001b[1;33m)\u001b[0m\u001b[1;33m\u001b[0m\u001b[0m\n\u001b[0;32m    307\u001b[0m         \u001b[0mself\u001b[0m\u001b[1;33m.\u001b[0m\u001b[0mprepare_cookies\u001b[0m\u001b[1;33m(\u001b[0m\u001b[0mcookies\u001b[0m\u001b[1;33m)\u001b[0m\u001b[1;33m\u001b[0m\u001b[0m\n",
      "\u001b[1;32mC:\\Anaconda\\lib\\site-packages\\requests\\models.py\u001b[0m in \u001b[0;36mprepare_url\u001b[1;34m(self, url, params)\u001b[0m\n\u001b[0;32m    377\u001b[0m             \u001b[0merror\u001b[0m \u001b[1;33m=\u001b[0m \u001b[0merror\u001b[0m\u001b[1;33m.\u001b[0m\u001b[0mformat\u001b[0m\u001b[1;33m(\u001b[0m\u001b[0mto_native_string\u001b[0m\u001b[1;33m(\u001b[0m\u001b[0murl\u001b[0m\u001b[1;33m,\u001b[0m \u001b[1;34m'utf8'\u001b[0m\u001b[1;33m)\u001b[0m\u001b[1;33m)\u001b[0m\u001b[1;33m\u001b[0m\u001b[0m\n\u001b[0;32m    378\u001b[0m \u001b[1;33m\u001b[0m\u001b[0m\n\u001b[1;32m--> 379\u001b[1;33m             \u001b[1;32mraise\u001b[0m \u001b[0mMissingSchema\u001b[0m\u001b[1;33m(\u001b[0m\u001b[0merror\u001b[0m\u001b[1;33m)\u001b[0m\u001b[1;33m\u001b[0m\u001b[0m\n\u001b[0m\u001b[0;32m    380\u001b[0m \u001b[1;33m\u001b[0m\u001b[0m\n\u001b[0;32m    381\u001b[0m         \u001b[1;32mif\u001b[0m \u001b[1;32mnot\u001b[0m \u001b[0mhost\u001b[0m\u001b[1;33m:\u001b[0m\u001b[1;33m\u001b[0m\u001b[0m\n",
      "\u001b[1;31mMissingSchema\u001b[0m: Invalid URL 'blog.naver.com/pjt3591oo': No schema supplied. Perhaps you meant http://blog.naver.com/pjt3591oo?"
     ]
    }
   ],
   "source": [
    "url = \"blog.naver.com/pjt3591oo\"\n",
    "res = rq.get(url)"
   ]
  },
  {
   "cell_type": "markdown",
   "metadata": {},
   "source": [
    "http나 https를 명시하지 않으면 MissingSchema 에러 발생."
   ]
  },
  {
   "cell_type": "code",
   "execution_count": 29,
   "metadata": {},
   "outputs": [
    {
     "name": "stdout",
     "output_type": "stream",
     "text": [
      "MissingSchema 에러 발생\n"
     ]
    }
   ],
   "source": [
    "try:\n",
    "    res = rq.get(url)\n",
    "except rq.exceptions.MissingSchema:\n",
    "    print('MissingSchema 에러 발생')"
   ]
  },
  {
   "cell_type": "markdown",
   "metadata": {},
   "source": [
    "위와 같이 http를 안쓴거는 코드단에서 처리 가능. 이런것들은 예외처리를 하지 않는 것이 좋다.  \n",
    "timeout같은 서버에 의한 에러들을 except 처리하는 것이 좋다."
   ]
  },
  {
   "cell_type": "code",
   "execution_count": 30,
   "metadata": {
    "collapsed": true
   },
   "outputs": [],
   "source": [
    "# time 에러 발생 시\n",
    "import time\n",
    "\n",
    "url = \"http://blog.naver.com/pjt3591oo\"\n",
    "delay_time = 1\n",
    "\n",
    "def connection(u):\n",
    "    return rq.get(u)\n",
    "\n",
    "try:\n",
    "    connection(url)\n",
    "except rq.exceptions.Timeout:\n",
    "    time.sleep(delay_time)\n",
    "    connection(url)"
   ]
  },
  {
   "cell_type": "markdown",
   "metadata": {},
   "source": [
    "서버 상황으로 timeout에러 발생할수도.. 서버가 일정시간동안 요청한 클라이언트에 응답하지 않을 때 발생하는 에러.  \n",
    "잠깐 기다렸다가 재요청을 하는 방법으로 해결. retry패턴."
   ]
  },
  {
   "cell_type": "markdown",
   "metadata": {},
   "source": [
    "### urllib 사용\n",
    "내장모듈."
   ]
  },
  {
   "cell_type": "code",
   "execution_count": 33,
   "metadata": {},
   "outputs": [
    {
     "name": "stdout",
     "output_type": "stream",
     "text": [
      "<http.client.HTTPResponse object at 0x000001FDC1BA0240>\n"
     ]
    }
   ],
   "source": [
    "from urllib.request import urlopen, Request\n",
    "\n",
    "url = \"https://pjt3591oo.github.io/\"\n",
    "\n",
    "req = Request(url)\n",
    "page = urlopen(req)\n",
    "print(page)"
   ]
  },
  {
   "cell_type": "markdown",
   "metadata": {},
   "source": [
    "urllib은 객체를 만들어 요청.Request(url)이 객체를 만드는 부분."
   ]
  },
  {
   "cell_type": "code",
   "execution_count": 34,
   "metadata": {},
   "outputs": [
    {
     "name": "stdout",
     "output_type": "stream",
     "text": [
      "<http.client.HTTPResponse object at 0x000001FDC1BA06D8>\n",
      "200\n",
      "Server: GitHub.com\n",
      "Content-Type: text/html; charset=utf-8\n",
      "Last-Modified: Sat, 20 May 2017 06:31:56 GMT\n",
      "ETag: \"591fe2dc-50f0\"\n",
      "Access-Control-Allow-Origin: *\n",
      "Expires: Sat, 16 Feb 2019 07:08:06 GMT\n",
      "Cache-Control: max-age=600\n",
      "X-GitHub-Request-Id: 6E6A:4AC1:3048BC:3671EC:5C67B47E\n",
      "Content-Length: 20720\n",
      "Accept-Ranges: bytes\n",
      "Date: Sat, 16 Feb 2019 06:58:06 GMT\n",
      "Via: 1.1 varnish\n",
      "Age: 0\n",
      "Connection: close\n",
      "X-Served-By: cache-hnd18746-HND\n",
      "X-Cache: MISS\n",
      "X-Cache-Hits: 0\n",
      "X-Timer: S1550300286.436614,VS0,VE94\n",
      "Vary: Accept-Encoding\n",
      "X-Fastly-Request-ID: 915387623d7b00caadca1700d95fbb4dd08abd36\n",
      "\n",
      "\n",
      "https://pjt3591oo.github.io/\n",
      "utf-8\n"
     ]
    }
   ],
   "source": [
    "# 다양한 정보 확인\n",
    "req = Request(url)\n",
    "page = urlopen(req)\n",
    "\n",
    "print(page)\n",
    "print(page.code)\n",
    "print(page.headers)\n",
    "print(page.url)\n",
    "print(page.info().get_content_charset())"
   ]
  },
  {
   "cell_type": "code",
   "execution_count": 36,
   "metadata": {},
   "outputs": [
    {
     "name": "stdout",
     "output_type": "stream",
     "text": [
      "b'<!DOCTYPE html>\\n<html lang=\"en\">\\n\\n  <head>\\n  <meta charset=\"utf-8\">\\n  <meta http-equiv=\"X-UA-Compatible\" content=\"IE=edge\">\\n  <meta name=\"viewport\" content=\"width=device-width, initial-scale=1\">\\n\\n  <title>Home</title>\\n  <meta name=\"description\" content=\"\\xeb\\xa9\\x8d\\xea\\xb0\\x9c\\xec\\x9d\\x98 \\xea\\xb0\\x9c\\xeb\\xb0\\x9c \\xeb\\xb8\\x94\\xeb\\xa1\\x9c\\xea\\xb7\\xb8\\xec\\x9e\\x85\\xeb\\x8b\\x88\\xeb\\x8b\\xa4. \\xea\\xb6\\x81\\xea\\xb8\\x88\\xed\\x95\\x98\\xec\\x8b\\xa0 \\xec\\x82\\xac\\xed\\x95\\xad \\xed\\x98\\xb9\\xec\\x9d\\x80 \\xec\\xa0\\x84\\xeb\\x8b\\xac\\xed\\x95\\x98\\xea\\xb3\\xa0 \\xec\\x8b\\xb6\\xec\\x9d\\x80 \\xeb\\x82\\xb4\\xec\\x9a\\xa9\\xec\\x9d\\xb4 \\xec\\x9e\\x88\\xec\\x9c\\xbc\\xec\\x8b\\x9c\\xeb\\xa9\\xb4 \\xeb\\xa9\\x94\\xec\\x9d\\xbc\\xeb\\xa1\\x9c \\xeb\\xac\\xb8\\xec\\x9d\\x98 \\xec\\xa3\\xbc\\xec\\x84\\xb8\\xec\\x9a\\x94.\">\\n\\n  <link rel=\"stylesheet\" href=\"/assets/main.css\">\\n  <link rel=\"canonical\" href=\"/\">\\n  <link rel=\"alternate\" type=\"application/rss+xml\" title=\"Home\" href=\"/feed.xml\">\\n  \\n  \\n</head>\\n\\n\\n  <body>\\n\\n    <header class=\"site-header\" role=\"banner\">\\n\\n  <div class=\"wrapper\">\\n    \\n    \\n    <a class=\"site-title\" href=\"/\">Home</a>\\n  \\n    \\n      <nav class=\"site-nav\">\\n        <input type=\"checkbox\" id=\"nav-trigger\" class=\"nav-trigger\" />\\n        <label for=\"nav-trigger\">\\n          <span class=\"menu-icon\">\\n            <svg viewBox=\"0 0 18 15\" width=\"18px\" height=\"15px\">\\n              <path fill=\"#424242\" d=\"M18,1.484c0,0.82-0.665,1.484-1.484,1.484H1.484C0.665,2.969,0,2.304,0,1.484l0,0C0,0.665,0.665,0,1.484,0 h15.031C17.335,0,18,0.665,18,1.484L18,1.484z\"/>\\n              <path fill=\"#424242\" d=\"M18,7.516C18,8.335,17.335,9,16.516,9H1.484C0.665,9,0,8.335,0,7.516l0,0c0-0.82,0.665-1.484,1.484-1.484 h15.031C17.335,6.031,18,6.696,18,7.516L18,7.516z\"/>\\n              <path fill=\"#424242\" d=\"M18,13.516C18,14.335,17.335,15,16.516,15H1.484C0.665,15,0,14.335,0,13.516l0,0 c0-0.82,0.665-1.484,1.484-1.484h15.031C17.335,12.031,18,12.696,18,13.516L18,13.516z\"/>\\n            </svg>\\n          </span>\\n        </label>\\n\\n        <div class=\"trigger\">\\n          \\n            \\n            \\n            <a class=\"page-link\" href=\"/about/\">About</a>\\n            \\n          \\n            \\n            \\n            <a class=\"page-link\" href=\"/category.html\">Category</a>\\n            \\n          \\n            \\n            \\n          \\n            \\n            \\n          \\n            \\n            \\n            <a class=\"page-link\" href=\"/play/\">Play</a>\\n            \\n          \\n            \\n            \\n            <a class=\"page-link\" href=\"/search\">Search</a>\\n            \\n          \\n            \\n            \\n          \\n            \\n            \\n          \\n            \\n            \\n          \\n            \\n            \\n          \\n            \\n            \\n          \\n            \\n            \\n          \\n        </div>\\n      </nav>\\n    \\n  </div>\\n</header>\\n\\n\\n    <main class=\"page-content\" aria-label=\"Content\">\\n      <div class=\"wrapper\">\\n        <div class=\"home\">\\n\\n  <h1 class=\"page-heading\">Posts</h1>\\n  \\n  <meta name=\"viewport\" content=\"width=device-width, initial-scale=1\">\\n\\n<meta name=\"google-site-verification\" content=\"gvDodL2h5fymQPWMmUwyvwMfZp7AVufngf2P3jJlTho\" />\\n<meta name=\"naver-site-verification\" content=\"4a511a171ff0cee5a8ea1f3e7cde66845b26b04c\"/>\\n\\n<link rel=\"stylesheet\" href=\"https://maxcdn.bootstrapcdn.com/bootstrap/3.3.7/css/bootstrap.min.css\">\\n<script src=\"https://ajax.googleapis.com/ajax/libs/jquery/3.2.0/jquery.min.js\"></script>\\n<script src=\"https://maxcdn.bootstrapcdn.com/bootstrap/3.3.7/js/bootstrap.min.js\"></script>\\n\\n<style>\\n  .post-list{\\n    display: none;\\n  }\\n  .pagination{\\n    width:100%;\\n    text-align: center;\\n    margin-top:25px;\\n    margin-bottom:50px;\\n    font-size:17px;\\n  }\\n  li{\\n    list-style: none;\\n  }\\n  /*c{*/\\n    /*background-color: rgb(204, 204, 204);*/\\n    /*border-radius: 5px;*/\\n  /*}*/\\n\\n</style>\\n\\n\\n  <div class=\"p\">\\n      <h3 style=\"margin-top:50px\">\\n          <a style=\"color:#4d5256; opacity: 0.8\" href=\"/blog/programming/2017/05/20/javascript_react_setting.html\">[programming] [react] react \\xec\\x9e\\x91\\xec\\x97\\x85\\xed\\x99\\x98\\xea\\xb2\\xbd \\xec\\x84\\xa4</a>\\n      </h3>\\n      <h4 style=\"color:#4d5256; opacity: 0.6; margin-top:30px\">\\n        react\\xeb\\xa5\\xbc \\xec\\x8b\\x9c\\xec\\x9e\\x91\\xed\\x95\\x98\\xea\\xb8\\xb0 \\xec\\xa0\\x84\\xec\\x97\\x90 \\xed\\x99\\x98\\xea\\xb2\\xbd\\xec\\x85\\x8b\\xed\\x8c\\x85\\xec\\x9d\\x84 \\xed\\x95\\xb4\\xeb\\xb3\\xb4\\xec\\x9e\\x90\\n      </h4>\\n      <p class=\"author\">\\n        <span style=\"color:#4d5256; opacity: 0.4\" class=\"date\">2017-05-20 06:29:05 +0000  &nbsp;&nbsp;|&nbsp;&nbsp;  \\xeb\\xb0\\x95\\xec\\xa0\\x95\\xed\\x83\\x9c</span>\\n      </p>\\n      <hr style=\"margin-top:50px\">\\n  </div>\\n\\n  <div class=\"p\">\\n      <h3 style=\"margin-top:50px\">\\n          <a style=\"color:#4d5256; opacity: 0.8\" href=\"/blog/programming/2017/05/09/javascript_drag_and_drop.html\">[programming] drag and drop\\xec\\x9d\\x84 \\xec\\x9d\\xb4\\xec\\x9a\\xa9\\xed\\x95\\x98\\xec\\x97\\xac \\xed\\x8c\\x8c\\xec\\x9d\\xbc \\xec\\x97\\x85\\xeb\\xa1\\x9c\\xeb\\x93\\x9c\\xeb\\xa5\\xbc \\xed\\x95\\xb4\\xeb\\xb3\\xb4\\xec\\x9e\\x90</a>\\n      </h3>\\n      <h4 style=\"color:#4d5256; opacity: 0.6; margin-top:30px\">\\n        query\\xec\\x9d\\x98 \\xec\\x99\\xb8\\xeb\\xb6\\x80 \\xeb\\x9d\\xbc\\xec\\x9d\\xb4\\xeb\\xb8\\x8c\\xeb\\x9f\\xac\\xeb\\xa6\\xac\\xea\\xb0\\x80 \\xec\\x95\\x84\\xeb\\x8b\\x8c drag, drop \\xec\\x9d\\xb4\\xeb\\xb2\\xa4\\xed\\x8a\\xb8\\xeb\\xa5\\xbc \\xed\\x99\\x9c\\xec\\x9a\\xa9\\xed\\x95\\x98\\xec\\x97\\xac \\xea\\xb8\\xb0\\xeb\\x8a\\xa5 \\xea\\xb5\\xac\\xed\\x98\\x84\\xed\\x95\\xb4\\xeb\\xb3\\xb4\\xea\\xb8\\xb0\\n      </h4>\\n      <p class=\"author\">\\n        <span style=\"color:#4d5256; opacity: 0.4\" class=\"date\">2017-05-09 23:47:05 +0000  &nbsp;&nbsp;|&nbsp;&nbsp;  \\xeb\\xb0\\x95\\xec\\xa0\\x95\\xed\\x83\\x9c</span>\\n      </p>\\n      <hr style=\"margin-top:50px\">\\n  </div>\\n\\n  <div class=\"p\">\\n      <h3 style=\"margin-top:50px\">\\n          <a style=\"color:#4d5256; opacity: 0.8\" href=\"/blog/database/2017/05/04/how_to_use_mysqldump.html\">[database] mysqldump\\xeb\\xa5\\xbc \\xec\\x9d\\xb4\\xec\\x9a\\xa9\\xed\\x95\\x98\\xec\\x97\\xac \\xeb\\x8d\\xb0\\xec\\x9d\\xb4\\xed\\x84\\xb0 \\xeb\\xb0\\xb1\\xec\\x97\\x85, \\xeb\\xb3\\xb5\\xec\\x9b\\x90\\xed\\x95\\x98\\xea\\xb8\\xb0</a>\\n      </h3>\\n      <h4 style=\"color:#4d5256; opacity: 0.6; margin-top:30px\">\\n        mysqldump\\xeb\\xa5\\xbc \\xec\\x9d\\xb4\\xec\\x9a\\xa9\\xed\\x95\\x98\\xec\\x97\\xac \\xeb\\x94\\x94\\xeb\\xb9\\x84 \\xeb\\xb0\\xb1\\xec\\x97\\x85\\xea\\xb3\\xbc source\\xeb\\xa5\\xbc \\xec\\x9d\\xb4\\xec\\x9a\\xa9\\xed\\x95\\x98\\xec\\x97\\xac \\xeb\\x8d\\xb0\\xec\\x9d\\xb4\\xed\\x84\\xb0 \\xeb\\xb3\\xb5\\xec\\x9b\\x90\\xec\\x9d\\x84 \\xed\\x95\\xb4\\xeb\\xb3\\xb4\\xec\\x9e\\x90\\n      </h4>\\n      <p class=\"author\">\\n        <span style=\"color:#4d5256; opacity: 0.4\" class=\"date\">2017-05-04 05:33:05 +0000  &nbsp;&nbsp;|&nbsp;&nbsp;  \\xeb\\xb0\\x95\\xec\\xa0\\x95\\xed\\x83\\x9c</span>\\n      </p>\\n      <hr style=\"margin-top:50px\">\\n  </div>\\n\\n  <div class=\"p\">\\n      <h3 style=\"margin-top:50px\">\\n          <a style=\"color:#4d5256; opacity: 0.8\" href=\"/blog/database/2017/05/03/abou_mysql_remote_connect.html\">[database] mysql \\xec\\x9b\\x90\\xea\\xb2\\xa9\\xec\\xa0\\x91\\xec\\x86\\x8d\\xed\\x95\\x98\\xeb\\x8a\\x94 \\xeb\\xb0\\xa9\\xeb\\xb2\\x95</a>\\n      </h3>\\n      <h4 style=\"color:#4d5256; opacity: 0.6; margin-top:30px\">\\n        mysql \\xeb\\x94\\x94\\xeb\\xb9\\x84\\xec\\x84\\xa4\\xec\\xa0\\x95, \\xec\\x9c\\xa0\\xec\\xa0\\x80\\xec\\x84\\xa4\\xec\\xa0\\x95\\xec\\x9d\\x84 \\xed\\x86\\xb5\\xed\\x95\\xb4 \\xec\\x9b\\x90\\xea\\xb2\\xa9\\xec\\xa0\\x91\\xec\\x86\\x8d\\n      </h4>\\n      <p class=\"author\">\\n        <span style=\"color:#4d5256; opacity: 0.4\" class=\"date\">2017-05-03 11:43:05 +0000  &nbsp;&nbsp;|&nbsp;&nbsp;  \\xeb\\xb0\\x95\\xec\\xa0\\x95\\xed\\x83\\x9c</span>\\n      </p>\\n      <hr style=\"margin-top:50px\">\\n  </div>\\n\\n  <div class=\"p\">\\n      <h3 style=\"margin-top:50px\">\\n          <a style=\"color:#4d5256; opacity: 0.8\" href=\"/blog/node.js/2017/05/01/file_convert2.html\">[node.js] \\xed\\x8c\\x8c\\xec\\x9d\\xbc \\xeb\\xa6\\xac\\xeb\\x8d\\x94\\xea\\xb8\\xb0 \\xeb\\xa7\\x8c\\xeb\\x93\\xa4\\xea\\xb8\\xb0 - \\xec\\x82\\xac\\xec\\x9a\\xa9 \\xeb\\xaa\\xa8\\xeb\\x93\\x88 \\xec\\xa0\\x95\\xeb\\xa6\\xac, pdf\\xec\\x99\\x80 hwp \\xea\\xb5\\xac\\xec\\xa1\\xb0</a>\\n      </h3>\\n      <h4 style=\"color:#4d5256; opacity: 0.6; margin-top:30px\">\\n        docx, hwp, pdf \\xed\\x8c\\x8c\\xec\\x9d\\xbc\\n      </h4>\\n      <p class=\"author\">\\n        <span style=\"color:#4d5256; opacity: 0.4\" class=\"date\">2017-05-01 06:02:05 +0000  &nbsp;&nbsp;|&nbsp;&nbsp;  \\xeb\\xb0\\x95\\xec\\xa0\\x95\\xed\\x83\\x9c</span>\\n      </p>\\n      <hr style=\"margin-top:50px\">\\n  </div>\\n\\n  <div class=\"p\">\\n      <h3 style=\"margin-top:50px\">\\n          <a style=\"color:#4d5256; opacity: 0.8\" href=\"/blog/node.js/2017/04/30/file_convert1.html\">[node.js] \\xed\\x8c\\x8c\\xec\\x9d\\xbc \\xeb\\xa6\\xac\\xeb\\x8d\\x94\\xea\\xb8\\xb0 \\xeb\\xa7\\x8c\\xeb\\x93\\xa4\\xea\\xb8\\xb0 - pdf\\xeb\\xa5\\xbc html\\xeb\\xa1\\x9c \\xeb\\xb3\\x80\\xed\\x99\\x98, docx\\xeb\\xa5\\xbc pdf\\xeb\\xa1\\x9c \\xeb\\xb3\\x80\\xed\\x99\\x98</a>\\n      </h3>\\n      <h4 style=\"color:#4d5256; opacity: 0.6; margin-top:30px\">\\n        pdf\\xed\\x8c\\x8c\\xec\\x9d\\xbc html\\xeb\\xa1\\x9c \\xeb\\xb3\\x80\\xea\\xb2\\xbd\\xed\\x95\\x98\\xea\\xb8\\xb0\\n      </h4>\\n      <p class=\"author\">\\n        <span style=\"color:#4d5256; opacity: 0.4\" class=\"date\">2017-04-30 15:19:05 +0000  &nbsp;&nbsp;|&nbsp;&nbsp;  \\xeb\\xb0\\x95\\xec\\xa0\\x95\\xed\\x83\\x9c</span>\\n      </p>\\n      <hr style=\"margin-top:50px\">\\n  </div>\\n\\n  <div class=\"p\">\\n      <h3 style=\"margin-top:50px\">\\n          <a style=\"color:#4d5256; opacity: 0.8\" href=\"/blog/programming/2017/04/25/how_to_change_git_remote_origin.html\">[programming] git \\xec\\x9b\\x90\\xea\\xb2\\xa9 \\xec\\xa0\\x80\\xec\\x9e\\xa5\\xec\\x86\\x8c \\xeb\\xb0\\x94\\xea\\xbe\\xb8\\xea\\xb8\\xb0</a>\\n      </h3>\\n      <h4 style=\"color:#4d5256; opacity: 0.6; margin-top:30px\">\\n        remote set-url\\xec\\x9d\\x84 \\xec\\x9d\\xb4\\xec\\x9a\\xa9\\xed\\x95\\x98\\xec\\x97\\xac \\xec\\x9b\\x90\\xea\\xb2\\xa9 \\xec\\xa0\\x80\\xec\\x9e\\xa5\\xec\\x86\\x8c\\xeb\\xa5\\xbc \\xeb\\xb0\\x94\\xea\\xbe\\xb8\\xec\\x9e\\x90\\n      </h4>\\n      <p class=\"author\">\\n        <span style=\"color:#4d5256; opacity: 0.4\" class=\"date\">2017-04-25 13:09:05 +0000  &nbsp;&nbsp;|&nbsp;&nbsp;  \\xeb\\xb0\\x95\\xec\\xa0\\x95\\xed\\x83\\x9c</span>\\n      </p>\\n      <hr style=\"margin-top:50px\">\\n  </div>\\n\\n  <div class=\"p\">\\n      <h3 style=\"margin-top:50px\">\\n          <a style=\"color:#4d5256; opacity: 0.8\" href=\"/blog/programming/2017/04/25/how_to_change_working_directory_on_python.html\">[programming] python working directory\\xeb\\xa5\\xbc \\xeb\\xb0\\x94\\xea\\xbf\\x94\\xeb\\xb3\\xb4\\xec\\x9e\\x90</a>\\n      </h3>\\n      <h4 style=\"color:#4d5256; opacity: 0.6; margin-top:30px\">\\n        working directory\\xec\\x84\\xa4\\xec\\xa0\\x95\\xec\\x9d\\x84 \\xed\\x95\\x98\\xec\\x97\\xac \\xea\\xb2\\xbd\\xeb\\xa1\\x9c \\xeb\\xac\\xb8\\xec\\xa0\\x9c\\xeb\\xa5\\xbc \\xed\\x95\\xb4\\xea\\xb2\\xb0\\xed\\x95\\x98\\xec\\x9e\\x90\\n      </h4>\\n      <p class=\"author\">\\n        <span style=\"color:#4d5256; opacity: 0.4\" class=\"date\">2017-04-25 09:19:05 +0000  &nbsp;&nbsp;|&nbsp;&nbsp;  \\xeb\\xb0\\x95\\xec\\xa0\\x95\\xed\\x83\\x9c</span>\\n      </p>\\n      <hr style=\"margin-top:50px\">\\n  </div>\\n\\n  <div class=\"p\">\\n      <h3 style=\"margin-top:50px\">\\n          <a style=\"color:#4d5256; opacity: 0.8\" href=\"/blog/server/2017/04/24/docker_commends.html\">[server] docker commends</a>\\n      </h3>\\n      <h4 style=\"color:#4d5256; opacity: 0.6; margin-top:30px\">\\n        \\xeb\\x8f\\x84\\xec\\xbb\\xa4\\xec\\x9d\\x98 \\xeb\\xaa\\x85\\xeb\\xa0\\xb9\\xec\\x96\\xb4\\xeb\\x93\\xa4\\xec\\x9d\\x84 \\xea\\xb0\\x84\\xeb\\x8b\\xa8\\xed\\x95\\x98\\xea\\xb2\\x8c \\xec\\x95\\x8c\\xec\\x95\\x84\\xeb\\xb3\\xb4\\xea\\xb8\\xb0\\n      </h4>\\n      <p class=\"author\">\\n        <span style=\"color:#4d5256; opacity: 0.4\" class=\"date\">2017-04-24 23:19:05 +0000  &nbsp;&nbsp;|&nbsp;&nbsp;  \\xeb\\xb0\\x95\\xec\\xa0\\x95\\xed\\x83\\x9c</span>\\n      </p>\\n      <hr style=\"margin-top:50px\">\\n  </div>\\n\\n  <div class=\"p\">\\n      <h3 style=\"margin-top:50px\">\\n          <a style=\"color:#4d5256; opacity: 0.8\" href=\"/blog/programming/2017/04/24/utc_to_timestamp_change.html\">[programming] python utc\\xeb\\xa5\\xbc timestamp\\xeb\\xa1\\x9c \\xeb\\xb0\\x94\\xea\\xbe\\xb8\\xeb\\x8a\\x94 \\xeb\\xb0\\xa9\\xeb\\xb2\\x95</a>\\n      </h3>\\n      <h4 style=\"color:#4d5256; opacity: 0.6; margin-top:30px\">\\n        python\\xec\\x97\\x90\\xec\\x84\\x9c utc\\xeb\\xa5\\xbc timestamp\\xeb\\xa1\\x9c \\xeb\\xb0\\x94\\xea\\xbe\\xb8\\xeb\\x8a\\x94 \\xeb\\xb0\\xa9\\xeb\\xb2\\x95\\n      </h4>\\n      <p class=\"author\">\\n        <span style=\"color:#4d5256; opacity: 0.4\" class=\"date\">2017-04-24 13:19:05 +0000  &nbsp;&nbsp;|&nbsp;&nbsp;  \\xeb\\xb0\\x95\\xec\\xa0\\x95\\xed\\x83\\x9c</span>\\n      </p>\\n      <hr style=\"margin-top:50px\">\\n  </div>\\n\\n\\n<!-- Pagination links -->\\n\\n<div class=\"pagination\">\\n  <ul class=\"pager\">\\n      \\n        <span>Prev</span>\\n      \\n\\n    \\n      \\n          <em>1</em>\\n      \\n    \\n      \\n          <a href=\"/page2/\">2</a>\\n      \\n    \\n      \\n          <a href=\"/page3/\">3</a>\\n      \\n    \\n      \\n          <a href=\"/page4/\">4</a>\\n      \\n    \\n\\n      \\n        <li>\\n          <a href=\"/page2/\">Next</a>\\n        </li>\\n      \\n  </ul>\\n</div>\\n\\n\\n  <ul class=\"post-list\">\\n    \\n      <li>\\n        \\n        <span class=\"post-meta\">May 20, 2017</span>\\n\\n        <h2>\\n          <a class=\"post-link\" href=\"/blog/programming/2017/05/20/javascript_react_setting.html\">[react] react \\xec\\x9e\\x91\\xec\\x97\\x85\\xed\\x99\\x98\\xea\\xb2\\xbd \\xec\\x84\\xa4</a>\\n        </h2>\\n      </li>\\n    \\n      <li>\\n        \\n        <span class=\"post-meta\">May 9, 2017</span>\\n\\n        <h2>\\n          <a class=\"post-link\" href=\"/blog/programming/2017/05/09/javascript_drag_and_drop.html\">drag and drop\\xec\\x9d\\x84 \\xec\\x9d\\xb4\\xec\\x9a\\xa9\\xed\\x95\\x98\\xec\\x97\\xac \\xed\\x8c\\x8c\\xec\\x9d\\xbc \\xec\\x97\\x85\\xeb\\xa1\\x9c\\xeb\\x93\\x9c\\xeb\\xa5\\xbc \\xed\\x95\\xb4\\xeb\\xb3\\xb4\\xec\\x9e\\x90</a>\\n        </h2>\\n      </li>\\n    \\n      <li>\\n        \\n        <span class=\"post-meta\">May 4, 2017</span>\\n\\n        <h2>\\n          <a class=\"post-link\" href=\"/blog/database/2017/05/04/how_to_use_mysqldump.html\">mysqldump\\xeb\\xa5\\xbc \\xec\\x9d\\xb4\\xec\\x9a\\xa9\\xed\\x95\\x98\\xec\\x97\\xac \\xeb\\x8d\\xb0\\xec\\x9d\\xb4\\xed\\x84\\xb0 \\xeb\\xb0\\xb1\\xec\\x97\\x85, \\xeb\\xb3\\xb5\\xec\\x9b\\x90\\xed\\x95\\x98\\xea\\xb8\\xb0</a>\\n        </h2>\\n      </li>\\n    \\n      <li>\\n        \\n        <span class=\"post-meta\">May 3, 2017</span>\\n\\n        <h2>\\n          <a class=\"post-link\" href=\"/blog/database/2017/05/03/abou_mysql_remote_connect.html\">mysql \\xec\\x9b\\x90\\xea\\xb2\\xa9\\xec\\xa0\\x91\\xec\\x86\\x8d\\xed\\x95\\x98\\xeb\\x8a\\x94 \\xeb\\xb0\\xa9\\xeb\\xb2\\x95</a>\\n        </h2>\\n      </li>\\n    \\n      <li>\\n        \\n        <span class=\"post-meta\">May 1, 2017</span>\\n\\n        <h2>\\n          <a class=\"post-link\" href=\"/blog/node.js/2017/05/01/file_convert2.html\">\\xed\\x8c\\x8c\\xec\\x9d\\xbc \\xeb\\xa6\\xac\\xeb\\x8d\\x94\\xea\\xb8\\xb0 \\xeb\\xa7\\x8c\\xeb\\x93\\xa4\\xea\\xb8\\xb0 - \\xec\\x82\\xac\\xec\\x9a\\xa9 \\xeb\\xaa\\xa8\\xeb\\x93\\x88 \\xec\\xa0\\x95\\xeb\\xa6\\xac, pdf\\xec\\x99\\x80 hwp \\xea\\xb5\\xac\\xec\\xa1\\xb0</a>\\n        </h2>\\n      </li>\\n    \\n      <li>\\n        \\n        <span class=\"post-meta\">Apr 30, 2017</span>\\n\\n        <h2>\\n          <a class=\"post-link\" href=\"/blog/node.js/2017/04/30/file_convert1.html\">\\xed\\x8c\\x8c\\xec\\x9d\\xbc \\xeb\\xa6\\xac\\xeb\\x8d\\x94\\xea\\xb8\\xb0 \\xeb\\xa7\\x8c\\xeb\\x93\\xa4\\xea\\xb8\\xb0 - pdf\\xeb\\xa5\\xbc html\\xeb\\xa1\\x9c \\xeb\\xb3\\x80\\xed\\x99\\x98, docx\\xeb\\xa5\\xbc pdf\\xeb\\xa1\\x9c \\xeb\\xb3\\x80\\xed\\x99\\x98</a>\\n        </h2>\\n      </li>\\n    \\n      <li>\\n        \\n        <span class=\"post-meta\">Apr 25, 2017</span>\\n\\n        <h2>\\n          <a class=\"post-link\" href=\"/blog/programming/2017/04/25/how_to_change_git_remote_origin.html\">git \\xec\\x9b\\x90\\xea\\xb2\\xa9 \\xec\\xa0\\x80\\xec\\x9e\\xa5\\xec\\x86\\x8c \\xeb\\xb0\\x94\\xea\\xbe\\xb8\\xea\\xb8\\xb0</a>\\n        </h2>\\n      </li>\\n    \\n      <li>\\n        \\n        <span class=\"post-meta\">Apr 25, 2017</span>\\n\\n        <h2>\\n          <a class=\"post-link\" href=\"/blog/programming/2017/04/25/how_to_change_working_directory_on_python.html\">python working directory\\xeb\\xa5\\xbc \\xeb\\xb0\\x94\\xea\\xbf\\x94\\xeb\\xb3\\xb4\\xec\\x9e\\x90</a>\\n        </h2>\\n      </li>\\n    \\n      <li>\\n        \\n        <span class=\"post-meta\">Apr 24, 2017</span>\\n\\n        <h2>\\n          <a class=\"post-link\" href=\"/blog/server/2017/04/24/docker_commends.html\">docker commends</a>\\n        </h2>\\n      </li>\\n    \\n      <li>\\n        \\n        <span class=\"post-meta\">Apr 24, 2017</span>\\n\\n        <h2>\\n          <a class=\"post-link\" href=\"/blog/programming/2017/04/24/utc_to_timestamp_change.html\">python utc\\xeb\\xa5\\xbc timestamp\\xeb\\xa1\\x9c \\xeb\\xb0\\x94\\xea\\xbe\\xb8\\xeb\\x8a\\x94 \\xeb\\xb0\\xa9\\xeb\\xb2\\x95</a>\\n        </h2>\\n      </li>\\n    \\n      <li>\\n        \\n        <span class=\"post-meta\">Apr 23, 2017</span>\\n\\n        <h2>\\n          <a class=\"post-link\" href=\"/blog/programming/2017/04/23/how_to_install_php_on_ubuntu.html\">ubuntu\\xec\\x97\\x90 php \\xea\\xb0\\x9c\\xeb\\xb0\\x9c\\xed\\x99\\x98\\xea\\xb2\\xbd \\xec\\x85\\x8b\\xed\\x8c\\x85</a>\\n        </h2>\\n      </li>\\n    \\n      <li>\\n        \\n        <span class=\"post-meta\">Apr 22, 2017</span>\\n\\n        <h2>\\n          <a class=\"post-link\" href=\"/blog/server/2017/04/22/how_to_use_azure.html\">azure-cli\\xeb\\xa5\\xbc \\xec\\x9d\\xb4\\xec\\x9a\\xa9\\xed\\x95\\x98\\xec\\x97\\xac azure \\xec\\x82\\xac\\xec\\x9a\\xa9\\xed\\x95\\x98\\xea\\xb8\\xb0</a>\\n        </h2>\\n      </li>\\n    \\n      <li>\\n        \\n        <span class=\"post-meta\">Apr 21, 2017</span>\\n\\n        <h2>\\n          <a class=\"post-link\" href=\"/blog/tools/2017/04/21/how_to_create_ssh_key.html\">ssh-keygen\\xec\\x9d\\x84 \\xec\\x9d\\xb4\\xec\\x9a\\xa9\\xed\\x95\\x9c ssh \\xed\\x82\\xa4 \\xed\\x8c\\x8c\\xec\\x9d\\xbc \\xec\\x83\\x9d\\xec\\x84\\xb1</a>\\n        </h2>\\n      </li>\\n    \\n      <li>\\n        \\n        <span class=\"post-meta\">Apr 19, 2017</span>\\n\\n        <h2>\\n          <a class=\"post-link\" href=\"/blog/programming/2017/04/19/python_generator.html\">\\xec\\xa0\\x9c\\xeb\\x84\\x88\\xeb\\xa0\\x88\\xec\\x9d\\xb4\\xed\\x84\\xb0(generator)\\xeb\\xa5\\xbc \\xed\\x99\\x9c\\xec\\x9a\\xa9\\xed\\x95\\x9c \\xed\\x9a\\xa8\\xec\\x9c\\xa8\\xec\\xa0\\x81\\xec\\x9d\\xb8 \\xec\\xbd\\x94\\xeb\\x93\\x9c\\xec\\x9e\\x91\\xec\\x84\\xb1</a>\\n        </h2>\\n      </li>\\n    \\n      <li>\\n        \\n        <span class=\"post-meta\">Apr 15, 2017</span>\\n\\n        <h2>\\n          <a class=\"post-link\" href=\"/blog/node.js/2017/04/15/for_jade_template_engine.html\">Jade Template Engine\\xec\\x9d\\x84 \\xed\\x99\\x9c\\xec\\x9a\\xa9\\xed\\x95\\x9c \\xed\\x9a\\xa8\\xec\\x9c\\xa8\\xec\\xa0\\x81 \\xea\\xb4\\x80\\xeb\\xa6\\xac</a>\\n        </h2>\\n      </li>\\n    \\n      <li>\\n        \\n        <span class=\"post-meta\">Apr 12, 2017</span>\\n\\n        <h2>\\n          <a class=\"post-link\" href=\"/blog/tools/2017/04/12/vimrc_auto_setting.html\">vim \\xea\\xb0\\x81\\xec\\xa2\\x85 \\xec\\x84\\xa4\\xec\\xa0\\x95\\xeb\\x93\\xa4\\xeb\\xa1\\x9c \\xeb\\xb6\\x80\\xed\\x84\\xb0 \\xea\\xb7\\x80\\xec\\xb0\\xa8\\xeb\\x8b\\x88\\xec\\xa6\\x98\\xec\\x9d\\x84 \\xeb\\xb2\\x97\\xec\\x96\\xb4\\xeb\\x82\\x98\\xec\\x9e\\x90</a>\\n        </h2>\\n      </li>\\n    \\n      <li>\\n        \\n        <span class=\"post-meta\">Apr 9, 2017</span>\\n\\n        <h2>\\n          <a class=\"post-link\" href=\"/blog/node.js/2017/04/09/sequelize_migrations.html\">sequelize - Migrations[\\xeb\\xb2\\x88\\xec\\x97\\xad]</a>\\n        </h2>\\n      </li>\\n    \\n      <li>\\n        \\n        <span class=\"post-meta\">Apr 9, 2017</span>\\n\\n        <h2>\\n          <a class=\"post-link\" href=\"/blog/node.js/2017/04/09/sequelize_usage.html\">sequelize - Usage[\\xeb\\xb2\\x88\\xec\\x97\\xad]</a>\\n        </h2>\\n      </li>\\n    \\n      <li>\\n        \\n        <span class=\"post-meta\">Apr 9, 2017</span>\\n\\n        <h2>\\n          <a class=\"post-link\" href=\"/blog/node.js/2017/04/09/sequelize_hooks.html\">sequelize - Hooks[\\xeb\\xb2\\x88\\xec\\x97\\xad]</a>\\n        </h2>\\n      </li>\\n    \\n      <li>\\n        \\n        <span class=\"post-meta\">Apr 9, 2017</span>\\n\\n        <h2>\\n          <a class=\"post-link\" href=\"/blog/node.js/2017/04/09/sequelize_querying.html\">sequelize - Querying[\\xeb\\xb2\\x88\\xec\\x97\\xad]</a>\\n        </h2>\\n      </li>\\n    \\n      <li>\\n        \\n        <span class=\"post-meta\">Apr 9, 2017</span>\\n\\n        <h2>\\n          <a class=\"post-link\" href=\"/blog/node.js/2017/04/09/sequelize_working_with_legacy_tables.html\">sequelize - Working With Legacy Tables[\\xeb\\xb2\\x88\\xec\\x97\\xad]</a>\\n        </h2>\\n      </li>\\n    \\n      <li>\\n        \\n        <span class=\"post-meta\">Apr 9, 2017</span>\\n\\n        <h2>\\n          <a class=\"post-link\" href=\"/blog/node.js/2017/04/09/sequelize_Getting_Started_translation.html\">sequelize - Getting Started[\\xeb\\xb2\\x88\\xec\\x97\\xad]</a>\\n        </h2>\\n      </li>\\n    \\n      <li>\\n        \\n        <span class=\"post-meta\">Apr 9, 2017</span>\\n\\n        <h2>\\n          <a class=\"post-link\" href=\"/blog/node.js/2017/04/09/sequelize_home.html\">sequelize - Home[\\xeb\\xb2\\x88\\xec\\x97\\xad]</a>\\n        </h2>\\n      </li>\\n    \\n      <li>\\n        \\n        <span class=\"post-meta\">Apr 8, 2017</span>\\n\\n        <h2>\\n          <a class=\"post-link\" href=\"/blog/machine-learning/2017/04/08/Classification_Using_NaiveBayes.html\">Classification using Naive Bayes</a>\\n        </h2>\\n      </li>\\n    \\n      <li>\\n        \\n        <span class=\"post-meta\">Apr 8, 2017</span>\\n\\n        <h2>\\n          <a class=\"post-link\" href=\"/blog/framework/2017/04/08/aiohttp_struct.html\">Structure aiohttp Of python</a>\\n        </h2>\\n      </li>\\n    \\n      <li>\\n        \\n        <span class=\"post-meta\">Apr 8, 2017</span>\\n\\n        <h2>\\n          <a class=\"post-link\" href=\"/blog/framework/2017/04/08/express_struct.html\">Structure Express Of Node</a>\\n        </h2>\\n      </li>\\n    \\n      <li>\\n        \\n        <span class=\"post-meta\">Apr 8, 2017</span>\\n\\n        <h2>\\n          <a class=\"post-link\" href=\"/blog/programming/2017/04/08/sync_async_and_promise.html\">Javascript Asynchronous, synchronous and Promise</a>\\n        </h2>\\n      </li>\\n    \\n      <li>\\n        \\n        <span class=\"post-meta\">Apr 6, 2017</span>\\n\\n        <h2>\\n          <a class=\"post-link\" href=\"/blog/database/2017/04/06/about-database.html\">RDBMS vs NoSQL vs InMemory</a>\\n        </h2>\\n      </li>\\n    \\n      <li>\\n        \\n        <span class=\"post-meta\">Apr 5, 2017</span>\\n\\n        <h2>\\n          <a class=\"post-link\" href=\"/blog/news/2017/04/05/django_111_release.html\">Django 1.11 Release</a>\\n        </h2>\\n      </li>\\n    \\n      <li>\\n        \\n        <span class=\"post-meta\">Apr 4, 2017</span>\\n\\n        <h2>\\n          <a class=\"post-link\" href=\"/blog/programming/2017/04/04/javascript-arrow-function_AND_array.prototype_COMBINATE.html\">javascript arrow function\\xea\\xb3\\xbc array.prototype\\xec\\x9d\\x98 \\xec\\xa1\\xb0\\xed\\x95\\xa9</a>\\n        </h2>\\n      </li>\\n    \\n      <li>\\n        \\n        <span class=\"post-meta\">Apr 4, 2017</span>\\n\\n        <h2>\\n          <a class=\"post-link\" href=\"/blog/intro/2017/04/04/welcome-to-jekyll.html\">Welcome to mung</a>\\n        </h2>\\n      </li>\\n    \\n  </ul>\\n\\n  <p class=\"rss-subscribe\">subscribe <a href=\"/feed.xml\">via RSS</a></p>\\n\\n</div>\\n\\n      </div>\\n    </main>\\n\\n    <footer class=\"site-footer\">\\n\\n  <div class=\"wrapper\">\\n\\n    <h2 class=\"footer-heading\">Home</h2>\\n\\n    <div class=\"footer-col-wrapper\">\\n      <div class=\"footer-col footer-col-1\">\\n        <ul class=\"contact-list\">\\n          <li>\\n            \\n              Home\\n            \\n            </li>\\n            \\n            <li><a href=\"mailto:pjt3591oo@gmail.com\">pjt3591oo@gmail.com</a></li>\\n            \\n        </ul>\\n      </div>\\n\\n      <div class=\"footer-col footer-col-2\">\\n        <ul class=\"social-media-list\">\\n          \\n          <li>\\n            <a href=\"https://github.com/jekyll\"><span class=\"icon icon--github\"><svg viewBox=\"0 0 16 16\" width=\"16px\" height=\"16px\"><path fill=\"#828282\" d=\"M7.999,0.431c-4.285,0-7.76,3.474-7.76,7.761 c0,3.428,2.223,6.337,5.307,7.363c0.388,0.071,0.53-0.168,0.53-0.374c0-0.184-0.007-0.672-0.01-1.32 c-2.159,0.469-2.614-1.04-2.614-1.04c-0.353-0.896-0.862-1.135-0.862-1.135c-0.705-0.481,0.053-0.472,0.053-0.472 c0.779,0.055,1.189,0.8,1.189,0.8c0.692,1.186,1.816,0.843,2.258,0.645c0.071-0.502,0.271-0.843,0.493-1.037 C4.86,11.425,3.049,10.76,3.049,7.786c0-0.847,0.302-1.54,0.799-2.082C3.768,5.507,3.501,4.718,3.924,3.65 c0,0,0.652-0.209,2.134,0.796C6.677,4.273,7.34,4.187,8,4.184c0.659,0.003,1.323,0.089,1.943,0.261 c1.482-1.004,2.132-0.796,2.132-0.796c0.423,1.068,0.157,1.857,0.077,2.054c0.497,0.542,0.798,1.235,0.798,2.082 c0,2.981-1.814,3.637-3.543,3.829c0.279,0.24,0.527,0.713,0.527,1.437c0,1.037-0.01,1.874-0.01,2.129 c0,0.208,0.14,0.449,0.534,0.373c3.081-1.028,5.302-3.935,5.302-7.362C15.76,3.906,12.285,0.431,7.999,0.431z\"/></svg>\\n</span><span class=\"username\">jekyll</span></a>\\n\\n          </li>\\n          \\n\\n          \\n          <li>\\n            <a href=\"https://twitter.com/jekyllrb\"><span class=\"icon icon--twitter\"><svg viewBox=\"0 0 16 16\" width=\"16px\" height=\"16px\"><path fill=\"#828282\" d=\"M15.969,3.058c-0.586,0.26-1.217,0.436-1.878,0.515c0.675-0.405,1.194-1.045,1.438-1.809c-0.632,0.375-1.332,0.647-2.076,0.793c-0.596-0.636-1.446-1.033-2.387-1.033c-1.806,0-3.27,1.464-3.27,3.27 c0,0.256,0.029,0.506,0.085,0.745C5.163,5.404,2.753,4.102,1.14,2.124C0.859,2.607,0.698,3.168,0.698,3.767 c0,1.134,0.577,2.135,1.455,2.722C1.616,6.472,1.112,6.325,0.671,6.08c0,0.014,0,0.027,0,0.041c0,1.584,1.127,2.906,2.623,3.206 C3.02,9.402,2.731,9.442,2.433,9.442c-0.211,0-0.416-0.021-0.615-0.059c0.416,1.299,1.624,2.245,3.055,2.271 c-1.119,0.877-2.529,1.4-4.061,1.4c-0.264,0-0.524-0.015-0.78-0.046c1.447,0.928,3.166,1.469,5.013,1.469 c6.015,0,9.304-4.983,9.304-9.304c0-0.142-0.003-0.283-0.009-0.423C14.976,4.29,15.531,3.714,15.969,3.058z\"/></svg>\\n</span><span class=\"username\">jekyllrb</span></a>\\n\\n          </li>\\n          \\n        </ul>\\n      </div>\\n\\n      <div class=\"footer-col footer-col-3\">\\n        <p>\\xeb\\xa9\\x8d\\xea\\xb0\\x9c\\xec\\x9d\\x98 \\xea\\xb0\\x9c\\xeb\\xb0\\x9c \\xeb\\xb8\\x94\\xeb\\xa1\\x9c\\xea\\xb7\\xb8\\xec\\x9e\\x85\\xeb\\x8b\\x88\\xeb\\x8b\\xa4. \\xea\\xb6\\x81\\xea\\xb8\\x88\\xed\\x95\\x98\\xec\\x8b\\xa0 \\xec\\x82\\xac\\xed\\x95\\xad \\xed\\x98\\xb9\\xec\\x9d\\x80 \\xec\\xa0\\x84\\xeb\\x8b\\xac\\xed\\x95\\x98\\xea\\xb3\\xa0 \\xec\\x8b\\xb6\\xec\\x9d\\x80 \\xeb\\x82\\xb4\\xec\\x9a\\xa9\\xec\\x9d\\xb4 \\xec\\x9e\\x88\\xec\\x9c\\xbc\\xec\\x8b\\x9c\\xeb\\xa9\\xb4 \\xeb\\xa9\\x94\\xec\\x9d\\xbc\\xeb\\xa1\\x9c \\xeb\\xac\\xb8\\xec\\x9d\\x98 \\xec\\xa3\\xbc\\xec\\x84\\xb8\\xec\\x9a\\x94.\\n</p>\\n      </div>\\n    </div>\\n\\n  </div>\\n\\n</footer>\\n\\n\\n  </body>\\n\\n</html>\\n'\n"
     ]
    }
   ],
   "source": [
    "# HTML 코드 가져오기\n",
    "print(page.read())"
   ]
  },
  {
   "cell_type": "markdown",
   "metadata": {},
   "source": [
    "requests의 content()함수처럼 read()함수가 HTML을 바이너리 형태로 가져옴."
   ]
  },
  {
   "cell_type": "code",
   "execution_count": 38,
   "metadata": {},
   "outputs": [
    {
     "name": "stdout",
     "output_type": "stream",
     "text": [
      "b'key=value1&key2=value2'\n",
      "<http.client.HTTPResponse object at 0x000001FDC1BA0DA0>\n",
      "https://blog.naver.com/pjt3591oo\n",
      "<http.client.HTTPResponse object at 0x000001FDC1B3EDD8>\n",
      "https://blog.naver.com/pjt3591oo?key1=value1&key=value2\n"
     ]
    }
   ],
   "source": [
    "# 데이터 요청\n",
    "import urllib\n",
    "\n",
    "url = \"http://blog.naver.com/pjt3591oo\"\n",
    "\n",
    "# post 요청 시 보낼 데이터 만들기\n",
    "# encode()함수를 바이너리 형태로 인코딩하여 보내야 한다.\n",
    "data = {'key': 'value1', 'key2': 'value2'}\n",
    "data = urllib.parse.urlencode(data)    # 딕셔너리를 쿼리스트링 형태로 바꿔줌.\n",
    "data = data.encode('utf-8')            # 쿼리스트링처럼 표현된 문자열을 UTF-8로 인코딩하여 바이너리 형태로 바꿔줌.\n",
    "\n",
    "print(data)\n",
    "\n",
    "# Request()함수에 두 번째 인자값(data)가 존재하면 POST요청, 없으면 GET요청.\n",
    "# post 요청\n",
    "req_post = Request(url, data=data, headers={}) # 두 번째 인자 데이터, 세 번째 인자 헤더\n",
    "page = urlopen(req_post)\n",
    "\n",
    "print(page)\n",
    "print(page.url)\n",
    "\n",
    "# get 요청\n",
    "req_get = Request(url+\"?key1=value1&key=value2\", None, headers={})\n",
    "page = urlopen(req_get)\n",
    "\n",
    "print(page)\n",
    "print(page.url)"
   ]
  },
  {
   "cell_type": "code",
   "execution_count": 39,
   "metadata": {},
   "outputs": [
    {
     "ename": "HTTPError",
     "evalue": "HTTP Error 404: Not Found",
     "output_type": "error",
     "traceback": [
      "\u001b[1;31m---------------------------------------------------------------------------\u001b[0m",
      "\u001b[1;31mHTTPError\u001b[0m                                 Traceback (most recent call last)",
      "\u001b[1;32m<ipython-input-39-98ea5c97ed6c>\u001b[0m in \u001b[0;36m<module>\u001b[1;34m()\u001b[0m\n\u001b[0;32m      2\u001b[0m \u001b[0murl\u001b[0m \u001b[1;33m=\u001b[0m \u001b[1;34m\"https://pjt3591oo.github.io/1\"\u001b[0m\u001b[1;33m\u001b[0m\u001b[0m\n\u001b[0;32m      3\u001b[0m \u001b[0mreq_post\u001b[0m \u001b[1;33m=\u001b[0m \u001b[0mRequest\u001b[0m\u001b[1;33m(\u001b[0m\u001b[0murl\u001b[0m\u001b[1;33m)\u001b[0m\u001b[1;33m\u001b[0m\u001b[0m\n\u001b[1;32m----> 4\u001b[1;33m \u001b[0mpage\u001b[0m \u001b[1;33m=\u001b[0m \u001b[0murlopen\u001b[0m\u001b[1;33m(\u001b[0m\u001b[0mreq_post\u001b[0m\u001b[1;33m)\u001b[0m\u001b[1;33m\u001b[0m\u001b[0m\n\u001b[0m\u001b[0;32m      5\u001b[0m \u001b[1;33m\u001b[0m\u001b[0m\n\u001b[0;32m      6\u001b[0m \u001b[0mprint\u001b[0m\u001b[1;33m(\u001b[0m\u001b[0mpage\u001b[0m\u001b[1;33m)\u001b[0m\u001b[1;33m\u001b[0m\u001b[0m\n",
      "\u001b[1;32mC:\\Anaconda\\lib\\urllib\\request.py\u001b[0m in \u001b[0;36murlopen\u001b[1;34m(url, data, timeout, cafile, capath, cadefault, context)\u001b[0m\n\u001b[0;32m    221\u001b[0m     \u001b[1;32melse\u001b[0m\u001b[1;33m:\u001b[0m\u001b[1;33m\u001b[0m\u001b[0m\n\u001b[0;32m    222\u001b[0m         \u001b[0mopener\u001b[0m \u001b[1;33m=\u001b[0m \u001b[0m_opener\u001b[0m\u001b[1;33m\u001b[0m\u001b[0m\n\u001b[1;32m--> 223\u001b[1;33m     \u001b[1;32mreturn\u001b[0m \u001b[0mopener\u001b[0m\u001b[1;33m.\u001b[0m\u001b[0mopen\u001b[0m\u001b[1;33m(\u001b[0m\u001b[0murl\u001b[0m\u001b[1;33m,\u001b[0m \u001b[0mdata\u001b[0m\u001b[1;33m,\u001b[0m \u001b[0mtimeout\u001b[0m\u001b[1;33m)\u001b[0m\u001b[1;33m\u001b[0m\u001b[0m\n\u001b[0m\u001b[0;32m    224\u001b[0m \u001b[1;33m\u001b[0m\u001b[0m\n\u001b[0;32m    225\u001b[0m \u001b[1;32mdef\u001b[0m \u001b[0minstall_opener\u001b[0m\u001b[1;33m(\u001b[0m\u001b[0mopener\u001b[0m\u001b[1;33m)\u001b[0m\u001b[1;33m:\u001b[0m\u001b[1;33m\u001b[0m\u001b[0m\n",
      "\u001b[1;32mC:\\Anaconda\\lib\\urllib\\request.py\u001b[0m in \u001b[0;36mopen\u001b[1;34m(self, fullurl, data, timeout)\u001b[0m\n\u001b[0;32m    530\u001b[0m         \u001b[1;32mfor\u001b[0m \u001b[0mprocessor\u001b[0m \u001b[1;32min\u001b[0m \u001b[0mself\u001b[0m\u001b[1;33m.\u001b[0m\u001b[0mprocess_response\u001b[0m\u001b[1;33m.\u001b[0m\u001b[0mget\u001b[0m\u001b[1;33m(\u001b[0m\u001b[0mprotocol\u001b[0m\u001b[1;33m,\u001b[0m \u001b[1;33m[\u001b[0m\u001b[1;33m]\u001b[0m\u001b[1;33m)\u001b[0m\u001b[1;33m:\u001b[0m\u001b[1;33m\u001b[0m\u001b[0m\n\u001b[0;32m    531\u001b[0m             \u001b[0mmeth\u001b[0m \u001b[1;33m=\u001b[0m \u001b[0mgetattr\u001b[0m\u001b[1;33m(\u001b[0m\u001b[0mprocessor\u001b[0m\u001b[1;33m,\u001b[0m \u001b[0mmeth_name\u001b[0m\u001b[1;33m)\u001b[0m\u001b[1;33m\u001b[0m\u001b[0m\n\u001b[1;32m--> 532\u001b[1;33m             \u001b[0mresponse\u001b[0m \u001b[1;33m=\u001b[0m \u001b[0mmeth\u001b[0m\u001b[1;33m(\u001b[0m\u001b[0mreq\u001b[0m\u001b[1;33m,\u001b[0m \u001b[0mresponse\u001b[0m\u001b[1;33m)\u001b[0m\u001b[1;33m\u001b[0m\u001b[0m\n\u001b[0m\u001b[0;32m    533\u001b[0m \u001b[1;33m\u001b[0m\u001b[0m\n\u001b[0;32m    534\u001b[0m         \u001b[1;32mreturn\u001b[0m \u001b[0mresponse\u001b[0m\u001b[1;33m\u001b[0m\u001b[0m\n",
      "\u001b[1;32mC:\\Anaconda\\lib\\urllib\\request.py\u001b[0m in \u001b[0;36mhttp_response\u001b[1;34m(self, request, response)\u001b[0m\n\u001b[0;32m    640\u001b[0m         \u001b[1;32mif\u001b[0m \u001b[1;32mnot\u001b[0m \u001b[1;33m(\u001b[0m\u001b[1;36m200\u001b[0m \u001b[1;33m<=\u001b[0m \u001b[0mcode\u001b[0m \u001b[1;33m<\u001b[0m \u001b[1;36m300\u001b[0m\u001b[1;33m)\u001b[0m\u001b[1;33m:\u001b[0m\u001b[1;33m\u001b[0m\u001b[0m\n\u001b[0;32m    641\u001b[0m             response = self.parent.error(\n\u001b[1;32m--> 642\u001b[1;33m                 'http', request, response, code, msg, hdrs)\n\u001b[0m\u001b[0;32m    643\u001b[0m \u001b[1;33m\u001b[0m\u001b[0m\n\u001b[0;32m    644\u001b[0m         \u001b[1;32mreturn\u001b[0m \u001b[0mresponse\u001b[0m\u001b[1;33m\u001b[0m\u001b[0m\n",
      "\u001b[1;32mC:\\Anaconda\\lib\\urllib\\request.py\u001b[0m in \u001b[0;36merror\u001b[1;34m(self, proto, *args)\u001b[0m\n\u001b[0;32m    568\u001b[0m         \u001b[1;32mif\u001b[0m \u001b[0mhttp_err\u001b[0m\u001b[1;33m:\u001b[0m\u001b[1;33m\u001b[0m\u001b[0m\n\u001b[0;32m    569\u001b[0m             \u001b[0margs\u001b[0m \u001b[1;33m=\u001b[0m \u001b[1;33m(\u001b[0m\u001b[0mdict\u001b[0m\u001b[1;33m,\u001b[0m \u001b[1;34m'default'\u001b[0m\u001b[1;33m,\u001b[0m \u001b[1;34m'http_error_default'\u001b[0m\u001b[1;33m)\u001b[0m \u001b[1;33m+\u001b[0m \u001b[0morig_args\u001b[0m\u001b[1;33m\u001b[0m\u001b[0m\n\u001b[1;32m--> 570\u001b[1;33m             \u001b[1;32mreturn\u001b[0m \u001b[0mself\u001b[0m\u001b[1;33m.\u001b[0m\u001b[0m_call_chain\u001b[0m\u001b[1;33m(\u001b[0m\u001b[1;33m*\u001b[0m\u001b[0margs\u001b[0m\u001b[1;33m)\u001b[0m\u001b[1;33m\u001b[0m\u001b[0m\n\u001b[0m\u001b[0;32m    571\u001b[0m \u001b[1;33m\u001b[0m\u001b[0m\n\u001b[0;32m    572\u001b[0m \u001b[1;31m# XXX probably also want an abstract factory that knows when it makes\u001b[0m\u001b[1;33m\u001b[0m\u001b[1;33m\u001b[0m\u001b[0m\n",
      "\u001b[1;32mC:\\Anaconda\\lib\\urllib\\request.py\u001b[0m in \u001b[0;36m_call_chain\u001b[1;34m(self, chain, kind, meth_name, *args)\u001b[0m\n\u001b[0;32m    502\u001b[0m         \u001b[1;32mfor\u001b[0m \u001b[0mhandler\u001b[0m \u001b[1;32min\u001b[0m \u001b[0mhandlers\u001b[0m\u001b[1;33m:\u001b[0m\u001b[1;33m\u001b[0m\u001b[0m\n\u001b[0;32m    503\u001b[0m             \u001b[0mfunc\u001b[0m \u001b[1;33m=\u001b[0m \u001b[0mgetattr\u001b[0m\u001b[1;33m(\u001b[0m\u001b[0mhandler\u001b[0m\u001b[1;33m,\u001b[0m \u001b[0mmeth_name\u001b[0m\u001b[1;33m)\u001b[0m\u001b[1;33m\u001b[0m\u001b[0m\n\u001b[1;32m--> 504\u001b[1;33m             \u001b[0mresult\u001b[0m \u001b[1;33m=\u001b[0m \u001b[0mfunc\u001b[0m\u001b[1;33m(\u001b[0m\u001b[1;33m*\u001b[0m\u001b[0margs\u001b[0m\u001b[1;33m)\u001b[0m\u001b[1;33m\u001b[0m\u001b[0m\n\u001b[0m\u001b[0;32m    505\u001b[0m             \u001b[1;32mif\u001b[0m \u001b[0mresult\u001b[0m \u001b[1;32mis\u001b[0m \u001b[1;32mnot\u001b[0m \u001b[1;32mNone\u001b[0m\u001b[1;33m:\u001b[0m\u001b[1;33m\u001b[0m\u001b[0m\n\u001b[0;32m    506\u001b[0m                 \u001b[1;32mreturn\u001b[0m \u001b[0mresult\u001b[0m\u001b[1;33m\u001b[0m\u001b[0m\n",
      "\u001b[1;32mC:\\Anaconda\\lib\\urllib\\request.py\u001b[0m in \u001b[0;36mhttp_error_default\u001b[1;34m(self, req, fp, code, msg, hdrs)\u001b[0m\n\u001b[0;32m    648\u001b[0m \u001b[1;32mclass\u001b[0m \u001b[0mHTTPDefaultErrorHandler\u001b[0m\u001b[1;33m(\u001b[0m\u001b[0mBaseHandler\u001b[0m\u001b[1;33m)\u001b[0m\u001b[1;33m:\u001b[0m\u001b[1;33m\u001b[0m\u001b[0m\n\u001b[0;32m    649\u001b[0m     \u001b[1;32mdef\u001b[0m \u001b[0mhttp_error_default\u001b[0m\u001b[1;33m(\u001b[0m\u001b[0mself\u001b[0m\u001b[1;33m,\u001b[0m \u001b[0mreq\u001b[0m\u001b[1;33m,\u001b[0m \u001b[0mfp\u001b[0m\u001b[1;33m,\u001b[0m \u001b[0mcode\u001b[0m\u001b[1;33m,\u001b[0m \u001b[0mmsg\u001b[0m\u001b[1;33m,\u001b[0m \u001b[0mhdrs\u001b[0m\u001b[1;33m)\u001b[0m\u001b[1;33m:\u001b[0m\u001b[1;33m\u001b[0m\u001b[0m\n\u001b[1;32m--> 650\u001b[1;33m         \u001b[1;32mraise\u001b[0m \u001b[0mHTTPError\u001b[0m\u001b[1;33m(\u001b[0m\u001b[0mreq\u001b[0m\u001b[1;33m.\u001b[0m\u001b[0mfull_url\u001b[0m\u001b[1;33m,\u001b[0m \u001b[0mcode\u001b[0m\u001b[1;33m,\u001b[0m \u001b[0mmsg\u001b[0m\u001b[1;33m,\u001b[0m \u001b[0mhdrs\u001b[0m\u001b[1;33m,\u001b[0m \u001b[0mfp\u001b[0m\u001b[1;33m)\u001b[0m\u001b[1;33m\u001b[0m\u001b[0m\n\u001b[0m\u001b[0;32m    651\u001b[0m \u001b[1;33m\u001b[0m\u001b[0m\n\u001b[0;32m    652\u001b[0m \u001b[1;32mclass\u001b[0m \u001b[0mHTTPRedirectHandler\u001b[0m\u001b[1;33m(\u001b[0m\u001b[0mBaseHandler\u001b[0m\u001b[1;33m)\u001b[0m\u001b[1;33m:\u001b[0m\u001b[1;33m\u001b[0m\u001b[0m\n",
      "\u001b[1;31mHTTPError\u001b[0m: HTTP Error 404: Not Found"
     ]
    }
   ],
   "source": [
    "# 없는 페이지 요청\n",
    "url = \"https://pjt3591oo.github.io/1\"\n",
    "req_post = Request(url)\n",
    "page = urlopen(req_post)\n",
    "\n",
    "print(page)\n",
    "print(page.url)"
   ]
  },
  {
   "cell_type": "markdown",
   "metadata": {},
   "source": [
    "requests와 다르게 잘못된 페이지 요청 시 에러를 띄워줌."
   ]
  },
  {
   "cell_type": "markdown",
   "metadata": {},
   "source": [
    "## 파싱 모듈\n",
    "요청 모듈로 가져온 HTML코드를 파이썬이 쓸 수 있는 코드로 변환해 주어야.. bs4모듈을 사용하여 HTML코드를 파이썬에서 사용 가능한 객체로 바꿔줌.  \n",
    "내장모듈!"
   ]
  },
  {
   "cell_type": "code",
   "execution_count": 40,
   "metadata": {},
   "outputs": [
    {
     "name": "stderr",
     "output_type": "stream",
     "text": [
      "C:\\Anaconda\\lib\\site-packages\\bs4\\__init__.py:181: UserWarning: No parser was explicitly specified, so I'm using the best available HTML parser for this system (\"lxml\"). This usually isn't a problem, but if you run this code on another system, or in a different virtual environment, it may use a different parser and behave differently.\n",
      "\n",
      "The code that caused this warning is on line 193 of the file C:\\Anaconda\\lib\\runpy.py. To get rid of this warning, change code that looks like this:\n",
      "\n",
      " BeautifulSoup(YOUR_MARKUP})\n",
      "\n",
      "to this:\n",
      "\n",
      " BeautifulSoup(YOUR_MARKUP, \"lxml\")\n",
      "\n",
      "  markup_type=markup_type))\n"
     ]
    }
   ],
   "source": [
    "import bs4\n",
    "\n",
    "html = \"\"\"\"\"\"\"\"\n",
    "\n",
    "soup = bs4.BeautifulSoup(html)"
   ]
  },
  {
   "cell_type": "markdown",
   "metadata": {},
   "source": [
    "두 번째 인자로 파서를 넣지 않았기 때문에 시스템에서 가장 적합한 파서를 선택했다는 경고 메시지.."
   ]
  },
  {
   "cell_type": "code",
   "execution_count": 41,
   "metadata": {
    "collapsed": true
   },
   "outputs": [],
   "source": [
    "soup = bs4.BeautifulSoup(html, 'lxml')"
   ]
  },
  {
   "cell_type": "markdown",
   "metadata": {},
   "source": [
    "BeautifulSoup() 함수 첫 번째 인자로 파이썬 객체로 바꿀 스트링을 넣어주고, 두 번째 인자로 파서를 넣음.  \n",
    "**파서**란, 원시 코드인 순수 문자열 객체를 해석할 수 있도록 분석하는 것을 의미..  \n",
    "lxml  \n",
    "html5lib  \n",
    "html.parser 세 개 존재.  \n",
    "주로 lxml을 이용하지만 한글깨질때 파서를 바꾸면 되기도..\n",
    "1. **lxml**\n",
    "XML 해석이 가능한 파서. 그리고 파이썬 2.x, 3.x 모두 지원. 매우 빠른속도(c로 구현)  \n",
    "2. **html5lib**\n",
    "웹 브라우저 방식으로 HTML해석. 하지만 매우 느림. 2.x 버전 전용.\n",
    "3. **html.parser**\n",
    "최신버전에서 사용 불가.  \n",
    "  \n",
    "BeautifulSoup 다 쓰기 너무 길다.. BS 로 쓸까??"
   ]
  },
  {
   "cell_type": "code",
   "execution_count": 42,
   "metadata": {
    "collapsed": true
   },
   "outputs": [],
   "source": [
    "from bs4 import BeautifulSoup as BS\n",
    "html = \"\"\"\"\"\"\n",
    "soup = BS(html, 'lxml')"
   ]
  },
  {
   "cell_type": "markdown",
   "metadata": {},
   "source": [
    "## 웹 테스팅 모듈\n",
    "웹 자동 테스팅 프레임워크인 selenium에 대해 알아보자! 크롤러를 만들 때 requests + bs4 조합을 쓰거나 selenium 사용.  \n",
    "설치필요, 브라우저 드라이버도 설치해야. 드라이버는 크롤러가 작성된 폴더에 있어야함."
   ]
  },
  {
   "cell_type": "code",
   "execution_count": 43,
   "metadata": {
    "collapsed": true
   },
   "outputs": [],
   "source": [
    "from selenium import webdriver\n",
    "\n",
    "driver = webdriver.Chrome('chromedriver.exe')  # 설치된 드라이버의 경로. 반드시 같은폴더일 필요는 없구나 역시."
   ]
  },
  {
   "cell_type": "markdown",
   "metadata": {},
   "source": [
    "윈도우에선 .exe 붙여주기...  위처럼만 하면 빈 브라우저 뜬다.\n",
    "다른 브라우저들.\n",
    "1. chrome_driver = webdriver.Chrome('chromedriver')\n",
    "2. iexplore_driver = webdriver.Ie('IEDriverServer')\n",
    "3. firefox_driver = webdriver.Firefox('FirefoxDriver')"
   ]
  },
  {
   "cell_type": "code",
   "execution_count": null,
   "metadata": {
    "collapsed": true
   },
   "outputs": [],
   "source": []
  }
 ],
 "metadata": {
  "kernelspec": {
   "display_name": "Python 3",
   "language": "python",
   "name": "python3"
  },
  "language_info": {
   "codemirror_mode": {
    "name": "ipython",
    "version": 3
   },
   "file_extension": ".py",
   "mimetype": "text/x-python",
   "name": "python",
   "nbconvert_exporter": "python",
   "pygments_lexer": "ipython3",
   "version": "3.6.3"
  }
 },
 "nbformat": 4,
 "nbformat_minor": 2
}
