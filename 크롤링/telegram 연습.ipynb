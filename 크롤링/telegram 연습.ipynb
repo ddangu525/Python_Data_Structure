{
 "cells": [
  {
   "cell_type": "code",
   "execution_count": 2,
   "metadata": {},
   "outputs": [
    {
     "name": "stdout",
     "output_type": "stream",
     "text": [
      "{'message_id': 3, 'date': 1550388545, 'chat': {'id': 717905643, 'type': 'private', 'first_name': 'Park'}, 'text': 'ㅇㅇㄹ', 'entities': [], 'caption_entities': [], 'photo': [], 'new_chat_members': [], 'new_chat_photo': [], 'delete_chat_photo': False, 'group_chat_created': False, 'supergroup_chat_created': False, 'channel_chat_created': False, 'from': {'id': 717905643, 'first_name': 'Park', 'is_bot': False, 'language_code': 'ko'}}\n",
      "{'message_id': 4, 'date': 1550388547, 'chat': {'id': 717905643, 'type': 'private', 'first_name': 'Park'}, 'text': 'ㅇㄹㅇㄹ', 'entities': [], 'caption_entities': [], 'photo': [], 'new_chat_members': [], 'new_chat_photo': [], 'delete_chat_photo': False, 'group_chat_created': False, 'supergroup_chat_created': False, 'channel_chat_created': False, 'from': {'id': 717905643, 'first_name': 'Park', 'is_bot': False, 'language_code': 'ko'}}\n"
     ]
    }
   ],
   "source": [
    "import telegram   #텔레그램 모듈을 가져옵니다.\n",
    "\n",
    "my_token = '711666730:AAEKPKj2mmjozlOtANAAzLgXg1xQR_1ZBhY'   #토큰을 변수에 저장합니다.\n",
    "\n",
    "bot = telegram.Bot(token = my_token)   #bot을 선언합니다.\n",
    "\n",
    "updates = bot.getUpdates()  #업데이트 내역을 받아옵니다.\n",
    "\n",
    "for u in updates :   # 내역중 메세지를 출력합니다.\n",
    "    print(u.message)"
   ]
  },
  {
   "cell_type": "code",
   "execution_count": 4,
   "metadata": {},
   "outputs": [
    {
     "data": {
      "text/plain": [
       "<telegram.message.Message at 0x1f507241c18>"
      ]
     },
     "execution_count": 4,
     "metadata": {},
     "output_type": "execute_result"
    }
   ],
   "source": [
    "# 봇에서 메시지 보내기\n",
    "chat_id = bot.getUpdates()[-1].message.chat.id #가장 최근에 온 메세지의 chat id를 가져옵니다\n",
    "\n",
    "bot.sendMessage(chat_id = chat_id, text=\"저는 봇입니다.ㅎㅎ 잘만들어보세요\")"
   ]
  },
  {
   "cell_type": "code",
   "execution_count": 9,
   "metadata": {},
   "outputs": [
    {
     "data": {
      "text/plain": [
       "<telegram.message.Message at 0x1f507777898>"
      ]
     },
     "execution_count": 9,
     "metadata": {},
     "output_type": "execute_result"
    }
   ],
   "source": [
    "# 채널 링크\n",
    "channel_link = 'https://t.me/joinchat/AAAAAFVsnLdLXTkz9x3Urg'\n",
    "bot.sendMessage(chat_id='@ev_test', text=\"이거 공개방에서만 되는데??\") # @링크는 공개방에서만."
   ]
  },
  {
   "cell_type": "code",
   "execution_count": 11,
   "metadata": {},
   "outputs": [
    {
     "data": {
      "text/plain": [
       "-1001433181367"
      ]
     },
     "execution_count": 11,
     "metadata": {},
     "output_type": "execute_result"
    }
   ],
   "source": [
    "id_channel = bot.sendMessage(chat_id='@ev_test', text=\"I'm bot\").chat_id\n",
    "id_channel"
   ]
  },
  {
   "cell_type": "code",
   "execution_count": 14,
   "metadata": {},
   "outputs": [
    {
     "data": {
      "text/plain": [
       "<telegram.message.Message at 0x1f5077ffcf8>"
      ]
     },
     "execution_count": 14,
     "metadata": {},
     "output_type": "execute_result"
    }
   ],
   "source": [
    "bot.sendMessage(chat_id=id_channel, text='됐다!!')"
   ]
  },
  {
   "cell_type": "code",
   "execution_count": null,
   "metadata": {
    "collapsed": true
   },
   "outputs": [],
   "source": []
  }
 ],
 "metadata": {
  "kernelspec": {
   "display_name": "Python 3",
   "language": "python",
   "name": "python3"
  },
  "language_info": {
   "codemirror_mode": {
    "name": "ipython",
    "version": 3
   },
   "file_extension": ".py",
   "mimetype": "text/x-python",
   "name": "python",
   "nbconvert_exporter": "python",
   "pygments_lexer": "ipython3",
   "version": "3.6.3"
  }
 },
 "nbformat": 4,
 "nbformat_minor": 2
}
