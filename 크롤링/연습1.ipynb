{
 "cells": [
  {
   "cell_type": "code",
   "execution_count": 3,
   "metadata": {
    "collapsed": true
   },
   "outputs": [],
   "source": [
    "from selenium import webdriver\n",
    "from selenium.webdriver.common.keys import Keys\n",
    "from bs4 import BeautifulSoup as bs\n",
    "import requests as rq\n",
    "import urllib\n",
    " \n",
    "url = 'https://yonsei.everytime.kr/login?redirect=/375468'\n",
    "\n",
    "u_id = 'ddangu525'\n",
    "password = 'astronomer'\n",
    "\n",
    "id_path = '#container > form > p:nth-child(1) > input'\n",
    "pw_path = '#container > form > p:nth-child(2) > input'\n",
    "login_button_path = '#container > form > p.submit > input'\n",
    "\n",
    "driver = webdriver.Chrome('chromedriver.exe')\n",
    "driver.get(url)\n",
    "\n",
    "# 아이디/비밀번호를 입력해준다.\n",
    "driver.find_element_by_css_selector(id_path).send_keys(u_id)\n",
    "driver.find_element_by_css_selector(pw_path).send_keys(password)\n",
    "# 로그인 누르기\n",
    "driver.find_element_by_css_selector(login_button_path).click()"
   ]
  },
  {
   "cell_type": "markdown",
   "metadata": {},
   "source": [
    "여기까지 성공!!!"
   ]
  },
  {
   "cell_type": "code",
   "execution_count": null,
   "metadata": {
    "collapsed": true
   },
   "outputs": [],
   "source": [
    "main_container_path = '#container'\n",
    "articles_path = '#container > div.wrap.articles'  # 여기가 글들 있는데.."
   ]
  },
  {
   "cell_type": "code",
   "execution_count": null,
   "metadata": {
    "collapsed": true
   },
   "outputs": [],
   "source": []
  },
  {
   "cell_type": "markdown",
   "metadata": {},
   "source": [
    "한 장만 올렸을 때는 attaches.full  \n",
    "#container > div.wrap.articles > article > a > div.attaches.full   \n",
    "#container > div.wrap.articles > article > a > div.attaches.full > figure > img  \n",
    "\n",
    "--- \n",
    "여러 장 올리면 attaches.multiple  \n",
    "#container > div.wrap.articles > article > a > div.attaches.multiple  \n",
    "#container > div.wrap.articles > article > a > div.attaches.multiple > figure:nth-child(1) > img  \n",
    "#container > div.wrap.articles > article > a > div.attaches.multiple > figure:nth-child(2) > img  \n",
    "이런식으로 된다."
   ]
  },
  {
   "cell_type": "markdown",
   "metadata": {},
   "source": [
    "일단 사진 저장부터 해보자."
   ]
  },
  {
   "cell_type": "code",
   "execution_count": 10,
   "metadata": {
    "collapsed": true
   },
   "outputs": [],
   "source": [
    "url = 'https://yonsei.everytime.kr/login?redirect=/417000'\n",
    "\n",
    "u_id = 'ddangu525'\n",
    "password = 'astronomer'\n",
    "\n",
    "id_path = '#container > form > p:nth-child(1) > input'\n",
    "pw_path = '#container > form > p:nth-child(2) > input'\n",
    "login_button_path = '#container > form > p.submit > input'\n",
    "\n",
    "driver = webdriver.Chrome('chromedriver.exe')\n",
    "driver.get(url)\n",
    "\n",
    "# 아이디/비밀번호를 입력해준다.\n",
    "driver.find_element_by_css_selector(id_path).send_keys(u_id)\n",
    "driver.find_element_by_css_selector(pw_path).send_keys(password)\n",
    "# 로그인 누르기\n",
    "driver.find_element_by_css_selector(login_button_path).click()"
   ]
  },
  {
   "cell_type": "code",
   "execution_count": 13,
   "metadata": {
    "collapsed": true
   },
   "outputs": [],
   "source": [
    "# 가장 최신 글 주소\n",
    "latest_path = '#container > div.wrap.articles > article:nth-child(2) > a'   # 2번째 자식이라고??\n",
    "# 가장 최신 글 들어가기\n",
    "driver.find_element_by_css_selector(latest_path).click()"
   ]
  },
  {
   "cell_type": "code",
   "execution_count": 25,
   "metadata": {},
   "outputs": [
    {
     "data": {
      "text/plain": [
       "('test.jpg', <http.client.HTTPMessage at 0x2141a3a57f0>)"
      ]
     },
     "execution_count": 25,
     "metadata": {},
     "output_type": "execute_result"
    }
   ],
   "source": [
    "# 사진 있으면 다운받기  urllib.urlretrieve(src, \"filename.png\") 이거 이용.\n",
    "import urllib\n",
    "\n",
    "# 사진 여러장 있으면..attaches.multiple\n",
    "#container > div.wrap.articles > article > a > div.attaches.multiple\n",
    "# 사진 주소.\n",
    "img_path = '#container > div.wrap.articles > article > a > div.attaches.multiple > figure:nth-child(1) > img'\n",
    "img = driver.find_element_by_css_selector(img_path)\n",
    "urllib.request.urlretrieve(img.get_attribute('src'), 'test.jpg')"
   ]
  },
  {
   "cell_type": "code",
   "execution_count": 23,
   "metadata": {},
   "outputs": [
    {
     "data": {
      "text/plain": [
       "'https://cf-ea.everytime.kr/attach_thumbnail/537/12803784/mobile_upload_1550379627.jpg?Expires=1550384860&Policy=eyJTdGF0ZW1lbnQiOlt7IlJlc291cmNlIjoiaHR0cHM6Ly9jZi1lYS5ldmVyeXRpbWUua3IvYXR0YWNoX3RodW1ibmFpbC81MzcvMTI4MDM3ODQvbW9iaWxlX3VwbG9hZF8xNTUwMzc5NjI3LmpwZyIsIkNvbmRpdGlvbiI6eyJEYXRlTGVzc1RoYW4iOnsiQVdTOkVwb2NoVGltZSI6MTU1MDM4NDg2MH19fV19&Signature=NvG03LxbmUBikhRSc5iZwOyLOrnUQPw5EHC6Pm1-nL1pob8Bdkw37tzuXfPXo4Jbd5YTpQNHUiY5tjD2cNggo4AIOwSQiAfSd4i25W9qMn8qY0SsjmNmp2dYpZvmyhsdsNABrpX8zbTEn5VF4~gkbM9Ktgs3Z9xeFaOSP9~1o3t5O66h-1z0Frfi45qIgy-xE7PHcxBgokpNfPufm--2qbq0FML2rigzjIxqSLmDFdaeVjqyFc-Aq0pbKnK~02ma6wunG85vi7JTopUXjhCYchS9cSC3J4EYvEKmlTtrAIEPSfKvhphkNIzv~SR0vaAUpDvCU5GPi0PcidHY6yfXwg__&Key-Pair-Id=APKAICU6XZKH23IGASFA'"
      ]
     },
     "execution_count": 23,
     "metadata": {},
     "output_type": "execute_result"
    }
   ],
   "source": [
    "img_path = '#container > div.wrap.articles > article > a > div.attaches.multiple > figure:nth-child(1) > img'\n",
    "img = driver.find_element_by_css_selector(img_path)\n",
    "img.get_attribute('src')"
   ]
  },
  {
   "cell_type": "code",
   "execution_count": 28,
   "metadata": {
    "scrolled": true
   },
   "outputs": [
    {
     "data": {
      "text/plain": [
       "True"
      ]
     },
     "execution_count": 28,
     "metadata": {},
     "output_type": "execute_result"
    }
   ],
   "source": [
    "img = driver.find_element_by_css_selector(img_path)\n",
    "driver.get(img.get_attribute('src'))\n",
    "driver.save_screenshot('test4.png')   # 이방법으로 저장하면 실제보다 크게 저장되네.."
   ]
  },
  {
   "cell_type": "markdown",
   "metadata": {},
   "source": [
    "png로 하라고 경고 나오긴 하는데 그냥 jpg로 해도 괜찮은듯.. 어쨌든 업로드 할 때 화질 손실이 있는거 같다. -- x\n",
    "이미지 클릭해서 저장해야 실제 화질로 저장가능.."
   ]
  },
  {
   "cell_type": "code",
   "execution_count": 31,
   "metadata": {
    "scrolled": true
   },
   "outputs": [
    {
     "ename": "NoSuchElementException",
     "evalue": "Message: no such element: Unable to locate element: {\"method\":\"css selector\",\"selector\":\"body > img\"}\n  (Session info: chrome=72.0.3626.109)\n  (Driver info: chromedriver=72.0.3626.69 (3c16f8a135abc0d4da2dff33804db79b849a7c38),platform=Windows NT 10.0.17134 x86_64)\n",
     "output_type": "error",
     "traceback": [
      "\u001b[1;31m---------------------------------------------------------------------------\u001b[0m",
      "\u001b[1;31mNoSuchElementException\u001b[0m                    Traceback (most recent call last)",
      "\u001b[1;32m<ipython-input-31-c3d4f3983f18>\u001b[0m in \u001b[0;36m<module>\u001b[1;34m()\u001b[0m\n\u001b[0;32m      2\u001b[0m \u001b[0mdriver\u001b[0m\u001b[1;33m.\u001b[0m\u001b[0mfind_element_by_css_selector\u001b[0m\u001b[1;33m(\u001b[0m\u001b[0mimg_path\u001b[0m\u001b[1;33m)\u001b[0m\u001b[1;33m.\u001b[0m\u001b[0mclick\u001b[0m\u001b[1;33m(\u001b[0m\u001b[1;33m)\u001b[0m\u001b[1;33m\u001b[0m\u001b[0m\n\u001b[0;32m      3\u001b[0m \u001b[0mhigh_quality\u001b[0m \u001b[1;33m=\u001b[0m \u001b[1;34m'body > img'\u001b[0m\u001b[1;33m\u001b[0m\u001b[0m\n\u001b[1;32m----> 4\u001b[1;33m \u001b[0mhq_img\u001b[0m \u001b[1;33m=\u001b[0m \u001b[0mdriver\u001b[0m\u001b[1;33m.\u001b[0m\u001b[0mfind_element_by_css_selector\u001b[0m\u001b[1;33m(\u001b[0m\u001b[0mhigh_quality\u001b[0m\u001b[1;33m)\u001b[0m\u001b[1;33m\u001b[0m\u001b[0m\n\u001b[0m\u001b[0;32m      5\u001b[0m \u001b[0murllib\u001b[0m\u001b[1;33m.\u001b[0m\u001b[0mrequest\u001b[0m\u001b[1;33m.\u001b[0m\u001b[0murlretrieve\u001b[0m\u001b[1;33m(\u001b[0m\u001b[0mhq_img\u001b[0m\u001b[1;33m.\u001b[0m\u001b[0mget_attribute\u001b[0m\u001b[1;33m(\u001b[0m\u001b[1;34m'src'\u001b[0m\u001b[1;33m)\u001b[0m\u001b[1;33m,\u001b[0m \u001b[1;34m'test11.jpg'\u001b[0m\u001b[1;33m)\u001b[0m\u001b[1;33m\u001b[0m\u001b[0m\n",
      "\u001b[1;32mC:\\Anaconda\\lib\\site-packages\\selenium\\webdriver\\remote\\webdriver.py\u001b[0m in \u001b[0;36mfind_element_by_css_selector\u001b[1;34m(self, css_selector)\u001b[0m\n\u001b[0;32m    596\u001b[0m             \u001b[0melement\u001b[0m \u001b[1;33m=\u001b[0m \u001b[0mdriver\u001b[0m\u001b[1;33m.\u001b[0m\u001b[0mfind_element_by_css_selector\u001b[0m\u001b[1;33m(\u001b[0m\u001b[1;34m'#foo'\u001b[0m\u001b[1;33m)\u001b[0m\u001b[1;33m\u001b[0m\u001b[0m\n\u001b[0;32m    597\u001b[0m         \"\"\"\n\u001b[1;32m--> 598\u001b[1;33m         \u001b[1;32mreturn\u001b[0m \u001b[0mself\u001b[0m\u001b[1;33m.\u001b[0m\u001b[0mfind_element\u001b[0m\u001b[1;33m(\u001b[0m\u001b[0mby\u001b[0m\u001b[1;33m=\u001b[0m\u001b[0mBy\u001b[0m\u001b[1;33m.\u001b[0m\u001b[0mCSS_SELECTOR\u001b[0m\u001b[1;33m,\u001b[0m \u001b[0mvalue\u001b[0m\u001b[1;33m=\u001b[0m\u001b[0mcss_selector\u001b[0m\u001b[1;33m)\u001b[0m\u001b[1;33m\u001b[0m\u001b[0m\n\u001b[0m\u001b[0;32m    599\u001b[0m \u001b[1;33m\u001b[0m\u001b[0m\n\u001b[0;32m    600\u001b[0m     \u001b[1;32mdef\u001b[0m \u001b[0mfind_elements_by_css_selector\u001b[0m\u001b[1;33m(\u001b[0m\u001b[0mself\u001b[0m\u001b[1;33m,\u001b[0m \u001b[0mcss_selector\u001b[0m\u001b[1;33m)\u001b[0m\u001b[1;33m:\u001b[0m\u001b[1;33m\u001b[0m\u001b[0m\n",
      "\u001b[1;32mC:\\Anaconda\\lib\\site-packages\\selenium\\webdriver\\remote\\webdriver.py\u001b[0m in \u001b[0;36mfind_element\u001b[1;34m(self, by, value)\u001b[0m\n\u001b[0;32m    976\u001b[0m         return self.execute(Command.FIND_ELEMENT, {\n\u001b[0;32m    977\u001b[0m             \u001b[1;34m'using'\u001b[0m\u001b[1;33m:\u001b[0m \u001b[0mby\u001b[0m\u001b[1;33m,\u001b[0m\u001b[1;33m\u001b[0m\u001b[0m\n\u001b[1;32m--> 978\u001b[1;33m             'value': value})['value']\n\u001b[0m\u001b[0;32m    979\u001b[0m \u001b[1;33m\u001b[0m\u001b[0m\n\u001b[0;32m    980\u001b[0m     \u001b[1;32mdef\u001b[0m \u001b[0mfind_elements\u001b[0m\u001b[1;33m(\u001b[0m\u001b[0mself\u001b[0m\u001b[1;33m,\u001b[0m \u001b[0mby\u001b[0m\u001b[1;33m=\u001b[0m\u001b[0mBy\u001b[0m\u001b[1;33m.\u001b[0m\u001b[0mID\u001b[0m\u001b[1;33m,\u001b[0m \u001b[0mvalue\u001b[0m\u001b[1;33m=\u001b[0m\u001b[1;32mNone\u001b[0m\u001b[1;33m)\u001b[0m\u001b[1;33m:\u001b[0m\u001b[1;33m\u001b[0m\u001b[0m\n",
      "\u001b[1;32mC:\\Anaconda\\lib\\site-packages\\selenium\\webdriver\\remote\\webdriver.py\u001b[0m in \u001b[0;36mexecute\u001b[1;34m(self, driver_command, params)\u001b[0m\n\u001b[0;32m    319\u001b[0m         \u001b[0mresponse\u001b[0m \u001b[1;33m=\u001b[0m \u001b[0mself\u001b[0m\u001b[1;33m.\u001b[0m\u001b[0mcommand_executor\u001b[0m\u001b[1;33m.\u001b[0m\u001b[0mexecute\u001b[0m\u001b[1;33m(\u001b[0m\u001b[0mdriver_command\u001b[0m\u001b[1;33m,\u001b[0m \u001b[0mparams\u001b[0m\u001b[1;33m)\u001b[0m\u001b[1;33m\u001b[0m\u001b[0m\n\u001b[0;32m    320\u001b[0m         \u001b[1;32mif\u001b[0m \u001b[0mresponse\u001b[0m\u001b[1;33m:\u001b[0m\u001b[1;33m\u001b[0m\u001b[0m\n\u001b[1;32m--> 321\u001b[1;33m             \u001b[0mself\u001b[0m\u001b[1;33m.\u001b[0m\u001b[0merror_handler\u001b[0m\u001b[1;33m.\u001b[0m\u001b[0mcheck_response\u001b[0m\u001b[1;33m(\u001b[0m\u001b[0mresponse\u001b[0m\u001b[1;33m)\u001b[0m\u001b[1;33m\u001b[0m\u001b[0m\n\u001b[0m\u001b[0;32m    322\u001b[0m             response['value'] = self._unwrap_value(\n\u001b[0;32m    323\u001b[0m                 response.get('value', None))\n",
      "\u001b[1;32mC:\\Anaconda\\lib\\site-packages\\selenium\\webdriver\\remote\\errorhandler.py\u001b[0m in \u001b[0;36mcheck_response\u001b[1;34m(self, response)\u001b[0m\n\u001b[0;32m    240\u001b[0m                 \u001b[0malert_text\u001b[0m \u001b[1;33m=\u001b[0m \u001b[0mvalue\u001b[0m\u001b[1;33m[\u001b[0m\u001b[1;34m'alert'\u001b[0m\u001b[1;33m]\u001b[0m\u001b[1;33m.\u001b[0m\u001b[0mget\u001b[0m\u001b[1;33m(\u001b[0m\u001b[1;34m'text'\u001b[0m\u001b[1;33m)\u001b[0m\u001b[1;33m\u001b[0m\u001b[0m\n\u001b[0;32m    241\u001b[0m             \u001b[1;32mraise\u001b[0m \u001b[0mexception_class\u001b[0m\u001b[1;33m(\u001b[0m\u001b[0mmessage\u001b[0m\u001b[1;33m,\u001b[0m \u001b[0mscreen\u001b[0m\u001b[1;33m,\u001b[0m \u001b[0mstacktrace\u001b[0m\u001b[1;33m,\u001b[0m \u001b[0malert_text\u001b[0m\u001b[1;33m)\u001b[0m\u001b[1;33m\u001b[0m\u001b[0m\n\u001b[1;32m--> 242\u001b[1;33m         \u001b[1;32mraise\u001b[0m \u001b[0mexception_class\u001b[0m\u001b[1;33m(\u001b[0m\u001b[0mmessage\u001b[0m\u001b[1;33m,\u001b[0m \u001b[0mscreen\u001b[0m\u001b[1;33m,\u001b[0m \u001b[0mstacktrace\u001b[0m\u001b[1;33m)\u001b[0m\u001b[1;33m\u001b[0m\u001b[0m\n\u001b[0m\u001b[0;32m    243\u001b[0m \u001b[1;33m\u001b[0m\u001b[0m\n\u001b[0;32m    244\u001b[0m     \u001b[1;32mdef\u001b[0m \u001b[0m_value_or_default\u001b[0m\u001b[1;33m(\u001b[0m\u001b[0mself\u001b[0m\u001b[1;33m,\u001b[0m \u001b[0mobj\u001b[0m\u001b[1;33m,\u001b[0m \u001b[0mkey\u001b[0m\u001b[1;33m,\u001b[0m \u001b[0mdefault\u001b[0m\u001b[1;33m)\u001b[0m\u001b[1;33m:\u001b[0m\u001b[1;33m\u001b[0m\u001b[0m\n",
      "\u001b[1;31mNoSuchElementException\u001b[0m: Message: no such element: Unable to locate element: {\"method\":\"css selector\",\"selector\":\"body > img\"}\n  (Session info: chrome=72.0.3626.109)\n  (Driver info: chromedriver=72.0.3626.69 (3c16f8a135abc0d4da2dff33804db79b849a7c38),platform=Windows NT 10.0.17134 x86_64)\n"
     ]
    }
   ],
   "source": [
    "img_path = '#container > div.wrap.articles > article > a > div.attaches.multiple > figure:nth-child(1) > img'\n",
    "driver.find_element_by_css_selector(img_path).click()\n",
    "high_quality = 'body > img'\n",
    "hq_img = driver.find_element_by_css_selector(high_quality)\n",
    "urllib.request.urlretrieve(hq_img.get_attribute('src'), 'test11.jpg')"
   ]
  },
  {
   "cell_type": "markdown",
   "metadata": {},
   "source": [
    "실제화질 주소. 이게 진짜.  \n",
    "https://cf-ea.everytime.kr/attach/537/12803784/mobile_upload_1550379627.jpg?Expires=1550385875&Policy=eyJTdGF0ZW1lbnQiOlt7IlJlc291cmNlIjoiaHR0cHM6Ly9jZi1lYS5ldmVyeXRpbWUua3IvYXR0YWNoLzUzNy8xMjgwMzc4NC9tb2JpbGVfdXBsb2FkXzE1NTAzNzk2MjcuanBnIiwiQ29uZGl0aW9uIjp7IkRhdGVMZXNzVGhhbiI6eyJBV1M6RXBvY2hUaW1lIjoxNTUwMzg1ODc1fX19XX0_&Signature=TemPH0V-xx5A679hl4XjR28y5KBAG2NfO9CjehEk41hDyCzFZLJlvCIhpu8wi-ZFmWSx7jk~eOxCAe3lgASqSlI0RZ4KXzF0OvTzXLemiMR7FwexcCpEJR2snvm0sPRWz9zRhCF5U0I1e1hnTnm8TLd0MzsZo--eTodmEus8m7Ebo57obXXeQcRpXMkneF7plRs8gDzpmAxBvRFj4z4cGTnPT9i~VxJHPrVEPTx3VIUU~HsXDwNrk7YxqU8ozjmsyaf34I-LKcx6jBhDGg300~m-6mn7rr-5OTcXHR6IYvT-C3xGXGHEZR4gcvIokRdnndiphLXoSm3y8o4h5mnOKw__&Key-Pair-Id=APKAICU6XZKH23IGASFA\n",
    "    \n",
    "조정화질 주소: thumbnail이네...  \n",
    "https://cf-ea.everytime.kr/attach_thumbnail/537/12803784/mobile_upload_1550379627.jpg?Expires=1550385875&Policy=eyJTdGF0ZW1lbnQiOlt7IlJlc291cmNlIjoiaHR0cHM6Ly9jZi1lYS5ldmVyeXRpbWUua3IvYXR0YWNoX3RodW1ibmFpbC81MzcvMTI4MDM3ODQvbW9iaWxlX3VwbG9hZF8xNTUwMzc5NjI3LmpwZyIsIkNvbmRpdGlvbiI6eyJEYXRlTGVzc1RoYW4iOnsiQVdTOkVwb2NoVGltZSI6MTU1MDM4NTg3NX19fV19&Signature=LKViTZvXgDpM-JV3Y~~1zTqj5-iDIUYwGDEiju5ZwWQFXCUh1HRg44brcKhfHrBANdkB2M7-XoXcmPZ~0qccVNiisL93r89zAFY4heoMGTaWYeSlRZpVcH7jXL79mc~y2ONGqU1B2toawaA5N~eWWMjmw5BIjgthwOnEjR~-D4I~37-XDzvgi04G4xNgw-Qj-EMOscGi4~Qir-VVsn-ynf2cHQYQdgoEnfD-FraLGknyuOttCVBA9OQLWL1Ng0lm4ZqKPN7HKTITwbfgZxSizUVV2v8GBT01C0NlN6U9~JYt4lnEEG8isu3Z6aD0lRpblyMtoAUKIYqd7Ab4U8lmqA__&Key-Pair-Id=APKAICU6XZKH23IGASFA"
   ]
  },
  {
   "cell_type": "markdown",
   "metadata": {},
   "source": [
    "1. **된 것**  \n",
    "로그인    \n",
    "첫번째 글 들어가서 이미지 확인  \n",
    "이미지 주소 얻으면 다운로드  \n",
    "  \n",
    "2. **해야되는 것**  \n",
    "새로고침    \n",
    "실제 화질로 받기  \n",
    "텔레그램 봇  "
   ]
  },
  {
   "cell_type": "markdown",
   "metadata": {},
   "source": [
    "JavaScript 사용도 많은 것 같고 숨겨놓은 것도 많은 것 같다.. 어렵겠네 ㅜㅜ"
   ]
  },
  {
   "cell_type": "markdown",
   "metadata": {
    "collapsed": true
   },
   "source": [
    "일단 url 주소 get 다시하는 게 새로고침과 같을듯. 그리고, 애들 글삭 많이하니까 최신 글 10개 제목 저장해놓고 새로운 글 검사.. 또 방금이라는 정보도 쓸 수 있겠다. 방금이고, 새로운 글이고, 사진이 있는 경우만 들어가서 확인, 저장.  + 텔레그램으로 보내기까지?  \n",
    "그 드라이버 다른창으로 옮기는 거 있으니까 그거 사용해서 실제 화질로.. 새로고침 1초면 충분하려나.."
   ]
  },
  {
   "cell_type": "code",
   "execution_count": null,
   "metadata": {
    "collapsed": true
   },
   "outputs": [],
   "source": [
    "# 1 일단 필요 라이브러리 불러오고 로그인하기\n",
    "from selenium import webdriver\n",
    "from selenium.webdriver.common.keys import Keys\n",
    "from bs4 import BeautifulSoup as bs\n",
    "import requests as rq\n",
    "import urllib\n",
    "import time\n",
    "\n",
    "url = 'https://yonsei.everytime.kr/login?redirect=/375468'\n",
    "\n",
    "u_id = 'ddangu525'\n",
    "password = 'astronomer'\n",
    "\n",
    "id_path = '#container > form > p:nth-child(1) > input'\n",
    "pw_path = '#container > form > p:nth-child(2) > input'\n",
    "login_button_path = '#container > form > p.submit > input'\n",
    "\n",
    "driver = webdriver.Chrome('chromedriver.exe')\n",
    "driver.get(url)\n",
    "\n",
    "# 아이디/비밀번호를 입력해준다.\n",
    "driver.find_element_by_css_selector(id_path).send_keys(u_id)\n",
    "driver.find_element_by_css_selector(pw_path).send_keys(password)\n",
    "# 로그인 누르기\n",
    "driver.find_element_by_css_selector(login_button_path).click()"
   ]
  },
  {
   "cell_type": "code",
   "execution_count": 6,
   "metadata": {
    "collapsed": true
   },
   "outputs": [],
   "source": [
    "articles_path = '#container > div.wrap.articles'  # 여기가 글들 있는부분.."
   ]
  },
  {
   "cell_type": "code",
   "execution_count": 9,
   "metadata": {
    "collapsed": true
   },
   "outputs": [],
   "source": [
    "driver.refresh()   # 이게 새로고침! 근데 좀 느린데? ㅜㅜ"
   ]
  },
  {
   "cell_type": "code",
   "execution_count": null,
   "metadata": {
    "collapsed": true
   },
   "outputs": [],
   "source": []
  }
 ],
 "metadata": {
  "kernelspec": {
   "display_name": "Python 3",
   "language": "python",
   "name": "python3"
  },
  "language_info": {
   "codemirror_mode": {
    "name": "ipython",
    "version": 3
   },
   "file_extension": ".py",
   "mimetype": "text/x-python",
   "name": "python",
   "nbconvert_exporter": "python",
   "pygments_lexer": "ipython3",
   "version": "3.6.3"
  }
 },
 "nbformat": 4,
 "nbformat_minor": 2
}
