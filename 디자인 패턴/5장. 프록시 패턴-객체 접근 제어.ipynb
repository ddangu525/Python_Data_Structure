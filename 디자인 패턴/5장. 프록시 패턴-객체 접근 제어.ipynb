{
 "cells": [
  {
   "cell_type": "markdown",
   "metadata": {},
   "source": [
    "프록시 패턴은 **구조 디자인 패턴**의 한 종류이다.  \n",
    "알아볼 내용  \n",
    "- 프록시와 프록시 디자인 패턴 개요\n",
    "- 프록시 패턴의 UML 다이어그램\n",
    "- 프록시 패턴의 종류\n",
    "- 예제 구현\n",
    "- 프록시 패턴의 장점\n",
    "- 퍼사드와 프록시 패턴 비교\n",
    "- 자주 묻는 질문들"
   ]
  },
  {
   "cell_type": "markdown",
   "metadata": {},
   "source": [
    "## 프록시 디자인 패턴 개요"
   ]
  },
  {
   "cell_type": "markdown",
   "metadata": {},
   "source": [
    "**프록시**란 요청자와 공급자 사이의 **중재자**를 일컫는다.  \n",
    "요청자는 요청을 하고 공급자는 요청에 맞는 리소스를 전달한다. 웹 관점에서는 프록시 서버가 이에 해당.  \n",
    "클라이언트(인터넷 사용자)가 특정 웹사이트에 접속하면 우선 프록시 서버에 웹 페이지 등의 리소스를 요청한다.  \n",
    "프록시 서버는 내부적으로 요청을 분석해 알맞은 서버에 요청을 보내고 결과를 받아 클라이언트에게 전달한다.  \n",
    "프록시 서버는 요청을 캡슐화하기 때문에 안전하며 분산 시스템 구조에 적합하다.  \n",
    "디자인 패턴 관점에서 Proxy 클래스는 객체의 인터페이스 역할을 한다.  \n",
    "여기서 객체란 네트워크 연결 또는 메모리, 파일에 저장된 객체 등 다양한 종류에 해당된다.  \n",
    "정리하자면 Proxy 클래스는 반환해 사용할 객체를 감싸는 포장지 또는 에이전트 객체다.  \n",
    "프록시는 객체 클래스의 구현과 상관없이 감싸려는 객체에 대한 기능을 제공한다.  \n",
    "프록시 패턴의 **주목적**은 실제 객체에 접근할 수 있는 **대리 객체나 껍데기를 제공**하는 것이다.  "
   ]
  },
  {
   "cell_type": "markdown",
   "metadata": {},
   "source": [
    "프록시 패턴의 **역할**은 다음과 같다.  \n",
    "- 복잡한 시스템을 간단하게 표현할 수 있다. \n",
    "    - 복잡한 계산이나 프로시저를 포함하는 시스템은 클라이언트를 위해 프록시 역할을 하는 인터페이스를 제공해야 한다.\n",
    "- 객체에 대한 보안을 제공한다.\n",
    "    - 클라이언트는 객체에 직접 접근할 수 없다. 악의적인 활동에 의해 객체가 변형될 수 있기 때문이다.\n",
    "    - 프록시는 객체를 보호하는 방패 역할을 한다.\n",
    "- 다른 서버에 존재하는 외부 객체에 대한 로컬 인터페이스를 제공한다.\n",
    "    - 분산 시스템 구조에서 클라이언트가 원격으로 특정 커맨드를 권한이 없어 수행하지 못하는 경우가 있다.  \n",
    "    - 이런 경우 로컬 객체(프록시)에 요청을 보내고 프록시는 원격 서버에서 요청을 수행한다.\n",
    "- 메모리 사용량이 높은 객체를 다루는 가벼운 핸들러 역할을 한다.\n",
    "    - 메인 객체가 반드시 필요한 상황에만 생성해야 하는 경우가 있다. 객체의 크기가 크고 많은 리소스를 필요로 하기 때문이다.\n",
    "    - 웹사이트 사용자의 프로필 사진은 목록에는 작은 이미지로 표시하고 세부 프로필을 보여줄 때만 실제 사진을 로드하는 것이 효율적이다.  "
   ]
  },
  {
   "cell_type": "markdown",
   "metadata": {},
   "source": [
    "#### 프록시 패턴 예제\n",
    "배우$^{Actor}$와 에이전트$^{Agent}$의 관계를 구현.  \n",
    "영화 제작사가 배우를 모집할 때 보통 직접 배우에게 연락하지 않고 에이전트를 통해 모집.  \n",
    "배우의 스케줄과 상황에 따라 에이전트는 출연할 의사가 있는지 전달.  \n",
    "제작사는 배우에게 직접 접근하지 않고 에이전트가 배우를 대신해 스케줄과 출연료를 조율하는 Proxy의 역할을 한다.  \n",
    "  \n",
    "Agent 객체를 통해 Actor의 일정을 확인한다. 배우가 바쁘다면 Actor().occupied()메소드, 안바쁘면 Actor.available()메소드 호출."
   ]
  },
  {
   "cell_type": "code",
   "execution_count": 3,
   "metadata": {},
   "outputs": [
    {
     "name": "stdout",
     "output_type": "stream",
     "text": [
      "Actor is free for the movie\n"
     ]
    }
   ],
   "source": [
    "class Actor:\n",
    "    def __init__(self):\n",
    "        self.isBusy = False\n",
    "        \n",
    "    def occupied(self):\n",
    "        self.isBusy = True\n",
    "        print(type(self).__name__, \"is occupied with current movie\")\n",
    "        \n",
    "    def available(self):\n",
    "        self.isBusy = False\n",
    "        print(type(self).__name__, \"is free for the movie\")\n",
    "        \n",
    "    def getStatus(self):\n",
    "        return self.isBusy\n",
    "    \n",
    "\n",
    "class Agent:\n",
    "    def __init__(self):\n",
    "        self.principal = None\n",
    "        \n",
    "    def work(self):\n",
    "        self.actor = Actor()\n",
    "        if self.actor.getStatus():\n",
    "            self.actor.occupied()\n",
    "        else:\n",
    "            self.actor.available()\n",
    "            \n",
    "\n",
    "if __name__ == '__main__':\n",
    "    r = Agent()\n",
    "    r.work()"
   ]
  },
  {
   "cell_type": "markdown",
   "metadata": {},
   "source": [
    "프록시 패턴의 역할은 다음과 같다.  \n",
    "1. 특정 객체의 대리 객체를 제공해 접근을 제어한다.\n",
    "2. 분산 구조를 지원하기 위한 레이어 또는 인터페이스를 제공한다.\n",
    "3. 의도하지 않은 케이스로부터 객체를 보호한다."
   ]
  },
  {
   "cell_type": "markdown",
   "metadata": {},
   "source": [
    "### 프록시 패턴의 UML 다이어그램\n",
    "<img src=\"https://github.com/ddangu525/Study/blob/master/%EB%94%94%EC%9E%90%EC%9D%B8%20%ED%8C%A8%ED%84%B4/images/Proxy%20pattern.jpg?raw=true\">"
   ]
  },
  {
   "cell_type": "markdown",
   "metadata": {},
   "source": [
    "앞의 예제에서 제작사, 에이전트, 배우로 세 명의 참가자.  \n",
    "- Proxy: Proxy가 실 객체에 접근할 수 있는 레퍼런스를 유지한다. Subject와 동일한 인터페이스 구조를 가지므로 Proxy는 실 객체를 대체할 수 있다. RealSubject의 생성과 소멸을 담당한다.\n",
    "- Subject: RealSubject와 Proxy를 책임진다. Proxy와 RealSubject가 Subject 인터페이스를 구현하기 때문에 RealSubject를 Proxy로 대체할 수 있다.\n",
    "- RealSubject: Proxy가 대체하는 실 객체를 나타낸다.\n",
    "  \n",
    "UML 다이어그램을 자료 구조 관점에서 보면 다음과 같다.\n",
    "- Proxy: RealSubject 클래스의 접근을 제어하는 클래스다. 클라이언트의 요청을 처리하고 RealSubject를 생성 또는 소멸한다.\n",
    "- Subject/RealSubject: Subject는 RealSubject와 Proxy를 정의하는 인터페이스다. RealSubject는 Subject의 실 구현체다. 클라이언트가 사용할 기능을 제공한다.\n",
    "- Client: 작업을 수행하기 위해 Proxy 클래스에 접근한다. Proxy 클래스는 내부적으로 RealSubject에 대한 접근을 제어하고 Client의 요청을 수행한다."
   ]
  },
  {
   "cell_type": "markdown",
   "metadata": {},
   "source": [
    "### 프록시의 여러 유형들\n",
    "프록시가 적용되는 방식에 따라 가상 프록시(Virtual Proxy), 원격 프록시(Remote Proxy), 보호 프록시(Protective Proxy), 스마트 프록시(Smart Proxy)로 분류할 수 있다."
   ]
  },
  {
   "cell_type": "markdown",
   "metadata": {},
   "source": [
    "#### 가상 프록시\n",
    "인스턴스화하기엔 무거운 객체의 플레이스 홀더(Placeholder)역할을 한다.  \n",
    "웹 사이트에서 큰 이미지를 불러와야 하는 경우 불러오는데 시간이 오래 걸린다.  \n",
    "개발자는 이미지가 있음을 표시하는 아이콘을 표시해준다.  \n",
    "큰 이미지를 메모리에 로드하는 비용을 줄이기 위해 사용자가 아이콘을 클릭했을 때 이미지를 로드한다.  \n",
    "비슷하게 가상 프록시는 클라이언트가 객체를 처음 요청하거나 접근했을 때 실 객체를 생성한다."
   ]
  },
  {
   "cell_type": "markdown",
   "metadata": {},
   "source": [
    "#### 원격 프록시\n",
    "원격 프록시는 원격 서버나 다른 주소 공간에 존재하는 객체에 대한 로컬 인스턴스를 생성한다.  \n",
    "다수의 웹 서버와 데이터베이스 서버, 작업 서버, 캐시 서버등으로 구성된 애플리케이션의 모니터링 시스템을 구성한다면,  \n",
    "각 서버의 CPU와 디스크 사용량을 모니터링하려면 모니터링 서버에서 각 서버의 실제 사용량 수치를 얻는 원격 명령을 수행할 수 있어야 한다.  \n",
    "이런 경우에 원격 객체를 로컬에서 제어할 수 있는 원격 프록시 객체를 생성하면 유용하다."
   ]
  },
  {
   "cell_type": "markdown",
   "metadata": {},
   "source": [
    "#### 보호 프록시\n",
    "보호 프록시는 RealSubject의 중요한 부분에 대한 접근을 제어한다.  \n",
    "근래 분산 시스템에서 웹 애플리케이션은 여러 서비스를 조합해 기능을 제공한다.  \n",
    "이런 구조에서 사용자의 인증과 허가를 담당하는 인증 서비스가 보호 프록시 서버다.  \n",
    "프록시는 웹 사이트의 핵심 기능을 허가 받지 않은 에이전트로부터 보호한다.   \n",
    "이 대리 객체는 사용자가 요청에 대한 권한이 있는지 확인한다."
   ]
  },
  {
   "cell_type": "markdown",
   "metadata": {},
   "source": [
    "#### 스마트 프록시\n",
    "스마트 프록시는 사용자가 객체에 접근했을 때 추가적인 행동을 취한다.  \n",
    "예를 들어 상태를 중앙 서버에 저장하는 핵심 기능이 있는 서비스가 있을때,  \n",
    "시스템 내의 여러 서비스가 동시에 이 기능을 호출하게 된다면 리소스 공유에 문제가 생길 수 있다.  \n",
    "이런 경우 각 서비스가 이 기능을 직접 호출하는 대신 스마트 프록시가 객체의 잠금 상태를 확인하는 기능을 추가로 수행해 접근을 제어한다."
   ]
  },
  {
   "cell_type": "markdown",
   "metadata": {},
   "source": [
    "### 프록시 패턴 사용 사례\n",
    "결제 시스템을 예로 들어보자.  \n",
    "백화점에서 마음에 드는 셔츠를 발견했지만 돈이 부족. 현금 카드가 있어 카드 정보를 입력하면 판매자의 계좌로 돈이 인출된다.  \n",
    "#### 1. Client 코드를 어떻게 작성할까?  \n",
    "- Client는 You 클래스로 정의\n",
    "- make_payment() 메소드를 사용해 셔츠를 결제\n",
    "- `__init__()`는 프록시를 호출하고 생성하는 특수 메소드\n",
    "- make_payment() 메소드는 내부적으로 Proxy의 메소드를 호출해 금액을 지불\n",
    "- 결제가 성공하면 `__del__()`메소드를 호출\n"
   ]
  },
  {
   "cell_type": "code",
   "execution_count": 8,
   "metadata": {},
   "outputs": [],
   "source": [
    "class You:\n",
    "    def __init__(self):\n",
    "        print(\"You:: Lets buy the Denim shirt\")\n",
    "        self.debitCard = DebitCard()\n",
    "        self.isPurchased = None\n",
    "    \n",
    "    def make_payment(self):\n",
    "        self.isPurchased = self.debitCard.do_pay()\n",
    "        \n",
    "    def __del__(self):\n",
    "        if self.isPurchased:\n",
    "            print(\"You:: Wow! Denim shirt is Mine :-)\")\n",
    "        else:\n",
    "            print(\"You:: I should earn more :(\")"
   ]
  },
  {
   "cell_type": "markdown",
   "metadata": {},
   "source": [
    "#### 2. Subject 클래스\n",
    "Subject 클래스는 Proxy와 RealSubject가 구현하는 인터페이스\n",
    "- Payment 클래스가 Subject에 해당. 추상 기본 클래스이며 인터페이스다.\n",
    "- Payment 클래스는 Proxy와 RealSubject가 구현해야 할 do_pay() 메소드를 포함한다."
   ]
  },
  {
   "cell_type": "code",
   "execution_count": 5,
   "metadata": {},
   "outputs": [],
   "source": [
    "from abc import ABCMeta, abstractmethod\n",
    "\n",
    "class Payment(metaclass=ABCMeta):\n",
    "    \n",
    "    @abstractmethod\n",
    "    def do_pay(self):\n",
    "        pass"
   ]
  },
  {
   "cell_type": "markdown",
   "metadata": {},
   "source": [
    "#### 3. RealSubject 클래스\n",
    "Bank 클래스가 해당된다.  \n",
    "- Bank는 당신의 계좌에서 판매자의 계좌로 돈을 인출한다.\n",
    "- Bank에는 금액을 지불하는 여러 메소드가 있다. Proxy는 setCard() 메소드를 사용해 카드 정보를 은행에 전달한다.\n",
    "- `__getAccount()`메소드는 카드 소지자의 계좌 정보를 조회하는 Bank의 내부 메소드다. 카드 번호와 계좌 번호가 같도록 구현\n",
    "- Bank에는 해당 계좌에 셔츠를 구입하기에 충분한 돈이 있는지 확인하는 `__hasFunds()` 메소드도 있다.\n",
    "- 자금 상황에 따라 판매자에게 지불하는 역할을 하는 do_pay()메소드(Payment 인터페이스)는 Bank 클래스에 구현한다."
   ]
  },
  {
   "cell_type": "code",
   "execution_count": 6,
   "metadata": {},
   "outputs": [],
   "source": [
    "class Bank(Payment):\n",
    "    \n",
    "    def __init__(self):\n",
    "        self.card = None\n",
    "        self.account = None\n",
    "        \n",
    "    def __getAccount(self):\n",
    "        self.account = self.card\n",
    "        return self.account\n",
    "    \n",
    "    def __hasFunds(self):\n",
    "        print(\"Bank:: Checking if Account\", self.__getAccount(), \"has enough funds\")\n",
    "        return True\n",
    "    \n",
    "    def setCard(self, card):\n",
    "        self.card = card\n",
    "        \n",
    "    def do_pay(self):\n",
    "        if self.__hasFunds():\n",
    "            print(\"Bank:: Paying the merchant\")\n",
    "            return True\n",
    "        else:\n",
    "            print(\"Bank:: Sorry, not enough funds!\")\n",
    "            return False"
   ]
  },
  {
   "cell_type": "markdown",
   "metadata": {},
   "source": [
    "#### 4. Proxy 클래스\n",
    "- DebitCard 클래스. You가 결제를 요청하면 은행에 가서 돈을 인출하고 지불하는 대신 do_pay()메소드를 호출한다.\n",
    "- DebitCard 클래스는 RealSubject인 Bank의 대리 객체다.\n",
    "- payWithCard() 메소드는 내부적으로 RealSubject인 Bank 클래스를 생성하고 카드 정보를 Bank에 전달한다.\n",
    "- Bank 클래스는 앞서 설명했듯이 계좌를 확인하고 금액을 지불한다."
   ]
  },
  {
   "cell_type": "code",
   "execution_count": 7,
   "metadata": {},
   "outputs": [],
   "source": [
    "class DebitCard(Payment):\n",
    "    \n",
    "    def __init__(self):\n",
    "        self.bank = Bank()\n",
    "        \n",
    "    def do_pay(self):\n",
    "        card = input(\"Proxy:: Punch in Card Number: \")\n",
    "        self.bank.setCard(card)\n",
    "        return self.bank.do_pay()"
   ]
  },
  {
   "cell_type": "markdown",
   "metadata": {},
   "source": [
    "자금이 충분하여 결제가 진행된다면.."
   ]
  },
  {
   "cell_type": "code",
   "execution_count": 12,
   "metadata": {},
   "outputs": [
    {
     "name": "stdout",
     "output_type": "stream",
     "text": [
      "You:: Lets buy the Denim shirt\n",
      "Proxy:: Punch in Card Number: 23-2134-222\n",
      "Bank:: Checking if Account 23-2134-222 has enough funds\n",
      "Bank:: Paying the merchant\n",
      "You:: Wow! Denim shirt is Mine :-)\n"
     ]
    }
   ],
   "source": [
    "you = You()\n",
    "you.make_payment()\n",
    "del you"
   ]
  },
  {
   "cell_type": "markdown",
   "metadata": {},
   "source": [
    "### 프록시 패턴의 장점\n",
    "- 무거운 객체 특히 자주 사용되는 객체를 캐싱해 애플리케이션의 성능을 향상시킨다.\n",
    "- RealSubject에 대한 접근 요청을 인증한다. 알맞은 권한이 있을 때만 유효하다.\n",
    "- 원격 프록시는 원격 서버 간의 네트워크 연결과 데이터베이스 연결 구현에 적합하며 시스템 모니터링 용도로 사용될 수 있다."
   ]
  },
  {
   "cell_type": "markdown",
   "metadata": {},
   "source": [
    "### 퍼사드와 프록시 패턴 비교\n",
    "둘 모두 구조 디자인 패턴으로 실 객체 클래스 앞에 프록시/퍼사드 객체를 두는 구조가 같다.  \n",
    "하지만 패턴을 사용하는 목적이 다르다.  \n",
    "   \n",
    "|프록시 패턴|퍼사드 패턴|\n",
    "|---|---|\n",
    "|실 객체의 대리 객체를 제공해 접근을 제어한다.|클래스의 서브시스템에 대한 인터페이스를 제공한다.|\n",
    "|타겟 객체와 동일한 인터페이스 구조를 가지며 타겟에 대한 참조를 가지고 있다.|서브시스템 간의 의존도와 통신을 최소화한다.|\n",
    "|클라이언트와 감싸고 있는 객체 사이의 중재자 역할을 한다.|퍼사드 객체는 하나의 통합된 간단한 인터페이스를 제공한다.|"
   ]
  },
  {
   "cell_type": "markdown",
   "metadata": {},
   "source": [
    "### 자주 묻는 질문들"
   ]
  },
  {
   "cell_type": "markdown",
   "metadata": {},
   "source": [
    "#### 1. 데코레이터 패턴과 프록시 패턴의 차이점은?\n",
    "**데코레이터**는 **런타임에 객체에 대한 추가적인 행위**를 하는 반면 프록시는 객체에 대한 접근을 제어한다.  \n",
    "프록시와 RealSubject의 관계는 컴파일 시에 형성되며 동적이지 않다."
   ]
  },
  {
   "cell_type": "markdown",
   "metadata": {},
   "source": [
    "#### 2. 프록시 패턴의 단점은?\n",
    "프록시 패턴으로 인해 응답 시간이 늘어날 수 있다. 제대로 설계되지 않았거나 성능에 문제가 있다면 RealSubject의 응답 시간에 영향을 줄 수 있다.  \n",
    "일반적으로 프록시를 얼마나 잘 구현했는지에 따라 결정된다."
   ]
  },
  {
   "cell_type": "markdown",
   "metadata": {},
   "source": [
    "#### 3. 클라이언트가 RealSubject에 직접 접근할 수 있는가?\n",
    "할 수 있지만 프록시가 가상과 원격 등의 장점을 제공하므로 프록시 패턴을 사용하는 것이 더 효율적이다."
   ]
  },
  {
   "cell_type": "markdown",
   "metadata": {},
   "source": [
    "#### 4. 프록시 패턴만의 기능이 있는가?\n",
    "RealSubject 코드를 수정하지 않고 기능을 추가할 수 있다.  \n",
    "프록시와 RealSubject는 동일한 인터페이스를 구현한다."
   ]
  }
 ],
 "metadata": {
  "kernelspec": {
   "display_name": "Python 3",
   "language": "python",
   "name": "python3"
  },
  "language_info": {
   "codemirror_mode": {
    "name": "ipython",
    "version": 3
   },
   "file_extension": ".py",
   "mimetype": "text/x-python",
   "name": "python",
   "nbconvert_exporter": "python",
   "pygments_lexer": "ipython3",
   "version": "3.7.4"
  }
 },
 "nbformat": 4,
 "nbformat_minor": 2
}
