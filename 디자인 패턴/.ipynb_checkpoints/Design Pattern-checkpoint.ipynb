{
 "cells": [
  {
   "cell_type": "markdown",
   "metadata": {},
   "source": [
    "# 디자인 패턴(Design Pattern)\n",
    "자주 나타나는 시스템 구조를 조금 더 쉽고 빠르게 설계하기위해 재이용하기 좋은 형태로 구조화한 것"
   ]
  },
  {
   "cell_type": "markdown",
   "metadata": {},
   "source": [
    "## 1. 싱글톤 패턴(Singleton Pattern)\n",
    "특정 클래스의 인스턴스가 하나만 만들어지고, 어디서든지 그 인스턴스에 접근할 수 있도록 하기 위한 패턴.  \n",
    "객체 중 **Manager**나 **사용자 설정**같이 **하나만 있어도 되거나, 오직 하나만 있어야**되는 것들이 있다.  \n",
    "이런 객체의 경우 인스턴스를 2개 이상 만들경우 에러나 자원의 낭비를 야기하기 때문에 싱글톤 패턴을 사용한다.  \n",
    "즉 어떠한 상황에서든 해당 객체의 인스턴스는 하나만 존재해야 한다!!\n"
   ]
  },
  {
   "cell_type": "code",
   "execution_count": 2,
   "metadata": {},
   "outputs": [
    {
     "data": {
      "text/plain": [
       "True"
      ]
     },
     "execution_count": 2,
     "metadata": {},
     "output_type": "execute_result"
    }
   ],
   "source": [
    "class Singleton(type):  # type을 상속받음\n",
    "    __instances = {}    # class의 instance를 저장할 속성\n",
    "    def __call__(cls, *args, **kwargs):  # class로 instance를 만들 때 호출\n",
    "        # class로 instance를 생성하지 않았는지 확인.\n",
    "        # 생성하지 않았으면 instance를 생성하여 속성에 저장\n",
    "        if cls not in cls.__instances:   \n",
    "            cls.__instances[cls] = super(Singleton, cls).__call__(*args, **kwargs)\n",
    "        \n",
    "        return cls.__instances[cls]  # class로 instance를 생성했으면 instance 반환.\n",
    "\n",
    "class Hello(metaclass=Singleton):\n",
    "    pass\n",
    "\n",
    "a = Hello()\n",
    "b = Hello()\n",
    "a is b            "
   ]
  },
  {
   "cell_type": "markdown",
   "metadata": {},
   "source": [
    "서로 다른 인스턴스로 분리되지 않고 하나만 존재!  \n",
    "여기서는 Metaclass를 이용했다.  \n",
    "**Metaclass**: 클래스를 만드는 클래스  \n",
    "파이썬에서는 클래스도 객체이며, 클래스를 만드는 또 다른 클래스가 메타클래스이다.  \n",
    "먼저 type을 상속받은 메타클래스 Singleton을 만들고, 클래스 Hello를 만들 때 metaclass에 Singleton을 지정.  \n",
    "-> 메타클래스 Singleton이 클래스 Hello의 동작을 제어함.  \n",
    "  \n",
    "보통 \\__call\\__ 메서드는 인스턴스를 ()로 호출할 때 호출된다.  \n",
    "하지만 메타클래스에서 \\__call\\__ 메서드를 구현하면 메타클래스를 사용하는 클래스로 인스턴스를 만들 때 \\__call\\__ 메서드가 호출된다.  \n",
    "위의 예에서 Hello()로 인스턴스를 만들 때 Singleton의 \\__call\\__ 메서드가 호출됨..  \n",
    "\\__call\\__ 안에서 중복을 확인하고, 중복이 없으면 인스턴스를 생성하여 속성에 저장한 뒤 반환함.  \n",
    "하지만 만약 인스턴스가 이미 생성되어 있다면 인스턴스를 더이상 생성하지 않고 생성돼있는 인스턴스를 바로 반환해줌."
   ]
  },
  {
   "cell_type": "markdown",
   "metadata": {},
   "source": [
    "## 2. 퍼사드(Facade)\n",
    "퍼사드 패턴은 클래스와 클래스 간의 관계가 복잡하여 동작 방식에 대해 이해하기 어려울 때 이를 단순하게 만들어주는 디자인 패턴.  \n",
    "단순화된 인터페이스를 통해 서브 시스템을 더 쉽게 사용하기 위해서 사용한다.  \n",
    "퍼사드 패턴의 장점은 클라이언트 구현과 서브시스템을 분리하여 사용한다는 점이다.  \n",
    "예를들어 서브시스템 A, B, C 가 있을 때 A에 변경점이 생기더라도 퍼사드 패턴에서는 B, C를 변경해주지 않아도 된다.  '\n",
    "  \n",
    "<img src=\"https://postfiles.pstatic.net/MjAxODEwMTlfMTkz/MDAxNTM5OTQ4NTExMzg1.N7hRApzefwAfhR0KboDjrGZFFy1gztnMEmLBHxXZbAQg.bTkGl2Cj3zsEylxQU_CdOoIG4IkuAUp_IGHuLg4waQMg.PNG.lk_asd123/%ED%94%84%EB%A0%88%EC%A0%A0%ED%85%8C%EC%9D%B4%EC%85%982.png?type=w966\" width=\"800\">  \n",
    "위의 구조처럼 사용자는 퍼사드 클래스를 통해 서브 시스템을 사용하며, 서브 시스템의 내부 구조에 대한 이해가 필요하지 않다."
   ]
  },
  {
   "cell_type": "code",
   "execution_count": 4,
   "metadata": {},
   "outputs": [
    {
     "name": "stdout",
     "output_type": "stream",
     "text": [
      "In Subsystem1, play\n",
      "In Subsystem3, pause\n",
      "In Subsystem2, stop\n"
     ]
    }
   ],
   "source": [
    "class Subsystem1:\n",
    "    def play(self):\n",
    "        print('In Subsystem1, play')\n",
    "\n",
    "class Subsystem2:\n",
    "    def stop(self):\n",
    "        print('In Subsystem2, stop')\n",
    "\n",
    "class Subsystem3:\n",
    "    def pause(self):\n",
    "        print('In Subsystem3, pause')\n",
    "    \n",
    "class Facade:\n",
    "    def __init__(self):\n",
    "        self.one = Subsystem1()\n",
    "        self.two = Subsystem2()\n",
    "        self.three = Subsystem3()\n",
    "        \n",
    "    def exec(self):\n",
    "        self.one.play()\n",
    "        self.three.pause()\n",
    "        self.two.stop()\n",
    "        \n",
    "if __name__ == \"__main__\":\n",
    "    f = Facade()\n",
    "    f.exec()"
   ]
  },
  {
   "cell_type": "markdown",
   "metadata": {},
   "source": [
    "Facade 클래스를 통해 Subsystem1, 2, 3을 사용한다."
   ]
  },
  {
   "cell_type": "markdown",
   "metadata": {},
   "source": [
    "## 3. 옵저버(Observer)\n",
    "이름에서 알 수 있듯 특정 객체를 관찰하는 역할.  \n",
    "변화에 대한 정보를 관찰되는 객체의 정보가 필요한 모든 객체에 전달한다.  \n",
    "일반적으로 일대다(One-to-Many) 의존성을 말한다.  \n",
    "  \n",
    "신문의 발행과 구독의 관계로 설명 가능. 신문사와 구독자, 배달부..  "
   ]
  },
  {
   "cell_type": "code",
   "execution_count": 5,
   "metadata": {},
   "outputs": [
    {
     "name": "stdout",
     "output_type": "stream",
     "text": [
      "Hello\n",
      "Hello\n",
      "Hello\n"
     ]
    }
   ],
   "source": [
    "class Observer:\n",
    "    def __init__(self):\n",
    "        self.subscriber = []\n",
    "        self.msg = \"\"\n",
    "    \n",
    "    def notify(self):\n",
    "        for sub in self.subscriber:\n",
    "            sub.msg = self.msg\n",
    "            \n",
    "    def register(self, obsv):\n",
    "        self.subscriber.append(obsv)\n",
    "    \n",
    "    def unregister(self, obsv):\n",
    "        self.subscriber.remove(obsv)\n",
    "        \n",
    "class Subscriber:\n",
    "    def __init__(self):\n",
    "        msg = \"\"\n",
    "        \n",
    "    def update(self):\n",
    "        print(self.msg)\n",
    "        \n",
    "class Subject:\n",
    "    def __init__(self):\n",
    "        self.observer = []\n",
    "        \n",
    "    def notify_observer(self, info):\n",
    "        for obsv in self.observer:\n",
    "            obsv.msg = info\n",
    "            \n",
    "    def attach(self, obsv):\n",
    "        self.observer.append(obsv)\n",
    "    \n",
    "    def dettach(self, obsv):\n",
    "        self.observer.remove(obsv)\n",
    "\n",
    "if __name__ == \"__main__\":\n",
    "    a = Subscriber()\n",
    "    b = Subscriber()\n",
    "    c = Subscriber()\n",
    "    \n",
    "    ob = Observer()  # 옵저버 객체 생성\n",
    "    ob.register(a)   # 옵저버에 객체 등록\n",
    "    ob.register(b)\n",
    "    ob.register(c)\n",
    "    \n",
    "    sub = Subject()  # 서브젝트 객체에 옵저버 등록\n",
    "    sub.attach(ob)\n",
    "    \n",
    "    sub.notify_observer(\"Hello\")\n",
    "    \n",
    "    ob.notify()\n",
    "    \n",
    "    a.update()\n",
    "    b.update()\n",
    "    c.update()"
   ]
  },
  {
   "cell_type": "markdown",
   "metadata": {},
   "source": [
    "Subject가 신문사, Observer가 신문배달원. Subject가 Observer에게 변화를 알리면 Observer가 Subscriber에게 정보를 전달함!"
   ]
  },
  {
   "cell_type": "code",
   "execution_count": null,
   "metadata": {
    "collapsed": true
   },
   "outputs": [],
   "source": []
  }
 ],
 "metadata": {
  "kernelspec": {
   "display_name": "Python 3",
   "language": "python",
   "name": "python3"
  },
  "language_info": {
   "codemirror_mode": {
    "name": "ipython",
    "version": 3
   },
   "file_extension": ".py",
   "mimetype": "text/x-python",
   "name": "python",
   "nbconvert_exporter": "python",
   "pygments_lexer": "ipython3",
   "version": "3.6.3"
  }
 },
 "nbformat": 4,
 "nbformat_minor": 2
}
