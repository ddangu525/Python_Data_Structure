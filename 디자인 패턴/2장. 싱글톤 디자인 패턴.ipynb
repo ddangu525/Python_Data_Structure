{
 "cells": [
  {
   "cell_type": "markdown",
   "metadata": {},
   "source": [
    "**싱글톤 디자인 패턴**(The Singleton Design Pattern)은 애플리케이션 개발시 가장 많이 쓰이는 생성 디자인 패턴이다.  \n",
    "변형으로 **모노스테이트**(보그) 패턴도 있다.  "
   ]
  },
  {
   "cell_type": "markdown",
   "metadata": {},
   "source": [
    "### 개요\n",
    "싱글톤 디자인 패턴은 글로벌하게 접근 가능한 **단 한 개의 객체만을 허용**하는 패턴이다.  \n",
    "따라서 싱글톤은 로깅이나 데이터베이스 관련 작업, 프린터 스풀러 등의 애플리케이션에서 \n",
    "**동일한 리소스에 대한 동시 요청의 충돌을 막기 위해** 한 개의 인스턴스만 필요한 경우 주로 쓰인다.  \n",
    "  \n",
    "예를 들어 데이터의 일관성 유지를 위해 DB에 작업을 수행하는 한 개의 데이터베이스 객체가 필요한 경우,  \n",
    "또는 여러 서비스의 로그를 한 개의 로그 파일에 순차적으로 동일한 로깅 객체를 사용해 남기는 경우에 적합하다.  \n",
    "  \n",
    "싱글톤 디자인 패턴의 **목적**은 다음과 같다.\n",
    "- 클래스에 대한 단일 객체 생성\n",
    "- 전역 객체 제공\n",
    "- 공유된 리소스에 대한 동시 접근 제어\n",
    "  \n",
    "다음은 싱글톤 패턴을 **UML 다이어그램**으로 표기한 예제다.  \n",
    "https://gmlwjd9405.github.io/2018/07/04/class-diagram.html    /    https://infinitejava.tistory.com/61 참고.  \n",
    "    \n",
    "                Singleton\n",
    "    ----------------------------\n",
    "    -instance : Singleton\n",
    "    ----------------------------\n",
    "    - Singleton ()\n",
    "    + instance () : Singleton\n",
    "    \n",
    "생성자(Constructor)를 private로 선언하고 객체를 초기화하는 static 함수를 만들면 간단하게 싱글톤 구현 가능.  \n",
    "첫 호출에 객체가 생성되고 클래스는 동일한 객체를 계속 반환한다.  \n",
    "파이썬에서는 생성자를 private로 선언할 수 없기 때문에 다른 방법이 필요하다.  "
   ]
  },
  {
   "cell_type": "markdown",
   "metadata": {},
   "source": [
    "### 파이썬 싱글톤 패턴 구현\n",
    "1. 한 개의 Singleton 클래스 인스턴스를 생성한다.\n",
    "2. 이미 생성된 인스턴스가 있다면 재사용한다."
   ]
  },
  {
   "cell_type": "code",
   "execution_count": 1,
   "metadata": {},
   "outputs": [
    {
     "name": "stdout",
     "output_type": "stream",
     "text": [
      "Object created <__main__.Singleton object at 0x0000025A67F895F8>\n",
      "Object created <__main__.Singleton object at 0x0000025A67F895F8>\n"
     ]
    }
   ],
   "source": [
    "class Singleton(object):\n",
    "    def __new__(cls):\n",
    "        if not hasattr(cls, 'instance'):\n",
    "            cls.instance = super(Singleton, cls).__new__(cls)\n",
    "        return cls.instance\n",
    "    \n",
    "s = Singleton()\n",
    "print(\"Object created\", s)\n",
    "\n",
    "s1 = Singleton()\n",
    "print(\"Object created\", s1)"
   ]
  },
  {
   "cell_type": "code",
   "execution_count": 2,
   "metadata": {},
   "outputs": [
    {
     "data": {
      "text/plain": [
       "True"
      ]
     },
     "execution_count": 2,
     "metadata": {},
     "output_type": "execute_result"
    }
   ],
   "source": [
    "s is s1"
   ]
  },
  {
   "cell_type": "markdown",
   "metadata": {},
   "source": [
    "`__new__`함수를 오버라이드해 객체를 생성한다. `__new__`함수는 s객체가 이미 존재하는지 확인하고  \n",
    "hasattr 함수(해당 객체가 명시한 속성을 가지고 있는지 확인)는 cls 객체가 instance 속성을 갖고 있는지 확인한다.  \n",
    "s가 생성된 이후에 s1 객체를 요청하면 hasattr()은 이미 객체가 생성됐음을 확인하고 해당 인스턴스를 반환한다."
   ]
  },
  {
   "cell_type": "markdown",
   "metadata": {},
   "source": [
    "### 게으른 초기화(Lazy instantiation)\n",
    "게으른 초기화는 싱글톤 패턴의 한 종류다.  \n",
    "모듈을 임포트할 때 아직 필요하지 않은 시점에 실수로 객체를 미리 생성하는 경우가 있다.  \n",
    "게으른 초기화는 인스턴스가 꼭 필요할 때 생성한다.  \n",
    "사용할 수 있는 리소스가 제한적인 상황일 때 객체가 꼭 필요한 시점에서 생성하는 방식이다.  "
   ]
  },
  {
   "cell_type": "code",
   "execution_count": 4,
   "metadata": {},
   "outputs": [
    {
     "name": "stdout",
     "output_type": "stream",
     "text": [
      "__init__ method called..\n",
      "__init__ method called..\n",
      "Object created <__main__.Singleton object at 0x0000025A68021588>\n",
      "Instance already creadted:  <__main__.Singleton object at 0x0000025A68021588>\n"
     ]
    }
   ],
   "source": [
    "class Singleton:\n",
    "    __instance = None\n",
    "    def __init__(self):\n",
    "        if not Singleton.__instance:\n",
    "            print(\"__init__ method called..\")\n",
    "        else:\n",
    "            print(\"Instance already creadted: \", self.getInstance())\n",
    "    \n",
    "    @classmethod\n",
    "    def getInstance(cls):\n",
    "        if not cls.__instance:\n",
    "            cls.__instance = Singleton()\n",
    "        return cls.__instance\n",
    "    \n",
    "s = Singleton()    # 클래스를 초기화했지만 객체는 생성하지 않음\n",
    "print(\"Object created\", Singleton.getInstance())  # 이 때 객체 생성\n",
    "s1 = Singleton()     # 객체 이미 생성돼있음."
   ]
  },
  {
   "cell_type": "markdown",
   "metadata": {},
   "source": [
    "위 코드의 s = Singleton() 부분은 `__init__`함수를 실행하지만 객체는 생성하지 않는다.  \n",
    "대신 Singleton.getInstance()부분에서 객체가 생성된다."
   ]
  },
  {
   "cell_type": "markdown",
   "metadata": {},
   "source": [
    "### 모듈 싱글톤\n",
    "파이썬의 임포트 방식 때문에 모든 모듈은 기본적으로 싱글톤이다. 파이썬의 작동 방식은 다음과 같다.\n",
    "1. 파이썬 모듈이 임포트됐는지 확인한다.\n",
    "2. 임포트됐다면 해당 객체를 반환하고 안 됐다면 임포트하고 인스턴스화 한다.\n",
    "3. 모듈은 임포트와 동시에 초기화된다. 하지만 같은 모듈을 다시 임포트하면 초기화하지 않는다. 한 개의 객체만 유지하고 반환한다."
   ]
  },
  {
   "cell_type": "markdown",
   "metadata": {},
   "source": [
    "### 모노스테이트 싱글톤 패턴(The Monostate Singleton Pattern)\n",
    "모든 객체가 같은 상태를 공유하는 패턴이다. 보그라고도 부른다."
   ]
  },
  {
   "cell_type": "code",
   "execution_count": 5,
   "metadata": {},
   "outputs": [
    {
     "name": "stdout",
     "output_type": "stream",
     "text": [
      "Borg Object 'b':  <__main__.Borg object at 0x0000025A68021198>\n",
      "Borg Object 'b1':  <__main__.Borg object at 0x0000025A680210B8>\n",
      "Object State 'b':  {'1': '2', 'x': 4}\n",
      "Object State 'b1':  {'1': '2', 'x': 4}\n"
     ]
    }
   ],
   "source": [
    "class Borg:\n",
    "    __shared_state = {\"1\": \"2\"}\n",
    "    def __init__(self):\n",
    "        self.x = 1\n",
    "        self.__dict__ = self.__shared_state\n",
    "        \n",
    "b = Borg()\n",
    "b1 = Borg()\n",
    "b.x = 4\n",
    "\n",
    "print(\"Borg Object 'b': \", b)  # b와 b1은 다른 객체다.\n",
    "print(\"Borg Object 'b1': \", b1)\n",
    "print(\"Object State 'b': \", b.__dict__) ## b와 b1은 상태를 공유한다.\n",
    "print(\"Object State 'b1': \", b1.__dict__)"
   ]
  },
  {
   "cell_type": "markdown",
   "metadata": {},
   "source": [
    "`__dict__`변수를 `__shared_state`클래스 변수로 지정했다.  \n",
    "파이썬은 `__dict__` 변수에 클래스 내 모든 객체의 상태를 저장한다.  \n",
    "위 예제에서는 모든 생성된 인스턴스의 상태를 `__shared_state`로 지정한다.  \n",
    "b와 b1 인스턴스를 따로 생성하면 한 개의 객체만 만드는 싱글톤 패턴과는 달리 두 개의 객체가 생성된다.  \n",
    "하지만 객체의 상태를 나타내는 `b.__dict__`와 `b1.__dict__`는 같다.  \n",
    "따라서 b 객체의 x값을 4로 설정하면 모든 객체가 공유하는 `__dict__`변수에 복사돼 b1의 x값도 1에서 4로 바뀐다.  \n",
    "  \n",
    "다음과 같이 `__new__`메소드를 사용해 구현하는 방법도 있다. `__new__`는 객체 인스턴스를 생성하는 메소드다.  "
   ]
  },
  {
   "cell_type": "code",
   "execution_count": 6,
   "metadata": {
    "collapsed": true
   },
   "outputs": [],
   "source": [
    "class Borg(object):\n",
    "    _shared_state = {}\n",
    "    def __new__(cls, *args, **kwargs):\n",
    "        obj = super(Borg, cls).__new__(cls, *args, *kwargs)\n",
    "        obj.__dict__ = cls.shared_state\n",
    "        return obj"
   ]
  },
  {
   "cell_type": "markdown",
   "metadata": {},
   "source": [
    "### 싱글톤과 메타클래스\n",
    "**메타클래스(Metaclass)**는 클래스의 클래스다. 즉 클래스는 자신의 메타클래스의 인스턴스다.  \n",
    "메타클래스를 사용하면 이미 정의된 파이썬 클래스를 통해 새로운 형식의 클래스를 생성할 수 있다.  \n",
    "예를 들어 MyClass라는 객체가 있다면 MyKls라는 메타클래스를 생성해 MyClass의 행위를 재정의할 수 있다.  \n",
    "  \n",
    "a = 5라면 type(a)는 `<type 'int'>`를 반환한다. a는 int형 변수라는 뜻이다.  \n",
    "하지만 type(int)는 `<type 'type'>`을 반환한다. int의 메타클래스는 type클래스라는 의미다.  \n",
    "  \n",
    "클래스는 메타클래스가 정의한다. class A 구문으로 클래스를 생성하면 파이썬은 A = type(name, bases, dict)를 실행한다.  \n",
    "- name: 클래스명\n",
    "- base: 베이스 클래스\n",
    "- dict: 속성값  \n",
    "  \n",
    "이미 정의된 메타클래스가 있다면 파이썬은 A = MetaKls(name, base, dict)를 실행해 클래스를 생성한다."
   ]
  },
  {
   "cell_type": "code",
   "execution_count": 7,
   "metadata": {},
   "outputs": [
    {
     "name": "stdout",
     "output_type": "stream",
     "text": [
      "***** Here's My int ***** (4, 5)\n",
      "Now do whatever you want with these objects...\n"
     ]
    }
   ],
   "source": [
    "class MyInt(type):\n",
    "    def __call__(cls, *args, **kwds):\n",
    "        print(\"***** Here's My int *****\", args)\n",
    "        print(\"Now do whatever you want with these objects...\")\n",
    "        return type.__call__(cls, *args, **kwds)\n",
    "    \n",
    "class int(metaclass=MyInt):\n",
    "    def __init__(self, x, y):\n",
    "        self.x = x\n",
    "        self.y = y\n",
    "        \n",
    "i = int(4, 5)"
   ]
  },
  {
   "cell_type": "markdown",
   "metadata": {},
   "source": [
    "`__call__`메소드는 이미 존재하는 클래스의 객체를 생성할 때 호출되는 파이썬의 특수 메소드다.  \n",
    "위 처럼 int(4, 5)로 int 클래스를 생성하면 MyInt 메타클래스의 `__call__`메소드가 호출된다.  \n",
    "객체 생성을 메타클래스가 제어한다는 의미다.  \n",
    "메타클래스가 클래스와 객체 생성을 제어한다면 싱글톤을 생성하는 용도로 사용할 수 있다.  \n",
    "클래스 생성과 인스턴스화를 제어하기 위해 메타클래스는 `__new__`와 `__init__` 메소드를 오버라이드한다.  "
   ]
  },
  {
   "cell_type": "code",
   "execution_count": 9,
   "metadata": {},
   "outputs": [
    {
     "name": "stdout",
     "output_type": "stream",
     "text": [
      "<__main__.Logger object at 0x0000025A68031630> <__main__.Logger object at 0x0000025A68031630>\n",
      "True\n"
     ]
    }
   ],
   "source": [
    "class MetaSingleton(type):\n",
    "    _instances = {}\n",
    "    def __call__(cls, *args, **kwargs):\n",
    "        if cls not in cls._instances:\n",
    "            cls._instances[cls] = super(MetaSingleton, cls).__call__(*args, **kwargs)\n",
    "        return cls._instances[cls]\n",
    "    \n",
    "class Logger(metaclass=MetaSingleton):\n",
    "    pass\n",
    "\n",
    "logger1 = Logger()\n",
    "logger2 = Logger()\n",
    "print(logger1, logger2)\n",
    "print(logger1 is logger2)"
   ]
  },
  {
   "cell_type": "markdown",
   "metadata": {},
   "source": [
    "### 사용사례 1\n",
    "데이터베이스 기반 애플리케이션에서 싱글톤 패턴을 적용한 사례.  \n",
    "데이터베이스에서 데이터를 읽고 쓰는 클라우드 서비스.  \n",
    "이 서비스에는 데이터베이스에 접근하는 여러 모듈이 있다.  \n",
    "각 UI(웹 앱)에서 직접 DB연산을 수행하는 API를 호출한다.  \n",
    "  \n",
    "여러 서비스가 한 개의 DB를 공유하는 구조다. 안정된 클라우드 서비스를 설계하려면 다음 사항을 명심해햐한다.\n",
    "- 데이터베이스의 일관성을 보존해야 한다. 연산 간의 충돌이 없어야 한다.\n",
    "- 다수의 DB 연산을 처리하려면 메모리와 CPU를 효율적으로 사용해야 한다."
   ]
  },
  {
   "cell_type": "code",
   "execution_count": 12,
   "metadata": {},
   "outputs": [
    {
     "name": "stdout",
     "output_type": "stream",
     "text": [
      "Database Objects DB1 <sqlite3.Cursor object at 0x0000025A68015F80>\n",
      "Database Objects DB2 <sqlite3.Cursor object at 0x0000025A68015F80>\n",
      "True\n"
     ]
    }
   ],
   "source": [
    "import sqlite3\n",
    "class MetaSingleton(type):\n",
    "    _instances = {}\n",
    "    def __call__(cls, *args, **kwargs):\n",
    "        if cls not in cls._instances:\n",
    "            cls._instances[cls] = super(MetaSingleton, cls).__call__(*args, **kwargs)\n",
    "        return cls._instances[cls]\n",
    "    \n",
    "class Database(metaclass=MetaSingleton):\n",
    "    connection = None\n",
    "    def connect(self):\n",
    "        if self.connection is None:\n",
    "            self.connection = sqlite3.connect(\"db.sqlite3\")\n",
    "            self.cursorobj = self.connection.cursor()\n",
    "        return self.cursorobj\n",
    "    \n",
    "db1 = Database().connect()\n",
    "db2 = Database().connect()\n",
    "\n",
    "print(\"Database Objects DB1\", db1)\n",
    "print(\"Database Objects DB2\", db2)\n",
    "print(db1 is db2)"
   ]
  },
  {
   "cell_type": "markdown",
   "metadata": {},
   "source": [
    "1. MetaSingleton이라는 메타클래스를 생성한다. `__call__`메소드를 사용해 싱글톤을 생성한다.\n",
    "2. database 클래스는 MetaSingleton 메타클래스의 도움으로 싱글톤 역할을 한다.\n",
    "3. 웹 앱이 DB연산을 요청할 때마다 database 클래스를 생성하지만 내부적으로는 한 개의 객체만 생성된다. 따라서 데이터베이스의 동기화가 보장되고 리소스를 적게 사용해 메모리와 CPU사용량을 최적화할 수 있다.  \n",
    "  \n",
    "만약 단일 웹 앱 형태가 아닌 여러 웹 앱이 같은 DB에 접속하는 상황을 생각해보면,  \n",
    "각 웹 앱이 DB에 접근하는 싱글톤을 생성하기 때문에 싱글톤 패턴에 적합하지 않다.  \n",
    "DB동기화가 어렵고 리소스 사용량이 많은 경우다. 싱글톤 패턴보다 연결 풀링(Connection Pooling)기법을 사용하는 것이 더 효율적이다.  "
   ]
  },
  {
   "cell_type": "markdown",
   "metadata": {},
   "source": [
    "### 사용사례 2\n",
    "인프라 상태를 확인하는 서비스 구현. HealthCheck 클래스를 싱글톤으로 구현.  \n",
    "상태를 확인해야 하는 서버의 목록을 만들고 목록에서 제거된 서버의 상태는 확인하지 않아야 한다.  "
   ]
  },
  {
   "cell_type": "code",
   "execution_count": 16,
   "metadata": {},
   "outputs": [
    {
     "name": "stdout",
     "output_type": "stream",
     "text": [
      "Schedule health check for servers (1)..\n",
      "Checking  Server 1\n",
      "Checking  Server 2\n",
      "Checking  Server 3\n",
      "Checking  Server 4\n",
      "Schedule health check for servers (2)..\n",
      "Checking  Server 1\n",
      "Checking  Server 2\n",
      "Checking  Server 3\n",
      "Checking  Server 5\n"
     ]
    }
   ],
   "source": [
    "class HealthCheck:\n",
    "    _instance = None\n",
    "    def __new__(cls, *args, **kwargs):\n",
    "        if not HealthCheck._instance:\n",
    "            HealthCheck._instance = super(HealthCheck, cls).__new__(cls, *args, **kwargs)\n",
    "        return HealthCheck._instance\n",
    "    \n",
    "    def __init__(self):\n",
    "        self._servers =[]\n",
    "        \n",
    "    def addServer(self):\n",
    "        self._servers.append(\"Server 1\")\n",
    "        self._servers.append(\"Server 2\")\n",
    "        self._servers.append(\"Server 3\")\n",
    "        self._servers.append(\"Server 4\")\n",
    "        \n",
    "    def changeServer(self):\n",
    "        self._servers.pop()\n",
    "        self._servers.append(\"Server 5\")\n",
    "        \n",
    "hc1 = HealthCheck()\n",
    "hc2 = HealthCheck()\n",
    "\n",
    "hc1.addServer()\n",
    "print(\"Schedule health check for servers (1)..\")\n",
    "for i in range(4):\n",
    "    print(\"Checking \", hc1._servers[i])\n",
    "    \n",
    "hc2.changeServer()\n",
    "print(\"Schedule health check for servers (2)..\")\n",
    "for i in range(4):\n",
    "    print(\"Checking \", hc2._servers[i])"
   ]
  },
  {
   "cell_type": "markdown",
   "metadata": {},
   "source": [
    "### 싱글톤 패턴의 단점\n",
    "싱글톤의 단일 전역 객체는 다음과 같은 문제점이 있다.\n",
    "1. 전역 변수의 값이 변경된 것을 모르고 애플리케이션에서 사용될 수 있다.\n",
    "2. 같은 객체에 대한 여러 참조자가 생길 수 있다. 싱글톤은 한 개의 객체만을 만들기 때문에 같은 객체에 대한 여러 개의 참조자가 생긴다.\n",
    "3. 전역 변수에 종속적인 모든 클래스 간 상호관계가 복잡해진다. 전역 변수 수정이 의도치 않게 다른 클래스에도 영향을 줄 수 있다.  "
   ]
  },
  {
   "cell_type": "markdown",
   "metadata": {},
   "source": [
    "#### 여러가지 싱글톤 구현 방법\n",
    "https://wikidocs.net/3693"
   ]
  }
 ],
 "metadata": {
  "kernelspec": {
   "display_name": "Python 3",
   "language": "python",
   "name": "python3"
  },
  "language_info": {
   "codemirror_mode": {
    "name": "ipython",
    "version": 3
   },
   "file_extension": ".py",
   "mimetype": "text/x-python",
   "name": "python",
   "nbconvert_exporter": "python",
   "pygments_lexer": "ipython3",
   "version": "3.6.3"
  }
 },
 "nbformat": 4,
 "nbformat_minor": 2
}
