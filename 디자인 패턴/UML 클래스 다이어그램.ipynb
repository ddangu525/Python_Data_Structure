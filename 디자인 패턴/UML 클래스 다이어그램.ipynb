{
 "cells": [
  {
   "cell_type": "markdown",
   "metadata": {},
   "source": [
    "## 1. UML(Unified Modeling Language, 통합 모델링 언어)"
   ]
  },
  {
   "cell_type": "markdown",
   "metadata": {},
   "source": [
    "소프트웨어 공학에서 사용되는 표준화된 범용 모델링 언어.  \n",
    "소프트웨어 집약 시스템의 시각적 모델을 만들기 위한 도안 표기법을 포함한다.  \n",
    "UML은 아래와 같은 사항을 포함하여 시스템의 구조적 청사진을 시각화하는 표준안을 제공.  \n",
    "1. 행위자\n",
    "2. 비즈니스 프로세스\n",
    "3. (논리적) 부품\n",
    "4. 행위\n",
    "5. 프로그래밍 언어 구문\n",
    "6. 데이터베이스 스키마\n",
    "7. 재사용할 수 있는 소프트웨어 구성 요소"
   ]
  },
  {
   "cell_type": "markdown",
   "metadata": {},
   "source": [
    "### 모델\n",
    "\"모델을 만든다\"는 것은 잘 모르고 있는 것을 이해하는데 도움이 될 것으로 추측되는 어떤 것을 사용한다는 뜻.  \n",
    "어떤 분야에서는 일련의 수식(방정식)의 집합으로 정의되기도 하며, 컴퓨터 시뮬레이션을 모델로 삼기도 한다.  \n",
    "UML의 여러가지 그래픽 요소는 하나의 큰 그림, 즉 다이어그램을 그리는데 사용된다.  \n",
    "UML은 언어이기 때문에 이들 그래픽 요소들을 맞추는 데 규칙이 필요하다.  \n",
    "다이어그램의 목적은 시스템을 여러가지 시각에서 볼 수 있는 뷰(View)를 제공하는 것이며, 이러한 뷰의 집합을 모델(Model)이라고 한다.  \n",
    "시스템의 UML모델은 건물을 짓는 건축가의 스케일 모델과도 비슷하다고 말할 수 있다.   \n",
    "UML 모델은 시스템 자체의 \"목적 행동\"을 설명하는 언어이다.  \n",
    "UML 모델은 시스템의 \"구현 방법을 설명하는 수단\"이 아니다.|"
   ]
  },
  {
   "cell_type": "markdown",
   "metadata": {},
   "source": [
    "대부분의 사물은 자기만의 속성과 일정한 행동 수단을 지니고 있는데, 이러한 행동을 오퍼레이션(Operation)의 집합으로 생각할 수 있다.  \n",
    "UML에서는 두 단어 이상으로 이루어진 클래스 이름은 단어 사이의 공백을 없애고, 각 단어의 처음 문자를 모두 대문자로 한다. 속성과 행동의 이름 또한 마찬가지지만 가장 앞 단어의 처음 문자는 소문자로 한다.  "
   ]
  },
  {
   "cell_type": "markdown",
   "metadata": {},
   "source": [
    "#### UML 다이어그램의 종류\n",
    "1. 구조 다이어그램(Structure Diagram)\n",
    "    - **클래스 다이어그램**, 객체 다이어그램, 복합체 구조 다이어그램, 배치 다이어그램, 컴포넌트 다이어그램, 패키지 다디어그램\n",
    "2. 행위 다이어그램(Behavior Diagram)\n",
    "    - 활동 다이어그램, 상태 머신 다이어그램, 유즈 케이스 다이어그램, 상호작용 다이어그램"
   ]
  },
  {
   "cell_type": "markdown",
   "metadata": {},
   "source": [
    "## 클래스 다이어그램\n",
    "시간에 따라 변하지 않는 시스템의 정적인 면을 보여준느 대표적인 UML 구조 다이어그램\n",
    "목적: 시스템을 구성하는 클래스들 사이의 관계를 표현한다.  \n",
    "### UML 클래스의 표현\n",
    "<img src=\"https://gmlwjd9405.github.io/images/class-diagram/uml-class.png\">  \n",
    "  \n",
    "- 가장 윗부분: 클래스 이름\n",
    "- 중간 부분: 속성(클래스의 특징)\n",
    "- 마지막 부분: 연산(클래스가 수행하는 책임)\n",
    "- 경우에 따라 속성과 연산 부분은 생략.\n",
    "- 속성과 연산의 가시화 정의\n",
    "    - UML에서는 접근제어자를 사용해 나타냄  \n",
    "      \n",
    "```\n",
    "접근 제어자  표시  설명\n",
    "--------------------------\n",
    "public        +    어떤 클래스의 객체에서든 접근 가능\n",
    "private       -    이 클래스에서 생성된 객체들만 접근 가능\n",
    "protected     #    이 클래스와 동일 패키지에 있거나 상속 관계에 잇는 하위 클래스의 객체들만 접근 가능\n",
    "package       ~    동일 패키지에 있는 클래스의 객체들만 접근 가능\n",
    "```  \n",
    "\n",
    "- 분석 단계와 설계 단게에서 클래스 다이어그램\n",
    "<img src=\"https://gmlwjd9405.github.io/images/class-diagram/uml-class-example.png\">\n"
   ]
  },
  {
   "cell_type": "markdown",
   "metadata": {},
   "source": [
    "## 관계\n",
    "- UML에서 제공하는 클래스들 사이의 관계\n",
    "<img src=\"https://gmlwjd9405.github.io/images/class-diagram/association.png\">"
   ]
  },
  {
   "cell_type": "markdown",
   "metadata": {},
   "source": [
    "### 1. 연관 관계\n",
    "- 한 클래스가 다른 클래스와 연관 관계를 가지면 각 클래스의 객체는 해당 연관 관계에서 어떤 역할을 수행하게 된다.\n",
    "- 두 클래스 사이의 연관 관계가 명확한 경우에는 연관 관계 이름을 사용하지 않아도 된다.\n",
    "- 역할 이름은 실제 프로그램을 구현할 때 연관된 클래스의 객체들이 서로를 참조할 수 있는 속성의 이름으로 활용할 수 있다.\n",
    "- 연관 관계는 방향성을 가질 수 있다. 양방향은 실선으로, 단방향은 화살표로 표시한다.\n",
    "        "
   ]
  },
  {
   "cell_type": "markdown",
   "metadata": {},
   "source": [
    "#### 화살표\n",
    "<img src=\"https://gmlwjd9405.github.io/images/class-diagram/uni-directional.png\">\n",
    "- 단방향 연관 관계  \n",
    "- 한 쪽은 알지만 다른 쪽은 상대방의 존재를 모른다.     \n",
    "      \n",
    "#### 실선\n",
    "<img src=\"https://gmlwjd9405.github.io/images/class-diagram/bi-directional.png\">\n",
    "- 양방향 연관 관계  \n",
    "- 두 클래스의 객체들이 서로의 존재를 인식한다.  \n",
    "- 일반적으로 다대다 연관관계는 양방향 연관 관계로 표현되는 것이 적절하다.  \n",
    "- 하지만 양방향 연관 관계를 구현하는 것은 복잡하기 때문에 보통 다대다 연관 관계를 일대다 단방향 연관 관계로 변환해 구현한다. -> 연관 클래스\n",
    "     "
   ]
  },
  {
   "cell_type": "markdown",
   "metadata": {},
   "source": [
    "#### 연관 클래스\n",
    "- 연관 관계에 추가할 속성이나 행위가 있을 때 사용\n",
    "- 연관 클래스를 일반 클래스로 변환\n",
    "    - 연관 클래스는 연관 관계가 있는 두 클래스 사이에 위치하며, 점선을 사용해 연결.\n",
    "    - 이 연관 클래스를 일반 클래스로 변환하여 다대다에서 일대다 연관 관계로 변환한다.\n",
    "    - <img src=\"https://gmlwjd9405.github.io/images/class-diagram/association-class-example.png\">"
   ]
  },
  {
   "cell_type": "markdown",
   "metadata": {},
   "source": [
    "#### 다중성 표시 방법\n",
    "- <img src=\"https://gmlwjd9405.github.io/images/class-diagram/multiplication-notation.png\">\n",
    "- 선에 아무런 숫자가 없으면 일대일 관계"
   ]
  },
  {
   "cell_type": "markdown",
   "metadata": {},
   "source": [
    "### 2. 일반화 관계\n",
    "- 한 클래스가 다른 클래스를 포함하는 상위 개념일 때 두 클래스 사이에는 일반화 관계가 존재.\n",
    "- <img src=\"https://gmlwjd9405.github.io/images/class-diagram/generalization-class.png\">\n",
    "- 부모 클래스\n",
    "    - 추상적인 개념\n",
    "    - 자식 클래스의 공통 속성이나 연산을 제공하는 툴\n",
    "- 자식 클래스\n",
    "    - 구체적인 개념\n",
    "- 추상 클래스\n",
    "    - 추상 메서드를 하나 이상 가지는 클래스\n",
    "    - 추상 메서드\n",
    "        - 부모 클래스에서 구현되지 않은 빈 껍데기만 있는 연산\n",
    "    - 다른 일반적인 클래스와 달리 객체를 생성할 수 없다.\n",
    "    - UML에서 추상 클래스와 추상 메서드 표현\n",
    "        - 이탤릭체\n",
    "        - 스테레오 타입('<<', '>>' 기호 안에 원하는 이름을 넣음)\n",
    "        - <img src=\"https://gmlwjd9405.github.io/images/class-diagram/abstract-class-uml.png\">"
   ]
  },
  {
   "cell_type": "markdown",
   "metadata": {},
   "source": [
    "### 3. 집합 관계\n",
    "- UML 연관 관계의 특별 경우. 전체와 부분의 관계를 명확하게 명시하고자 할 때 사용.\n",
    "- <img src=\"https://gmlwjd9405.github.io/images/class-diagram/set-uml-example.png\">"
   ]
  },
  {
   "cell_type": "markdown",
   "metadata": {},
   "source": [
    "#### 1. 집약 관계(Aggregation)\n",
    "- 한 객체가 다른 객체를 포함하는 것\n",
    "    - '부분'을 나타내는 객체를 다른 객체와 공유할 수 있다.\n",
    "- '전체'를 가리키는 클래스 방향에 **빈 마름모**로 표시\n",
    "- 전체 객체의 라이프타임과 부분 객체의 라이프 타임은 독립적이다.\n",
    "    - 전체 객체가 메모리에서 사라진다 해도 부분 객체는 사라지지 않는다.\n",
    "- 생성자에서 참조값을 인자로 받아 필드를 세팅..\n",
    "    \n",
    "#### 2. 합성 관계(Composition)\n",
    "- 부분 객체가 전체 객체에 속하는 관계\n",
    "    - '부분'을 나타내는 객체를 다른 객체와 공유할 수 없다.\n",
    "- '전체'를 가리키는 클래스 방향에 **채워진 마름모**로 표시\n",
    "- 전체 객체의 라이프타임과 부분 객체의 라이프 타임은 의존적이다.\n",
    "    - 전체 객체가 없어지면 부분 객체도 없어진다.\n",
    "- 생성자에서 필드에 대한 객체를 생성.."
   ]
  },
  {
   "cell_type": "markdown",
   "metadata": {},
   "source": [
    "### 4. 의존 관계\n",
    "- 일반적으로 한 클래스가 다른 클래스를 사용하는 경우\n",
    "    1. 클래스의 속성('멤버 변수')에서 참조할 때\n",
    "    2. 연산의 '인자'(참조값)로 사용될 때\n",
    "    3. 메서드 내부의 '지역 객체'로 참조될 때\n",
    "      \n",
    "    1번: 연관 관계 / 2, 3번: 의존 관계\n",
    "      \n",
    "       \n",
    "- 연관 관계와 의존 관계의 차이\n",
    "- <img src=\"https://gmlwjd9405.github.io/images/class-diagram/dependency-uml.png\">\n",
    "- 연관 관계\n",
    "    - 오랜 시간 동안 같이할 객체와의 관계\n",
    "    - 예를 들어, 자동차와 소유한 사람의 관계\n",
    "- 의존 관계\n",
    "    - 짧은 시간 동안 이용하는 관계\n",
    "    - UML에서는 점선으로 나타낸다.\n",
    "    - 예를 들어, 자동차와 주유기의 관계"
   ]
  },
  {
   "cell_type": "markdown",
   "metadata": {},
   "source": [
    "### 5. 인터페이스와 실체화 관계\n",
    "- 인터페이스란?\n",
    "    - 책임\n",
    "    - 어떤 객체의 책임이란 객체가 해야 하는 일 또는 객체가 할 수 있는 일\n",
    "    - 즉, 객체가 외부에 제공하는 서비스나 기능은 객체가 수행하는 책임으로 본다.\n",
    "    - 어떤 공통되는 능력이 있는 것들을 대표하는 관점\n",
    "- UML에서의 인터페이스 표현\n",
    "    - 인터페이스: 클래스에 사용하는 사각형을 그대로 사용하고 인터페이스 이름 위에 스테레오 타입으로 interface 표시 (<<interface>>)\n",
    "    - 인터페이스 관계: 빈 삼각형과 점선을 사용\n",
    "    - <img src=\"https://gmlwjd9405.github.io/images/class-diagram/interface-uml.png\">\n",
    "- 객체지향 개념에서는 실체화 관계를 \"can do this\" 관계 라고 한다.\n",
    "    - 일반화 관계(상속 관계): \"is a kind of\" 관계"
   ]
  },
  {
   "cell_type": "markdown",
   "metadata": {},
   "source": [
    "http://www.nextree.co.kr/p6753/   여기도 보자"
   ]
  }
 ],
 "metadata": {
  "kernelspec": {
   "display_name": "Python 3",
   "language": "python",
   "name": "python3"
  },
  "language_info": {
   "codemirror_mode": {
    "name": "ipython",
    "version": 3
   },
   "file_extension": ".py",
   "mimetype": "text/x-python",
   "name": "python",
   "nbconvert_exporter": "python",
   "pygments_lexer": "ipython3",
   "version": "3.7.4"
  }
 },
 "nbformat": 4,
 "nbformat_minor": 2
}
