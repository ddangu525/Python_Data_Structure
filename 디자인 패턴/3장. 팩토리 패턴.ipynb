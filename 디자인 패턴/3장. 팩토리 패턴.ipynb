{
 "cells": [
  {
   "cell_type": "markdown",
   "metadata": {},
   "source": [
    "### 개요\n",
    "팩토리 패턴은 가장 많이 쓰이는 디자인 패턴이다.  \n",
    "객체지향 프로그래밍에서 팩토리(Factory)란 다른 클래스의 객체를 생성하는 클래스를 일컫는다.  \n",
    "일반적으로 팩토리는 객체와 관련 메소드로 구성돼 있다.  \n",
    "클라이어느는 특정 인자와 함께 메소드를 호출하고 팩토리는 해당 객체를 생성하고 반환한다.  \n",
    "클라이언트가 직접 객체를 생성할 수 있는데 팩토리가 필요한 이유는 다음과 같다.  \n",
    "1. 객체 생성과 클래스 구현을 나눠 상호 의존도를 줄인다.\n",
    "2. 클라이언트는 생성하려는 객체 클래스 구현과 상관없이 사용할 수 있다. 객체를 생성할 때 필요한 인터페이스와 메소드, 인자 등의 정보만 있으면 되므로 클라이언트의 일이 줄어든다.\n",
    "3. 코드를 수정하지 않고 간단하게 팩토리에 새로운 클래스를 추가할 수 있다. 인자 추가가 전부인 경우도 있다.\n",
    "4. 이미 생성된 객체를 팩토리가 재활용할 수 있다. 클라이언트가 직접 객체를 생성하는 경우 매번 새로운 객체가 생성된다.  \n",
    "  \n",
    "완구 제조 공장에서 자동차 장난감만 제조해오다 인형에 대한 시장 수요가 늘어나는 상황을 고려해 인형도 제조하기로 결정한 상황을 가정.  \n",
    "이 때 팩토리 패턴이 적합하다. 이 경우 공장의 제조 기계는 인터페이스이고 CEO는 클라이언트다.  \n",
    "CEO는 제조하려는 객체(완제품)와 제품을 만드는 인터페이스(생산 기계)에 대해서만 알고 있다.  \n",
    "  \n",
    "팩토리 패턴은 다음과 같은 3가지 종류가 있다.\n",
    "1. 심플 팩토리 패턴(Simple Factory Pattern)\n",
    "    - 인터페이스는 객체 생성 로직을 숨기고 객체를 생성한다.\n",
    "2. 팩토리 메소드 패턴(Factory Method Pattern)\n",
    "    - 인터페이스를 통해 객체를 생성하지만 서브 클래스가 객체 생성에 필요한 클래스를 선택한다.\n",
    "3. 추상 팩토리 패턴(Abstract Factory Pattern)\n",
    "    - 객체 생성에 필요한 클래스를 노출하지 않고 객체를 생성하는 인터페이스다. 내부적으로 다른 팩토리 객체를 생성한다."
   ]
  },
  {
   "cell_type": "markdown",
   "metadata": {},
   "source": [
    "### 1. 심플 팩토리 패턴\n",
    "심플 팩토리 패턴은 하나의 패턴으로 인정하지 않기도 해서 팩토리 메소드와 추상 팩토리 패턴을 이해하기 위한 기본 개념 정도로 생각.  \n",
    "팩토리를 사용하면 여러 종류의 객체를 사용자가 직접 클래스를 호출하지 않고 생성할 수 있다.  \n",
    "클라이언트 클래스는 create_type() 메소드가 있는 팩토리 클래스를 사용한다.  \n",
    "클라이언트가 객체형을 나타내는 인자와 함께 create_type() 메소드를 호출하면 팩토리는 Product1 또는 Product2를 반환한다. "
   ]
  },
  {
   "cell_type": "code",
   "execution_count": 2,
   "metadata": {},
   "outputs": [
    {
     "name": "stdout",
     "output_type": "stream",
     "text": [
      "Which animal should make_sound Dog or Cat? Dog\n",
      "Bhow Bhow!!\n"
     ]
    }
   ],
   "source": [
    "from abc import ABCMeta, abstractmethod\n",
    "\n",
    "class Animal(metaclass = ABCMeta):\n",
    "    @abstractmethod\n",
    "    def do_say(self):\n",
    "        pass\n",
    "    \n",
    "class Dog(Animal):\n",
    "    def do_say(self):\n",
    "        print(\"Bhow Bhow!!\")\n",
    "        \n",
    "class Cat(Animal):\n",
    "    def do_say(self):\n",
    "        print(\"Meow Mewo!!\")\n",
    "        \n",
    "## forest factory 정의\n",
    "class ForestFactory(object):\n",
    "    def make_sound(self, object_type):\n",
    "        return eval(object_type)().do_say()\n",
    "    \n",
    "## 클라이언트 코드\n",
    "\n",
    "if __name__ == '__main__':\n",
    "    ff = ForestFactory()\n",
    "    animal = input(\"Which animal should make_sound Dog or Cat? \")\n",
    "    ff.make_sound(animal)"
   ]
  },
  {
   "cell_type": "markdown",
   "metadata": {},
   "source": [
    "Animal이라는 상품을 추상화한 코드.  \n",
    "추상 기본 클래스(ABCMeta는 파이썬에서 특정 클래스를 Abstract로 선언하는 특수 메타클래스)이고, do_say() 메소드를 포함한다.  \n",
    "Animal 인터페이스를 통해 Cat과 Dog라는 상품을 생성하고 각 동물의 울음소리를 출력하는 do_say()함수를 구현한다.  \n",
    "ForestFactory 팩토리에는 make_sound() 함수가 있다.  \n",
    "클라이어느가 전달한 인자에 따라 해당 Animal 인스턴스가 런타임에 생성되고 울음 소리를 출력한다."
   ]
  },
  {
   "cell_type": "markdown",
   "metadata": {},
   "source": [
    "### 2. 팩토리 메소드 패턴\n",
    "- 인터페이스를 통해 객체를 생성하지만 팩토리가 아닌 서브 클래스가 해당 객체 생성을 위해 어떤 클래스를 호출할지 결정한다.\n",
    "- 팩토리 메소드는 인스턴스화가 아닌 상속을 통해 객체를 생성한다.\n",
    "- 팩토리 메소드 디자인은 유동적이다. 심플 팩토리 메소드처럼 특정 객체가 아닌 같은 인스턴스나 서브 클래스 객체를 반환할 수 있다.   \n",
    "  \n",
    "팩토리 메소드 패턴의 UML 다이어그램을 보면, factoryMethod() 메소드를 포함하는 Creator 추상 클래스가 있다.  \n",
    "factoryMethod() 메소드는 객체 생성을 담당한다.  \n",
    "ConcreteCreator 클래스의 factoryMethod()는 Creator 추상 클래스를 상속받고 생성된 객체를 런타임에 변환한다.  \n",
    "ConcreteCreator는 ConcreteProduct를 생성하고 생성된 객체가 Product 클래스를 상속받아 Product 인터페이스의 모든 함수를 포함시킨다.  \n",
    "즉, Creator 인터페이스의 factoryMethod()와 ConcreteCreator 클래스는 Product 클래스의 어떤 서브 클래스를 생성할지를 결정한다.  \n",
    "즉, 팩토리 메소드 패턴은 **객체를 생성하는 인터페이스를 정의하고 어떤 클래스를 초기화할지는 서브 클래스의 결정에 맡긴다.**"
   ]
  },
  {
   "cell_type": "markdown",
   "metadata": {},
   "source": [
    "#### 구현\n",
    "서비스 종류에 따라 알맞은 내용을 포함하는 프로필을 생성하는 프로그램 구현."
   ]
  },
  {
   "cell_type": "code",
   "execution_count": 4,
   "metadata": {},
   "outputs": [
    {
     "name": "stdout",
     "output_type": "stream",
     "text": [
      "Which Profile you'd like to create? [LinkedIn or FaceBook]facebook\n",
      "Creating Profile.. facebook\n",
      "Profile has sections -- [<__main__.PersonalSection object at 0x00000268E2DEF978>, <__main__.AlbumSection object at 0x00000268E2DEFF98>]\n"
     ]
    }
   ],
   "source": [
    "from abc import ABCMeta, abstractmethod\n",
    "\n",
    "class Section(metaclass=ABCMeta):\n",
    "    @abstractmethod\n",
    "    def describe(self):\n",
    "        pass\n",
    "    \n",
    "class PersonalSection(Section):\n",
    "    def describe(self):\n",
    "        print(\"Personal Section\")\n",
    "        \n",
    "class AlbumSection(Section):\n",
    "    def describe(self):\n",
    "        print(\"Album Section\")\n",
    "        \n",
    "class PatentSection(Section):\n",
    "    def describe(self):\n",
    "        print(\"Patent Section\")\n",
    "        \n",
    "class PublicationSection(Section):\n",
    "    def describe(self):\n",
    "        print(\"Publication Section\")\n",
    "        \n",
    "class Profile(metaclass=ABCMeta):\n",
    "    \n",
    "    def __init__(self):\n",
    "        self.sections = []\n",
    "        self.createProfile()\n",
    "    \n",
    "    @abstractmethod\n",
    "    def createProfile(self):\n",
    "        pass\n",
    "    def getSections(self):\n",
    "        return self.sections\n",
    "    def addSections(self, section):\n",
    "        self.sections.append(section)\n",
    "        \n",
    "class linkedin(Profile):\n",
    "    def createProfile(self):\n",
    "        self.addSections(PersonalSection())\n",
    "        self.addSections(PatentSection())\n",
    "        self.addSections(PublicationSection())\n",
    "        \n",
    "class facebook(Profile):\n",
    "    def createProfile(self):\n",
    "        self.addSections(PersonalSection())\n",
    "        self.addSections(AlbumSection())\n",
    "        \n",
    "if __name__ == '__main__':\n",
    "    profile_type = input(\"Which Profile you'd like to create? [LinkedIn or FaceBook]\")\n",
    "    profile = eval(profile_type.lower())()\n",
    "    print(\"Creating Profile..\", type(profile).__name__)\n",
    "    print(\"Profile has sections --\", profile.getSections())"
   ]
  },
  {
   "cell_type": "markdown",
   "metadata": {},
   "source": [
    "우선 Product 인터페이스를 선언한다. Section 추상 클래스는 프로필의 각 섹션을 나타낸다. 간단하게 describe()추상 메소드만 포함.  \n",
    "이제 ConcreteProduct 클래스와 PersonalSection, AlbumSection, PatentSection, PublicationSection 클래스를 선언.  \n",
    "각 클래스에는 해당 섹션명을 출력하는 describe()메소드가 있다.  \n",
    "Creator 추상 클래스를 Profile이라는 이름으로 선언.  \n",
    "Profile[Creator]추상 클래스는 createProfile()팩토리 메소드를 제공한다.  \n",
    "createProfile()메소드는 ConcreteClass 클래스를 통해 알맞은 섹션을 포함한 프로필을 생성한다.  \n",
    "Profile 추상 클래스에는 각 프로필에 들어갈 섹션에 대한 정보가 없다.  \n",
    "예를 들어 페이스북 프로필에는 개인 정보와 앨범 섹션이 있듯이 서브 클래스가 이를 결정한다.  \n",
    "linkedin과 facebook이라는 두 개의 ConcreteCreator 클래스를 생성하고 각 클래스에서 여러 섹션을 생성하는 createProfile()추상 메소드를 정의한다.  \n",
    "마지막으로 알맞은 Creator 클래스를 호출해 워나는 프로필을 작성하는 클라이언트 부분에서 facebook이나 linkedin을 입력하여 클래스를 생성한다.  "
   ]
  },
  {
   "cell_type": "markdown",
   "metadata": {},
   "source": [
    "#### 팩토리 메소드 패턴의 장점\n",
    "- 유연성과 포괄성을 갖추며 한 클래스에 종속되지 않는다. ConcreteProduct가 아닌 인터페이스(Product)에 의존한다.\n",
    "- 객체를 생성하는 코드와 활용하는 코드를 분리해 의존성이 줄어든다. 클라이언트는 인자나 어떤 클래스가 생성되는지 알 필요가 없다. 새로운 클래스 추가 등의 유지보수가 쉽다."
   ]
  },
  {
   "cell_type": "markdown",
   "metadata": {},
   "source": [
    "### 3. 추상 팩토리 패턴\n",
    "클래스를 직접 호출하지 않고 관련된 객체를 생성하는 인터페이스를 제공하는 목적.  \n",
    "팩토리 메소드가 인스턴스 생성을 서브 클래스에게 맡기는 반면 **추상 팩토리 메소드는 관련된 객체의 집합을 생성**한다.  \n",
    "  \n",
    "ConcreteFactory1과 ConcreteFactory2는 AbstractFactory 인터페이스에서 생성된다. 이 인터페이스에 여러 상품을 생성하는 메소드가 있다.  \n",
    "ConcreteFactory1과 ConcreteFactory2는 AbstractFactory를 상속받고 ConcreteProduct1과 ConcreteProduct2,  \n",
    "AnotherConcreteProduct1, AnotherConcreteProduct2 인스턴스를 생성한다.  \n",
    "ConcreteProduct1과 ConcreteProduct2는 AbstractProduct 인터페이스에서 생성되고,  \n",
    "AnotherConcreteProduct1과 AnotherConcreteProduct2는 AnotherAbstractProduct 인터페이스에서 생성된다.  \n",
    "추상 팩토리 패턴에서 클라이어느는 객체 생성 로직과 상관없이 생성된 객체를 사용한다.  \n",
    "클라이어느는 오직 인터페이스를 통해 객체에 접근할 수 있다.  \n",
    "객체 집단 중 일부가 필요할 때는 추상 팩토리 패턴을 통해 접근할 수 있다.  \n",
    "예를 들어 애플리케이션이 플랫폼 독립적이라면 OS나 파일 시스템 호출 등의 종속성을 없애야 한다.  \n",
    "추상 팩토리 패턴은 플랫폼에 필요한 서비스 생성을 알아서 처리하기 때문에 클라이언트는 플랫폼에 종속된 객체를 직접 생성할 필요가 없다.  "
   ]
  },
  {
   "cell_type": "markdown",
   "metadata": {},
   "source": [
    "#### 추상 팩토리 패턴 구현"
   ]
  },
  {
   "cell_type": "code",
   "execution_count": 6,
   "metadata": {},
   "outputs": [
    {
     "name": "stdout",
     "output_type": "stream",
     "text": [
      "Prepare DeluxVeggiePizza\n",
      "ChickenPizza is served with Chicken on DeluxVeggiePizza\n",
      "Prepare MexicanVegPizza\n",
      "HamPizza is served with Ham on MexicanVegPizza\n"
     ]
    }
   ],
   "source": [
    "from abc import ABCMeta, abstractmethod\n",
    "\n",
    "class PizzaFactory(metaclass=ABCMeta):\n",
    "    \n",
    "    @abstractmethod\n",
    "    def createVegPizza(self):\n",
    "        pass\n",
    "    \n",
    "    @abstractmethod\n",
    "    def createNonVegPizza(self):\n",
    "        pass\n",
    "    \n",
    "class IndianPizzaFactory(PizzaFactory):\n",
    "    \n",
    "    def createVegPizza(self):\n",
    "        return DeluxVeggiePizza()\n",
    "    \n",
    "    def createNonVegPizza(self):\n",
    "        return ChickenPizza()\n",
    "    \n",
    "class USPizzaFactory(PizzaFactory):\n",
    "    \n",
    "    def createVegPizza(self):\n",
    "        return MexicanVegPizza()\n",
    "    \n",
    "    def createNonVegPizza(self):\n",
    "        return HamPizza()\n",
    "    \n",
    "class VegPizza(metaclass=ABCMeta):\n",
    "    @abstractmethod\n",
    "    def prepare(self, VegPizza):\n",
    "        pass\n",
    "    \n",
    "class NonVegPizza(metaclass=ABCMeta):\n",
    "    @abstractmethod\n",
    "    def serve(self, VegPizza):\n",
    "        pass\n",
    "    \n",
    "class DeluxVeggiePizza(VegPizza):\n",
    "    def prepare(self):\n",
    "        print(\"Prepare\", type(self).__name__)\n",
    "        \n",
    "class ChickenPizza(NonVegPizza):\n",
    "    def serve(self, VegPizza):\n",
    "        print(type(self).__name__, \"is served with Chicken on\", type(VegPizza).__name__)\n",
    "        \n",
    "class MexicanVegPizza(VegPizza):\n",
    "    def prepare(self):\n",
    "        print(\"Prepare\", type(self).__name__)\n",
    "        \n",
    "class HamPizza(NonVegPizza):\n",
    "    def serve(self, VegPizza):\n",
    "        print(type(self).__name__, \"is served with Ham on\", type(VegPizza).__name__)\n",
    "        \n",
    "class PizzaStore:\n",
    "    def __init__(self):\n",
    "        pass\n",
    "    \n",
    "    def makePizzas(self):\n",
    "        for factory in [IndianPizzaFactory(), USPizzaFactory()]:\n",
    "            self.factory = factory\n",
    "            self.NonVegPizza = self.factory.createNonVegPizza()\n",
    "            self.VegPizza = self.factory.createVegPizza()\n",
    "            self.VegPizza.prepare()\n",
    "            self.NonVegPizza.serve(self.VegPizza)\n",
    "            \n",
    "pizza = PizzaStore()\n",
    "pizza.makePizzas()"
   ]
  },
  {
   "cell_type": "markdown",
   "metadata": {},
   "source": [
    "인도식 피자와 미국식 피자를 판매하는 식당을 가정.  \n",
    "우선 추상 기본 클래스 PizzaFactory(AbstractFactory에 해당)를 선언한다.  \n",
    "PizzaFactory 클래스에는 ConcreteFactory가 상속받을 createVegPizza()와 createNonVegPizza() 두 개의 추상 메소드가 있다.  \n",
    "예제에서는 IndianPizzaFactory와 USPizzaFactory를 생성한다.  \n",
    "  \n",
    "그 다음 AbstractProduct를 선언한다.  \n",
    "VegPizza와 NonVegPizza는 UML의 AbstractProduct와 AnotherAbstractProduct에 해당하는 추상클래스이다.  \n",
    "각 클래스에는 prepare()와 serve() 메소드가 선언돼 있다.  \n",
    "이 예제에서 채식 피자는 크러스트와 채소, 양념으로 조리하고 일반 피자는 비채식 토핑을 채식 피자 위에 첨가해 조리한다는 것이다.  \n",
    "각 AbstractProduct별로 ConcreteProducts를 선언한다.  \n",
    "DeluxVeggiePizza와 MexicanVegPizza를 선언하고 prepare()메소드를 구현한다.  \n",
    "UML 다이어그램의 ConcreteProduct1과 ConcreteProduct2에 해당한다.  \n",
    "ChickenPizza와 HamPizza를 선언하고 serve()메소드를 구현한다.  \n",
    "두 객체는 AnotherConcreteProduct1과 AnotherConcreteProduct2에 해당한다.  \n",
    "사용자가 PizzaStore에 접근해 비채식 미국식 피자를 요청하면 USPizzaFactory가 채식피자를 준비하고 햄 토핑을 얹어 비채식 피자를 제공한다. "
   ]
  },
  {
   "cell_type": "markdown",
   "metadata": {},
   "source": [
    "#### 팩토리 메소드 vs 추상 팩토리 메소드\n",
    "  \n",
    "|  <center>**팩토리 메소드**</center> |  <center>**추상 팩토리 메소드**</center> |\n",
    "|:--------|:--------:|\n",
    "|객체 생성에 필요한 **메소드가 사용자에게 노출**된다. |관련된 객체 집단을 생성하기 위해 **한 개 이상의 팩토리 메소드가 필요**하다.|\n",
    "|어떤 객체를 생성할지 결정하는 **상속과 서브 클래스**가 필요하다.|다른 클래스 객체를 생성하기 위해 **컴포지션(composition)**을 사용한다.|\n",
    "|**한 개의 객체를 생성**하는 팩토리 메소드를 사용한다.|관련된 **객체 집단을 생성**한다.|"
   ]
  },
  {
   "cell_type": "markdown",
   "metadata": {},
   "source": [
    "#### 정리\n",
    "1. 심플 팩토리: 런타임에 클라이언트가 인자로 넘긴 객체형을 기반으로 인스턴스를 생성\n",
    "2. 팩토리 메소드: 인터페이스를 통해 객체를 생성하지만 실제 생성은 서브 클래스가 담당\n",
    "3. 추상 팩토리: 콘크리트 클래스를 명시하지 않고 관련된 객체의 집단을 생성"
   ]
  }
 ],
 "metadata": {
  "kernelspec": {
   "display_name": "Python 3",
   "language": "python",
   "name": "python3"
  },
  "language_info": {
   "codemirror_mode": {
    "name": "ipython",
    "version": 3
   },
   "file_extension": ".py",
   "mimetype": "text/x-python",
   "name": "python",
   "nbconvert_exporter": "python",
   "pygments_lexer": "ipython3",
   "version": "3.6.3"
  }
 },
 "nbformat": 4,
 "nbformat_minor": 2
}
