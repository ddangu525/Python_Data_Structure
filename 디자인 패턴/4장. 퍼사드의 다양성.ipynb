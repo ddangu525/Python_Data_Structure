{
 "cells": [
  {
   "cell_type": "markdown",
   "metadata": {},
   "source": [
    "## 구조 디자인 패턴 개요\n",
    "- 구조 디자인 패턴은 객체와 클래스가 병합해 더 큰 구조를 만든다.\n",
    "- 개체의 관계를 더 쉽게 식별할 수 있는 디자인 패턴이다. 개체란 객체지향 개념에서의 객체나 클래스를 가리킨다.\n",
    "- 클래스 패턴(Class Pattern)은 상속을 통해 추상화해 인터페이스를 제공하는 반면에 객체 패턴(Object Pattern)은 한 개의 객체를 더 큰 객체로 확장시킨다. 구조 패턴은 클래스 패턴과 객체 패턴을 합친 패턴이다.  \n",
    "  \n",
    "#### 구조 디자인 패턴의 예\n",
    "설계상 목적 또는 복잡도에 따라 객체 또는 클래스 간 상호 작용이 생긴다.\n",
    "- 어댑터 패턴(Adapter Pattern): 클라이언트의 요구에 따라 **특정 인터페이스를 다른 인터페이스에 맞춘다.** 서로 다른 클래스의 인터페이스를 목적에 맞춰 변환한다.\n",
    "- 브릿지 패턴(Bridge Pattern): **객체의 인터페이스와 구현을 분리**해 **독립적으로 동작**할 수 있게 한다.\n",
    "- 데코레이터 패턴(Decorator Pattern): **런타임에 객체의 책임을 덧붙인다.** 인터페이스를 통해 객체에 속성을 추가한다."
   ]
  },
  {
   "cell_type": "markdown",
   "metadata": {},
   "source": [
    "### 퍼사드 디자인 패턴 개요\n",
    "퍼사드(Facade)란 건물의 정면, 특히 돋보이는 쪽을 의미한다. 인간의 감정이나 상태에 반대되는 행동이나 외관을 의미하기도 한다.  \n",
    "보통 건물을 지나갈 때 멋진 외관에만 신경 쓰지 내부 구조에 대해서는 신경 쓰지 않는다.  \n",
    "이것이 퍼사드 패턴의 핵심이다. 복잡한 **내부 시스템 로직을 감추고** 클라이언트가 쉽게 시스템에 접근할 수 있는 **인터페이스를 제공**한다.  \n",
    "상점을 예로 들어보면, 상점의 구조를 전혀 모르는 고객이 물품을 구입하러 상점에 방문하면 일반적으로 주인에게 가서 물품을 요청한다.  \n",
    "그러면 주인이 물품을 찾아 고객에게 건넨다. 고객은 상점구조를 몰라도 인터페이스 역할을 하는 주인을 통해 목적을 달성한다.  \n",
    "  \n",
    "**퍼사드 디자인 패턴의 목적**  \n",
    "- 서브시스템의 인터페이스를 통합시킨 단일 인터페이스를 제공해 클라이언트가 쉽게 서브시스템에 접근할 수 있게 한다.\n",
    "- 단일 인터페이스 객체로 복잡한 서브시스템을 대체한다. 서브시스템을 캡슐화하는 것이 아니라 모든 서브시스템들을 결합한다.\n",
    "- 클라이언트와 내부 구현을 분리한다."
   ]
  },
  {
   "cell_type": "markdown",
   "metadata": {},
   "source": [
    "#### UML 클래스 다이어그램\n",
    "총 3개의 구성원이 있다.\n",
    "- 퍼사드: 외부에서 보기에 깔끔하도록 복잡한 서브시스템을 감싸는 역할\n",
    "- 시스템: 전체 시스템을 하나의 복잡한 복합체로 만드는 여러 서브시스템의 집합\n",
    "- 클라이언트: 퍼사드를 통해 서브시스템과 통신. 복잡한 시스템 구조에 대해 전혀 알 필요가 없다."
   ]
  },
  {
   "cell_type": "markdown",
   "metadata": {},
   "source": [
    "#### 퍼사드\n",
    "퍼사드의 역할  \n",
    "- 어떤 서브시스템이 요청에 알맞는지 알고 있는 인터페이스\n",
    "- 컴포지션을 통해 클라이언트의 요청을 적합한 서브시스템 객체에 전달\n",
    "  \n",
    "클라이언트가 특정 작업을 수행할 때 모든 관련 서브시스템에 요청하지 않고 메인 인터페이스(퍼사드)에만 요청을 보내면 된다.  "
   ]
  },
  {
   "cell_type": "markdown",
   "metadata": {},
   "source": [
    "#### 시스템\n",
    "퍼사드 관점에서 시스템은 다음과 같은 역할을 하는 개체다.  \n",
    "- 서브시스템의 기능을 구현하는 클래스. 이상적으로 시스템은 각기 다른 역할을 하는 클래스의 집합이다.\n",
    "- 퍼사드 객체가 지시한 일을 담당하지만 퍼사드의 존재도 모르며 참조하지도 않는다.\n",
    "  \n",
    "클라이언트가 퍼사드에 특정 서비스를 요청하면 퍼사드는 알맞은 서브시스템을 선택하고 반환한다."
   ]
  },
  {
   "cell_type": "markdown",
   "metadata": {},
   "source": [
    "#### 클라이언트\n",
    "- 클라이언트는 퍼사드를 인스턴스화하는 클래스다.\n",
    "- 퍼사드에 서브시스템을 통해 작업을 수행하도록 요청한다."
   ]
  },
  {
   "cell_type": "markdown",
   "metadata": {},
   "source": [
    "### 퍼사드 패턴 구현\n",
    "가까운 친척의 결혼 준비를 도와 주는 경우를 생각해보자.  \n",
    "호텔이나 예식장 예약, 음식, 꽃 장식, 축가 등 많은 것을 대신 준비해줄 웨딩플래너만 찾으면 된다.  \n",
    "이 상황을 퍼사드 패턴의 관점에서 본다면,  \n",
    "- 클라이언트: 결혼식 전까지 모든 준비를 마쳐야 하는 나. \n",
    "- 퍼사드: 각 업체와의 조율을 담당하는 웨딩플래너\n",
    "- 서브시스템: 음식과 호텔 예약, 꽃 장식 등을 담당하는 업체들."
   ]
  },
  {
   "cell_type": "markdown",
   "metadata": {},
   "source": [
    "EventManager를 퍼사드 클래스로 구현.  \n",
    "- 서브시스템에 필요한 클래스:\n",
    "    1. Hotelier: 호텔 예약 담당\n",
    "    2. Florist: 생화 장식 담당.\n",
    "    3. Caterer: 음식 공급업체와 요리 종류 선정 담당\n",
    "    4. Musician: 결혼식에서 연주될 음악 담당."
   ]
  },
  {
   "cell_type": "code",
   "execution_count": 7,
   "metadata": {
    "scrolled": true
   },
   "outputs": [
    {
     "name": "stdout",
     "output_type": "stream",
     "text": [
      "You:: Whoa! Marriage Arrangements??!!!\n",
      "You:: Thanks to Event Manager, all preparations done! Phew!\n",
      "You:: Let's Contact the Event Manager\n",
      "\n",
      "\n",
      "Event Manager:: Let me talk to the folks\n",
      "\n",
      "Arranging the Hotel for Marriage? --\n",
      "Is the Hotel free for the event on given day?\n",
      "Registered the Booking\n",
      "\n",
      "\n",
      "Flower Decorations for the Event? --\n",
      "Carnations, Roses and Lilies would be used for Decorations\n",
      "\n",
      "\n",
      "Food Arrangements for the Event --\n",
      "Chines & Continental Cuisine to be served\n",
      "\n",
      "\n",
      "Musical Arrangements for the Marriage --\n",
      "Jazz and Classical will be played\n",
      "\n",
      "\n",
      "Event Manager:: All your requests are done!\n",
      "\n"
     ]
    }
   ],
   "source": [
    "class EventManager(object):   # 얘가 퍼사드\n",
    "    \n",
    "    def __init__(self):\n",
    "        print(\"Event Manager:: Let me talk to the folks\\n\")\n",
    "        \n",
    "    def arrange(self):\n",
    "        self.hotelier = Hotelier()\n",
    "        self.hotelier.bookHotel()\n",
    "        \n",
    "        self.florist = Florist()\n",
    "        self.florist.setFlowerRequirements()\n",
    "        \n",
    "        self.caterer = Caterer()\n",
    "        self.caterer.setCuisine()\n",
    "        \n",
    "        self.musician = Musician()\n",
    "        self.musician.setMusicType()\n",
    "        \n",
    "    def __del__(self):\n",
    "        print(\"Event Manager:: All your requests are done!\\n\")\n",
    "    \n",
    "class Hotelier(object):\n",
    "    def __init__(self):\n",
    "        print(\"Arranging the Hotel for Marriage? --\")\n",
    "        \n",
    "    def __isAvailable(self):\n",
    "        print(\"Is the Hotel free for the event on given day?\")\n",
    "        return True\n",
    "\n",
    "    def bookHotel(self):\n",
    "        if self.__isAvailable():\n",
    "            print(\"Registered the Booking\\n\\n\")\n",
    "                \n",
    "    \n",
    "class Florist(object):\n",
    "    def __init__(self):\n",
    "        print(\"Flower Decorations for the Event? --\")\n",
    "        \n",
    "    def setFlowerRequirements(self):\n",
    "        print(\"Carnations, Roses and Lilies would be used for Decorations\\n\\n\")\n",
    "        \n",
    "        \n",
    "class Caterer(object):\n",
    "    def __init__(self):\n",
    "        print(\"Food Arrangements for the Event --\")\n",
    "        \n",
    "    def setCuisine(self):\n",
    "        print(\"Chines & Continental Cuisine to be served\\n\\n\")\n",
    "            \n",
    "            \n",
    "class Musician(object):\n",
    "    def __init__(self):\n",
    "        print(\"Musical Arrangements for the Marriage --\")\n",
    "        \n",
    "    def setMusicType(self):\n",
    "        print(\"Jazz and Classical will be played\\n\\n\")\n",
    "        \n",
    "        \n",
    "class You(object):\n",
    "    def __init__(self):\n",
    "        print(\"You:: Whoa! Marriage Arrangements??!!!\")\n",
    "        \n",
    "    def askEventManager(self):\n",
    "        print(\"You:: Let's Contact the Event Manager\\n\\n\")\n",
    "        em = EventManager()\n",
    "        em.arrange()\n",
    "        \n",
    "    def __del__(self):\n",
    "        print(\"You:: Thanks to Event Manager, all preparations done! Phew!\")\n",
    "        \n",
    "you = You()\n",
    "you.askEventManager()   "
   ]
  },
  {
   "cell_type": "markdown",
   "metadata": {},
   "source": [
    "소멸자 실행되는 위치가.. 메소드가 다 호출되기도 전에 소멸되는데??"
   ]
  },
  {
   "cell_type": "markdown",
   "metadata": {},
   "source": [
    "### 최소 지식 원칙\n",
    "퍼사드는 최소 지식 원칙을 기반으로 한다. 최소 지식 원칙은 상호작용하는 객체를 아주 가까운 몇 개의 객체로 최소화 한다.  \n",
    "- 시스템을 설계할 때 생성하는 모든 객체가 몇 개의 클래스와 연관되며 어떤식으로 대화하는지 알아야 한다.\n",
    "- 원칙에 따라 지나치게 서로 얽혀있는 클래스를 만드는 것을 지양해야 한다.\n",
    "- 클래스 간의 의존도가 높아질수록 시스템 유지보수가 힘들어진다. 시스템의 한 부분을 수정하면 다른 부분이 의도치 않게 변경될 수 있다. 이런 회귀적인 구조는 피해야 한다."
   ]
  },
  {
   "cell_type": "markdown",
   "metadata": {},
   "source": [
    "### 자주 묻는 질문들"
   ]
  },
  {
   "cell_type": "markdown",
   "metadata": {},
   "source": [
    "#### 1. 데메테르 법칙이 무엇이며 팩토리 패턴과는 어떤 연관성이 있나?\n",
    "데메테르 법칙은 다음과 같은 디자인 가이드라인이다.\n",
    "1. 각 유니슨 시스템 내의 다른 유닛에 대해 최소한의 지식만을 가져야 한다.\n",
    "2. 유닛은 주변의 친구와만 대화해야 한다.\n",
    "3. 유닛은 자신이 다루는 객체의 세부 사항에 대해 알 필요가 없다.\n",
    "  \n",
    "최소 지식 원칙과 데메테르의 법칙은 동일하며 느슨한 결합(Loose Coupling)을 원칙으로 한다.  \n",
    "최소 지식 원칙은 이름이 직관적이고 법칙이라는 것은 꼭 필요할 때만 지켜야 하는 일종의 가이드라인으로서 퍼사드 패턴에 적합하다."
   ]
  },
  {
   "cell_type": "markdown",
   "metadata": {},
   "source": [
    "#### 2. 1개의 서브시스템에 여러 퍼사드가 존재해도 되는가?\n",
    "동일한 서브시스템 집단에 한 개 이상의 퍼사드가 있어도 괜찮다."
   ]
  },
  {
   "cell_type": "markdown",
   "metadata": {},
   "source": [
    "#### 3. 최소 지식 원칙의 단점은 무엇인가?\n",
    "퍼사드는 클라이언트와 서브시스템 간의 대화를 간소화하는 인터페이스를 제공한다.  \n",
    "애플리케이션에 필요없는 여러 개의 인터페이스가 존재하면 시스템의 복잡도가 높아지고 런타임 성능이 저하된다."
   ]
  },
  {
   "cell_type": "markdown",
   "metadata": {},
   "source": [
    "#### 4. 클라이언트가 서브시스템에 직접 접근해도 되는가?\n",
    "직접 접근해도 되지만 퍼사드 패턴은 클라이언트가 서브시스템의 복잡성에 구애 받지 않는 간소화된 인터페이스를 제공하는 역할을 한다."
   ]
  },
  {
   "cell_type": "markdown",
   "metadata": {},
   "source": [
    "#### 5. 퍼사드 자체의 기능은 없는가?\n",
    "서브시스템의 특수한 순서를 결정하는 등, 서브시스템에 대한 퍼사드가 자신만의 로직을 포함하는 경우가 있다."
   ]
  }
 ],
 "metadata": {
  "kernelspec": {
   "display_name": "Python 3",
   "language": "python",
   "name": "python3"
  },
  "language_info": {
   "codemirror_mode": {
    "name": "ipython",
    "version": 3
   },
   "file_extension": ".py",
   "mimetype": "text/x-python",
   "name": "python",
   "nbconvert_exporter": "python",
   "pygments_lexer": "ipython3",
   "version": "3.6.3"
  }
 },
 "nbformat": 4,
 "nbformat_minor": 2
}
