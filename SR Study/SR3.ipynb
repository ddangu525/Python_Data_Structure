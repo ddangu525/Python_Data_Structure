{
 "cells": [
  {
   "cell_type": "markdown",
   "metadata": {},
   "source": [
    "## 2. 15905 스텔라(STELLA)가 치킨을 선물했어요"
   ]
  },
  {
   "cell_type": "markdown",
   "metadata": {},
   "source": [
    "#### 문제\n",
    "경인지역 6개대학 연합 프로그래밍 경시대회 shake! 는 아주대학교, 경희대학교, 성균관대학교, 인하대학교, 한국항공대학교,  \n",
    "한양대학교ERICA가 함께하는 대학교 자체 연합 대회이다.  \n",
    "shake! 는 매년 1등 학생에게 사과북 프로 레티나를 비롯하여 5등까지 상장과 상품을 수여하고 있다.    \n",
    "2018년 올해는 특별히 세계 최고 에듀테크 기업인 ST Unitas와 함께한다. 스텔라(STELLA)는 ST Unitas의 인공지능 사원이다.  \n",
    "인간을 동경하는 스텔라는 최대한 많은 학생에게 혜택이 돌아가지 못하는 점을 늘 안타까워하였다.  \n",
    "혜택을 주기위해 많은 고민을 거듭하던 스텔라는 ST Unitas의 전설적인 “스카이에듀 치킨 기프티콘“  \n",
    "전략을 읽어보고 감명을 받아 이를 따라하기로 결심하였다. 너무 많은 치킨으로 회사에 큰 피해를 주면 안 되기에,  \n",
    "스텔라는 대회의 5등과 푼 문제 수는 같지만 패널티 차이로 수상하지 못한 학생들에게만 치킨 기프티콘을 보내주고자 한다.  \n",
    "  \n",
    "아쉽게도 2018년의 최신기술로도 인공지능 사원이 직접 프로그래밍을 할 수는 없어서, 여러분들이 스텔라를 도와주어야 한다.  \n",
    "shake! 순위는 아래와 같은 방식으로 정해진다고 할 때, 스텔라가 몇 개의 기프티콘을 구매해야 하는지 알아보자.  \n",
    "  \n",
    "각 참가자는 해결한 문제 개수와 패널티 총합을 가진다.  \n",
    "해결한 문제의 개수가 더 많은 참가자가 더 높은 순위를 가진다.  \n",
    "해결한 문제의 수가 같을 때, 패널티 총합이 더 작은 참가자가 더 높은 순위를 가진다.  \n",
    "  \n",
    "#### 입력  \n",
    "첫 줄에 참가자의 수 N(5 ≤ N ≤ 66)이 주어진다. 이후 N개의 줄에 걸쳐 각 참가자가 해결한 문제 개수와 패널티 총합이 주어진다.  \n",
    "각 참가자가 해결한 문제의 개수는 8개보다 작거나 같은 음이 아닌 정수이며 패널티 총합은 100,000보다 작거나 같은 음이 아닌 정수이다.  \n",
    "5등 학생은 적어도 한 문제 이상을 해결하였음이 보장되며, 한 문제 이상을 푼 학생 중 문제 수와 패널티가 모두 같은 학생은 존재하지 않는다.  \n",
    "  \n",
    "#### 출력\n",
    "한 줄에 5등과 해결한 문제 개수가 같지만 수상하지 못하는 학생의 수를 출력한다.  "
   ]
  },
  {
   "cell_type": "markdown",
   "metadata": {},
   "source": [
    "### ------------------------------------------------------------------------------"
   ]
  },
  {
   "cell_type": "code",
   "execution_count": 2,
   "metadata": {},
   "outputs": [
    {
     "name": "stdout",
     "output_type": "stream",
     "text": [
      "7\n",
      "7 620\n",
      "4 500\n",
      "2 420\n",
      "5 300\n",
      "4 510\n",
      "5 420\n",
      "4 340\n",
      "1\n"
     ]
    }
   ],
   "source": [
    "N = int(input())\n",
    "# 해결한 문제개수, 패널티.\n",
    "result = sorted([list(map(int, input().split())) for _ in range(N)], key = lambda x: (x[0], -x[1]), reverse=True)   \n",
    "ans = 0\n",
    "for i in range(5, N):\n",
    "    if result[i][0] == result[4][0]:\n",
    "        ans += 1\n",
    "    else:\n",
    "        break\n",
    "print(ans)"
   ]
  },
  {
   "cell_type": "markdown",
   "metadata": {},
   "source": [
    "## 3. 1918 후위표기식"
   ]
  },
  {
   "cell_type": "markdown",
   "metadata": {},
   "source": [
    "#### 문제\n",
    "수식은 일반적으로 3가지 표기법으로 표현할 수 있다. 연산자가 피연산자 가운데 위치하는 중위 표기법(일반적으로 우리가 쓰는 방법이다),  \n",
    "연산자가 피연산자 앞에 위치하는 전위 표기법(prefix notation), 연산자가 피연산자 뒤에 위치하는 후위 표기법(postfix notation)이 그것이다.  \n",
    "예를 들어 중위 표기법으로 표현된 a+b는 전위 표기법으로는 +ab이고, 후위 표기법으로는 ab+가 된다.  \n",
    "  \n",
    "이 문제에서 우리가 다룰 표기법은 후위 표기법이다. 후위 표기법은 위에서 말한 법과 같이 연산자가 피연산자 뒤에 위치하는 방법이다.  \n",
    "이 방법의 장점은 다음과 같다. 우리가 흔히 쓰는 중위 표기식 같은 경우에는 덧셈과 곱셈의 우선순위에 차이가 있어  \n",
    "왼쪽부터 차례로 계산할 수 없지만 후위 표기식을 사용하면 순서를 적절히 조절하여 순서를 정해줄 수 있다.  \n",
    "또한 같은 방법으로 괄호 등도 필요 없게 된다. 예를 들어 a+b\\*c를 후위 표기식으로 바꾸면 abc\\*+가 된다.  \n",
    "  \n",
    "중위 표기식을 후위 표기식으로 바꾸는 방법을 간단히 설명하면 이렇다.  \n",
    "우선 주어진 중위 표기식을 연산자의 우선순위에 따라 괄호로 묶어준다.  \n",
    "그런 다음에 괄호 안의 연산자를 괄호의 오른쪽으로 옮겨주면 된다.  \n",
    "  \n",
    "예를 들어 a+b\\*c는 (a+(b\\*c))의 식과 같게 된다.  \n",
    "그 다음에 안에 있는 괄호의 연산자 \\*를 괄호 밖으로 꺼내게 되면 (a+bc\\*)가 된다.   \n",
    "마지막으로 또 +를 괄호의 오른쪽으로 고치면 abc\\*+가 되게 된다.  \n",
    "  \n",
    "다른 예를 들어 그림으로 표현하면 A+B\\*C-D/E를 완전하게 괄호로 묶고 연산자를 이동시킬 장소를 표시하면 다음과 같이 된다.  \n",
    "  \n",
    "<img src=\"https://www.acmicpc.net/JudgeOnline/upload/201007/4.png\">  \n",
    "  \n",
    "이러한 사실을 알고 중위 표기식이 주어졌을 때 후위 표기식으로 고치는 프로그램을 작성하시오  \n",
    "  \n",
    "#### 입력\n",
    "첫째 줄에 중위 표기식이 주어진다. 단 이 수식의 피연산자는 A~Z의 문자로 이루어지며 수식에서 한 번씩만 등장한다.  \n",
    "그리고 -A+B와 같이 -가 가장 앞에 오거나 AB와 같이 \\*가 생략되는 등의 수식은 주어지지 않는다.  \n",
    "표기식은 알파벳 대문자와 +, -, \\*, /, (, )로만 이루어져 있으며, 길이는 100을 넘지 않는다.   \n",
    "  \n",
    "#### 출력\n",
    "첫째 줄에 후위표기식으로 바뀐 식을 출력하시오  "
   ]
  },
  {
   "cell_type": "markdown",
   "metadata": {},
   "source": [
    "### ------------------------------------------------------------------------------"
   ]
  },
  {
   "cell_type": "markdown",
   "metadata": {},
   "source": [
    "곱하기 나누기는 괄호로 묶어주고 연산자를 괄호 오른쪽으로 빼주기..  \n",
    "차례대로 검사해가면서..  \n",
    "문자는 순서대로 유지됨..   \n",
    "연산자는..한번 계산이 완료되면 (괄호가 닫히거나 우선순위 고려했을때 명확히 계산이 끝난것...  \n",
    "예를들어 A + B + C * D 이렇게 있으면 A + B뒤에 또 +가 나오므로 A+B는 계산이 끝남.. 따라서 일단 AB+가 되고,  \n",
    "그 뒤에 C\\*D가 붙어서 AB+CD\\*, 그 다음에 이 두 결과값을 더해줘야해서 AB+CD\\*+ 이렇게 된다..   \n",
    "괄호가 중첩된 경우..스택 이용해야할듯..?    \n",
    "(A+(B+(C+D\\*E)\\*F+(G+H))) 이 경우를 보자..  후위 표기식은 ABCDE\\*+F\\*+GH+++ 이렇게../  \n",
    "괄호로 시작..  \n",
    "parenthesis = 1이 되고..  \n",
    "일단 A는 바로 넣어주고..   \n",
    "+는 stack에 추가.. [+]  \n",
    "그 다음 괄호.. parenthesis = 2  \n",
    "그 다음 B도 넣어주고,  \n",
    "+는 또 stack에 추가.. [++]  \n",
    "그 다음 parenthesis = 3  \n",
    "C 넣어주고,  \n",
    "+stack에 추가.. [+++]  \n",
    "D넣어주고,  \n",
    "\\*stack에 추가. [+++\\*]  \n",
    "E넣어주고,  \n",
    "parenthesis = 2로 줄어듦! stack에서 두 개 빼서 결과에 뺀순서대로 결과에 넣어주기.. 현재 ABCDE\\*+ , stack은 [++]  \n",
    "\\*stack에 추가.. [++\\*]  \n",
    "F넣어주고..    \n",
    "그 다음오는게 \\*보다 우선순위가 낮은 +. stack에서 \\*빼서 결과에 추가해주고,, 현재 ABCDE\\*+F\\*  \n",
    "그리고 현재 괄호가 2중첩인데 또 top에있는 +와 뒤에 오는 +는 우선순위가 같으므로 stack에 있던 +를 빼서 결과에 추가.   현재 ABCDE\\*+F\\*+  \n",
    "이 이후에 다시 +를 stack에 추가..[++]  \n",
    "parenthesis = 3.  \n",
    "G 추가해주고,   \n",
    "+stack에 추가.. [+++]  \n",
    "H추가.  \n",
    "parenthesis = 2  stack에서 하나 꺼냄.. +추가.. 현재 ABCDE\\*+F\\*+GH+  \n",
    "parenthesis = 1  stack에서 하나 꺼냄.. +추가.  현재 ABCDE\\*+F\\*+GH++  \n",
    "parenthesis = 0  stack에서 마지막 하나 꺼냄.. +추가. 현재 ABCDE\\*+F\\*+GH+++\n",
    "\n"
   ]
  },
  {
   "cell_type": "code",
   "execution_count": 66,
   "metadata": {},
   "outputs": [
    {
     "name": "stdout",
     "output_type": "stream",
     "text": [
      "A+B*(C/D+E*(G+H))\n",
      "ABCD/EGH+*+*+\n"
     ]
    }
   ],
   "source": [
    "postfix = ''           # 후위표기로 바꾼결과.. \n",
    "parenthesis = 0        # 현재 괄호가 몇 개 중첩됐는지..\n",
    "priority = {'+':0, '-':0, '*':1, '/':1, '(':2}  # 우선순위..\n",
    "# 연산자 쌓아주기.. 괄호가 닫히거나, 한 괄호 안에서 연산자 우선순위가 같거나 낮은애가 오면 뺄 수 있음...\n",
    "# 괄호가 닫힌 이후에는 괄호의 수만큼만 원소가 포함돼있음..\n",
    "stack = []             \n",
    "for i in input():\n",
    "    # 문자는 바로 추가..\n",
    "    if i.isalpha():\n",
    "        postfix += i\n",
    "    # 여는 괄호라면..\n",
    "    elif i == '(':\n",
    "        stack.append(i)\n",
    "    # 닫는 괄호..그 괄호 하나 안에 있던 남은 연산자 다 빼주기..\n",
    "    elif i == ')':\n",
    "        k = stack.pop()\n",
    "        while k!='(':\n",
    "            postfix += k\n",
    "            k = stack.pop()\n",
    "    # 곱하기나 나머지.. 우선순위 높은애들..\n",
    "    elif i in '*/':\n",
    "        # 스택 맨 위에 있는애가 우선순위가 2이면..\n",
    "        while stack and priority[stack[-1]]==1:\n",
    "            postfix += stack.pop()\n",
    "        stack.append(i)\n",
    "        pass\n",
    "    # +, -의 경우..\n",
    "    else:\n",
    "        # stack top이 +, -인경우..\n",
    "        while stack and priority[stack[-1]]<2:\n",
    "            postfix += stack.pop()\n",
    "        stack.append(i)\n",
    "while stack:\n",
    "    postfix += stack.pop()\n",
    "print(postfix)"
   ]
  },
  {
   "cell_type": "markdown",
   "metadata": {},
   "source": [
    "됐다!!!"
   ]
  },
  {
   "cell_type": "code",
   "execution_count": null,
   "metadata": {
    "collapsed": true
   },
   "outputs": [],
   "source": [
    "# 백준! 앞뒤로 괄호를 넣으니까 더 쉽네... 얘도 고쳐쓰자.\n",
    "s='('+input()+')'\n",
    "K = []\n",
    "def f(c):\n",
    "    if c in '*/': return 2\n",
    "    if c in '+-)': return 1\n",
    "    return 0\n",
    "for c in s:\n",
    "    if c.isalpha(): print(c,end='')\n",
    "    elif c=='(':K.append(c)\n",
    "    else:\n",
    "        if K:\n",
    "            while f(K[-1])>=f(c): print(K.pop(),end='')\n",
    "        if c==')':K.pop()\n",
    "        else: K.append(c)"
   ]
  },
  {
   "cell_type": "code",
   "execution_count": 73,
   "metadata": {},
   "outputs": [
    {
     "name": "stdout",
     "output_type": "stream",
     "text": [
      "A+B*(C/D+E*(G+H))\n",
      "ABCD/EGH+*+*+\n"
     ]
    }
   ],
   "source": [
    "postfix = ''\n",
    "stack = []\n",
    "def p(i):\n",
    "    return 2 if i in '*/' else 1 if i in '+-)' else 0\n",
    "for i in f'({input()})':\n",
    "    if i.isalpha():\n",
    "        postfix += i\n",
    "    elif i == '(':\n",
    "        stack.append(i)\n",
    "    else:\n",
    "        if stack:\n",
    "            while p(stack[-1])>=p(i):\n",
    "                postfix += stack.pop()\n",
    "        if i == ')':\n",
    "            stack.pop()\n",
    "        else:\n",
    "            stack.append(i)        \n",
    "print(postfix)"
   ]
  },
  {
   "cell_type": "markdown",
   "metadata": {},
   "source": [
    "## 4. 16165. 걸그룹 마스터 준석이"
   ]
  },
  {
   "cell_type": "markdown",
   "metadata": {},
   "source": [
    "#### 문제\n",
    "정우는 소문난 걸그룹 덕후이다. 정우의 친구 준석이도 걸그룹을 좋아하지만 이름을 잘 외우지 못한다는 문제가 있었다.  \n",
    "정우는 친구를 위해 걸그룹 개인과 팀의 이름을 검색하여 외우게 하는 퀴즈 프로그램을 만들고자 한다.  \n",
    "  \n",
    "#### 입력\n",
    "첫 번째 줄에는 총 입력 받을 걸그룹의 수 N(0 < N < 100)과 맞혀야 할 문제의 수 M(0 < M < 100)을 입력받는다.  \n",
    "  \n",
    "두 번째 줄부터는 각 걸그룹마다 팀의 이름, 걸그룹의 인원 수, 멤버의 이름을 한 줄씩 차례대로 입력받는다.  \n",
    "팀과 멤버의 이름은 최대 100글자이며, 모든 글자는 알파벳 소문자이다.  \n",
    "하나의 걸그룹이나 서로 다른 두 걸그룹에 이름이 같은 두 멤버가 있는 경우는 없다.  \n",
    "  \n",
    "그 다음 줄부터는 M개의 퀴즈를 입력받는다. 각각의 퀴즈는 두 줄로 이루어져 있으며,  \n",
    "팀의 이름이나 멤버의 이름이 첫 줄에 주어지고 퀴즈의 종류를 나타내는 0 또는 1이 두 번째 줄에 주어진다.  \n",
    "퀴즈의 종류가 0일 경우 팀의 이름이 주어지며, 1일 경우 멤버의 이름이 주어진다.  \n",
    "  \n",
    "#### 출력\n",
    "첫 번째 줄부터 차례대로 퀴즈에 대한 답을 출력한다. 퀴즈의 종류가 0일 경우 해당 팀에 속한 멤버의 이름을 사전순으로 한 줄에 한 명씩 출력한다.  \n",
    "퀴즈의 종류가 1일 경우 해당 멤버가 속한 팀의 이름을 출력한다.  "
   ]
  },
  {
   "cell_type": "markdown",
   "metadata": {},
   "source": [
    "### ------------------------------------------------------------------------------"
   ]
  },
  {
   "cell_type": "code",
   "execution_count": null,
   "metadata": {
    "collapsed": true
   },
   "outputs": [],
   "source": [
    "# import sys\n",
    "# input = sys.stdin.readline\n",
    "N, M = map(int, input().split())\n",
    "info = {}\n",
    "for _ in range(N):\n",
    "    group_name = input().rstrip()\n",
    "    num = int(input())\n",
    "    names = sorted(input().rstrip() for _ in range(num))\n",
    "    info[group_name] = names\n",
    "for _ in range(M):\n",
    "    name = input().rstrip()\n",
    "    q = int(input())\n",
    "    # 1번 종류 문제. 멤버가 속한 팀의 이름 출력.\n",
    "    if q:\n",
    "        for k, v in info.items():\n",
    "            if name in v:\n",
    "                print(k)\n",
    "                break\n",
    "    # 0번 문제.. 사전순 출력.\n",
    "    else:\n",
    "        print('\\n'.join(info[name]))"
   ]
  },
  {
   "cell_type": "markdown",
   "metadata": {},
   "source": [
    "멤버 이름: 팀이름도 전부 딕셔너리에 추가해서 풀 수도..."
   ]
  },
  {
   "cell_type": "markdown",
   "metadata": {},
   "source": [
    "## 5. 1941 소문난 칠공주 "
   ]
  },
  {
   "cell_type": "markdown",
   "metadata": {},
   "source": [
    "#### 문제\n",
    "총 25명의 여학생들로 이루어진 여학생반은 5\\*5의 정사각형 격자 형태로 자리가 배치되었고,  \n",
    "얼마 지나지 않아 이다솜과 임도연이라는 두 학생이 두각을 나타내며 다른 학생들을 휘어잡기 시작했다.  \n",
    "곧 모든 여학생이 ‘이다솜파’와 ‘임도연파’의 두 파로 갈라지게 되었으며,  \n",
    "얼마 지나지 않아 ‘임도연파’가 세력을 확장시키며 ‘이다솜파’를 위협하기 시작했다.  \n",
    "  \n",
    "위기의식을 느낀 ‘이다솜파’의 학생들은 과감히 현재의 체제를 포기하고,  \n",
    "‘소문난 칠공주’를 결성하는 것이 유일한 생존 수단임을 깨달았다. ‘소문난 칠공주’는 다음과 같은 규칙을 만족해야 한다.  \n",
    "  \n",
    "이름이 이름인 만큼, 7명의 여학생들로 구성되어야 한다.  \n",
    "강한 결속력을 위해, 7명의 자리는 서로 가로나 세로로 반드시 인접해 있어야 한다.  \n",
    "화합과 번영을 위해, 반드시 ‘이다솜파’의 학생들로만 구성될 필요는 없다.  \n",
    "그러나 생존을 위해, ‘이다솜파’가 반드시 우위를 점해야 한다.  \n",
    "따라서 7명의 학생 중 ‘이다솜파’의 학생이 적어도 4명 이상은 반드시 포함되어 있어야 한다.  \n",
    "여학생반의 자리 배치도가 주어졌을 때, ‘소문난 칠공주’를 결성할 수 있는 모든 경우의 수를 구하는 프로그램을 작성하시오.  \n",
    "  \n",
    "#### 입력\n",
    "'S'(이다‘솜’파의 학생을 나타냄) 또는 'Y'(임도‘연’파의 학생을 나타냄)을 값으로 갖는 5\\*5 행렬이 공백 없이 첫째 줄부터 다섯 줄에 걸쳐 주어진다.  \n",
    "  \n",
    "#### 출력\n",
    "첫째 줄에 ‘소문난 칠공주’를 결성할 수 있는 모든 경우의 수를 출력한다.  "
   ]
  },
  {
   "cell_type": "markdown",
   "metadata": {},
   "source": [
    "### ------------------------------------------------------------------------------"
   ]
  },
  {
   "cell_type": "markdown",
   "metadata": {},
   "source": [
    "7명을 찾는데, 이다솜파가 4명 이상이어야 함.. 모든 경우를 구해야..  BFS도 가능하려나   \n",
    "중간에 임도연파가 4명이 되면 그 경우는 바로 종료.  BackTracking!  \n",
    "배열 왼쪽 위부터 검사.. 다 끝난경우 그 칸은 체크... 걔가 포함된 모든 경우 검사한것...   \n",
    "지금까지 쉬운 문제들의 경우 각 좌표를 한번씩만 방문..  \n",
    "하지만 이 경우엔 여러번 방문할 수 있음...  어떻게 효율적으로 처리해주지?? set을 이용해야하나??  ㅜㅜ  \n",
    "범위도 그리 크지 않으니까... 다 체크해서 set으로.."
   ]
  },
  {
   "cell_type": "code",
   "execution_count": null,
   "metadata": {
    "collapsed": true
   },
   "outputs": [],
   "source": [
    "from copy import deepcopy\n",
    "A = [list(map(int, input().split())) for _ in range(5)]\n",
    "visit = [[False]*5 for _ in range(5)]\n",
    "ans = 0\n",
    "# 현재좌표부터 시작해서 가능한 경우를 모두 찾아 조합 comb에 더해줌..\n",
    "# x, y좌표, 임도연파 학생수.. 현재 학생수\n",
    "# copy된 visit을 기준으로 진행..\n",
    "def dfs(x,y,n_y=0,l=0):\n",
    "    # 임도연파이면 n_y에 1추가해주고, 4명이상인지 검사!\n",
    "    if A[y][x]=='Y':\n",
    "        n_y += 1\n",
    "        if n_y>3:\n",
    "            return\n",
    "    # 방문한칸 안됨..\n",
    "    if v_copy[y][x]:\n",
    "        return\n",
    "    l += 1\n",
    "    if l==7:\n",
    "        # 전역변수 설정..\n",
    "        global ans\n",
    "        ans += 1  \n",
    "        v_copy[y][x] = False\n",
    "        return\n",
    "    if x<4:\n",
    "        if not visit[y][x+1]:\n",
    "            n_y += int(A[y][x+1]=='Y')\n",
    "    if x>0:\n",
    "        n_y += int(A[y][x+1]=='Y')\n",
    "    if y<4:\n",
    "        \n",
    " # 검사!   if y>0\n",
    "    \n",
    ":\n",
    "    \n",
    "# 마지막 한 줄은 검사할 필요 없다..\n",
    "for y in range(4):\n",
    "    for x in range(5):\n",
    "        if not visit[y][x]:\n",
    "            n_y = int(A[y][x]=='Y')\n",
    "            visit[y][x] = True\n",
    "            v_copy = deepcopy(visit)\n",
    "            comb = set()\n",
    "            dfs(x,y)\n",
    "            "
   ]
  },
  {
   "cell_type": "markdown",
   "metadata": {
    "collapsed": true
   },
   "source": [
    "이런식으로 접근하는건 너무 어렵다...!!   \n",
    "총 25명이 있으니까, $_{25}C_{7}$ 해서 전체 480700. 48만 경우의 수 중에서 임도연이 3개 이하이고, 모두 붙어있는 경우를 찾자..!!"
   ]
  },
  {
   "cell_type": "code",
   "execution_count": null,
   "metadata": {
    "collapsed": true
   },
   "outputs": [],
   "source": [
    "from itertools import combinations\n",
    "from collections import deque\n",
    "A = [input() for _ in range(5)]\n",
    "info = {5*y+x:(x,y, A[y][x]) for x in range(5) for y in range(5)}  # y, x, 무슨파인지..\n",
    "ans = 0\n",
    "# 0~24번 중 7명 선택.\n",
    "for case in combinations(range(25), 7):\n",
    "    # 선택한 애들 돌면서..\n",
    "    # 1. 임도연파가 4개 이상이면 안되는경우. 바로 통과.\n",
    "    if sum(1 for i in case if info[i][2]=='Y')>3:\n",
    "        continue\n",
    "    # 2. 이제 붙어있는지를 검사..(x,y)를 받고 얘를 더한값을 정렬해서 차이를 보기.. 정확하지 않은뎁..ㅜㅠㅠ\n",
    "    coords = set((info[k][0],info[k][1]) for k in case)\n",
    "    q = deque()\n",
    "    q.append(coords.pop())\n",
    "    while q:\n",
    "        x, y = q.popleft()\n",
    "        if x>0 and (x-1,y) in coords:\n",
    "            q.append((x - 1, y))\n",
    "            coords.remove((x-1,y))\n",
    "        if x<4 and (x+1, y) in coords:\n",
    "            q.append((x + 1, y))\n",
    "            coords.remove((x + 1, y))\n",
    "        if y>0 and (x, y-1) in coords:\n",
    "            q.append((x, y - 1))\n",
    "            coords.remove((x, y - 1))\n",
    "        if y<4 and (x, y+1) in coords:\n",
    "            q.append((x, y + 1))\n",
    "            coords.remove((x, y + 1))\n",
    "    if not coords:\n",
    "        ans += 1\n",
    "print(ans)"
   ]
  },
  {
   "cell_type": "markdown",
   "metadata": {},
   "source": [
    "2528ms.. 어떻게 하면 더 줄일 수 있을까..."
   ]
  },
  {
   "cell_type": "code",
   "execution_count": null,
   "metadata": {
    "collapsed": true
   },
   "outputs": [],
   "source": [
    "# 백준... 뭐한거냐..\n",
    "import sys\n",
    "sys.setrecursionlimit(100000000)\n",
    "# def input(): return sys.stdin.readline()[:-1]\n",
    "def iin(): return int(input())\n",
    "def impin(): return map(int, input().split())\n",
    "def irrin(): return [int(x) for x in input().split()]\n",
    "def imrin(n): return [int(input()) for _ in range(n)]\n",
    "\n",
    "\n",
    "def dfs(x, y, krr):\n",
    "    if 0 <= x < 5 and 0 <= y < 5:\n",
    "        if not krr[x][y]:\n",
    "            return 0\n",
    "        krr[x][y] = None\n",
    "        s = 0\n",
    "        for d in ((0, 1), (1, 0), (-1, 0), (0, -1)):\n",
    "            s += dfs(x+d[0], y+d[1], krr)\n",
    "        return s+1\n",
    "    return 0\n",
    "\n",
    "def get(n, s, li):\n",
    "    if n==7:\n",
    "        if s>=4:\n",
    "            krr = [[y for y in x] for x in trr]\n",
    "            krr[li//5][li%5] = arr[li//5][li%5]\n",
    "            if dfs(li//5, li%5, krr)==7:\n",
    "                trr[li//5][li%5] = arr[li//5][li%5]\n",
    "                # for x in trr: print(x)\n",
    "                # print()\n",
    "                trr[li//5][li%5] = None\n",
    "                return 1\n",
    "            return 0\n",
    "        return 0\n",
    "    if 4-s > 7-n:\n",
    "        return 0\n",
    "    trr[li//5][li%5] = arr[li//5][li%5]\n",
    "    k = 0\n",
    "    for i in range(li+1, min(li+8, 25)):\n",
    "        # if n==1 or (li//5>0 and trr[li//5-1][li%5]) or (li%5>0 and trr[li//5][li%5-1]):\n",
    "            k += get(n+1, s+(1 if arr[i//5][i%5]=='S' else 0), i)\n",
    "    trr[li//5][li%5] = None\n",
    "    return k\n",
    "\n",
    "\n",
    "arr = [input().strip() for _ in range(5)]\n",
    "trr = [[None]*5 for _ in range(5)]\n",
    "k = 0\n",
    "for i in range(5):\n",
    "    for j in range(5):\n",
    "        k += get(1, 1 if arr[i][j]=='S' else 0, i*5+j)\n",
    "print(k)\n"
   ]
  },
  {
   "cell_type": "code",
   "execution_count": null,
   "metadata": {
    "collapsed": true
   },
   "outputs": [],
   "source": [
    "# 수정..\n",
    "# 백준... 뭐한거냐..\n",
    "import sys\n",
    "sys.setrecursionlimit(10**5)\n",
    "\n",
    "# 붙어있는지 검사.\n",
    "def dfs(x, y, krr):\n",
    "    if 0 <= x < 5 and 0 <= y < 5:\n",
    "        if not krr[x][y]:\n",
    "            return 0\n",
    "        krr[x][y] = None\n",
    "        s = 0\n",
    "        for d in ((0, 1), (1, 0), (-1, 0), (0, -1)):\n",
    "            s += dfs(x+d[0], y+d[1], krr)\n",
    "        return s+1\n",
    "    return 0\n",
    "\n",
    "\n",
    "# n: 현재 인원수 / s: 이다솜파 인원수 / li: 번호... 0~24  조건에 맞게 찾으면 1, 아니면 0\n",
    "def get(n, s, li):\n",
    "    if n==7:\n",
    "        if s>=4:\n",
    "            krr = [[y for y in x] for x in trr]\n",
    "            krr[li//5][li%5] = arr[li//5][li%5]\n",
    "            if dfs(li//5, li%5, krr)==7:\n",
    "                trr[li//5][li%5] = arr[li//5][li%5]\n",
    "                trr[li//5][li%5] = None\n",
    "                return 1\n",
    "            return 0\n",
    "        return 0\n",
    "    # 임도연파가 4명 이상인지.. y = n-s\n",
    "    if 4-s > 7-n:\n",
    "        return 0\n",
    "    trr[li//5][li%5] = arr[li//5][li%5]\n",
    "    k = 0\n",
    "    #\n",
    "    for i in range(li+1, min(li+8, 25)):\n",
    "        k += get(n+1, s+(1 if arr[i//5][i%5]=='S' else 0), i)\n",
    "    trr[li//5][li%5] = None\n",
    "    return k\n",
    "\n",
    "\n",
    "arr = [input() for _ in range(5)]\n",
    "trr = [[None]*5 for _ in range(5)]\n",
    "k = 0\n",
    "for i in range(5):\n",
    "    for j in range(5):\n",
    "        k += get(1, 1 if arr[i][j]=='S' else 0, i*5+j)\n",
    "print(k)"
   ]
  },
  {
   "cell_type": "markdown",
   "metadata": {},
   "source": [
    "## 6. 5525 IOIOI"
   ]
  },
  {
   "cell_type": "markdown",
   "metadata": {},
   "source": [
    "#### 문제\n",
    "N+1개의 I와 N개의 O로 이루어져 있으면, I와 O이 교대로 나오는 문자열을 $P_N$이라고 한다.  \n",
    "  \n",
    "$P_1$ IOI  \n",
    "$P_2$ IOIOI  \n",
    "$P_3$ IOIOIOI  \n",
    "$P_N$ IOIOI...OI (O가 N개)  \n",
    "I와 O로만 이루어진 문자열 S와 정수 N이 주어졌을 때, S안에 $P_N$이 몇 군데 포함되어 있는지 구하는 프로그램을 작성하시오.  \n",
    "  \n",
    "#### 입력\n",
    "첫째 줄에 N이 주어진다. 둘째 줄에는 S의 길이 M이 주어지며, 셋째 줄에 S가 주어진다. (1 ≤ N ≤ 1,000,000, 2N+1 ≤ M ≤ 1,000,000)  \n",
    "  \n",
    "#### 출력\n",
    "S에 $P_N$이 몇 군데 포함되어 있는지 출력한다.  "
   ]
  },
  {
   "cell_type": "markdown",
   "metadata": {},
   "source": [
    "### ------------------------------------------------------------------------------"
   ]
  },
  {
   "cell_type": "code",
   "execution_count": 11,
   "metadata": {},
   "outputs": [
    {
     "name": "stdout",
     "output_type": "stream",
     "text": [
      "1\n",
      "13\n",
      "OOIOIOIOIIOII\n",
      "4\n"
     ]
    }
   ],
   "source": [
    "N = int(input())\n",
    "Pn = 'I'+'OI'*N\n",
    "M = int(input())\n",
    "S = input()\n",
    "idx = 0\n",
    "ans = 0\n",
    "while idx<M:\n",
    "    if S[idx:idx+(2*N+1)]==Pn:\n",
    "        ans += 1\n",
    "        idx += 2\n",
    "    else:\n",
    "        idx += 1\n",
    "print(ans)"
   ]
  },
  {
   "cell_type": "markdown",
   "metadata": {},
   "source": [
    "1  \n",
    "13  \n",
    "OOIOIOIOIIOII  \n",
    "\n",
    "---\n",
    "4"
   ]
  },
  {
   "cell_type": "code",
   "execution_count": 24,
   "metadata": {},
   "outputs": [
    {
     "name": "stdout",
     "output_type": "stream",
     "text": [
      "2\n",
      "13\n",
      "IIOIOIOOIOIOI\n",
      "현재 인덱스 = 0\n",
      "현재 인덱스 = 1\n",
      "하나 찾고..현재 인덱스 = 6\n",
      "이어서 또 찾음.. 인덱스 = 8\n",
      "이어서 또 찾음.. 인덱스 = 10\n",
      "이어서 또 찾음.. 인덱스 = 12\n",
      "4\n"
     ]
    }
   ],
   "source": [
    "N = int(input())\n",
    "M = int(input())\n",
    "S = input()\n",
    "\n",
    "idx = 0\n",
    "ans = 0\n",
    "while idx<M-(2*N):\n",
    "    print(f'현재 인덱스 = {idx}')\n",
    "    # 일단 'I'를 찾아야함.. \n",
    "    if S[idx] == 'I':\n",
    "        # 'I'의 수! 얘가 N개가 되면 하나 찾은거\n",
    "        n_I = 0 \n",
    "        # 이전값이 'I'인가! 1이면 ㅇㅇ 0이면 ㄴㄴ\n",
    "        i = 1\n",
    "        idx += 1\n",
    "        while n_I<N:\n",
    "            if S[idx] == 'O' and i:\n",
    "                i = 0\n",
    "                idx += 1\n",
    "            elif S[idx] == 'I' and not i:\n",
    "                i = 1\n",
    "                n_I += 1\n",
    "                idx += 1\n",
    "            # 중복발생!\n",
    "            else:\n",
    "                break\n",
    "        # 하나 찾음.. 여기서 두개가 다시 반복되면 또 1 더해줄 수 있다.\n",
    "        if n_I == N:\n",
    "            print(f'하나 찾고..현재 인덱스 = {idx}')\n",
    "            ans += 1\n",
    "            while idx<M-1:\n",
    "                if S[idx] == 'O':\n",
    "                    idx += 1\n",
    "                    if S[idx] == 'I':\n",
    "                        print(f'이어서 또 찾음.. 인덱스 = {idx}')\n",
    "                        ans += 1\n",
    "                        idx += 1\n",
    "                    else:\n",
    "                        break\n",
    "                else:\n",
    "                    break\n",
    "            \n",
    "    else:\n",
    "        idx += 1\n",
    "print(ans)"
   ]
  },
  {
   "cell_type": "markdown",
   "metadata": {},
   "source": [
    "308ms.. 느리고, 길다.. 스택 이용해보자. 조건에 맞게 찾고, 하나 찾으면 끝에서 두 개 pop하고 다시 찾기..   \n",
    "중복되면 스택 다 없애고 다시."
   ]
  },
  {
   "cell_type": "code",
   "execution_count": null,
   "metadata": {
    "collapsed": true
   },
   "outputs": [],
   "source": [
    "N = int(input())\n",
    "M = int(input())\n",
    "S = input()\n",
    "\n",
    "st = []\n",
    "idx = 0\n",
    "while idx<M:\n",
    "    if S[i] == 'I':\n",
    "        st.append(1)\n",
    "        idx += 1\n",
    "        # 0의 개수\n",
    "        n_O = 0\n",
    "        while idx<M:\n",
    "            \n",
    "            \n",
    "    "
   ]
  },
  {
   "cell_type": "code",
   "execution_count": null,
   "metadata": {
    "collapsed": true
   },
   "outputs": [],
   "source": [
    "# 백준.. re 이용..\n",
    "import re\n",
    "n = int(input())\n",
    "input()\n",
    "print(sum(max((len(i)-1)//2-n+1, 0) for i in re.findall('I(?:OI)+', input())))"
   ]
  },
  {
   "cell_type": "markdown",
   "metadata": {},
   "source": [
    "## 7. 6324. URLs"
   ]
  },
  {
   "cell_type": "markdown",
   "metadata": {},
   "source": [
    "#### 문제\n",
    "In the early nineties, the World Wide Web (WWW) was invented.  \n",
    "Nowadays, most people think that the WWW simply consists of all the pretty \n",
    "(or not so pretty) HTML-pages that you can read with your WWW browser.  \n",
    "But back then, one of the main intentions behind the design of the WWW was to unify several existing communication protocols.  \n",
    "  \n",
    "Then (and even now), information on the Internet was available via a multitude of channels: FTP, HTTP, E-Mail, News, Gopher$^2$, and many more.  \n",
    "Thanks to the WWW, all these services can now be uniformly addressed via URLs (Uniform Resource Locators).  \n",
    "The syntax of URLs is defined in the Internet standard RFC 1738. For our problem,  \n",
    "we consider a simplified version of the syntax, which is as follows:  \n",
    "  \n",
    "    < protocol > \"://\" < host > [ \":\" < port > ] [ \"/\" < path > ]\n",
    "\n",
    "The square brackets [] mean that the enclosed string is optional and may or may not appear. Examples of URLs are the following:  \n",
    "  \n",
    "    http://www.informatik.uni-ulm.de/acm\n",
    "    ftp://acm.baylor.edu:1234/pub/staff/mr-p\n",
    "    gopher://veryold.edu\n",
    "More specifically,  \n",
    "  \n",
    "< protocol > is always one of http, ftp or gopher.  \n",
    "< host > is a string consisting of alphabetic (a-z, A-Z) or numeric (0-9) characters and points (.).  \n",
    "< port > is a positive integer, smaller than 65536.  \n",
    "< path > is a string that contains no spaces.  \n",
    "You are to write a program that parses an URL into its components.  \n",
    "  \n",
    "$^2$The ancestor of today’s WWW. Now nearly extinct, but quite important when the WWW was invented.  \n",
    "  \n",
    "#### 입력\n",
    "The input starts with a line containing a single integer n, the number of URLs in the input file.   \n",
    "The following n lines contain one URL each, in the format described above. The URLs will consist of at most 60 characters each.   \n",
    "  \n",
    "#### 출력\n",
    "For each URL in the input first print the number of the URL, as shown in the sample output.  \n",
    "Then print four lines, stating the protocol, host, port and path specified by the URL.  \n",
    "If the port and/or path are not given in the URL, print the string < default > instead.  \n",
    "Adhere to the format shown in the sample output.  \n",
    "  \n",
    "Print a blank line after each test case.  "
   ]
  },
  {
   "cell_type": "markdown",
   "metadata": {},
   "source": [
    "### ------------------------------------------------------------------------------"
   ]
  },
  {
   "cell_type": "markdown",
   "metadata": {},
   "source": [
    "< protocol > \"://\" < host > [ \":\" < port > ] [ \"/\" < path > ]"
   ]
  },
  {
   "cell_type": "code",
   "execution_count": null,
   "metadata": {
    "collapsed": true
   },
   "outputs": [],
   "source": [
    "n = int(input())\n",
    "URLs = [input() for _ in range(n)]\n",
    "for i in range(1, n + 1):\n",
    "    url = input()\n",
    "    protocol, url = url.split('://')\n",
    "    if '/' in url:\n",
    "        url, path = url.split('/', 1)\n",
    "    else:\n",
    "        path = '<default>'\n",
    "    if ':' in url:\n",
    "        host, port = url.split(':')\n",
    "    else:\n",
    "        host = url\n",
    "        port = '<default>'\n",
    "    print(f\"URL #{i}\\n{'Protocol'.ljust(9)}= {protocol}\\n{'Host'.ljust(9)}= {host}\\n{'Port'.ljust(9)}= {port}\\n{'Path'.ljust(9)}= {path}\", end='\\n\\n')"
   ]
  },
  {
   "cell_type": "markdown",
   "metadata": {},
   "source": [
    "런타임에러??? 왜?? f-string은 될텐데.."
   ]
  },
  {
   "cell_type": "code",
   "execution_count": null,
   "metadata": {
    "collapsed": true
   },
   "outputs": [],
   "source": [
    "n = int(input())\n",
    "for i in range(1, n + 1):\n",
    "    url = input()\n",
    "    protocol, url = url.split('://')\n",
    "    if '/' in url:\n",
    "        url, path = url.split('/', 1)\n",
    "    else:\n",
    "        path = '<default>'\n",
    "    if ':' in url:\n",
    "        host, port = url.split(':', 1)\n",
    "    else:\n",
    "        host = url\n",
    "        port = '<default>'\n",
    "    print(f\"URL #{i}\\n{'Protocol'.ljust(9)}= {protocol}\\n{'Host'.ljust(9)}= {host}\\n{'Port'.ljust(9)}= {port}\\n{'Path'.ljust(9)}= {path}\")\n",
    "    if i==n:\n",
    "        break\n",
    "    print()"
   ]
  },
  {
   "cell_type": "markdown",
   "metadata": {},
   "source": [
    "왜 런타임에러냐 ㅜㅜ"
   ]
  },
  {
   "cell_type": "code",
   "execution_count": null,
   "metadata": {
    "collapsed": true
   },
   "outputs": [],
   "source": [
    "for i in range(1,int(input())+1):\n",
    "    url = input()\n",
    "    protocol,url=url.split('://',1)\n",
    "    if'/'in url:\n",
    "        url,path=url.split('/',1)\n",
    "    else:\n",
    "        path='<default>'\n",
    "    if':'in url:\n",
    "        host,port=url.split(':', 1)\n",
    "    else:\n",
    "        host=url\n",
    "        port='<default>'\n",
    "    print(f\"URL #{i}\\nProtocol = {protocol}\\nHost     = {host}\\nPort     = {port}\\nPath     = {path}\\n\")"
   ]
  },
  {
   "cell_type": "markdown",
   "metadata": {},
   "source": [
    "하하하.... 문제 꼼꼼히 풀자!! 쫌..!!"
   ]
  },
  {
   "cell_type": "markdown",
   "metadata": {},
   "source": [
    "## 8. 4217 신성문자"
   ]
  },
  {
   "cell_type": "markdown",
   "metadata": {},
   "source": [
    "### 문제\n",
    "고고학자는 초기 문명을 이해하기 위해서 고대 언어로 된 글을 공부하기도 한다.  \n",
    "  \n",
    "이집트는 3000년전에 각종 동물이나 사물, 신체의 모습을 본딴 고대 언어 \"신성 문자\"를 만들었다.  \n",
    "  \n",
    "이 문제에서, 아래와 같은 글자 여섯개를 인식하는 프로그램을 작성하시오.  \n",
    "\n",
    "<img src=\"https://www.acmicpc.net/upload/images/egypt.png\">\n",
    "  \n",
    "### 입력\n",
    "입력은 여러 개의 테스트 케이스로 이루어져 있다. 각 테스트 케이스는 하나 또는 그 이상의 신성 문자를 포함하는 그림으로 이루어져 있다.  \n",
    "그림은 1 또는 0으로 이루어져 있고, 1은 검정 픽셀, 0은 흰색 픽셀이다.  \n",
    "  \n",
    "입력 데이터에서 각각의 줄은 16진수로 인코딩 되어 있다. 예를 들어, 여덟 픽셀 10011100은 9c로 인코딩 되어 있다.  \n",
    "16진수 인코딩에서 사용되는 문자는 0-9와 a-f이다.  \n",
    "  \n",
    "첫 줄은 H와 W로 이루어져 있다. H(0 < H ≤ 200)는 줄의 수, W(0 < W ≤ 50)는 각 줄에 있는 16진수 문자의 개수이다.  \n",
    "다음 H개의 줄에는 그림이 주어진다. 입력으로 주어지는 그림은 다음과 같은 규칙을 만족한다.  \n",
    "  \n",
    "이미지는 문제의 설명에 주어진 6개의 신성 문자만 포함한다.  \n",
    "모든 이미지는 적어도 1개의 올바른 신성 문자를 포함한다.  \n",
    "모든 검정 픽셀은 올바른 신성 문자의 일부이다.  \n",
    "신성 문자는 검정 픽셀이 이어진 형태이다. 모든 검정 픽셀의 위, 아래, 왼쪽, 오른쪽 픽셀 중 하나는 검정 픽셀이다.  \n",
    "신성 문자는 서로 접하지 않으며, 한 문자 안에 또다른 문자가 포함된 경우는 없다.  \n",
    "두 검정 픽셀이 대각선 방향으로 접한다면, 항상 두 픽셀은 공통으로 접하는 검정 픽셀이 있다.  \n",
    "신성 문자는 비뚤어져 있을 수도 있다. 하지만, 그 모양은 항상 문제에 주어진 그림과 같다.  \n",
    "마지막 테스트 케이스의 다음에는 0 2개가 주어진다.  \n",
    "  \n",
    "### 출력\n",
    "각각의 테스트 케이스에 대해서, 케이스 번호를 출력한 뒤, 이미지에 쓰여 있는 신성 문자를 출력하나. 이때, 다음과 같은 코드를 사용한다.  \n",
    "  \n",
    "Ankh: A  \n",
    "Wedjat: J  \n",
    "Djed: D  \n",
    "Scarab: S  \n",
    "Was: W  \n",
    "Akhet: K  \n",
    "이미지에 쓰여 있는 문자를 알파벳 순서대로 출력하며, 예제 출력의 형식을 따르면 된다.  "
   ]
  },
  {
   "cell_type": "markdown",
   "metadata": {},
   "source": [
    "### ------------------------------------------------------------------------------"
   ]
  },
  {
   "cell_type": "markdown",
   "metadata": {},
   "source": [
    "전혀 감이 안온다. 비뚤어져 있는걸 어떻게 처리??  \n",
    "일단 대칭??  \n",
    "!! 빈 공간의 개수!!   \n",
    "\n",
    "    Ankh: A        빈공간 1개.\n",
    "    Wedjat: J      빈공간 3개\n",
    "    Djed: D        빈공간 5개\n",
    "    Scarab: S      빈공간 4개\n",
    "    Was: W         빈공간 0개\n",
    "    Akhet: K       빈공간 2개"
   ]
  },
  {
   "cell_type": "markdown",
   "metadata": {},
   "source": [
    "빈공간을 어떻게 구할까??? 0인애들 BFS로 몇구역으로 나뉘나 찾기??  일단 16진수인거 바꿔줘야...   \n",
    "0인애들 개수는 세겠는데.. 어느 문자에 구멍이 몇갠지는 어떻게 알아야하나..  \n",
    "일단 1인애들 bfs로 다 이어서 문자 하나는 찾을 수 있어.. 근데 그 문자 안에 구멍이 있는지 확인하려면??  \n",
    "범위를 알아야 하는데.  일단 바탕에 있는 0들 다 방문체크해버리고.. 근데 가장자리에 1이 있으면 안될수도 있는뎅 ㅠㅠ  \n",
    "일단 바탕 0 한번에 없앨 수 있다고 가정하고 풀자.."
   ]
  },
  {
   "cell_type": "code",
   "execution_count": null,
   "metadata": {
    "collapsed": true
   },
   "outputs": [],
   "source": [
    "from collections import deque, defaultdict\n",
    "import sys\n",
    "input = sys.stdin.readline\n",
    "hex_dic = {'0': '0000', '1': '0001', '2': '0010', '3': '0011', '4': '0100', '5': '0101', '6': '0110', '7': '0111',\n",
    "           '8': '1000', '9': '1001', 'a': '1010', 'b': '1011', 'c': '1100', 'd': '1101', 'e': '1110', 'f': '1111'}\n",
    "# 구멍개수:문자\n",
    "hole_dic = {0: 'W', 1: 'A', 2: 'K', 3: 'J', 4: 'S', 5: 'D'}\n",
    "tc = 0\n",
    "while 1:\n",
    "    # input\n",
    "    H, W = map(int, input().split())\n",
    "    # 종료조건\n",
    "    if H == 0:\n",
    "        break\n",
    "    # 현재 몇번 case인지..\n",
    "    tc += 1\n",
    "    # 그림 배열..\n",
    "    paint = []\n",
    "    # H줄 받아서 바꾸고 추가..\n",
    "    for _ in range(H):\n",
    "        row = ''\n",
    "        for i in input().rstrip():\n",
    "            row += hex_dic[i]\n",
    "        paint.append(list(row))\n",
    "    visit = [[False] * (W * 4) for _ in range(H)]\n",
    "\n",
    "    # 바탕에 0 다 찾아 방문체크.\n",
    "    q = deque()\n",
    "    q.append((0, 0))\n",
    "    visit[0][0] = True\n",
    "    while q:\n",
    "        x, y = q.popleft()\n",
    "        if x > 0 and not visit[y][x - 1] and paint[y][x - 1] == '0':\n",
    "            q.append((x - 1, y))\n",
    "            visit[y][x - 1] = True\n",
    "        if x < (W * 4) - 1 and not visit[y][x + 1] and paint[y][x + 1] == '0':\n",
    "            q.append((x + 1, y))\n",
    "            visit[y][x + 1] = True\n",
    "        if y > 0 and not visit[y - 1][x] and paint[y - 1][x] == '0':\n",
    "            q.append((x, y - 1))\n",
    "            visit[y - 1][x] = True\n",
    "        if y < H - 1 and not visit[y + 1][x] and paint[y + 1][x] == '0':\n",
    "            q.append((x, y + 1))\n",
    "            visit[y + 1][x] = True\n",
    "\n",
    "    # 포함된 문자들..\n",
    "    chars = ''\n",
    "    # 문자 번호..\n",
    "    num = 0\n",
    "    # 각 문자의 구멍이 몇갠지..\n",
    "    char_hole = defaultdict(int)\n",
    "    # 이제 문자 찾기.. 반드시 한 문자를 찾고 나서 그 안에 구멍(0)이 나온다.!!\n",
    "    for y in range(H):\n",
    "        for x in range(W*4):\n",
    "            # 일단 문자 하나 찾아줌.. 얘가 뭔지는 나중에 결정\n",
    "            if not visit[y][x] and paint[y][x] == '1':\n",
    "                # 그 다음 번호로 붙여주기\n",
    "                num += 1\n",
    "                q = deque()\n",
    "                visit[y][x] = True\n",
    "                paint[y][x] = num\n",
    "                q.append((x, y))\n",
    "                while q:\n",
    "                    cx, cy = q.popleft()\n",
    "                    if cx > 0 and not visit[cy][cx - 1] and paint[cy][cx - 1] == '1':\n",
    "                        visit[cy][cx - 1] = True\n",
    "                        paint[cy][cx - 1] = num\n",
    "                        q.append((cx - 1, cy))\n",
    "                    if cx < (W * 4) - 1 and not visit[cy][cx + 1] and paint[cy][cx + 1] == '1':\n",
    "                        visit[cy][cx + 1] = True\n",
    "                        paint[cy][cx + 1] = num\n",
    "                        q.append((cx + 1, cy))\n",
    "                    if cy > 0 and not visit[cy - 1][cx] and paint[cy - 1][cx] == '1':\n",
    "                        visit[cy - 1][cx] = True\n",
    "                        paint[cy - 1][cx] = num\n",
    "                        q.append((cx, cy - 1))\n",
    "                    if cy < H - 1 and not visit[cy + 1][cx] and paint[cy + 1][cx] == '1':\n",
    "                        visit[cy + 1][cx] = True\n",
    "                        paint[cy + 1][cx] = num\n",
    "                        q.append((cx, cy + 1))\n",
    "\n",
    "            # 그 다음 남은 구멍들을 통해서 찾아준 문자들이 뭔지 정보 update해가기\n",
    "            elif not visit[y][x] and paint[y][x] == '0':\n",
    "                # 몇번 문자 안의 구멍인지..\n",
    "                n_hole = paint[y][x - 1]\n",
    "                # 일단 그 문자의 구멍 하나 추가해주기!\n",
    "                char_hole[n_hole] += 1\n",
    "                q = deque()\n",
    "                q.append((x, y))\n",
    "                while q:\n",
    "                    cx, cy = q.popleft()\n",
    "                    if cx > 0 and not visit[cy][cx - 1] and paint[cy][cx - 1] == '0':\n",
    "                        visit[cy][cx - 1] = True\n",
    "                        q.append((cx - 1, cy))\n",
    "                    if cx < (W * 4) - 1 and not visit[cy][cx + 1] and paint[cy][cx + 1] == '0':\n",
    "                        visit[cy][cx + 1] = True\n",
    "                        q.append((cx + 1, cy))\n",
    "                    if cy > 0 and not visit[cy - 1][cx] and paint[cy - 1][cx] == '0':\n",
    "                        visit[cy - 1][cx] = True\n",
    "                        q.append((cx, cy - 1))\n",
    "                    if cy < H - 1 and not visit[cy + 1][cx] and paint[cy + 1][cx] == '0':\n",
    "                        visit[cy + 1][cx] = True\n",
    "                        q.append((cx, cy + 1))\n",
    "\n",
    "    # 이제 다 됐나..?\n",
    "    # print(f\"case #{tc}: {''.join(sorted(hole_dic[char_hole[k]] for k in range(1, num+1)))}\")\n",
    "    print(f'case #{tc}:', ''.join(sorted(hole_dic[char_hole[k]] for k in range(1, num+1))))"
   ]
  },
  {
   "cell_type": "markdown",
   "metadata": {},
   "source": [
    "후.. 풀었다... 아이디어 바로 못떠올려서 아쉽.. 런타임 어디냐... 나와라...  \n",
    "테두리가 다 은 아니다... 이거 처리해줘야...  \n",
    "바탕의 0은 반드시 끝점이 포함.. x==0 or x==W*4-1이거나 y==0 or y==H-1이 포함돼있음!!"
   ]
  },
  {
   "cell_type": "markdown",
   "metadata": {},
   "source": [
    "    case #1: AKW\n",
    "    case #2: AAAAA\n",
    "    case #3: W\n",
    "    case #4: JKW\n",
    "    case #5: AADDJJKSSWW\n",
    "    case #6: DJJKKS\n",
    "    case #7: AAAAAAAAAAKKKKKKWWWWWWWWWW\n",
    "    case #8: S\n",
    "    case #9: ADS\n",
    "    case #10: J\n",
    "    case #11: D\n",
    "    case #12: K\n",
    "    case #13: AADDJJJKKSSSWWW\n",
    "    case #14: AAAAADDDDDDJJJKKKSSSSWWWWWWW\n",
    "    case #15: K\n",
    "    case #16: K\n",
    "    case #17: A\n",
    "    case #18: D\n",
    "    case #19: S\n",
    "    case #20: W\n",
    "    case #21: J\n",
    "    case #22: K\n",
    "    case #23: A\n",
    "    case #24: D\n",
    "    case #25: S\n",
    "    case #26: J\n",
    "    case #27: W\n",
    "    case #28: W\n",
    "    case #29: K\n",
    "    case #30: J\n",
    "    case #31: ADDDDDD\n",
    "    case #32: SSSSSSSSSSSSSSS\n",
    "    \n",
    "    ---\n",
    "    \n",
    "    Case 1: AKW\n",
    "    Case 2: AAAAA\n",
    "    Case 3: W\n",
    "    Case 4: JKW\n",
    "    Case 5: AADDJJKSSWW\n",
    "    Case 6: DJJKKS\n",
    "    Case 7: AAAAAAAAAAKKKKKKWWWWWWWWWW\n",
    "    Case 8: S\n",
    "    Case 9: ADS\n",
    "    Case 10: J\n",
    "    Case 11: D\n",
    "    Case 12: K\n",
    "    Case 13: AADDJJJKKSSSWWW\n",
    "    Case 14: AAAAADDDDDDJJJKKKSSSSWWWWWWW\n",
    "    Case 15: K\n",
    "    Case 16: K\n",
    "    Case 17: A\n",
    "    Case 18: D\n",
    "    Case 19: S\n",
    "    Case 20: W\n",
    "    Case 21: J\n",
    "    Case 22: K\n",
    "    Case 23: A\n",
    "    Case 24: D\n",
    "    Case 25: S\n",
    "    Case 26: J\n",
    "    Case 27: W\n",
    "    Case 28: W\n",
    "    Case 29: K\n",
    "    Case 30: J\n",
    "    Case 31: ADDDDDD\n",
    "    Case 32: SSSSSSSSSSSSSSS\n"
   ]
  },
  {
   "cell_type": "markdown",
   "metadata": {},
   "source": [
    "문제좀 꼼꼼히 잘읽자^^ ㅎㅎ"
   ]
  },
  {
   "cell_type": "markdown",
   "metadata": {},
   "source": [
    "## 8. 15949 Piet"
   ]
  },
  {
   "cell_type": "markdown",
   "metadata": {},
   "source": [
    "#### 문제\n",
    "Piet은 프로그래밍 언어의 하나로, 코드가 N×M의 2차원 이미지로 되어 있는 것이 특징이다.  \n",
    "이름의 유래는 추상화로 유명한 네덜란드의 화가인 피트 몬드리안(Piet Mondrian)이다. 다음의 이미지는 \"Hello, world!\"를 출력하는 Piet 코드이다.  \n",
    "  \n",
    "<img src=\"https://upload.acmicpc.net/f0ecbdb1-3f43-4048-99cb-42bd4a03e0b1/-/preview/\">  \n",
    "  \n",
    "Piet 프로그램에서 단위 정사각형을 코델(Codel)이라고 하며 각 코델마다 특정 색깔이 칠해져있다.  \n",
    "이는 비트맵 이미지의 픽셀에 대응되는 개념이다. 같은 색깔의 코델이 상하좌우로 연결된 블록이 프로그램의 최소 실행 단위가 된다.  \n",
    "맨 처음 실행되는 블록은 가장 왼쪽 위 코델이 포함된 블록이며, 규칙에 따라 다음에 실행될 블록으로 이동하는 과정을 반복한다.  \n",
    "  \n",
    "현재 블록에서 어떤 블록으로 이동할지를 결정하기 위해 DP(Direction Pointer)와 CC(Codel Chooser)라는 두 가지 값이 존재한다.  \n",
    "DP의 값은 왼쪽, 오른쪽, 위쪽, 아래쪽 중 하나이고, CC의 값은 왼쪽 혹은 오른쪽 중 하나이다.  \n",
    "프로그램이 처음 실행될 때 DP의 값은 오른쪽, CC의 값은 왼쪽이다. 어떤 블록으로 이동할지를 선택하는 기준은 다음과 같다.  \n",
    "  \n",
    "현재 블록의 코델들 중에서 DP의 방향으로 가장 멀리 위치한 코델들을 찾는다. 블록이 볼록하지 않은 경우 이 코델들은 연속하지 않을 수 있다.  \n",
    "위에서 찾은 코델들 중 DP 방향을 향했을 때 CC의 방향으로 가장 끝에 있는 코델을 선택한다. 이 때 CC의 방향은 상대적인 방향임에 유의하라.   \n",
    "예를 들어, DP가 아래쪽을 가리키고 CC가 오른쪽을 가리키는 경우, 선택되는 코델은 가장 왼쪽에 있는 코델이 된다.  \n",
    "위에서 선택한 코델에서 DP의 방향으로 맞닿은 코델이 포함된 블록이 다음 블록이 된다.  \n",
    "이에 대한 예시로, 다음과 같은 그림에서 어떤 블록으로 이동할지를 선택하는 과정을 살펴보자.  \n",
    "   \n",
    "<img src=\"https://upload.acmicpc.net/48cddd99-3f7a-47ea-aeae-0befde753ffd/-/preview/\">\n",
    "  \n",
    "각 칸에 적힌 글자는 색깔을 나타내는 값이다.  \n",
    "현재 블록은 A 블록이고, DP의 값(검은 화살표)은 아래쪽, CC의 값(회색 화살표)은 오른쪽인 상태이다.  \n",
    "이 때 A 블록의 코델들 중에서 DP의 방향으로 가장 멀리 위치한 코델은 A 블록에서 가장 아래쪽에 위치한 코델로,  \n",
    "그림에서 점으로 표시된 코델이다. 이 블록들 중 CC의 방향으로 가장 끝에 있는 코델은 그림에서 테두리로 표시된 블록이다.  \n",
    "이 코델의 아래쪽(DP의 방향)으로 맞닿은 코델(빨간색 별표)이 속한 블록인 B 블록이 다음 블록이 된다.  \n",
    "  \n",
    "검은색 블록 혹은 이미지의 경계 바깥은 이동할 수 없는 구역이다.  \n",
    "만약 다음으로 이동하려는 블록이 검은색이거나 이미지의 경계를 벗어나는 경우는 다음의 방법으로 진행한다.  \n",
    "  \n",
    "1. CC의 값이 왼쪽인 경우 오른쪽으로, 오른쪽인 경우 왼쪽으로 바꾼 후 다시 이동을 시도한다.  \n",
    "2. CC의 값을 바꾼 후에도 이동할 수 없는 경우, CC의 값을 유지하며 DP를 시계방향으로 회전한 후 다시 이동을 시도한다.  \n",
    "3. 시계방향으로 회전한 후에도 이동할 수 없는 경우, 1번으로 되돌아간다.  \n",
    "4. 위 과정을 계속 반복하여 총 8가지의 경우를 모두 시도했는데도 이동할 수 있는 블록을 찾지 못한 경우, 프로그램이 종료된다.  \n",
    "  \n",
    "예를 들어, 다음과 같은 그림에서 어떤 블록으로 이동할지를 선택하는 과정을 살펴보자.    \n",
    "  \n",
    "<img src=\"https://upload.acmicpc.net/b6ba1eed-9ed4-4dc5-b567-2803177e5b95/-/preview/\">\n",
    "  \n",
    "현재 블록은 A 블록이고, DP의 방향은 위, CC의 방향은 왼쪽인 상태이다.  \n",
    "이번에도 경계에 위치한 코델을 점으로, CC에 의해 선택된 코델을 테두리로 표시하였다.  \n",
    "현재 상태에서 선택된 다음 블록은 검은색 블록이므로 이동할 수 없다.  \n",
    "따라서 CC의 값을 오른쪽으로 바꾼 뒤 다시 다음 블록을 찾는데, 역시 검은색 블록이므로 이동할 수 없다.  \n",
    "이제 DP의 방향을 시계방향으로 회전하여 오른쪽으로 바꾼 뒤 블록을 찾는다(이 때 CC의 값은 바뀌지 않는다).  \n",
    "선택된 코델과 맞닿은 블록은 이미지의 경계 밖이므로 CC의 값을 왼쪽으로 바꾼 뒤 다시 시도한다.  \n",
    "이번에는 다른 코델이 선택되지만 역시 맞닿은 블록이 이미지의 경계 밖이므로 이동할 수 없다.  \n",
    "다시 DP의 방향을 시계방향으로 회전하여 아래로 바꾼 뒤 블록을 찾는다.  \n",
    "이 때 선택된 블록은 검은색 블록으로 역시 이동할 수 없고, CC의 값을 다시 오른쪽으로 바꾸면 B 블록이 선택되고 이는 이동할 수 있는 블록이다.  \n",
    "따라서 다음 블록은 B 블록이 된다. 이상의 과정을 그림으로 나타내면 다음과 같다.  \n",
    "\n",
    "<img src=\"https://upload.acmicpc.net/dddacadd-2279-4944-8a61-a991d477df7e/-/preview/\">\n",
    "<img src=\"https://upload.acmicpc.net/a1b1008d-f4b9-410f-a031-6b90619ff4e3/-/preview/\">\n",
    "<img src=\"https://upload.acmicpc.net/51429e25-2018-4ea4-bfa3-3c8adfd6d0b7/-/preview/\">\n",
    "<img src=\"https://upload.acmicpc.net/631d0e14-d016-4c1d-8e09-3ac036d70c5e/-/preview/\">\n",
    "<img src=\"https://upload.acmicpc.net/b6b01486-2f30-4d40-b9ec-d634b935e881/-/preview/\">  \n",
    "  \n",
    "Piet으로 작성된 프로그램이 주어졌을 때, 이 프로그램이 어떤 블록을 거치며 실행되는지 알고 싶어졌다.  \n",
    "입력된 Piet 프로그램에 대해, 프로그램이 종료할 때까지 거치는 블록의 색깔을 출력하는 프로그램을 작성하시오.  \n",
    "  \n",
    "** 실제 Piet의 연산 중에는 픽셀의 색깔에 따라 DP 혹은 CC가 바뀌는 연산이 있지만,  \n",
    "이 문제에 한해서는 위에서 설명된 규칙에 의해서만 DP와 CC가 변경되는 것으로 간주한다.**  \n",
    "  \n",
    "#### 입력\n",
    "첫 번째 줄에 자연수 N과 M이 주어진다. (1 ≤ N, M ≤ 100)  \n",
    "  \n",
    "두 번째 줄부터 N줄에 걸쳐 M개의 글자로 이루어진 문자열이 입력되며, 이는 Piet 프로그램 이미지의 각 코델을 의미한다.  \n",
    "각각의 글자는 알파벳 대문자로 색깔을 나타내는 값이며, X는 검은색을 의미한다.  \n",
    "종료되지 않는 프로그램은 입력되지 않으며, 가장 왼쪽 위 코델은 검은색이 아님이 보장된다.  \n",
    "  \n",
    "#### 출력\n",
    "첫 번째 줄에 프로그램이 종료될 때까지 거치는 블록들의 색깔을 순서대로 출력한다.  "
   ]
  },
  {
   "cell_type": "markdown",
   "metadata": {},
   "source": [
    "### ------------------------------------------------------------------------------"
   ]
  },
  {
   "cell_type": "markdown",
   "metadata": {},
   "source": [
    "가장 왼쪽 위 코델이 시작.(검은색이 아님이 보장됨)  \n",
    "DP는 오른쪽, CC는 왼쪽... (상대적인 방향.. DP방향으로 봤을때 왼쪽, 오른쪽.. 둘 중 하나)   \n",
    "같은색깔이 연결된 '블록'중에서 DP방향으로 가장 먼 애들중에 CC방향으로 제일 끝에 있는애를 선택.  \n",
    "그리고 그 선택된애에서 DP방향으로 접하는 코델을 다시 선택!!  \n",
    "검은색이거나 이미지를 벗어나는 경우..  \n",
    "일단 CC 방향을 바꿔봄.!(왼->오)  \n",
    "또 안되면 DP방향을 시계방향으로 90도 회전.(처음 오른쪽-> 그 다음 회전하면 아래. CC는 바뀐 오른쪽 유지)  \n",
    "8가지 경우 모두 안되면 프로그램 종료!!  \n",
    "**DP 방향을 우 하 좌 상 0 1 2 3으로 하고 풀자.**   이러면 회전시킬 때 1 증가시키고 %4 해주면 됨..  \n",
    "**CC는 -1(왼쪽) or 1(오른쪽)**  \n",
    "  \n",
    "한 블록 내의 코델의 좌표를 BFS로 찾고, 좌표를 정렬해서 DP방향으로 가장 멀리 있는 애를 찾아 CC방향인 애를 찾고,  \n",
    "다시 DP방향으로 접하는 칸을 확인..  \n",
    "블록을 재방문 할 수 있으므로.. 번호 메겨서 저장해놓자.  "
   ]
  },
  {
   "cell_type": "markdown",
   "metadata": {},
   "source": [
    "100x100...  배열크기만 이정도고,  시간초과 안나려나.. 일단 해보자."
   ]
  },
  {
   "cell_type": "code",
   "execution_count": null,
   "metadata": {
    "collapsed": true
   },
   "outputs": [],
   "source": [
    "from collections import deque\n",
    "\n",
    "N, M = map(int, input().split())\n",
    "piet = [list(input()) for _ in range(N)]\n",
    "visit = [[False] * M for _ in range(N)]\n",
    "DP = 0  # 오른쪽.\n",
    "CC = -1  # 왼쪽.(DP에 대한 상대적 방향임!!)\n",
    "color = ''\n",
    "blocks = {}  # block의 번호: 색깔, 포함된 코델의 좌표들 저장..  cf) blocks[1]= (A, [(1,3), (2,4), 0...])\n",
    "k = 1  # 블록의 번호\n",
    "# 일단 블록들 번호 붙여주기.. 검은색 아닌애들만!!\n",
    "for y in range(N):\n",
    "    for x in range(M):\n",
    "        if piet[y][x] != 'X' and not visit[y][x]:\n",
    "            q = deque()\n",
    "            q.append((x, y))\n",
    "            c = piet[y][x]\n",
    "            blocks[k] = [c, [(x, y)]]  # k번째 블록의 정보(색, 좌표들) 저장.\n",
    "            piet[y][x] = k  # 블록 이름으로 바꿔주기.\n",
    "            visit[y][x] = True  # 방문 체크.\n",
    "            # BFS 돌면서 블록내 코델들 다 찾아 작업..\n",
    "            while q:\n",
    "                cx, cy = q.popleft()\n",
    "                if cx > 0 and not visit[cy][cx - 1] and piet[cy][cx - 1] == c:\n",
    "                    piet[cy][cx - 1] = k\n",
    "                    blocks[k][1].append((cx - 1, cy))\n",
    "                    q.append((cx - 1, cy))\n",
    "                    visit[cy][cx - 1] = True\n",
    "                if cx < M - 1 and not visit[cy][cx + 1] and piet[cy][cx + 1] == c:\n",
    "                    piet[cy][cx + 1] = k\n",
    "                    blocks[k][1].append((cx + 1, cy))\n",
    "                    q.append((cx + 1, cy))\n",
    "                    visit[cy][cx + 1] = True\n",
    "                if cy > 0 and not visit[cy - 1][cx] and piet[cy - 1][cx] == c:\n",
    "                    piet[cy - 1][cx] = k\n",
    "                    blocks[k][1].append((cx, cy - 1))\n",
    "                    q.append((cx, cy - 1))\n",
    "                    visit[cy - 1][cx] = True\n",
    "                if cy < N - 1 and not visit[cy + 1][cx] and piet[cy + 1][cx] == c:\n",
    "                    piet[cy + 1][cx] = k\n",
    "                    blocks[k][1].append((cx, cy + 1))\n",
    "                    q.append((cx, cy + 1))\n",
    "                    visit[cy + 1][cx] = True\n",
    "            k += 1\n",
    "\n",
    "k = 1  # 맨 왼쪽 위 1번 블록부터 시작..\n",
    "color += blocks[1][0]  # 일단 맨 왼쪽위 블록색깔!!\n",
    "while True:  # 종료될때까지 계속 반복.\n",
    "    print(f'현재 블록번호 = {k}, 방문경로 = {color}')\n",
    "    end = False\n",
    "    cc_changed = False\n",
    "    for case in range(8):  # 최대 8가지 검사 후 안되면 프로그램 종료\n",
    "        # 현재 DP, CC로 검사.\n",
    "        searched = False\n",
    "        if DP == 0:  # 오른쪽.. x값이 커야하고.. 같으면 y값 비교..CC가 왼쪽(-1)이면 y 작은거.. 아니면 큰거..\n",
    "            nx, ny = sorted(blocks[k][1], key=lambda x: (-x[0], -CC * x[1]))[0]\n",
    "            # 안되는 경우..\n",
    "            if nx == M - 1 or piet[ny][nx + 1] == 'X':\n",
    "                pass\n",
    "            # 되는경우!\n",
    "            else:\n",
    "                k = piet[ny][nx + 1]\n",
    "                searched = True\n",
    "        elif DP == 1:  # 아래쪽. y값이 커야하고, 같으면 x값 비교.CC가 왼쪽이면 x 큰거..\n",
    "            nx, ny = sorted(blocks[k][1], key=lambda x: (-x[1], CC * x[0]))[0]\n",
    "            if ny == N - 1 or piet[ny + 1][nx] == 'X':\n",
    "                pass\n",
    "            else:\n",
    "                k = piet[ny + 1][nx]\n",
    "                searched = True\n",
    "        elif DP == 2:  # 왼쪽. x값이 작아야하고, 같으면 y값 비교. CC가 1이면 y 작은거 선택.\n",
    "            nx, ny = sorted(blocks[k][1], key=lambda x: (x[0], CC * x[1]))[0]\n",
    "            if nx == 0 or piet[ny][nx - 1] == 'X':\n",
    "                pass\n",
    "            else:\n",
    "                k = piet[ny][nx - 1]\n",
    "                searched = True\n",
    "        else:  # 위.. y값 작아야 하고, 같으면 x값 비교.. CC가 오른쪽이면 x 큰거.\n",
    "            nx, ny = sorted(blocks[k][1], key=lambda x: (x[1], -CC * x[0]))[0]\n",
    "            if ny == 0 or piet[ny - 1][nx] == 'X':\n",
    "                pass\n",
    "            else:\n",
    "                k = piet[ny - 1][nx]\n",
    "                searched = True\n",
    "\n",
    "        # 찾았으면 더해주고 다음으로 넘어감.\n",
    "        if searched:\n",
    "            color += blocks[k][0]\n",
    "            break\n",
    "        # 안되면 바꿔줌.. CC가 한번 바꼈다면, DP를 바꿔줘야함. 시게방향 90도 회전.\n",
    "        if cc_changed:\n",
    "            DP = (DP + 1) % 4\n",
    "            cc_changed = False\n",
    "        else:\n",
    "            CC *= -1\n",
    "            cc_changed = True\n",
    "        if case==7:\n",
    "            end = True\n",
    "    if end:\n",
    "        break\n",
    "print(color)"
   ]
  },
  {
   "cell_type": "markdown",
   "metadata": {
    "collapsed": true
   },
   "source": [
    "와 맞았다ㅠㅠ"
   ]
  },
  {
   "cell_type": "markdown",
   "metadata": {},
   "source": [
    "## 9. 8982 수족관 1"
   ]
  },
  {
   "cell_type": "markdown",
   "metadata": {},
   "source": [
    "#### 문제\n",
    "아래 그림 1은 수족관을 앞에서 본 모양이다. 이 수족관에는 물이 가득 차 있다.  \n",
    "만약 수족관 밑바닥(수평선분)에 구멍을 하나 뚫으면, 구멍을 통해 수족관의 물이 빠지게 된다.  \n",
    "  \n",
    "<img src=\"https://www.acmicpc.net/upload/images/aqua11.png\">  \n",
    "  \n",
    "그림 1의 수족관의 경계는 4개의 꼭짓점으로 표현된다. 각 꼭짓점의 위치는 세로줄 번호와 가로줄 번호로 나타낸다.  \n",
    "세로줄은 왼쪽에서 오른쪽으로 0번부터 차례로 증가하는 번호를 붙이고, 가로줄은 위부터 아래로 0번부터 차례로 증가하는 번호를 붙인다.  \n",
    "이웃한 두 세로줄 사이의 거리와 이웃한 두 가로줄 사이의 거리는 모두 1이다.  \n",
    "그래서 왼쪽 위에 있는 꼭짓점의 위치는 (세로줄 번호, 가로줄 번호) = (0, 0)이 되고,  \n",
    "이 꼭짓점부터 시계반대방향으로 수족관의 경계를 따라가면서 만나는 꼭짓점들의 위치는 차례로 (0, 5), (8, 5), (8, 0)이 된다.  \n",
    "  \n",
    "수족관의 바닥을 나타내는 수평선분에 구멍이 있다면,  \n",
    "그 수평선분이 위치한 가로줄보다 위쪽에 있으면서 중력에 따라 구멍으로 흘러 들어갈 수 있는 위치에 있는 물은 모두 그 구멍을 통해 외부로 배출된다.  \n",
    "따라서 그림 1의 물은 바닥의 구멍을 통해 남김없이 모두 빠진다.  \n",
    "  \n",
    "수족관에 담긴 물의 양은 물이 차지하는 면적과 일치하는 양이다. 물의 양의 단위는 L(리터)이다.  \n",
    "따라서 그림 1에서 가득 담긴 물의 양은 물이 차지하는 면적과 동일한 40L이다.  \n",
    "  \n",
    "그림 2처럼 수족관의 바닥이 복잡할 수도 있다.  \n",
    "  \n",
    "수족관의 바닥은 수평선분과 수직선분이 번갈아 여러 번 나타나는 형태이다.  \n",
    "또한 그림 2처럼 수족관 위에서 수직방향으로 수족관 바닥을 보았을 때, 수족관의 바닥이 모두 보이는 (즉, 모든 수평선분이 보이는) 형태이다.  \n",
    "  \n",
    "<img src=\"https://www.acmicpc.net/upload/images/aqua12.png\">  \n",
    "  \n",
    "구멍은 항상 수평선분에만 존재하며, 수평선분의 한 가운데에 위치한다. 그리고 하나의 수평선분에는 최대 하나의 구멍만 존재할 수 있다.  \n",
    "그림 2에는 2개의 구멍(1번 구멍과 2번 구멍)이 있다. 이 구멍들을 통해 물을 빼면, 그림 3과 같이 빠져나가지 못한 물이 7L 남게 된다.   \n",
    "  \n",
    "<img src=\"https://www.acmicpc.net/upload/images/aqua13.png\">\n",
    "  \n",
    "물이 가득 찬 수족관의 바닥 모양과 구멍이 뚫려 있는 수평선분들이 주어지면,  \n",
    "구멍을 통해 물이 빠져 나간 후 수족관에 남아 있는 물의 양이 몇 리터인지 계산하는 프로그램을 작성하시오.  \n",
    "  \n",
    "#### 입력\n",
    "입력의 첫 줄은 수족관의 경계에 있는 꼭짓점의 개수 N(1 ≤ N ≤ 5,000)이 주어진다. N은 짝수이다.  \n",
    "수족관의 경계는 항상 꼭짓점 (0, 0)부터 시작한다. 그리고 마지막 꼭짓점은 (A, 0)의 형태로 끝난다.  \n",
    "즉, 시작 꼭짓점과 마지막 꼭짓점의 가로줄 번호는 항상 0이다. 수족관의 경계를 이루는 변은 꼭짓점 (0, 0)부터 시작하는 데,  \n",
    "수직선분으로 시작하여 수평선분과 수직선분이 번갈아가며 반복되다 수직선분으로 끝난다. 따라서 수직선분이 수평선분보다 항상 하나 더 많다.  \n",
    "두 번째 줄부터 N개의 줄에는 수족관 경계에 있는 N개의 꼭짓점의 세로줄 번호와 가로줄 번호가 빈칸을 사이에 두고 각 줄에 하나씩,  \n",
    "첫 꼭짓점 (0, 0)부터 시계반대방향을 따라 차례로 주어진다. 세로줄과 가로줄 번호의 범위는 0 이상 40,000 이하의 정수이다.  \n",
    "다음 줄에는 수족관의 수평선분에 위치한 구멍의 개수 K (1 ≤ K ≤ N/2)가 자연수로 주어진다.  \n",
    "다음 K개의 줄에는 각 구멍이 존재하는 수평선분의 양 끝 꼭짓점 위치를 나타내는 네 개의 값이 빈 칸을 사이에 두고 차례로 주어진다.  \n",
    "즉, 어떤 구멍이 위치한 수평선분의 정보가 a b c b로 주어졌다면,  \n",
    "구멍이 위치한 수평선분은 꼭짓점 (a, b)와 꼭짓점 (c, b)를 연결한 선분이라는 의미이다. 항상 a < c 이다.  \n",
    "  \n",
    "#### 출력\n",
    "출력은 단 한 줄이며, 구멍을 통해 물이 빠져 나간 후, 수족관에 남아 있는 물의 양을 0 이상의 정수로 출력한다.  "
   ]
  },
  {
   "cell_type": "markdown",
   "metadata": {},
   "source": [
    "### ------------------------------------------------------------------------------"
   ]
  },
  {
   "cell_type": "markdown",
   "metadata": {},
   "source": [
    "입력 받을때 수평성분만 저장하면 충분..   (x,y)로 받는다!  \n",
    "각 x값마다 왼쪽 오른쪽..  \n",
    "한 위치에 구멍이 뚤리면..그 위치에서 수평선을 그어서 수직성분을 만나는데까지는 모두 수위가 같음!!  \n",
    "가장 얕은, (y값이 작은) 구멍부터 뚫어가며 왼쪽, 오른쪽 나눠서 풀기??  \n",
    "(카카오 길찾기게임에서처럼..)\n",
    "가로길이 1마다 물의 양 저장..  (x좌표 시작점부터 1인 구간..)  \n",
    "물의 양은 일단 처음에는 수평선의 y좌표인데, 구멍이 나서 물이 빠짐에 따라서 0까지 줄어듦..  \n",
    "이 값들을 저장하고 sum해주면 된다.   "
   ]
  },
  {
   "cell_type": "code",
   "execution_count": null,
   "metadata": {
    "collapsed": true
   },
   "outputs": [],
   "source": [
    "# import sys\n",
    "# input = sys.stdin.readline\n",
    "N = int(input())    # 꼭지점의 개수\n",
    "input() # 처음거 버리기\n",
    "horizontal_info = []\n",
    "for _ in range((N-2)//2):\n",
    "    s, e = [tuple(map(int, input().split())) for _ in range(2)]\n",
    "    horizontal_info.append((s,e))\n",
    "input() # 마지막거 버리기\n",
    "K = int(input())\n",
    "holes = [tuple(map(int, input().split())) for _ in range(K)] # 시작 좌표, 끝좌표.. sx,sy, ex,ey"
   ]
  },
  {
   "cell_type": "markdown",
   "metadata": {},
   "source": [
    "어느 구멍을 기준으로 왼쪽 오른쪽 나눠서 진행..  \n",
    "그 구멍의 위치에서 출발해서 이전 구멍 높이보다 낲은애가 나올때까지 물은 모두 다 빠짐..그리고 그 바깥쪽 애들은 걔네들 원래 수위와 지금까지 최대 수평선 높이 중 작은값.?? 아 복잡해 ㅠㅠ"
   ]
  }
 ],
 "metadata": {
  "kernelspec": {
   "display_name": "Python 3",
   "language": "python",
   "name": "python3"
  },
  "language_info": {
   "codemirror_mode": {
    "name": "ipython",
    "version": 3
   },
   "file_extension": ".py",
   "mimetype": "text/x-python",
   "name": "python",
   "nbconvert_exporter": "python",
   "pygments_lexer": "ipython3",
   "version": "3.6.3"
  }
 },
 "nbformat": 4,
 "nbformat_minor": 2
}
