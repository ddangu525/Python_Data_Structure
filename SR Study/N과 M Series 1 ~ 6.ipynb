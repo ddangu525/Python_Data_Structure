{
 "cells": [
  {
   "cell_type": "markdown",
   "metadata": {},
   "source": [
    "## 1. 순열\n",
    "#### 문제\n",
    "자연수 N과 M이 주어졌을 때, 아래 조건을 만족하는 길이가 M인 수열을 모두 구하는 프로그램을 작성하시오.  \n",
    "  \n",
    "1부터 N까지 자연수 중에서 중복 없이 M개를 고른 수열  \n",
    "  \n",
    "#### 입력\n",
    "첫째 줄에 자연수 N과 M이 주어진다. (1 ≤ M ≤ N ≤ 8)  \n",
    "  \n",
    "#### 출력\n",
    "한 줄에 하나씩 문제의 조건을 만족하는 수열을 출력한다.  \n",
    "중복되는 수열을 여러번 출력하면 안되며, 각 수열은 공백으로 구분해서 출력해야 한다.  \n",
    "  \n",
    "수열은 사전 순으로 증가하는 순서로 출력해야 한다.  "
   ]
  },
  {
   "cell_type": "markdown",
   "metadata": {},
   "source": [
    "### ------------------------------------------------------------------------------"
   ]
  },
  {
   "cell_type": "code",
   "execution_count": 1,
   "metadata": {},
   "outputs": [
    {
     "name": "stdout",
     "output_type": "stream",
     "text": [
      "5 3\n",
      "1 2 3\n",
      "1 2 4\n",
      "1 2 5\n",
      "1 3 2\n",
      "1 3 4\n",
      "1 3 5\n",
      "1 4 3\n",
      "1 4 2\n",
      "1 4 5\n",
      "1 5 3\n",
      "1 5 4\n",
      "1 5 2\n",
      "2 1 3\n",
      "2 1 4\n",
      "2 1 5\n",
      "2 3 1\n",
      "2 3 4\n",
      "2 3 5\n",
      "2 4 3\n",
      "2 4 1\n",
      "2 4 5\n",
      "2 5 3\n",
      "2 5 4\n",
      "2 5 1\n",
      "3 2 1\n",
      "3 2 4\n",
      "3 2 5\n",
      "3 1 2\n",
      "3 1 4\n",
      "3 1 5\n",
      "3 4 1\n",
      "3 4 2\n",
      "3 4 5\n",
      "3 5 1\n",
      "3 5 4\n",
      "3 5 2\n",
      "4 2 3\n",
      "4 2 1\n",
      "4 2 5\n",
      "4 3 2\n",
      "4 3 1\n",
      "4 3 5\n",
      "4 1 3\n",
      "4 1 2\n",
      "4 1 5\n",
      "4 5 3\n",
      "4 5 1\n",
      "4 5 2\n",
      "5 2 3\n",
      "5 2 4\n",
      "5 2 1\n",
      "5 3 2\n",
      "5 3 4\n",
      "5 3 1\n",
      "5 4 3\n",
      "5 4 2\n",
      "5 4 1\n",
      "5 1 3\n",
      "5 1 4\n",
      "5 1 2\n"
     ]
    }
   ],
   "source": [
    "# 좀 더 잘 짜보자...\n",
    "N, M = map(int, input().split())\n",
    "nums = [i for i in range(1, N + 1)]\n",
    "def search(arr, picked=0):\n",
    "    if picked==M:\n",
    "        print(' '.join(map(str, arr[:M])))\n",
    "        return\n",
    "    for i in range(picked, N):\n",
    "        arr[i], arr[picked] =  arr[picked], arr[i]\n",
    "        search(arr, picked+1)\n",
    "        arr[i], arr[picked] =  arr[picked], arr[i]\n",
    "search(nums)"
   ]
  },
  {
   "cell_type": "markdown",
   "metadata": {},
   "source": [
    "되긴 한데 사전순으로 안나오는뎅 ㅠㅠ.."
   ]
  },
  {
   "cell_type": "code",
   "execution_count": 83,
   "metadata": {},
   "outputs": [
    {
     "name": "stdout",
     "output_type": "stream",
     "text": [
      "5 3\n",
      "1 2 3\n",
      "1 2 4\n",
      "1 2 5\n",
      "1 3 2\n",
      "1 3 4\n",
      "1 3 5\n",
      "1 4 2\n",
      "1 4 3\n",
      "1 4 5\n",
      "1 5 2\n",
      "1 5 3\n",
      "1 5 4\n",
      "2 1 3\n",
      "2 1 4\n",
      "2 1 5\n",
      "2 3 1\n",
      "2 3 4\n",
      "2 3 5\n",
      "2 4 1\n",
      "2 4 3\n",
      "2 4 5\n",
      "2 5 1\n",
      "2 5 3\n",
      "2 5 4\n",
      "3 1 2\n",
      "3 1 4\n",
      "3 1 5\n",
      "3 2 1\n",
      "3 2 4\n",
      "3 2 5\n",
      "3 4 1\n",
      "3 4 2\n",
      "3 4 5\n",
      "3 5 1\n",
      "3 5 2\n",
      "3 5 4\n",
      "4 1 2\n",
      "4 1 3\n",
      "4 1 5\n",
      "4 2 1\n",
      "4 2 3\n",
      "4 2 5\n",
      "4 3 1\n",
      "4 3 2\n",
      "4 3 5\n",
      "4 5 1\n",
      "4 5 2\n",
      "4 5 3\n",
      "5 1 2\n",
      "5 1 3\n",
      "5 1 4\n",
      "5 2 1\n",
      "5 2 3\n",
      "5 2 4\n",
      "5 3 1\n",
      "5 3 2\n",
      "5 3 4\n",
      "5 4 1\n",
      "5 4 2\n",
      "5 4 3\n"
     ]
    }
   ],
   "source": [
    "N, M = map(int, input().split())\n",
    "\n",
    "def search(picked=0, result=[], check=[False]*(N+1)):\n",
    "    if picked == M:\n",
    "        print(' '.join(map(str, result)))\n",
    "        return\n",
    "    for i in range(1, N + 1):\n",
    "        if not check[i]:\n",
    "            result.append(i)\n",
    "            check[i] = True\n",
    "            search(picked+1, result, check)\n",
    "            result.pop()\n",
    "            check[i] = False\n",
    "            \n",
    "search()"
   ]
  },
  {
   "cell_type": "markdown",
   "metadata": {},
   "source": [
    "208ms.. 그냥 permutations 쓰면 빠른데.. 어떻게 구현돼있는걸까??"
   ]
  },
  {
   "cell_type": "code",
   "execution_count": null,
   "metadata": {
    "collapsed": true
   },
   "outputs": [],
   "source": [
    "# 84ms...\n",
    "from itertools import permutations\n",
    "n,m=map(int,input().split())\n",
    "[print(' '.join(x))for x in (permutations([str(i+1) for i in range(n)],m))]"
   ]
  },
  {
   "cell_type": "code",
   "execution_count": 77,
   "metadata": {},
   "outputs": [
    {
     "data": {
      "text/plain": [
       "[[1, 3, 4], [1, 4, 3], [3, 1, 4], [3, 4, 1], [4, 1, 3], [4, 3, 1]]"
      ]
     },
     "execution_count": 77,
     "metadata": {},
     "output_type": "execute_result"
    }
   ],
   "source": [
    "def perm1(lst):\n",
    "    if len(lst) == 0:\n",
    "        return []\n",
    "    elif len(lst) == 1:\n",
    "        return [lst]\n",
    "    else:\n",
    "        l = []\n",
    "        for i in range(len(lst)):\n",
    "            x = lst[i]\n",
    "            xs = lst[:i] + lst[i+1:]\n",
    "            for p in perm1(xs):\n",
    "                l.append([x]+p)\n",
    "        return l\n",
    "perm1([1,3,4])"
   ]
  },
  {
   "cell_type": "code",
   "execution_count": null,
   "metadata": {
    "collapsed": true
   },
   "outputs": [],
   "source": [
    "# 얘는 k개 선택하는게 아닌뎅..\n",
    "def perm2(lst):\n",
    "    if len(lst) == 0:\n",
    "        yield []\n",
    "    elif len(lst) == 1:\n",
    "        yield lst\n",
    "    else:\n",
    "        for i in range(len(lst)):\n",
    "            x = lst[i]\n",
    "            xs = lst[:i] + lst[i+1:]\n",
    "            for p in perm2(xs):\n",
    "                yield [x] + p\n",
    "\n",
    "for p in perm2(list('abcde')):\n",
    "    print(p)"
   ]
  },
  {
   "cell_type": "code",
   "execution_count": null,
   "metadata": {
    "collapsed": true
   },
   "outputs": [],
   "source": [
    "N, M = map(int, input().split())\n",
    "def sarch(lst):\n",
    "    if len(lst) == 0:\n",
    "        yield []\n",
    "    elif len(lst) == 1:\n",
    "        yield lst\n",
    "    else:\n",
    "        for i in range(len(lst)):\n",
    "            x = lst[i]\n",
    "            xs = lst[:i] + lst[i+1:]\n",
    "            for p in sarch(xs):\n",
    "                yield [x] + p\n",
    "\n",
    "for p in sarch(list(range(1,N+1))):\n",
    "    print(' '.join(map(str, p)))"
   ]
  },
  {
   "cell_type": "code",
   "execution_count": null,
   "metadata": {
    "collapsed": true
   },
   "outputs": [],
   "source": [
    "N, M = map(int, input().split())\n",
    "def search(arr, r):\n",
    "    # 1.\n",
    "#     arr = sorted(arr)\n",
    "    used = [0 for _ in range(N)]\n",
    "\n",
    "    def generate(chosen, used):\n",
    "        # 2.\n",
    "        if len(chosen) == r:\n",
    "            print(' '.join(map(str, chosen)))\n",
    "            return\n",
    "\t\n",
    "\t# 3.\n",
    "        for i in range(len(arr)):\n",
    "            if not used[i]:\n",
    "                chosen.append(arr[i])\n",
    "                used[i] = 1\n",
    "                generate(chosen, used)\n",
    "                used[i] = 0\n",
    "                chosen.pop()\n",
    "    generate([], used)\n",
    "    \n",
    "search(range(1,N+1), M)"
   ]
  },
  {
   "cell_type": "markdown",
   "metadata": {},
   "source": [
    "이것도 느려..."
   ]
  },
  {
   "cell_type": "code",
   "execution_count": null,
   "metadata": {
    "collapsed": true
   },
   "outputs": [],
   "source": [
    "N, M = map(int, input().split())\n",
    "\n",
    "def search(picked=0, idx=0, result=''):\n",
    "    if picked == M:\n",
    "        print(result)\n",
    "        \n",
    "    for i in range(N):\n",
    "        "
   ]
  },
  {
   "cell_type": "code",
   "execution_count": 82,
   "metadata": {
    "scrolled": true
   },
   "outputs": [
    {
     "name": "stdout",
     "output_type": "stream",
     "text": [
      "[[1, 3, 4, 5], [3, 1, 4, 5], [3, 4, 1, 5], [3, 4, 5, 1], [1, 4, 3, 5], [4, 1, 3, 5], [4, 3, 1, 5], [4, 3, 5, 1], [1, 4, 5, 3], [4, 1, 5, 3], [4, 5, 1, 3], [4, 5, 3, 1], [1, 3, 5, 4], [3, 1, 5, 4], [3, 5, 1, 4], [3, 5, 4, 1], [1, 5, 3, 4], [5, 1, 3, 4], [5, 3, 1, 4], [5, 3, 4, 1], [1, 5, 4, 3], [5, 1, 4, 3], [5, 4, 1, 3], [5, 4, 3, 1]]\n"
     ]
    }
   ],
   "source": [
    "def all_perms(elements):\n",
    "    if len(elements) <=1:\n",
    "        yield elements\n",
    "    else:\n",
    "        for perm in all_perms(elements[1:]):\n",
    "            for i in range(len(elements)):\n",
    "                # nb elements[0:1] works in both string and list contexts\n",
    "                yield perm[:i] + elements[0:1] + perm[i:]\n",
    "                \n",
    "a = list(all_perms([1,3,4,5]))\n",
    "print(a)"
   ]
  },
  {
   "cell_type": "code",
   "execution_count": 86,
   "metadata": {},
   "outputs": [
    {
     "name": "stdout",
     "output_type": "stream",
     "text": [
      "('1', '2', '3')\n",
      "('1', '3', '2')\n",
      "('2', '1', '3')\n",
      "('2', '3', '1')\n",
      "('3', '1', '2')\n",
      "('3', '2', '1')\n"
     ]
    }
   ],
   "source": [
    "def permutations(iterable, r=None):\n",
    "    # permutations('ABCD', 2) --> AB AC AD BA BC BD CA CB CD DA DB DC\n",
    "    # permutations(range(3)) --> 012 021 102 120 201 210\n",
    "    pool = tuple(iterable)\n",
    "    n = len(pool)\n",
    "    r = n if r is None else r\n",
    "    if r > n:\n",
    "        return\n",
    "    indices = list(range(n))\n",
    "    cycles = list(range(n, n-r, -1))\n",
    "    yield tuple(pool[i] for i in indices[:r])\n",
    "    while n:\n",
    "        for i in reversed(range(r)):\n",
    "            cycles[i] -= 1\n",
    "            if cycles[i] == 0:\n",
    "                indices[i:] = indices[i+1:] + indices[i:i+1]\n",
    "                cycles[i] = n - i\n",
    "            else:\n",
    "                j = cycles[i]\n",
    "                indices[i], indices[-j] = indices[-j], indices[i]\n",
    "                yield tuple(pool[i] for i in indices[:r])\n",
    "                break\n",
    "        else:\n",
    "            return\n",
    "        \n",
    "for p in permutations('123'):\n",
    "    print(p)"
   ]
  },
  {
   "cell_type": "code",
   "execution_count": null,
   "metadata": {
    "collapsed": true
   },
   "outputs": [],
   "source": [
    "def permutations(iterable, r=None):\n",
    "    # permutations('ABCD', 2) --> AB AC AD BA BC BD CA CB CD DA DB DC\n",
    "    # permutations(range(3)) --> 012 021 102 120 201 210\n",
    "    pool = tuple(iterable)\n",
    "    n = len(pool)\n",
    "    r = n if r is None else r\n",
    "    if r > n:\n",
    "        return\n",
    "    indices = list(range(n))\n",
    "    cycles = list(range(n, n-r, -1))\n",
    "    yield tuple(pool[i] for i in indices[:r])\n",
    "    while n:\n",
    "        for i in reversed(range(r)):\n",
    "            cycles[i] -= 1\n",
    "            if cycles[i] == 0:\n",
    "                indices[i:] = indices[i+1:] + indices[i:i+1]\n",
    "                cycles[i] = n - i\n",
    "            else:\n",
    "                j = cycles[i]\n",
    "                indices[i], indices[-j] = indices[-j], indices[i]\n",
    "                yield tuple(pool[i] for i in indices[:r])\n",
    "                break\n",
    "        else:\n",
    "            return\n",
    "        \n",
    "permutations('123')"
   ]
  },
  {
   "cell_type": "code",
   "execution_count": 2,
   "metadata": {},
   "outputs": [
    {
     "name": "stdout",
     "output_type": "stream",
     "text": [
      "6 3\n",
      "3\n",
      "(0, 1, 2) (0, 1, 3) (0, 1, 4) (0, 1, 5) (0, 2, 1) (0, 2, 3) (0, 2, 4) (0, 2, 5) (0, 3, 1) (0, 3, 2) (0, 3, 4) (0, 3, 5) (0, 4, 1) (0, 4, 2) (0, 4, 3) (0, 4, 5) (0, 5, 1) (0, 5, 2) (0, 5, 3) (0, 5, 4) (1, 0, 2) (1, 0, 3) (1, 0, 4) (1, 0, 5) (1, 2, 0) (1, 2, 3) (1, 2, 4) (1, 2, 5) (1, 3, 0) (1, 3, 2) (1, 3, 4) (1, 3, 5) (1, 4, 0) (1, 4, 2) (1, 4, 3) (1, 4, 5) (1, 5, 0) (1, 5, 2) (1, 5, 3) (1, 5, 4) (2, 0, 1) (2, 0, 3) (2, 0, 4) (2, 0, 5) (2, 1, 0) (2, 1, 3) (2, 1, 4) (2, 1, 5) (2, 3, 0) (2, 3, 1) (2, 3, 4) (2, 3, 5) (2, 4, 0) (2, 4, 1) (2, 4, 3) (2, 4, 5) (2, 5, 0) (2, 5, 1) (2, 5, 3) (2, 5, 4) (3, 0, 1) (3, 0, 2) (3, 0, 4) (3, 0, 5) (3, 1, 0) (3, 1, 2) (3, 1, 4) (3, 1, 5) (3, 2, 0) (3, 2, 1) (3, 2, 4) (3, 2, 5) (3, 4, 0) (3, 4, 1) (3, 4, 2) (3, 4, 5) (3, 5, 0) (3, 5, 1) (3, 5, 2) (3, 5, 4) (4, 0, 1) (4, 0, 2) (4, 0, 3) (4, 0, 5) (4, 1, 0) (4, 1, 2) (4, 1, 3) (4, 1, 5) (4, 2, 0) (4, 2, 1) (4, 2, 3) (4, 2, 5) (4, 3, 0) (4, 3, 1) (4, 3, 2) (4, 3, 5) (4, 5, 0) (4, 5, 1) (4, 5, 2) (4, 5, 3) (5, 0, 1) (5, 0, 2) (5, 0, 3) (5, 0, 4) (5, 1, 0) (5, 1, 2) (5, 1, 3) (5, 1, 4) (5, 2, 0) (5, 2, 1) (5, 2, 3) (5, 2, 4) (5, 3, 0) (5, 3, 1) (5, 3, 2) (5, 3, 4) (5, 4, 0) (5, 4, 1) (5, 4, 2) (5, 4, 3)\n"
     ]
    }
   ],
   "source": [
    "N, M = map(int, input().split())\n",
    "def permutations(iterable, r=0):\n",
    "    # permutations('ABCD', 2) --> AB AC AD BA BC BD CA CB CD DA DB DC\n",
    "    # permutations(range(3)) --> 012 021 102 120 201 210\n",
    "    pool = tuple(iterable)\n",
    "    n = len(pool)\n",
    "    r = r if r else n\n",
    "    if r > n:\n",
    "        return\n",
    "    indices = list(range(n))\n",
    "    cycles = list(range(n, n-r, -1))\n",
    "    yield tuple(pool[i] for i in indices[:r])\n",
    "    while n:\n",
    "        for i in reversed(range(r)):\n",
    "            cycles[i] -= 1\n",
    "            if cycles[i] == 0:\n",
    "                indices[i:] = indices[i+1:] + indices[i:i+1]\n",
    "                cycles[i] = n - i\n",
    "            else:\n",
    "                j = cycles[i]\n",
    "                indices[i], indices[-j] = indices[-j], indices[i]\n",
    "                yield tuple(pool[i] for i in indices[:r])\n",
    "                break\n",
    "        else:\n",
    "            return\n",
    "\n",
    "print(*permutations(range(N), M))"
   ]
  },
  {
   "cell_type": "code",
   "execution_count": null,
   "metadata": {
    "collapsed": true
   },
   "outputs": [],
   "source": [
    "from itertools import permutations\n",
    "n,m=map(int,input().split())\n",
    "[print(' '.join(map(str, x))) for x in permutations(range(1, n+1),m)]"
   ]
  },
  {
   "cell_type": "code",
   "execution_count": 102,
   "metadata": {
    "scrolled": true
   },
   "outputs": [
    {
     "name": "stdout",
     "output_type": "stream",
     "text": [
      "5 2\n",
      "1 2\n",
      "1 3\n",
      "1 4\n",
      "1 5\n",
      "2 1\n",
      "2 3\n",
      "2 4\n",
      "2 5\n",
      "3 1\n",
      "3 2\n",
      "3 4\n",
      "3 5\n",
      "4 1\n",
      "4 2\n",
      "4 3\n",
      "4 5\n",
      "5 1\n",
      "5 2\n",
      "5 3\n",
      "5 4\n"
     ]
    },
    {
     "data": {
      "text/plain": [
       "[None,\n",
       " None,\n",
       " None,\n",
       " None,\n",
       " None,\n",
       " None,\n",
       " None,\n",
       " None,\n",
       " None,\n",
       " None,\n",
       " None,\n",
       " None,\n",
       " None,\n",
       " None,\n",
       " None,\n",
       " None,\n",
       " None,\n",
       " None,\n",
       " None,\n",
       " None]"
      ]
     },
     "execution_count": 102,
     "metadata": {},
     "output_type": "execute_result"
    }
   ],
   "source": [
    "from itertools import permutations\n",
    "n,m=map(int,input().split())\n",
    "[print(' '.join(x))for x in permutations([str(i+1) for i in range(n)],m)]"
   ]
  },
  {
   "cell_type": "code",
   "execution_count": 98,
   "metadata": {},
   "outputs": [
    {
     "name": "stdout",
     "output_type": "stream",
     "text": [
      "<class 'tuple'>\n",
      "<class 'tuple'>\n",
      "<class 'tuple'>\n",
      "<class 'tuple'>\n",
      "<class 'tuple'>\n",
      "<class 'tuple'>\n"
     ]
    }
   ],
   "source": [
    "from itertools import permutations\n",
    "for p in permutations('123'):\n",
    "    print(type(p))"
   ]
  },
  {
   "cell_type": "markdown",
   "metadata": {},
   "source": [
    "## 2. 조합\n",
    "#### 문제\n",
    "자연수 N과 M이 주어졌을 때, 아래 조건을 만족하는 길이가 M인 수열을 모두 구하는 프로그램을 작성하시오.   \n",
    "  \n",
    "1부터 N까지 자연수 중에서 중복 없이 M개를 고른 수열  \n",
    "고른 수열은 오름차순이어야 한다.  \n",
    "  \n",
    "#### 입력\n",
    "첫째 줄에 자연수 N과 M이 주어진다. (1 ≤ M ≤ N ≤ 8)  \n",
    "  \n",
    "#### 출력\n",
    "한 줄에 하나씩 문제의 조건을 만족하는 수열을 출력한다.  \n",
    "중복되는 수열을 여러번 출력하면 안되며, 각 수열은 공백으로 구분해서 출력해야 한다.  \n",
    "  \n",
    "수열은 사전 순으로 증가하는 순서로 출력해야 한다.  "
   ]
  },
  {
   "cell_type": "markdown",
   "metadata": {},
   "source": [
    "### ------------------------------------------------------------------------------"
   ]
  },
  {
   "cell_type": "markdown",
   "metadata": {},
   "source": [
    "오름차순인 경우만... 조합구하기..!  "
   ]
  },
  {
   "cell_type": "code",
   "execution_count": 17,
   "metadata": {},
   "outputs": [
    {
     "name": "stdout",
     "output_type": "stream",
     "text": [
      "5 3\n",
      "1 2 3\n",
      "현재 picked = 2\n",
      "1 2 4\n",
      "현재 picked = 2\n",
      "1 2 5\n",
      "현재 picked = 2\n",
      "현재 picked = 1\n"
     ]
    }
   ],
   "source": [
    "N, M = map(int, input().split())\n",
    "\n",
    "def search(picked=0, result=[], check=[False]*(N+1), flag=False):\n",
    "    if picked == M:\n",
    "        print(' '.join(map(str, result)))\n",
    "        return\n",
    "    for i in range(1, N + 1):\n",
    "        if not flag and not check[i]:\n",
    "            result.append(i)\n",
    "            check[i] = True\n",
    "            picked = 1\n",
    "            flag = True\n",
    "            search(picked, result, check, flag)\n",
    "        else:\n",
    "            for j in range(i, N + 1):\n",
    "                if not check[i]:\n",
    "                    check[i] = True\n",
    "                    result.append(i)\n",
    "                    search(picked + 1, result, check, flag)\n",
    "                    result.pop()\n",
    "                    print(f'현재 picked = {picked}')\n",
    "                \n",
    "                    \n",
    "                    \n",
    "search()"
   ]
  },
  {
   "cell_type": "markdown",
   "metadata": {},
   "source": [
    "$_nC_r = _{n-1}C_r + _{n-1}C_{r-1}$ 인 관계 이용."
   ]
  },
  {
   "cell_type": "code",
   "execution_count": 45,
   "metadata": {},
   "outputs": [
    {
     "name": "stdout",
     "output_type": "stream",
     "text": [
      "5 3\n",
      "1 2 3\n",
      "1 2 4\n",
      "1 2 5\n",
      "1 3 4\n",
      "1 3 5\n",
      "1 4 5\n",
      "2 3 4\n",
      "2 3 5\n",
      "2 4 5\n",
      "3 4 5\n"
     ]
    }
   ],
   "source": [
    "from collections import deque\n",
    "N, M = map(int, input().split())\n",
    "nums = deque([i for i in range(1, N+1)])\n",
    "def comb(k, available, used):\n",
    "    if len(used) == k:\n",
    "        yield tuple(used)\n",
    "    elif len(available) == 0:\n",
    "        pass\n",
    "    else:\n",
    "        head = available.popleft()\n",
    "        used.append(head)\n",
    "        for c in comb(k, available.copy(), used.copy()):\n",
    "            yield c\n",
    "        used.pop()\n",
    "        for c in comb(k, available.copy(), used.copy()):\n",
    "            yield c\n",
    "            \n",
    "for c in comb(M, nums, []):\n",
    "    print(' '.join(map(str, c)))"
   ]
  },
  {
   "cell_type": "code",
   "execution_count": null,
   "metadata": {
    "collapsed": true
   },
   "outputs": [],
   "source": [
    "# 그냥 combinations 쓰자..이게 제일 빠름.\n",
    "from itertools import combinations as c\n",
    "N,M=map(int,input().split())\n",
    "for k in c(range(1,N+1),M):print(*k)"
   ]
  },
  {
   "cell_type": "code",
   "execution_count": 49,
   "metadata": {},
   "outputs": [
    {
     "name": "stdout",
     "output_type": "stream",
     "text": [
      "7 3\n",
      "1 2 3\n",
      "1 2 4\n",
      "1 2 5\n",
      "1 2 6\n",
      "1 2 7\n",
      "1 3 4\n",
      "1 3 5\n",
      "1 3 6\n",
      "1 3 7\n",
      "1 4 5\n",
      "1 4 6\n",
      "1 4 7\n",
      "1 5 6\n",
      "1 5 7\n",
      "1 6 7\n",
      "2 3 4\n",
      "2 3 5\n",
      "2 3 6\n",
      "2 3 7\n",
      "2 4 5\n",
      "2 4 6\n",
      "2 4 7\n",
      "2 5 6\n",
      "2 5 7\n",
      "2 6 7\n",
      "3 4 5\n",
      "3 4 6\n",
      "3 4 7\n",
      "3 5 6\n",
      "3 5 7\n",
      "3 6 7\n",
      "4 5 6\n",
      "4 5 7\n",
      "4 6 7\n",
      "5 6 7\n"
     ]
    }
   ],
   "source": [
    "# 이게 조합 된건가? 오아.. 이러면 되는구나.\n",
    "N, M = map(int, input().split())\n",
    "nums = tuple(i for i in range(1, N + 1))\n",
    "def search(idx=0, picked=0, result = []):\n",
    "    if picked==M:\n",
    "        print(' '.join(map(str, result)))\n",
    "        return\n",
    "    if idx==N:\n",
    "        return  \n",
    "    search(idx+1, picked+1, result + [nums[idx]])\n",
    "    search(idx+1, picked, result)\n",
    "\n",
    "search()    "
   ]
  },
  {
   "cell_type": "markdown",
   "metadata": {},
   "source": [
    "## 3. 중복순열\n",
    "#### 문제\n",
    "자연수 N과 M이 주어졌을 때, 아래 조건을 만족하는 길이가 M인 수열을 모두 구하는 프로그램을 작성하시오.  \n",
    "  \n",
    "1부터 N까지 자연수 중에서 M개를 고른 수열  \n",
    "같은 수를 여러 번 골라도 된다.  \n",
    "  \n",
    "#### 입력\n",
    "첫째 줄에 자연수 N과 M이 주어진다. (1 ≤ M ≤ N ≤ 7)  \n",
    "  \n",
    "#### 출력\n",
    "한 줄에 하나씩 문제의 조건을 만족하는 수열을 출력한다.  \n",
    "중복되는 수열을 여러번 출력하면 안되며, 각 수열은 공백으로 구분해서 출력해야 한다.  \n",
    "  \n",
    "수열은 사전 순으로 증가하는 순서로 출력해야 한다.  "
   ]
  },
  {
   "cell_type": "markdown",
   "metadata": {},
   "source": [
    "### ------------------------------------------------------------------------------"
   ]
  },
  {
   "cell_type": "code",
   "execution_count": 55,
   "metadata": {},
   "outputs": [
    {
     "name": "stdout",
     "output_type": "stream",
     "text": [
      "5 3\n",
      "1 1 1\n",
      "1 1 2\n",
      "1 1 3\n",
      "1 1 4\n",
      "1 1 5\n",
      "1 2 1\n",
      "1 2 2\n",
      "1 2 3\n",
      "1 2 4\n",
      "1 2 5\n",
      "1 3 1\n",
      "1 3 2\n",
      "1 3 3\n",
      "1 3 4\n",
      "1 3 5\n",
      "1 4 1\n",
      "1 4 2\n",
      "1 4 3\n",
      "1 4 4\n",
      "1 4 5\n",
      "1 5 1\n",
      "1 5 2\n",
      "1 5 3\n",
      "1 5 4\n",
      "1 5 5\n",
      "2 1 1\n",
      "2 1 2\n",
      "2 1 3\n",
      "2 1 4\n",
      "2 1 5\n",
      "2 2 1\n",
      "2 2 2\n",
      "2 2 3\n",
      "2 2 4\n",
      "2 2 5\n",
      "2 3 1\n",
      "2 3 2\n",
      "2 3 3\n",
      "2 3 4\n",
      "2 3 5\n",
      "2 4 1\n",
      "2 4 2\n",
      "2 4 3\n",
      "2 4 4\n",
      "2 4 5\n",
      "2 5 1\n",
      "2 5 2\n",
      "2 5 3\n",
      "2 5 4\n",
      "2 5 5\n",
      "3 1 1\n",
      "3 1 2\n",
      "3 1 3\n",
      "3 1 4\n",
      "3 1 5\n",
      "3 2 1\n",
      "3 2 2\n",
      "3 2 3\n",
      "3 2 4\n",
      "3 2 5\n",
      "3 3 1\n",
      "3 3 2\n",
      "3 3 3\n",
      "3 3 4\n",
      "3 3 5\n",
      "3 4 1\n",
      "3 4 2\n",
      "3 4 3\n",
      "3 4 4\n",
      "3 4 5\n",
      "3 5 1\n",
      "3 5 2\n",
      "3 5 3\n",
      "3 5 4\n",
      "3 5 5\n",
      "4 1 1\n",
      "4 1 2\n",
      "4 1 3\n",
      "4 1 4\n",
      "4 1 5\n",
      "4 2 1\n",
      "4 2 2\n",
      "4 2 3\n",
      "4 2 4\n",
      "4 2 5\n",
      "4 3 1\n",
      "4 3 2\n",
      "4 3 3\n",
      "4 3 4\n",
      "4 3 5\n",
      "4 4 1\n",
      "4 4 2\n",
      "4 4 3\n",
      "4 4 4\n",
      "4 4 5\n",
      "4 5 1\n",
      "4 5 2\n",
      "4 5 3\n",
      "4 5 4\n",
      "4 5 5\n",
      "5 1 1\n",
      "5 1 2\n",
      "5 1 3\n",
      "5 1 4\n",
      "5 1 5\n",
      "5 2 1\n",
      "5 2 2\n",
      "5 2 3\n",
      "5 2 4\n",
      "5 2 5\n",
      "5 3 1\n",
      "5 3 2\n",
      "5 3 3\n",
      "5 3 4\n",
      "5 3 5\n",
      "5 4 1\n",
      "5 4 2\n",
      "5 4 3\n",
      "5 4 4\n",
      "5 4 5\n",
      "5 5 1\n",
      "5 5 2\n",
      "5 5 3\n",
      "5 5 4\n",
      "5 5 5\n"
     ]
    }
   ],
   "source": [
    "N, M = map(int, input().split())\n",
    "nums = tuple(i for i in range(1, N + 1))\n",
    "def search(idx=0, picked=0, result = []):\n",
    "    if picked==M:\n",
    "        print(' '.join(map(str, result)))\n",
    "        return\n",
    "    for i in range(N):\n",
    "        search(i, picked+1, result + [nums[i]])\n",
    "\n",
    "search()"
   ]
  },
  {
   "cell_type": "markdown",
   "metadata": {},
   "source": [
    "되긴 하는데 느리다.. 이것도 itertools가 한방"
   ]
  },
  {
   "cell_type": "code",
   "execution_count": 56,
   "metadata": {},
   "outputs": [
    {
     "name": "stdout",
     "output_type": "stream",
     "text": [
      "4 3\n",
      "1 1 1\n",
      "1 1 2\n",
      "1 1 3\n",
      "1 1 4\n",
      "1 2 1\n",
      "1 2 2\n",
      "1 2 3\n",
      "1 2 4\n",
      "1 3 1\n",
      "1 3 2\n",
      "1 3 3\n",
      "1 3 4\n",
      "1 4 1\n",
      "1 4 2\n",
      "1 4 3\n",
      "1 4 4\n",
      "2 1 1\n",
      "2 1 2\n",
      "2 1 3\n",
      "2 1 4\n",
      "2 2 1\n",
      "2 2 2\n",
      "2 2 3\n",
      "2 2 4\n",
      "2 3 1\n",
      "2 3 2\n",
      "2 3 3\n",
      "2 3 4\n",
      "2 4 1\n",
      "2 4 2\n",
      "2 4 3\n",
      "2 4 4\n",
      "3 1 1\n",
      "3 1 2\n",
      "3 1 3\n",
      "3 1 4\n",
      "3 2 1\n",
      "3 2 2\n",
      "3 2 3\n",
      "3 2 4\n",
      "3 3 1\n",
      "3 3 2\n",
      "3 3 3\n",
      "3 3 4\n",
      "3 4 1\n",
      "3 4 2\n",
      "3 4 3\n",
      "3 4 4\n",
      "4 1 1\n",
      "4 1 2\n",
      "4 1 3\n",
      "4 1 4\n",
      "4 2 1\n",
      "4 2 2\n",
      "4 2 3\n",
      "4 2 4\n",
      "4 3 1\n",
      "4 3 2\n",
      "4 3 3\n",
      "4 3 4\n",
      "4 4 1\n",
      "4 4 2\n",
      "4 4 3\n",
      "4 4 4\n"
     ]
    },
    {
     "data": {
      "text/plain": [
       "[None,\n",
       " None,\n",
       " None,\n",
       " None,\n",
       " None,\n",
       " None,\n",
       " None,\n",
       " None,\n",
       " None,\n",
       " None,\n",
       " None,\n",
       " None,\n",
       " None,\n",
       " None,\n",
       " None,\n",
       " None,\n",
       " None,\n",
       " None,\n",
       " None,\n",
       " None,\n",
       " None,\n",
       " None,\n",
       " None,\n",
       " None,\n",
       " None,\n",
       " None,\n",
       " None,\n",
       " None,\n",
       " None,\n",
       " None,\n",
       " None,\n",
       " None,\n",
       " None,\n",
       " None,\n",
       " None,\n",
       " None,\n",
       " None,\n",
       " None,\n",
       " None,\n",
       " None,\n",
       " None,\n",
       " None,\n",
       " None,\n",
       " None,\n",
       " None,\n",
       " None,\n",
       " None,\n",
       " None,\n",
       " None,\n",
       " None,\n",
       " None,\n",
       " None,\n",
       " None,\n",
       " None,\n",
       " None,\n",
       " None,\n",
       " None,\n",
       " None,\n",
       " None,\n",
       " None,\n",
       " None,\n",
       " None,\n",
       " None,\n",
       " None]"
      ]
     },
     "execution_count": 56,
     "metadata": {},
     "output_type": "execute_result"
    }
   ],
   "source": [
    "from itertools import product as p\n",
    "n,m=map(int,input().split())\n",
    "[print(' '.join(x))for x in tuple(p([str(i+1) for i in range(n)],repeat=m))]"
   ]
  },
  {
   "cell_type": "markdown",
   "metadata": {},
   "source": [
    "## 4. 중복조합\n",
    "#### 문제\n",
    "자연수 N과 M이 주어졌을 때, 아래 조건을 만족하는 길이가 M인 수열을 모두 구하는 프로그램을 작성하시오.  \n",
    "  \n",
    "1부터 N까지 자연수 중에서 M개를 고른 수열  \n",
    "같은 수를 여러 번 골라도 된다.  \n",
    "고른 수열은 비내림차순이어야 한다.  \n",
    "길이가 K인 수열 A가 A1 ≤ A2 ≤ ... ≤ AK-1 ≤ AK를 만족하면, 비내림차순이라고 한다.  \n",
    "  \n",
    "#### 입력\n",
    "첫째 줄에 자연수 N과 M이 주어진다. (1 ≤ M ≤ N ≤ 8)  \n",
    "  \n",
    "#### 출력\n",
    "한 줄에 하나씩 문제의 조건을 만족하는 수열을 출력한다.  \n",
    "중복되는 수열을 여러번 출력하면 안되며, 각 수열은 공백으로 구분해서 출력해야 한다.  \n",
    "  \n",
    "수열은 사전 순으로 증가하는 순서로 출력해야 한다.  "
   ]
  },
  {
   "cell_type": "markdown",
   "metadata": {},
   "source": [
    "### ------------------------------------------------------------------------------"
   ]
  },
  {
   "cell_type": "code",
   "execution_count": null,
   "metadata": {
    "collapsed": true
   },
   "outputs": [],
   "source": [
    "N, M = map(int, input().split())\n",
    "nums = tuple(i for i in range(1, N + 1))\n",
    "def search(idx=0, picked=0, result = []):\n",
    "    if picked==M:\n",
    "        print(' '.join(map(str, result)))\n",
    "        return\n",
    "    if idx==N:\n",
    "        return\n",
    "    \n",
    "    search(idx, picked+1, result + [nums[idx]])\n",
    "    search(idx+1, picked, result)\n",
    "\n",
    "search()"
   ]
  },
  {
   "cell_type": "code",
   "execution_count": 52,
   "metadata": {},
   "outputs": [
    {
     "name": "stdout",
     "output_type": "stream",
     "text": [
      "4 3\n",
      "1 1 1\n",
      "1 1 2\n",
      "1 1 3\n",
      "1 1 4\n",
      "1 2 2\n",
      "1 2 3\n",
      "1 2 4\n",
      "1 3 3\n",
      "1 3 4\n",
      "1 4 4\n",
      "2 2 2\n",
      "2 2 3\n",
      "2 2 4\n",
      "2 3 3\n",
      "2 3 4\n",
      "2 4 4\n",
      "3 3 3\n",
      "3 3 4\n",
      "3 4 4\n",
      "4 4 4\n"
     ]
    },
    {
     "data": {
      "text/plain": [
       "[None,\n",
       " None,\n",
       " None,\n",
       " None,\n",
       " None,\n",
       " None,\n",
       " None,\n",
       " None,\n",
       " None,\n",
       " None,\n",
       " None,\n",
       " None,\n",
       " None,\n",
       " None,\n",
       " None,\n",
       " None,\n",
       " None,\n",
       " None,\n",
       " None,\n",
       " None]"
      ]
     },
     "execution_count": 52,
     "metadata": {},
     "output_type": "execute_result"
    }
   ],
   "source": [
    "from itertools import combinations_with_replacement as c\n",
    "n,m=map(int,input().split())\n",
    "[print(' '.join(x))for x in tuple(c([str(i+1) for i in range(n)],m))]"
   ]
  },
  {
   "cell_type": "markdown",
   "metadata": {},
   "source": [
    "## 5. 순열2(임의의 수들)\n",
    "#### 문제\n",
    "N개의 자연수와 자연수 M이 주어졌을 때, 아래 조건을 만족하는 길이가 M인 수열을 모두 구하는 프로그램을 작성하시오.  \n",
    "N개의 자연수는 모두 다른 수이다.  \n",
    "  \n",
    "N개의 자연수 중에서 M개를 고른 수열  \n",
    "  \n",
    "#### 입력\n",
    "첫째 줄에 N과 M이 주어진다. (1 ≤ M ≤ N ≤ 8)  \n",
    "  \n",
    "둘째 줄에 N개의 수가 주어진다. 입력으로 주어지는 수는 10,000보다 작거나 같은 자연수이다.  \n",
    "  \n",
    "#### 출력\n",
    "한 줄에 하나씩 문제의 조건을 만족하는 수열을 출력한다.  \n",
    "중복되는 수열을 여러번 출력하면 안되며, 각 수열은 공백으로 구분해서 출력해야 한다.  \n",
    "  \n",
    "수열은 사전 순으로 증가하는 순서로 출력해야 한다.  "
   ]
  },
  {
   "cell_type": "markdown",
   "metadata": {},
   "source": [
    "### ------------------------------------------------------------------------------"
   ]
  },
  {
   "cell_type": "code",
   "execution_count": null,
   "metadata": {
    "collapsed": true
   },
   "outputs": [],
   "source": [
    "N, M = map(int, input().split())\n",
    "*nums, = sorted(map(int, input().split()))\n",
    "def search(idx=0, picked=0, result=''):\n",
    "    if picked == M:\n",
    "        print(' '.join(map(str, result)))\n",
    "        return\n",
    "    if idx == N:\n",
    "        return\n",
    "    for i in range(N):\n",
    "        search(idx , picked+1, result + str(nums[i]))\n",
    "search()"
   ]
  },
  {
   "cell_type": "code",
   "execution_count": 62,
   "metadata": {},
   "outputs": [
    {
     "name": "stdout",
     "output_type": "stream",
     "text": [
      "5 3\n",
      "5 2 8 1 3\n",
      "1 1 1\n",
      "1 1 2\n",
      "1 1 3\n",
      "1 1 5\n",
      "1 1 8\n",
      "1 2 1\n",
      "1 2 2\n",
      "1 2 3\n",
      "1 2 5\n",
      "1 2 8\n",
      "1 3 1\n",
      "1 3 2\n",
      "1 3 3\n",
      "1 3 5\n",
      "1 3 8\n",
      "1 5 1\n",
      "1 5 2\n",
      "1 5 3\n",
      "1 5 5\n",
      "1 5 8\n",
      "1 8 1\n",
      "1 8 2\n",
      "1 8 3\n",
      "1 8 5\n",
      "1 8 8\n",
      "2 1 1\n",
      "2 1 2\n",
      "2 1 3\n",
      "2 1 5\n",
      "2 1 8\n",
      "2 2 1\n",
      "2 2 2\n",
      "2 2 3\n",
      "2 2 5\n",
      "2 2 8\n",
      "2 3 1\n",
      "2 3 2\n",
      "2 3 3\n",
      "2 3 5\n",
      "2 3 8\n",
      "2 5 1\n",
      "2 5 2\n",
      "2 5 3\n",
      "2 5 5\n",
      "2 5 8\n",
      "2 8 1\n",
      "2 8 2\n",
      "2 8 3\n",
      "2 8 5\n",
      "2 8 8\n",
      "3 1 1\n",
      "3 1 2\n",
      "3 1 3\n",
      "3 1 5\n",
      "3 1 8\n",
      "3 2 1\n",
      "3 2 2\n",
      "3 2 3\n",
      "3 2 5\n",
      "3 2 8\n",
      "3 3 1\n",
      "3 3 2\n",
      "3 3 3\n",
      "3 3 5\n",
      "3 3 8\n",
      "3 5 1\n",
      "3 5 2\n",
      "3 5 3\n",
      "3 5 5\n",
      "3 5 8\n",
      "3 8 1\n",
      "3 8 2\n",
      "3 8 3\n",
      "3 8 5\n",
      "3 8 8\n",
      "5 1 1\n",
      "5 1 2\n",
      "5 1 3\n",
      "5 1 5\n",
      "5 1 8\n",
      "5 2 1\n",
      "5 2 2\n",
      "5 2 3\n",
      "5 2 5\n",
      "5 2 8\n",
      "5 3 1\n",
      "5 3 2\n",
      "5 3 3\n",
      "5 3 5\n",
      "5 3 8\n",
      "5 5 1\n",
      "5 5 2\n",
      "5 5 3\n",
      "5 5 5\n",
      "5 5 8\n",
      "5 8 1\n",
      "5 8 2\n",
      "5 8 3\n",
      "5 8 5\n",
      "5 8 8\n",
      "8 1 1\n",
      "8 1 2\n",
      "8 1 3\n",
      "8 1 5\n",
      "8 1 8\n",
      "8 2 1\n",
      "8 2 2\n",
      "8 2 3\n",
      "8 2 5\n",
      "8 2 8\n",
      "8 3 1\n",
      "8 3 2\n",
      "8 3 3\n",
      "8 3 5\n",
      "8 3 8\n",
      "8 5 1\n",
      "8 5 2\n",
      "8 5 3\n",
      "8 5 5\n",
      "8 5 8\n",
      "8 8 1\n",
      "8 8 2\n",
      "8 8 3\n",
      "8 8 5\n",
      "8 8 8\n"
     ]
    }
   ],
   "source": [
    "# 이건 또 중복순열...\n",
    "N, M = map(int, input().split())\n",
    "*nums, = sorted(map(int, input().split()))\n",
    "def search(picked=0, result=''):\n",
    "    if picked==M:\n",
    "        print(' '.join(map(str, result)))\n",
    "        return\n",
    "    for i in range(N):\n",
    "        search(picked+1, result + str(nums[i]))\n",
    "search()"
   ]
  },
  {
   "cell_type": "code",
   "execution_count": 103,
   "metadata": {},
   "outputs": [
    {
     "name": "stdout",
     "output_type": "stream",
     "text": [
      "4 2\n",
      "6 1 4 2\n",
      "1 2\n",
      "1 4\n",
      "1 6\n",
      "2 1\n",
      "2 4\n",
      "2 6\n",
      "4 1\n",
      "4 2\n",
      "4 6\n",
      "6 1\n",
      "6 2\n",
      "6 4\n"
     ]
    },
    {
     "data": {
      "text/plain": [
       "[None, None, None, None, None, None, None, None, None, None, None, None]"
      ]
     },
     "execution_count": 103,
     "metadata": {},
     "output_type": "execute_result"
    }
   ],
   "source": [
    "from itertools import permutations\n",
    "N, M = map(int, input().split())\n",
    "*nums, = sorted(map(int, input().split()))\n",
    "[print(' '.join(x)) for x in (permutations(map(str, nums), M))]"
   ]
  },
  {
   "cell_type": "markdown",
   "metadata": {},
   "source": [
    "## 6. 조합2(임의의 수들)\n",
    "#### 문제\n",
    "N개의 자연수와 자연수 M이 주어졌을 때, 아래 조건을 만족하는 길이가 M인 수열을 모두 구하는 프로그램을 작성하시오.  \n",
    "N개의 자연수는 모두 다른 수이다.  \n",
    "  \n",
    "N개의 자연수 중에서 M개를 고른 수열  \n",
    "고른 수열은 오름차순이어야 한다.  \n",
    "  \n",
    "#### 입력\n",
    "첫째 줄에 N과 M이 주어진다. (1 ≤ M ≤ N ≤ 8)  \n",
    "  \n",
    "둘째 줄에 N개의 수가 주어진다. 입력으로 주어지는 수는 10,000보다 작거나 같은 자연수이다.  \n",
    "  \n",
    "#### 출력\n",
    "한 줄에 하나씩 문제의 조건을 만족하는 수열을 출력한다.  \n",
    "중복되는 수열을 여러번 출력하면 안되며, 각 수열은 공백으로 구분해서 출력해야 한다.  \n",
    "  \n",
    "수열은 사전 순으로 증가하는 순서로 출력해야 한다.  "
   ]
  },
  {
   "cell_type": "markdown",
   "metadata": {},
   "source": [
    "### ------------------------------------------------------------------------------"
   ]
  },
  {
   "cell_type": "code",
   "execution_count": 106,
   "metadata": {},
   "outputs": [
    {
     "name": "stdout",
     "output_type": "stream",
     "text": [
      "4 4\n",
      "1231 1232 1233 1234\n",
      "1231 1232 1233 1234 \n"
     ]
    }
   ],
   "source": [
    "N, M = map(int, input().split())\n",
    "*nums, = sorted(map(int, input().split()))\n",
    "\n",
    "def search(idx=0, picked=0, result=''):\n",
    "    if picked == M:\n",
    "        print(result)\n",
    "        return\n",
    "    elif idx == N:\n",
    "        return\n",
    "    search(idx+1, picked+1, result+str(nums[idx])+' ')\n",
    "    search(idx+1, picked, result)\n",
    "    \n",
    "search()"
   ]
  },
  {
   "cell_type": "markdown",
   "metadata": {},
   "source": [
    "4 4\n",
    "1231 1232 1233 1234"
   ]
  }
 ],
 "metadata": {
  "kernelspec": {
   "display_name": "Python 3",
   "language": "python",
   "name": "python3"
  },
  "language_info": {
   "codemirror_mode": {
    "name": "ipython",
    "version": 3
   },
   "file_extension": ".py",
   "mimetype": "text/x-python",
   "name": "python",
   "nbconvert_exporter": "python",
   "pygments_lexer": "ipython3",
   "version": "3.6.3"
  }
 },
 "nbformat": 4,
 "nbformat_minor": 2
}
