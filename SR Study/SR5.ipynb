{
 "cells": [
  {
   "cell_type": "markdown",
   "metadata": {},
   "source": [
    "## 1. 16112 5차 전직"
   ]
  },
  {
   "cell_type": "markdown",
   "metadata": {},
   "source": [
    "#### 문제\n",
    "메이플스토리 뉴비 키파가 드디어 레벨 200을 달성하고 5차 전직이라는 시스템을 이용해 캐릭터를 더욱 강력하게 만들려고 합니다.  \n",
    "5차 전직을 하려면 먼저 퀘스트를 통해 아케인스톤이라는 아이템을 받아야 합니다.    \n",
    "아케인스톤을 활성화시키면 캐릭터가 얻는 경험치를 아케인스톤에 모을 수 있습니다.    \n",
    "5차 전직을 하기 위해서는 총 n개의 퀘스트를 진행해서 n개의 아케인스톤을 받아야 하며,    \n",
    "각각의 아케인스톤에 5억 이상의 경험치를 모으면 5차 전직을 진행할 수 있는 자격이 주어집니다.  \n",
    "   \n",
    "i번째 퀘스트를 진행하면 $a_i$의 경험치와 i번째 아케인스톤이 주어집니다.  \n",
    "퀘스트로 얻는 경험치도 사냥으로 얻는 것과 똑같은 경험치이기 때문에,  \n",
    "i번째 퀘스트의 보상 경험치를 받을 때 활성화되어 있던 아케인스톤에는 $a_i$의 경험치가 추가됩니다.  \n",
    "  \n",
    "<img src=\"https://upload.acmicpc.net/ad5d9cc7-aa8b-4d6d-a378-a5f9104af010/-/preview/\">  \n",
    "메이플월드의 아케인스톤입니다. 멋지죠.  \n",
    "  \n",
    "원래 메이플스토리에서는 한 번에 하나의 아케인스톤만 활성화시켜 놓을 수 있고, 각각의 아케인스톤에는 최대 5억의 경험치를 채울 수 있습니다.  \n",
    "그러나 해킹에는 자신이 있었던 메린이 키파는 서버를 해킹해 아케인스톤의 최대 경험치 제한을 없애 버리고,  \n",
    "최대 k개의 아케인스톤이 동시에 활성화되어 있을 수 있도록 바꿨습니다.  \n",
    "따라서 한 퀘스트의 보상 경험치가 여러 개의 아케인스톤에 추가될 수 있습니다.  \n",
    "예를 들어 1번째와 3번째 아케인스톤이 활성화되어 있는 상태에서 2번째 퀘스트를 진행해 100,000의 경험치와 2번째 아케인스톤을 획득하면,  \n",
    "1번째와 3번째 아케인스톤에 각각 100,000의 경험치가 추가되고 2번째 아케인스톤은 모인 경험치가 0인 상태로 받게 됩니다.  \n",
    "  \n",
    "키파는 퀘스트를 원하는 순서대로 진행할 수 있지만, 같은 퀘스트를 두 번 이상 진행할 수는 없습니다.  \n",
    "키파는 퀘스트를 진행하면서 아케인스톤을 적절히 활성화 또는 비활성화시켜서 아케인스톤에 모인 경험치의 합을 최대화하고 싶습니다.  \n",
    "모인 경험치의 합이 커지면 어쨌든 기분이 좋으니까요. 키파를 대신해서 이 값을 구해 주세요!  \n",
    "  \n",
    "#### 입력\n",
    "첫째 줄에 정수 n과 k(1 ≤ k ≤ n ≤ 3 · $10^5$)가 주어집니다.  \n",
    "  \n",
    "둘째 줄에 n개의 정수가 공백을 사이에 두고 주어집니다. i번째 정수는 $a_i$이며 0보다 크고 $10^8$보다 작거나 같습니다.  \n",
    "  \n",
    "#### 출력\n",
    "첫째 줄에 키파가 아케인스톤에 모을 수 있는 경험치의 합의 최댓값을 출력합니다.  "
   ]
  },
  {
   "cell_type": "markdown",
   "metadata": {},
   "source": [
    "### ------------------------------------------------------------------------------"
   ]
  },
  {
   "cell_type": "markdown",
   "metadata": {},
   "source": [
    "그냥 정렬해서 가장 작은 수부터 더해주기. 제일 작은 경험치는 버림..  \n",
    "그 이후부터 총 경험치에 $a_i$가 1번 더해지고, 2 번 더해지고, 3번 더해지고, ... n-1번 더해짐.  \n",
    "아 활성화 되는게 최대 k개구나..   \n",
    "그럼 k배 만큼만 더해짐.  "
   ]
  },
  {
   "cell_type": "code",
   "execution_count": 2,
   "metadata": {},
   "outputs": [
    {
     "name": "stdout",
     "output_type": "stream",
     "text": [
      "3 2\n",
      "100 300 200\n",
      "800\n"
     ]
    }
   ],
   "source": [
    "n, k = map(int, input().split())\n",
    "a = sorted(map(int, input().split()))\n",
    "s = sum(idx*i for idx, i in enumerate(a))\n",
    "print(s)"
   ]
  },
  {
   "cell_type": "code",
   "execution_count": 8,
   "metadata": {},
   "outputs": [
    {
     "name": "stdout",
     "output_type": "stream",
     "text": [
      "3 1\n",
      "100 300 200\n",
      "500\n"
     ]
    }
   ],
   "source": [
    "n, k = map(int, input().split())\n",
    "a = sorted(map(int, input().split()))\n",
    "s = sum(idx*a[i] for idx, i in enumerate(range(min(k+1,n))))\n",
    "s += sum(k*a[i] for i in range(k+1, n))\n",
    "print(s)"
   ]
  },
  {
   "cell_type": "markdown",
   "metadata": {},
   "source": [
    "3 2  \n",
    "100 300 200   \n",
    "\n",
    "---\n",
    "800"
   ]
  },
  {
   "cell_type": "markdown",
   "metadata": {},
   "source": [
    "## 2. 16113 시그널"
   ]
  },
  {
   "cell_type": "markdown",
   "metadata": {},
   "source": [
    "#### 문제\n",
    "zxcvber는 외계인을 연구하는 과학자다. 그는 지난 10년간 우주에서 오는 시그널를 연구했지만, 아무런 성과가 없었다.  \n",
    "그러던 어느 날, 갑자기 우주에서 이상한 시그널이 오기 시작했다. zxcvber는 매우 기뻐하며 시그널을 받아서 분석해보았다.  \n",
    "시그널은 0과 1로 이루어져 있는데, 여기서는 편의상 0을 \".\", 1을 \"#\"으로 표시한다. 시그널은 다음과 같았다.  \n",
    "  \n",
    "###.....###.#..####.#.......#.#....####.....###.#....##.#.......#.#....####.....###.#....#\n",
    "\n",
    "다른 여러 시그널들을 분석해본 결과, zxcvber는 시그널의 길이가 항상 5의 배수라는 것을 알게 되었다.  \n",
    "시그널을 다섯 개로 쪼개면 뭔가 규칙이 보이지 않을까 생각한 zxcvber는 시그널을 같은 길이의 5개의 시그널로 쪼갰다.  \n",
    "그러자 놀라운 일이 벌어졌다. 아래는 시그널을 쪼갠 뒤 \"#\"을 검은색, \".\"을 흰색으로 표시한 그림이다.  \n",
    "   \n",
    "<img src=\"https://upload.acmicpc.net/4a8010ac-92da-4b26-8d97-9c9bce4cf931/-/preview/\" width=\"500\">\n",
    "  \n",
    "시그널은 디지털 숫자를 나타내고 있었다! 1-3열에 8, 9-11열에 3, 13열에 1, 그리고 16-18열에 7이 나타난 것이다.  \n",
    "이 숫자들이 특별한 의미를 갖고 있을 것이라 생각한 zxcvber는 다른 시그널들도 해독을 하기 시작했다.  \n",
    "하지만 시그널들의 길이가 너무 길어서, 일일히 손으로 확인하기에는 한계가 있었다.  \n",
    "다만, 짧은 시그널들을 분석하면서 zxcvber는 시그널의 규칙들을 파악할 수 있었다.  \n",
    "  \n",
    "1. 시그널은 \".\"과 \"#\"으로 이루어져 있다.\n",
    "2. 시그널을 해독한 결과에는 반드시 숫자가 1개 이상 있다.\n",
    "3. 시그널에 등장하는 모든 \"#\"은 올바른 숫자 패턴에 포함되어 있다.\n",
    "4. 숫자와 숫자 사이에는 1열 이상의 공백이 있다. 여기서 공백은, 열의 성분이 모두 \".\"인 열을 의미한다.\n",
    "5. 0부터 9는 아래와 같이 나타난다. 역시 \"#\"을 검은색, \".\"을 흰색으로 표시했다.\n",
    "  \n",
    "<img src=\"https://upload.acmicpc.net/309fd7f3-22b9-452e-95f6-e3f4828c0f9a/-/preview/\">\n",
    "  \n",
    "주의할 점은, 1은 다른 숫자들과는 다르게 1열을 차지한다는 것이다. zxcvber를 도와 시그널을 해독해보자!  \n",
    "  \n",
    "#### 입력\n",
    "입력의 첫 줄에는 시그널의 길이 N(5 ≤ N ≤ 100,000, N은 5의 배수)이 주어진다.  \n",
    "  \n",
    "다음 줄에 시그널이 주어진다. zxcvber가 찾아낸 규칙을 따르는 시그널만이 입력으로 주어진다.  \n",
    "  \n",
    "#### 출력\n",
    "첫 번째 줄에 시그널을 해독하여 나오는 숫자들을 순서대로 출력한다.  "
   ]
  },
  {
   "cell_type": "markdown",
   "metadata": {},
   "source": [
    "### ------------------------------------------------------------------------------"
   ]
  },
  {
   "cell_type": "markdown",
   "metadata": {},
   "source": [
    "signal을 5행 x n//5열로 reshape해서 숫자 찾기.  \n",
    "숫자는 미리 dictionary로 모양을 만들어놓을까.. 왼쪽 위를 항상 탐색 기준점으로 삼을 수 있음.  \n",
    "모양을 만들어놓으면 각 숫자마다 최대 10번 검사해야.. 2만 x 10. 되겠다."
   ]
  },
  {
   "cell_type": "code",
   "execution_count": 12,
   "metadata": {},
   "outputs": [
    {
     "name": "stdout",
     "output_type": "stream",
     "text": [
      "40\n",
      "###..#..#.#..#..###..#..#.#..#..###..#..  \n",
      "['#', '#', '#', '.', '.', '#', '.', '.']\n",
      "['#', '.', '#', '.', '.', '#', '.', '.']\n",
      "['#', '#', '#', '.', '.', '#', '.', '.']\n",
      "['#', '.', '#', '.', '.', '#', '.', '.']\n",
      "['#', '#', '#', '.', '.', '#', '.', '.']\n"
     ]
    }
   ],
   "source": [
    "N = int(input())\n",
    "signal = input()\n",
    "bins = N // 5\n",
    "\n",
    "reshaped = []\n",
    "for i in range(0, N - bins+1, bins):\n",
    "    row = list(signal[i:i + bins])\n",
    "    reshaped.append(row)\n",
    "print('\\n'.join(map(str, reshaped)))\n",
    "\n",
    "ans = ''\n",
    "x = 0\n",
    "while x < bins:\n",
    "    # 숫자를 찾은경우\n",
    "    if reshaped[0][x] == '#':\n",
    "        # 0~9 까지 숫자 빡코딩..\n",
    "\n",
    "        # 0, 1, 6, 8 먼저 찾아보자. 맨 왼쪽 줄이 모두 '#'인경우.\n",
    "        if reshaped[1][x] == reshaped[2][x] == reshaped[3][x] == reshaped[4][x] == '#':\n",
    "            # 1 찾기\n",
    "            if x+1==bins or reshaped[0][x + 1] == '.':\n",
    "                ans += '1'\n",
    "                x += 2\n",
    "            # 0 찾기\n",
    "            elif reshaped[2][x + 1] == '.':\n",
    "                ans += '0'\n",
    "                x += 4\n",
    "            # 6 찾기\n",
    "            elif reshaped[1][x + 2] == '.':\n",
    "                ans += '6'\n",
    "                x += 4\n",
    "            # 나머지 하나는 8인경우.\n",
    "            else:\n",
    "                ans += '8'\n",
    "                x += 4\n",
    "\n",
    "        # 남은애들은, 2, 3, 4, 5, 7, 9\n",
    "        # 2, 3, 5, 9 찾기. 맨 아래줄이 모두 '#'인경우.\n",
    "        elif reshaped[4][x] == reshaped[4][x + 1] == reshaped[4][x + 2] == '#':\n",
    "            # 2 찾기\n",
    "            if reshaped[3][x + 2] == '.':\n",
    "                ans += '2'\n",
    "            # 3 찾기\n",
    "            elif reshaped[1][x] == '.':\n",
    "                ans += '3'\n",
    "            # 5 찾기\n",
    "            elif reshaped[1][x + 2] == '.':\n",
    "                ans += '5'\n",
    "            else:\n",
    "                ans += '9'\n",
    "            x += 4\n",
    "\n",
    "        # 남은건 4, 7\n",
    "        else:\n",
    "            # 4 찾기\n",
    "            if reshaped[0][x + 1] == '.':\n",
    "                ans += '4'\n",
    "            else:\n",
    "                ans += '7'\n",
    "            x += 4\n",
    "    # 아니면 한칸만 오른쪽으로..\n",
    "    else:\n",
    "        x += 1\n",
    "\n",
    "print(ans)"
   ]
  },
  {
   "cell_type": "markdown",
   "metadata": {},
   "source": [
    "40  \n",
    "###..#..#.#..#..###..#..#.#..#..###..#..  \n",
    "\n",
    "---\n",
    "\n",
    "90\n",
    "###.....###.#..####.#.......#.#....####.....###.#....##.#.......#.#....####.....###.#....#"
   ]
  },
  {
   "cell_type": "markdown",
   "metadata": {},
   "source": [
    "## 3. 15787 기차가 어둠을 헤치고 은하수를"
   ]
  },
  {
   "cell_type": "markdown",
   "metadata": {},
   "source": [
    "#### 문제\n",
    "N개의 기차가 어둠을 헤치고 은하수를 건너려고 한다.  \n",
    "  \n",
    "기차는 20개의 일렬로 된 좌석이 있고, 한 개의 좌석에는 한 명의 사람이 탈 수 있다.   \n",
    "  \n",
    "기차의 번호를 1번부터 N번으로 매길 때, 어떠한 기차에 대하여 M개의 명령이 주어진다.  \n",
    "  \n",
    "명령의 종류는 4가지로 다음과 같다.  \n",
    "  \n",
    "- 1 i x : i번째 기차에(1 ≤ i ≤ N) x번째 좌석에(1 ≤ x ≤ 20) 사람을 태워라. 이미 사람이 타있다면 , 아무런 행동을 하지 않는다.\n",
    "- 2 i x : i번째 기차에 x번째 좌석에 앉은 사람은 하차한다. 만약 아무도 그자리에 앉아있지 않았다면, 아무런 행동을 하지 않는다.\n",
    "- 3 i : i번째 기차에 앉아있는 승객들이 모두 한칸씩 뒤로간다. i번째 앉은 사람은 i+1번째로 이동하여 앉는다. 만약 20번째 자리에 사람이 앉아있었다면 그 사람은 이 명령 후에 하차한다.\n",
    "- 4 i : i번째 기차에 앉아있는 승객들이 모두 한칸씩 앞으로간다. i번째 앉은 사람은 i-1 번째 자리로 이동하여 앉는다. 만약 1번째 자리에 사람이 앉아있었다면 그 사람은 이 명령 후에 하차한다.\n",
    "  \n",
    "M번의 명령 후에 1번째 기차부터 순서대로 한 기차씩 은하수를 건너는데 조건이 있다.  \n",
    "  \n",
    "기차는 순서대로 지나가며 기차가 지나갈 때 승객이 앉은 상태를 목록에 기록하며 이미 목록에 존재하는 기록이라면 해당 기차는 은하수를 건널 수 없다.  \n",
    "  \n",
    "예를 들면, 다음 그림을 예로 들었을 때, 1번째 기차와 같이 승객이 앉은 상태는 기록되지 않았기 때문에 은하수를 건널 수있다.  \n",
    "2번째 기차와 같은 상태도 기록되지 않았기 때문에 2번째 기차도 은하수를 건널 수 있다.  \n",
    "3번째 기차는 1번째 기차와 승객이 앉은 상태가 같으므로 은하수를 건널 수 없다.  \n",
    "  \n",
    "<img src=\"https://onlinejudgeimages.s3-ap-northeast-1.amazonaws.com/problem/15787/1.png\" width=\"400\">\n",
    "  \n",
    "처음에 주어지는 기차에는 아무도 사람이 타지 않는다.  \n",
    "  \n",
    "은하수를 건널 수 있는 기차의 수를 출력하시오.  \n",
    "  \n",
    "#### 입력\n",
    "입력의 첫째 줄에 기차의 수 N(1 ≤ N ≤ 100000)과 명령의 수 M(1 ≤ M ≤ 100000)가 주어진다.  \n",
    "이후 두 번째 줄부터 M+1번째 줄까지 각 줄에 명령이 주어진다.  \n",
    "  \n",
    "#### 출력\n",
    "은하수를 건널 수 있는 기차의 수를 출력하시오.  "
   ]
  },
  {
   "cell_type": "markdown",
   "metadata": {},
   "source": [
    "### ------------------------------------------------------------------------------"
   ]
  },
  {
   "cell_type": "markdown",
   "metadata": {},
   "source": [
    "기차 N개 각각 좌석 20개씩.. 명령다 수행한 후 1번기차부터.."
   ]
  },
  {
   "cell_type": "code",
   "execution_count": null,
   "metadata": {
    "collapsed": true
   },
   "outputs": [],
   "source": [
    "N, M = map(int, input().split())\n",
    "# 빈 좌석 20개짜리 기차 N개..  인덱스 조심\n",
    "trains = [[0]*21 for _ in range(N+1)]\n",
    "\n",
    "# 명령받아서 수행하기..\n",
    "for _ in range(M):\n",
    "    *order, = map(int, input().split())\n",
    "    # 태우기 명령. order[1]번째 기차에 order[2]번째 좌석에 태우기.\n",
    "    if order[0]==1:\n",
    "        trains[order[1]][order[2]] = 1\n",
    "    # 내리기 명령\n",
    "    elif order[0]==2:\n",
    "        trains[order[1]][order[2]] = 0\n",
    "    # 한칸씩 뒤로(20번째는 내려짐) order[1]번째 기차 한칸씩 뒤로..\n",
    "    elif order[0]==3:\n",
    "        trains[order[1]] = [0, 0] + trains[order[1]][1:-1]\n",
    "    # 한칸씩 앞으로(1번째는 내려짐)\n",
    "    else:\n",
    "        trains[order[1]] = [0] + trains[order[1]][2:] + [0]\n",
    "ans = 0\n",
    "state_set = set()\n",
    "# 1번기차부터 나가기\n",
    "for t in range(1, N+1):\n",
    "    # 본 상태가 아니면,\n",
    "    state = ''.join(map(str, trains[t]))\n",
    "    print(state)\n",
    "    if state not in state_set:\n",
    "        ans += 1\n",
    "        state_set.add(state)\n",
    "print(ans)"
   ]
  },
  {
   "cell_type": "markdown",
   "metadata": {},
   "source": [
    "바른 풀이가 아니다. 얘도 비트마스크로 해야할듯..?"
   ]
  },
  {
   "cell_type": "code",
   "execution_count": null,
   "metadata": {
    "collapsed": true
   },
   "outputs": [],
   "source": [
    "N, M = map(int, input().split())\n",
    "trains = [0] * "
   ]
  },
  {
   "cell_type": "code",
   "execution_count": null,
   "metadata": {
    "collapsed": true
   },
   "outputs": [],
   "source": [
    "# 내 잘못된 비트마스크.. ㅠㅠ 아 안잘못됐다!!!  sys.stdin.readline 안해서 느렸던거네\n",
    "N, M = map(int, input().split())\n",
    "# 빈 좌석 20개짜리 기차 N개.. 1은 아무도 안타있는 상태. 2^0\n",
    "trains = [1] * (N + 1)\n",
    "tot = 2**21 - 1\n",
    "# 명령받아서 수행하기..\n",
    "for _ in range(M):\n",
    "    *order, = map(int, input().split())\n",
    "    # 태우기 명령. order[1]번째 기차에 order[2]번째 좌석에 태우기.\n",
    "    if order[0]==1:\n",
    "        trains[order[1]] |= 1<<order[2]\n",
    "    # 내리기 명령.. 태우기 처럼 쉽게 안되나??\n",
    "    elif order[0]==2:\n",
    "        # 그 칸에 사람이 있으면.. 없으면 그냥 놔두기.\n",
    "        if trains[order[1]] & 1<<order[2]:\n",
    "            trains[order[1]] -= 1<<order[2]\n",
    "    # 한칸씩 뒤로(20번째는 내려짐) order[1]번째 기차 한칸씩 뒤로..\n",
    "    elif order[0]==3:\n",
    "        trains[order[1]] = ((trains[order[1]]<<1)&tot) - 1\n",
    "    # 한칸씩 앞으로(1번째는 내려짐)\n",
    "    else:\n",
    "        trains[order[1]] = ((trains[order[1]]>>1)&tot)|1\n",
    "print(len(set(trains)))"
   ]
  },
  {
   "cell_type": "code",
   "execution_count": null,
   "metadata": {
    "collapsed": true
   },
   "outputs": [],
   "source": [
    "#현진님 비트마스크\n",
    "import sys\n",
    "read = lambda : sys.stdin.readline().strip()\n",
    "(N, M) = map(int, read().split())\n",
    "A = [0 for i in range(0, N)]\n",
    "for i in range(M) :\n",
    "    X = [*map(int, read().split())]\n",
    "    if X[0] == 1 :\n",
    "        A[X[1] - 1] |= (1 << (X[2] - 1))\n",
    "    elif X[0] == 2 :\n",
    "        A[X[1] - 1] &= ~(1 << (X[2] - 1))\n",
    "    elif X[0] == 3:\n",
    "        A[X[1] - 1] <<= 1\n",
    "        A[X[1] - 1] &= ((1 << 20) - 1)\n",
    "    else:\n",
    "        A[X[1] - 1] >>= 1\n",
    "        A[X[1] - 1] &= ((1 << 20) - 1)\n",
    "st = set()\n",
    "ans = 0\n",
    "for i in range(0, N):\n",
    "    if A[i] in st:\n",
    "        continue\n",
    "    ans += 1\n",
    "    st.add(A[i])\n",
    "print(ans)"
   ]
  },
  {
   "cell_type": "markdown",
   "metadata": {},
   "source": [
    "## 4. 5588 별자리 찾기"
   ]
  },
  {
   "cell_type": "markdown",
   "metadata": {},
   "source": [
    "#### 문제\n",
    "상근이는 밤하늘 사진에서 별자리를 찾고 있다. 사진에는 꼭 찾고 싶은 별자리와 같은 형태, 방향, 크기의 도형이 한 개가 포함되어 있다.  \n",
    "하지만, 상근이가 가지고 있는 사진 속에는 별자리를 구성하는 별 이외에 다른 별도 찍혀 있다.  \n",
    "  \n",
    "왼쪽 그림은 상근이가 찾고자하는 별자리이다.  \n",
    "오른쪽 그림은 상근이가 가지고 있는 별자리 사진이고, 상근이가 찾은 별자리의 별은 동그라미가 쳐져 있다.  \n",
    "주어진 별자리의 별 좌표를 x방향으로 2, y방향으로 -3만큼 평행 이동하면 사진 속 위치가 된다.  \n",
    "\n",
    "<img src=\"https://www.acmicpc.net/upload/images/star1.png\" width=\"400\">\n",
    "<img src=\"https://www.acmicpc.net/upload/images/star2.png\" width=\"400\">\n",
    "  \n",
    "꼭 찾고 싶은 별자리의 모양과, 사진에 찍힌 별의 위치가 주어졌을 때,  \n",
    "별자리 좌표를 사진 속 좌표로 변환하기 위해 변환해야 하는 양을 구하는 프로그램을 작성하시오.  \n",
    "  \n",
    "#### 입력\n",
    "첫째 줄에 찾고 싶은 별자리를 구성하는 별의 개수 m이 주어진다. 다음 m개 줄에는 별자리를 구성하는 별의 x좌표와 y좌표가 주어진다.  \n",
    "다음 줄에는 사진의 별의 개수 n이 주어진다. 다음 n개 줄에는 사진에 있는 별의 x좌표와 y좌표가 주어진다.  \n",
    "(1 ≤ m ≤ 200, 1 ≤ n ≤ 1000) 별의 x 좌표와 y좌표는 0 이상, 1000000 이하이다.  \n",
    "  \n",
    "#### 출력\n",
    "첫째 줄에 찾고 싶은 별자리 좌표를 얼마나 평행 이동하면 사진 속의 좌표가 되는지를 출력한다.  \n",
    "첫 번째 정수는 x 방향으로 평행 이동하는 양이고, 두 번째 정수는 y 방향으로 평행 이동하는 양이다.  "
   ]
  },
  {
   "cell_type": "markdown",
   "metadata": {},
   "source": [
    "### ------------------------------------------------------------------------------"
   ]
  },
  {
   "cell_type": "markdown",
   "metadata": {},
   "source": [
    "O(n\\*m). 별자리의 별 하나와 전체 별 중 하나를 골라서 차이 계산. 다른 별자리위치에서 평행이동한 위치에 모두 별이 있는지 확인.  "
   ]
  },
  {
   "cell_type": "code",
   "execution_count": null,
   "metadata": {
    "collapsed": true
   },
   "outputs": [],
   "source": [
    "import sys\n",
    "input = sys.stdin.readline\n",
    "m = int(input())\n",
    "constellation = [tuple(map(int, input().split())) for _ in range(m)]\n",
    "n = int(input())\n",
    "stars = set(tuple(map(int, input().split())) for _ in range(n))\n",
    "\n",
    "cx, cy = constellation[0]\n",
    "for bx, by in starts:\n",
    "    dx, dy = bx - cx, by - cy\n",
    "    found = True\n",
    "    for rx, ry in constellation[1:]:\n",
    "        if (rx + dx, ry + dy) not in stars:\n",
    "            found = False\n",
    "            break\n",
    "    if found:\n",
    "        print(dx, dy)\n",
    "        break"
   ]
  },
  {
   "cell_type": "markdown",
   "metadata": {},
   "source": [
    "    5\n",
    "    8 5\n",
    "    6 4\n",
    "    4 3\n",
    "    7 10\n",
    "    0 10\n",
    "    10\n",
    "    10 5\n",
    "    2 7\n",
    "    9 7\n",
    "    8 10\n",
    "    10 2\n",
    "    1 2\n",
    "    8 1\n",
    "    6 7\n",
    "    6 0\n",
    "    0 9\n",
    "    ---\n",
    "    2 -3"
   ]
  },
  {
   "cell_type": "markdown",
   "metadata": {},
   "source": [
    "## 5. 11999 Milk Palis (Bronze)"
   ]
  },
  {
   "cell_type": "markdown",
   "metadata": {},
   "source": [
    "#### 문제\n",
    "Farmer John has received an order for exactly M units of milk (1 <= M<= 1,000) that he needs to fill right away.  \n",
    "Unfortunately, his fancy milking machine has just become broken,  \n",
    "and all he has are three milk pails of integer sizes X, Y, and M(1 <= X < Y < M).  \n",
    "All three pails are initially empty.  \n",
    "Using these three pails, he can perform any number of the following two types of operations:\n",
    "\n",
    "- He can fill the smallest pail (of size X) completely to the top with X units of milk and pour it into the size-M pail, as long as this will not cause the size-M pail to overflow.\n",
    "\n",
    "- He can fill the medium-sized pail (of size Y) completely to the top with Y units of milk and pour it into the size-M pail, as long as this will not cause the size-M pail to overflow.\n",
    "\n",
    "Although FJ realizes he may not be able to completely fill the size-M pail,  \n",
    "please help him determine the maximum amount of milk he can possibly add to this pail.  \n",
    "\n",
    "#### 입력\n",
    "The first, and only line of input, contains X, Y, and M, separated by spaces.\n",
    "\n",
    "#### 출력\n",
    "Output the maximum amount of milk FJ can possibly add to the size-M pail."
   ]
  },
  {
   "cell_type": "markdown",
   "metadata": {},
   "source": [
    "### ------------------------------------------------------------------------------"
   ]
  },
  {
   "cell_type": "markdown",
   "metadata": {},
   "source": [
    "M짜리를 다 채우고 싶은데 X, Y짜리 두 개를 이용해서 채우기. 안넘치게 넣을 수 있는 최대값 구하기.  \n",
    "재귀함수로 다 해볼까?"
   ]
  },
  {
   "cell_type": "code",
   "execution_count": null,
   "metadata": {
    "collapsed": true
   },
   "outputs": [],
   "source": [
    "import sys\n",
    "sys.setrecursionlimit(10**5)\n",
    "X, Y, M = map(int, input().split())\n",
    "max_size = float('-inf')\n",
    "def pour(pail=None, tot = 0):\n",
    "    global max_size\n",
    "    if tot>M:\n",
    "        if tot-pail > max_size:\n",
    "            max_size = tot-pail\n",
    "        return\n",
    "    pour(X, tot+X)\n",
    "    pour(Y, tot+Y)\n",
    "pour()\n",
    "print(max_size)"
   ]
  },
  {
   "cell_type": "markdown",
   "metadata": {},
   "source": [
    "재귀로 짜니까 시간초과난다.."
   ]
  },
  {
   "cell_type": "markdown",
   "metadata": {},
   "source": [
    "나눗셈 연산으로 가장 적게 남는 값 찾기..."
   ]
  },
  {
   "cell_type": "code",
   "execution_count": 20,
   "metadata": {
    "scrolled": true
   },
   "outputs": [
    {
     "name": "stdout",
     "output_type": "stream",
     "text": [
      "17 25 77\n",
      "76\n"
     ]
    }
   ],
   "source": [
    "X, Y, M = map(int, input().split())\n",
    "quotient = M//X\n",
    "print(M-min((M-i*X)%Y for i in range(quotient + 1)))"
   ]
  },
  {
   "cell_type": "code",
   "execution_count": null,
   "metadata": {
    "collapsed": true
   },
   "outputs": [],
   "source": [
    "# 끄읏.\n",
    "X, Y, M = map(int, input().split())\n",
    "print(M-min((M-i*X)%Y for i in range(M//X + 1)))"
   ]
  },
  {
   "cell_type": "markdown",
   "metadata": {},
   "source": [
    "## 6. 12001 Load Balancing (Bronze)"
   ]
  },
  {
   "cell_type": "markdown",
   "metadata": {},
   "source": [
    "#### 문제\n",
    "Farmer John's N cows are each standing at distinct locations  $(x_1, y_1)...(x_n, y_n)$ on his two-dimensional farm  \n",
    "(1 <= N <= 100, and the $x_i$'s and $y_i$'s are positive odd integers of size at most B).  \n",
    "FJ wants to partition his field by building a long (effectively infinite-length) north-south fence with equation $x = a$  \n",
    "(a will be an even integer, thus ensuring that he does not build the fence through the position of any cow).  \n",
    "He also wants to build a long (effectively infinite-length) east-west fence with equation $y = b$, where b is an even integer.  \n",
    "These two fences cross at the point $(a, b)$, and together they partition his field into four regions.  \n",
    "  \n",
    "FJ wants to choose a and b so that the cows appearing in the four resulting regions are reasonably \"balanced\",  \n",
    "with no region containing too many cows.  \n",
    "Letting M be the maximum number of cows appearing in one of the four regions, FJ wants to make M as small as possible.  \n",
    "Please help him determine this smallest possible value for M.  \n",
    "  \n",
    "For the first five test cases, B is guaranteed to be at most 100. In all test cases, B is guaranteed to be at most 1,000,000.  \n",
    "  \n",
    "#### 입력\n",
    "The first line of the input contains two integers, N and B.  \n",
    "The next n lines each contain the location of a single cow, specifying its x and y coordinates.    \n",
    "  \n",
    "#### 출력\n",
    "You should output the smallest possible value of M that FJ can achieve by positioning his fences optimally."
   ]
  },
  {
   "cell_type": "markdown",
   "metadata": {},
   "source": [
    "### ------------------------------------------------------------------------------"
   ]
  },
  {
   "cell_type": "markdown",
   "metadata": {},
   "source": [
    "일종의 이분탐색??  소들은 odd 좌표에 있고, fence는 even 에다 놓음...  \n",
    "펜스의 교점 (a, b)를 기준으로 네개로 나뉘는 공간에 소들의 수를 최대한 균일하게... 가장 큰 값이 최소가 되도록..  \n",
    "농장크기 최대 백만.. 완탐 절대 안되고, 소들의 수는 최대 100.   \n",
    "아.. 펜스 좌표 a, b는 100 안넘는구나.. 완탐하자."
   ]
  },
  {
   "cell_type": "code",
   "execution_count": null,
   "metadata": {
    "collapsed": true
   },
   "outputs": [],
   "source": [
    "import sys\n",
    "input = sys.stdin.readline\n",
    "\n",
    "N, B = map(int, input().split())\n",
    "locs = [tuple(map(int, input().split())) for _ in range(N)]\n",
    "\n",
    "min_max = float('inf')\n",
    "\n",
    "for b in range(0, 101, 2):\n",
    "    for a in range(0, 101, 2):\n",
    "        ul = ur = dl = dr = 0\n",
    "        for x y in locs:\n",
    "            if x < a:\n",
    "                if y > b:\n",
    "                    ul += 1\n",
    "                else:\n",
    "                    dl += 1\n",
    "            else:\n",
    "                if y > b:\n",
    "                    ur += 1\n",
    "                else:\n",
    "                    dr += 1\n",
    "        max_val = max(ul, ur, dl, dr)\n",
    "        if max_val < min_max:\n",
    "            min_max = max_val\n",
    "print(min_max)"
   ]
  },
  {
   "cell_type": "markdown",
   "metadata": {},
   "source": [
    "흠 뭐가 문제지...? 범위 100까지 아닌가?? ... 아아아ㅎㅎㅎㅎ  \n",
    "펜스를 100x100 해서 놓는게 아니라..  \n",
    "전체 소가 최대 100마리 뿐이니까 얘내의 좌표를 이용해서 구해보기.  \n",
    "오른쪽 윗 점을 기준으로 해보자"
   ]
  },
  {
   "cell_type": "code",
   "execution_count": null,
   "metadata": {
    "collapsed": true
   },
   "outputs": [],
   "source": [
    "import sys\n",
    "input = sys.stdin.readline\n",
    "\n",
    "N, B = map(int, input().split())\n",
    "locs = [tuple(map(int, input().split())) for _ in range(N)]\n",
    "\n",
    "min_max = float('inf')\n",
    "for i in range(N):\n",
    "    a, b = locs[i][0] + 1, locs[i][1] + 1\n",
    "    ul = ur = dl = dr = 0\n",
    "    for x, y in locs:\n",
    "        if x < a:\n",
    "            if y > b:\n",
    "                ul += 1\n",
    "            else:\n",
    "                dl += 1\n",
    "        else:\n",
    "            if y > b:\n",
    "                ur += 1\n",
    "            else:\n",
    "                dr += 1\n",
    "    max_val = max(ul, ur, dl, dr)\n",
    "    if max_val < min_max:\n",
    "        min_max = max_val\n",
    "print(min_max)    "
   ]
  },
  {
   "cell_type": "markdown",
   "metadata": {},
   "source": [
    "아 100x100만큼 봐야한다.... "
   ]
  },
  {
   "cell_type": "code",
   "execution_count": null,
   "metadata": {
    "collapsed": true
   },
   "outputs": [],
   "source": [
    "import sys\n",
    "input = sys.stdin.readline\n",
    "\n",
    "N, B = map(int, input().split())\n",
    "locs = [tuple(map(int, input().split())) for _ in range(N)]\n",
    "\n",
    "min_max = float('inf')\n",
    "for j in range(N):\n",
    "    for i in range(N):\n",
    "        a, b = locs[i][0] + 1, locs[j][1] + 1\n",
    "        ul = ur = dl = dr = 0\n",
    "        for x, y in locs:\n",
    "            if x < a:\n",
    "                if y > b:\n",
    "                    ul += 1\n",
    "                else:\n",
    "                    dl += 1\n",
    "            else:\n",
    "                if y > b:\n",
    "                    ur += 1\n",
    "                else:\n",
    "                    dr += 1\n",
    "        max_val = max(ul, ur, dl, dr)\n",
    "        if max_val < min_max:\n",
    "            min_max = max_val\n",
    "print(min_max)    "
   ]
  },
  {
   "cell_type": "markdown",
   "metadata": {},
   "source": [
    "되긴 된다.. 236ms..느림. 1등은 76ms. 역시 이분탐색으로 가능하구나..  \n",
    "코드 이해가 잘 안된다.. g가 뭐 하는 배열이지?? 동적계획법인가??ㅜ"
   ]
  },
  {
   "cell_type": "code",
   "execution_count": null,
   "metadata": {
    "collapsed": true
   },
   "outputs": [],
   "source": [
    "# 백준\n",
    "import sys\n",
    "from bisect import bisect_left as bs\n",
    "input=sys.stdin.readline\n",
    "N,b=map(int,input().split())\n",
    "xi=set()\n",
    "yi=set()\n",
    "cow=[]\n",
    "ans=sys.maxsize\n",
    "for _ in range(N):\n",
    "\tx,y=map(int,input().split())\n",
    "\txi.add(x);yi.add(y);cow.append((x,y))\n",
    "xi=sorted(xi)\n",
    "yi=sorted(yi)\n",
    "X=len(xi)\n",
    "Y=len(yi)\n",
    "g=[[0]*(X+1) for _ in range(Y+1)]\n",
    "for x,y in cow:g[bs(yi,y)+1][bs(xi,x)+1]+=1\n",
    "for y in range(1,Y+1):\n",
    "\ts=0\n",
    "\tfor x in range(1,X+1):s+=g[y][x];g[y][x]=g[y-1][x]+s\n",
    "S=g[Y][X]\n",
    "for b in range(Y):\n",
    "\tfor a in range(X):\n",
    "\t\tS1=g[b][X];S2=g[Y][a];S3=g[b][a]\n",
    "\t\tq=max([S-S1-S2+S3,S1-S3,S2-S3,S3])\n",
    "\t\tans=min(ans,q)\n",
    "print(ans)"
   ]
  },
  {
   "cell_type": "markdown",
   "metadata": {},
   "source": [
    "## 7. 12000 Circular Barn (Bronze)"
   ]
  },
  {
   "cell_type": "markdown",
   "metadata": {},
   "source": [
    "#### 문제\n",
    "Being a fan of contemporary architecture, Farmer John has built a new barn in the shape of a perfect circle. Inside, the barn consists of a ring of n rooms, numbered clockwise from 1...n around the perimeter of the barn (3<=n<=1,000). Each room has doors to its two neighboring rooms, and also a door opening to the exterior of the barn.\n",
    "\n",
    "Farmer John wants exactly $r_i$ cows to end up in each room $i(1<=r_i<=100)$. To herd the cows into the barn in an orderly fashion, he plans to unlock the exterior door of a single room, allowing the cows to enter through that door. Each cow then walks clockwise through the rooms until she reaches a suitable destination. Farmer John wants to unlock the exterior door that will cause his cows to collectively walk a minimum total amount of distance. Please determine the minimum total distance his cows will need to walk, if he chooses the best such door to unlock. The distance walked by a single cow is the number of interior doors through which she passes.\n",
    "\n",
    "#### 입력\n",
    "The first line of input contains n. Each of the remaining n lines contain $r_1...r_n$ .\n",
    "\n",
    "#### 출력\n",
    "Please write out the minimum total amount of distance the cows collectively need to travel."
   ]
  },
  {
   "cell_type": "markdown",
   "metadata": {},
   "source": [
    "### ------------------------------------------------------------------------------"
   ]
  },
  {
   "cell_type": "markdown",
   "metadata": {},
   "source": [
    "최대 1000가지 경우 다 해봐도 될듯??"
   ]
  },
  {
   "cell_type": "code",
   "execution_count": null,
   "metadata": {
    "collapsed": true
   },
   "outputs": [],
   "source": [
    "from collections import deque\n",
    "import sys\n",
    "input = sys.stdin.readline\n",
    "\n",
    "n = int(input())\n",
    "r = deque([int(input()) for _ in range(n)])\n",
    "\n",
    "min_moves = float('inf')\n",
    "for _ in range(n):\n",
    "    moves = sum(i * r[i] for i in range(n))\n",
    "    if moves<min_moves:\n",
    "        min_moves = moves\n",
    "    r.rotate(1)"
   ]
  },
  {
   "cell_type": "markdown",
   "metadata": {},
   "source": [
    "맞는데 느리다! 180ms. 1등은 60ms"
   ]
  },
  {
   "cell_type": "code",
   "execution_count": null,
   "metadata": {
    "collapsed": true
   },
   "outputs": [],
   "source": [
    "# cubelover\n",
    "import sys\n",
    "input = sys.stdin.readline\n",
    "n = int(input())\n",
    "a = [int(input()) for _ in range(n)]\n",
    "s = sum(a)\n",
    "# r: 최소값 / t: 현재 값. 0번에서 시작.\n",
    "r = t = sum(i * a[i] for i in range(n))\n",
    "# 시작 위치를 바꾸면~\n",
    "for i in range(n):\n",
    "    t += a[i] * n - s\n",
    "    if t < r:\n",
    "        r = t\n",
    "print(r)"
   ]
  },
  {
   "cell_type": "markdown",
   "metadata": {},
   "source": [
    "## 8. 1194 달이 차오른다, 가자."
   ]
  },
  {
   "cell_type": "markdown",
   "metadata": {},
   "source": [
    "#### 문제\n",
    "지금 민식이가 계획한 여행은 달이 맨 처음 뜨기 시작할 때 부터, 준비했던 여행길이다.  \n",
    "하지만, 매번 달이 차오를 때마다 민식이는 어쩔 수 없는 현실의 벽 앞에서 다짐을 포기하고 말았다.  \n",
    "  \n",
    "민식이는 매번 자신의 다짐을 말하려고 노력했지만, 말을 하면 아무도 못 알아들을 것만 같아서, 지레 겁먹고 벙어리가 되어버렸다.  \n",
    "결국 민식이는 모두 잠든 새벽 네시 반 홀로 일어나, 창 밖에 떠있는 달을 보았다.  \n",
    "  \n",
    "하루밖에 남지 않았다. 달은 내일이면 다 차오른다. 이번이 마지막기회다. 이걸 놓치면 영영 못간다.  \n",
    "  \n",
    "영식이는 민식이가 오늘도 여태것처럼 그냥 잠 들어버려서 못 갈지도 모른다고 생각했다.  \n",
    "하지만 그러기엔 민식이의 눈에는 저기 뜬 달이 너무나 떨렸다.  \n",
    "  \n",
    "민식이는 지금 미로 속에 있다. 미로는 직사각형 모양이고, 여행길을 떠나기 위해 미로를 탈출하려고 한다.  \n",
    "미로는 다음과 같이 구성되어져있다.  \n",
    "  \n",
    "빈 곳 : 언제나 이동할 수 있다. ('.‘로 표시됨)  \n",
    "벽 : 절대 이동할 수 없다. (‘#’)  \n",
    "열쇠 : 언제나 이동할 수 있다. 이 곳에 처음 들어가면 열쇠를 집는다. (소문자 a - f)  \n",
    "문 : 대응하는 열쇠가 있을 때만 이동할 수 있다. (대문자 a - f)  \n",
    "민식이의 현재 위치 : 빈 곳이고, 민식이가 현재 서 있는 곳이다. (숫자 0)  \n",
    "출구 : 달이 차오르기 때문에, 민식이가 가야하는 곳이다. 이 곳에 오면 미로를 탈출한다. (숫자 1)  \n",
    "달이 차오르는 기회를 놓치지 않기 위해서, 미로를 탈출하려고 한다. 한 번의 움직임은 현재 위치에서 수평이나 수직으로 한 칸 이동하는 것이다.  \n",
    "  \n",
    "민식이가 미로를 탈출하는데 걸리는 이동 횟수의 최솟값을 구하는 프로그램을 작성하시오.  \n",
    "  \n",
    "#### 입력\n",
    "첫째 줄에 미로의 세로 크기 N과 가로 크기 M이 주어진다. (N,M <= 50) 둘째 줄부터 N개의 줄에 미로의 모양이 주어진다.  \n",
    "같은 타입의 열쇠가 여러 개 있을 수 있고, 문도 마찬가지이다. 그리고, 영식이가 열쇠를 숨겨놓는 다면 문에 대응하는 열쇠가 없을 수도 있다.  \n",
    "0은 한 개, 1은 적어도 한 개 있다. 그리고, 열쇠는 여러 번 사용할 수 있다.  \n",
    "  \n",
    "#### 출력\n",
    "첫째 줄에 민식이가 미로를 탈출하는데 드는 이동 횟수의 최솟값을 출력한다. 만약 민식이가 미로를 탈출 할 수 없으면, -1을 출력한다.  "
   ]
  },
  {
   "cell_type": "markdown",
   "metadata": {},
   "source": [
    "### ------------------------------------------------------------------------------"
   ]
  },
  {
   "cell_type": "markdown",
   "metadata": {},
   "source": [
    "50x50x2<<7 체크배열? "
   ]
  },
  {
   "cell_type": "code",
   "execution_count": null,
   "metadata": {
    "collapsed": true
   },
   "outputs": [],
   "source": [
    "from collections import deque\n",
    "import sys\n",
    "input = sys.stdin.readline\n",
    "\n",
    "N, M = map(int, input().split())\n",
    "maze = []\n",
    "for y in range(N):\n",
    "    row = input().rstrip()\n",
    "    for x in range(M):\n",
    "        if row[x]==0:\n",
    "            sx, sy = x, y\n",
    "#         elif row[x]==1:\n",
    "#             ex, ey = x, y\n",
    "    maze.append(row)\n",
    "    \n",
    "visit = [[[False]*7 for _ in range(M)] for _ in range(N)]\n",
    "\n",
    "dx = 0, 0, 1, -1\n",
    "dy = 1, -1, 0, 0\n",
    "key = {'a':1, 'b':2, 'c':3, 'd':4, 'e':5, 'f':6}\n",
    "\n",
    "# 방문 체크해주는 함수.\n",
    "def check(x, y, keys):\n",
    "    for key in keys:\n",
    "        visit[y][x][key] = True\n",
    "        \n",
    "q = deque()\n",
    "q.append((sx, sy, set([0])))  # 좌표와, 열쇠정보. 0은 아무키도 없을때..\n",
    "visit[sy][sx][0] = True\n",
    "dist = 0\n",
    "while q:\n",
    "    for _ in range(len(q)):\n",
    "        cx, cy, keys = q.popleft()\n",
    "        # 네방향 탐색..\n",
    "        for d in range(4):\n",
    "            nx, ny = cx + dx[d], cy + dy[d]\n",
    "            # 범위내에 있음..\n",
    "            if nx>=0 and ny>= 0 and nx<M and ny<N:\n",
    "                # 갖고있는 모든 키에 대해서 하나라도 갖고 방문하지 않은 칸이라면.. 들어가본다.\n",
    "                if any(maze[ny][nx][k]==False for k in keys):\n",
    "                    # 탈출..\n",
    "                    if maze[ny][nx] == '1':\n",
    "                        print(dist + 1)\n",
    "                        exit()\n",
    "                    # \n",
    "                    # 열쇠찾음.\n",
    "                    elif maze[ny][nx] in 'abcdef':\n",
    "                        keys.add(key[maze[ny][nx]])\n",
    "                        check(nx, ny, keys)\n",
    "                        q.append((nx, ny, keys))\n",
    "                    # 벽.. 얘는 절대 못감.\n",
    "                    elif maze[ny][nx] == '#':\n",
    "                        visit[ny][nx] = [False]*7\n",
    "                    # 문. 키가 있어야 함.\n",
    "                    elif maze[ny][nx] in 'ABCDEF':\n",
    "                        # 키가 있으면\n",
    "                        if maze[ny][nx].lower() in keys:\n",
    "                            check(nx, ny, keys)\n",
    "                            q.append((nx, ny, keys))\n",
    "                    # 빈칸.! 여기가 문젠데\n",
    "                    else:\n",
    "                        check(nx, ny, keys)\n",
    "                        q.append((nx, ny, keys))                            \n",
    "    \n",
    "    dist += 1\n",
    "         "
   ]
  },
  {
   "cell_type": "markdown",
   "metadata": {},
   "source": [
    "이렇게 하면 레퍼런스 참조에서 못벗어난다 ㅠㅠ 비트마스크로 해보자"
   ]
  },
  {
   "cell_type": "markdown",
   "metadata": {},
   "source": [
    "하아 방문 체크도 조합으로??? 7개가 아니라 2<<8?? 아닌데.. 에반데.. 어케하지..  \n",
    "방문 배열을 미리 만들어 놓고 체크하지 말고 가졌던 상태를 set에 저장해서 반복되지 않게??  "
   ]
  },
  {
   "cell_type": "code",
   "execution_count": null,
   "metadata": {
    "collapsed": true
   },
   "outputs": [],
   "source": [
    "from collections import deque\n",
    "import sys\n",
    "input = sys.stdin.readline\n",
    "\n",
    "N, M = map(int, input().split())\n",
    "maze = []\n",
    "sx = sy = 0\n",
    "for y in range(N):\n",
    "    row = input().rstrip()\n",
    "    for x in range(M):\n",
    "        if row[x] == '0':\n",
    "            sx, sy = x, y\n",
    "    maze.append(row)\n",
    "\n",
    "dx = 0, 0, 1, -1\n",
    "dy = 1, -1, 0, 0\n",
    "key = {'a': 1, 'b': 2, 'c': 3, 'd': 4, 'e': 5, 'f': 6}\n",
    "\n",
    "# 방문했던 상태들 저장.\n",
    "visited = set()\n",
    "\n",
    "q = deque()\n",
    "q.append((sx, sy, 1))  # 좌표와, 열쇠정보. 1은 아무키도 없을때.. 2^0\n",
    "visited.add((sx, sy, 1))\n",
    "dist = 0\n",
    "while q:\n",
    "    for _ in range(len(q)):\n",
    "        cx, cy, keys = q.popleft()\n",
    "        # 네방향 탐색..\n",
    "        for d in range(4):\n",
    "            nx, ny = cx + dx[d], cy + dy[d]\n",
    "            # 범위내에 있고 벽이 아니라면\n",
    "            if nx >= 0 and ny >= 0 and nx < M and ny < N and maze[ny][nx] != '#':\n",
    "                # 방문하지 않은 상태라면\n",
    "                if (nx, ny, keys) not in visited:\n",
    "                    # 탈출..\n",
    "                    if maze[ny][nx] == '1':\n",
    "                        print(dist + 1)\n",
    "                        exit()\n",
    "                    # 열쇠찾음.\n",
    "                    elif maze[ny][nx] in 'abcdef':\n",
    "                        new_keys = keys | 1<<key[maze[ny][nx]]\n",
    "                        visited.add((nx, ny, new_keys))\n",
    "                        q.append((nx, ny, new_keys))\n",
    "                    # 문. 키가 있어야 함.\n",
    "                    elif maze[ny][nx] in 'ABCDEF':\n",
    "                        # 키가 있으면\n",
    "                        if 1<<key[maze[ny][nx].lower()] & keys:\n",
    "                            visited.add((nx, ny, keys))\n",
    "                            q.append((nx, ny, keys))\n",
    "                    # 빈칸.!\n",
    "                    else:\n",
    "                        visited.add((nx, ny, keys))\n",
    "                        q.append((nx, ny, keys))\n",
    "    dist += 1\n",
    "print(-1)"
   ]
  },
  {
   "cell_type": "markdown",
   "metadata": {},
   "source": [
    "와 됐다...."
   ]
  },
  {
   "cell_type": "markdown",
   "metadata": {},
   "source": [
    "## 9. 3193 백조의 호수"
   ]
  },
  {
   "cell_type": "markdown",
   "metadata": {},
   "source": [
    "#### 문제\n",
    "두 마리의 백조가 호수에서 살고 있었다. 그렇지만 두 마리는 호수를 덮고 있는 빙판으로 만나지 못한다.  \n",
    "  \n",
    "호수는 가로로 R, 세로로 C만큼의 직사각형 모양이다. 어떤 칸은 얼음으로 덮여있다.  \n",
    "  \n",
    "호수는 차례로 녹는데, 매일 물 공간과 접촉한 모든 빙판 공간은 녹는다.  \n",
    "두 개의 공간이 접촉하려면 가로나 세로로 닿아 있는 것만 (대각선은 고려하지 않는다) 생각한다.  \n",
    "  \n",
    "아래에는 세 가지 예가 있다.  \n",
    "  \n",
    "    ...XXXXXX..XX.XXX ....XXXX.......XX .....XX.......... \n",
    "    ....XXXXXXXXX.XXX .....XXXX..X..... ......X.......... \n",
    "    ...XXXXXXXXXXXX.. ....XXX..XXXX.... .....X.....X..... \n",
    "    ..XXXXX..XXXXXX.. ...XXX....XXXX... ....X......XX.... \n",
    "    .XXXXXX..XXXXXX.. ..XXXX....XXXX... ...XX......XX.... \n",
    "    XXXXXXX...XXXX... ..XXXX.....XX.... ....X............ \n",
    "    ..XXXXX...XXX.... ....XX.....X..... ................. \n",
    "    ....XXXXX.XXX.... .....XX....X..... ................. \n",
    "    in the beginning   after first day   after second day \n",
    "    \n",
    "백조는 오직 물 공간에서 세로나 가로로만(대각선은 제외한다) 움직일 수 있다.  \n",
    "  \n",
    "며칠이 지나야 백조들이 만날 수 있는 지 계산하는 프로그램을 작성한다.  \n",
    "  \n",
    "#### 입력\n",
    "입력의 첫째 줄에는 R과 C가 주어진다. 단, 1 ≤ R, C ≤ 1500.  \n",
    "  \n",
    "각 R줄 동안 C만큼의 문자열이 주어진다.  \n",
    "  \n",
    "'.'은 물 공간, 'X'는 빙판 공간, 'L'은 백조가 있는 공간으로 나타낸다.  \n",
    "  \n",
    "#### 출력\n",
    "첫째 줄에 문제에서 주어진 걸리는 날을 출력한다.  "
   ]
  },
  {
   "cell_type": "markdown",
   "metadata": {},
   "source": [
    "### ------------------------------------------------------------------------------"
   ]
  },
  {
   "cell_type": "markdown",
   "metadata": {},
   "source": [
    "size 상당히 크다.. 1500x1500 매일 얼음이 녹고, 백조들끼리 물로 이어져 있으면 만날 수 있다.. 며칠이 지나야 만날까?  \n",
    "어떻게풀면 좋을까... 얼음 녹이게 시뮬 하면 절대 안될거같고....??되나..\n",
    "flood fill 처럼 일단 한 백조가 이동가능한 모든 지역을 1로 채우고, 다른 백조가 이동가능한 지역은 2로 채우고..  \n",
    "그 다음부터 날짜가 지남에 따라 얼음을 녹여주기.."
   ]
  },
  {
   "cell_type": "code",
   "execution_count": null,
   "metadata": {
    "collapsed": true
   },
   "outputs": [],
   "source": [
    "from collections import deque\n",
    "import sys\n",
    "input = sys.stdin.readline\n",
    "R, C = map(int, input().split())\n",
    "\n",
    "# 호수 입력받고, 백조 두 마리의 현재 좌표 저장.\n",
    "# 이동 가능: '.' / 빙판(이동불가): '#' / 백조: 'L'\n",
    "lake = [list(input().rstrip())]\n",
    "swans = []\n",
    "# 다음날 녹을 빙판들... 큐 돌면서 빙판 녹여주고, 다음에 녹을애들 다시 큐에 저장..\n",
    "# 돌 때 카피한 다음에 지워줘야함!! 검사는 복사본으로.\n",
    "# 물 탐색 후에 다음 큐를 얘네로 쓴다!\n",
    "toBeMelted = set()\n",
    "\n",
    "# 일단 첫번째 줄..얘는 좌우만..\n",
    "for x in range(C):\n",
    "    if lake[0][x] == 'L':\n",
    "        swans.append((x, 0))\n",
    "    elif x > 0 and lake[0][x] == 'X' and lake[0][x - 1] in '.L':\n",
    "        toBeMelted.add((x, 0))\n",
    "    elif x < C-1 and lake[0][x] == 'X' and lake[0][x + 1] in '.L':\n",
    "        toBeMelted.add((x, 0))\n",
    "\n",
    "# 그 다음줄부터는 위, 옆 검사..\n",
    "for y in range(1, R):\n",
    "    row = list(input().rstrip())\n",
    "    for x in range(C):\n",
    "        if row[x] == 'L':\n",
    "            swans.append((x, y))\n",
    "        # 왼쪽이 물이면..\n",
    "        elif x > 0 and row[x] == 'X' and row[x - 1] in '.L':\n",
    "            toBeMelted.add((x, y))\n",
    "        # 오른쪽이 물이면..\n",
    "        elif x < C - 1 and row[x] == 'X' and row[x + 1] in '.L':\n",
    "            toBeMelted.add((x, y))\n",
    "        # 위가 물이면..\n",
    "        elif row[x] == 'X' and lake[y - 1][x] in '.L':\n",
    "            toBeMelted.add((x, y))\n",
    "        # 이전줄에서 밑에가 물인애 찾기.. 얘는 elif로 쓰면 안되지!\n",
    "        if row[x] in '.L' and lake[y - 1][x] == 'X':\n",
    "            toBeMelted.add((x, y - 1))\n",
    "    lake.append(row)\n",
    "\n",
    "# # 첫번째 줄 밑에 라인 검사 다시.\n",
    "# for x in range(C):\n",
    "#     if lake[0][x] == 'X' and lake[1][x] == '.':\n",
    "#         toBeMelted.add((x, 0))\n",
    "#     elif lake[0][x] == 'X' and lake[1][x] == '.':\n",
    "#         toBeMelted.add((x, 0))\n",
    "\n",
    "# 이제부터\n",
    "# 1. 백조 1 위치에서 연결된 모든 물을 탐색.\n",
    "# 2. 백조 2를 찾으면 종료, 없으면 하루가 지나 빙판을 녹인다.\n",
    "# 3. 다시 이동가능하면 1로 채운다. 백조2를 찾을때까지 반복(L)\n",
    "\n",
    "print(f'녹을 애들 좌표 {toBeMelted}')\n",
    "print(len(toBeMelted))\n",
    "dx = 0, 0, 1, -1\n",
    "dy = 1, -1, 0, 0\n",
    "\n",
    "visit = [[False] * C for _ in range(R)]\n",
    "\n",
    "q = deque()\n",
    "q.append(swans[0])\n",
    "visit[swans[0][1]][swans[0][0]] = True\n",
    "day = 0\n",
    "while True:\n",
    "    # 1. 백조1에서부터 물 지역 탐색. 가장자리를 저장해놔야하는데..\n",
    "    next_q = deque()\n",
    "    while q:\n",
    "        cx, cy = q.popleft()\n",
    "        lake[cy][cx] = '1'\n",
    "        for d in range(4):\n",
    "            nx, ny = cx + dx[d], cy + dy[d]\n",
    "            if nx >= 0 and ny >= 0 and nx < C and ny < R and not visit[ny][nx]:\n",
    "                # 물 탐색..\n",
    "                if lake[ny][nx] == '.':\n",
    "                    q.append((nx, ny))\n",
    "                    visit[ny][nx] = True\n",
    "                # 빙판이면 얘는 다음에 녹으니까 얘부터 시작..\n",
    "                elif lake[ny][nx] == 'X':\n",
    "                    next_q.append((nx, ny))\n",
    "                    visit[ny][nx] = True\n",
    "                elif lake[ny][nx] == 'L':\n",
    "                    print('찾았따')\n",
    "                    for i in range(R):\n",
    "                        print(''.join(lake[i]))\n",
    "                    print(day)\n",
    "                    exit()\n",
    "    # 다음에는 얘네부터\n",
    "    q = next_q\n",
    "    # 2. 빙판 녹여주기.\n",
    "    day += 1\n",
    "    copied = toBeMelted.copy()\n",
    "    next_melted = set()\n",
    "    for _ in range(len(copied)):\n",
    "        cx, cy = toBeMelted.pop()\n",
    "        lake[cy][cx] = '.'\n",
    "        # 현재 녹을 애가 아닌 안쪽의 빙판이면 다음에 녹을애에 추가.\n",
    "        for d in range(4):\n",
    "            nx, ny = cx + dx[d], cy + dy[d]\n",
    "            # 범위 안에 있고\n",
    "            if nx >= 0 and ny >= 0 and nx < C and ny < R:\n",
    "                # 현재 녹지 않는 빙판이라면..\n",
    "                if lake[ny][nx] == 'X' and (nx, ny) not in copied:\n",
    "                    next_melted.add((nx, ny))\n",
    "    print(f'{day}번 녹이고 나서 호수 모습..')\n",
    "    for i in range(R):\n",
    "        print(''.join(lake[i]))\n",
    "    toBeMelted = next_melted\n",
    "\n"
   ]
  },
  {
   "cell_type": "markdown",
   "metadata": {},
   "source": [
    "나오긴 하는거 같은데 시간초과.. 어떻게 줄이냐.. PyPy로 통과는 했지만 느리다.. 바른 풀이법이 아님."
   ]
  },
  {
   "cell_type": "markdown",
   "metadata": {},
   "source": [
    "## 10. 12888 완전 이진 트리 도로 네트워크"
   ]
  },
  {
   "cell_type": "markdown",
   "metadata": {},
   "source": [
    "#### 문제\n",
    "BOJ 나라는 도시와 두 도시를 연결하는 도로로 이루어져 있다. 이 나라의 도로 네트워크는 완전 이진 트리의 형태를 가진다.  \n",
    "  \n",
    "수빈이는 BOJ 나라의 도로 네트워크 트리의 높이 H를 알고 있다. 트리의 높이를 안다면, 도시의 개수와 도로의 개수도 구할 수 있다.  \n",
    "트리의 높이가 H인 경우에 도시의 개수는 $2^{H+1}-1$개 이고, 도로의 개수는 $2^{H+1}-2$개가 된다.  \n",
    "아래 그림은 H = 2일 때, 그림이다.  \n",
    "\n",
    "<img src=\"https://onlinejudgeimages.s3-ap-northeast-1.amazonaws.com/problem/12888/1.png\">\n",
    "\n",
    "수빈이는 도로 네트워크에 차를 보내려고 한다. 모든 차는 시작 도시와 도착 도시가 있으며, 같은 도시를 두 번 이상 방문하지 않는다.  \n",
    "차의 시작 도시와 도착 도시가 같을 수도 있다.  \n",
    "  \n",
    "모든 도시를 방문한 차의 개수가 모두 1개가 되기 위해서, 수빈이가 차를 최소 몇 대를 보내야 하는지 구하는 프로그램을 작성하시오.  \n",
    "  \n",
    "#### 입력\n",
    "첫째 줄에 H이 주어진다. (0 ≤ H ≤ 60)  \n",
    "  \n",
    "#### 출력\n",
    "모든 도시를 방문한 차의 개수가 모두 1개가 되기 위해서, 수빈이가 차를 최소 몇 대를 보내야 하는지 출력한다.  \n",
    "  \n",
    "정답은 항상 64비트 정수로 나타낼 수 있다.  "
   ]
  },
  {
   "cell_type": "markdown",
   "metadata": {},
   "source": [
    "### ------------------------------------------------------------------------------"
   ]
  },
  {
   "cell_type": "markdown",
   "metadata": {},
   "source": [
    "동적 계획법 memoization으로 쉽게 풀릴듯!"
   ]
  },
  {
   "cell_type": "code",
   "execution_count": 52,
   "metadata": {},
   "outputs": [
    {
     "name": "stdout",
     "output_type": "stream",
     "text": [
      "123\n",
      "7089215977519551322153637654828504405\n"
     ]
    }
   ],
   "source": [
    "H = int(input())\n",
    "if H<2:\n",
    "    print(1)\n",
    "    exit()\n",
    "\n",
    "memo = [None] * (H+1)\n",
    "temp = [None] * (H+1)\n",
    "memo[0] = 1\n",
    "memo[1] = 1\n",
    "temp[0] = 1\n",
    "temp[1] = 2\n",
    "for h in range(2, H + 1):\n",
    "    memo[h] = 2 * temp[h-2] + 1\n",
    "    temp[h] = temp[h-1] + memo[h]\n",
    "print(memo[H])"
   ]
  },
  {
   "cell_type": "code",
   "execution_count": 51,
   "metadata": {},
   "outputs": [
    {
     "name": "stdout",
     "output_type": "stream",
     "text": [
      "123\n",
      "7089215977519551322153637654828504405\n"
     ]
    }
   ],
   "source": [
    "# 이렇게 된다고??? 와아.. 신기\n",
    "n=int(input())\n",
    "v=2**(n+1)-1\n",
    "print(v//3+(1 if v%3 else 0))"
   ]
  },
  {
   "cell_type": "code",
   "execution_count": null,
   "metadata": {
    "collapsed": true
   },
   "outputs": [],
   "source": []
  }
 ],
 "metadata": {
  "kernelspec": {
   "display_name": "Python 3",
   "language": "python",
   "name": "python3"
  },
  "language_info": {
   "codemirror_mode": {
    "name": "ipython",
    "version": 3
   },
   "file_extension": ".py",
   "mimetype": "text/x-python",
   "name": "python",
   "nbconvert_exporter": "python",
   "pygments_lexer": "ipython3",
   "version": "3.6.3"
  }
 },
 "nbformat": 4,
 "nbformat_minor": 2
}
