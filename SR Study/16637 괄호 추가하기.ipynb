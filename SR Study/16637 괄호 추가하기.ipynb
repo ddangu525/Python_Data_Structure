{
 "cells": [
  {
   "cell_type": "markdown",
   "metadata": {},
   "source": [
    "### 문제\n",
    "길이가 N인 수식이 있다. 수식은 0보다 크거나 같고, 9보다 작거나 같은 정수와 연산자(+, -, ×)로 이루어져 있다.  \n",
    "연산자 우선순위는 모두 동일하기 때문에, 수식을 계산할 때는 왼쪽에서부터 순서대로 계산해야 한다. 예를 들어, 3+8×7-9×2의 결과는 136이다.  \n",
    "  \n",
    "수식에 괄호를 추가하면, 괄호 안에 들어있는 식은 먼저 계산해야 한다. 단, 괄호 안에는 연산자가 하나만 들어 있어야 한다.  \n",
    "예를 들어, 3+8×7-9×2에 괄호를 3+(8×7)-(9×2)와 같이 추가했으면, 식의 결과는 41이 된다. 하지만, 중첩된 괄호는 사용할 수 없다.  \n",
    "즉, 3+((8×7)-9)×2, 3+((8×7)-(9×2))은 모두 괄호 안에 괄호가 있기 때문에, 올바른 식이 아니다.  \n",
    "  \n",
    "수식이 주어졌을 때, 괄호를 적절히 추가해 만들 수 있는 식의 결과의 최댓값을 구하는 프로그램을 작성하시오.  \n",
    "추가하는 괄호 개수의 제한은 없으며, 추가하지 않아도 된다.  \n",
    "  \n",
    "### 입력\n",
    "첫째 줄에 수식의 길이 N(1 ≤ N ≤ 19)가 주어진다. 둘째 줄에는 수식이 주어진다. 수식에 포함된 정수는 모두 0보다 크거나 같고, 9보다 작거나 같다.  \n",
    "문자열은 정수로 시작하고, 연산자와 정수가 번갈아가면서 나온다. 연산자는 +, -, \\* 중 하나이다. 여기서 *는 곱하기 연산을 나타내는 × 연산이다.  \n",
    "항상 올바른 수식만 주어지기 때문에, N은 홀수이다.  \n",
    "  \n",
    "### 출력\n",
    "첫째 줄에 괄호를 적절히 추가해서 얻을 수 있는 결과의 최댓값을 출력한다. 정답은 $2^{31}$보다 작고, $-2^{31}$보다 크다."
   ]
  },
  {
   "cell_type": "markdown",
   "metadata": {},
   "source": [
    "### ------------------------------------------------------------------------------"
   ]
  },
  {
   "cell_type": "markdown",
   "metadata": {},
   "source": [
    "연산자 우선순위 동일. 왼쪽부터..   \n",
    "괄호를 추가하면 괄호 안에 식은 먼저 계산.. 괄호 안에는 연산자 하나만.  중첩괄호는 안됨.    \n",
    "적절히 괄호를 추가해 식 결과 최댓값 출력하기. 추가하는 괄호의 개수제한 없고, 추가하지 않아도 된다.  \n",
    "곱하는 값이 최대가 되고, 빼는 값이 최소가 되게.. 개수제한 없으니까..  \n",
    "조건으로??   \n",
    "1. '-'가 두 개 연속되면 괄호를 묶어서 +로 만든다.\n",
    "2. '+'  \n",
    "그냥 조합 만들어서 완탐 해야할것같다.   \n",
    "  \n",
    "괄호가 들어갈 수 있는 위치..연산자 양쪽으로 하나씩 ()..  \n",
    "다 해서 계산해보기  \n",
    "괄호 최대 개수는 N//3개   \n",
    "eval쓰면 우선순위가 적용됨 ㅜㅜ  \n",
    "괄호 제외하고는 앞에서부터 순서대로 계산해야함.."
   ]
  },
  {
   "cell_type": "code",
   "execution_count": 63,
   "metadata": {
    "scrolled": false
   },
   "outputs": [
    {
     "name": "stdout",
     "output_type": "stream",
     "text": [
      "9\n",
      "4*2+5-2*9\n",
      "return 되는곳! equation = ['4', '*', '2', '+', '5', '-', '2', '*', '9']\n",
      "ans = 99\n",
      "재귀적으로 실행되는곳.\n",
      "equation: ['4', '*', '2', '+', '5', '-', '2', '*', '9']\n",
      " i: 0\n",
      "equation[i] = 4\n",
      "equation[i+2] = 2\n",
      "return 되는곳! equation = ['(4', '*', '2)', '+', '5', '-', '2', '*', '9']\n",
      "ans = 99\n",
      "num = 1\n",
      "pos = [0, 0, 1, 0, 1, 0, 1, 0, 1]\n",
      "재귀적으로 실행되는곳.\n",
      "equation: ['4', '*', '2', '+', '5', '-', '2', '*', '9']\n",
      " i: 2\n",
      "equation[i] = 2\n",
      "equation[i+2] = 5\n",
      "return 되는곳! equation = ['4', '*', '(2', '+', '5)', '-', '2', '*', '9']\n",
      "ans = 234\n",
      "num = 1\n",
      "pos = [0, 0, 0, 0, 1, 0, 1, 0, 1]\n",
      "재귀적으로 실행되는곳.\n",
      "equation: ['4', '*', '2', '+', '5', '-', '2', '*', '9']\n",
      " i: 4\n",
      "equation[i] = 5\n",
      "equation[i+2] = 2\n",
      "return 되는곳! equation = ['4', '*', '2', '+', '(5', '-', '2)', '*', '9']\n",
      "ans = 99\n",
      "num = 1\n",
      "pos = [0, 0, 0, 0, 0, 0, 1, 0, 1]\n",
      "재귀적으로 실행되는곳.\n",
      "equation: ['4', '*', '2', '+', '5', '-', '2', '*', '9']\n",
      " i: 6\n",
      "equation[i] = 2\n",
      "equation[i+2] = 9\n",
      "return 되는곳! equation = ['4', '*', '2', '+', '5', '-', '(2', '*', '9)']\n",
      "ans = -5\n",
      "num = 1\n",
      "pos = [0, 0, 0, 0, 0, 0, 0, 0, 1]\n",
      "백트래킹 후 equation = ['4', '*', '2', '+', '5', '-', '2', '*', '9']\n",
      "백트래킹 후 equation = ['4', '*', '2', '+', '5', '-', '(2', '*', '9)']\n",
      "백트래킹 후 equation = ['4', '*', '2', '+', '(5', '-', '2)', '*', '9']\n",
      "백트래킹 후 equation = ['4', '*', '(2', '+', '5)', '-', '2', '*', '9']\n",
      "재귀적으로 실행되는곳.\n",
      "equation: ['4', '*', '(2', '+', '5)', '-', '2', '*', '9']\n",
      " i: 6\n",
      "equation[i] = 2\n",
      "equation[i+2] = 9\n",
      "return 되는곳! equation = ['4', '*', '(2', '+', '5)', '-', '(2', '*', '9)']\n",
      "ans = 10\n",
      "num = 1\n",
      "pos = [0, 0, 0, 0, 0, 0, 0, 0, 1]\n",
      "백트래킹 후 equation = ['4', '*', '2', '+', '5', '-', '2', '*', '9']\n",
      "재귀적으로 실행되는곳.\n",
      "equation: ['4', '*', '2', '+', '5', '-', '2', '*', '9']\n",
      " i: 4\n",
      "equation[i] = 5\n",
      "equation[i+2] = 2\n",
      "num = 2\n",
      "pos = [0, 0, 0, 0, 0, 0, 1, 0, 1]\n",
      "재귀적으로 실행되는곳.\n",
      "equation: ['4', '*', '2', '+', '5', '-', '2', '*', '9']\n",
      " i: 6\n",
      "equation[i] = 2\n",
      "equation[i+2] = 9\n",
      "num = 2\n",
      "pos = [0, 0, 0, 0, 0, 0, 0, 0, 1]\n",
      "백트래킹 후 equation = ['4', '*', '2', '+', '5', '-', '2', '*', '9']\n",
      "백트래킹 후 equation = ['4', '*', '2', '+', '5', '-', '(2', '*', '9)']\n",
      "234\n"
     ]
    }
   ],
   "source": [
    "N = int(input())\n",
    "eq = list(input())              # 홀수번째 index가 괄호. 리스트로 받자...\n",
    "max_value = float('-inf')       # 최대값 초기화.\n",
    "\n",
    "# 식 eq에 괄호를 num개 추가하는 경우 중 최대 결과값 return하게.재귀적으로 짜자..\n",
    "def insert(equation, num, pos = [1]+ [0, 1] * (N//2)): # 해당 위치에 괄호를 넣을 수 있는지  \n",
    "    global max_value\n",
    "    # 추가할 괄호가 없다면 값 return.\n",
    "    if num==0:  \n",
    "        print(f'return 되는곳! equation = {equation}')\n",
    "        # 1. 괄호 먼저 계산해서 식 바꿔주기...\n",
    "        i = 0 \n",
    "        len_eq = N\n",
    "        while i<len_eq:\n",
    "            if '(' in equation[i]:                       # 괄호가 있다면 먼저 계산해주기\n",
    "                result = eval(''.join(equation[i:i+3])) # 이건 eval로 계산 가능.\n",
    "                equation = equation[:i] + [result] + equation[i+3:]\n",
    "                len_eq -= 2   # 식의 길이가 줄어듦.  3개가 1개로.\n",
    "            i += 1 \n",
    "        # 2. 이제 앞에서부터 순서대로 계산\n",
    "        ans = equation[0] # 첫번째 값 넣어주고..\n",
    "        for i in range(1, len_eq, 2):  # 현재 값 (연산자) 바로 오른쪽값\n",
    "            ans = eval(f'{ans}{equation[i]}{equation[i+1]}')  # ans 값 update.\n",
    "        # 결과 return\n",
    "        print(f'ans = {ans}')\n",
    "        return ans\n",
    "    \n",
    "    cur_value = 0\n",
    "    for i in range(0, N-2, 2): # 괄호 num개중 처음 넣을 위치.. 끝에는 여는괄호가 안됨...\n",
    "        if pos[i]: # 괄호 넣기 가능하다면,\n",
    "            print('재귀적으로 실행되는곳.')\n",
    "            print(f'equation: {equation}\\n i: {i}')\n",
    "            print(f'equation[i] = {equation[i]}')\n",
    "            print(f'equation[i+2] = {equation[i+2]}')\n",
    "            equation[i] = '(' + equation[i]  # 여는 괄호 추가.\n",
    "            equation[i+2] = equation[i+2] + ')' # 닫는 괄호 추가.\n",
    "            pos[i] = pos[i+2] = 0 # 이제 이 위치는 괄호 불가.\n",
    "            \n",
    "            cur_value = insert(equation, num-1, pos)\n",
    "            if cur_value>max_value: \n",
    "                max_value = cur_value\n",
    "            \n",
    "            equation = eq[:]\n",
    "            pos = [0]*(i+2) + [1] + [0, 1] * ((N-(i+2))//2)\n",
    "            print(f'num = {num}')\n",
    "            print(f'pos = {pos}')\n",
    "            cur_value = insert(equation, num, pos)\n",
    "            print(f'백트래킹 후 equation = {equation}')\n",
    "            if cur_value>max_value: \n",
    "                max_value = cur_value\n",
    "                \n",
    "    # 괄호를 넣을 데가 없는경우..\n",
    "    if num>0:\n",
    "        return float('-inf')\n",
    "    \n",
    "for i in range(0, (N+1)//4+1):     # 괄호 0개부터 N//3개까지 넣어보기.\n",
    "    eq_temp = eq[:]             # 괄호추가하기 위해 복사.\n",
    "    value = insert(eq_temp, i)  # 복사한 식에 괄호 i개를 넣는 경우중 최대값.\n",
    "    if value > max_value:\n",
    "        max_value = value\n",
    "print(max_value)"
   ]
  },
  {
   "cell_type": "markdown",
   "metadata": {},
   "source": [
    "9  \n",
    "3+8\\*7-9\\*2  \n",
    "\n",
    "---\n",
    "136"
   ]
  },
  {
   "cell_type": "markdown",
   "metadata": {},
   "source": [
    "19  \n",
    "1\\*2+3\\*4\\*5-6\\*7\\*8\\*9\\*9  \n",
    "\n",
    "---\n",
    "426384"
   ]
  },
  {
   "cell_type": "code",
   "execution_count": 54,
   "metadata": {},
   "outputs": [
    {
     "data": {
      "text/plain": [
       "5"
      ]
     },
     "execution_count": 54,
     "metadata": {},
     "output_type": "execute_result"
    }
   ],
   "source": [
    "9//2+1"
   ]
  },
  {
   "cell_type": "code",
   "execution_count": null,
   "metadata": {
    "collapsed": true
   },
   "outputs": [],
   "source": [
    "19\n",
    "1*2+3*4*5-6*7*8*9*0      426384\n",
    "\n",
    "7\n",
    "8*3+5+2                  66"
   ]
  }
 ],
 "metadata": {
  "kernelspec": {
   "display_name": "Python 3",
   "language": "python",
   "name": "python3"
  },
  "language_info": {
   "codemirror_mode": {
    "name": "ipython",
    "version": 3
   },
   "file_extension": ".py",
   "mimetype": "text/x-python",
   "name": "python",
   "nbconvert_exporter": "python",
   "pygments_lexer": "ipython3",
   "version": "3.6.3"
  }
 },
 "nbformat": 4,
 "nbformat_minor": 2
}
