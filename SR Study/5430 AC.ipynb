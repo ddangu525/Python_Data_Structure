{
 "cells": [
  {
   "cell_type": "markdown",
   "metadata": {},
   "source": [
    "#### 문제\n",
    "선영이는 주말에 할 일이 없어서 새로운 언어 AC를 만들었다. AC는 정수 배열에 연산을 하기 위해 만든 언어이다.  \n",
    "이 언어에는 두 가지 함수 R(뒤집기)과 D(버리기)가 있다.  \n",
    "  \n",
    "함수 R은 배열에 있는 숫자의 순서를 뒤집는 함수이고, D는 첫 번째 숫자를 버리는 함수이다.  \n",
    "배열이 비어있는데 D를 사용한 경우에는 에러가 발생한다.  \n",
    "  \n",
    "함수는 조합해서 한 번에 사용할 수 있다. 예를 들어, \"AB\"는 A를 수행한 다음에 바로 이어서 B를 수행하는 함수이다.  \n",
    "예를 들어, \"RDD\"는 배열을 뒤집은 다음 처음 두 숫자를 버리는 함수이다.  \n",
    "  \n",
    "배열의 초기값과 수행할 함수가 주어졌을 때, 최종 결과를 구하는 프로그램을 작성하시오.  \n",
    "  \n",
    "#### 입력\n",
    "첫째 줄에 테스트 케이스의 개수 T가 주어진다. T는 최대 100이다.  \n",
    "  \n",
    "각 테스트 케이스의 첫째 줄에는 수행할 함수 p가 주어진다. p의 길이는 1보다 크거나 같고, 100,000보다 작거나 같다.  \n",
    "  \n",
    "다음 줄에는 배열에 들어있는 수의 개수 n이 주어진다. (0 ≤ n ≤ 100,000)  \n",
    "  \n",
    "다음 줄에는 [x1,...,xn]과 같은 형태로 배열에 들어있는 수가 주어진다. (1 ≤ $x_i$ ≤ 100)  \n",
    "  \n",
    "전체 테스트 케이스에 주어지는 p의 길이의 합과 n의 합은 70만을 넘지 않는다.  \n",
    "  \n",
    "#### 출력\n",
    "각 테스트 케이스에 대해서, 입력으로 주어진 정수 배열에 함수를 수행한 결과를 출력한다. 만약, 에러가 발생한 경우에는 error를 출력한다.  "
   ]
  },
  {
   "cell_type": "code",
   "execution_count": 12,
   "metadata": {},
   "outputs": [
    {
     "name": "stdout",
     "output_type": "stream",
     "text": [
      "[1, 2, 3, 4]\n"
     ]
    }
   ],
   "source": [
    "print(a.__str__())"
   ]
  },
  {
   "cell_type": "markdown",
   "metadata": {},
   "source": [
    "### --------------------------------------------------------------------------------------------------------------------------------------------"
   ]
  },
  {
   "cell_type": "markdown",
   "metadata": {},
   "source": [
    "R연산을 계속 하지 말고, 어디서 삭제할지 플래그로 사용하고 출력할때만 고려"
   ]
  },
  {
   "cell_type": "code",
   "execution_count": 17,
   "metadata": {},
   "outputs": [
    {
     "name": "stdout",
     "output_type": "stream",
     "text": [
      "4\n",
      "RDD\n",
      "4\n",
      "[1,2,3,4]\n",
      "[2,1]\n",
      "DD\n",
      "1\n",
      "[42]\n",
      "error\n"
     ]
    }
   ],
   "source": [
    "from collections import deque\n",
    "for _ in range(int(input())):\n",
    "    p = input().replace('RR', '')\n",
    "    input()\n",
    "    arr = deque(eval(input()))\n",
    "    for i in p:\n",
    "        if i == 'R':\n",
    "            arr.reverse()\n",
    "        else:\n",
    "            if not arr:\n",
    "                print('error')\n",
    "                break\n",
    "            else:\n",
    "                arr.popleft()\n",
    "    else:\n",
    "        print(f\"[{','.join(map(str, arr))}]\")\n",
    "        continue  "
   ]
  },
  {
   "cell_type": "code",
   "execution_count": 18,
   "metadata": {},
   "outputs": [
    {
     "data": {
      "text/plain": [
       "False"
      ]
     },
     "execution_count": 18,
     "metadata": {},
     "output_type": "execute_result"
    }
   ],
   "source": [
    "a = True\n",
    "b = not a\n",
    "b"
   ]
  },
  {
   "cell_type": "code",
   "execution_count": 18,
   "metadata": {
    "scrolled": true
   },
   "outputs": [
    {
     "name": "stdout",
     "output_type": "stream",
     "text": [
      "1\n",
      "RDD\n",
      "4\n",
      "[1,2,3,4]\n",
      "[2,1]\n"
     ]
    }
   ],
   "source": [
    "from collections import deque\n",
    "# import sys\n",
    "# input = sys.stdin.readline\n",
    "\n",
    "for _ in range(int(input())):\n",
    "    del_front = True\n",
    "    p = input().rstrip().replace('RR', '')\n",
    "    input()\n",
    "    arr = deque(eval(input().rstrip()))\n",
    "    for i in p:\n",
    "        if i == 'R':\n",
    "            del_front = not del_front\n",
    "        else:\n",
    "            if not arr:\n",
    "                print('error')\n",
    "                break\n",
    "            else:\n",
    "                if del_front:\n",
    "                    arr.popleft()\n",
    "                else:\n",
    "                    arr.pop()\n",
    "    else:\n",
    "        if del_front:\n",
    "            print(f\"[{','.join(map(str, arr))}]\")\n",
    "        else:\n",
    "            print(f\"[{','.join(map(str, reversed(arr)))}]\")\n",
    "        continue  "
   ]
  },
  {
   "cell_type": "markdown",
   "metadata": {},
   "source": [
    "삭제연산도 하지 말고 그냥 head, tail index를 바꿔가며 풀면 좀 더 빠르겠다..eval쓰는것도 느린이윤가?? 그러네.."
   ]
  },
  {
   "cell_type": "code",
   "execution_count": null,
   "metadata": {
    "collapsed": true
   },
   "outputs": [],
   "source": []
  },
  {
   "cell_type": "code",
   "execution_count": 16,
   "metadata": {},
   "outputs": [
    {
     "name": "stdout",
     "output_type": "stream",
     "text": [
      "[3, 2]\n"
     ]
    }
   ],
   "source": [
    "a=[1,2,3]\n",
    "print(a[2:0:-1])"
   ]
  },
  {
   "cell_type": "code",
   "execution_count": 25,
   "metadata": {},
   "outputs": [
    {
     "name": "stdout",
     "output_type": "stream",
     "text": [
      "1\n",
      "R\n",
      "0\n",
      "[]\n",
      "[]\n"
     ]
    }
   ],
   "source": [
    "# import sys\n",
    "# input = sys.stdin.readline\n",
    "\n",
    "for _ in range(int(input())):\n",
    "    del_front = True\n",
    "    p = input().rstrip()\n",
    "    input()\n",
    "    arr = input().rstrip()[1:-1].split(',')\n",
    "    left, right = 0, len(arr) and len(arr) - 1 or 0\n",
    "    for i in p:\n",
    "        if i == 'R':\n",
    "            del_front = not del_front\n",
    "        else:\n",
    "            if left >= right:\n",
    "                print('error')\n",
    "                break\n",
    "            else:\n",
    "                if del_front:\n",
    "                    left += 1\n",
    "                else:\n",
    "                    right -= 1\n",
    "    else:\n",
    "        if del_front:\n",
    "            print(f\"[{','.join(arr[left:right+1])}]\")\n",
    "        else:\n",
    "            print(f\"[{','.join(arr[i] for i in range(right, left-1, -1))}]\")"
   ]
  },
  {
   "cell_type": "markdown",
   "metadata": {},
   "source": [
    "#### %timeit a = [eval('[1,2,3,4]')]"
   ]
  },
  {
   "cell_type": "code",
   "execution_count": 7,
   "metadata": {},
   "outputs": [
    {
     "name": "stdout",
     "output_type": "stream",
     "text": [
      "1.41 µs ± 212 ns per loop (mean ± std. dev. of 7 runs, 100000 loops each)\n"
     ]
    }
   ],
   "source": [
    "%timeit a = '[1,2,3,4]'[1:-1].split()"
   ]
  },
  {
   "cell_type": "markdown",
   "metadata": {},
   "source": [
    "```\n",
    "4\n",
    "RDD\n",
    "4\n",
    "[1,2,3,4]\n",
    "DD\n",
    "1\n",
    "[42]\n",
    "RRD\n",
    "6\n",
    "[1,1,2,3,5,8]\n",
    "D\n",
    "0\n",
    "[]\n",
    "\n",
    "----\n",
    "[2,1]\n",
    "error\n",
    "[1,2,3,5,8]\n",
    "error\n",
    "```"
   ]
  }
 ],
 "metadata": {
  "kernelspec": {
   "display_name": "Python 3",
   "language": "python",
   "name": "python3"
  },
  "language_info": {
   "codemirror_mode": {
    "name": "ipython",
    "version": 3
   },
   "file_extension": ".py",
   "mimetype": "text/x-python",
   "name": "python",
   "nbconvert_exporter": "python",
   "pygments_lexer": "ipython3",
   "version": "3.6.3"
  }
 },
 "nbformat": 4,
 "nbformat_minor": 2
}
