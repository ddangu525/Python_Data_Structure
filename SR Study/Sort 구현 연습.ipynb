{
 "cells": [
  {
   "cell_type": "code",
   "execution_count": 1,
   "metadata": {
    "collapsed": true
   },
   "outputs": [],
   "source": [
    "import random"
   ]
  },
  {
   "cell_type": "code",
   "execution_count": 3,
   "metadata": {},
   "outputs": [
    {
     "data": {
      "text/plain": [
       "14"
      ]
     },
     "execution_count": 3,
     "metadata": {},
     "output_type": "execute_result"
    }
   ],
   "source": [
    "a = random.randint(0, 100)\n",
    "a"
   ]
  },
  {
   "cell_type": "code",
   "execution_count": 22,
   "metadata": {},
   "outputs": [
    {
     "data": {
      "text/plain": [
       "[23, 18, 34, 9, 24, 34, 4, 39, 31, 6, 17, 37, 17, 31, 17, 35, 36, 30, 23, 21]"
      ]
     },
     "execution_count": 22,
     "metadata": {},
     "output_type": "execute_result"
    }
   ],
   "source": [
    "unsorted_list = [random.randint(0,40) for _ in range(20)]\n",
    "unsorted_list"
   ]
  },
  {
   "cell_type": "code",
   "execution_count": 23,
   "metadata": {
    "collapsed": true
   },
   "outputs": [],
   "source": [
    "# 버블 정렬\n",
    "# 인접한 원소를 모두 비교해보면서. O(N^2)\n",
    "def bubble_sort(lst):\n",
    "    n = len(lst)\n",
    "    for i in range(n - 1):\n",
    "        for j in range(i, n):\n",
    "            if lst[i] > lst[j]:\n",
    "                lst[i], lst[j] = lst[j], lst[i]"
   ]
  },
  {
   "cell_type": "code",
   "execution_count": 24,
   "metadata": {},
   "outputs": [
    {
     "data": {
      "text/plain": [
       "[4, 6, 9, 17, 17, 17, 18, 21, 23, 23, 24, 30, 31, 31, 34, 34, 35, 36, 37, 39]"
      ]
     },
     "execution_count": 24,
     "metadata": {},
     "output_type": "execute_result"
    }
   ],
   "source": [
    "test = unsorted_list[:]\n",
    "bubble_sort(test)\n",
    "test"
   ]
  },
  {
   "cell_type": "code",
   "execution_count": 27,
   "metadata": {},
   "outputs": [],
   "source": [
    "# 삽입 정렬\n",
    "# 이미 정렬된 부분에 적당한 위치에 삽입해서 정렬.\n",
    "def insertion_sort(lst):\n",
    "    n = len(lst)\n",
    "    for i in range(1, n):\n",
    "        j = i\n",
    "        while j>0 and lst[j-1] > lst[j]:\n",
    "            lst[j], lst[j-1] = lst[j-1], lst[j]\n",
    "            j = j - 1"
   ]
  },
  {
   "cell_type": "code",
   "execution_count": 28,
   "metadata": {},
   "outputs": [
    {
     "name": "stdout",
     "output_type": "stream",
     "text": [
      "[23, 18, 34, 9, 24, 34, 4, 39, 31, 6, 17, 37, 17, 31, 17, 35, 36, 30, 23, 21]\n",
      "[4, 6, 9, 17, 17, 17, 18, 21, 23, 23, 24, 30, 31, 31, 34, 34, 35, 36, 37, 39]\n"
     ]
    }
   ],
   "source": [
    "test = unsorted_list[:]\n",
    "print(test)\n",
    "insertion_sort(test)\n",
    "print(test)"
   ]
  },
  {
   "cell_type": "code",
   "execution_count": 29,
   "metadata": {
    "collapsed": true
   },
   "outputs": [],
   "source": [
    "# 선택 정렬\n",
    "# 남은 원소중 가장 작은 애를 찾아서 앞으로.. swap회수가 적다.\n",
    "def selection_sort(lst):\n",
    "    n = len(lst)\n",
    "    for i in range(n - 1):\n",
    "        idx = i\n",
    "        for j in range(i, n):\n",
    "            if lst[idx] > lst[j]:\n",
    "                idx = j\n",
    "        lst[i], lst[idx] = lst[idx], lst[i]"
   ]
  },
  {
   "cell_type": "code",
   "execution_count": 30,
   "metadata": {},
   "outputs": [
    {
     "name": "stdout",
     "output_type": "stream",
     "text": [
      "[23, 18, 34, 9, 24, 34, 4, 39, 31, 6, 17, 37, 17, 31, 17, 35, 36, 30, 23, 21]\n",
      "[4, 6, 9, 17, 17, 17, 18, 21, 23, 23, 24, 30, 31, 31, 34, 34, 35, 36, 37, 39]\n"
     ]
    }
   ],
   "source": [
    "test = unsorted_list[:]\n",
    "print(test)\n",
    "selection_sort(test)\n",
    "print(test)"
   ]
  },
  {
   "cell_type": "code",
   "execution_count": null,
   "metadata": {
    "collapsed": true
   },
   "outputs": [],
   "source": [
    "# 퀵 소트\n",
    "# 어떤 Pivot을 기준으로 작은 애는 왼쪽, 큰 애는 오른쪽으로."
   ]
  }
 ],
 "metadata": {
  "kernelspec": {
   "display_name": "Python 3",
   "language": "python",
   "name": "python3"
  },
  "language_info": {
   "codemirror_mode": {
    "name": "ipython",
    "version": 3
   },
   "file_extension": ".py",
   "mimetype": "text/x-python",
   "name": "python",
   "nbconvert_exporter": "python",
   "pygments_lexer": "ipython3",
   "version": "3.6.3"
  }
 },
 "nbformat": 4,
 "nbformat_minor": 2
}
