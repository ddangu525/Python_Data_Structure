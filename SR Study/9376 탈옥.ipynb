{
 "cells": [
  {
   "cell_type": "markdown",
   "metadata": {},
   "source": [
    "#### 문제\n",
    "상근이는 감옥에서 죄수 두 명을 탈옥시켜야 한다. 이 감옥은 1층짜리 건물이고, 상근이는 방금 평면도를 얻었다.  \n",
    "  \n",
    "평면도에는 모든 벽과 문이 나타나있고, 탈옥시켜야 하는 죄수의 위치도 나타나 있다.  \n",
    "감옥은 무인 감옥으로 죄수 두 명이 감옥에 있는 유일한 사람이다.  \n",
    "  \n",
    "문은 중앙 제어실에서만 열 수 있다. 상근이는 특별한 기술을 이용해 제어실을 통하지 않고 문을 열려고 한다.  \n",
    "하지만, 문을 열려면 시간이 매우 많이 걸린다. 두 죄수를 탈옥시키기 위해서 열어야 하는 문의 개수를 구하는 프로그램을 작성하시오.  \n",
    "  \n",
    "#### 입력\n",
    "첫째 줄에 테스트 케이스의 개수가 주어진다. 테스트 케이스의 수는 100개를 넘지 않는다.  \n",
    "  \n",
    "첫째 줄에는 평면도의 높이 h와 너비 w가 주어진다. (2 ≤ h, w ≤ 100)  \n",
    "다음 h개 줄에는 감옥의 평면도 정보가 주어지며, 빈 공간은 '.', 지나갈 수 없는 벽은 '*', 문은 '#', 죄수의 위치는 '$'이다.  \n",
    "  \n",
    "상근이는 감옥 밖을 자유롭게 이동할 수 있고, 평면도에 표시된 죄수의 수는 항상 두 명이다.  \n",
    "각 죄수와 감옥의 바깥을 연결하는 경로가 항상 존재하는 경우만 입력으로 주어진다.  \n",
    "  \n",
    "#### 출력\n",
    "각 테스트 케이스마다 두 죄수를 탈옥시키기 위해서 열어야 하는 문의 최솟값을 출력한다.  "
   ]
  },
  {
   "cell_type": "markdown",
   "metadata": {},
   "source": [
    "### ------------------------------------------------------------------------------"
   ]
  },
  {
   "cell_type": "markdown",
   "metadata": {},
   "source": [
    "현재 위치와 바깥과 연결된 문이나 빈칸을 탈출지점으로 저장해놔야할듯.  \n",
    "그리고 문의 정보도..  \n",
    "일단 100x100이고... 문을 항상 반드시 열어야 하는 것은 아님... 매우 돌아가도 상관없이 문을 최소한으로 열도록..  \n",
    "  \n",
    "와 빡센데??  \n",
    "일단 두 죄수 각각 visit체크를 해줘야 하나? 두 죄수가 만날 수 있는지 따로 봐줘야할까?    \n",
    "아니다 각각 하는게 낫겠다.  \n",
    "문의 번호를 붙여서 어떤 문들을 연 상태는지를 저장해놓자.  \n",
    "문 여는 경우의 수를 다 해보는건 절대 안될듯 하고..  \n",
    "일단 BFS해서 바로 갈 수 있는지 탐색."
   ]
  },
  {
   "cell_type": "code",
   "execution_count": null,
   "metadata": {
    "collapsed": true
   },
   "outputs": [],
   "source": [
    "from collections import deque\n",
    "import sys\n",
    "input = sys.stdin.readline\n",
    "T = int(input())\n",
    "for tc in range(T):\n",
    "    # input받고 정리.. 문, 죄수위치, 탈출구 위치..\n",
    "    h, w = map(int, input().split())\n",
    "    exits = []\n",
    "    prisoners = []\n",
    "    gates = []\n",
    "    prison = [input().rstrip() for _ in range(h)]\n",
    "    for y in range(h):\n",
    "        for x in range(w):\n",
    "            if prison[y][x] == '#':\n",
    "                gates.append((x, y))\n",
    "                if x in (0, w - 1) or y in (0, h - 1):\n",
    "                    exits.append((x, y))\n",
    "            elif prison[y][x] == '.' and (x in (0, w - 1) or y in (0, h - 1)):\n",
    "                exits.append((x, y))\n",
    "            elif prison[y][x] == '$':\n",
    "                prisoners.append((x, y))\n",
    "    \n",
    "    # 탐색 시작. \n",
    "    \n",
    "    \n",
    "    "
   ]
  },
  {
   "cell_type": "markdown",
   "metadata": {},
   "source": [
    "    3\n",
    "    5 9\n",
    "    ****#****\n",
    "    *..#.#..*\n",
    "    ****.****\n",
    "    *$#.#.#$*\n",
    "    *********\n",
    "    5 11\n",
    "    *#*********\n",
    "    *$*...*...*\n",
    "*$*.*.*.*.*\n",
    "    *...*...*.*\n",
    "    *********.*\n",
    "    9 9\n",
    "    *#**#**#*\n",
    "    *#**#**#*\n",
    "    *#**#**#*\n",
    "    *#**.**#*\n",
    "    *#*#.#*#*\n",
    "    *$##*##$*\n",
    "    *#*****#*\n",
    "    *.#.#.#.*\n",
    "    *********\n",
    "    \n",
    "    ---\n",
    "    4\n",
    "    0\n",
    "    9"
   ]
  },
  {
   "cell_type": "code",
   "execution_count": null,
   "metadata": {
    "collapsed": true
   },
   "outputs": [],
   "source": []
  }
 ],
 "metadata": {
  "kernelspec": {
   "display_name": "Python 3",
   "language": "python",
   "name": "python3"
  },
  "language_info": {
   "codemirror_mode": {
    "name": "ipython",
    "version": 3
   },
   "file_extension": ".py",
   "mimetype": "text/x-python",
   "name": "python",
   "nbconvert_exporter": "python",
   "pygments_lexer": "ipython3",
   "version": "3.6.3"
  }
 },
 "nbformat": 4,
 "nbformat_minor": 2
}
