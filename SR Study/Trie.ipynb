{
 "cells": [
  {
   "cell_type": "markdown",
   "metadata": {},
   "source": [
    "Trie란?  \n",
    "문자열들을 저장하는 자료구조.  \n",
    "Index를 이용한 Tree. Prefix Tree라고도 부름.  \n",
    "어떤 단어를 루트에 추가하는데 각 문자가 노드가 됨.  \n",
    "겹치는 문자가 있는 경우 같이씀..  \n",
    "검색에 매우 유리!!!  \n",
    "같은 단어가 여러개 추가돼도 가능.  \n",
    "메모리를 많이 먹음.. 모든 노드가 27개씩 먹고있음...  \n",
    "문자열이 길어지면 메모리가 기하급수적으로 늘어남..  쓰기 힘들어질 수도..  \n",
    "구글에선 이것보다 조금 진보된 알고리즘 사용..  "
   ]
  },
  {
   "cell_type": "code",
   "execution_count": null,
   "metadata": {
    "collapsed": true
   },
   "outputs": [],
   "source": []
  }
 ],
 "metadata": {
  "kernelspec": {
   "display_name": "Python 3",
   "language": "python",
   "name": "python3"
  },
  "language_info": {
   "codemirror_mode": {
    "name": "ipython",
    "version": 3
   },
   "file_extension": ".py",
   "mimetype": "text/x-python",
   "name": "python",
   "nbconvert_exporter": "python",
   "pygments_lexer": "ipython3",
   "version": "3.6.3"
  }
 },
 "nbformat": 4,
 "nbformat_minor": 2
}
