{
 "cells": [
  {
   "cell_type": "markdown",
   "metadata": {},
   "source": [
    "#### 문제\n",
    "N×M의 행렬로 표현되는 맵이 있다. 맵에서 0은 이동할 수 있는 곳을 나타내고, 1은 이동할 수 없는 벽이 있는 곳을 나타낸다.  \n",
    "당신은 (1, 1)에서 (N, M)의 위치까지 이동하려 하는데, 이때 최단 경로로 이동하려 한다.  \n",
    "최단경로는 맵에서 가장 적은 개수의 칸을 지나는 경로를 말하는데, 이때 시작하는 칸과 끝나는 칸도 포함해서 센다.  \n",
    "  \n",
    "만약에 이동하는 도중에 벽을 부수고 이동하는 것이 좀 더 경로가 짧아진다면, 벽을 K개 까지 부수고 이동하여도 된다.  \n",
    "  \n",
    "맵이 주어졌을 때, 최단 경로를 구해 내는 프로그램을 작성하시오.  \n",
    "  \n",
    "#### 입력\n",
    "첫째 줄에 N(1 ≤ N ≤ 1,000), M(1 ≤ M ≤ 1,000), K(1 ≤ K ≤ 10)이 주어진다.  \n",
    "다음 N개의 줄에 M개의 숫자로 맵이 주어진다. (1, 1)과 (N, M)은 항상 0이라고 가정하자.  \n",
    "  \n",
    "#### 출력\n",
    "첫째 줄에 최단 거리를 출력한다. 불가능할 때는 -1을 출력한다."
   ]
  },
  {
   "cell_type": "markdown",
   "metadata": {},
   "source": [
    "### ------------------------------------------------------------------------------"
   ]
  },
  {
   "cell_type": "code",
   "execution_count": null,
   "metadata": {
    "collapsed": true
   },
   "outputs": [],
   "source": [
    "from collectinos import deque\n",
    "N, M, K = map(int, input().split())\n",
    "maze = [list(input()) for _ in range(N)]\n",
    "visit = [[[False]*K for x in range(M)] for y in range(N)]\n",
    "\n",
    "dx = 0, 0, 1, -1\n",
    "dy = 1, -1, 0, 0\n",
    "q = deque()\n",
    "q.append((0,0,0))  # x, y, # of break\n",
    "visit[0][0][0] = True\n",
    "dist = 1\n",
    "while q:\n",
    "    for _ in range(len(q)):\n",
    "        cx, cy, k = q.popleft()\n",
    "        for d in range(4):\n",
    "            nx, ny = cx+dx[d], cy+dy[d]\n",
    "            # 범위 안에 있을 때\n",
    "            if nx>=0 and ny>=0 and nx<M and ny<N:\n",
    "                # 빈칸. 그냥 가능\n",
    "                if maze[ny][nx] == '0':\n",
    "                    visit[ny][nx][k] = True\n",
    "                    q.append((nx,ny,k))\n",
    "                    # 도착점이면.\n",
    "                    if (nx, ny) == (M-1, N-1):\n",
    "                        print(dist+1)\n",
    "                        break\n",
    "                # 벽.. 아직 부술수 있을때만 가능\n",
    "                if maze[ny][nx] == '1' and k<K:\n",
    "                    visit[ny][nx][k+1] = True\n",
    "                    q.append((nx,ny,k+1))    \n",
    "    dist += 1\n",
    "    "
   ]
  },
  {
   "cell_type": "markdown",
   "metadata": {},
   "source": [
    "6 4 1  \n",
    "0100  \n",
    "1110  \n",
    "1000  \n",
    "0000  \n",
    "0111  \n",
    "0000  \n",
    "\n",
    "---\n",
    "15"
   ]
  },
  {
   "cell_type": "code",
   "execution_count": null,
   "metadata": {
    "collapsed": true
   },
   "outputs": [],
   "source": []
  }
 ],
 "metadata": {
  "kernelspec": {
   "display_name": "Python 3",
   "language": "python",
   "name": "python3"
  },
  "language_info": {
   "codemirror_mode": {
    "name": "ipython",
    "version": 3
   },
   "file_extension": ".py",
   "mimetype": "text/x-python",
   "name": "python",
   "nbconvert_exporter": "python",
   "pygments_lexer": "ipython3",
   "version": "3.6.3"
  }
 },
 "nbformat": 4,
 "nbformat_minor": 2
}
