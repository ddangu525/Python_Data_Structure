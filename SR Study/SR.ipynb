{
 "cells": [
  {
   "cell_type": "markdown",
   "metadata": {},
   "source": [
    "## 1. 16137 견우 직녀 "
   ]
  },
  {
   "cell_type": "markdown",
   "metadata": {},
   "source": [
    "### 문제\n",
    "견우와 직녀는 여러 개의 섬과 절벽으로 이루어진 장소에 살고 있다. 따라서 평상시에는 절벽을 건너지 못 하기 때문에 서로 만날 수가 없다.  \n",
    "  \n",
    "하지만 7월 7일은 특별한 날이다.  이 날에는 까마귀와 까치가 서로 힘을 합쳐 다리를 만들어, 견우와 직녀가 절벽에 상관없이 서로 만날 수 있기 때문이다.  \n",
    "  \n",
    "최근에 까마귀와 까치에게 문제가 생겼다. 급속도로 진행된 고령화로 인해서 견우와 직녀가 한 번에 만날 수 있을 만큼 커다란 오작교를 만들 수 없다.  \n",
    "요즘에는 견우와 직녀가 만날 수 있도록 최소한의 절벽에만 다리를 만들어 주고 있었다.  \n",
    "까마귀와 까치는 이마저도 힘들었기 때문에, 1분간 오작교를 만들면 몇 분 동안은 꼭 쉬는 시간을 가져야 했다.  \n",
    "  \n",
    "예를 들어 오작교가 3분과 4분 주기라면, 건널 수 있는 시간은 아래 그림에서 초록색으로 표시한 부분과 같다.  \n",
    "흰색으로 표시한 시간에는 오작교를 건널 수 없다.  \n",
    "  \n",
    "<img src=\"https://upload.acmicpc.net/ec16292c-82ee-4005-9396-68b7a6553bf0/-/preview/\" width=\"600\">\n",
    "<center>T = 3</center>\n",
    "<img src=\"https://upload.acmicpc.net/0b4fc5d2-e569-42eb-8aed-7217c1cbe58a/-/preview/\" width=\"600\">\n",
    "<center>T = 4</center>\n",
    "  \t\n",
    "  \n",
    "만약, 오작교를 한 번 건넌 뒤에 또 다시 오작교로 이동하면, 견우가 더 이상 이동할 수 없는 순간이 올 수도 있다.  \n",
    "견우는 안전을 위해 두 번 연속으로 오작교를 건너지는 않기로 했다.  \n",
    "  \n",
    "까마귀와 까치는 조금이라도 견우를 더 도와주기 위해 절벽을 하나 골라 주기가 M분인 오작교를 하나 더 놓아 주기로 했다.  \n",
    "단, 이미 오작교를 짓기로 예정한 절벽에는 오작교를 하나 더 놓을 수 없고, 아래와 같이 절벽이 가로와 세로로 교차하는 곳에도 오작교를 놓을 수 없다.   \n",
    "아래 그림에서 파란색은 견우가 건널 수 있는 일반적인 땅, 검은색은 절벽, 흰색은 절벽이 교차해서 오작교를 놓을 수 없는 위치를 나타낸다.  \n",
    "  \n",
    "<img src=\"https://upload.acmicpc.net/478968f8-19f0-4605-9644-94b1cd89c378/-/preview/\" alt=\"Drawing\" width=\"200\">\n",
    "<img src=\"https://upload.acmicpc.net/e3614d8e-4d04-44ea-9dbb-07e4a2f23328/-/preview/\" alt=\"Drawing\" width=\"200\">\n",
    "<img src=\"https://upload.acmicpc.net/362105a1-75ca-4286-8f63-684daf820c92/-/preview/\" alt=\"Drawing\" width=\"200\">\n",
    "  \n",
    "견우는 짧은 만남이 이런 악조건에서 더욱 짧아지는 것을 원하지 않았다. 견우가 직녀에게 도착할 수 있는 최소의 시간을 찾아라.  \n",
    "  \n",
    "### 입력\n",
    "첫째 줄에 지형의 행과 열의 크기를 나타내는 정수 N (2 ≤ N ≤ 10)과 새로 만들어지는 오작교의 주기를 의미하는 정수 M(2 ≤ M ≤ 20)이 주어진다.  \n",
    "  \n",
    "다음 N개의 줄에는 줄마다 배열의 각 행을 나타내는 N개의 정수가 한 개의 빈칸을 사이에 두고 주어진다. 각 칸에 들어가는 값은 0 이상 20 이하이다.  \n",
    "  \n",
    "또한, 각 칸에 들어가는 정수의 의미는 다음과 같다.  \n",
    "  \n",
    "1: 이동할 수 있는 일반적인 땅  \n",
    "0: 건널 수 없는 절벽  \n",
    "2 이상의 수: 적혀있는 수 만큼의 주기를 가지는 오작교   \n",
    "  \n",
    "견우의 시작점은 지형의 맨 왼쪽 위 (0, 0) 이고, 직녀가 사는 곳은 지형의 맨 오른쪽 아래인 (N-1, N-1)이다.  \n",
    "견우가 시작점에서 출발하는 시간은 0분이다.  \n",
    "  \n",
    "견우와 직녀가 무조건 만날 수 있는 경우만 주어진다.  \n",
    "  \n",
    "또한, 주어지는 지형 정보에서 오작교를 반드시 하나 이상 놓을 수 있다.  \n",
    "  \n",
    "### 출력\n",
    "견우가 직녀에게 갈 수 있는 최소의 시간을 출력한다.  "
   ]
  },
  {
   "cell_type": "markdown",
   "metadata": {},
   "source": [
    "### ------------------------------------------------------------------------------"
   ]
  },
  {
   "cell_type": "markdown",
   "metadata": {},
   "source": [
    "bfs로 푸는데, 좌표와 시간을 함께 저장  \n",
    "최소로 가야하므로 오른쪽, 아래 두 방향만 고려하면 될까?? 돌아가는 경우가 안생기나??  \n",
    "방향은 기다리거나, 기다리지 않으면 오른쪽, 아래 두 경우만 보면 될듯.  \n",
    "다리 하나 추가 가능..다리를 추가했는지 안했는지도 큐에 같이 저장해서?? 10x10.   \n",
    "오작교 앞에서는 딴데가거나 기다리거나 두 경우로.  \n",
    "\n"
   ]
  },
  {
   "cell_type": "code",
   "execution_count": null,
   "metadata": {
    "collapsed": true
   },
   "outputs": [],
   "source": [
    "from collections import deque\n",
    "# 4방향 검사.\n",
    "dx = 0, 0, 1, -1\n",
    "dy = 1, -1, 0, 0\n",
    "\n",
    "# 입력\n",
    "N, M = map(int, input().split())     # 지도 크기 / 새로 만들어지는 오작교의 주기\n",
    "land = [list(map(int, input().split())) for _ in range(N)] # 0: 이동불가 / 1: 일반 / 2  이상: 값만큼의 주기를 갖는 오작교.\n",
    "\n",
    "visit = [[[False]*2 for _ in range(M)] for _ in range(N)]\n",
    "# bfs\n",
    "q = deque()\n",
    "q.append((0, 0, 0))   # x, y, t, 추가 오작교 여부 순으로 저장.\n",
    "t = 1\n",
    "while q:\n",
    "    for _ in range(len(q)):     # 거리별로 추가해주기 위해서..\n",
    "        cx, cy, cs = q.popleft() # 현재 값 x, y, state\n",
    "        for d in range(4):       # \n",
    "            nx, ny = cx+dx[d], cy+dy[d]\n",
    "            if nx>=0 and nx<N and ny>=0 and ny<N:\n",
    "                if (nx, ny) == (M - 1, N - 1):\n",
    "                    print(t)\n",
    "                    exit()\n",
    "                \n",
    "    t += 1\n"
   ]
  },
  {
   "cell_type": "markdown",
   "metadata": {},
   "source": [
    "## 2. 4217 신성문자"
   ]
  },
  {
   "cell_type": "markdown",
   "metadata": {},
   "source": [
    "### 문제\n",
    "고고학자는 초기 문명을 이해하기 위해서 고대 언어로 된 글을 공부하기도 한다.  \n",
    "  \n",
    "이집트는 3000년전에 각종 동물이나 사물, 신체의 모습을 본딴 고대 언어 \"신성 문자\"를 만들었다.  \n",
    "  \n",
    "이 문제에서, 아래와 같은 글자 여섯개를 인식하는 프로그램을 작성하시오.  \n",
    "\n",
    "<img src=\"https://www.acmicpc.net/upload/images/egypt.png\">\n",
    "  \n",
    "### 입력\n",
    "입력은 여러 개의 테스트 케이스로 이루어져 있다. 각 테스트 케이스는 하나 또는 그 이상의 신성 문자를 포함하는 그림으로 이루어져 있다.  \n",
    "그림은 1 또는 0으로 이루어져 있고, 1은 검정 픽셀, 0은 흰색 픽셀이다.  \n",
    "  \n",
    "입력 데이터에서 각각의 줄은 16진수로 인코딩 되어 있다. 예를 들어, 여덟 픽셀 10011100은 9c로 인코딩 되어 있다.  \n",
    "16진수 인코딩에서 사용되는 문자는 0-9와 a-f이다.  \n",
    "  \n",
    "첫 줄은 H와 W로 이루어져 있다. H(0 < H ≤ 200)는 줄의 수, W(0 < W ≤ 50)는 각 줄에 있는 16진수 문자의 개수이다.  \n",
    "다음 H개의 줄에는 그림이 주어진다. 입력으로 주어지는 그림은 다음과 같은 규칙을 만족한다.  \n",
    "  \n",
    "이미지는 문제의 설명에 주어진 6개의 신성 문자만 포함한다.  \n",
    "모든 이미지는 적어도 1개의 올바른 신성 문자를 포함한다.  \n",
    "모든 검정 픽셀은 올바른 신성 문자의 일부이다.  \n",
    "신성 문자는 검정 픽셀이 이어진 형태이다. 모든 검정 픽셀의 위, 아래, 왼쪽, 오른쪽 픽셀 중 하나는 검정 픽셀이다.  \n",
    "신성 문자는 서로 접하지 않으며, 한 문자 안에 또다른 문자가 포함된 경우는 없다.  \n",
    "두 검정 픽셀이 대각선 방향으로 접한다면, 항상 두 픽셀은 공통으로 접하는 검정 픽셀이 있다.  \n",
    "신성 문자는 비뚤어져 있을 수도 있다. 하지만, 그 모양은 항상 문제에 주어진 그림과 같다.  \n",
    "마지막 테스트 케이스의 다음에는 0 2개가 주어진다.  \n",
    "  \n",
    "### 출력\n",
    "각각의 테스트 케이스에 대해서, 케이스 번호를 출력한 뒤, 이미지에 쓰여 있는 신성 문자를 출력하나. 이때, 다음과 같은 코드를 사용한다.  \n",
    "  \n",
    "Ankh: A  \n",
    "Wedjat: J  \n",
    "Djed: D  \n",
    "Scarab: S  \n",
    "Was: W  \n",
    "Akhet: K  \n",
    "이미지에 쓰여 있는 문자를 알파벳 순서대로 출력하며, 예제 출력의 형식을 따르면 된다.  "
   ]
  },
  {
   "cell_type": "markdown",
   "metadata": {},
   "source": [
    "### ------------------------------------------------------------------------------"
   ]
  },
  {
   "cell_type": "markdown",
   "metadata": {},
   "source": [
    "전혀 감이 안온다. 비뚤어져 있는걸 어떻게 처리??  \n",
    "일단 "
   ]
  },
  {
   "cell_type": "code",
   "execution_count": null,
   "metadata": {
    "collapsed": true
   },
   "outputs": [],
   "source": [
    "while 1:\n",
    "    H, W = map(int, input().split())\n",
    "    if H, W = 0, 0:\n",
    "        break\n",
    "    char = [input() for _ in range(H)]"
   ]
  },
  {
   "cell_type": "markdown",
   "metadata": {},
   "source": [
    "## 3. 원자소멸 시뮬레이션"
   ]
  },
  {
   "cell_type": "markdown",
   "metadata": {},
   "source": [
    "원자력 발전소에서 근무하는 상원이는, 발전소에서 발생하는 에너지를 미리 계산하기 위해 원자들의 움직임을 시뮬레이션 하는 프로그램을 만들려고 한다.  \n",
    "  \n",
    "  \n",
    "원자들은 2차원 평면에서 이동하며 두 개 이상의 원자가 충돌 할 경우 충돌한 원자들은 각자 보유한 에너지를 모두 방출하고 소멸된다.  \n",
    "   \n",
    "원자의 움직임은 다음과 같다.  \n",
    "  \n",
    "1. 원자의 최초 위치는 2차원 평면상의 [x, y] 이다.  \n",
    "2. 원자는 각자 고유의 움직이는 방향을 가지고 있다. (상하좌우 4방향)  \n",
    " - 상: y 가 증가하는 방향  \n",
    " - 하: y 가 감소하는 방향  \n",
    " - 좌: x 가 감소하는 방향  \n",
    " - 우: x 가 증가하는 방향  \n",
    "3. 모든 원자들의 이동속도는 동일하다. 즉, 1초에 1만큼의 거리를 이동한다.  \n",
    "4. 모든 원자들은 최초 위치에서 동시에 이동을 시작한다.  \n",
    "5. 두 개 이상의 원자가 동시에 충돌 할 경우 충돌한 원자들은 모두 보유한 에너지를 방출하고 소멸된다.  \n",
    "\n",
    "<img src=\"data:image/png;base64,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\">\n",
    "           \n",
    "<center>[그림-1]</center>\n",
    "\n",
    " \n",
    "\n",
    "[그림-1] 과 같이 원자들의 [x, y] 위치와 이동방향이 주어지고 각 원자들의 보유 에너지가 1 이라고 가정해보자.  \n",
    "(실제 입력에서 원자들의 보유 에너지는 각각 다를 수 있다.)  \n",
    "  \n",
    "충돌된 원자들이 소멸하면서 방출하는 에너지는 다음과 같다.  \n",
    "  \n",
    "1초 후에 I, J 원자가 충돌 후 소멸하면서 2 에너지 방출  \n",
    "1.5초 후에 A, B 원자가 충돌 후 소멸하면서 2 에너지 방출  \n",
    "2초 후에 D, E, G, H 원자가 충돌 후 소멸하면서 4 에너지 방출  \n",
    "3초 후에 M, N 원자가 충돌 후 소멸하면서 2 에너지 방출  \n",
    "[그림-1]의 경우 시간이 흘러도 원자 C, F, K, L 은 영원히 충돌하지 않아 소멸되지 않는다.  \n",
    "  \n",
    "따라서 원자들이 소멸되면서 방출하는 에너지의 총합은 10 이다.  \n",
    "  \n",
    "N 개의 원자들의 [x, y] 위치, 이동 방향, 보유 에너지가 주어질 때 원자들이 소멸되면서 방출하는 에너지의 총합을 구하는 프로그램을 작성하라.  \n",
    "  \n",
    "### [제약 사항]\n",
    " \n",
    "1. 원자들의 수 N 은 1,000개 이하이다. (1≤N≤1,000)  \n",
    "2. 각 원자들의 보유 에너지 K 는 1 이상 100 이하이다. (1≤K≤100)  \n",
    "3. 원자들의 처음 위치 [x, y] 는 -1,000 이상 1,000 이하의 정수로 주어진다. (-1,000≤x,y≤1,000)  \n",
    "4. 원자들은 2차원 평면 위에서 움직이며 원자들이 움직일 수 있는 좌표의 범위에 제한은 없다.  \n",
    "5. 원자들의 이동 방향은 상(0), 하(1), 좌(2), 우(3)로 주어진다.  \n",
    "6. 원자들은 동시에 1초에 이동 방향으로 1만큼 이동한다.  \n",
    "7. 원자들의 최초 위치는 서로 중복되지 않는다.  \n",
    "8. 원자들은 2개 이상의 원자들이 서로 충돌할 경우 보유한 에너지를 방출하면서 바로 소멸된다.  \n",
    "9. 원자들은 이동 방향은 처음에 주어진 방향에서 바뀌지 않는다.  \n",
    "10. 원자들이 충돌하여 소멸되며 방출되는 에너지는 다른 원자의 위치나 이동 방향에 영향을 주지 않는다.  \n",
    " \n",
    "### [입력]\n",
    "입력의 가장 첫 줄에는 총 테스트 케이스의 개수 T가 주어진다.  \n",
    "그 다음 줄부터는 각 테스트 케이스가 주어진다. 각 테스트 케이스의 첫째 줄에는 원자들의 수 N이 주어진다.  \n",
    "다음 N개의 줄에는 원자들의 x 위치, y 위치, 이동 방향, 보유 에너지 K가 주어진다.  \n",
    "원자들의 이동 방향은 상(0), 하(1), 좌(2), 우(3)로 주어진다.  \n",
    " \n",
    "### [출력]\n",
    "테스트 케이스 T에 대한 결과는 “#T”을 찍고, 방출되는 에너지의 총합을 출력한다. (T는 테스트케이스의 번호를 의미하며 1부터 시작한다. )  "
   ]
  },
  {
   "cell_type": "markdown",
   "metadata": {},
   "source": [
    "### ------------------------------------------------------------------------------"
   ]
  },
  {
   "cell_type": "markdown",
   "metadata": {},
   "source": [
    "어떤 원자는 세 방향에서 오는 다른 원자와 충돌할 수 있다. 좌표: 방향,에너지 딕셔너리로 저장해놓고. 하나하나 검사해가며 충돌하면 지워주기.  \n",
    "충돌지점으로부터 거리가 같은 애들을 보면 마름모꼴.. 방향이 조건에 맞으면 충돌.  \n",
    "이 때 하나의 기준원자에서 충돌할 가능성이 있는 다른 원자를 찾을 때 그 다른 원자는 또 다시 검사해야..  \n",
    "더 짧은거리에 충돌할 수 있는 원자가 있으면 다른 원자는 기준원자가 아니라 또 다른 원자와 충돌..   \n",
    "이를 재귀적으로 검사한 후, 더 이상 짧은거리에 충돌가능한 원자가 없으면 거리가 짧은 애들부터 충돌시켜줌.\n",
    "좌표공간은 만들필요 없다."
   ]
  },
  {
   "cell_type": "code",
   "execution_count": null,
   "metadata": {
    "collapsed": true
   },
   "outputs": [],
   "source": [
    "T = int(input())\n",
    "# 원자의 처음 위치에서 충돌할 수 있는 다른 원자 찾고, 재귀적으로 호출했을 때 최소거리라면 충돌시키기.\n",
    "def search(x, y, min_t = 2000):   # 좌표와 방향,   # 충돌시간 최대로 초기화\n",
    "    d = info[(x,y)][0]\n",
    "    candidate = []  # 충돌 할 수 있는 후보 원자들 저장.\n",
    "    # 이 과정을 어떻게 효율적으로 숏코딩 할 수 있을까?\n",
    "    # 위로 움직이는 원자.. 다른 세 방향에서 찾기. 마주보는 애는 충돌시간이 거리/2\n",
    "    if d == 0:\n",
    "        t = 1\n",
    "        while t<=min_t:  # 현재까지 최소시간이랑 같을때까지만 검사.\n",
    "            #왼쪽 대각선 검사.\n",
    "            if (x-t, y-t) in info.keys() and info[(x-t,y-t)][0]==3:    # 충돌할수 있는 원자.\n",
    "                min_t = t                    # 최소시간 update\n",
    "                candidate.append((x-t,y-t))  # \n",
    "            # 오른쪽 대각선 검사\n",
    "            elif (x+t, y-t) in info.keys() and info[(x+t,y-t)][0]==2:\n",
    "                min_t = t\n",
    "                candidate.append((x+t, y-t))\n",
    "            # 마주보는 라인 검사.\n",
    "            elif (x,y-2*t+1) in info.keys() and info[(x, y-2*t+1)][0]==1:\n",
    "                min_t = t/2\n",
    "                candidate.append((x,y-2*t+1))\n",
    "            elif (x,y-2*t) in info.keys() and info[(x,y-2*t)][0]==1:\n",
    "                min_t = t\n",
    "                candidate.append((x,y-2*t))\n",
    "            t += 1\n",
    "    # 아래로 움직이는 원자.\n",
    "    elif d == 1:\n",
    "        t = 1\n",
    "        while t<=min_t:  # 현재까지 최소시간이랑 같을때까지만 검사.\n",
    "            #왼쪽 대각선 검사.\n",
    "            if (x-t, y+t) in info.keys() and info[(x-t,y+t)][0]==3:    # 충돌할수 있는 원자.\n",
    "                min_t = t                    # 최소시간 update\n",
    "                candidate.append((x-t,y+t))  # \n",
    "            # 오른쪽 대각선 검사\n",
    "            elif (x+t, y+t) in info.keys() and info[(x+t,y+t)][0]==2:\n",
    "                min_t = t\n",
    "                candidate.append((x+t, y+t))\n",
    "            # 마주보는 라인 검사.\n",
    "            elif (x,y+2*t-1) in info.keys() and info[(x, y+2*t-1)][0]==0:\n",
    "                min_t = t/2\n",
    "                candidate.append((x,y+2*t-1))\n",
    "            elif (x,y+2*t) in info.keys() and info[(x,y+2*t)][0]==0:\n",
    "                min_t = t\n",
    "                candidate.append((x,y+2*t))\n",
    "            t += 1\n",
    "    # 왼쪽으로 움직이는..\n",
    "    elif d == 2:\n",
    "        t = 1\n",
    "        while t<=min_t:  # 현재까지 최소시간이랑 같을때까지만 검사.\n",
    "            # 위쪽 대각선 검사.\n",
    "            if (x-t, y-t) in info.keys() and info[(x-t,y-t)][0]==1:    # 충돌할수 있는 원자.\n",
    "                min_t = t                    # 최소시간 update\n",
    "                candidate.append((x-t,y-t))  # \n",
    "            # 아래쪽 대각선 검사\n",
    "            elif (x-t, y+t) in info.keys() and info[(x-t,y+t)][0]==0:\n",
    "                min_t = t\n",
    "                candidate.append((x-t, y+t))\n",
    "            # 마주보는 라인 검사.\n",
    "            elif (x-2*t+1,y) in info.keys() and info[(x-2*t+1, y)][0]==3:\n",
    "                min_t = t/2\n",
    "                candidate.append((x-2*t+1,y))\n",
    "            elif (x-2*t,y) in info.keys() and info[(x-2*t,y)][0]==3:\n",
    "                min_t = t\n",
    "                candidate.append((x-2*t,y))\n",
    "            t += 1\n",
    "    # 마지막 오른쪽\n",
    "    else:\n",
    "        t = 1\n",
    "        while t<=min_t:  # 현재까지 최소시간이랑 같을때까지만 검사.\n",
    "            # 위쪽 대각선 검사.\n",
    "            if (x+t, y-t) in info.keys() and info[(x+t,y-t)][0]==1:    # 충돌할수 있는 원자.\n",
    "                min_t = t                    # 최소시간 update\n",
    "                candidate.append((x+t,y-t))  # \n",
    "            # 아래쪽 대각선 검사\n",
    "            elif (x+t, y+t) in info.keys() and info[(x+t,y+t)][0]==0:\n",
    "                min_t = t\n",
    "                candidate.append((x+t, y+t))\n",
    "            # 마주보는 라인 검사.\n",
    "            elif (x+2*t-1,y) in info.keys() and info[(x+2*t-1,y)][0]==2:\n",
    "                min_t = t/2\n",
    "                candidate.append((x+2*t-1,y))\n",
    "            elif (x+2*t,y) in info.keys() and info[(x+2*t,y)][0]==2:\n",
    "                min_t = t\n",
    "                candidate.append((x+2*t,y))\n",
    "            t += 1\n",
    "def collide(*elements):\n",
    "    energy += sum([info[i[0]][1] for i in elements])    \n",
    "    \n",
    "for tc in range(1, T+1):\n",
    "    N = int(input())     # 원자의 개수.\n",
    "    # (x,y): (direction, energy)   direction -> 상: 0 / 하: 1 / 좌: 2 / 우: 3\n",
    "    info = {(i[0],i[1]):(i[2],i[3]) for i in [tuple(map(int, input().split())) for _ in range(N)]}\n",
    "    while info:\n",
    "        \n",
    "        search(x, y)"
   ]
  },
  {
   "cell_type": "code",
   "execution_count": 8,
   "metadata": {},
   "outputs": [
    {
     "data": {
      "text/plain": [
       "dict_keys([(1, 2), (5, 4), (6, 5)])"
      ]
     },
     "execution_count": 8,
     "metadata": {},
     "output_type": "execute_result"
    }
   ],
   "source": [
    "info.keys()"
   ]
  },
  {
   "cell_type": "code",
   "execution_count": 12,
   "metadata": {},
   "outputs": [
    {
     "data": {
      "text/plain": [
       "{(1, 2): (3, 4), (5, 4): (3, 6), (6, 5): (4, 6)}"
      ]
     },
     "execution_count": 12,
     "metadata": {},
     "output_type": "execute_result"
    }
   ],
   "source": [
    "info"
   ]
  },
  {
   "cell_type": "code",
   "execution_count": null,
   "metadata": {
    "collapsed": true
   },
   "outputs": [],
   "source": []
  }
 ],
 "metadata": {
  "kernelspec": {
   "display_name": "Python 3",
   "language": "python",
   "name": "python3"
  },
  "language_info": {
   "codemirror_mode": {
    "name": "ipython",
    "version": 3
   },
   "file_extension": ".py",
   "mimetype": "text/x-python",
   "name": "python",
   "nbconvert_exporter": "python",
   "pygments_lexer": "ipython3",
   "version": "3.6.3"
  }
 },
 "nbformat": 4,
 "nbformat_minor": 2
}
