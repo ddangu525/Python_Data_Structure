{
 "cells": [
  {
   "cell_type": "markdown",
   "metadata": {},
   "source": [
    "## 1. 슈팅게임"
   ]
  },
  {
   "cell_type": "code",
   "execution_count": null,
   "metadata": {
    "collapsed": true
   },
   "outputs": [],
   "source": [
    "import itertools\n",
    "T = int(input())\n",
    "for tc in range(1, T + 1):\n",
    "    W, H, D = map(int, input().split())\n",
    "    enemies = []\n",
    "    for y in range(H):\n",
    "        row = input().split()\n",
    "        for x in range(W):\n",
    "            if row[x] == '1':\n",
    "                enemies.append((x, y))\n",
    "    max_killed = float('-inf')\n",
    "    for archers in itertools.combinations(range(W), 3):\n",
    "        enemies_set = set(enemies)\n",
    "        killed = 0\n",
    "        while enemies_set:\n",
    "            shooted = set()\n",
    "            for archer in archers:\n",
    "                select = min(enemies_set, key=lambda x: (H-x[1]+abs(x[0]-archer), x[0]))\n",
    "                if H-select[1] + abs(x[0]-archer) <= D:\n",
    "                    shooted.add(select)\n",
    "            killed += len(shooted)\n",
    "            enemies_set.difference_update(shooted)\n",
    "            enemies_set = set((x[0], x[1]+1) for x in enemies_set if x[1]+1<H)\n",
    "        if killed > max_killed:\n",
    "            max_killed = killed\n",
    "    print('#{} {}'.format(tc, max_killed))"
   ]
  },
  {
   "cell_type": "code",
   "execution_count": 9,
   "metadata": {
    "scrolled": false
   },
   "outputs": [
    {
     "name": "stdout",
     "output_type": "stream",
     "text": [
      "6 5 2\n",
      "1 0 1 0 1\n",
      "0 1 0 1 0\n",
      "1 1 0 0 0\n",
      "0 0 0 1 1\n",
      "1 1 0 1 1\n",
      "0 0 1 0 0\n",
      "14\n"
     ]
    }
   ],
   "source": [
    "# 백준 버전\n",
    "import itertools\n",
    "H, W, D = map(int, input().split())\n",
    "enemies = []\n",
    "for y in range(H):\n",
    "    row = input().split()\n",
    "    for x in range(W):\n",
    "        if row[x] == '1':\n",
    "            enemies.append((x, y))\n",
    "max_killed = float('-inf')\n",
    "for archers in itertools.combinations(range(W), 3):\n",
    "    enemies_set = set(enemies)\n",
    "    killed = 0\n",
    "    while enemies_set:\n",
    "        shooted = set()\n",
    "        for archer in archers:\n",
    "            select = min(enemies_set, key=lambda x: (H-x[1]+abs(x[0]-archer), x[0]))\n",
    "            if H-select[1] + abs(select[0]-archer) <= D:\n",
    "                shooted.add(select)\n",
    "        killed += len(shooted)\n",
    "        enemies_set.difference_update(shooted)\n",
    "        enemies_set = set((x[0], x[1]+1) for x in enemies_set if x[1]+1<H)\n",
    "    if killed > max_killed:\n",
    "        max_killed = killed\n",
    "print(max_killed)"
   ]
  },
  {
   "cell_type": "code",
   "execution_count": 10,
   "metadata": {},
   "outputs": [
    {
     "name": "stdout",
     "output_type": "stream",
     "text": [
      "6 5 2\n",
      "1 0 1 0 1\n",
      "0 1 0 1 0\n",
      "1 1 0 0 0\n",
      "0 0 0 1 1\n",
      "1 1 0 1 1\n",
      "0 0 1 0 0\n",
      "14\n"
     ]
    }
   ],
   "source": [
    "# 백준.. 숏코딩\n",
    "from itertools import combinations as c\n",
    "H,W,D=map(int,input().split())\n",
    "en=[]\n",
    "for y in range(H):\n",
    "    r=input().split()\n",
    "    for x in range(W):\n",
    "        if r[x]=='1':en.append((x,y))\n",
    "mk=-10**9\n",
    "for s in c(range(W),3):\n",
    "    es=set(en)\n",
    "    k=0\n",
    "    while es:\n",
    "        t=set()\n",
    "        for a in s:\n",
    "            l=min(es,key=lambda x:(H-x[1]+abs(x[0]-a),x[0]))\n",
    "            if H-l[1]+abs(l[0]-a)<=D:\n",
    "                t.add(l)\n",
    "        k+=len(t)\n",
    "        es.difference_update(t)\n",
    "        es=set((x[0],x[1]+1)for x in es if x[1]+1<H)\n",
    "    if k>mk:mk=k\n",
    "print(mk)"
   ]
  },
  {
   "cell_type": "markdown",
   "metadata": {},
   "source": [
    "    6 5 1\n",
    "    1 0 1 0 1\n",
    "    0 1 0 1 0\n",
    "    1 1 0 0 0\n",
    "    0 0 0 1 1\n",
    "    1 1 0 1 1\n",
    "    0 0 1 0 0\n",
    "    ---\n",
    "    9\n",
    "    \n",
    "    6 5 2\n",
    "    1 0 1 0 1\n",
    "    0 1 0 1 0\n",
    "    1 1 0 0 0\n",
    "    0 0 0 1 1\n",
    "    1 1 0 1 1\n",
    "    0 0 1 0 0\n",
    "    ---\n",
    "    14"
   ]
  },
  {
   "cell_type": "markdown",
   "metadata": {},
   "source": [
    "## 2. 블록 채우기"
   ]
  },
  {
   "cell_type": "code",
   "execution_count": null,
   "metadata": {
    "collapsed": true
   },
   "outputs": [],
   "source": [
    "T = int(input())\n",
    "\n",
    "def search(board_set, a=5, b=5, c=5, d=5, e=5, used=0):\n",
    "    global min_nums\n",
    "    if used == min_nums:\n",
    "        return\n",
    "    if any(i < 0 for i in (a, b, c, d, e)):\n",
    "        return\n",
    "    if not board_set:\n",
    "        min_nums = used\n",
    "        return\n",
    "    cx, cy = min(board_set, key=lambda x: (x[1],x[0]))\n",
    "    if all((x, y) in board_set for x in range(cx, cx + 5) for y in range(cy, cy + 5)):\n",
    "        new_board = board_set.difference(set((x, y) for x in range(cx, cx + 5) for y in range(cy, cy + 5)))\n",
    "        search(new_board, a, b, c, d, e - 1, used + 1)\n",
    "    if all((x, y) in board_set for x in range(cx, cx + 4) for y in range(cy, cy + 4)):\n",
    "        new_board = board_set.difference(set((x, y) for x in range(cx, cx + 4) for y in range(cy, cy + 4)))\n",
    "        search(new_board, a, b, c, d - 1, e, used + 1)\n",
    "    if all((x, y) in board_set for x in range(cx, cx + 3) for y in range(cy, cy + 3)):\n",
    "        new_board = board_set.difference(set((x, y) for x in range(cx, cx + 3) for y in range(cy, cy + 3)))\n",
    "        search(new_board, a, b, c - 1, d, e, used + 1)\n",
    "    if all((x, y) in board_set for x in range(cx, cx + 2) for y in range(cy, cy + 2)):\n",
    "        new_board = board_set.difference(set((x, y) for x in range(cx, cx + 2) for y in range(cy, cy + 2)))\n",
    "        search(new_board, a, b - 1, c, d, e, used + 1)\n",
    "    temp = set()\n",
    "    temp.add((cx, cy))\n",
    "    search(board_set.difference(temp), a - 1, b, c, d, e, used + 1)\n",
    "        \n",
    "for tc in range(1, T + 1):\n",
    "    N = int(input())\n",
    "    board = set()\n",
    "    for y in range(N):\n",
    "        row = input().split()\n",
    "        for x in range(N):\n",
    "            if row[x] == '1':\n",
    "                board.add((x, y))\n",
    "    min_nums = float('inf')\n",
    "    search(board)\n",
    "    print('#{} {}'.format(tc, min_nums))    "
   ]
  },
  {
   "cell_type": "code",
   "execution_count": null,
   "metadata": {
    "collapsed": true
   },
   "outputs": [],
   "source": [
    "# 백준 문제 형식\n",
    "def search(board_set, a=5, b=5, c=5, d=5, e=5, used=0):\n",
    "    global min_nums\n",
    "    if used == min_nums:\n",
    "        return\n",
    "    if any(i < 0 for i in (a, b, c, d, e)):\n",
    "        return\n",
    "    if not board_set:\n",
    "        min_nums = used\n",
    "        return\n",
    "    cx, cy = min(board_set, key=lambda x: (x[1],x[0]))\n",
    "    if all((x, y) in board_set for x in range(cx, cx + 5) for y in range(cy, cy + 5)):\n",
    "        new_board = board_set.difference(set((x, y) for x in range(cx, cx + 5) for y in range(cy, cy + 5)))\n",
    "        search(new_board, a, b, c, d, e - 1, used + 1)\n",
    "    if all((x, y) in board_set for x in range(cx, cx + 4) for y in range(cy, cy + 4)):\n",
    "        new_board = board_set.difference(set((x, y) for x in range(cx, cx + 4) for y in range(cy, cy + 4)))\n",
    "        search(new_board, a, b, c, d - 1, e, used + 1)\n",
    "    if all((x, y) in board_set for x in range(cx, cx + 3) for y in range(cy, cy + 3)):\n",
    "        new_board = board_set.difference(set((x, y) for x in range(cx, cx + 3) for y in range(cy, cy + 3)))\n",
    "        search(new_board, a, b, c - 1, d, e, used + 1)\n",
    "    if all((x, y) in board_set for x in range(cx, cx + 2) for y in range(cy, cy + 2)):\n",
    "        new_board = board_set.difference(set((x, y) for x in range(cx, cx + 2) for y in range(cy, cy + 2)))\n",
    "        search(new_board, a, b - 1, c, d, e, used + 1)\n",
    "    temp = set()\n",
    "    temp.add((cx, cy))\n",
    "    search(board_set.difference(temp), a - 1, b, c, d, e, used + 1)\n",
    "\n",
    "board = set()\n",
    "for y in range(10):\n",
    "    row = input().split()\n",
    "    for x in range(10):\n",
    "        if row[x] == '1':\n",
    "            board.add((x, y))\n",
    "\n",
    "if not board:\n",
    "    print(0)\n",
    "    exit()\n",
    "\n",
    "min_nums = float('inf')\n",
    "search(board)\n",
    "print(min_nums!=float('inf') and min_nums or -1)"
   ]
  },
  {
   "cell_type": "code",
   "execution_count": null,
   "metadata": {
    "collapsed": true
   },
   "outputs": [],
   "source": [
    "# 백준 숏코딩..\n",
    "# 엄청 줄일 수 있을 거 같긴 한데.."
   ]
  }
 ],
 "metadata": {
  "kernelspec": {
   "display_name": "Python 3",
   "language": "python",
   "name": "python3"
  },
  "language_info": {
   "codemirror_mode": {
    "name": "ipython",
    "version": 3
   },
   "file_extension": ".py",
   "mimetype": "text/x-python",
   "name": "python",
   "nbconvert_exporter": "python",
   "pygments_lexer": "ipython3",
   "version": "3.6.3"
  }
 },
 "nbformat": 4,
 "nbformat_minor": 2
}
